{
 "cells": [
  {
   "cell_type": "code",
   "execution_count": 1,
   "id": "b801eb31-b896-4812-8bd3-cb3a337163c2",
   "metadata": {
    "scrolled": true,
    "tags": []
   },
   "outputs": [],
   "source": [
    "import os\n",
    "import numpy as np\n",
    "import pandas as pd\n",
    "\n",
    "import geopandas as gpd\n",
    "import ee, eemont\n",
    "import geemap\n",
    "import geemap.colormaps as geecm\n",
    "\n",
    "import matplotlib.pyplot as plt\n",
    "import cmocean"
   ]
  },
  {
   "cell_type": "markdown",
   "id": "f0e20780-cb96-4022-b758-39df0997f0b1",
   "metadata": {},
   "source": [
    "# 1. Initialization GEE"
   ]
  },
  {
   "cell_type": "code",
   "execution_count": 2,
   "id": "494e7473-f45d-443a-9d23-c917c1bb6bd1",
   "metadata": {
    "tags": []
   },
   "outputs": [
    {
     "data": {
      "text/html": [
       "\n",
       "            <style>\n",
       "                .geemap-dark {\n",
       "                    --jp-widgets-color: white;\n",
       "                    --jp-widgets-label-color: white;\n",
       "                    --jp-ui-font-color1: white;\n",
       "                    --jp-layout-color2: #454545;\n",
       "                    background-color: #383838;\n",
       "                }\n",
       "\n",
       "                .geemap-dark .jupyter-button {\n",
       "                    --jp-layout-color3: #383838;\n",
       "                }\n",
       "\n",
       "                .geemap-colab {\n",
       "                    background-color: var(--colab-primary-surface-color, white);\n",
       "                }\n",
       "\n",
       "                .geemap-colab .jupyter-button {\n",
       "                    --jp-layout-color3: var(--colab-primary-surface-color, white);\n",
       "                }\n",
       "            </style>\n",
       "            "
      ],
      "text/plain": [
       "<IPython.core.display.HTML object>"
      ]
     },
     "metadata": {},
     "output_type": "display_data"
    }
   ],
   "source": [
    "ee.Authenticate()\n",
    "ee.Initialize()"
   ]
  },
  {
   "cell_type": "markdown",
   "id": "53da2c29-298f-439e-8744-1ec6301c9f9e",
   "metadata": {
    "tags": [],
    "toc-hr-collapsed": true
   },
   "source": [
    "# 2. Load GEE datasets + parameters"
   ]
  },
  {
   "cell_type": "code",
   "execution_count": 3,
   "id": "8bcf7695-25e2-4b37-abe8-98ae3a4ecff4",
   "metadata": {
    "tags": []
   },
   "outputs": [
    {
     "data": {
      "text/html": [
       "\n",
       "            <style>\n",
       "                .geemap-dark {\n",
       "                    --jp-widgets-color: white;\n",
       "                    --jp-widgets-label-color: white;\n",
       "                    --jp-ui-font-color1: white;\n",
       "                    --jp-layout-color2: #454545;\n",
       "                    background-color: #383838;\n",
       "                }\n",
       "\n",
       "                .geemap-dark .jupyter-button {\n",
       "                    --jp-layout-color3: #383838;\n",
       "                }\n",
       "\n",
       "                .geemap-colab {\n",
       "                    background-color: var(--colab-primary-surface-color, white);\n",
       "                }\n",
       "\n",
       "                .geemap-colab .jupyter-button {\n",
       "                    --jp-layout-color3: var(--colab-primary-surface-color, white);\n",
       "                }\n",
       "            </style>\n",
       "            "
      ],
      "text/plain": [
       "<IPython.core.display.HTML object>"
      ]
     },
     "metadata": {},
     "output_type": "display_data"
    }
   ],
   "source": [
    "dem_glo30 = ee.ImageCollection(\"COPERNICUS/DEM/GLO30\")"
   ]
  },
  {
   "cell_type": "code",
   "execution_count": 4,
   "id": "34718629-3a54-4928-afb3-39c595c323a9",
   "metadata": {
    "tags": []
   },
   "outputs": [
    {
     "data": {
      "text/html": [
       "\n",
       "            <style>\n",
       "                .geemap-dark {\n",
       "                    --jp-widgets-color: white;\n",
       "                    --jp-widgets-label-color: white;\n",
       "                    --jp-ui-font-color1: white;\n",
       "                    --jp-layout-color2: #454545;\n",
       "                    background-color: #383838;\n",
       "                }\n",
       "\n",
       "                .geemap-dark .jupyter-button {\n",
       "                    --jp-layout-color3: #383838;\n",
       "                }\n",
       "\n",
       "                .geemap-colab {\n",
       "                    background-color: var(--colab-primary-surface-color, white);\n",
       "                }\n",
       "\n",
       "                .geemap-colab .jupyter-button {\n",
       "                    --jp-layout-color3: var(--colab-primary-surface-color, white);\n",
       "                }\n",
       "            </style>\n",
       "            "
      ],
      "text/plain": [
       "<IPython.core.display.HTML object>"
      ]
     },
     "metadata": {},
     "output_type": "display_data"
    }
   ],
   "source": [
    "fc_lia = ee.FeatureCollection('users/aguerou/ice_and_life/carto_h1b/lia_shp/glaciers_1850_final_mars_2025') # demander les références\n",
    "geom_lia = ee.Geometry.convexHull(fc_lia.geometry())"
   ]
  },
  {
   "cell_type": "code",
   "execution_count": 5,
   "id": "2c45b004-6e87-4173-b35a-7df6033adc5c",
   "metadata": {},
   "outputs": [
    {
     "data": {
      "text/html": [
       "\n",
       "            <style>\n",
       "                .geemap-dark {\n",
       "                    --jp-widgets-color: white;\n",
       "                    --jp-widgets-label-color: white;\n",
       "                    --jp-ui-font-color1: white;\n",
       "                    --jp-layout-color2: #454545;\n",
       "                    background-color: #383838;\n",
       "                }\n",
       "\n",
       "                .geemap-dark .jupyter-button {\n",
       "                    --jp-layout-color3: #383838;\n",
       "                }\n",
       "\n",
       "                .geemap-colab {\n",
       "                    background-color: var(--colab-primary-surface-color, white);\n",
       "                }\n",
       "\n",
       "                .geemap-colab .jupyter-button {\n",
       "                    --jp-layout-color3: var(--colab-primary-surface-color, white);\n",
       "                }\n",
       "            </style>\n",
       "            "
      ],
      "text/plain": [
       "<IPython.core.display.HTML object>"
      ]
     },
     "metadata": {},
     "output_type": "display_data"
    }
   ],
   "source": [
    "# Time parameters\n",
    "startYear = 1984\n",
    "endYear = 2024\n",
    "\n",
    "startMonth = 7\n",
    "endMonth = 9\n",
    "\n",
    "date_filter = ee.Filter.calendarRange(7, 9, 'month') \\\n",
    "    .And(ee.Filter.calendarRange(15, None, 'day_of_month')) \\\n",
    "    .And(ee.Filter.calendarRange(None, 15, 'day_of_month'))\n",
    "\n",
    "#Cloud correction\n",
    "cloudThresh = 0.4\n",
    "cloudBuff = 1000\n",
    "cloudCover = 50\n",
    "\n",
    "#\n",
    "\n",
    "SlopeThresh = 20 \n",
    "AltitudeThresh = 1000\n"
   ]
  },
  {
   "cell_type": "markdown",
   "id": "5990cd9e-049d-4523-9d15-9980f6879b18",
   "metadata": {},
   "source": [
    "Scale and projection"
   ]
  },
  {
   "cell_type": "code",
   "execution_count": 6,
   "id": "ab474826-7a6d-45e1-a4f4-a0dbe18765d6",
   "metadata": {
    "tags": []
   },
   "outputs": [
    {
     "data": {
      "text/html": [
       "\n",
       "            <style>\n",
       "                .geemap-dark {\n",
       "                    --jp-widgets-color: white;\n",
       "                    --jp-widgets-label-color: white;\n",
       "                    --jp-ui-font-color1: white;\n",
       "                    --jp-layout-color2: #454545;\n",
       "                    background-color: #383838;\n",
       "                }\n",
       "\n",
       "                .geemap-dark .jupyter-button {\n",
       "                    --jp-layout-color3: #383838;\n",
       "                }\n",
       "\n",
       "                .geemap-colab {\n",
       "                    background-color: var(--colab-primary-surface-color, white);\n",
       "                }\n",
       "\n",
       "                .geemap-colab .jupyter-button {\n",
       "                    --jp-layout-color3: var(--colab-primary-surface-color, white);\n",
       "                }\n",
       "            </style>\n",
       "            "
      ],
      "text/plain": [
       "<IPython.core.display.HTML object>"
      ]
     },
     "metadata": {},
     "output_type": "display_data"
    }
   ],
   "source": [
    "scale = 30 #Landsat 30m\n",
    "projection = \"EPSG:4326\" #GEE le plus stable avec ce SRC"
   ]
  },
  {
   "cell_type": "markdown",
   "id": "e70a143a-56b9-493d-831e-fe946e11f73e",
   "metadata": {},
   "source": [
    "# I. Functions"
   ]
  },
  {
   "cell_type": "markdown",
   "id": "4d338083-579e-4051-9932-b937bc900200",
   "metadata": {},
   "source": [
    "Mask terrain"
   ]
  },
  {
   "cell_type": "code",
   "execution_count": 7,
   "id": "21827fbe-e806-4544-af98-e3842543b28d",
   "metadata": {},
   "outputs": [
    {
     "data": {
      "text/html": [
       "\n",
       "            <style>\n",
       "                .geemap-dark {\n",
       "                    --jp-widgets-color: white;\n",
       "                    --jp-widgets-label-color: white;\n",
       "                    --jp-ui-font-color1: white;\n",
       "                    --jp-layout-color2: #454545;\n",
       "                    background-color: #383838;\n",
       "                }\n",
       "\n",
       "                .geemap-dark .jupyter-button {\n",
       "                    --jp-layout-color3: #383838;\n",
       "                }\n",
       "\n",
       "                .geemap-colab {\n",
       "                    background-color: var(--colab-primary-surface-color, white);\n",
       "                }\n",
       "\n",
       "                .geemap-colab .jupyter-button {\n",
       "                    --jp-layout-color3: var(--colab-primary-surface-color, white);\n",
       "                }\n",
       "            </style>\n",
       "            "
      ],
      "text/plain": [
       "<IPython.core.display.HTML object>"
      ]
     },
     "metadata": {},
     "output_type": "display_data"
    }
   ],
   "source": [
    "def removeValley(image):\n",
    "    return image.updateMask(valley_mask)"
   ]
  },
  {
   "cell_type": "code",
   "execution_count": 8,
   "id": "39a90fd3-68ce-4cdf-bf62-a1f46504a20e",
   "metadata": {},
   "outputs": [
    {
     "data": {
      "text/html": [
       "\n",
       "            <style>\n",
       "                .geemap-dark {\n",
       "                    --jp-widgets-color: white;\n",
       "                    --jp-widgets-label-color: white;\n",
       "                    --jp-ui-font-color1: white;\n",
       "                    --jp-layout-color2: #454545;\n",
       "                    background-color: #383838;\n",
       "                }\n",
       "\n",
       "                .geemap-dark .jupyter-button {\n",
       "                    --jp-layout-color3: #383838;\n",
       "                }\n",
       "\n",
       "                .geemap-colab {\n",
       "                    background-color: var(--colab-primary-surface-color, white);\n",
       "                }\n",
       "\n",
       "                .geemap-colab .jupyter-button {\n",
       "                    --jp-layout-color3: var(--colab-primary-surface-color, white);\n",
       "                }\n",
       "            </style>\n",
       "            "
      ],
      "text/plain": [
       "<IPython.core.display.HTML object>"
      ]
     },
     "metadata": {},
     "output_type": "display_data"
    }
   ],
   "source": [
    "def get_slope(image):\n",
    "    return ee.Terrain.slope(image)"
   ]
  },
  {
   "cell_type": "markdown",
   "id": "db8ab575-3d26-44d8-b386-dfaa539ffe1a",
   "metadata": {},
   "source": [
    "Clouds"
   ]
  },
  {
   "cell_type": "code",
   "execution_count": 9,
   "id": "6d328192-8228-417c-a45b-030277fa5f60",
   "metadata": {},
   "outputs": [
    {
     "data": {
      "text/html": [
       "\n",
       "            <style>\n",
       "                .geemap-dark {\n",
       "                    --jp-widgets-color: white;\n",
       "                    --jp-widgets-label-color: white;\n",
       "                    --jp-ui-font-color1: white;\n",
       "                    --jp-layout-color2: #454545;\n",
       "                    background-color: #383838;\n",
       "                }\n",
       "\n",
       "                .geemap-dark .jupyter-button {\n",
       "                    --jp-layout-color3: #383838;\n",
       "                }\n",
       "\n",
       "                .geemap-colab {\n",
       "                    background-color: var(--colab-primary-surface-color, white);\n",
       "                }\n",
       "\n",
       "                .geemap-colab .jupyter-button {\n",
       "                    --jp-layout-color3: var(--colab-primary-surface-color, white);\n",
       "                }\n",
       "            </style>\n",
       "            "
      ],
      "text/plain": [
       "<IPython.core.display.HTML object>"
      ]
     },
     "metadata": {},
     "output_type": "display_data"
    }
   ],
   "source": [
    "#V2 with comments : à conserver car filtre plus opti que le filtre interne du module\n",
    "def addCloud(image):\n",
    "    # Sélectionner le bande TIR et appliquer une échelle d'unité (unitScale)\n",
    "    TIR = image.select('TIR').unitScale(240, 270).rename('sTIR')\n",
    "    \n",
    "    # Sélectionner le bande SWIR2\n",
    "    SWIR2 = image.select('SWIR2').rename('sSWIR2')\n",
    "    \n",
    "    # Ajouter les bandes sTIR et sSWIR2\n",
    "    temp = TIR.addBands(SWIR2)\n",
    "    \n",
    "    # Ajouter la bande de différence normalisée NDCI\n",
    "    temp2 = temp.addBands(temp.normalizedDifference(['sTIR', 'sSWIR2']).rename('NDCI'))\n",
    "    \n",
    "    # Ajouter une bande NDCIt qui est le seuil des nuages\n",
    "    temp3 = temp2.addBands(temp2.select('NDCI').lte(cloudThresh).rename('NDCIt'))\n",
    "    \n",
    "    # Calculer le masque avec la transformation de distance\n",
    "    mask = temp3.select('NDCIt') \\\n",
    "                .fastDistanceTransform(50, 'pixels', 'squared_euclidean') \\\n",
    "                .sqrt() \\\n",
    "                .multiply(ee.Image.pixelArea().sqrt()) \\\n",
    "                .gt(cloudBuff)\n",
    "    \n",
    "    # Appliquer le masque à l'image \n",
    "    return image.updateMask(mask)"
   ]
  },
  {
   "cell_type": "markdown",
   "id": "cb6368f0-2d47-4f3c-a33f-5b40f5ace78b",
   "metadata": {},
   "source": [
    "Index + scaling factors"
   ]
  },
  {
   "cell_type": "code",
   "execution_count": 10,
   "id": "4b1481b6-10e7-4b0e-a2b9-73005963c1cd",
   "metadata": {
    "scrolled": true
   },
   "outputs": [
    {
     "data": {
      "text/html": [
       "\n",
       "            <style>\n",
       "                .geemap-dark {\n",
       "                    --jp-widgets-color: white;\n",
       "                    --jp-widgets-label-color: white;\n",
       "                    --jp-ui-font-color1: white;\n",
       "                    --jp-layout-color2: #454545;\n",
       "                    background-color: #383838;\n",
       "                }\n",
       "\n",
       "                .geemap-dark .jupyter-button {\n",
       "                    --jp-layout-color3: #383838;\n",
       "                }\n",
       "\n",
       "                .geemap-colab {\n",
       "                    background-color: var(--colab-primary-surface-color, white);\n",
       "                }\n",
       "\n",
       "                .geemap-colab .jupyter-button {\n",
       "                    --jp-layout-color3: var(--colab-primary-surface-color, white);\n",
       "                }\n",
       "            </style>\n",
       "            "
      ],
      "text/plain": [
       "<IPython.core.display.HTML object>"
      ]
     },
     "metadata": {},
     "output_type": "display_data"
    }
   ],
   "source": [
    "#ref calcul des indices : https://doi.org/10.1016/j.rse.2021.112862 (notamment GBR et cloud filter)\n",
    "\n",
    "def addGBR(image):\n",
    "    gbr = image.expression(\n",
    "        'NIR / SWIR1', \n",
    "        {\n",
    "            'NIR': image.select('NIR'),  # Référence à la bande NIR\n",
    "            'SWIR1': image.select('SWIR1')  # Référence à la bande SWIR1\n",
    "        }\n",
    "    )\n",
    "    return image.addBands(gbr.rename('GBR'))"
   ]
  },
  {
   "cell_type": "markdown",
   "id": "7b65fcd9-4864-49b8-a223-1bae5858c101",
   "metadata": {},
   "source": [
    "Clip geometry to LIA"
   ]
  },
  {
   "cell_type": "code",
   "execution_count": 11,
   "id": "19a4cc20-136a-485d-b223-53fe6df47243",
   "metadata": {},
   "outputs": [
    {
     "data": {
      "text/html": [
       "\n",
       "            <style>\n",
       "                .geemap-dark {\n",
       "                    --jp-widgets-color: white;\n",
       "                    --jp-widgets-label-color: white;\n",
       "                    --jp-ui-font-color1: white;\n",
       "                    --jp-layout-color2: #454545;\n",
       "                    background-color: #383838;\n",
       "                }\n",
       "\n",
       "                .geemap-dark .jupyter-button {\n",
       "                    --jp-layout-color3: #383838;\n",
       "                }\n",
       "\n",
       "                .geemap-colab {\n",
       "                    background-color: var(--colab-primary-surface-color, white);\n",
       "                }\n",
       "\n",
       "                .geemap-colab .jupyter-button {\n",
       "                    --jp-layout-color3: var(--colab-primary-surface-color, white);\n",
       "                }\n",
       "            </style>\n",
       "            "
      ],
      "text/plain": [
       "<IPython.core.display.HTML object>"
      ]
     },
     "metadata": {},
     "output_type": "display_data"
    }
   ],
   "source": [
    "def clip_to_lia(image,geom):\n",
    "    return image.clip(geom)"
   ]
  },
  {
   "cell_type": "markdown",
   "id": "1d7873bc-7a0f-436e-82b7-881cb2298315",
   "metadata": {},
   "source": [
    "Get Median"
   ]
  },
  {
   "cell_type": "code",
   "execution_count": 12,
   "id": "8e61a5e0-8835-4032-81c4-5c7c5ad55458",
   "metadata": {
    "scrolled": true
   },
   "outputs": [
    {
     "data": {
      "text/html": [
       "\n",
       "            <style>\n",
       "                .geemap-dark {\n",
       "                    --jp-widgets-color: white;\n",
       "                    --jp-widgets-label-color: white;\n",
       "                    --jp-ui-font-color1: white;\n",
       "                    --jp-layout-color2: #454545;\n",
       "                    background-color: #383838;\n",
       "                }\n",
       "\n",
       "                .geemap-dark .jupyter-button {\n",
       "                    --jp-layout-color3: #383838;\n",
       "                }\n",
       "\n",
       "                .geemap-colab {\n",
       "                    background-color: var(--colab-primary-surface-color, white);\n",
       "                }\n",
       "\n",
       "                .geemap-colab .jupyter-button {\n",
       "                    --jp-layout-color3: var(--colab-primary-surface-color, white);\n",
       "                }\n",
       "            </style>\n",
       "            "
      ],
      "text/plain": [
       "<IPython.core.display.HTML object>"
      ]
     },
     "metadata": {},
     "output_type": "display_data"
    }
   ],
   "source": [
    "# Liste des années\n",
    "years = ee.List.sequence(startYear, endYear)\n",
    "\n",
    "# Fonction de traitement pour chaque année à mettre en haut\n",
    "def process_year(year):\n",
    "    # Filtrer la collection LXtemp pour l'année donnée\n",
    "    start_date = ee.Date.fromYMD(year, 1, 1)\n",
    "    end_date = ee.Date.fromYMD(year, 12, 31)\n",
    "    year_collection = LXtemp.filterDate(start_date, end_date)\n",
    "    # Calculer la médiane pour chaque année (sur les 3 bandes)\n",
    "    annual_median = year_collection.median() \\\n",
    "                         .addBands(ee.Image.constant(ee.Number(year)).toDouble().rename('year')) \\\n",
    "                         .set('year', year) \\\n",
    "                         .selfMask()\n",
    "    \n",
    "    return annual_median\n"
   ]
  },
  {
   "cell_type": "markdown",
   "id": "dc716cc0-102e-4a27-ad57-ff516f09b291",
   "metadata": {},
   "source": [
    "# II. Terrain data / Timeseries Landsat"
   ]
  },
  {
   "cell_type": "markdown",
   "id": "f24bc6f9-1d8b-4831-9bd9-9d42f3123a94",
   "metadata": {},
   "source": [
    "Terrain"
   ]
  },
  {
   "cell_type": "code",
   "execution_count": 13,
   "id": "805d9fb2-f19d-4010-acf0-0d3f189f44e7",
   "metadata": {},
   "outputs": [
    {
     "data": {
      "text/html": [
       "\n",
       "            <style>\n",
       "                .geemap-dark {\n",
       "                    --jp-widgets-color: white;\n",
       "                    --jp-widgets-label-color: white;\n",
       "                    --jp-ui-font-color1: white;\n",
       "                    --jp-layout-color2: #454545;\n",
       "                    background-color: #383838;\n",
       "                }\n",
       "\n",
       "                .geemap-dark .jupyter-button {\n",
       "                    --jp-layout-color3: #383838;\n",
       "                }\n",
       "\n",
       "                .geemap-colab {\n",
       "                    background-color: var(--colab-primary-surface-color, white);\n",
       "                }\n",
       "\n",
       "                .geemap-colab .jupyter-button {\n",
       "                    --jp-layout-color3: var(--colab-primary-surface-color, white);\n",
       "                }\n",
       "            </style>\n",
       "            "
      ],
      "text/plain": [
       "<IPython.core.display.HTML object>"
      ]
     },
     "metadata": {},
     "output_type": "display_data"
    }
   ],
   "source": [
    "dem = ee.ImageCollection(dem_glo30).filterBounds(fc_lia).select(\"DEM\")\n",
    "dem_mosaic = dem.mosaic().clip(fc_lia)\n",
    "slope = dem.map(get_slope).mosaic().clip(fc_lia) \\\n",
    "#need to map on single image for slope function to work fine\n",
    "\n",
    "slope_mask = slope.lt(SlopeThresh)\n",
    "valley_mask = dem_mosaic.gt(AltitudeThresh)"
   ]
  },
  {
   "cell_type": "markdown",
   "id": "2d5113c0-3f3b-42a6-ad1f-9eacfebaa947",
   "metadata": {},
   "source": [
    "Landsat"
   ]
  },
  {
   "cell_type": "code",
   "execution_count": 14,
   "id": "eee79236-12c3-416b-a763-d3f9aaa398ca",
   "metadata": {
    "scrolled": true
   },
   "outputs": [
    {
     "data": {
      "text/html": [
       "\n",
       "            <style>\n",
       "                .geemap-dark {\n",
       "                    --jp-widgets-color: white;\n",
       "                    --jp-widgets-label-color: white;\n",
       "                    --jp-ui-font-color1: white;\n",
       "                    --jp-layout-color2: #454545;\n",
       "                    background-color: #383838;\n",
       "                }\n",
       "\n",
       "                .geemap-dark .jupyter-button {\n",
       "                    --jp-layout-color3: #383838;\n",
       "                }\n",
       "\n",
       "                .geemap-colab {\n",
       "                    background-color: var(--colab-primary-surface-color, white);\n",
       "                }\n",
       "\n",
       "                .geemap-colab .jupyter-button {\n",
       "                    --jp-layout-color3: var(--colab-primary-surface-color, white);\n",
       "                }\n",
       "            </style>\n",
       "            "
      ],
      "text/plain": [
       "<IPython.core.display.HTML object>"
      ]
     },
     "metadata": {},
     "output_type": "display_data"
    }
   ],
   "source": [
    "#ajouter les bandes correspondantes # virer Qa pixel\n",
    "L5 = ee.ImageCollection(\"LANDSAT/LT05/C02/T1_L2\") \\\n",
    "            .filter(ee.Filter.calendarRange(startMonth, endMonth,'month')) \\\n",
    "            .filterBounds(fc_lia) \\\n",
    "            .filterMetadata(\"CLOUD_COVER\", \"less_than\", cloudCover) \\\n",
    "            .scaleAndOffset() \\\n",
    "            .map(lambda image: clip_to_lia(image,fc_lia)) \\\n",
    "            .spectralIndices([\"NDWI\",\"NDVI\",\"NDSI\",\"BITM\"]) \\\n",
    "            .select(['SR_B1','SR_B2', 'SR_B3', 'SR_B4', 'SR_B5','SR_B7','ST_B6',\"NDWI\",\"NDVI\",\"NDSI\",\"BITM\"], \\\n",
    "                    ['BLUE','GREEN', 'RED', 'NIR', 'SWIR1','SWIR2','TIR',\"NDWI\",\"NDVI\",\"NDSI\",\"BITM\"])\n",
    "\n",
    "L7 = ee.ImageCollection(\"LANDSAT/LE07/C02/T1_L2\") \\\n",
    "            .filter(ee.Filter.calendarRange(startMonth, endMonth,'month')) \\\n",
    "            .filterBounds(fc_lia) \\\n",
    "            .filterMetadata('CLOUD_COVER', 'less_than', cloudCover) \\\n",
    "            .scaleAndOffset() \\\n",
    "            .map(lambda image: clip_to_lia(image,fc_lia)) \\\n",
    "            .spectralIndices([\"NDWI\",\"NDVI\",\"NDSI\",\"BITM\"]) \\\n",
    "            .select(['SR_B1','SR_B2', 'SR_B3', 'SR_B4', 'SR_B5','SR_B7','ST_B6',\"NDWI\",\"NDVI\",\"NDSI\",\"BITM\"],['BLUE','GREEN', 'RED', 'NIR', 'SWIR1','SWIR2','TIR',\"NDWI\",\"NDVI\",\"NDSI\",\"BITM\"])\n",
    "\n",
    "L8 = ee.ImageCollection(\"LANDSAT/LC08/C02/T1_L2\") \\\n",
    "            .filter(ee.Filter.calendarRange(startMonth, endMonth,'month')) \\\n",
    "            .filterBounds(fc_lia) \\\n",
    "            .filterMetadata('CLOUD_COVER', 'less_than', cloudCover) \\\n",
    "            .scaleAndOffset() \\\n",
    "            .map(lambda image: clip_to_lia(image,fc_lia)) \\\n",
    "            .spectralIndices([\"NDWI\",\"NDVI\",\"NDSI\",\"BITM\"]) \\\n",
    "            .select(['SR_B2','SR_B3', 'SR_B4', 'SR_B5', 'SR_B6','SR_B7','ST_B10',\"NDWI\",\"NDVI\",\"NDSI\",\"BITM\"], \\\n",
    "                    ['BLUE','GREEN', 'RED', 'NIR', 'SWIR1','SWIR2','TIR',\"NDWI\",\"NDVI\",\"NDSI\",\"BITM\"])"
   ]
  },
  {
   "cell_type": "code",
   "execution_count": 15,
   "id": "c01cd187-9fd0-4641-bf24-ff55446366d9",
   "metadata": {},
   "outputs": [
    {
     "data": {
      "text/html": [
       "\n",
       "            <style>\n",
       "                .geemap-dark {\n",
       "                    --jp-widgets-color: white;\n",
       "                    --jp-widgets-label-color: white;\n",
       "                    --jp-ui-font-color1: white;\n",
       "                    --jp-layout-color2: #454545;\n",
       "                    background-color: #383838;\n",
       "                }\n",
       "\n",
       "                .geemap-dark .jupyter-button {\n",
       "                    --jp-layout-color3: #383838;\n",
       "                }\n",
       "\n",
       "                .geemap-colab {\n",
       "                    background-color: var(--colab-primary-surface-color, white);\n",
       "                }\n",
       "\n",
       "                .geemap-colab .jupyter-button {\n",
       "                    --jp-layout-color3: var(--colab-primary-surface-color, white);\n",
       "                }\n",
       "            </style>\n",
       "            "
      ],
      "text/plain": [
       "<IPython.core.display.HTML object>"
      ]
     },
     "metadata": {},
     "output_type": "display_data"
    }
   ],
   "source": [
    "L5_filtered=L5.filter(ee.Filter.dayOfYear(196, 258))\n",
    "L7_filtered=L7.filter(ee.Filter.dayOfYear(196, 258))\n",
    "L8_filtered=L8.filter(ee.Filter.dayOfYear(196, 258))"
   ]
  },
  {
   "cell_type": "code",
   "execution_count": 16,
   "id": "4e635e3a-b919-401e-82c2-997d6e3b428a",
   "metadata": {
    "scrolled": true
   },
   "outputs": [
    {
     "data": {
      "text/html": [
       "\n",
       "            <style>\n",
       "                .geemap-dark {\n",
       "                    --jp-widgets-color: white;\n",
       "                    --jp-widgets-label-color: white;\n",
       "                    --jp-ui-font-color1: white;\n",
       "                    --jp-layout-color2: #454545;\n",
       "                    background-color: #383838;\n",
       "                }\n",
       "\n",
       "                .geemap-dark .jupyter-button {\n",
       "                    --jp-layout-color3: #383838;\n",
       "                }\n",
       "\n",
       "                .geemap-colab {\n",
       "                    background-color: var(--colab-primary-surface-color, white);\n",
       "                }\n",
       "\n",
       "                .geemap-colab .jupyter-button {\n",
       "                    --jp-layout-color3: var(--colab-primary-surface-color, white);\n",
       "                }\n",
       "            </style>\n",
       "            "
      ],
      "text/plain": [
       "<IPython.core.display.HTML object>"
      ]
     },
     "metadata": {},
     "output_type": "display_data"
    }
   ],
   "source": [
    "LXtemp = L5_filtered.merge(L7_filtered).merge(L8_filtered) \\\n",
    "                .map(addCloud) \\\n",
    "                .map(addGBR)  "
   ]
  },
  {
   "cell_type": "code",
   "execution_count": 38,
   "id": "c1c6c366-a624-45da-9ef4-6c2743f3670a",
   "metadata": {},
   "outputs": [
    {
     "data": {
      "text/html": [
       "\n",
       "            <style>\n",
       "                .geemap-dark {\n",
       "                    --jp-widgets-color: white;\n",
       "                    --jp-widgets-label-color: white;\n",
       "                    --jp-ui-font-color1: white;\n",
       "                    --jp-layout-color2: #454545;\n",
       "                    background-color: #383838;\n",
       "                }\n",
       "\n",
       "                .geemap-dark .jupyter-button {\n",
       "                    --jp-layout-color3: #383838;\n",
       "                }\n",
       "\n",
       "                .geemap-colab {\n",
       "                    background-color: var(--colab-primary-surface-color, white);\n",
       "                }\n",
       "\n",
       "                .geemap-colab .jupyter-button {\n",
       "                    --jp-layout-color3: var(--colab-primary-surface-color, white);\n",
       "                }\n",
       "            </style>\n",
       "            "
      ],
      "text/plain": [
       "<IPython.core.display.HTML object>"
      ]
     },
     "metadata": {},
     "output_type": "display_data"
    },
    {
     "ename": "TypeError",
     "evalue": "'module' object is not callable",
     "output_type": "error",
     "traceback": [
      "\u001b[31m---------------------------------------------------------------------------\u001b[39m",
      "\u001b[31mTypeError\u001b[39m                                 Traceback (most recent call last)",
      "\u001b[36mCell\u001b[39m\u001b[36m \u001b[39m\u001b[32mIn[38]\u001b[39m\u001b[32m, line 1\u001b[39m\n\u001b[32m----> \u001b[39m\u001b[32m1\u001b[39m image_example = \u001b[43mee\u001b[49m\u001b[43m.\u001b[49m\u001b[43mimage\u001b[49m\u001b[43m(\u001b[49m\u001b[43mLXtemp\u001b[49m\u001b[43m.\u001b[49m\u001b[43mfirst\u001b[49m\u001b[43m)\u001b[49m\n",
      "\u001b[31mTypeError\u001b[39m: 'module' object is not callable"
     ]
    }
   ],
   "source": [
    "LXtemp"
   ]
  },
  {
   "cell_type": "code",
   "execution_count": 37,
   "id": "813d8b10-a0af-48df-8d38-ebe1ef95fe56",
   "metadata": {},
   "outputs": [
    {
     "data": {
      "text/html": [
       "\n",
       "            <style>\n",
       "                .geemap-dark {\n",
       "                    --jp-widgets-color: white;\n",
       "                    --jp-widgets-label-color: white;\n",
       "                    --jp-ui-font-color1: white;\n",
       "                    --jp-layout-color2: #454545;\n",
       "                    background-color: #383838;\n",
       "                }\n",
       "\n",
       "                .geemap-dark .jupyter-button {\n",
       "                    --jp-layout-color3: #383838;\n",
       "                }\n",
       "\n",
       "                .geemap-colab {\n",
       "                    background-color: var(--colab-primary-surface-color, white);\n",
       "                }\n",
       "\n",
       "                .geemap-colab .jupyter-button {\n",
       "                    --jp-layout-color3: var(--colab-primary-surface-color, white);\n",
       "                }\n",
       "            </style>\n",
       "            "
      ],
      "text/plain": [
       "<IPython.core.display.HTML object>"
      ]
     },
     "metadata": {},
     "output_type": "display_data"
    },
    {
     "ename": "TypeError",
     "evalue": "'module' object is not callable",
     "output_type": "error",
     "traceback": [
      "\u001b[31m---------------------------------------------------------------------------\u001b[39m",
      "\u001b[31mTypeError\u001b[39m                                 Traceback (most recent call last)",
      "\u001b[36mCell\u001b[39m\u001b[36m \u001b[39m\u001b[32mIn[37]\u001b[39m\u001b[32m, line 2\u001b[39m\n\u001b[32m      1\u001b[39m \u001b[38;5;66;03m# Exporter une image pour estimer sa taille réelle\u001b[39;00m\n\u001b[32m----> \u001b[39m\u001b[32m2\u001b[39m image_example = \u001b[43mee\u001b[49m\u001b[43m.\u001b[49m\u001b[43mimage\u001b[49m\u001b[43m(\u001b[49m\u001b[43mLXtemp\u001b[49m\u001b[43m.\u001b[49m\u001b[43mfirst\u001b[49m\u001b[43m)\u001b[49m\n\u001b[32m      3\u001b[39m geemap.ee_export_image_to_drive({\n\u001b[32m      4\u001b[39m     \u001b[33m'\u001b[39m\u001b[33mimage\u001b[39m\u001b[33m'\u001b[39m: image_example,\n\u001b[32m      5\u001b[39m     \u001b[33m'\u001b[39m\u001b[33mdescription\u001b[39m\u001b[33m'\u001b[39m: \u001b[33m'\u001b[39m\u001b[33mexample_image_export\u001b[39m\u001b[33m'\u001b[39m,\n\u001b[32m   (...)\u001b[39m\u001b[32m      8\u001b[39m     \u001b[33m'\u001b[39m\u001b[33mfileFormat\u001b[39m\u001b[33m'\u001b[39m: \u001b[33m'\u001b[39m\u001b[33mGeoTIFF\u001b[39m\u001b[33m'\u001b[39m\n\u001b[32m      9\u001b[39m })\n",
      "\u001b[31mTypeError\u001b[39m: 'module' object is not callable"
     ]
    }
   ],
   "source": [
    "# Exporter une image pour estimer sa taille réelle\n",
    "\n",
    "geemap.ee_export_image_to_drive({\n",
    "    'image': image_example,\n",
    "    'description': 'example_image_export',\n",
    "    'scale': 30,\n",
    "    'region': image_example.geometry(),\n",
    "    'fileFormat': 'GeoTIFF'\n",
    "})"
   ]
  },
  {
   "cell_type": "code",
   "execution_count": 18,
   "id": "8ba5c27d-df62-46b4-9801-ebc420f6d5e9",
   "metadata": {},
   "outputs": [
    {
     "data": {
      "text/html": [
       "\n",
       "            <style>\n",
       "                .geemap-dark {\n",
       "                    --jp-widgets-color: white;\n",
       "                    --jp-widgets-label-color: white;\n",
       "                    --jp-ui-font-color1: white;\n",
       "                    --jp-layout-color2: #454545;\n",
       "                    background-color: #383838;\n",
       "                }\n",
       "\n",
       "                .geemap-dark .jupyter-button {\n",
       "                    --jp-layout-color3: #383838;\n",
       "                }\n",
       "\n",
       "                .geemap-colab {\n",
       "                    background-color: var(--colab-primary-surface-color, white);\n",
       "                }\n",
       "\n",
       "                .geemap-colab .jupyter-button {\n",
       "                    --jp-layout-color3: var(--colab-primary-surface-color, white);\n",
       "                }\n",
       "            </style>\n",
       "            "
      ],
      "text/plain": [
       "<IPython.core.display.HTML object>"
      ]
     },
     "metadata": {},
     "output_type": "display_data"
    },
    {
     "data": {
      "image/png": "[encoded data removed]",
      "text/plain": [
       "<Figure size 800x600 with 1 Axes>"
      ]
     },
     "metadata": {},
     "output_type": "display_data"
    }
   ],
   "source": [
    "# Fonction pour ajouter l'année comme propriété\n",
    "def add_year(image):\n",
    "    year = image.date().get('year')\n",
    "    return image.set('year', year)\n",
    "\n",
    "with_year = LXtemp.map(add_year)\n",
    "\n",
    "# Utiliser reduceColumns pour obtenir un histogramme de fréquence sur la propriété 'year'\n",
    "count_by_year = with_year.reduceColumns(\n",
    "    reducer=ee.Reducer.frequencyHistogram(),\n",
    "    selectors=['year']\n",
    ").get('histogram')\n",
    "\n",
    "# Obtenir le résultat \n",
    "count_by_year_dict = count_by_year.getInfo()\n",
    "xticks = list(range(1985, 2026, 5))\n",
    "start_year = 1985\n",
    "end_year = 2024\n",
    "\n",
    "years_all = [int(y) for y in count_by_year_dict.keys()]\n",
    "years_filtered = [y for y in years_all if start_year <= y <= end_year]\n",
    "years_filtered.sort()\n",
    "\n",
    "counts_filtered = [count_by_year_dict[str(y)] if str(y) in count_by_year_dict else 0 for y in years_filtered]\n",
    "\n",
    "plt.figure(figsize=(8,6))\n",
    "plt.bar(years_filtered, counts_filtered, color='skyblue')\n",
    "plt.xlabel('Year')\n",
    "plt.ylabel('Number of images')\n",
    "plt.title('Number of satellite images per year (1995 to 2024)')\n",
    "plt.xticks(xticks, rotation=45)\n",
    "plt.grid(axis='y', linestyle='--', alpha=0.7)\n",
    "plt.tight_layout()\n",
    "plt.show()"
   ]
  },
  {
   "cell_type": "code",
   "execution_count": 25,
   "id": "5dcd18b9-558c-4439-aeb4-e6eec2e52d7d",
   "metadata": {},
   "outputs": [
    {
     "data": {
      "text/html": [
       "\n",
       "            <style>\n",
       "                .geemap-dark {\n",
       "                    --jp-widgets-color: white;\n",
       "                    --jp-widgets-label-color: white;\n",
       "                    --jp-ui-font-color1: white;\n",
       "                    --jp-layout-color2: #454545;\n",
       "                    background-color: #383838;\n",
       "                }\n",
       "\n",
       "                .geemap-dark .jupyter-button {\n",
       "                    --jp-layout-color3: #383838;\n",
       "                }\n",
       "\n",
       "                .geemap-colab {\n",
       "                    background-color: var(--colab-primary-surface-color, white);\n",
       "                }\n",
       "\n",
       "                .geemap-colab .jupyter-button {\n",
       "                    --jp-layout-color3: var(--colab-primary-surface-color, white);\n",
       "                }\n",
       "            </style>\n",
       "            "
      ],
      "text/plain": [
       "<IPython.core.display.HTML object>"
      ]
     },
     "metadata": {},
     "output_type": "display_data"
    },
    {
     "name": "stdout",
     "output_type": "stream",
     "text": [
      "Nombre total d'images : 940\n"
     ]
    }
   ],
   "source": [
    "total_images = sum(count_by_year_dict.values())\n",
    "print(\"Nombre total d'images :\", total_images)"
   ]
  },
  {
   "cell_type": "code",
   "execution_count": 17,
   "id": "ed4137f5-1af5-410d-b9d1-17e4c1de19f8",
   "metadata": {},
   "outputs": [
    {
     "data": {
      "text/html": [
       "\n",
       "            <style>\n",
       "                .geemap-dark {\n",
       "                    --jp-widgets-color: white;\n",
       "                    --jp-widgets-label-color: white;\n",
       "                    --jp-ui-font-color1: white;\n",
       "                    --jp-layout-color2: #454545;\n",
       "                    background-color: #383838;\n",
       "                }\n",
       "\n",
       "                .geemap-dark .jupyter-button {\n",
       "                    --jp-layout-color3: #383838;\n",
       "                }\n",
       "\n",
       "                .geemap-colab {\n",
       "                    background-color: var(--colab-primary-surface-color, white);\n",
       "                }\n",
       "\n",
       "                .geemap-colab .jupyter-button {\n",
       "                    --jp-layout-color3: var(--colab-primary-surface-color, white);\n",
       "                }\n",
       "            </style>\n",
       "            "
      ],
      "text/plain": [
       "<IPython.core.display.HTML object>"
      ]
     },
     "metadata": {},
     "output_type": "display_data"
    }
   ],
   "source": [
    "annualCollection = ee.ImageCollection(years.map(process_year))"
   ]
  },
  {
   "cell_type": "code",
   "execution_count": 18,
   "id": "1100147e-e0dd-48a6-b269-a3755ec21a8d",
   "metadata": {},
   "outputs": [
    {
     "data": {
      "text/html": [
       "\n",
       "            <style>\n",
       "                .geemap-dark {\n",
       "                    --jp-widgets-color: white;\n",
       "                    --jp-widgets-label-color: white;\n",
       "                    --jp-ui-font-color1: white;\n",
       "                    --jp-layout-color2: #454545;\n",
       "                    background-color: #383838;\n",
       "                }\n",
       "\n",
       "                .geemap-dark .jupyter-button {\n",
       "                    --jp-layout-color3: #383838;\n",
       "                }\n",
       "\n",
       "                .geemap-colab {\n",
       "                    background-color: var(--colab-primary-surface-color, white);\n",
       "                }\n",
       "\n",
       "                .geemap-colab .jupyter-button {\n",
       "                    --jp-layout-color3: var(--colab-primary-surface-color, white);\n",
       "                }\n",
       "            </style>\n",
       "            "
      ],
      "text/plain": [
       "<IPython.core.display.HTML object>"
      ]
     },
     "metadata": {},
     "output_type": "display_data"
    },
    {
     "name": "stderr",
     "output_type": "stream",
     "text": [
      "C:\\Users\\ronir\\anaconda3\\envs\\gee\\Lib\\site-packages\\IPython\\core\\formatters.py:406: UserWarning: Getting info failed with: 'User memory limit exceeded.'. Falling back to string repr.\n",
      "  return method()\n"
     ]
    },
    {
     "data": {
      "text/html": [
       "<pre>&lt;ee.imagecollection.ImageCollection object at 0x0000023FAD42DC10&gt;</pre>"
      ],
      "text/plain": [
       "<ee.imagecollection.ImageCollection at 0x23fad42dc10>"
      ]
     },
     "execution_count": 18,
     "metadata": {},
     "output_type": "execute_result"
    }
   ],
   "source": [
    "annualCollection"
   ]
  },
  {
   "cell_type": "code",
   "execution_count": 31,
   "id": "9b2e4af9-a212-4f05-8e25-c79fcc4f4c37",
   "metadata": {
    "scrolled": true
   },
   "outputs": [
    {
     "data": {
      "text/html": [
       "\n",
       "            <style>\n",
       "                .geemap-dark {\n",
       "                    --jp-widgets-color: white;\n",
       "                    --jp-widgets-label-color: white;\n",
       "                    --jp-ui-font-color1: white;\n",
       "                    --jp-layout-color2: #454545;\n",
       "                    background-color: #383838;\n",
       "                }\n",
       "\n",
       "                .geemap-dark .jupyter-button {\n",
       "                    --jp-layout-color3: #383838;\n",
       "                }\n",
       "\n",
       "                .geemap-colab {\n",
       "                    background-color: var(--colab-primary-surface-color, white);\n",
       "                }\n",
       "\n",
       "                .geemap-colab .jupyter-button {\n",
       "                    --jp-layout-color3: var(--colab-primary-surface-color, white);\n",
       "                }\n",
       "            </style>\n",
       "            "
      ],
      "text/plain": [
       "<IPython.core.display.HTML object>"
      ]
     },
     "metadata": {},
     "output_type": "display_data"
    }
   ],
   "source": [
    "# Loop through each image in the annualCollection and export it\n",
    "for i in range(annualCollection.size().getInfo()):\n",
    "    image = ee.Image(annualCollection.toList(annualCollection.size()).get(i))\n",
    "    \n",
    "    \n",
    "    # Export the image\n",
    "    geemap.ee_export_image_to_asset(\n",
    "        image=image,\n",
    "        description=None,\n",
    "        assetId=f'projects/ee-roniritzganem/assets/stage_carrtel_2025/landsat_annual_median_index/Landsat_{1983+i}',\n",
    "        region=geom_lia,\n",
    "        scale=scale,\n",
    "        maxPixels=1e13,\n",
    "        crs=projection\n",
    "    )"
   ]
  }
 ],
 "metadata": {
  "kernelspec": {
   "display_name": "Python 3 (ipykernel)",
   "language": "python",
   "name": "python3"
  },
  "language_info": {
   "codemirror_mode": {
    "name": "ipython",
    "version": 3
   },
   "file_extension": ".py",
   "mimetype": "text/x-python",
   "name": "python",
   "nbconvert_exporter": "python",
   "pygments_lexer": "ipython3",
   "version": "3.11.11"
  }
 },
 "nbformat": 4,
 "nbformat_minor": 5
}
