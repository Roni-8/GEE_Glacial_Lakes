{
 "cells": [
  {
   "cell_type": "code",
   "execution_count": 1,
   "id": "b565cadc-2712-4e84-b53b-aad8e07371d1",
   "metadata": {},
   "outputs": [],
   "source": [
    "from pyce import raster as pyraster \n",
    "from pyce import shape as pyshape\n",
    "import pyce"
   ]
  },
  {
   "cell_type": "code",
   "execution_count": 2,
   "id": "830412ed-b6c7-4790-86ea-69f9f4f1627b",
   "metadata": {},
   "outputs": [],
   "source": [
    "import ee, geemap, eemont\n",
    "import rioxarray\n",
    "import geopandas as gpd\n",
    "from geopandas import GeoSeries as Gs\n",
    "import pandas as pd\n",
    "import os\n",
    "\n",
    "import folium"
   ]
  },
  {
   "cell_type": "code",
   "execution_count": 11,
   "id": "f5eed1d3-a9ee-4070-b23a-ea63eb2ba13e",
   "metadata": {},
   "outputs": [
    {
     "data": {
      "text/html": [
       "\n",
       "            <style>\n",
       "                .geemap-dark {\n",
       "                    --jp-widgets-color: white;\n",
       "                    --jp-widgets-label-color: white;\n",
       "                    --jp-ui-font-color1: white;\n",
       "                    --jp-layout-color2: #454545;\n",
       "                    background-color: #383838;\n",
       "                }\n",
       "\n",
       "                .geemap-dark .jupyter-button {\n",
       "                    --jp-layout-color3: #383838;\n",
       "                }\n",
       "\n",
       "                .geemap-colab {\n",
       "                    background-color: var(--colab-primary-surface-color, white);\n",
       "                }\n",
       "\n",
       "                .geemap-colab .jupyter-button {\n",
       "                    --jp-layout-color3: var(--colab-primary-surface-color, white);\n",
       "                }\n",
       "            </style>\n",
       "            "
      ],
      "text/plain": [
       "<IPython.core.display.HTML object>"
      ]
     },
     "metadata": {},
     "output_type": "display_data"
    }
   ],
   "source": [
    "ee.Authenticate()\n",
    "ee.Initialize()"
   ]
  },
  {
   "cell_type": "markdown",
   "id": "1f778736-b222-4f14-a716-03256bbb5608",
   "metadata": {},
   "source": [
    "-----------------------------------------"
   ]
  },
  {
   "cell_type": "markdown",
   "id": "1b376593-b006-42cd-b3eb-ccdd5af00bd7",
   "metadata": {},
   "source": [
    "ts and geometry import"
   ]
  },
  {
   "cell_type": "code",
   "execution_count": 3,
   "id": "b7b6fcba-8fd4-4d0e-baeb-1080b6d89583",
   "metadata": {},
   "outputs": [
    {
     "data": {
      "text/html": [
       "\n",
       "            <style>\n",
       "                .geemap-dark {\n",
       "                    --jp-widgets-color: white;\n",
       "                    --jp-widgets-label-color: white;\n",
       "                    --jp-ui-font-color1: white;\n",
       "                    --jp-layout-color2: #454545;\n",
       "                    background-color: #383838;\n",
       "                }\n",
       "\n",
       "                .geemap-dark .jupyter-button {\n",
       "                    --jp-layout-color3: #383838;\n",
       "                }\n",
       "\n",
       "                .geemap-colab {\n",
       "                    background-color: var(--colab-primary-surface-color, white);\n",
       "                }\n",
       "\n",
       "                .geemap-colab .jupyter-button {\n",
       "                    --jp-layout-color3: var(--colab-primary-surface-color, white);\n",
       "                }\n",
       "            </style>\n",
       "            "
      ],
      "text/plain": [
       "<IPython.core.display.HTML object>"
      ]
     },
     "metadata": {},
     "output_type": "display_data"
    }
   ],
   "source": [
    "# Dossier contenant les fichiers raster\n",
    "folder = \"C:/Users/ronir/Desktop/Google_Earth_Engine/Export/Vectorisation_V1\"\n",
    "\n",
    "# Charger tous les rasters de 1984 à 2024\n",
    "glacier_raster = {\n",
    "    year: rioxarray.open_rasterio(f\"{folder}/GLACIER_{year}.tif\")\n",
    "    for year in range(1984, 2025) \n",
    "}"
   ]
  },
  {
   "cell_type": "code",
   "execution_count": 4,
   "id": "e24699e8-9f8c-48b0-9b71-6f4f90e321f0",
   "metadata": {},
   "outputs": [
    {
     "data": {
      "text/html": [
       "\n",
       "            <style>\n",
       "                .geemap-dark {\n",
       "                    --jp-widgets-color: white;\n",
       "                    --jp-widgets-label-color: white;\n",
       "                    --jp-ui-font-color1: white;\n",
       "                    --jp-layout-color2: #454545;\n",
       "                    background-color: #383838;\n",
       "                }\n",
       "\n",
       "                .geemap-dark .jupyter-button {\n",
       "                    --jp-layout-color3: #383838;\n",
       "                }\n",
       "\n",
       "                .geemap-colab {\n",
       "                    background-color: var(--colab-primary-surface-color, white);\n",
       "                }\n",
       "\n",
       "                .geemap-colab .jupyter-button {\n",
       "                    --jp-layout-color3: var(--colab-primary-surface-color, white);\n",
       "                }\n",
       "            </style>\n",
       "            "
      ],
      "text/plain": [
       "<IPython.core.display.HTML object>"
      ]
     },
     "metadata": {},
     "output_type": "display_data"
    }
   ],
   "source": [
    "# Dossier contenant les fichiers raster\n",
    "folder = \"C:/Users/ronir/Desktop/Google_Earth_Engine/Export/Vectorisation_V1\"\n",
    "\n",
    "# Charger tous les rasters de 1984 à 2024\n",
    "water_rasters = {\n",
    "    year: rioxarray.open_rasterio(f\"{folder}/WATER_{year}.tif\")\n",
    "    for year in range(1984, 2025)\n",
    "}\n"
   ]
  },
  {
   "cell_type": "code",
   "execution_count": 5,
   "id": "3fa903e6-7341-46bc-a639-a1b7762c4993",
   "metadata": {},
   "outputs": [
    {
     "data": {
      "text/html": [
       "\n",
       "            <style>\n",
       "                .geemap-dark {\n",
       "                    --jp-widgets-color: white;\n",
       "                    --jp-widgets-label-color: white;\n",
       "                    --jp-ui-font-color1: white;\n",
       "                    --jp-layout-color2: #454545;\n",
       "                    background-color: #383838;\n",
       "                }\n",
       "\n",
       "                .geemap-dark .jupyter-button {\n",
       "                    --jp-layout-color3: #383838;\n",
       "                }\n",
       "\n",
       "                .geemap-colab {\n",
       "                    background-color: var(--colab-primary-surface-color, white);\n",
       "                }\n",
       "\n",
       "                .geemap-colab .jupyter-button {\n",
       "                    --jp-layout-color3: var(--colab-primary-surface-color, white);\n",
       "                }\n",
       "            </style>\n",
       "            "
      ],
      "text/plain": [
       "<IPython.core.display.HTML object>"
      ]
     },
     "metadata": {},
     "output_type": "display_data"
    }
   ],
   "source": [
    "water_raster_2014_slope_10=rioxarray.open_rasterio(\"C:/Users/ronir/Desktop/Google_Earth_Engine/Export/Vectorisation_V1/WATER_2014_slope_10.tif\")"
   ]
  },
  {
   "cell_type": "code",
   "execution_count": 6,
   "id": "602267a7-0152-46fa-b5b5-adbfcf0cacc2",
   "metadata": {},
   "outputs": [
    {
     "data": {
      "text/html": [
       "\n",
       "            <style>\n",
       "                .geemap-dark {\n",
       "                    --jp-widgets-color: white;\n",
       "                    --jp-widgets-label-color: white;\n",
       "                    --jp-ui-font-color1: white;\n",
       "                    --jp-layout-color2: #454545;\n",
       "                    background-color: #383838;\n",
       "                }\n",
       "\n",
       "                .geemap-dark .jupyter-button {\n",
       "                    --jp-layout-color3: #383838;\n",
       "                }\n",
       "\n",
       "                .geemap-colab {\n",
       "                    background-color: var(--colab-primary-surface-color, white);\n",
       "                }\n",
       "\n",
       "                .geemap-colab .jupyter-button {\n",
       "                    --jp-layout-color3: var(--colab-primary-surface-color, white);\n",
       "                }\n",
       "            </style>\n",
       "            "
      ],
      "text/plain": [
       "<IPython.core.display.HTML object>"
      ]
     },
     "metadata": {},
     "output_type": "display_data"
    }
   ],
   "source": [
    "geom_RGI_FR_2015_gdf=gpd.read_file('C:/Users/ronir/Desktop/Stage_Carrtel_2025/QGIS/Export_RGI_LIA/rgi_fr_2015.kml')\n",
    "geom_RGI_FR_2000_gdf=gpd.read_file('C:/Users/ronir/Desktop/Stage_Carrtel_2025/QGIS/Export_RGI_LIA/rgi_fr_2000.kml')"
   ]
  },
  {
   "cell_type": "code",
   "execution_count": 7,
   "id": "bd1fc652-fb13-4dc6-a20b-c5c8bdbdeb71",
   "metadata": {},
   "outputs": [
    {
     "data": {
      "text/html": [
       "\n",
       "            <style>\n",
       "                .geemap-dark {\n",
       "                    --jp-widgets-color: white;\n",
       "                    --jp-widgets-label-color: white;\n",
       "                    --jp-ui-font-color1: white;\n",
       "                    --jp-layout-color2: #454545;\n",
       "                    background-color: #383838;\n",
       "                }\n",
       "\n",
       "                .geemap-dark .jupyter-button {\n",
       "                    --jp-layout-color3: #383838;\n",
       "                }\n",
       "\n",
       "                .geemap-colab {\n",
       "                    background-color: var(--colab-primary-surface-color, white);\n",
       "                }\n",
       "\n",
       "                .geemap-colab .jupyter-button {\n",
       "                    --jp-layout-color3: var(--colab-primary-surface-color, white);\n",
       "                }\n",
       "            </style>\n",
       "            "
      ],
      "text/plain": [
       "<IPython.core.display.HTML object>"
      ]
     },
     "metadata": {},
     "output_type": "display_data"
    }
   ],
   "source": [
    "geom_RGI_FR_2015_to_export=pyshape.remove_linestring(geom_RGI_FR_2015_gdf)\n",
    "geom_RGI_FR_2000_to_export=pyshape.remove_linestring(geom_RGI_FR_2000_gdf)"
   ]
  },
  {
   "cell_type": "code",
   "execution_count": 10,
   "id": "e147f53d-a4cd-4d2f-ba9c-b00396b812f3",
   "metadata": {},
   "outputs": [
    {
     "data": {
      "text/html": [
       "\n",
       "            <style>\n",
       "                .geemap-dark {\n",
       "                    --jp-widgets-color: white;\n",
       "                    --jp-widgets-label-color: white;\n",
       "                    --jp-ui-font-color1: white;\n",
       "                    --jp-layout-color2: #454545;\n",
       "                    background-color: #383838;\n",
       "                }\n",
       "\n",
       "                .geemap-dark .jupyter-button {\n",
       "                    --jp-layout-color3: #383838;\n",
       "                }\n",
       "\n",
       "                .geemap-colab {\n",
       "                    background-color: var(--colab-primary-surface-color, white);\n",
       "                }\n",
       "\n",
       "                .geemap-colab .jupyter-button {\n",
       "                    --jp-layout-color3: var(--colab-primary-surface-color, white);\n",
       "                }\n",
       "            </style>\n",
       "            "
      ],
      "text/plain": [
       "<IPython.core.display.HTML object>"
      ]
     },
     "metadata": {},
     "output_type": "display_data"
    }
   ],
   "source": [
    "gdf_lia_vdef=gpd.read_file(\"C:/Users/ronir/Desktop/Stage_Carrtel_2025/QGIS/Shape LIA/transfer_9869808_files_c7ca226a/Glaciers_1850_final_mourey2025.shp\")"
   ]
  },
  {
   "cell_type": "markdown",
   "id": "f99b4d86-1fec-466d-b772-7b7b999d7f8c",
   "metadata": {},
   "source": [
    "importing lake inventory"
   ]
  },
  {
   "cell_type": "code",
   "execution_count": 11,
   "id": "454b1753-d566-44fd-9302-05164e9d163f",
   "metadata": {},
   "outputs": [
    {
     "data": {
      "text/html": [
       "\n",
       "            <style>\n",
       "                .geemap-dark {\n",
       "                    --jp-widgets-color: white;\n",
       "                    --jp-widgets-label-color: white;\n",
       "                    --jp-ui-font-color1: white;\n",
       "                    --jp-layout-color2: #454545;\n",
       "                    background-color: #383838;\n",
       "                }\n",
       "\n",
       "                .geemap-dark .jupyter-button {\n",
       "                    --jp-layout-color3: #383838;\n",
       "                }\n",
       "\n",
       "                .geemap-colab {\n",
       "                    background-color: var(--colab-primary-surface-color, white);\n",
       "                }\n",
       "\n",
       "                .geemap-colab .jupyter-button {\n",
       "                    --jp-layout-color3: var(--colab-primary-surface-color, white);\n",
       "                }\n",
       "            </style>\n",
       "            "
      ],
      "text/plain": [
       "<IPython.core.display.HTML object>"
      ]
     },
     "metadata": {},
     "output_type": "display_data"
    }
   ],
   "source": [
    "lake_shape=gpd.read_file('C:/Users/ronir/Desktop/Stage_Carrtel_2025/Inventaire_Lac_alpin/Inventaire_lacs_2022/Inventaire_lacs_2022/inventaire_tous_lacs_2022.shp')  \n",
    "lake_shape = lake_shape.to_crs(gdf_lia.crs)"
   ]
  },
  {
   "cell_type": "code",
   "execution_count": 12,
   "id": "48ac30df-83bb-424c-bd84-2567a047fff0",
   "metadata": {},
   "outputs": [
    {
     "data": {
      "text/html": [
       "\n",
       "            <style>\n",
       "                .geemap-dark {\n",
       "                    --jp-widgets-color: white;\n",
       "                    --jp-widgets-label-color: white;\n",
       "                    --jp-ui-font-color1: white;\n",
       "                    --jp-layout-color2: #454545;\n",
       "                    background-color: #383838;\n",
       "                }\n",
       "\n",
       "                .geemap-dark .jupyter-button {\n",
       "                    --jp-layout-color3: #383838;\n",
       "                }\n",
       "\n",
       "                .geemap-colab {\n",
       "                    background-color: var(--colab-primary-surface-color, white);\n",
       "                }\n",
       "\n",
       "                .geemap-colab .jupyter-button {\n",
       "                    --jp-layout-color3: var(--colab-primary-surface-color, white);\n",
       "                }\n",
       "            </style>\n",
       "            "
      ],
      "text/plain": [
       "<IPython.core.display.HTML object>"
      ]
     },
     "metadata": {},
     "output_type": "display_data"
    }
   ],
   "source": [
    "lake_shape_clipped=gpd.read_file('C:/Users/ronir/Desktop/Google_Earth_Engine/Export/Vectorisation_V1/Shapefile/lake_shape_clipped.shp')"
   ]
  },
  {
   "cell_type": "code",
   "execution_count": 13,
   "id": "bfedfe44-ab05-4261-bbd5-2e426028f487",
   "metadata": {},
   "outputs": [
    {
     "data": {
      "text/html": [
       "\n",
       "            <style>\n",
       "                .geemap-dark {\n",
       "                    --jp-widgets-color: white;\n",
       "                    --jp-widgets-label-color: white;\n",
       "                    --jp-ui-font-color1: white;\n",
       "                    --jp-layout-color2: #454545;\n",
       "                    background-color: #383838;\n",
       "                }\n",
       "\n",
       "                .geemap-dark .jupyter-button {\n",
       "                    --jp-layout-color3: #383838;\n",
       "                }\n",
       "\n",
       "                .geemap-colab {\n",
       "                    background-color: var(--colab-primary-surface-color, white);\n",
       "                }\n",
       "\n",
       "                .geemap-colab .jupyter-button {\n",
       "                    --jp-layout-color3: var(--colab-primary-surface-color, white);\n",
       "                }\n",
       "            </style>\n",
       "            "
      ],
      "text/plain": [
       "<IPython.core.display.HTML object>"
      ]
     },
     "metadata": {},
     "output_type": "display_data"
    }
   ],
   "source": [
    "lake_classif_inrae_clean_gt900m2 = gpd.read_file(\"C:/Users/ronir/Desktop/Stage_Carrtel_2025/Resultats/validation_lake_classif/lake_classif_inrae_clean_gt900m2/lake_classif_inrae_clean_gt900m2.dbf\")"
   ]
  },
  {
   "cell_type": "markdown",
   "id": "24ec1aea-ef42-436f-882d-1e74f1a2c658",
   "metadata": {},
   "source": [
    "-----------------------------------------"
   ]
  },
  {
   "cell_type": "markdown",
   "id": "9bbf26c7-ca10-4dd2-bf95-957752e76d91",
   "metadata": {},
   "source": [
    "# FUNCTIONS "
   ]
  },
  {
   "cell_type": "code",
   "execution_count": 14,
   "id": "18247887-48ed-4218-868c-5a95719dccdc",
   "metadata": {},
   "outputs": [
    {
     "data": {
      "text/html": [
       "\n",
       "            <style>\n",
       "                .geemap-dark {\n",
       "                    --jp-widgets-color: white;\n",
       "                    --jp-widgets-label-color: white;\n",
       "                    --jp-ui-font-color1: white;\n",
       "                    --jp-layout-color2: #454545;\n",
       "                    background-color: #383838;\n",
       "                }\n",
       "\n",
       "                .geemap-dark .jupyter-button {\n",
       "                    --jp-layout-color3: #383838;\n",
       "                }\n",
       "\n",
       "                .geemap-colab {\n",
       "                    background-color: var(--colab-primary-surface-color, white);\n",
       "                }\n",
       "\n",
       "                .geemap-colab .jupyter-button {\n",
       "                    --jp-layout-color3: var(--colab-primary-surface-color, white);\n",
       "                }\n",
       "            </style>\n",
       "            "
      ],
      "text/plain": [
       "<IPython.core.display.HTML object>"
      ]
     },
     "metadata": {},
     "output_type": "display_data"
    }
   ],
   "source": [
    "def add_year_column(gdf, year):\n",
    "    \"\"\"\n",
    "    Ajoute une colonne 'année' à un GeoDataFrame, remplie avec une année spécifique.\n",
    "    \n",
    "    Args:\n",
    "        gdf (geopandas.GeoDataFrame): Le GeoDataFrame d'entrée.\n",
    "        year (int): L'année à ajouter dans la nouvelle colonne 'année'.\n",
    "        \n",
    "    Returns:\n",
    "        geopandas.GeoDataFrame: Le GeoDataFrame avec la colonne 'année' ajoutée.\n",
    "    \"\"\"\n",
    "    gdf['year'] = year\n",
    "    return gdf"
   ]
  },
  {
   "cell_type": "code",
   "execution_count": 15,
   "id": "1836f132-ce9e-4949-b3cf-37c2de8e56c8",
   "metadata": {},
   "outputs": [
    {
     "data": {
      "text/html": [
       "\n",
       "            <style>\n",
       "                .geemap-dark {\n",
       "                    --jp-widgets-color: white;\n",
       "                    --jp-widgets-label-color: white;\n",
       "                    --jp-ui-font-color1: white;\n",
       "                    --jp-layout-color2: #454545;\n",
       "                    background-color: #383838;\n",
       "                }\n",
       "\n",
       "                .geemap-dark .jupyter-button {\n",
       "                    --jp-layout-color3: #383838;\n",
       "                }\n",
       "\n",
       "                .geemap-colab {\n",
       "                    background-color: var(--colab-primary-surface-color, white);\n",
       "                }\n",
       "\n",
       "                .geemap-colab .jupyter-button {\n",
       "                    --jp-layout-color3: var(--colab-primary-surface-color, white);\n",
       "                }\n",
       "            </style>\n",
       "            "
      ],
      "text/plain": [
       "<IPython.core.display.HTML object>"
      ]
     },
     "metadata": {},
     "output_type": "display_data"
    }
   ],
   "source": [
    "def multi_raster_to_gdf(rasters,tresh_value):\n",
    "    \"\"\"\n",
    "    Polygonise plusieurs couches raster (par année) et retourne un GeoDataFrame concaténé.\n",
    "    \n",
    "    Paramètres:\n",
    "        rasters (xarray.Dataset): Dataset avec une variable par année (nommée par année ou identifiant temporel).\n",
    "    \n",
    "    Retour:\n",
    "        GeoDataFrame: géométries polygonisées concaténées avec colonne 'year'.\n",
    "    \"\"\"\n",
    "    gdf_list = []\n",
    "\n",
    "    for year_str, raster in rasters.items():\n",
    "        # Convertir l'identifiant en année (assume que c’est un str représentant l’année, sinon adapter)\n",
    "        year = int(str(year_str))\n",
    "\n",
    "        # Polygonisation\n",
    "        shape = pyraster.polygonize_raster(\n",
    "            raster,\n",
    "            mask=(raster == tresh_value),\n",
    "            transform=raster.rio.transform()\n",
    "        )\n",
    "\n",
    "        # GeoDataFrame + ajout de la colonne année\n",
    "        gdf = gpd.GeoDataFrame(\n",
    "            geometry=[shape],\n",
    "            crs=raster.rio.crs\n",
    "        ).explode(ignore_index=True)\n",
    "        gdf[\"year\"] = year\n",
    "\n",
    "        gdf_list.append(gdf)\n",
    "\n",
    "    # Concaténer tous les GeoDataFrames\n",
    "    gdf_all = pd.concat(gdf_list, ignore_index=True)\n",
    "\n",
    "    return gdf_all, gdf_list"
   ]
  },
  {
   "cell_type": "code",
   "execution_count": 16,
   "id": "3b40ee5c-30b0-4939-83d6-0e6b296e4306",
   "metadata": {},
   "outputs": [
    {
     "data": {
      "text/html": [
       "\n",
       "            <style>\n",
       "                .geemap-dark {\n",
       "                    --jp-widgets-color: white;\n",
       "                    --jp-widgets-label-color: white;\n",
       "                    --jp-ui-font-color1: white;\n",
       "                    --jp-layout-color2: #454545;\n",
       "                    background-color: #383838;\n",
       "                }\n",
       "\n",
       "                .geemap-dark .jupyter-button {\n",
       "                    --jp-layout-color3: #383838;\n",
       "                }\n",
       "\n",
       "                .geemap-colab {\n",
       "                    background-color: var(--colab-primary-surface-color, white);\n",
       "                }\n",
       "\n",
       "                .geemap-colab .jupyter-button {\n",
       "                    --jp-layout-color3: var(--colab-primary-surface-color, white);\n",
       "                }\n",
       "            </style>\n",
       "            "
      ],
      "text/plain": [
       "<IPython.core.display.HTML object>"
      ]
     },
     "metadata": {},
     "output_type": "display_data"
    }
   ],
   "source": [
    "def filter_water_by_glacier_gpd(gdf_water_dict, gdf_glacier_dict):\n",
    "    \"\"\"\n",
    "    Filtre les géométries des eaux à l'intérieur et à l'extérieur des glaciers sur plusieurs années,\n",
    "    et retourne deux GeoDataFrames concaténés avec une colonne 'year'.\n",
    "\n",
    "    Args:\n",
    "        gdf_water_dict (dict[int, geopandas.GeoDataFrame]): GeoDataFrames d'eau par année.\n",
    "        gdf_glacier_dict (dict[int, geopandas.GeoDataFrame]): GeoDataFrames de glaciers par année.\n",
    "\n",
    "    Returns:\n",
    "        tuple:\n",
    "            - GeoDataFrame des eaux dans les glaciers (avec colonne 'year')\n",
    "            - GeoDataFrame des eaux hors glaciers (avec colonne 'year')\n",
    "    \"\"\"\n",
    "    water_in_list = []\n",
    "    water_out_list = []\n",
    "\n",
    "    for year in range(1984, 2025):\n",
    "        \n",
    "        gdf_water = gdf_water_dict[gdf_water_dict[\"year\"]==year]\n",
    "        gdf_glacier = gdf_glacier_dict[gdf_glacier_dict[\"year\"]==year]\n",
    "\n",
    "        # Calculer les géométries à l'intérieur des glaciers\n",
    "        gdf_in = gdf_water.sjoin(gdf_glacier, how='inner', predicate='within')\n",
    "\n",
    "        #Calculer celles en dehors des glaciers\n",
    "        gdf_out = gdf_water.loc[~gdf_water.index.isin(gdf_in.index)]\n",
    "\n",
    "        water_in_list.append(gdf_in)\n",
    "        water_out_list.append(gdf_out)\n",
    "\n",
    "    # Concaténer tous les résultats en deux GeoDataFrames\n",
    "    water_in_glacier = pd.concat(water_in_list, ignore_index=True)\n",
    "    water_outside = pd.concat(water_out_list, ignore_index=True)\n",
    "\n",
    "    return water_in_glacier, water_outside"
   ]
  },
  {
   "cell_type": "code",
   "execution_count": 17,
   "id": "a86004ba-55eb-43f1-8227-751f58137c87",
   "metadata": {},
   "outputs": [
    {
     "data": {
      "text/html": [
       "\n",
       "            <style>\n",
       "                .geemap-dark {\n",
       "                    --jp-widgets-color: white;\n",
       "                    --jp-widgets-label-color: white;\n",
       "                    --jp-ui-font-color1: white;\n",
       "                    --jp-layout-color2: #454545;\n",
       "                    background-color: #383838;\n",
       "                }\n",
       "\n",
       "                .geemap-dark .jupyter-button {\n",
       "                    --jp-layout-color3: #383838;\n",
       "                }\n",
       "\n",
       "                .geemap-colab {\n",
       "                    background-color: var(--colab-primary-surface-color, white);\n",
       "                }\n",
       "\n",
       "                .geemap-colab .jupyter-button {\n",
       "                    --jp-layout-color3: var(--colab-primary-surface-color, white);\n",
       "                }\n",
       "            </style>\n",
       "            "
      ],
      "text/plain": [
       "<IPython.core.display.HTML object>"
      ]
     },
     "metadata": {},
     "output_type": "display_data"
    }
   ],
   "source": [
    "def exclude_water_inside_geometry(water_gdf,geom):\n",
    "    \"\"\"\n",
    "    Exclut les polygones de water_gdf entièrement contenus dans geometry.\n",
    "    \"\"\"\n",
    "    water_in_list = []\n",
    "    water_out_list = []\n",
    "       \n",
    "    water_in_geom = water_gdf.sjoin(geom, how='inner', predicate='within')\n",
    "    water_outside_geom = water_gdf.loc[~water_gdf.index.isin(water_in_geom.index)]\n",
    "\n",
    "    water_in_list.append(water_in_geom)\n",
    "    water_out_list.append(water_outside_geom )\n",
    "\n",
    "    water_in_geom_pd = pd.concat(water_in_list, ignore_index=True)\n",
    "    water_outside_geom_pd = pd.concat(water_out_list, ignore_index=True)\n",
    "\n",
    "    return  water_outside_geom_pd\n",
    "    "
   ]
  },
  {
   "cell_type": "code",
   "execution_count": 18,
   "id": "381c285f-2360-44a9-a2ff-b9ef795391ac",
   "metadata": {},
   "outputs": [
    {
     "data": {
      "text/html": [
       "\n",
       "            <style>\n",
       "                .geemap-dark {\n",
       "                    --jp-widgets-color: white;\n",
       "                    --jp-widgets-label-color: white;\n",
       "                    --jp-ui-font-color1: white;\n",
       "                    --jp-layout-color2: #454545;\n",
       "                    background-color: #383838;\n",
       "                }\n",
       "\n",
       "                .geemap-dark .jupyter-button {\n",
       "                    --jp-layout-color3: #383838;\n",
       "                }\n",
       "\n",
       "                .geemap-colab {\n",
       "                    background-color: var(--colab-primary-surface-color, white);\n",
       "                }\n",
       "\n",
       "                .geemap-colab .jupyter-button {\n",
       "                    --jp-layout-color3: var(--colab-primary-surface-color, white);\n",
       "                }\n",
       "            </style>\n",
       "            "
      ],
      "text/plain": [
       "<IPython.core.display.HTML object>"
      ]
     },
     "metadata": {},
     "output_type": "display_data"
    }
   ],
   "source": [
    "def exclude_inside_RGI_water(gdf, rgi_gdf,year_rgi):\n",
    "    \"\"\"\n",
    "    Exclut les polygones de water_gdf entièrement contenus dans rgi_gdf\n",
    "    uniquement si leur année est inférieure ou égale à celle du RGI.\n",
    "    \n",
    "    Args:\n",
    "        water_gdf (GeoDataFrame): GeoDataFrame des plans d'eau avec une colonne 'année'.\n",
    "        rgi_gdf (GeoDataFrame): GeoDataFrame des glaciers avec une colonne 'année'.\n",
    "\n",
    "    Returns:\n",
    "        GeoDataFrame: GeoDataFrame des plans d'eau filtré.\n",
    "    \"\"\"\n",
    "    water_in_rgi_list=[]\n",
    "    water_outside_RGI_list=[]\n",
    "    \n",
    "    for year in range(1984, year_rgi+1):\n",
    "\n",
    "        gdf_to_filter = gdf[gdf[\"year\"]==year]\n",
    "        \n",
    "        # Jointure spatiale\n",
    "        gdf_in = gdf_to_filter.sjoin(rgi_gdf, how='inner', predicate='within')\n",
    "        gdf_out = gdf_to_filter.loc[~gdf_to_filter.index.isin(gdf_in.index)]\n",
    "\n",
    "        water_outside_RGI_list.append(gdf_out)\n",
    "        water_outside_RGI = pd.concat(water_outside_RGI_list, ignore_index=True)\n",
    "        \n",
    "    return  water_outside_RGI\n",
    "    "
   ]
  },
  {
   "cell_type": "code",
   "execution_count": 19,
   "id": "98e57885-6041-45eb-a311-294a1a1a41f0",
   "metadata": {},
   "outputs": [
    {
     "data": {
      "text/html": [
       "\n",
       "            <style>\n",
       "                .geemap-dark {\n",
       "                    --jp-widgets-color: white;\n",
       "                    --jp-widgets-label-color: white;\n",
       "                    --jp-ui-font-color1: white;\n",
       "                    --jp-layout-color2: #454545;\n",
       "                    background-color: #383838;\n",
       "                }\n",
       "\n",
       "                .geemap-dark .jupyter-button {\n",
       "                    --jp-layout-color3: #383838;\n",
       "                }\n",
       "\n",
       "                .geemap-colab {\n",
       "                    background-color: var(--colab-primary-surface-color, white);\n",
       "                }\n",
       "\n",
       "                .geemap-colab .jupyter-button {\n",
       "                    --jp-layout-color3: var(--colab-primary-surface-color, white);\n",
       "                }\n",
       "            </style>\n",
       "            "
      ],
      "text/plain": [
       "<IPython.core.display.HTML object>"
      ]
     },
     "metadata": {},
     "output_type": "display_data"
    }
   ],
   "source": [
    "def exclude_outside_RGI_glacier(gdf, rgi_gdf,year_rgi):\n",
    "    \"\"\"\n",
    "    Exclut les polygones de glacier_gdf entièrement non contenus dans rgi_gdf\n",
    "    uniquement si leur année est inférieure ou égale à celle du RGI.\n",
    "    \n",
    "    Args:\n",
    "        glacier_gdf (GeoDataFrame): GeoDataFrame des plans d'eau avec une colonne 'année'.\n",
    "        rgi_gdf (GeoDataFrame): GeoDataFrame des glaciers avec une colonne 'année'.\n",
    "\n",
    "    Returns:\n",
    "        GeoDataFrame: GeoDataFrame des plans d'eau filtré.\n",
    "    \"\"\"\n",
    "    glacier_inside_rgi_list=[]\n",
    "    glacier_outside_rgi_list=[]\n",
    "    \n",
    "    for year in range(1984, year_rgi+1):\n",
    "\n",
    "        gdf_to_filter = gdf[gdf[\"year\"]==year]\n",
    "        \n",
    "        # Jointure spatiale\n",
    "        gdf_in = gdf_to_filter.sjoin(rgi_gdf, how='inner', predicate='intersects')\n",
    "        gdf_to_conserve = gdf_to_filter.loc[gdf_to_filter.index.isin(gdf_in.index)]\n",
    "\n",
    "        glacier_inside_rgi_list.append(gdf_to_conserve)\n",
    "        glacier_inside_rgi = pd.concat(glacier_inside_rgi_list, ignore_index=True)\n",
    "        \n",
    "    return  glacier_inside_rgi\n",
    "    "
   ]
  },
  {
   "cell_type": "code",
   "execution_count": 20,
   "id": "50ef425d-cf41-4925-9755-a3fc4e97b6a6",
   "metadata": {},
   "outputs": [
    {
     "data": {
      "text/html": [
       "\n",
       "            <style>\n",
       "                .geemap-dark {\n",
       "                    --jp-widgets-color: white;\n",
       "                    --jp-widgets-label-color: white;\n",
       "                    --jp-ui-font-color1: white;\n",
       "                    --jp-layout-color2: #454545;\n",
       "                    background-color: #383838;\n",
       "                }\n",
       "\n",
       "                .geemap-dark .jupyter-button {\n",
       "                    --jp-layout-color3: #383838;\n",
       "                }\n",
       "\n",
       "                .geemap-colab {\n",
       "                    background-color: var(--colab-primary-surface-color, white);\n",
       "                }\n",
       "\n",
       "                .geemap-colab .jupyter-button {\n",
       "                    --jp-layout-color3: var(--colab-primary-surface-color, white);\n",
       "                }\n",
       "            </style>\n",
       "            "
      ],
      "text/plain": [
       "<IPython.core.display.HTML object>"
      ]
     },
     "metadata": {},
     "output_type": "display_data"
    }
   ],
   "source": [
    "# Filtering with 5 years\n",
    "def water_time_filtering_propre(water_gdf):\n",
    "    \"\"\"\n",
    "    Filtre les polygones d'eau pour ne conserver que ceux qui s'intersectent \n",
    "    sur plusieurs années **futures** consécutives (croissant), de 1984 à 2024.\n",
    "\n",
    "    - 1984 à 2020 : intersection sur 5 années (année, +1, +2, +3, +4)\n",
    "    - 2021 : intersection sur 4 années (année, +1, +2, +3)\n",
    "    - 2022 : intersection sur 3 années (année, +1, +2)\n",
    "    - 2023 : intersection sur 2 années (année, +1)\n",
    "    - 2024 : utilisée seule (aucun test)\n",
    "    \"\"\"\n",
    "    start_year=1984\n",
    "    end_year=2024\n",
    "    years = range(start_year, end_year+1)\n",
    "    gdf_time_filtered_list = []\n",
    "\n",
    "    for year in years:\n",
    "        # Nombre d'années à considérer\n",
    "        dy = min(5, end_year - year + 1)\n",
    "       \n",
    "        gdf_base = water_gdf[water_gdf['year'] == year]\n",
    "        gdf_future = water_gdf[(water_gdf['year'] > year) & (water_gdf['year'] <= year + dy)]\n",
    "\n",
    "        if dy == 1:\n",
    "            # Cas 1984, on garde tout\n",
    "            filtered = gdf_base\n",
    "            gdf_time_filtered_list.append(filtered)\n",
    "        else: \n",
    "            joined = gdf_base.sjoin(gdf_future, how='inner', predicate='intersects')\n",
    "            joined['index_left'] = joined.index\n",
    "            # Années réellement intersectées dans cette plage\n",
    "            expected_years = set(gdf_future['year'].unique())\n",
    "            \n",
    "            # Pour chaque géométrie de gdf_base, collecter les années qu'elle intersecte\n",
    "            years_by_geom = joined.groupby('index_left')['year_right'].apply(set)\n",
    "\n",
    "            # Garder seulement les géométries qui intersectent toutes les années attendues\n",
    "            valid_indices = years_by_geom[years_by_geom == expected_years].index\n",
    "\n",
    "            # Filtrage\n",
    "            filtered = gdf_base.loc[gdf_base.index.isin(valid_indices)]\n",
    "            gdf_time_filtered_list.append(filtered)\n",
    "\n",
    "    gdf_time_filtered = pd.concat(gdf_time_filtered_list, ignore_index=True)\n",
    "    return gdf_time_filtered"
   ]
  },
  {
   "cell_type": "code",
   "execution_count": 21,
   "id": "5bece5f0-ef77-4e69-88e1-df82a035dc70",
   "metadata": {},
   "outputs": [
    {
     "data": {
      "text/html": [
       "\n",
       "            <style>\n",
       "                .geemap-dark {\n",
       "                    --jp-widgets-color: white;\n",
       "                    --jp-widgets-label-color: white;\n",
       "                    --jp-ui-font-color1: white;\n",
       "                    --jp-layout-color2: #454545;\n",
       "                    background-color: #383838;\n",
       "                }\n",
       "\n",
       "                .geemap-dark .jupyter-button {\n",
       "                    --jp-layout-color3: #383838;\n",
       "                }\n",
       "\n",
       "                .geemap-colab {\n",
       "                    background-color: var(--colab-primary-surface-color, white);\n",
       "                }\n",
       "\n",
       "                .geemap-colab .jupyter-button {\n",
       "                    --jp-layout-color3: var(--colab-primary-surface-color, white);\n",
       "                }\n",
       "            </style>\n",
       "            "
      ],
      "text/plain": [
       "<IPython.core.display.HTML object>"
      ]
     },
     "metadata": {},
     "output_type": "display_data"
    }
   ],
   "source": [
    "# Each polygone has to be detected 80% of the years since its first detection\n",
    "# Efficace à l'échelle des alpes sans besoin de clip au lac, pollution restante en haut des domes, \n",
    "\n",
    "def water_time_filtering_propre_total(water_gdf):\n",
    "    \"\"\"\n",
    "    Filtre les polygones d'eau pour ne conserver que ceux qui s'intersectent \n",
    "    sur plusieurs années **futures** consécutives (croissant), de 1984 à 2024.\n",
    "\n",
    "    - 1984 à 2020 : intersection sur 5 années (année, +1, +2, +3, +4)\n",
    "    - 2021 : intersection sur 4 années (année, +1, +2, +3)\n",
    "    - 2022 : intersection sur 3 années (année, +1, +2)\n",
    "    - 2023 : intersection sur 2 années (année, +1)\n",
    "    - 2024 : utilisée seule (aucun test)\n",
    "    \"\"\"\n",
    "    end_year=2024\n",
    "    start_year=1984\n",
    "    years = range(start_year, end_year+1)\n",
    "    gdf_time_filtered_list = []\n",
    "\n",
    "    for year in years:\n",
    "        # Nombre d'années à considérer\n",
    "        dy = end_year - year + 1\n",
    "       \n",
    "        gdf_base = water_gdf[water_gdf['year'] == year]\n",
    "        gdf_future = water_gdf[(water_gdf['year'] > year) & (water_gdf['year'] <= year + dy)]\n",
    "\n",
    "        if dy == 1:\n",
    "            # Cas 1984, on garde tout\n",
    "            filtered = gdf_base\n",
    "            gdf_time_filtered_list.append(filtered)\n",
    "        else: \n",
    "            joined = gdf_base.sjoin(gdf_future, how='inner', predicate='intersects')\n",
    "            joined['index_left'] = joined.index\n",
    "            # Années réellement intersectées dans cette plage\n",
    "            expected_years = set(gdf_future['year'].unique())\n",
    "\n",
    "            # Pour chaque géométrie de gdf_base, collecter les années qu'elle intersecte\n",
    "            years_by_geom = joined.groupby('index_left')['year_right'].apply(set)\n",
    "\n",
    "            # Garder seulement les géométries qui intersectent toutes les années attendues\n",
    "            valid_indices = years_by_geom[years_by_geom.apply(lambda years: len(years) >= 0.8 * len(expected_years))].index\n",
    "\n",
    "            # Filtrage\n",
    "            filtered = gdf_base.loc[gdf_base.index.isin(valid_indices)]\n",
    "            gdf_time_filtered_list.append(filtered)\n",
    "\n",
    "    gdf_time_filtered = pd.concat(gdf_time_filtered_list, ignore_index=True)\n",
    "    return gdf_time_filtered"
   ]
  },
  {
   "cell_type": "code",
   "execution_count": 22,
   "id": "3be85271-b8d1-488a-be40-296baaf65e2c",
   "metadata": {},
   "outputs": [
    {
     "data": {
      "text/html": [
       "\n",
       "            <style>\n",
       "                .geemap-dark {\n",
       "                    --jp-widgets-color: white;\n",
       "                    --jp-widgets-label-color: white;\n",
       "                    --jp-ui-font-color1: white;\n",
       "                    --jp-layout-color2: #454545;\n",
       "                    background-color: #383838;\n",
       "                }\n",
       "\n",
       "                .geemap-dark .jupyter-button {\n",
       "                    --jp-layout-color3: #383838;\n",
       "                }\n",
       "\n",
       "                .geemap-colab {\n",
       "                    background-color: var(--colab-primary-surface-color, white);\n",
       "                }\n",
       "\n",
       "                .geemap-colab .jupyter-button {\n",
       "                    --jp-layout-color3: var(--colab-primary-surface-color, white);\n",
       "                }\n",
       "            </style>\n",
       "            "
      ],
      "text/plain": [
       "<IPython.core.display.HTML object>"
      ]
     },
     "metadata": {},
     "output_type": "display_data"
    }
   ],
   "source": [
    "def glacier_time_filtering_propre(glacier_gdf):\n",
    "    \"\"\"\n",
    "    Filtre les polygones de glacier pour ne conserver que ceux qui s'intersectent \n",
    "    sur toutes les années passées consécutives (décroissant), de 2024 à 1984.\n",
    "\n",
    "    - 2024 à 1988 : intersection sur 5 années (année, -1, -2, -3, -4)\n",
    "    - 1987 : intersection sur 4 années (année, -1, -2, -3)\n",
    "    - 1986 : intersection sur 3 années (année, -1, -2)\n",
    "    - 1985 : intersection sur 2 années (année, -1)\n",
    "    - 1984 : utilisée seule (aucun test)\n",
    "    \"\"\"\n",
    "    start_year = 1985\n",
    "    end_year = 2024\n",
    "    gdf_time_filtered_list = []\n",
    "\n",
    "    for year in range(end_year, start_year - 1, -1):\n",
    "        dy = min(5, year - start_year + 1)\n",
    "\n",
    "        gdf_base = glacier_gdf[glacier_gdf['year'] == year]\n",
    "        gdf_past = glacier_gdf[(glacier_gdf['year'] < year) & (glacier_gdf['year'] >= year - dy)]\n",
    "\n",
    "        if dy == 1:\n",
    "            gdf_time_filtered_list.append(gdf_base)\n",
    "        else:\n",
    "            # Jointure spatiale\n",
    "            joined = gdf_base.sjoin(gdf_past, how='inner', predicate='intersects')\n",
    "            \n",
    "            joined['index_left'] = joined.index\n",
    "            \n",
    "            # Années réellement intersectées dans cette plage\n",
    "            expected_years = set(gdf_past['year'].unique())\n",
    "\n",
    "            # Pour chaque géométrie de gdf_base, collecter les années qu'elle intersecte\n",
    "            years_by_geom = joined.groupby('index_left')['year_right'].apply(set)\n",
    "\n",
    "            # Garder seulement les géométries qui intersectent toutes les années attendues\n",
    "            valid_indices = years_by_geom[years_by_geom == expected_years].index\n",
    "\n",
    "            # Filtrage\n",
    "            filtered = gdf_base.loc[gdf_base.index.isin(valid_indices)]\n",
    "            gdf_time_filtered_list.append(filtered)\n",
    "\n",
    "    gdf_time_filtered = pd.concat(gdf_time_filtered_list, ignore_index=True)\n",
    "    return gdf_time_filtered.sort_values(by='year', ascending=True).reset_index(drop=True)"
   ]
  },
  {
   "cell_type": "code",
   "execution_count": 23,
   "id": "d32ee730-1394-4389-9281-762d0eab119b",
   "metadata": {},
   "outputs": [
    {
     "data": {
      "text/html": [
       "\n",
       "            <style>\n",
       "                .geemap-dark {\n",
       "                    --jp-widgets-color: white;\n",
       "                    --jp-widgets-label-color: white;\n",
       "                    --jp-ui-font-color1: white;\n",
       "                    --jp-layout-color2: #454545;\n",
       "                    background-color: #383838;\n",
       "                }\n",
       "\n",
       "                .geemap-dark .jupyter-button {\n",
       "                    --jp-layout-color3: #383838;\n",
       "                }\n",
       "\n",
       "                .geemap-colab {\n",
       "                    background-color: var(--colab-primary-surface-color, white);\n",
       "                }\n",
       "\n",
       "                .geemap-colab .jupyter-button {\n",
       "                    --jp-layout-color3: var(--colab-primary-surface-color, white);\n",
       "                }\n",
       "            </style>\n",
       "            "
      ],
      "text/plain": [
       "<IPython.core.display.HTML object>"
      ]
     },
     "metadata": {},
     "output_type": "display_data"
    }
   ],
   "source": [
    "def glacier_time_filtering_propre_total(glacier_gdf):\n",
    "    \"\"\"\n",
    "    Filtre les polygones de glacier pour ne conserver que ceux qui s'intersectent \n",
    "    sur toutes les années passées consécutives (décroissant), de 2024 à 1984.\n",
    "\n",
    "    - 2024 à 1988 : intersection sur 5 années (année, -1, -2, -3, -4)\n",
    "    - 1987 : intersection sur 4 années (année, -1, -2, -3)\n",
    "    - 1986 : intersection sur 3 années (année, -1, -2)\n",
    "    - 1985 : intersection sur 2 années (année, -1)\n",
    "    - 1984 : utilisée seule (aucun test)\n",
    "    \"\"\"\n",
    "    start_year = 1985\n",
    "    end_year = 2024\n",
    "    gdf_time_filtered_list = []\n",
    "\n",
    "    for year in range(end_year, start_year - 1, -1):\n",
    "        dy =  year - start_year + 1\n",
    "\n",
    "        gdf_base = glacier_gdf[glacier_gdf['year'] == year]\n",
    "        gdf_past = glacier_gdf[(glacier_gdf['year'] < year) & (glacier_gdf['year'] >= year - dy)]\n",
    "\n",
    "        if dy == 1:\n",
    "            gdf_time_filtered_list.append(gdf_base)\n",
    "        else:\n",
    "            # Jointure spatiale\n",
    "            joined = gdf_base.sjoin(gdf_past, how='inner', predicate='intersects')\n",
    "            joined['index_left'] = joined.index\n",
    "            # Années réellement intersectées dans cette plage\n",
    "            expected_years = set(gdf_past['year'].unique())\n",
    "\n",
    "            # Pour chaque géométrie de gdf_base, collecter les années qu'elle intersecte\n",
    "            years_by_geom = joined.groupby('index_left')['year_right'].apply(set)\n",
    "\n",
    "            # Garder seulement les géométries qui intersectent toutes les années attendues\n",
    "            valid_indices = years_by_geom[years_by_geom.apply(lambda years: len(years) >= 0.9 * len(expected_years))].index\n",
    "\n",
    "            # Filtrage\n",
    "            filtered = gdf_base.loc[gdf_base.index.isin(valid_indices)]\n",
    "            gdf_time_filtered_list.append(filtered)\n",
    "\n",
    "    gdf_time_filtered = pd.concat(gdf_time_filtered_list, ignore_index=True)\n",
    "    return gdf_time_filtered.sort_values(by='year', ascending=True).reset_index(drop=True)"
   ]
  },
  {
   "cell_type": "code",
   "execution_count": 24,
   "id": "637cd111-42fc-4f68-94df-5ba23e170a35",
   "metadata": {},
   "outputs": [
    {
     "data": {
      "text/html": [
       "\n",
       "            <style>\n",
       "                .geemap-dark {\n",
       "                    --jp-widgets-color: white;\n",
       "                    --jp-widgets-label-color: white;\n",
       "                    --jp-ui-font-color1: white;\n",
       "                    --jp-layout-color2: #454545;\n",
       "                    background-color: #383838;\n",
       "                }\n",
       "\n",
       "                .geemap-dark .jupyter-button {\n",
       "                    --jp-layout-color3: #383838;\n",
       "                }\n",
       "\n",
       "                .geemap-colab {\n",
       "                    background-color: var(--colab-primary-surface-color, white);\n",
       "                }\n",
       "\n",
       "                .geemap-colab .jupyter-button {\n",
       "                    --jp-layout-color3: var(--colab-primary-surface-color, white);\n",
       "                }\n",
       "            </style>\n",
       "            "
      ],
      "text/plain": [
       "<IPython.core.display.HTML object>"
      ]
     },
     "metadata": {},
     "output_type": "display_data"
    }
   ],
   "source": [
    "# def homogenize_lakes_2015_2016(gdf, year_col='year'):\n",
    "#     \"\"\"\n",
    "#     Homogénéise les géométries des lacs entre 2015 et 2016 :\n",
    "#     Pour chaque polygone de 2016, ajoute les parties perdues des polygones de 2015 avec lesquels il intersecte.\n",
    "\n",
    "#     :param gdf: GeoDataFrame avec les colonnes 'year' et 'geometry'.\n",
    "#     :param year_col: Colonne contenant l'année.\n",
    "#     :return: GeoDataFrame pour 2016, avec géométries homogénéisées.\n",
    "#     \"\"\"\n",
    "    \n",
    "#     # Filtrer les années 2015 et 2016\n",
    "#     gdf = gdf[gdf[year_col].isin([2015, 2016])].copy()\n",
    "\n",
    "#     gdf_2015 = gdf[gdf[year_col] == 2015].copy()\n",
    "#     gdf_2016 = gdf[gdf[year_col] == 2016].copy()\n",
    "\n",
    "#     # Préparer index pour suivi\n",
    "#     gdf_2016 = gdf_2016.reset_index(drop=True)\n",
    "#     gdf_2016['index_2016'] = gdf_2016.index\n",
    "\n",
    "#     # Jointure spatiale : quels polygones de 2015 intersectent ceux de 2016\n",
    "#     joined = gdf_2015.sjoin(gdf_2016, how='inner', predicate='intersects')\n",
    "\n",
    "#     # Regrouper par chaque polygone de 2016\n",
    "#     grouped = joined.groupby('index_2016')\n",
    "    \n",
    "#     # Homogénéiser géométries\n",
    "#     for idx, group in grouped:\n",
    "#         geom_2016 = gdf_2016.loc[idx, 'geometry']\n",
    "#         gdf_2015.union(\n",
    "#         new_geom = geom_2016.union(diff_union)\n",
    "#         gdf_2016.at[idx, 'geometry'] = new_geom\n",
    "\n",
    "#     # Nettoyage et retour\n",
    "#     return gdf_2016.drop(columns='index_2016')"
   ]
  },
  {
   "cell_type": "code",
   "execution_count": 25,
   "id": "9907d59d-4759-403f-92ea-8b73fc8501ca",
   "metadata": {},
   "outputs": [
    {
     "data": {
      "text/html": [
       "\n",
       "            <style>\n",
       "                .geemap-dark {\n",
       "                    --jp-widgets-color: white;\n",
       "                    --jp-widgets-label-color: white;\n",
       "                    --jp-ui-font-color1: white;\n",
       "                    --jp-layout-color2: #454545;\n",
       "                    background-color: #383838;\n",
       "                }\n",
       "\n",
       "                .geemap-dark .jupyter-button {\n",
       "                    --jp-layout-color3: #383838;\n",
       "                }\n",
       "\n",
       "                .geemap-colab {\n",
       "                    background-color: var(--colab-primary-surface-color, white);\n",
       "                }\n",
       "\n",
       "                .geemap-colab .jupyter-button {\n",
       "                    --jp-layout-color3: var(--colab-primary-surface-color, white);\n",
       "                }\n",
       "            </style>\n",
       "            "
      ],
      "text/plain": [
       "<IPython.core.display.HTML object>"
      ]
     },
     "metadata": {},
     "output_type": "display_data"
    }
   ],
   "source": [
    "# import geopandas as gpd\n",
    "# import pandas as pd\n",
    "\n",
    "\n",
    "# def homogenize_lakes_total(gdf):\n",
    "#     years = sorted(gdf['year'].unique())\n",
    "\n",
    "#     # 1) On démarre la liste avec la toute première année \n",
    "#     gdf_homogenized_list = [gdf[gdf['year'] == years[0]]]\n",
    "\n",
    "#     # 2) On boucle sur toutes les années \n",
    "#     for year in years:\n",
    "#         y_n  = year\n",
    "#         y_n1 = year + 1\n",
    "\n",
    "#         # 3) On prend les données brutes de chaque année\n",
    "#         gdf_n  = gdf[gdf['year'] == y_n].copy()\n",
    "#         gdf_n1 = gdf[gdf['year'] == y_n1].copy()\n",
    "\n",
    "#         # 4) Préparer index pour le suivi dans gdf_n1\n",
    "#         gdf_n1 = gdf_n1.reset_index(drop=True)\n",
    "#         gdf_n1['index_n1'] = gdf_n1.index\n",
    "\n",
    "#         # 5) Jointure spatiale : qui de N intersecte N+1 ?\n",
    "#         joined = gdf_n.sjoin(gdf_n1, how='inner', predicate='intersects')\n",
    "\n",
    "#         gdf_n_to_overlay=gdf_n.loc[gdf_n.index.isin(joined.index)]\n",
    "        \n",
    "#         gdf_final=gpd.overlay(\n",
    "#         gdf_n1,       # premier jeu de polygones\n",
    "#         gdf_n_to_overlay,   # second jeu de polygones\n",
    "#         how='union', keep_geom_type=False \n",
    "#         )\n",
    "#         gdf_final = gdf_final[gdf_final.geometry.apply(lambda g: isinstance(g, (Polygon, MultiPolygon)))]\n",
    "#         gdf_final['year'] = y_n1\n",
    "#         gdf_final = gdf_final[['year', 'geometry']]\n",
    "\n",
    "#         # 8) On ajoute le GeoDataFrame N+1 traité à la liste\n",
    "#         gdf_homogenized_list.append(gdf_final)\n",
    "\n",
    "#     # 9) Concaténation de toutes les années traitées\n",
    "#     gdf_homogenized = pd.concat(gdf_homogenized_list, ignore_index=True)\n",
    "\n",
    "#     # 10) Tri final par année et reset index\n",
    "#     return (\n",
    "#         gdf_homogenized\n",
    "#           .sort_values(by='year', ascending=True)\n",
    "#           .reset_index(drop=True)\n",
    "#     )"
   ]
  },
  {
   "cell_type": "markdown",
   "id": "411c781a-1eef-403f-a0e1-77a58c1dbf51",
   "metadata": {},
   "source": [
    "-----------------------------------------"
   ]
  },
  {
   "cell_type": "markdown",
   "id": "fe265734-4991-471e-8f33-f50a629f1df2",
   "metadata": {},
   "source": [
    "-----------------------------------------"
   ]
  },
  {
   "cell_type": "code",
   "execution_count": null,
   "id": "d18ec87c-c9f3-425b-bfd1-1a0e3cf0c247",
   "metadata": {},
   "outputs": [],
   "source": []
  },
  {
   "cell_type": "markdown",
   "id": "0879bc62-d3b0-4bbe-b201-9a92581c5f97",
   "metadata": {},
   "source": [
    " importing polygonized shp"
   ]
  },
  {
   "cell_type": "code",
   "execution_count": 26,
   "id": "e97a3ce2-88c5-49ec-b1e3-90c0549eef8e",
   "metadata": {},
   "outputs": [
    {
     "data": {
      "text/html": [
       "\n",
       "            <style>\n",
       "                .geemap-dark {\n",
       "                    --jp-widgets-color: white;\n",
       "                    --jp-widgets-label-color: white;\n",
       "                    --jp-ui-font-color1: white;\n",
       "                    --jp-layout-color2: #454545;\n",
       "                    background-color: #383838;\n",
       "                }\n",
       "\n",
       "                .geemap-dark .jupyter-button {\n",
       "                    --jp-layout-color3: #383838;\n",
       "                }\n",
       "\n",
       "                .geemap-colab {\n",
       "                    background-color: var(--colab-primary-surface-color, white);\n",
       "                }\n",
       "\n",
       "                .geemap-colab .jupyter-button {\n",
       "                    --jp-layout-color3: var(--colab-primary-surface-color, white);\n",
       "                }\n",
       "            </style>\n",
       "            "
      ],
      "text/plain": [
       "<IPython.core.display.HTML object>"
      ]
     },
     "metadata": {},
     "output_type": "display_data"
    }
   ],
   "source": [
    "gdf_glacier=gpd.read_file(\"C:/Users/ronir/Desktop/Google_Earth_Engine/Export/Vectorisation_V1/Shapefile/gdf_glacier.shp\")"
   ]
  },
  {
   "cell_type": "code",
   "execution_count": 27,
   "id": "12f3ff8c-2fe5-4c43-a90e-eff9b69c0057",
   "metadata": {},
   "outputs": [
    {
     "data": {
      "text/html": [
       "\n",
       "            <style>\n",
       "                .geemap-dark {\n",
       "                    --jp-widgets-color: white;\n",
       "                    --jp-widgets-label-color: white;\n",
       "                    --jp-ui-font-color1: white;\n",
       "                    --jp-layout-color2: #454545;\n",
       "                    background-color: #383838;\n",
       "                }\n",
       "\n",
       "                .geemap-dark .jupyter-button {\n",
       "                    --jp-layout-color3: #383838;\n",
       "                }\n",
       "\n",
       "                .geemap-colab {\n",
       "                    background-color: var(--colab-primary-surface-color, white);\n",
       "                }\n",
       "\n",
       "                .geemap-colab .jupyter-button {\n",
       "                    --jp-layout-color3: var(--colab-primary-surface-color, white);\n",
       "                }\n",
       "            </style>\n",
       "            "
      ],
      "text/plain": [
       "<IPython.core.display.HTML object>"
      ]
     },
     "metadata": {},
     "output_type": "display_data"
    }
   ],
   "source": [
    "gdf_water=gpd.read_file(\"C:/Users/ronir/Desktop/Google_Earth_Engine/Export/Vectorisation_V1/Shapefile/gdf_water.shp\")"
   ]
  },
  {
   "cell_type": "markdown",
   "id": "c4ca9eda-c545-45fa-8b2d-fcb0366abde3",
   "metadata": {},
   "source": [
    "## Adding year to rgi"
   ]
  },
  {
   "cell_type": "code",
   "execution_count": 28,
   "id": "80c7a0d8-8b1d-41ad-80ee-f8d55d9b11c6",
   "metadata": {},
   "outputs": [
    {
     "data": {
      "text/html": [
       "\n",
       "            <style>\n",
       "                .geemap-dark {\n",
       "                    --jp-widgets-color: white;\n",
       "                    --jp-widgets-label-color: white;\n",
       "                    --jp-ui-font-color1: white;\n",
       "                    --jp-layout-color2: #454545;\n",
       "                    background-color: #383838;\n",
       "                }\n",
       "\n",
       "                .geemap-dark .jupyter-button {\n",
       "                    --jp-layout-color3: #383838;\n",
       "                }\n",
       "\n",
       "                .geemap-colab {\n",
       "                    background-color: var(--colab-primary-surface-color, white);\n",
       "                }\n",
       "\n",
       "                .geemap-colab .jupyter-button {\n",
       "                    --jp-layout-color3: var(--colab-primary-surface-color, white);\n",
       "                }\n",
       "            </style>\n",
       "            "
      ],
      "text/plain": [
       "<IPython.core.display.HTML object>"
      ]
     },
     "metadata": {},
     "output_type": "display_data"
    }
   ],
   "source": [
    "geom_RGI_FR_2015_to_export_year = add_year_column(geom_RGI_FR_2015_to_export, 2015)\n",
    "geom_RGI_FR_2000_to_export_year = add_year_column(geom_RGI_FR_2000_to_export, 2000)"
   ]
  },
  {
   "cell_type": "markdown",
   "id": "f02537a3-0219-47ef-8345-bbf8e3a9d7dc",
   "metadata": {},
   "source": [
    "# I. FILTERING GLACIER"
   ]
  },
  {
   "cell_type": "markdown",
   "id": "3b2b43c5-fde2-461f-b43c-7a1bcb3cf36f",
   "metadata": {},
   "source": [
    "## filtering glacier outside RGI"
   ]
  },
  {
   "cell_type": "code",
   "execution_count": 29,
   "id": "7b76581b-83c7-42c2-b108-3a0d4ad3e986",
   "metadata": {},
   "outputs": [
    {
     "data": {
      "text/html": [
       "\n",
       "            <style>\n",
       "                .geemap-dark {\n",
       "                    --jp-widgets-color: white;\n",
       "                    --jp-widgets-label-color: white;\n",
       "                    --jp-ui-font-color1: white;\n",
       "                    --jp-layout-color2: #454545;\n",
       "                    background-color: #383838;\n",
       "                }\n",
       "\n",
       "                .geemap-dark .jupyter-button {\n",
       "                    --jp-layout-color3: #383838;\n",
       "                }\n",
       "\n",
       "                .geemap-colab {\n",
       "                    background-color: var(--colab-primary-surface-color, white);\n",
       "                }\n",
       "\n",
       "                .geemap-colab .jupyter-button {\n",
       "                    --jp-layout-color3: var(--colab-primary-surface-color, white);\n",
       "                }\n",
       "            </style>\n",
       "            "
      ],
      "text/plain": [
       "<IPython.core.display.HTML object>"
      ]
     },
     "metadata": {},
     "output_type": "display_data"
    }
   ],
   "source": [
    "glacier_inside_rgi_2000=exclude_outside_RGI_glacier(gdf_glacier, geom_RGI_FR_2000_to_export_year,2000)"
   ]
  },
  {
   "cell_type": "code",
   "execution_count": 30,
   "id": "8b73438a-b54b-436e-b4e9-07be8fcc360f",
   "metadata": {},
   "outputs": [
    {
     "data": {
      "text/html": [
       "\n",
       "            <style>\n",
       "                .geemap-dark {\n",
       "                    --jp-widgets-color: white;\n",
       "                    --jp-widgets-label-color: white;\n",
       "                    --jp-ui-font-color1: white;\n",
       "                    --jp-layout-color2: #454545;\n",
       "                    background-color: #383838;\n",
       "                }\n",
       "\n",
       "                .geemap-dark .jupyter-button {\n",
       "                    --jp-layout-color3: #383838;\n",
       "                }\n",
       "\n",
       "                .geemap-colab {\n",
       "                    background-color: var(--colab-primary-surface-color, white);\n",
       "                }\n",
       "\n",
       "                .geemap-colab .jupyter-button {\n",
       "                    --jp-layout-color3: var(--colab-primary-surface-color, white);\n",
       "                }\n",
       "            </style>\n",
       "            "
      ],
      "text/plain": [
       "<IPython.core.display.HTML object>"
      ]
     },
     "metadata": {},
     "output_type": "display_data"
    }
   ],
   "source": [
    "glacier_inside_rgi_2015=exclude_outside_RGI_glacier(gdf_glacier, geom_RGI_FR_2015_to_export_year,2015)"
   ]
  },
  {
   "cell_type": "markdown",
   "id": "239ff26a-3ac3-4059-91ad-2e10ceb16571",
   "metadata": {},
   "source": [
    "## Merging and conserving the filtered years"
   ]
  },
  {
   "cell_type": "code",
   "execution_count": 31,
   "id": "9946b7db-2473-460a-a67e-dd629e39748a",
   "metadata": {},
   "outputs": [
    {
     "data": {
      "text/html": [
       "\n",
       "            <style>\n",
       "                .geemap-dark {\n",
       "                    --jp-widgets-color: white;\n",
       "                    --jp-widgets-label-color: white;\n",
       "                    --jp-ui-font-color1: white;\n",
       "                    --jp-layout-color2: #454545;\n",
       "                    background-color: #383838;\n",
       "                }\n",
       "\n",
       "                .geemap-dark .jupyter-button {\n",
       "                    --jp-layout-color3: #383838;\n",
       "                }\n",
       "\n",
       "                .geemap-colab {\n",
       "                    background-color: var(--colab-primary-surface-color, white);\n",
       "                }\n",
       "\n",
       "                .geemap-colab .jupyter-button {\n",
       "                    --jp-layout-color3: var(--colab-primary-surface-color, white);\n",
       "                }\n",
       "            </style>\n",
       "            "
      ],
      "text/plain": [
       "<IPython.core.display.HTML object>"
      ]
     },
     "metadata": {},
     "output_type": "display_data"
    }
   ],
   "source": [
    "glacier_filtered_RGI_merged = []\n",
    "\n",
    "# Ajout des années 1984 à 2000 depuis glacier_insidee_rgi_2000\n",
    "for year in range(1984, 2001):\n",
    "    glacier_filtered_RGI_merged.append(glacier_inside_rgi_2000[glacier_inside_rgi_2000[\"year\"]==year])\n",
    "\n",
    "# Ajout des années 2001 à 2015 depuis glacier_inside_rgi_2015\n",
    "for year in range(2001, 2016):\n",
    "    glacier_filtered_RGI_merged.append(glacier_inside_rgi_2015[glacier_inside_rgi_2015[\"year\"]==year])\n",
    "\n",
    "# Ajout des années 2016 à 2024 depuis glacier_inside\n",
    "for year in range(2016, 2025):\n",
    "    glacier_filtered_RGI_merged.append(gdf_glacier[gdf_glacier[\"year\"]==year])"
   ]
  },
  {
   "cell_type": "code",
   "execution_count": 32,
   "id": "03a18a80-2121-4080-8aaa-3a63631e4d96",
   "metadata": {},
   "outputs": [
    {
     "data": {
      "text/html": [
       "\n",
       "            <style>\n",
       "                .geemap-dark {\n",
       "                    --jp-widgets-color: white;\n",
       "                    --jp-widgets-label-color: white;\n",
       "                    --jp-ui-font-color1: white;\n",
       "                    --jp-layout-color2: #454545;\n",
       "                    background-color: #383838;\n",
       "                }\n",
       "\n",
       "                .geemap-dark .jupyter-button {\n",
       "                    --jp-layout-color3: #383838;\n",
       "                }\n",
       "\n",
       "                .geemap-colab {\n",
       "                    background-color: var(--colab-primary-surface-color, white);\n",
       "                }\n",
       "\n",
       "                .geemap-colab .jupyter-button {\n",
       "                    --jp-layout-color3: var(--colab-primary-surface-color, white);\n",
       "                }\n",
       "            </style>\n",
       "            "
      ],
      "text/plain": [
       "<IPython.core.display.HTML object>"
      ]
     },
     "metadata": {},
     "output_type": "display_data"
    }
   ],
   "source": [
    "glacier_filtered_RGI_merged_gpd=pd.concat(glacier_filtered_RGI_merged, ignore_index=True)"
   ]
  },
  {
   "cell_type": "markdown",
   "id": "5e3cab28-9f71-4527-a342-06028171b6fd",
   "metadata": {},
   "source": [
    "## Time filtering (5 years)"
   ]
  },
  {
   "cell_type": "code",
   "execution_count": 33,
   "id": "454d5789-b08d-48b1-b24e-653516cd7554",
   "metadata": {},
   "outputs": [
    {
     "data": {
      "text/html": [
       "\n",
       "            <style>\n",
       "                .geemap-dark {\n",
       "                    --jp-widgets-color: white;\n",
       "                    --jp-widgets-label-color: white;\n",
       "                    --jp-ui-font-color1: white;\n",
       "                    --jp-layout-color2: #454545;\n",
       "                    background-color: #383838;\n",
       "                }\n",
       "\n",
       "                .geemap-dark .jupyter-button {\n",
       "                    --jp-layout-color3: #383838;\n",
       "                }\n",
       "\n",
       "                .geemap-colab {\n",
       "                    background-color: var(--colab-primary-surface-color, white);\n",
       "                }\n",
       "\n",
       "                .geemap-colab .jupyter-button {\n",
       "                    --jp-layout-color3: var(--colab-primary-surface-color, white);\n",
       "                }\n",
       "            </style>\n",
       "            "
      ],
      "text/plain": [
       "<IPython.core.display.HTML object>"
      ]
     },
     "metadata": {},
     "output_type": "display_data"
    }
   ],
   "source": [
    "time_filtered_glacier_decroissant=glacier_time_filtering_propre(glacier_filtered_RGI_merged_gpd)"
   ]
  },
  {
   "cell_type": "code",
   "execution_count": 34,
   "id": "6765e032-c5bb-4f4e-adf5-65811bfe7984",
   "metadata": {},
   "outputs": [
    {
     "data": {
      "text/html": [
       "\n",
       "            <style>\n",
       "                .geemap-dark {\n",
       "                    --jp-widgets-color: white;\n",
       "                    --jp-widgets-label-color: white;\n",
       "                    --jp-ui-font-color1: white;\n",
       "                    --jp-layout-color2: #454545;\n",
       "                    background-color: #383838;\n",
       "                }\n",
       "\n",
       "                .geemap-dark .jupyter-button {\n",
       "                    --jp-layout-color3: #383838;\n",
       "                }\n",
       "\n",
       "                .geemap-colab {\n",
       "                    background-color: var(--colab-primary-surface-color, white);\n",
       "                }\n",
       "\n",
       "                .geemap-colab .jupyter-button {\n",
       "                    --jp-layout-color3: var(--colab-primary-surface-color, white);\n",
       "                }\n",
       "            </style>\n",
       "            "
      ],
      "text/plain": [
       "<IPython.core.display.HTML object>"
      ]
     },
     "metadata": {},
     "output_type": "display_data"
    }
   ],
   "source": [
    "time_filtered_glacier_propre_total=glacier_time_filtering_propre_total(glacier_filtered_RGI_merged_gpd)"
   ]
  },
  {
   "cell_type": "code",
   "execution_count": 35,
   "id": "8df69099-1f9a-4300-be93-e044768da496",
   "metadata": {},
   "outputs": [
    {
     "data": {
      "text/html": [
       "\n",
       "            <style>\n",
       "                .geemap-dark {\n",
       "                    --jp-widgets-color: white;\n",
       "                    --jp-widgets-label-color: white;\n",
       "                    --jp-ui-font-color1: white;\n",
       "                    --jp-layout-color2: #454545;\n",
       "                    background-color: #383838;\n",
       "                }\n",
       "\n",
       "                .geemap-dark .jupyter-button {\n",
       "                    --jp-layout-color3: #383838;\n",
       "                }\n",
       "\n",
       "                .geemap-colab {\n",
       "                    background-color: var(--colab-primary-surface-color, white);\n",
       "                }\n",
       "\n",
       "                .geemap-colab .jupyter-button {\n",
       "                    --jp-layout-color3: var(--colab-primary-surface-color, white);\n",
       "                }\n",
       "            </style>\n",
       "            "
      ],
      "text/plain": [
       "<IPython.core.display.HTML object>"
      ]
     },
     "metadata": {},
     "output_type": "display_data"
    }
   ],
   "source": [
    "# m=time_filtered_glacier_decroissant.explore(color='red',name='glacier')\n",
    "# time_filtered_glacier_test.explore(color='blue',name='filter',m=m)\n",
    "# folium.LayerControl().add_to(m)\n",
    "# m"
   ]
  },
  {
   "cell_type": "code",
   "execution_count": 36,
   "id": "bbd23354-4d0a-4435-8899-24e088ae55d2",
   "metadata": {},
   "outputs": [
    {
     "data": {
      "text/html": [
       "\n",
       "            <style>\n",
       "                .geemap-dark {\n",
       "                    --jp-widgets-color: white;\n",
       "                    --jp-widgets-label-color: white;\n",
       "                    --jp-ui-font-color1: white;\n",
       "                    --jp-layout-color2: #454545;\n",
       "                    background-color: #383838;\n",
       "                }\n",
       "\n",
       "                .geemap-dark .jupyter-button {\n",
       "                    --jp-layout-color3: #383838;\n",
       "                }\n",
       "\n",
       "                .geemap-colab {\n",
       "                    background-color: var(--colab-primary-surface-color, white);\n",
       "                }\n",
       "\n",
       "                .geemap-colab .jupyter-button {\n",
       "                    --jp-layout-color3: var(--colab-primary-surface-color, white);\n",
       "                }\n",
       "            </style>\n",
       "            "
      ],
      "text/plain": [
       "<IPython.core.display.HTML object>"
      ]
     },
     "metadata": {},
     "output_type": "display_data"
    }
   ],
   "source": [
    "# time_filtered_glacier_decroissant.to_file(\"C:/Users/ronir/Desktop/Google_Earth_Engine/Vdef/Vectors_filtered/gdf_glacier_filtrage_5ans.shp\")"
   ]
  },
  {
   "cell_type": "code",
   "execution_count": 37,
   "id": "d19ebee1-7350-446d-98e9-c5bb7b82c2dd",
   "metadata": {},
   "outputs": [
    {
     "data": {
      "text/html": [
       "\n",
       "            <style>\n",
       "                .geemap-dark {\n",
       "                    --jp-widgets-color: white;\n",
       "                    --jp-widgets-label-color: white;\n",
       "                    --jp-ui-font-color1: white;\n",
       "                    --jp-layout-color2: #454545;\n",
       "                    background-color: #383838;\n",
       "                }\n",
       "\n",
       "                .geemap-dark .jupyter-button {\n",
       "                    --jp-layout-color3: #383838;\n",
       "                }\n",
       "\n",
       "                .geemap-colab {\n",
       "                    background-color: var(--colab-primary-surface-color, white);\n",
       "                }\n",
       "\n",
       "                .geemap-colab .jupyter-button {\n",
       "                    --jp-layout-color3: var(--colab-primary-surface-color, white);\n",
       "                }\n",
       "            </style>\n",
       "            "
      ],
      "text/plain": [
       "<IPython.core.display.HTML object>"
      ]
     },
     "metadata": {},
     "output_type": "display_data"
    }
   ],
   "source": [
    "# time_filtered_glacier_propre.to_file(\"C:/Users/ronir/Desktop/Google_Earth_Engine/Vdef/Vectors_filtered/gdf_glacier_filtrage_total.shp\")"
   ]
  },
  {
   "cell_type": "markdown",
   "id": "9fd51844-195a-4ceb-aad2-34cf5c4efddd",
   "metadata": {},
   "source": [
    "-----------------------------------------"
   ]
  },
  {
   "cell_type": "markdown",
   "id": "ad85848c-9d1d-4cac-b1c5-7d346de5f653",
   "metadata": {},
   "source": [
    "# II. FILTERING WATER"
   ]
  },
  {
   "cell_type": "markdown",
   "id": "0ca63eed-4672-441c-bb8d-a85acf9e529c",
   "metadata": {},
   "source": [
    "### filtering water error in glacier"
   ]
  },
  {
   "cell_type": "code",
   "execution_count": 38,
   "id": "1f19e88d-ebe7-4f34-95a6-631f207c21c3",
   "metadata": {},
   "outputs": [
    {
     "data": {
      "text/html": [
       "\n",
       "            <style>\n",
       "                .geemap-dark {\n",
       "                    --jp-widgets-color: white;\n",
       "                    --jp-widgets-label-color: white;\n",
       "                    --jp-ui-font-color1: white;\n",
       "                    --jp-layout-color2: #454545;\n",
       "                    background-color: #383838;\n",
       "                }\n",
       "\n",
       "                .geemap-dark .jupyter-button {\n",
       "                    --jp-layout-color3: #383838;\n",
       "                }\n",
       "\n",
       "                .geemap-colab {\n",
       "                    background-color: var(--colab-primary-surface-color, white);\n",
       "                }\n",
       "\n",
       "                .geemap-colab .jupyter-button {\n",
       "                    --jp-layout-color3: var(--colab-primary-surface-color, white);\n",
       "                }\n",
       "            </style>\n",
       "            "
      ],
      "text/plain": [
       "<IPython.core.display.HTML object>"
      ]
     },
     "metadata": {},
     "output_type": "display_data"
    }
   ],
   "source": [
    "water_in_glacier, water_outside=filter_water_by_glacier_gpd(gdf_water, gdf_glacier)"
   ]
  },
  {
   "cell_type": "markdown",
   "id": "25999620-f68d-4c25-a761-92a90755f229",
   "metadata": {},
   "source": [
    "### filtering water in RGI"
   ]
  },
  {
   "cell_type": "code",
   "execution_count": 39,
   "id": "cd9d4193-1183-45da-9dee-798c425b3d54",
   "metadata": {
    "scrolled": true
   },
   "outputs": [
    {
     "data": {
      "text/html": [
       "\n",
       "            <style>\n",
       "                .geemap-dark {\n",
       "                    --jp-widgets-color: white;\n",
       "                    --jp-widgets-label-color: white;\n",
       "                    --jp-ui-font-color1: white;\n",
       "                    --jp-layout-color2: #454545;\n",
       "                    background-color: #383838;\n",
       "                }\n",
       "\n",
       "                .geemap-dark .jupyter-button {\n",
       "                    --jp-layout-color3: #383838;\n",
       "                }\n",
       "\n",
       "                .geemap-colab {\n",
       "                    background-color: var(--colab-primary-surface-color, white);\n",
       "                }\n",
       "\n",
       "                .geemap-colab .jupyter-button {\n",
       "                    --jp-layout-color3: var(--colab-primary-surface-color, white);\n",
       "                }\n",
       "            </style>\n",
       "            "
      ],
      "text/plain": [
       "<IPython.core.display.HTML object>"
      ]
     },
     "metadata": {},
     "output_type": "display_data"
    }
   ],
   "source": [
    "water_outside_rgi_2000 = exclude_inside_RGI_water(water_outside, geom_RGI_FR_2000_to_export_year,2000)"
   ]
  },
  {
   "cell_type": "code",
   "execution_count": 40,
   "id": "9eac900c-9079-4307-a347-12c2e4641732",
   "metadata": {
    "scrolled": true
   },
   "outputs": [
    {
     "data": {
      "text/html": [
       "\n",
       "            <style>\n",
       "                .geemap-dark {\n",
       "                    --jp-widgets-color: white;\n",
       "                    --jp-widgets-label-color: white;\n",
       "                    --jp-ui-font-color1: white;\n",
       "                    --jp-layout-color2: #454545;\n",
       "                    background-color: #383838;\n",
       "                }\n",
       "\n",
       "                .geemap-dark .jupyter-button {\n",
       "                    --jp-layout-color3: #383838;\n",
       "                }\n",
       "\n",
       "                .geemap-colab {\n",
       "                    background-color: var(--colab-primary-surface-color, white);\n",
       "                }\n",
       "\n",
       "                .geemap-colab .jupyter-button {\n",
       "                    --jp-layout-color3: var(--colab-primary-surface-color, white);\n",
       "                }\n",
       "            </style>\n",
       "            "
      ],
      "text/plain": [
       "<IPython.core.display.HTML object>"
      ]
     },
     "metadata": {},
     "output_type": "display_data"
    }
   ],
   "source": [
    "water_outside_rgi_2015 = exclude_inside_RGI_water(water_outside, geom_RGI_FR_2015_to_export_year,2015)"
   ]
  },
  {
   "cell_type": "markdown",
   "id": "0e1a7c4c-a4bf-4c90-bac7-4c79371b0bd3",
   "metadata": {},
   "source": [
    "Merging and conserving the filtered years"
   ]
  },
  {
   "cell_type": "code",
   "execution_count": 41,
   "id": "969240b6-d4fb-426c-8984-4550bf4b44b3",
   "metadata": {},
   "outputs": [
    {
     "data": {
      "text/html": [
       "\n",
       "            <style>\n",
       "                .geemap-dark {\n",
       "                    --jp-widgets-color: white;\n",
       "                    --jp-widgets-label-color: white;\n",
       "                    --jp-ui-font-color1: white;\n",
       "                    --jp-layout-color2: #454545;\n",
       "                    background-color: #383838;\n",
       "                }\n",
       "\n",
       "                .geemap-dark .jupyter-button {\n",
       "                    --jp-layout-color3: #383838;\n",
       "                }\n",
       "\n",
       "                .geemap-colab {\n",
       "                    background-color: var(--colab-primary-surface-color, white);\n",
       "                }\n",
       "\n",
       "                .geemap-colab .jupyter-button {\n",
       "                    --jp-layout-color3: var(--colab-primary-surface-color, white);\n",
       "                }\n",
       "            </style>\n",
       "            "
      ],
      "text/plain": [
       "<IPython.core.display.HTML object>"
      ]
     },
     "metadata": {},
     "output_type": "display_data"
    }
   ],
   "source": [
    "water_filtered_RGI_merged = []\n",
    "\n",
    "# Ajout des années 1984 à 2000 depuis water_outside_rgi_2000\n",
    "for year in range(1984, 2001):\n",
    "    water_filtered_RGI_merged.append(water_outside_rgi_2000[water_outside_rgi_2000[\"year\"]==year])\n",
    "\n",
    "# Ajout des années 2001 à 2015 depuis water_outside_rgi_2015\n",
    "for year in range(2001, 2016):\n",
    "    water_filtered_RGI_merged.append(water_outside_rgi_2015[water_outside_rgi_2015[\"year\"]==year])\n",
    "\n",
    "# Ajout des années 2016 à 2024 depuis water_outside\n",
    "for year in range(2016, 2025):\n",
    "    water_filtered_RGI_merged.append(water_outside[water_outside[\"year\"]==year])"
   ]
  },
  {
   "cell_type": "code",
   "execution_count": 42,
   "id": "ac8c3be0-8174-43ae-895e-0d25b1e3f079",
   "metadata": {
    "scrolled": true
   },
   "outputs": [
    {
     "data": {
      "text/html": [
       "\n",
       "            <style>\n",
       "                .geemap-dark {\n",
       "                    --jp-widgets-color: white;\n",
       "                    --jp-widgets-label-color: white;\n",
       "                    --jp-ui-font-color1: white;\n",
       "                    --jp-layout-color2: #454545;\n",
       "                    background-color: #383838;\n",
       "                }\n",
       "\n",
       "                .geemap-dark .jupyter-button {\n",
       "                    --jp-layout-color3: #383838;\n",
       "                }\n",
       "\n",
       "                .geemap-colab {\n",
       "                    background-color: var(--colab-primary-surface-color, white);\n",
       "                }\n",
       "\n",
       "                .geemap-colab .jupyter-button {\n",
       "                    --jp-layout-color3: var(--colab-primary-surface-color, white);\n",
       "                }\n",
       "            </style>\n",
       "            "
      ],
      "text/plain": [
       "<IPython.core.display.HTML object>"
      ]
     },
     "metadata": {},
     "output_type": "display_data"
    }
   ],
   "source": [
    "water_filtered_RGI_merged_gpd=pd.concat(water_filtered_RGI_merged, ignore_index=True)"
   ]
  },
  {
   "cell_type": "markdown",
   "id": "616fde7e-21b5-40e8-aaab-fa3c95e83e4e",
   "metadata": {},
   "source": [
    "## Clipping water to  lakes classif (no buffer, see validation)"
   ]
  },
  {
   "cell_type": "code",
   "execution_count": 53,
   "id": "3e8d7a87-2ecb-4e33-bbbb-1ed40a2e3680",
   "metadata": {},
   "outputs": [
    {
     "data": {
      "text/html": [
       "\n",
       "            <style>\n",
       "                .geemap-dark {\n",
       "                    --jp-widgets-color: white;\n",
       "                    --jp-widgets-label-color: white;\n",
       "                    --jp-ui-font-color1: white;\n",
       "                    --jp-layout-color2: #454545;\n",
       "                    background-color: #383838;\n",
       "                }\n",
       "\n",
       "                .geemap-dark .jupyter-button {\n",
       "                    --jp-layout-color3: #383838;\n",
       "                }\n",
       "\n",
       "                .geemap-colab {\n",
       "                    background-color: var(--colab-primary-surface-color, white);\n",
       "                }\n",
       "\n",
       "                .geemap-colab .jupyter-button {\n",
       "                    --jp-layout-color3: var(--colab-primary-surface-color, white);\n",
       "                }\n",
       "            </style>\n",
       "            "
      ],
      "text/plain": [
       "<IPython.core.display.HTML object>"
      ]
     },
     "metadata": {},
     "output_type": "display_data"
    }
   ],
   "source": [
    "# 1. Reprojeter en Lambert-93 (mètres)\n",
    "lake_shape_projected = lake_classif_inrae_clean_gt900m2.to_crs(epsg=4326)\n",
    "\n",
    "# # Filtrer les petits lacs (< 900 m²)\n",
    "# lake_shape_projected[\"area_m2\"] = lake_shape_projected.geometry.area\n",
    "# lake_shape_filtered = lake_shape_projected[lake_shape_projected[\"area_m2\"] >= 900].copy()\n",
    "\n",
    "# # 2. Appliquer le buffer de 15 m (1/2 pixel landsat)\n",
    "# lake_shape_buffered = lake_shape_filtered.copy()\n",
    "# lake_shape_buffered[\"geometry\"] = lake_shape_filtered.geometry\n",
    "\n",
    "# # 3. Reprojeter en EPSG:4326 \n",
    "# lake_shape_buffered = lake_shape_buffered.to_crs(epsg=4326)"
   ]
  },
  {
   "cell_type": "markdown",
   "id": "441fa0dc-91f7-43cf-9f4d-bb52366685f8",
   "metadata": {},
   "source": [
    "clipping water classification to lakes shape"
   ]
  },
  {
   "cell_type": "code",
   "execution_count": 54,
   "id": "3f577348-bf2c-41ea-a7a7-429bf495a81e",
   "metadata": {},
   "outputs": [
    {
     "data": {
      "text/html": [
       "\n",
       "            <style>\n",
       "                .geemap-dark {\n",
       "                    --jp-widgets-color: white;\n",
       "                    --jp-widgets-label-color: white;\n",
       "                    --jp-ui-font-color1: white;\n",
       "                    --jp-layout-color2: #454545;\n",
       "                    background-color: #383838;\n",
       "                }\n",
       "\n",
       "                .geemap-dark .jupyter-button {\n",
       "                    --jp-layout-color3: #383838;\n",
       "                }\n",
       "\n",
       "                .geemap-colab {\n",
       "                    background-color: var(--colab-primary-surface-color, white);\n",
       "                }\n",
       "\n",
       "                .geemap-colab .jupyter-button {\n",
       "                    --jp-layout-color3: var(--colab-primary-surface-color, white);\n",
       "                }\n",
       "            </style>\n",
       "            "
      ],
      "text/plain": [
       "<IPython.core.display.HTML object>"
      ]
     },
     "metadata": {},
     "output_type": "display_data"
    }
   ],
   "source": [
    "gdf_lake_unfiltered=gpd.clip(water_filtered_RGI_merged_gpd, lake_shape_projected)"
   ]
  },
  {
   "cell_type": "markdown",
   "id": "01bf5c9b-315d-4892-84e3-debad2613d7f",
   "metadata": {},
   "source": [
    "## Time filtering (5 years)"
   ]
  },
  {
   "cell_type": "code",
   "execution_count": 55,
   "id": "7b432727-e461-412a-b4a3-bc301c7958d7",
   "metadata": {
    "scrolled": true
   },
   "outputs": [
    {
     "data": {
      "text/html": [
       "\n",
       "            <style>\n",
       "                .geemap-dark {\n",
       "                    --jp-widgets-color: white;\n",
       "                    --jp-widgets-label-color: white;\n",
       "                    --jp-ui-font-color1: white;\n",
       "                    --jp-layout-color2: #454545;\n",
       "                    background-color: #383838;\n",
       "                }\n",
       "\n",
       "                .geemap-dark .jupyter-button {\n",
       "                    --jp-layout-color3: #383838;\n",
       "                }\n",
       "\n",
       "                .geemap-colab {\n",
       "                    background-color: var(--colab-primary-surface-color, white);\n",
       "                }\n",
       "\n",
       "                .geemap-colab .jupyter-button {\n",
       "                    --jp-layout-color3: var(--colab-primary-surface-color, white);\n",
       "                }\n",
       "            </style>\n",
       "            "
      ],
      "text/plain": [
       "<IPython.core.display.HTML object>"
      ]
     },
     "metadata": {},
     "output_type": "display_data"
    }
   ],
   "source": [
    "time_filtered_water_5y=water_time_filtering_propre(gdf_lake_unfiltered)"
   ]
  },
  {
   "cell_type": "code",
   "execution_count": 56,
   "id": "1cf20c14-fcc7-4fd4-ac86-612ba6f9246f",
   "metadata": {
    "scrolled": true
   },
   "outputs": [
    {
     "data": {
      "text/html": [
       "\n",
       "            <style>\n",
       "                .geemap-dark {\n",
       "                    --jp-widgets-color: white;\n",
       "                    --jp-widgets-label-color: white;\n",
       "                    --jp-ui-font-color1: white;\n",
       "                    --jp-layout-color2: #454545;\n",
       "                    background-color: #383838;\n",
       "                }\n",
       "\n",
       "                .geemap-dark .jupyter-button {\n",
       "                    --jp-layout-color3: #383838;\n",
       "                }\n",
       "\n",
       "                .geemap-colab {\n",
       "                    background-color: var(--colab-primary-surface-color, white);\n",
       "                }\n",
       "\n",
       "                .geemap-colab .jupyter-button {\n",
       "                    --jp-layout-color3: var(--colab-primary-surface-color, white);\n",
       "                }\n",
       "            </style>\n",
       "            "
      ],
      "text/plain": [
       "<IPython.core.display.HTML object>"
      ]
     },
     "metadata": {},
     "output_type": "display_data"
    }
   ],
   "source": [
    "time_filtered_water_propre=water_time_filtering_propre_total(gdf_lake_unfiltered)"
   ]
  },
  {
   "cell_type": "code",
   "execution_count": 57,
   "id": "7980f3d7-def8-437a-a7f6-60356694afe0",
   "metadata": {},
   "outputs": [
    {
     "data": {
      "text/html": [
       "\n",
       "            <style>\n",
       "                .geemap-dark {\n",
       "                    --jp-widgets-color: white;\n",
       "                    --jp-widgets-label-color: white;\n",
       "                    --jp-ui-font-color1: white;\n",
       "                    --jp-layout-color2: #454545;\n",
       "                    background-color: #383838;\n",
       "                }\n",
       "\n",
       "                .geemap-dark .jupyter-button {\n",
       "                    --jp-layout-color3: #383838;\n",
       "                }\n",
       "\n",
       "                .geemap-colab {\n",
       "                    background-color: var(--colab-primary-surface-color, white);\n",
       "                }\n",
       "\n",
       "                .geemap-colab .jupyter-button {\n",
       "                    --jp-layout-color3: var(--colab-primary-surface-color, white);\n",
       "                }\n",
       "            </style>\n",
       "            "
      ],
      "text/plain": [
       "<IPython.core.display.HTML object>"
      ]
     },
     "metadata": {},
     "output_type": "display_data"
    }
   ],
   "source": [
    "#time_filtered_water_propre.to_file('C:/Users/ronir/Desktop/Google_Earth_Engine/Vdef/gdf_test.shp')"
   ]
  },
  {
   "cell_type": "code",
   "execution_count": 58,
   "id": "b0ded89b-099c-4c6f-9d27-5c1eadbba214",
   "metadata": {},
   "outputs": [
    {
     "data": {
      "text/html": [
       "\n",
       "            <style>\n",
       "                .geemap-dark {\n",
       "                    --jp-widgets-color: white;\n",
       "                    --jp-widgets-label-color: white;\n",
       "                    --jp-ui-font-color1: white;\n",
       "                    --jp-layout-color2: #454545;\n",
       "                    background-color: #383838;\n",
       "                }\n",
       "\n",
       "                .geemap-dark .jupyter-button {\n",
       "                    --jp-layout-color3: #383838;\n",
       "                }\n",
       "\n",
       "                .geemap-colab {\n",
       "                    background-color: var(--colab-primary-surface-color, white);\n",
       "                }\n",
       "\n",
       "                .geemap-colab .jupyter-button {\n",
       "                    --jp-layout-color3: var(--colab-primary-surface-color, white);\n",
       "                }\n",
       "            </style>\n",
       "            "
      ],
      "text/plain": [
       "<IPython.core.display.HTML object>"
      ]
     },
     "metadata": {},
     "output_type": "display_data"
    }
   ],
   "source": [
    "lakes_not_clipped=water_time_filtering_propre_total(water_filtered_RGI_merged_gpd)"
   ]
  },
  {
   "cell_type": "code",
   "execution_count": 61,
   "id": "e952c934-d0ba-415c-b2d6-eda857fb7976",
   "metadata": {},
   "outputs": [
    {
     "data": {
      "text/html": [
       "\n",
       "            <style>\n",
       "                .geemap-dark {\n",
       "                    --jp-widgets-color: white;\n",
       "                    --jp-widgets-label-color: white;\n",
       "                    --jp-ui-font-color1: white;\n",
       "                    --jp-layout-color2: #454545;\n",
       "                    background-color: #383838;\n",
       "                }\n",
       "\n",
       "                .geemap-dark .jupyter-button {\n",
       "                    --jp-layout-color3: #383838;\n",
       "                }\n",
       "\n",
       "                .geemap-colab {\n",
       "                    background-color: var(--colab-primary-surface-color, white);\n",
       "                }\n",
       "\n",
       "                .geemap-colab .jupyter-button {\n",
       "                    --jp-layout-color3: var(--colab-primary-surface-color, white);\n",
       "                }\n",
       "            </style>\n",
       "            "
      ],
      "text/plain": [
       "<IPython.core.display.HTML object>"
      ]
     },
     "metadata": {},
     "output_type": "display_data"
    },
    {
     "data": {
      "text/plain": [
       "102"
      ]
     },
     "execution_count": 61,
     "metadata": {},
     "output_type": "execute_result"
    }
   ],
   "source": [
    "len(time_filtered_water_propre[time_filtered_water_propre['year']==2024])"
   ]
  },
  {
   "cell_type": "code",
   "execution_count": 62,
   "id": "85c3b9c1-4b10-427d-bc12-42e27741ec98",
   "metadata": {},
   "outputs": [
    {
     "data": {
      "text/html": [
       "\n",
       "            <style>\n",
       "                .geemap-dark {\n",
       "                    --jp-widgets-color: white;\n",
       "                    --jp-widgets-label-color: white;\n",
       "                    --jp-ui-font-color1: white;\n",
       "                    --jp-layout-color2: #454545;\n",
       "                    background-color: #383838;\n",
       "                }\n",
       "\n",
       "                .geemap-dark .jupyter-button {\n",
       "                    --jp-layout-color3: #383838;\n",
       "                }\n",
       "\n",
       "                .geemap-colab {\n",
       "                    background-color: var(--colab-primary-surface-color, white);\n",
       "                }\n",
       "\n",
       "                .geemap-colab .jupyter-button {\n",
       "                    --jp-layout-color3: var(--colab-primary-surface-color, white);\n",
       "                }\n",
       "            </style>\n",
       "            "
      ],
      "text/plain": [
       "<IPython.core.display.HTML object>"
      ]
     },
     "metadata": {},
     "output_type": "display_data"
    }
   ],
   "source": [
    "# lakes_not_clipped.to_file('C:/Users/ronir/Desktop/Google_Earth_Engine/Vdef/Vectors_unfiltered/gdf_lake_not_clipped.shp')"
   ]
  },
  {
   "cell_type": "code",
   "execution_count": 63,
   "id": "01bd9339-3e4c-49e2-9081-5235942ddf63",
   "metadata": {},
   "outputs": [
    {
     "data": {
      "text/html": [
       "\n",
       "            <style>\n",
       "                .geemap-dark {\n",
       "                    --jp-widgets-color: white;\n",
       "                    --jp-widgets-label-color: white;\n",
       "                    --jp-ui-font-color1: white;\n",
       "                    --jp-layout-color2: #454545;\n",
       "                    background-color: #383838;\n",
       "                }\n",
       "\n",
       "                .geemap-dark .jupyter-button {\n",
       "                    --jp-layout-color3: #383838;\n",
       "                }\n",
       "\n",
       "                .geemap-colab {\n",
       "                    background-color: var(--colab-primary-surface-color, white);\n",
       "                }\n",
       "\n",
       "                .geemap-colab .jupyter-button {\n",
       "                    --jp-layout-color3: var(--colab-primary-surface-color, white);\n",
       "                }\n",
       "            </style>\n",
       "            "
      ],
      "text/plain": [
       "<IPython.core.display.HTML object>"
      ]
     },
     "metadata": {},
     "output_type": "display_data"
    }
   ],
   "source": [
    "# m=gdf_lake_unfiltered.explore(color='red',name='water')\n",
    "# time_filtered_water_5y.explore(color='blue',name='filter',m=m)\n",
    "# folium.LayerControl().add_to(m)\n",
    "# m"
   ]
  },
  {
   "cell_type": "markdown",
   "id": "f774d262-73f2-433f-bb86-2e5728b356b9",
   "metadata": {},
   "source": [
    "## Excluding water in glacier 2024"
   ]
  },
  {
   "cell_type": "code",
   "execution_count": 64,
   "id": "c2688def-72ad-4e56-8f73-2bd0cb638fe5",
   "metadata": {
    "scrolled": true
   },
   "outputs": [
    {
     "data": {
      "text/html": [
       "\n",
       "            <style>\n",
       "                .geemap-dark {\n",
       "                    --jp-widgets-color: white;\n",
       "                    --jp-widgets-label-color: white;\n",
       "                    --jp-ui-font-color1: white;\n",
       "                    --jp-layout-color2: #454545;\n",
       "                    background-color: #383838;\n",
       "                }\n",
       "\n",
       "                .geemap-dark .jupyter-button {\n",
       "                    --jp-layout-color3: #383838;\n",
       "                }\n",
       "\n",
       "                .geemap-colab {\n",
       "                    background-color: var(--colab-primary-surface-color, white);\n",
       "                }\n",
       "\n",
       "                .geemap-colab .jupyter-button {\n",
       "                    --jp-layout-color3: var(--colab-primary-surface-color, white);\n",
       "                }\n",
       "            </style>\n",
       "            "
      ],
      "text/plain": [
       "<IPython.core.display.HTML object>"
      ]
     },
     "metadata": {},
     "output_type": "display_data"
    }
   ],
   "source": [
    "gdf_lake_unfiltered_def_2024=exclude_water_inside_geometry(gdf_lake_unfiltered,time_filtered_glacier_propre_total[time_filtered_glacier_propre_total['year'] == 2024])"
   ]
  },
  {
   "cell_type": "code",
   "execution_count": 65,
   "id": "bb777bcc-aac4-4a68-9849-0a0461677406",
   "metadata": {},
   "outputs": [
    {
     "data": {
      "text/html": [
       "\n",
       "            <style>\n",
       "                .geemap-dark {\n",
       "                    --jp-widgets-color: white;\n",
       "                    --jp-widgets-label-color: white;\n",
       "                    --jp-ui-font-color1: white;\n",
       "                    --jp-layout-color2: #454545;\n",
       "                    background-color: #383838;\n",
       "                }\n",
       "\n",
       "                .geemap-dark .jupyter-button {\n",
       "                    --jp-layout-color3: #383838;\n",
       "                }\n",
       "\n",
       "                .geemap-colab {\n",
       "                    background-color: var(--colab-primary-surface-color, white);\n",
       "                }\n",
       "\n",
       "                .geemap-colab .jupyter-button {\n",
       "                    --jp-layout-color3: var(--colab-primary-surface-color, white);\n",
       "                }\n",
       "            </style>\n",
       "            "
      ],
      "text/plain": [
       "<IPython.core.display.HTML object>"
      ]
     },
     "metadata": {},
     "output_type": "display_data"
    }
   ],
   "source": [
    "gdf_lake_filtered_5y_def_2024=exclude_water_inside_geometry(time_filtered_water_5y,time_filtered_glacier_propre_total[time_filtered_glacier_propre_total['year'] == 2024])"
   ]
  },
  {
   "cell_type": "code",
   "execution_count": 66,
   "id": "d5a67326-43ae-42d7-830d-3f39f0bf845e",
   "metadata": {},
   "outputs": [
    {
     "data": {
      "text/html": [
       "\n",
       "            <style>\n",
       "                .geemap-dark {\n",
       "                    --jp-widgets-color: white;\n",
       "                    --jp-widgets-label-color: white;\n",
       "                    --jp-ui-font-color1: white;\n",
       "                    --jp-layout-color2: #454545;\n",
       "                    background-color: #383838;\n",
       "                }\n",
       "\n",
       "                .geemap-dark .jupyter-button {\n",
       "                    --jp-layout-color3: #383838;\n",
       "                }\n",
       "\n",
       "                .geemap-colab {\n",
       "                    background-color: var(--colab-primary-surface-color, white);\n",
       "                }\n",
       "\n",
       "                .geemap-colab .jupyter-button {\n",
       "                    --jp-layout-color3: var(--colab-primary-surface-color, white);\n",
       "                }\n",
       "            </style>\n",
       "            "
      ],
      "text/plain": [
       "<IPython.core.display.HTML object>"
      ]
     },
     "metadata": {},
     "output_type": "display_data"
    }
   ],
   "source": [
    "gdf_lake_filtered_total_def_2024=exclude_water_inside_geometry(time_filtered_water_propre,time_filtered_glacier_propre_total[time_filtered_glacier_propre_total['year'] == 2024])"
   ]
  },
  {
   "cell_type": "code",
   "execution_count": 69,
   "id": "e2b409a5-f6c9-4823-b132-2d22b7af15ee",
   "metadata": {},
   "outputs": [
    {
     "data": {
      "text/html": [
       "\n",
       "            <style>\n",
       "                .geemap-dark {\n",
       "                    --jp-widgets-color: white;\n",
       "                    --jp-widgets-label-color: white;\n",
       "                    --jp-ui-font-color1: white;\n",
       "                    --jp-layout-color2: #454545;\n",
       "                    background-color: #383838;\n",
       "                }\n",
       "\n",
       "                .geemap-dark .jupyter-button {\n",
       "                    --jp-layout-color3: #383838;\n",
       "                }\n",
       "\n",
       "                .geemap-colab {\n",
       "                    background-color: var(--colab-primary-surface-color, white);\n",
       "                }\n",
       "\n",
       "                .geemap-colab .jupyter-button {\n",
       "                    --jp-layout-color3: var(--colab-primary-surface-color, white);\n",
       "                }\n",
       "            </style>\n",
       "            "
      ],
      "text/plain": [
       "<IPython.core.display.HTML object>"
      ]
     },
     "metadata": {},
     "output_type": "display_data"
    },
    {
     "data": {
      "text/plain": [
       "102"
      ]
     },
     "execution_count": 69,
     "metadata": {},
     "output_type": "execute_result"
    }
   ],
   "source": [
    "len(gdf_lake_filtered_total_def_2024[gdf_lake_filtered_total_def_2024['year']==2024])"
   ]
  },
  {
   "cell_type": "code",
   "execution_count": 68,
   "id": "15acbfff-3d2d-40cc-b3ee-3b499680ec5e",
   "metadata": {},
   "outputs": [
    {
     "data": {
      "text/html": [
       "\n",
       "            <style>\n",
       "                .geemap-dark {\n",
       "                    --jp-widgets-color: white;\n",
       "                    --jp-widgets-label-color: white;\n",
       "                    --jp-ui-font-color1: white;\n",
       "                    --jp-layout-color2: #454545;\n",
       "                    background-color: #383838;\n",
       "                }\n",
       "\n",
       "                .geemap-dark .jupyter-button {\n",
       "                    --jp-layout-color3: #383838;\n",
       "                }\n",
       "\n",
       "                .geemap-colab {\n",
       "                    background-color: var(--colab-primary-surface-color, white);\n",
       "                }\n",
       "\n",
       "                .geemap-colab .jupyter-button {\n",
       "                    --jp-layout-color3: var(--colab-primary-surface-color, white);\n",
       "                }\n",
       "            </style>\n",
       "            "
      ],
      "text/plain": [
       "<IPython.core.display.HTML object>"
      ]
     },
     "metadata": {},
     "output_type": "display_data"
    },
    {
     "data": {
      "text/plain": [
       "64"
      ]
     },
     "execution_count": 68,
     "metadata": {},
     "output_type": "execute_result"
    }
   ],
   "source": [
    "len(gdf_lake_unfiltered_def_2024[gdf_lake_unfiltered_def_2024['year']==2000])"
   ]
  },
  {
   "cell_type": "code",
   "execution_count": 71,
   "id": "126dca15-f108-4b95-be5e-b95f48450ba0",
   "metadata": {},
   "outputs": [
    {
     "data": {
      "text/html": [
       "\n",
       "            <style>\n",
       "                .geemap-dark {\n",
       "                    --jp-widgets-color: white;\n",
       "                    --jp-widgets-label-color: white;\n",
       "                    --jp-ui-font-color1: white;\n",
       "                    --jp-layout-color2: #454545;\n",
       "                    background-color: #383838;\n",
       "                }\n",
       "\n",
       "                .geemap-dark .jupyter-button {\n",
       "                    --jp-layout-color3: #383838;\n",
       "                }\n",
       "\n",
       "                .geemap-colab {\n",
       "                    background-color: var(--colab-primary-surface-color, white);\n",
       "                }\n",
       "\n",
       "                .geemap-colab .jupyter-button {\n",
       "                    --jp-layout-color3: var(--colab-primary-surface-color, white);\n",
       "                }\n",
       "            </style>\n",
       "            "
      ],
      "text/plain": [
       "<IPython.core.display.HTML object>"
      ]
     },
     "metadata": {},
     "output_type": "display_data"
    }
   ],
   "source": [
    "gdf_lake_unfiltered_def_2024.to_file('C:/Users/ronir/Desktop/Google_Earth_Engine/Vdef/Vectors_unfiltered/gdf_lake_sans_filtrage.shp')"
   ]
  },
  {
   "cell_type": "code",
   "execution_count": 55,
   "id": "9570b2f6-e786-420c-8625-fcc958c9005a",
   "metadata": {},
   "outputs": [
    {
     "data": {
      "text/html": [
       "\n",
       "            <style>\n",
       "                .geemap-dark {\n",
       "                    --jp-widgets-color: white;\n",
       "                    --jp-widgets-label-color: white;\n",
       "                    --jp-ui-font-color1: white;\n",
       "                    --jp-layout-color2: #454545;\n",
       "                    background-color: #383838;\n",
       "                }\n",
       "\n",
       "                .geemap-dark .jupyter-button {\n",
       "                    --jp-layout-color3: #383838;\n",
       "                }\n",
       "\n",
       "                .geemap-colab {\n",
       "                    background-color: var(--colab-primary-surface-color, white);\n",
       "                }\n",
       "\n",
       "                .geemap-colab .jupyter-button {\n",
       "                    --jp-layout-color3: var(--colab-primary-surface-color, white);\n",
       "                }\n",
       "            </style>\n",
       "            "
      ],
      "text/plain": [
       "<IPython.core.display.HTML object>"
      ]
     },
     "metadata": {},
     "output_type": "display_data"
    }
   ],
   "source": [
    "# gdf_lake_filtered_5y_def_2024.to_file('C:/Users/ronir/Desktop/Google_Earth_Engine/Vdef/Vectors_filtered/gdf_lake_filtrage_5ans.shp')"
   ]
  },
  {
   "cell_type": "code",
   "execution_count": 56,
   "id": "7101ea9d-b78e-4ddc-8c37-157f4ac81dc3",
   "metadata": {},
   "outputs": [
    {
     "data": {
      "text/html": [
       "\n",
       "            <style>\n",
       "                .geemap-dark {\n",
       "                    --jp-widgets-color: white;\n",
       "                    --jp-widgets-label-color: white;\n",
       "                    --jp-ui-font-color1: white;\n",
       "                    --jp-layout-color2: #454545;\n",
       "                    background-color: #383838;\n",
       "                }\n",
       "\n",
       "                .geemap-dark .jupyter-button {\n",
       "                    --jp-layout-color3: #383838;\n",
       "                }\n",
       "\n",
       "                .geemap-colab {\n",
       "                    background-color: var(--colab-primary-surface-color, white);\n",
       "                }\n",
       "\n",
       "                .geemap-colab .jupyter-button {\n",
       "                    --jp-layout-color3: var(--colab-primary-surface-color, white);\n",
       "                }\n",
       "            </style>\n",
       "            "
      ],
      "text/plain": [
       "<IPython.core.display.HTML object>"
      ]
     },
     "metadata": {},
     "output_type": "display_data"
    }
   ],
   "source": [
    "# gdf_lake_filtered_total_def_2024.to_file('C:/Users/ronir/Desktop/Google_Earth_Engine/Vdef/Vectors_filtered/gdf_lake_filtrage_total.shp')"
   ]
  },
  {
   "cell_type": "markdown",
   "id": "b1fd5a84-4c44-4831-a141-b44d2866e806",
   "metadata": {},
   "source": [
    "---------------------------------"
   ]
  },
  {
   "cell_type": "markdown",
   "id": "51bf124a-29c0-4fb0-9d69-3429d639bd76",
   "metadata": {},
   "source": [
    "# III. Applying Conditions\n"
   ]
  },
  {
   "cell_type": "code",
   "execution_count": 57,
   "id": "aaf5dd6b-453d-489a-9243-522135d6472a",
   "metadata": {},
   "outputs": [
    {
     "data": {
      "text/html": [
       "\n",
       "            <style>\n",
       "                .geemap-dark {\n",
       "                    --jp-widgets-color: white;\n",
       "                    --jp-widgets-label-color: white;\n",
       "                    --jp-ui-font-color1: white;\n",
       "                    --jp-layout-color2: #454545;\n",
       "                    background-color: #383838;\n",
       "                }\n",
       "\n",
       "                .geemap-dark .jupyter-button {\n",
       "                    --jp-layout-color3: #383838;\n",
       "                }\n",
       "\n",
       "                .geemap-colab {\n",
       "                    background-color: var(--colab-primary-surface-color, white);\n",
       "                }\n",
       "\n",
       "                .geemap-colab .jupyter-button {\n",
       "                    --jp-layout-color3: var(--colab-primary-surface-color, white);\n",
       "                }\n",
       "            </style>\n",
       "            "
      ],
      "text/plain": [
       "<IPython.core.display.HTML object>"
      ]
     },
     "metadata": {},
     "output_type": "display_data"
    }
   ],
   "source": [
    "# import geopandas as gpd\n",
    "# import pandas as pd\n",
    "\n",
    "\n",
    "# def homogenize_lakes_total(gdf):\n",
    "#     years = sorted(gdf['year'].unique())\n",
    "\n",
    "#     # 1) On démarre la liste avec la toute première année \n",
    "#     gdf_homogenized_list = [gdf[gdf['year'] == years[0]]]\n",
    "\n",
    "#     # 2) On boucle sur toutes les années \n",
    "#     for year in years:\n",
    "#         y_n  = year\n",
    "#         y_n1 = year + 1\n",
    "\n",
    "#         # 3) On prend les données brutes de chaque année\n",
    "#         gdf_n  = gdf[gdf['year'] == y_n].copy()\n",
    "#         gdf_n1 = gdf[gdf['year'] == y_n1].copy()\n",
    "\n",
    "#         # 4) Préparer index pour le suivi dans gdf_n1\n",
    "#         gdf_n1 = gdf_n1.reset_index(drop=True)\n",
    "#         gdf_n1['index_n1'] = gdf_n1.index\n",
    "\n",
    "#         # 5) Jointure spatiale : qui de N intersecte N+1 ?\n",
    "#         joined = gdf_n.sjoin(gdf_n1, how='inner', predicate='intersects')\n",
    "\n",
    "#         gdf_n_to_overlay=gdf_n.loc[gdf_n.index.isin(joined.index)]\n",
    "        \n",
    "#         gdf_final=gpd.overlay(\n",
    "#         gdf_n1,       # premier jeu de polygones\n",
    "#         gdf_n_to_overlay,   # second jeu de polygones\n",
    "#         how='union', keep_geom_type=False \n",
    "#         )\n",
    "#         gdf_final = gdf_final[gdf_final.geometry.apply(lambda g: isinstance(g, (Polygon, MultiPolygon)))]\n",
    "#         gdf_final['year'] = y_n1\n",
    "#         gdf_final = gdf_final[['year', 'geometry']]\n",
    "\n",
    "#         # 8) On ajoute le GeoDataFrame N+1 traité à la liste\n",
    "#         gdf_homogenized_list.append(gdf_final)\n",
    "\n",
    "#     # 9) Concaténation de toutes les années traitées\n",
    "#     gdf_homogenized = pd.concat(gdf_homogenized_list, ignore_index=True)\n",
    "\n",
    "#     # 10) Tri final par année et reset index\n",
    "#     return (\n",
    "#         gdf_homogenized\n",
    "#           .sort_values(by='year', ascending=True)\n",
    "#           .reset_index(drop=True)\n",
    "#     )"
   ]
  },
  {
   "cell_type": "markdown",
   "id": "07ca3fe4-4c79-451e-9276-d091fd77ed78",
   "metadata": {},
   "source": [
    "water(n)-----> water(n+1)"
   ]
  },
  {
   "cell_type": "code",
   "execution_count": 58,
   "id": "2d21e246-b914-4df0-9746-190018e7e1a0",
   "metadata": {
    "scrolled": true
   },
   "outputs": [
    {
     "data": {
      "text/html": [
       "\n",
       "            <style>\n",
       "                .geemap-dark {\n",
       "                    --jp-widgets-color: white;\n",
       "                    --jp-widgets-label-color: white;\n",
       "                    --jp-ui-font-color1: white;\n",
       "                    --jp-layout-color2: #454545;\n",
       "                    background-color: #383838;\n",
       "                }\n",
       "\n",
       "                .geemap-dark .jupyter-button {\n",
       "                    --jp-layout-color3: #383838;\n",
       "                }\n",
       "\n",
       "                .geemap-colab {\n",
       "                    background-color: var(--colab-primary-surface-color, white);\n",
       "                }\n",
       "\n",
       "                .geemap-colab .jupyter-button {\n",
       "                    --jp-layout-color3: var(--colab-primary-surface-color, white);\n",
       "                }\n",
       "            </style>\n",
       "            "
      ],
      "text/plain": [
       "<IPython.core.display.HTML object>"
      ]
     },
     "metadata": {},
     "output_type": "display_data"
    }
   ],
   "source": [
    "# gdf_homog_2016 = homogenize_lakes_2015_2016(gdf_lake_filtered_total_def_2024)"
   ]
  },
  {
   "cell_type": "code",
   "execution_count": 59,
   "id": "039a97f0-2415-42ad-8161-f986933f1b44",
   "metadata": {},
   "outputs": [
    {
     "data": {
      "text/html": [
       "\n",
       "            <style>\n",
       "                .geemap-dark {\n",
       "                    --jp-widgets-color: white;\n",
       "                    --jp-widgets-label-color: white;\n",
       "                    --jp-ui-font-color1: white;\n",
       "                    --jp-layout-color2: #454545;\n",
       "                    background-color: #383838;\n",
       "                }\n",
       "\n",
       "                .geemap-dark .jupyter-button {\n",
       "                    --jp-layout-color3: #383838;\n",
       "                }\n",
       "\n",
       "                .geemap-colab {\n",
       "                    background-color: var(--colab-primary-surface-color, white);\n",
       "                }\n",
       "\n",
       "                .geemap-colab .jupyter-button {\n",
       "                    --jp-layout-color3: var(--colab-primary-surface-color, white);\n",
       "                }\n",
       "            </style>\n",
       "            "
      ],
      "text/plain": [
       "<IPython.core.display.HTML object>"
      ]
     },
     "metadata": {},
     "output_type": "display_data"
    }
   ],
   "source": [
    "# gdf_lake_homogenized=homogenize_lakes_total(gdf_lake_filtered_total_def_2024)"
   ]
  },
  {
   "cell_type": "code",
   "execution_count": 60,
   "id": "57427e0d-f26b-4ca0-a5bd-000531b7c723",
   "metadata": {},
   "outputs": [
    {
     "data": {
      "text/html": [
       "\n",
       "            <style>\n",
       "                .geemap-dark {\n",
       "                    --jp-widgets-color: white;\n",
       "                    --jp-widgets-label-color: white;\n",
       "                    --jp-ui-font-color1: white;\n",
       "                    --jp-layout-color2: #454545;\n",
       "                    background-color: #383838;\n",
       "                }\n",
       "\n",
       "                .geemap-dark .jupyter-button {\n",
       "                    --jp-layout-color3: #383838;\n",
       "                }\n",
       "\n",
       "                .geemap-colab {\n",
       "                    background-color: var(--colab-primary-surface-color, white);\n",
       "                }\n",
       "\n",
       "                .geemap-colab .jupyter-button {\n",
       "                    --jp-layout-color3: var(--colab-primary-surface-color, white);\n",
       "                }\n",
       "            </style>\n",
       "            "
      ],
      "text/plain": [
       "<IPython.core.display.HTML object>"
      ]
     },
     "metadata": {},
     "output_type": "display_data"
    }
   ],
   "source": [
    "# from shapely.geometry import Polygon, MultiPolygon\n",
    "\n",
    "# gdf_polygons_only = gdf_lake_homogenized[gdf_lake_homogenized.geometry.apply(lambda geom: isinstance(geom, (Polygon, MultiPolygon)))]\n",
    "# gdf_polygons_only.to_file('C:/Users/ronir/Desktop/Google_Earth_Engine/Vdef/Vectors_filtered/gdf_lake_homogenized.shp')\n"
   ]
  },
  {
   "cell_type": "markdown",
   "id": "31fa3347-b3d2-4faf-b7eb-ba2b49084306",
   "metadata": {},
   "source": [
    "lake classification > glacier"
   ]
  },
  {
   "cell_type": "code",
   "execution_count": 72,
   "id": "25d86215-7e69-4072-a11b-7d963401a729",
   "metadata": {},
   "outputs": [
    {
     "data": {
      "text/html": [
       "\n",
       "            <style>\n",
       "                .geemap-dark {\n",
       "                    --jp-widgets-color: white;\n",
       "                    --jp-widgets-label-color: white;\n",
       "                    --jp-ui-font-color1: white;\n",
       "                    --jp-layout-color2: #454545;\n",
       "                    background-color: #383838;\n",
       "                }\n",
       "\n",
       "                .geemap-dark .jupyter-button {\n",
       "                    --jp-layout-color3: #383838;\n",
       "                }\n",
       "\n",
       "                .geemap-colab {\n",
       "                    background-color: var(--colab-primary-surface-color, white);\n",
       "                }\n",
       "\n",
       "                .geemap-colab .jupyter-button {\n",
       "                    --jp-layout-color3: var(--colab-primary-surface-color, white);\n",
       "                }\n",
       "            </style>\n",
       "            "
      ],
      "text/plain": [
       "<IPython.core.display.HTML object>"
      ]
     },
     "metadata": {},
     "output_type": "display_data"
    }
   ],
   "source": [
    "lake_diss=gdf_lake_filtered_total_def_2024.loc[gdf_lake_filtered_total_def_2024['year']>1984].dissolve(by='year')"
   ]
  },
  {
   "cell_type": "code",
   "execution_count": 73,
   "id": "06f3dca9-6869-45f4-b45e-2d783844e770",
   "metadata": {},
   "outputs": [
    {
     "data": {
      "text/html": [
       "\n",
       "            <style>\n",
       "                .geemap-dark {\n",
       "                    --jp-widgets-color: white;\n",
       "                    --jp-widgets-label-color: white;\n",
       "                    --jp-ui-font-color1: white;\n",
       "                    --jp-layout-color2: #454545;\n",
       "                    background-color: #383838;\n",
       "                }\n",
       "\n",
       "                .geemap-dark .jupyter-button {\n",
       "                    --jp-layout-color3: #383838;\n",
       "                }\n",
       "\n",
       "                .geemap-colab {\n",
       "                    background-color: var(--colab-primary-surface-color, white);\n",
       "                }\n",
       "\n",
       "                .geemap-colab .jupyter-button {\n",
       "                    --jp-layout-color3: var(--colab-primary-surface-color, white);\n",
       "                }\n",
       "            </style>\n",
       "            "
      ],
      "text/plain": [
       "<IPython.core.display.HTML object>"
      ]
     },
     "metadata": {},
     "output_type": "display_data"
    }
   ],
   "source": [
    "glacier_diss=time_filtered_glacier_propre_total.dissolve(by='year')"
   ]
  },
  {
   "cell_type": "code",
   "execution_count": 74,
   "id": "c8ccff01-eb6a-4800-a4bb-a4edacc8225d",
   "metadata": {},
   "outputs": [
    {
     "data": {
      "text/html": [
       "\n",
       "            <style>\n",
       "                .geemap-dark {\n",
       "                    --jp-widgets-color: white;\n",
       "                    --jp-widgets-label-color: white;\n",
       "                    --jp-ui-font-color1: white;\n",
       "                    --jp-layout-color2: #454545;\n",
       "                    background-color: #383838;\n",
       "                }\n",
       "\n",
       "                .geemap-dark .jupyter-button {\n",
       "                    --jp-layout-color3: #383838;\n",
       "                }\n",
       "\n",
       "                .geemap-colab {\n",
       "                    background-color: var(--colab-primary-surface-color, white);\n",
       "                }\n",
       "\n",
       "                .geemap-colab .jupyter-button {\n",
       "                    --jp-layout-color3: var(--colab-primary-surface-color, white);\n",
       "                }\n",
       "            </style>\n",
       "            "
      ],
      "text/plain": [
       "<IPython.core.display.HTML object>"
      ]
     },
     "metadata": {},
     "output_type": "display_data"
    }
   ],
   "source": [
    "glacier_classified=glacier_diss.assign(geom_diff=glacier_diss.difference(lake_diss))"
   ]
  },
  {
   "cell_type": "code",
   "execution_count": 75,
   "id": "6a2b244a-feac-4f8e-a056-2b9f12a5ba68",
   "metadata": {},
   "outputs": [
    {
     "data": {
      "text/html": [
       "\n",
       "            <style>\n",
       "                .geemap-dark {\n",
       "                    --jp-widgets-color: white;\n",
       "                    --jp-widgets-label-color: white;\n",
       "                    --jp-ui-font-color1: white;\n",
       "                    --jp-layout-color2: #454545;\n",
       "                    background-color: #383838;\n",
       "                }\n",
       "\n",
       "                .geemap-dark .jupyter-button {\n",
       "                    --jp-layout-color3: #383838;\n",
       "                }\n",
       "\n",
       "                .geemap-colab {\n",
       "                    background-color: var(--colab-primary-surface-color, white);\n",
       "                }\n",
       "\n",
       "                .geemap-colab .jupyter-button {\n",
       "                    --jp-layout-color3: var(--colab-primary-surface-color, white);\n",
       "                }\n",
       "            </style>\n",
       "            "
      ],
      "text/plain": [
       "<IPython.core.display.HTML object>"
      ]
     },
     "metadata": {},
     "output_type": "display_data"
    }
   ],
   "source": [
    "glacier_final=glacier_classified.drop(columns=[\"geometry\"]).rename(columns={\"geom_diff\":\"geometry\"}).set_geometry(\"geometry\").explode()"
   ]
  },
  {
   "cell_type": "code",
   "execution_count": 76,
   "id": "3f7c33b4-4a07-4a74-820f-6e025368b35d",
   "metadata": {},
   "outputs": [
    {
     "data": {
      "text/html": [
       "\n",
       "            <style>\n",
       "                .geemap-dark {\n",
       "                    --jp-widgets-color: white;\n",
       "                    --jp-widgets-label-color: white;\n",
       "                    --jp-ui-font-color1: white;\n",
       "                    --jp-layout-color2: #454545;\n",
       "                    background-color: #383838;\n",
       "                }\n",
       "\n",
       "                .geemap-dark .jupyter-button {\n",
       "                    --jp-layout-color3: #383838;\n",
       "                }\n",
       "\n",
       "                .geemap-colab {\n",
       "                    background-color: var(--colab-primary-surface-color, white);\n",
       "                }\n",
       "\n",
       "                .geemap-colab .jupyter-button {\n",
       "                    --jp-layout-color3: var(--colab-primary-surface-color, white);\n",
       "                }\n",
       "            </style>\n",
       "            "
      ],
      "text/plain": [
       "<IPython.core.display.HTML object>"
      ]
     },
     "metadata": {},
     "output_type": "display_data"
    }
   ],
   "source": [
    "glacier_final=glacier_final.reset_index(drop=False)"
   ]
  },
  {
   "cell_type": "markdown",
   "id": "37d69dc6-3b7a-4936-add7-36ca80dedf5b",
   "metadata": {},
   "source": [
    "# merging and exporting the gdf"
   ]
  },
  {
   "cell_type": "code",
   "execution_count": 77,
   "id": "37cae43b-c1d5-4c71-94dd-1857d687101f",
   "metadata": {},
   "outputs": [
    {
     "data": {
      "text/html": [
       "\n",
       "            <style>\n",
       "                .geemap-dark {\n",
       "                    --jp-widgets-color: white;\n",
       "                    --jp-widgets-label-color: white;\n",
       "                    --jp-ui-font-color1: white;\n",
       "                    --jp-layout-color2: #454545;\n",
       "                    background-color: #383838;\n",
       "                }\n",
       "\n",
       "                .geemap-dark .jupyter-button {\n",
       "                    --jp-layout-color3: #383838;\n",
       "                }\n",
       "\n",
       "                .geemap-colab {\n",
       "                    background-color: var(--colab-primary-surface-color, white);\n",
       "                }\n",
       "\n",
       "                .geemap-colab .jupyter-button {\n",
       "                    --jp-layout-color3: var(--colab-primary-surface-color, white);\n",
       "                }\n",
       "            </style>\n",
       "            "
      ],
      "text/plain": [
       "<IPython.core.display.HTML object>"
      ]
     },
     "metadata": {},
     "output_type": "display_data"
    }
   ],
   "source": [
    "# Ajouter une colonne source à chacun\n",
    "gdf_lake_def =gdf_lake_filtered_total_def_2024.copy()\n",
    "gdf_lake_def['source'] = 'water'\n",
    "\n",
    "gdf_glacier_def = glacier_final.copy()\n",
    "gdf_glacier_def['source'] = 'glacier'\n",
    "\n",
    "# Fusionner par année sur la plage souhaitée\n",
    "water_and_glacier_gdf = gpd.GeoDataFrame(\n",
    "    pd.concat(\n",
    "        [\n",
    "            pd.concat([\n",
    "                gdf_lake_def[gdf_lake_def['year'] == year],\n",
    "                gdf_glacier_def[gdf_glacier_def['year'] == year]\n",
    "            ])\n",
    "            for year in range(1985, 2025)\n",
    "        ],\n",
    "        ignore_index=True\n",
    "    ),\n",
    "    crs=gdf_lake_filtered_total_def_2024.crs\n",
    ")\n"
   ]
  },
  {
   "cell_type": "code",
   "execution_count": 78,
   "id": "1afc2d56-8872-4010-8827-856899c1a87f",
   "metadata": {},
   "outputs": [
    {
     "data": {
      "text/html": [
       "\n",
       "            <style>\n",
       "                .geemap-dark {\n",
       "                    --jp-widgets-color: white;\n",
       "                    --jp-widgets-label-color: white;\n",
       "                    --jp-ui-font-color1: white;\n",
       "                    --jp-layout-color2: #454545;\n",
       "                    background-color: #383838;\n",
       "                }\n",
       "\n",
       "                .geemap-dark .jupyter-button {\n",
       "                    --jp-layout-color3: #383838;\n",
       "                }\n",
       "\n",
       "                .geemap-colab {\n",
       "                    background-color: var(--colab-primary-surface-color, white);\n",
       "                }\n",
       "\n",
       "                .geemap-colab .jupyter-button {\n",
       "                    --jp-layout-color3: var(--colab-primary-surface-color, white);\n",
       "                }\n",
       "            </style>\n",
       "            "
      ],
      "text/plain": [
       "<IPython.core.display.HTML object>"
      ]
     },
     "metadata": {},
     "output_type": "display_data"
    }
   ],
   "source": [
    "water_and_glacier_gdf['value'] = water_and_glacier_gdf['source'].map({'water': 2, 'glacier': 1})"
   ]
  },
  {
   "cell_type": "code",
   "execution_count": 79,
   "id": "fa9f00d5-b097-4033-95b9-f5d4aa24ef15",
   "metadata": {},
   "outputs": [
    {
     "data": {
      "text/html": [
       "\n",
       "            <style>\n",
       "                .geemap-dark {\n",
       "                    --jp-widgets-color: white;\n",
       "                    --jp-widgets-label-color: white;\n",
       "                    --jp-ui-font-color1: white;\n",
       "                    --jp-layout-color2: #454545;\n",
       "                    background-color: #383838;\n",
       "                }\n",
       "\n",
       "                .geemap-dark .jupyter-button {\n",
       "                    --jp-layout-color3: #383838;\n",
       "                }\n",
       "\n",
       "                .geemap-colab {\n",
       "                    background-color: var(--colab-primary-surface-color, white);\n",
       "                }\n",
       "\n",
       "                .geemap-colab .jupyter-button {\n",
       "                    --jp-layout-color3: var(--colab-primary-surface-color, white);\n",
       "                }\n",
       "            </style>\n",
       "            "
      ],
      "text/plain": [
       "<IPython.core.display.HTML object>"
      ]
     },
     "metadata": {},
     "output_type": "display_data"
    }
   ],
   "source": [
    "water_and_glacier_gdf.to_file('C:/Users/ronir/Desktop/Google_Earth_Engine/Vdef/Vectors_filtered/glacier_and_lake_final.shp')"
   ]
  },
  {
   "cell_type": "code",
   "execution_count": 83,
   "id": "c38e141d-d8df-446d-a4ce-81b28fc0938d",
   "metadata": {},
   "outputs": [
    {
     "data": {
      "text/html": [
       "\n",
       "            <style>\n",
       "                .geemap-dark {\n",
       "                    --jp-widgets-color: white;\n",
       "                    --jp-widgets-label-color: white;\n",
       "                    --jp-ui-font-color1: white;\n",
       "                    --jp-layout-color2: #454545;\n",
       "                    background-color: #383838;\n",
       "                }\n",
       "\n",
       "                .geemap-dark .jupyter-button {\n",
       "                    --jp-layout-color3: #383838;\n",
       "                }\n",
       "\n",
       "                .geemap-colab {\n",
       "                    background-color: var(--colab-primary-surface-color, white);\n",
       "                }\n",
       "\n",
       "                .geemap-colab .jupyter-button {\n",
       "                    --jp-layout-color3: var(--colab-primary-surface-color, white);\n",
       "                }\n",
       "            </style>\n",
       "            "
      ],
      "text/plain": [
       "<IPython.core.display.HTML object>"
      ]
     },
     "metadata": {},
     "output_type": "display_data"
    }
   ],
   "source": [
    "# Séparer les lacs (eau)\n",
    "lake_def_clean = water_and_glacier_gdf[water_and_glacier_gdf[\"source\"] == \"water\"].copy()\n",
    "\n",
    "# Séparer les glaciers\n",
    "glacier_def_clean = water_and_glacier_gdf[water_and_glacier_gdf[\"source\"] == \"glacier\"].copy()"
   ]
  },
  {
   "cell_type": "code",
   "execution_count": null,
   "id": "44023437-b907-4fea-a64a-f1a799ee2625",
   "metadata": {},
   "outputs": [],
   "source": [
    "glacier_def_clean"
   ]
  },
  {
   "cell_type": "markdown",
   "id": "938cb51c-b55e-422b-9c6a-05885b64db8d",
   "metadata": {},
   "source": [
    "Final Export"
   ]
  },
  {
   "cell_type": "code",
   "execution_count": 84,
   "id": "e7f4c9b0-f43c-4e5e-b1d9-b63adf3152a3",
   "metadata": {},
   "outputs": [
    {
     "data": {
      "text/html": [
       "\n",
       "            <style>\n",
       "                .geemap-dark {\n",
       "                    --jp-widgets-color: white;\n",
       "                    --jp-widgets-label-color: white;\n",
       "                    --jp-ui-font-color1: white;\n",
       "                    --jp-layout-color2: #454545;\n",
       "                    background-color: #383838;\n",
       "                }\n",
       "\n",
       "                .geemap-dark .jupyter-button {\n",
       "                    --jp-layout-color3: #383838;\n",
       "                }\n",
       "\n",
       "                .geemap-colab {\n",
       "                    background-color: var(--colab-primary-surface-color, white);\n",
       "                }\n",
       "\n",
       "                .geemap-colab .jupyter-button {\n",
       "                    --jp-layout-color3: var(--colab-primary-surface-color, white);\n",
       "                }\n",
       "            </style>\n",
       "            "
      ],
      "text/plain": [
       "<IPython.core.display.HTML object>"
      ]
     },
     "metadata": {},
     "output_type": "display_data"
    }
   ],
   "source": [
    "lake_def_clean.to_file('C:/Users/ronir/Desktop/Google_Earth_Engine/Vdef/Vectors_filtered/lake_def_clean.shp')"
   ]
  },
  {
   "cell_type": "code",
   "execution_count": 85,
   "id": "d8cde52e-47d6-4f0f-ad5d-528e75311be5",
   "metadata": {},
   "outputs": [
    {
     "data": {
      "text/html": [
       "\n",
       "            <style>\n",
       "                .geemap-dark {\n",
       "                    --jp-widgets-color: white;\n",
       "                    --jp-widgets-label-color: white;\n",
       "                    --jp-ui-font-color1: white;\n",
       "                    --jp-layout-color2: #454545;\n",
       "                    background-color: #383838;\n",
       "                }\n",
       "\n",
       "                .geemap-dark .jupyter-button {\n",
       "                    --jp-layout-color3: #383838;\n",
       "                }\n",
       "\n",
       "                .geemap-colab {\n",
       "                    background-color: var(--colab-primary-surface-color, white);\n",
       "                }\n",
       "\n",
       "                .geemap-colab .jupyter-button {\n",
       "                    --jp-layout-color3: var(--colab-primary-surface-color, white);\n",
       "                }\n",
       "            </style>\n",
       "            "
      ],
      "text/plain": [
       "<IPython.core.display.HTML object>"
      ]
     },
     "metadata": {},
     "output_type": "display_data"
    }
   ],
   "source": [
    "glacier_def_clean.to_file('C:/Users/ronir/Desktop/Google_Earth_Engine/Vdef/Vectors_filtered/glacier_def_clean.shp')"
   ]
  },
  {
   "cell_type": "markdown",
   "id": "1f2ee9dc-0aa3-4373-8a53-c679f99d648c",
   "metadata": {},
   "source": [
    "## Associating each lake/glacier with the same id"
   ]
  },
  {
   "cell_type": "code",
   "execution_count": 86,
   "id": "9b0e2df1-47aa-406b-96e3-4a702c253229",
   "metadata": {},
   "outputs": [
    {
     "data": {
      "text/html": [
       "\n",
       "            <style>\n",
       "                .geemap-dark {\n",
       "                    --jp-widgets-color: white;\n",
       "                    --jp-widgets-label-color: white;\n",
       "                    --jp-ui-font-color1: white;\n",
       "                    --jp-layout-color2: #454545;\n",
       "                    background-color: #383838;\n",
       "                }\n",
       "\n",
       "                .geemap-dark .jupyter-button {\n",
       "                    --jp-layout-color3: #383838;\n",
       "                }\n",
       "\n",
       "                .geemap-colab {\n",
       "                    background-color: var(--colab-primary-surface-color, white);\n",
       "                }\n",
       "\n",
       "                .geemap-colab .jupyter-button {\n",
       "                    --jp-layout-color3: var(--colab-primary-surface-color, white);\n",
       "                }\n",
       "            </style>\n",
       "            "
      ],
      "text/plain": [
       "<IPython.core.display.HTML object>"
      ]
     },
     "metadata": {},
     "output_type": "display_data"
    }
   ],
   "source": [
    "lake_def_clean_to_id=gpd.read_file('C:/Users/ronir/Desktop/Google_Earth_Engine/Vdef/Vectors_filtered/lake_def_clean.shp')\n",
    "glacier_def_clean_to_id=gpd.read_file('C:/Users/ronir/Desktop/Google_Earth_Engine/Vdef/Vectors_filtered/glacier_def_clean.shp')"
   ]
  },
  {
   "cell_type": "code",
   "execution_count": 87,
   "id": "f6e87147-5498-4efd-b5af-5340b7aef3d5",
   "metadata": {},
   "outputs": [
    {
     "data": {
      "text/html": [
       "\n",
       "            <style>\n",
       "                .geemap-dark {\n",
       "                    --jp-widgets-color: white;\n",
       "                    --jp-widgets-label-color: white;\n",
       "                    --jp-ui-font-color1: white;\n",
       "                    --jp-layout-color2: #454545;\n",
       "                    background-color: #383838;\n",
       "                }\n",
       "\n",
       "                .geemap-dark .jupyter-button {\n",
       "                    --jp-layout-color3: #383838;\n",
       "                }\n",
       "\n",
       "                .geemap-colab {\n",
       "                    background-color: var(--colab-primary-surface-color, white);\n",
       "                }\n",
       "\n",
       "                .geemap-colab .jupyter-button {\n",
       "                    --jp-layout-color3: var(--colab-primary-surface-color, white);\n",
       "                }\n",
       "            </style>\n",
       "            "
      ],
      "text/plain": [
       "<IPython.core.display.HTML object>"
      ]
     },
     "metadata": {},
     "output_type": "display_data"
    }
   ],
   "source": [
    "lake_def_clean_to_id = lake_def_clean_to_id.to_crs(lake_classif_inrae_clean_gt900m2.crs)"
   ]
  },
  {
   "cell_type": "markdown",
   "id": "8c1f3792-3beb-4f87-bf20-27f9d7b20527",
   "metadata": {},
   "source": [
    "Glacier_id d'après le lia_id"
   ]
  },
  {
   "cell_type": "code",
   "execution_count": 88,
   "id": "dae7cc49-8dbb-49d1-ba91-a6fe60b1cb8d",
   "metadata": {},
   "outputs": [
    {
     "data": {
      "text/html": [
       "\n",
       "            <style>\n",
       "                .geemap-dark {\n",
       "                    --jp-widgets-color: white;\n",
       "                    --jp-widgets-label-color: white;\n",
       "                    --jp-ui-font-color1: white;\n",
       "                    --jp-layout-color2: #454545;\n",
       "                    background-color: #383838;\n",
       "                }\n",
       "\n",
       "                .geemap-dark .jupyter-button {\n",
       "                    --jp-layout-color3: #383838;\n",
       "                }\n",
       "\n",
       "                .geemap-colab {\n",
       "                    background-color: var(--colab-primary-surface-color, white);\n",
       "                }\n",
       "\n",
       "                .geemap-colab .jupyter-button {\n",
       "                    --jp-layout-color3: var(--colab-primary-surface-color, white);\n",
       "                }\n",
       "            </style>\n",
       "            "
      ],
      "text/plain": [
       "<IPython.core.display.HTML object>"
      ]
     },
     "metadata": {},
     "output_type": "display_data"
    },
    {
     "data": {
      "text/html": [
       "<div>\n",
       "<style scoped>\n",
       "    .dataframe tbody tr th:only-of-type {\n",
       "        vertical-align: middle;\n",
       "    }\n",
       "\n",
       "    .dataframe tbody tr th {\n",
       "        vertical-align: top;\n",
       "    }\n",
       "\n",
       "    .dataframe thead th {\n",
       "        text-align: right;\n",
       "    }\n",
       "</style>\n",
       "<table border=\"1\" class=\"dataframe\">\n",
       "  <thead>\n",
       "    <tr style=\"text-align: right;\">\n",
       "      <th></th>\n",
       "      <th>index</th>\n",
       "      <th>objectid</th>\n",
       "      <th>nom</th>\n",
       "      <th>latitude</th>\n",
       "      <th>longitude</th>\n",
       "      <th>methodo</th>\n",
       "      <th>massif</th>\n",
       "      <th>min_</th>\n",
       "      <th>max_</th>\n",
       "      <th>surface</th>\n",
       "      <th>perimetre</th>\n",
       "      <th>expo_moy</th>\n",
       "      <th>expo</th>\n",
       "      <th>Ref supp</th>\n",
       "      <th>WGI</th>\n",
       "      <th>GLIMS_ID</th>\n",
       "      <th>geometry</th>\n",
       "    </tr>\n",
       "  </thead>\n",
       "  <tbody>\n",
       "    <tr>\n",
       "      <th>0</th>\n",
       "      <td>0</td>\n",
       "      <td>9004.0</td>\n",
       "      <td>Glaciers de Chauvet</td>\n",
       "      <td>44°32′57,875″N</td>\n",
       "      <td>6°50′39,030″E</td>\n",
       "      <td>None</td>\n",
       "      <td>Ubaye</td>\n",
       "      <td>NaN</td>\n",
       "      <td>NaN</td>\n",
       "      <td>5.885395e+05</td>\n",
       "      <td>5772.364977</td>\n",
       "      <td>None</td>\n",
       "      <td>NaN</td>\n",
       "      <td>None</td>\n",
       "      <td>F4N01094A01</td>\n",
       "      <td>G006851E44548N</td>\n",
       "      <td>POLYGON ((1004433.322 6390961.318, 1004398.008...</td>\n",
       "    </tr>\n",
       "    <tr>\n",
       "      <th>1</th>\n",
       "      <td>1</td>\n",
       "      <td>9005.0</td>\n",
       "      <td>glacier oriental de Marinet</td>\n",
       "      <td>44°33′02,227″N</td>\n",
       "      <td>6°52′10,609″E</td>\n",
       "      <td>None</td>\n",
       "      <td>Ubaye</td>\n",
       "      <td>NaN</td>\n",
       "      <td>NaN</td>\n",
       "      <td>3.207437e+05</td>\n",
       "      <td>3166.495587</td>\n",
       "      <td>None</td>\n",
       "      <td>NaN</td>\n",
       "      <td>None</td>\n",
       "      <td>F4N01094A02</td>\n",
       "      <td>G006862E44550N</td>\n",
       "      <td>POLYGON ((1007198.229 6390761.915, 1007191.196...</td>\n",
       "    </tr>\n",
       "    <tr>\n",
       "      <th>2</th>\n",
       "      <td>2</td>\n",
       "      <td>8839.0</td>\n",
       "      <td>Glacier de Faravel</td>\n",
       "      <td>44°42′36,319″N</td>\n",
       "      <td>6°24′28,152″E</td>\n",
       "      <td>geomorphologie</td>\n",
       "      <td>Ecrins</td>\n",
       "      <td>2566.0</td>\n",
       "      <td>2997.0</td>\n",
       "      <td>3.538555e+05</td>\n",
       "      <td>2763.978741</td>\n",
       "      <td>N</td>\n",
       "      <td>13.927592</td>\n",
       "      <td>None</td>\n",
       "      <td>F4N01082A01</td>\n",
       "      <td>G006406E44709N</td>\n",
       "      <td>POLYGON ((969598.839 6407239.658, 969626.585 6...</td>\n",
       "    </tr>\n",
       "    <tr>\n",
       "      <th>3</th>\n",
       "      <td>3</td>\n",
       "      <td>8695.0</td>\n",
       "      <td>Glacier de l'Aup</td>\n",
       "      <td>44°44′47,630″N</td>\n",
       "      <td>6°11′51,801″E</td>\n",
       "      <td>geomorphologie</td>\n",
       "      <td>Ecrins</td>\n",
       "      <td>1741.0</td>\n",
       "      <td>3035.0</td>\n",
       "      <td>1.029900e+06</td>\n",
       "      <td>6666.719017</td>\n",
       "      <td>N</td>\n",
       "      <td>338.580597</td>\n",
       "      <td>None</td>\n",
       "      <td>F4N01172H04</td>\n",
       "      <td>G006197E44744N</td>\n",
       "      <td>POLYGON ((952378.945 6410296.338, 952375.507 6...</td>\n",
       "    </tr>\n",
       "    <tr>\n",
       "      <th>4</th>\n",
       "      <td>4</td>\n",
       "      <td>8965.0</td>\n",
       "      <td>Glacier deSubeyrar du Loup</td>\n",
       "      <td>44°48′42,122″N</td>\n",
       "      <td>6°20′52,075″E</td>\n",
       "      <td>geomorphologie</td>\n",
       "      <td>Ecrins</td>\n",
       "      <td>2025.0</td>\n",
       "      <td>3418.0</td>\n",
       "      <td>1.015384e+06</td>\n",
       "      <td>5609.235898</td>\n",
       "      <td>SE</td>\n",
       "      <td>138.814476</td>\n",
       "      <td>None</td>\n",
       "      <td>F4N01083A09</td>\n",
       "      <td>G006348E44814N</td>\n",
       "      <td>POLYGON ((964652.341 6418724.453, 964678.255 6...</td>\n",
       "    </tr>\n",
       "    <tr>\n",
       "      <th>...</th>\n",
       "      <td>...</td>\n",
       "      <td>...</td>\n",
       "      <td>...</td>\n",
       "      <td>...</td>\n",
       "      <td>...</td>\n",
       "      <td>...</td>\n",
       "      <td>...</td>\n",
       "      <td>...</td>\n",
       "      <td>...</td>\n",
       "      <td>...</td>\n",
       "      <td>...</td>\n",
       "      <td>...</td>\n",
       "      <td>...</td>\n",
       "      <td>...</td>\n",
       "      <td>...</td>\n",
       "      <td>...</td>\n",
       "      <td>...</td>\n",
       "    </tr>\n",
       "    <tr>\n",
       "      <th>902</th>\n",
       "      <td>902</td>\n",
       "      <td>8854.0</td>\n",
       "      <td>Glacier du Vallon Cros</td>\n",
       "      <td>44°42′18,498″N</td>\n",
       "      <td>6°29′22,038″E</td>\n",
       "      <td>None</td>\n",
       "      <td>Ecrins</td>\n",
       "      <td>NaN</td>\n",
       "      <td>NaN</td>\n",
       "      <td>6.396253e+04</td>\n",
       "      <td>1169.035836</td>\n",
       "      <td>None</td>\n",
       "      <td>NaN</td>\n",
       "      <td>None</td>\n",
       "      <td>None</td>\n",
       "      <td>None</td>\n",
       "      <td>POLYGON ((976148.108 6406629.297, 976119.748 6...</td>\n",
       "    </tr>\n",
       "    <tr>\n",
       "      <th>903</th>\n",
       "      <td>903</td>\n",
       "      <td>8842.0</td>\n",
       "      <td>Glacier de la Montagne d'Aout</td>\n",
       "      <td>44°42′12,097″N</td>\n",
       "      <td>6°28′33,926″E</td>\n",
       "      <td>None</td>\n",
       "      <td>Ecrins</td>\n",
       "      <td>NaN</td>\n",
       "      <td>NaN</td>\n",
       "      <td>1.618797e+05</td>\n",
       "      <td>2025.513795</td>\n",
       "      <td>None</td>\n",
       "      <td>NaN</td>\n",
       "      <td>None</td>\n",
       "      <td>None</td>\n",
       "      <td>None</td>\n",
       "      <td>POLYGON ((975206.64 6406314.865, 975176.132 64...</td>\n",
       "    </tr>\n",
       "    <tr>\n",
       "      <th>904</th>\n",
       "      <td>904</td>\n",
       "      <td>8781.0</td>\n",
       "      <td>Glacier du Col du Chéret</td>\n",
       "      <td>44°53′07,184″N</td>\n",
       "      <td>6°18′50,884″E</td>\n",
       "      <td>geomorphologie + M. Le Roy</td>\n",
       "      <td>Ecrins</td>\n",
       "      <td>2786.0</td>\n",
       "      <td>3074.0</td>\n",
       "      <td>1.108246e+05</td>\n",
       "      <td>1585.908674</td>\n",
       "      <td>E</td>\n",
       "      <td>73.829815</td>\n",
       "      <td>None</td>\n",
       "      <td>None</td>\n",
       "      <td>None</td>\n",
       "      <td>POLYGON ((961504.525 6425988.63, 961491.059 64...</td>\n",
       "    </tr>\n",
       "    <tr>\n",
       "      <th>905</th>\n",
       "      <td>905</td>\n",
       "      <td>8638.0</td>\n",
       "      <td>Glacier du Grand Armet Ouest</td>\n",
       "      <td>44°58′45,653″N</td>\n",
       "      <td>5°55′41,338″E</td>\n",
       "      <td>None</td>\n",
       "      <td>Taillefer</td>\n",
       "      <td>NaN</td>\n",
       "      <td>NaN</td>\n",
       "      <td>4.846356e+04</td>\n",
       "      <td>1589.931916</td>\n",
       "      <td>None</td>\n",
       "      <td>NaN</td>\n",
       "      <td>None</td>\n",
       "      <td>None</td>\n",
       "      <td>None</td>\n",
       "      <td>POLYGON ((930839.053 6435187.55, 930763.856 64...</td>\n",
       "    </tr>\n",
       "    <tr>\n",
       "      <th>906</th>\n",
       "      <td>906</td>\n",
       "      <td>8786.0</td>\n",
       "      <td>Glacier des Pierres Brunes</td>\n",
       "      <td>45°22′44,432″N</td>\n",
       "      <td>6°51′44,323″E</td>\n",
       "      <td>None</td>\n",
       "      <td>Vanoise</td>\n",
       "      <td>NaN</td>\n",
       "      <td>NaN</td>\n",
       "      <td>3.850335e+05</td>\n",
       "      <td>3163.542494</td>\n",
       "      <td>None</td>\n",
       "      <td>NaN</td>\n",
       "      <td>None</td>\n",
       "      <td>None</td>\n",
       "      <td>None</td>\n",
       "      <td>POLYGON ((1002629.192 6482971.461, 1002663.974...</td>\n",
       "    </tr>\n",
       "  </tbody>\n",
       "</table>\n",
       "<p>907 rows × 17 columns</p>\n",
       "</div>"
      ],
      "text/plain": [
       "     index  objectid                            nom        latitude  \\\n",
       "0        0    9004.0            Glaciers de Chauvet  44°32′57,875″N   \n",
       "1        1    9005.0    glacier oriental de Marinet  44°33′02,227″N   \n",
       "2        2    8839.0             Glacier de Faravel  44°42′36,319″N   \n",
       "3        3    8695.0               Glacier de l'Aup  44°44′47,630″N   \n",
       "4        4    8965.0     Glacier deSubeyrar du Loup  44°48′42,122″N   \n",
       "..     ...       ...                            ...             ...   \n",
       "902    902    8854.0         Glacier du Vallon Cros  44°42′18,498″N   \n",
       "903    903    8842.0  Glacier de la Montagne d'Aout  44°42′12,097″N   \n",
       "904    904    8781.0       Glacier du Col du Chéret  44°53′07,184″N   \n",
       "905    905    8638.0   Glacier du Grand Armet Ouest  44°58′45,653″N   \n",
       "906    906    8786.0     Glacier des Pierres Brunes  45°22′44,432″N   \n",
       "\n",
       "         longitude                     methodo     massif    min_    max_  \\\n",
       "0    6°50′39,030″E                        None      Ubaye     NaN     NaN   \n",
       "1    6°52′10,609″E                        None      Ubaye     NaN     NaN   \n",
       "2    6°24′28,152″E              geomorphologie     Ecrins  2566.0  2997.0   \n",
       "3    6°11′51,801″E              geomorphologie     Ecrins  1741.0  3035.0   \n",
       "4    6°20′52,075″E              geomorphologie     Ecrins  2025.0  3418.0   \n",
       "..             ...                         ...        ...     ...     ...   \n",
       "902  6°29′22,038″E                        None     Ecrins     NaN     NaN   \n",
       "903  6°28′33,926″E                        None     Ecrins     NaN     NaN   \n",
       "904  6°18′50,884″E  geomorphologie + M. Le Roy     Ecrins  2786.0  3074.0   \n",
       "905  5°55′41,338″E                        None  Taillefer     NaN     NaN   \n",
       "906  6°51′44,323″E                        None    Vanoise     NaN     NaN   \n",
       "\n",
       "          surface    perimetre expo_moy        expo Ref supp          WGI  \\\n",
       "0    5.885395e+05  5772.364977     None         NaN     None  F4N01094A01   \n",
       "1    3.207437e+05  3166.495587     None         NaN     None  F4N01094A02   \n",
       "2    3.538555e+05  2763.978741        N   13.927592     None  F4N01082A01   \n",
       "3    1.029900e+06  6666.719017        N  338.580597     None  F4N01172H04   \n",
       "4    1.015384e+06  5609.235898       SE  138.814476     None  F4N01083A09   \n",
       "..            ...          ...      ...         ...      ...          ...   \n",
       "902  6.396253e+04  1169.035836     None         NaN     None         None   \n",
       "903  1.618797e+05  2025.513795     None         NaN     None         None   \n",
       "904  1.108246e+05  1585.908674        E   73.829815     None         None   \n",
       "905  4.846356e+04  1589.931916     None         NaN     None         None   \n",
       "906  3.850335e+05  3163.542494     None         NaN     None         None   \n",
       "\n",
       "           GLIMS_ID                                           geometry  \n",
       "0    G006851E44548N  POLYGON ((1004433.322 6390961.318, 1004398.008...  \n",
       "1    G006862E44550N  POLYGON ((1007198.229 6390761.915, 1007191.196...  \n",
       "2    G006406E44709N  POLYGON ((969598.839 6407239.658, 969626.585 6...  \n",
       "3    G006197E44744N  POLYGON ((952378.945 6410296.338, 952375.507 6...  \n",
       "4    G006348E44814N  POLYGON ((964652.341 6418724.453, 964678.255 6...  \n",
       "..              ...                                                ...  \n",
       "902            None  POLYGON ((976148.108 6406629.297, 976119.748 6...  \n",
       "903            None  POLYGON ((975206.64 6406314.865, 975176.132 64...  \n",
       "904            None  POLYGON ((961504.525 6425988.63, 961491.059 64...  \n",
       "905            None  POLYGON ((930839.053 6435187.55, 930763.856 64...  \n",
       "906            None  POLYGON ((1002629.192 6482971.461, 1002663.974...  \n",
       "\n",
       "[907 rows x 17 columns]"
      ]
     },
     "execution_count": 88,
     "metadata": {},
     "output_type": "execute_result"
    }
   ],
   "source": [
    "gdf_lia_vdef"
   ]
  },
  {
   "cell_type": "code",
   "execution_count": 89,
   "id": "91395b95-b38b-4d43-84a4-a0c44b6b0f8f",
   "metadata": {},
   "outputs": [
    {
     "data": {
      "text/html": [
       "\n",
       "            <style>\n",
       "                .geemap-dark {\n",
       "                    --jp-widgets-color: white;\n",
       "                    --jp-widgets-label-color: white;\n",
       "                    --jp-ui-font-color1: white;\n",
       "                    --jp-layout-color2: #454545;\n",
       "                    background-color: #383838;\n",
       "                }\n",
       "\n",
       "                .geemap-dark .jupyter-button {\n",
       "                    --jp-layout-color3: #383838;\n",
       "                }\n",
       "\n",
       "                .geemap-colab {\n",
       "                    background-color: var(--colab-primary-surface-color, white);\n",
       "                }\n",
       "\n",
       "                .geemap-colab .jupyter-button {\n",
       "                    --jp-layout-color3: var(--colab-primary-surface-color, white);\n",
       "                }\n",
       "            </style>\n",
       "            "
      ],
      "text/plain": [
       "<IPython.core.display.HTML object>"
      ]
     },
     "metadata": {},
     "output_type": "display_data"
    }
   ],
   "source": [
    "glacier_def_clean_to_id=glacier_def_clean_to_id.to_crs(gdf_lia_vdef.crs)"
   ]
  },
  {
   "cell_type": "code",
   "execution_count": 90,
   "id": "88ad42f8-c387-453e-87af-2b8de1c33bc7",
   "metadata": {},
   "outputs": [
    {
     "data": {
      "text/html": [
       "\n",
       "            <style>\n",
       "                .geemap-dark {\n",
       "                    --jp-widgets-color: white;\n",
       "                    --jp-widgets-label-color: white;\n",
       "                    --jp-ui-font-color1: white;\n",
       "                    --jp-layout-color2: #454545;\n",
       "                    background-color: #383838;\n",
       "                }\n",
       "\n",
       "                .geemap-dark .jupyter-button {\n",
       "                    --jp-layout-color3: #383838;\n",
       "                }\n",
       "\n",
       "                .geemap-colab {\n",
       "                    background-color: var(--colab-primary-surface-color, white);\n",
       "                }\n",
       "\n",
       "                .geemap-colab .jupyter-button {\n",
       "                    --jp-layout-color3: var(--colab-primary-surface-color, white);\n",
       "                }\n",
       "            </style>\n",
       "            "
      ],
      "text/plain": [
       "<IPython.core.display.HTML object>"
      ]
     },
     "metadata": {},
     "output_type": "display_data"
    }
   ],
   "source": [
    "join_glac = glacier_def_clean_to_id.sjoin(gdf_lia_vdef, how='inner', predicate='intersects')\n",
    "\n",
    "# 3. Créer une colonne 'glacier_lia_id' dans glacier_final_1985 avec l'ID de gdf_lia\n",
    "# join_glac contient à la fois les index de glacier_final_1985 (index_left) et de gdf_lia (index_right), et la colonne 'ID' de gdf_lia\n",
    "glacier_def_clean_ided=glacier_def_clean_to_id.copy()\n",
    "glacier_def_clean_ided.loc[join_glac.index, 'glacier_lia_id'] = join_glac['index'].values\n"
   ]
  },
  {
   "cell_type": "code",
   "execution_count": 92,
   "id": "40a1b2a7-32ff-47d2-888b-83bb2302f1aa",
   "metadata": {},
   "outputs": [
    {
     "data": {
      "text/html": [
       "\n",
       "            <style>\n",
       "                .geemap-dark {\n",
       "                    --jp-widgets-color: white;\n",
       "                    --jp-widgets-label-color: white;\n",
       "                    --jp-ui-font-color1: white;\n",
       "                    --jp-layout-color2: #454545;\n",
       "                    background-color: #383838;\n",
       "                }\n",
       "\n",
       "                .geemap-dark .jupyter-button {\n",
       "                    --jp-layout-color3: #383838;\n",
       "                }\n",
       "\n",
       "                .geemap-colab {\n",
       "                    background-color: var(--colab-primary-surface-color, white);\n",
       "                }\n",
       "\n",
       "                .geemap-colab .jupyter-button {\n",
       "                    --jp-layout-color3: var(--colab-primary-surface-color, white);\n",
       "                }\n",
       "            </style>\n",
       "            "
      ],
      "text/plain": [
       "<IPython.core.display.HTML object>"
      ]
     },
     "metadata": {},
     "output_type": "display_data"
    }
   ],
   "source": [
    "glacier_def_clean_ided=glacier_def_clean_ided"
   ]
  },
  {
   "cell_type": "code",
   "execution_count": 94,
   "id": "a437c214-8e6f-4983-9f29-069cf34f9990",
   "metadata": {},
   "outputs": [
    {
     "data": {
      "text/html": [
       "\n",
       "            <style>\n",
       "                .geemap-dark {\n",
       "                    --jp-widgets-color: white;\n",
       "                    --jp-widgets-label-color: white;\n",
       "                    --jp-ui-font-color1: white;\n",
       "                    --jp-layout-color2: #454545;\n",
       "                    background-color: #383838;\n",
       "                }\n",
       "\n",
       "                .geemap-dark .jupyter-button {\n",
       "                    --jp-layout-color3: #383838;\n",
       "                }\n",
       "\n",
       "                .geemap-colab {\n",
       "                    background-color: var(--colab-primary-surface-color, white);\n",
       "                }\n",
       "\n",
       "                .geemap-colab .jupyter-button {\n",
       "                    --jp-layout-color3: var(--colab-primary-surface-color, white);\n",
       "                }\n",
       "            </style>\n",
       "            "
      ],
      "text/plain": [
       "<IPython.core.display.HTML object>"
      ]
     },
     "metadata": {},
     "output_type": "display_data"
    },
    {
     "name": "stderr",
     "output_type": "stream",
     "text": [
      "C:\\Users\\ronir\\AppData\\Local\\Temp\\ipykernel_12576\\2255593895.py:1: UserWarning: Column names longer than 10 characters will be truncated when saved to ESRI Shapefile.\n",
      "  glacier_def_clean_ided.to_file('C:/Users/ronir/Desktop/Google_Earth_Engine/Vdef/Glacier/glacier_def_clean_with_id.shp')\n",
      "C:\\Users\\ronir\\anaconda3\\envs\\gee\\Lib\\site-packages\\pyogrio\\raw.py:723: RuntimeWarning: Normalized/laundered field name: 'glacier_lia_id' to 'glacier_li'\n",
      "  ogr_write(\n"
     ]
    }
   ],
   "source": [
    "glacier_def_clean_ided.to_file('C:/Users/ronir/Desktop/Google_Earth_Engine/Vdef/Glacier/glacier_def_clean_with_id.shp')"
   ]
  },
  {
   "cell_type": "markdown",
   "id": "2e46f27e-7167-4c9e-9ffd-667891229d4e",
   "metadata": {},
   "source": [
    "Pour les lacs, utilisation de la classif INRAE"
   ]
  },
  {
   "cell_type": "code",
   "execution_count": 95,
   "id": "11d50fa6-e4b5-469e-91cc-62a161848b82",
   "metadata": {},
   "outputs": [
    {
     "data": {
      "text/html": [
       "\n",
       "            <style>\n",
       "                .geemap-dark {\n",
       "                    --jp-widgets-color: white;\n",
       "                    --jp-widgets-label-color: white;\n",
       "                    --jp-ui-font-color1: white;\n",
       "                    --jp-layout-color2: #454545;\n",
       "                    background-color: #383838;\n",
       "                }\n",
       "\n",
       "                .geemap-dark .jupyter-button {\n",
       "                    --jp-layout-color3: #383838;\n",
       "                }\n",
       "\n",
       "                .geemap-colab {\n",
       "                    background-color: var(--colab-primary-surface-color, white);\n",
       "                }\n",
       "\n",
       "                .geemap-colab .jupyter-button {\n",
       "                    --jp-layout-color3: var(--colab-primary-surface-color, white);\n",
       "                }\n",
       "            </style>\n",
       "            "
      ],
      "text/plain": [
       "<IPython.core.display.HTML object>"
      ]
     },
     "metadata": {},
     "output_type": "display_data"
    }
   ],
   "source": [
    "join_lake=lake_def_clean_to_id.sjoin(lake_classif_inrae_clean_gt900m2, how='inner', predicate='intersects')"
   ]
  },
  {
   "cell_type": "code",
   "execution_count": 96,
   "id": "c33c6fdc-1902-4606-96c7-64ce16751c87",
   "metadata": {},
   "outputs": [
    {
     "data": {
      "text/html": [
       "\n",
       "            <style>\n",
       "                .geemap-dark {\n",
       "                    --jp-widgets-color: white;\n",
       "                    --jp-widgets-label-color: white;\n",
       "                    --jp-ui-font-color1: white;\n",
       "                    --jp-layout-color2: #454545;\n",
       "                    background-color: #383838;\n",
       "                }\n",
       "\n",
       "                .geemap-dark .jupyter-button {\n",
       "                    --jp-layout-color3: #383838;\n",
       "                }\n",
       "\n",
       "                .geemap-colab {\n",
       "                    background-color: var(--colab-primary-surface-color, white);\n",
       "                }\n",
       "\n",
       "                .geemap-colab .jupyter-button {\n",
       "                    --jp-layout-color3: var(--colab-primary-surface-color, white);\n",
       "                }\n",
       "            </style>\n",
       "            "
      ],
      "text/plain": [
       "<IPython.core.display.HTML object>"
      ]
     },
     "metadata": {},
     "output_type": "display_data"
    }
   ],
   "source": [
    "lake_def_clean_ided=lake_def_clean_to_id.copy()\n",
    "lake_def_clean_ided.loc[join_lake.index, 'lake_id'] = join_lake['id'].values"
   ]
  },
  {
   "cell_type": "code",
   "execution_count": 133,
   "id": "f8cec21b-09c8-46e7-9d69-2d27d6b98e5d",
   "metadata": {},
   "outputs": [
    {
     "data": {
      "text/html": [
       "\n",
       "            <style>\n",
       "                .geemap-dark {\n",
       "                    --jp-widgets-color: white;\n",
       "                    --jp-widgets-label-color: white;\n",
       "                    --jp-ui-font-color1: white;\n",
       "                    --jp-layout-color2: #454545;\n",
       "                    background-color: #383838;\n",
       "                }\n",
       "\n",
       "                .geemap-dark .jupyter-button {\n",
       "                    --jp-layout-color3: #383838;\n",
       "                }\n",
       "\n",
       "                .geemap-colab {\n",
       "                    background-color: var(--colab-primary-surface-color, white);\n",
       "                }\n",
       "\n",
       "                .geemap-colab .jupyter-button {\n",
       "                    --jp-layout-color3: var(--colab-primary-surface-color, white);\n",
       "                }\n",
       "            </style>\n",
       "            "
      ],
      "text/plain": [
       "<IPython.core.display.HTML object>"
      ]
     },
     "metadata": {},
     "output_type": "display_data"
    },
    {
     "data": {
      "text/html": [
       "<div>\n",
       "<style scoped>\n",
       "    .dataframe tbody tr th:only-of-type {\n",
       "        vertical-align: middle;\n",
       "    }\n",
       "\n",
       "    .dataframe tbody tr th {\n",
       "        vertical-align: top;\n",
       "    }\n",
       "\n",
       "    .dataframe thead th {\n",
       "        text-align: right;\n",
       "    }\n",
       "</style>\n",
       "<table border=\"1\" class=\"dataframe\">\n",
       "  <thead>\n",
       "    <tr style=\"text-align: right;\">\n",
       "      <th></th>\n",
       "      <th>year</th>\n",
       "      <th>source</th>\n",
       "      <th>value</th>\n",
       "      <th>id</th>\n",
       "      <th>Remarques</th>\n",
       "      <th>Evolution</th>\n",
       "      <th>Date</th>\n",
       "      <th>Surface</th>\n",
       "      <th>Categorie</th>\n",
       "      <th>Barrage</th>\n",
       "      <th>NAME</th>\n",
       "      <th>ID_2_2</th>\n",
       "      <th>INSEE</th>\n",
       "      <th>NOM</th>\n",
       "      <th>ID_1</th>\n",
       "      <th>ID_3</th>\n",
       "      <th>area_m2</th>\n",
       "      <th>geometry</th>\n",
       "      <th>intersection_area</th>\n",
       "      <th>index_left</th>\n",
       "    </tr>\n",
       "  </thead>\n",
       "  <tbody>\n",
       "    <tr>\n",
       "      <th>2066</th>\n",
       "      <td>2024</td>\n",
       "      <td>water</td>\n",
       "      <td>2</td>\n",
       "      <td>377</td>\n",
       "      <td>GL</td>\n",
       "      <td>V</td>\n",
       "      <td>2021</td>\n",
       "      <td>113626</td>\n",
       "      <td>P</td>\n",
       "      <td>None</td>\n",
       "      <td>None</td>\n",
       "      <td>NaN</td>\n",
       "      <td>None</td>\n",
       "      <td>None</td>\n",
       "      <td>377.0</td>\n",
       "      <td>NaN</td>\n",
       "      <td>113473.964177</td>\n",
       "      <td>POLYGON ((946026.198 6455261.835, 946047.359 6...</td>\n",
       "      <td>93664.170148</td>\n",
       "      <td>2066</td>\n",
       "    </tr>\n",
       "    <tr>\n",
       "      <th>1963</th>\n",
       "      <td>2023</td>\n",
       "      <td>water</td>\n",
       "      <td>2</td>\n",
       "      <td>377</td>\n",
       "      <td>GL</td>\n",
       "      <td>V</td>\n",
       "      <td>2021</td>\n",
       "      <td>113626</td>\n",
       "      <td>P</td>\n",
       "      <td>None</td>\n",
       "      <td>None</td>\n",
       "      <td>NaN</td>\n",
       "      <td>None</td>\n",
       "      <td>None</td>\n",
       "      <td>377.0</td>\n",
       "      <td>NaN</td>\n",
       "      <td>113473.964177</td>\n",
       "      <td>POLYGON ((946026.198 6455261.835, 946047.359 6...</td>\n",
       "      <td>92041.683382</td>\n",
       "      <td>1963</td>\n",
       "    </tr>\n",
       "    <tr>\n",
       "      <th>1864</th>\n",
       "      <td>2022</td>\n",
       "      <td>water</td>\n",
       "      <td>2</td>\n",
       "      <td>377</td>\n",
       "      <td>GL</td>\n",
       "      <td>V</td>\n",
       "      <td>2021</td>\n",
       "      <td>113626</td>\n",
       "      <td>P</td>\n",
       "      <td>None</td>\n",
       "      <td>None</td>\n",
       "      <td>NaN</td>\n",
       "      <td>None</td>\n",
       "      <td>None</td>\n",
       "      <td>377.0</td>\n",
       "      <td>NaN</td>\n",
       "      <td>113473.964177</td>\n",
       "      <td>POLYGON ((946026.198 6455261.835, 946047.359 6...</td>\n",
       "      <td>89226.988219</td>\n",
       "      <td>1864</td>\n",
       "    </tr>\n",
       "    <tr>\n",
       "      <th>516</th>\n",
       "      <td>2002</td>\n",
       "      <td>water</td>\n",
       "      <td>2</td>\n",
       "      <td>367</td>\n",
       "      <td>GL</td>\n",
       "      <td>SG</td>\n",
       "      <td>2022</td>\n",
       "      <td>95013</td>\n",
       "      <td>P</td>\n",
       "      <td>None</td>\n",
       "      <td>None</td>\n",
       "      <td>NaN</td>\n",
       "      <td>None</td>\n",
       "      <td>None</td>\n",
       "      <td>367.0</td>\n",
       "      <td>NaN</td>\n",
       "      <td>94886.780436</td>\n",
       "      <td>POLYGON ((948900.393 6454477.333, 948911.2 645...</td>\n",
       "      <td>88399.389059</td>\n",
       "      <td>516</td>\n",
       "    </tr>\n",
       "    <tr>\n",
       "      <th>1517</th>\n",
       "      <td>2018</td>\n",
       "      <td>water</td>\n",
       "      <td>2</td>\n",
       "      <td>367</td>\n",
       "      <td>GL</td>\n",
       "      <td>SG</td>\n",
       "      <td>2022</td>\n",
       "      <td>95013</td>\n",
       "      <td>P</td>\n",
       "      <td>None</td>\n",
       "      <td>None</td>\n",
       "      <td>NaN</td>\n",
       "      <td>None</td>\n",
       "      <td>None</td>\n",
       "      <td>367.0</td>\n",
       "      <td>NaN</td>\n",
       "      <td>94886.780436</td>\n",
       "      <td>POLYGON ((948900.393 6454477.333, 948911.2 645...</td>\n",
       "      <td>88160.037272</td>\n",
       "      <td>1517</td>\n",
       "    </tr>\n",
       "    <tr>\n",
       "      <th>...</th>\n",
       "      <td>...</td>\n",
       "      <td>...</td>\n",
       "      <td>...</td>\n",
       "      <td>...</td>\n",
       "      <td>...</td>\n",
       "      <td>...</td>\n",
       "      <td>...</td>\n",
       "      <td>...</td>\n",
       "      <td>...</td>\n",
       "      <td>...</td>\n",
       "      <td>...</td>\n",
       "      <td>...</td>\n",
       "      <td>...</td>\n",
       "      <td>...</td>\n",
       "      <td>...</td>\n",
       "      <td>...</td>\n",
       "      <td>...</td>\n",
       "      <td>...</td>\n",
       "      <td>...</td>\n",
       "      <td>...</td>\n",
       "    </tr>\n",
       "    <tr>\n",
       "      <th>1886</th>\n",
       "      <td>2022</td>\n",
       "      <td>water</td>\n",
       "      <td>2</td>\n",
       "      <td>245</td>\n",
       "      <td>GL</td>\n",
       "      <td>V</td>\n",
       "      <td>2022</td>\n",
       "      <td>106785</td>\n",
       "      <td>P</td>\n",
       "      <td>None</td>\n",
       "      <td>None</td>\n",
       "      <td>NaN</td>\n",
       "      <td>None</td>\n",
       "      <td>None</td>\n",
       "      <td>245.0</td>\n",
       "      <td>NaN</td>\n",
       "      <td>106622.284269</td>\n",
       "      <td>POLYGON ((994414.376 6485626.428, 994422.868 6...</td>\n",
       "      <td>18.961697</td>\n",
       "      <td>1886</td>\n",
       "    </tr>\n",
       "    <tr>\n",
       "      <th>1206</th>\n",
       "      <td>2014</td>\n",
       "      <td>water</td>\n",
       "      <td>2</td>\n",
       "      <td>207</td>\n",
       "      <td>GL</td>\n",
       "      <td>V</td>\n",
       "      <td>2021</td>\n",
       "      <td>81115</td>\n",
       "      <td>P</td>\n",
       "      <td>None</td>\n",
       "      <td>None</td>\n",
       "      <td>NaN</td>\n",
       "      <td>None</td>\n",
       "      <td>None</td>\n",
       "      <td>207.0</td>\n",
       "      <td>NaN</td>\n",
       "      <td>81027.918376</td>\n",
       "      <td>POLYGON ((955287.029 6423163.282, 955287.134 6...</td>\n",
       "      <td>7.958795</td>\n",
       "      <td>1206</td>\n",
       "    </tr>\n",
       "    <tr>\n",
       "      <th>1915</th>\n",
       "      <td>2023</td>\n",
       "      <td>water</td>\n",
       "      <td>2</td>\n",
       "      <td>200</td>\n",
       "      <td>None</td>\n",
       "      <td>SG</td>\n",
       "      <td>2022</td>\n",
       "      <td>77915</td>\n",
       "      <td>P</td>\n",
       "      <td>None</td>\n",
       "      <td>None</td>\n",
       "      <td>NaN</td>\n",
       "      <td>None</td>\n",
       "      <td>None</td>\n",
       "      <td>200.0</td>\n",
       "      <td>NaN</td>\n",
       "      <td>77812.185998</td>\n",
       "      <td>POLYGON ((1004785.183 6456465.342, 1004786.501...</td>\n",
       "      <td>0.895263</td>\n",
       "      <td>1915</td>\n",
       "    </tr>\n",
       "    <tr>\n",
       "      <th>2013</th>\n",
       "      <td>2024</td>\n",
       "      <td>water</td>\n",
       "      <td>2</td>\n",
       "      <td>200</td>\n",
       "      <td>None</td>\n",
       "      <td>SG</td>\n",
       "      <td>2022</td>\n",
       "      <td>77915</td>\n",
       "      <td>P</td>\n",
       "      <td>None</td>\n",
       "      <td>None</td>\n",
       "      <td>NaN</td>\n",
       "      <td>None</td>\n",
       "      <td>None</td>\n",
       "      <td>200.0</td>\n",
       "      <td>NaN</td>\n",
       "      <td>77812.185998</td>\n",
       "      <td>POLYGON ((1004785.183 6456465.342, 1004786.501...</td>\n",
       "      <td>0.895263</td>\n",
       "      <td>2013</td>\n",
       "    </tr>\n",
       "    <tr>\n",
       "      <th>735</th>\n",
       "      <td>2006</td>\n",
       "      <td>water</td>\n",
       "      <td>2</td>\n",
       "      <td>19</td>\n",
       "      <td>GL</td>\n",
       "      <td>SG</td>\n",
       "      <td>2022</td>\n",
       "      <td>77378</td>\n",
       "      <td>P</td>\n",
       "      <td>None</td>\n",
       "      <td>None</td>\n",
       "      <td>NaN</td>\n",
       "      <td>None</td>\n",
       "      <td>None</td>\n",
       "      <td>19.0</td>\n",
       "      <td>NaN</td>\n",
       "      <td>77285.598031</td>\n",
       "      <td>POLYGON ((961884.397 6437576.872, 961883.739 6...</td>\n",
       "      <td>0.179828</td>\n",
       "      <td>735</td>\n",
       "    </tr>\n",
       "  </tbody>\n",
       "</table>\n",
       "<p>2105 rows × 20 columns</p>\n",
       "</div>"
      ],
      "text/plain": [
       "      year source  value   id Remarques Evolution  Date  Surface Categorie  \\\n",
       "2066  2024  water      2  377        GL         V  2021   113626         P   \n",
       "1963  2023  water      2  377        GL         V  2021   113626         P   \n",
       "1864  2022  water      2  377        GL         V  2021   113626         P   \n",
       "516   2002  water      2  367        GL        SG  2022    95013         P   \n",
       "1517  2018  water      2  367        GL        SG  2022    95013         P   \n",
       "...    ...    ...    ...  ...       ...       ...   ...      ...       ...   \n",
       "1886  2022  water      2  245        GL         V  2022   106785         P   \n",
       "1206  2014  water      2  207        GL         V  2021    81115         P   \n",
       "1915  2023  water      2  200      None        SG  2022    77915         P   \n",
       "2013  2024  water      2  200      None        SG  2022    77915         P   \n",
       "735   2006  water      2   19        GL        SG  2022    77378         P   \n",
       "\n",
       "     Barrage  NAME  ID_2_2 INSEE   NOM   ID_1  ID_3        area_m2  \\\n",
       "2066    None  None     NaN  None  None  377.0   NaN  113473.964177   \n",
       "1963    None  None     NaN  None  None  377.0   NaN  113473.964177   \n",
       "1864    None  None     NaN  None  None  377.0   NaN  113473.964177   \n",
       "516     None  None     NaN  None  None  367.0   NaN   94886.780436   \n",
       "1517    None  None     NaN  None  None  367.0   NaN   94886.780436   \n",
       "...      ...   ...     ...   ...   ...    ...   ...            ...   \n",
       "1886    None  None     NaN  None  None  245.0   NaN  106622.284269   \n",
       "1206    None  None     NaN  None  None  207.0   NaN   81027.918376   \n",
       "1915    None  None     NaN  None  None  200.0   NaN   77812.185998   \n",
       "2013    None  None     NaN  None  None  200.0   NaN   77812.185998   \n",
       "735     None  None     NaN  None  None   19.0   NaN   77285.598031   \n",
       "\n",
       "                                               geometry  intersection_area  \\\n",
       "2066  POLYGON ((946026.198 6455261.835, 946047.359 6...       93664.170148   \n",
       "1963  POLYGON ((946026.198 6455261.835, 946047.359 6...       92041.683382   \n",
       "1864  POLYGON ((946026.198 6455261.835, 946047.359 6...       89226.988219   \n",
       "516   POLYGON ((948900.393 6454477.333, 948911.2 645...       88399.389059   \n",
       "1517  POLYGON ((948900.393 6454477.333, 948911.2 645...       88160.037272   \n",
       "...                                                 ...                ...   \n",
       "1886  POLYGON ((994414.376 6485626.428, 994422.868 6...          18.961697   \n",
       "1206  POLYGON ((955287.029 6423163.282, 955287.134 6...           7.958795   \n",
       "1915  POLYGON ((1004785.183 6456465.342, 1004786.501...           0.895263   \n",
       "2013  POLYGON ((1004785.183 6456465.342, 1004786.501...           0.895263   \n",
       "735   POLYGON ((961884.397 6437576.872, 961883.739 6...           0.179828   \n",
       "\n",
       "      index_left  \n",
       "2066        2066  \n",
       "1963        1963  \n",
       "1864        1864  \n",
       "516          516  \n",
       "1517        1517  \n",
       "...          ...  \n",
       "1886        1886  \n",
       "1206        1206  \n",
       "1915        1915  \n",
       "2013        2013  \n",
       "735          735  \n",
       "\n",
       "[2105 rows x 20 columns]"
      ]
     },
     "execution_count": 133,
     "metadata": {},
     "output_type": "execute_result"
    }
   ],
   "source": [
    "best_matches"
   ]
  },
  {
   "cell_type": "code",
   "execution_count": 129,
   "id": "325a66fc-6287-4986-8094-4cdc4c5e2064",
   "metadata": {},
   "outputs": [
    {
     "data": {
      "text/html": [
       "\n",
       "            <style>\n",
       "                .geemap-dark {\n",
       "                    --jp-widgets-color: white;\n",
       "                    --jp-widgets-label-color: white;\n",
       "                    --jp-ui-font-color1: white;\n",
       "                    --jp-layout-color2: #454545;\n",
       "                    background-color: #383838;\n",
       "                }\n",
       "\n",
       "                .geemap-dark .jupyter-button {\n",
       "                    --jp-layout-color3: #383838;\n",
       "                }\n",
       "\n",
       "                .geemap-colab {\n",
       "                    background-color: var(--colab-primary-surface-color, white);\n",
       "                }\n",
       "\n",
       "                .geemap-colab .jupyter-button {\n",
       "                    --jp-layout-color3: var(--colab-primary-surface-color, white);\n",
       "                }\n",
       "            </style>\n",
       "            "
      ],
      "text/plain": [
       "<IPython.core.display.HTML object>"
      ]
     },
     "metadata": {},
     "output_type": "display_data"
    },
    {
     "data": {
      "text/plain": [
       "79"
      ]
     },
     "execution_count": 129,
     "metadata": {},
     "output_type": "execute_result"
    }
   ],
   "source": [
    "len(best_matches[best_matches['year']==2022].id.unique())"
   ]
  },
  {
   "cell_type": "code",
   "execution_count": 102,
   "id": "de10e1fb-a75d-4606-84b0-c10d301f33d2",
   "metadata": {},
   "outputs": [
    {
     "data": {
      "text/html": [
       "\n",
       "            <style>\n",
       "                .geemap-dark {\n",
       "                    --jp-widgets-color: white;\n",
       "                    --jp-widgets-label-color: white;\n",
       "                    --jp-ui-font-color1: white;\n",
       "                    --jp-layout-color2: #454545;\n",
       "                    background-color: #383838;\n",
       "                }\n",
       "\n",
       "                .geemap-dark .jupyter-button {\n",
       "                    --jp-layout-color3: #383838;\n",
       "                }\n",
       "\n",
       "                .geemap-colab {\n",
       "                    background-color: var(--colab-primary-surface-color, white);\n",
       "                }\n",
       "\n",
       "                .geemap-colab .jupyter-button {\n",
       "                    --jp-layout-color3: var(--colab-primary-surface-color, white);\n",
       "                }\n",
       "            </style>\n",
       "            "
      ],
      "text/plain": [
       "<IPython.core.display.HTML object>"
      ]
     },
     "metadata": {},
     "output_type": "display_data"
    },
    {
     "data": {
      "text/plain": [
       "102"
      ]
     },
     "execution_count": 102,
     "metadata": {},
     "output_type": "execute_result"
    }
   ],
   "source": [
    "len(lake_def_clean_ided[lake_def_clean_ided['year']==2024]['lake_id'])"
   ]
  },
  {
   "cell_type": "code",
   "execution_count": 120,
   "id": "8590e7d3-4090-49e9-8d05-acc9d3a7cc23",
   "metadata": {},
   "outputs": [
    {
     "data": {
      "text/html": [
       "\n",
       "            <style>\n",
       "                .geemap-dark {\n",
       "                    --jp-widgets-color: white;\n",
       "                    --jp-widgets-label-color: white;\n",
       "                    --jp-ui-font-color1: white;\n",
       "                    --jp-layout-color2: #454545;\n",
       "                    background-color: #383838;\n",
       "                }\n",
       "\n",
       "                .geemap-dark .jupyter-button {\n",
       "                    --jp-layout-color3: #383838;\n",
       "                }\n",
       "\n",
       "                .geemap-colab {\n",
       "                    background-color: var(--colab-primary-surface-color, white);\n",
       "                }\n",
       "\n",
       "                .geemap-colab .jupyter-button {\n",
       "                    --jp-layout-color3: var(--colab-primary-surface-color, white);\n",
       "                }\n",
       "            </style>\n",
       "            "
      ],
      "text/plain": [
       "<IPython.core.display.HTML object>"
      ]
     },
     "metadata": {},
     "output_type": "display_data"
    }
   ],
   "source": [
    "join = lake_def_clean_ided[lake_def_clean_ided['year']==2022].sjoin(lake_classif_inrae_clean_gt900m2, how='inner', predicate = 'intersects')"
   ]
  },
  {
   "cell_type": "code",
   "execution_count": 121,
   "id": "ffc7589b-501a-4f42-ba3f-4ca1154a0508",
   "metadata": {},
   "outputs": [
    {
     "data": {
      "text/html": [
       "\n",
       "            <style>\n",
       "                .geemap-dark {\n",
       "                    --jp-widgets-color: white;\n",
       "                    --jp-widgets-label-color: white;\n",
       "                    --jp-ui-font-color1: white;\n",
       "                    --jp-layout-color2: #454545;\n",
       "                    background-color: #383838;\n",
       "                }\n",
       "\n",
       "                .geemap-dark .jupyter-button {\n",
       "                    --jp-layout-color3: #383838;\n",
       "                }\n",
       "\n",
       "                .geemap-colab {\n",
       "                    background-color: var(--colab-primary-surface-color, white);\n",
       "                }\n",
       "\n",
       "                .geemap-colab .jupyter-button {\n",
       "                    --jp-layout-color3: var(--colab-primary-surface-color, white);\n",
       "                }\n",
       "            </style>\n",
       "            "
      ],
      "text/plain": [
       "<IPython.core.display.HTML object>"
      ]
     },
     "metadata": {},
     "output_type": "display_data"
    }
   ],
   "source": [
    "test = lake_def_clean_ided.loc[lake_def_clean_ided.index.isin(join.index)]"
   ]
  },
  {
   "cell_type": "code",
   "execution_count": 122,
   "id": "e630c004-8681-4cff-843b-215d5bb70781",
   "metadata": {},
   "outputs": [
    {
     "data": {
      "text/html": [
       "\n",
       "            <style>\n",
       "                .geemap-dark {\n",
       "                    --jp-widgets-color: white;\n",
       "                    --jp-widgets-label-color: white;\n",
       "                    --jp-ui-font-color1: white;\n",
       "                    --jp-layout-color2: #454545;\n",
       "                    background-color: #383838;\n",
       "                }\n",
       "\n",
       "                .geemap-dark .jupyter-button {\n",
       "                    --jp-layout-color3: #383838;\n",
       "                }\n",
       "\n",
       "                .geemap-colab {\n",
       "                    background-color: var(--colab-primary-surface-color, white);\n",
       "                }\n",
       "\n",
       "                .geemap-colab .jupyter-button {\n",
       "                    --jp-layout-color3: var(--colab-primary-surface-color, white);\n",
       "                }\n",
       "            </style>\n",
       "            "
      ],
      "text/plain": [
       "<IPython.core.display.HTML object>"
      ]
     },
     "metadata": {},
     "output_type": "display_data"
    },
    {
     "data": {
      "text/plain": [
       "78"
      ]
     },
     "execution_count": 122,
     "metadata": {},
     "output_type": "execute_result"
    }
   ],
   "source": [
    "len(test['lake_id'].unique())"
   ]
  },
  {
   "cell_type": "code",
   "execution_count": 110,
   "id": "8bf543fd-2e61-4b75-a437-5f18d6aab4ac",
   "metadata": {},
   "outputs": [
    {
     "data": {
      "text/html": [
       "\n",
       "            <style>\n",
       "                .geemap-dark {\n",
       "                    --jp-widgets-color: white;\n",
       "                    --jp-widgets-label-color: white;\n",
       "                    --jp-ui-font-color1: white;\n",
       "                    --jp-layout-color2: #454545;\n",
       "                    background-color: #383838;\n",
       "                }\n",
       "\n",
       "                .geemap-dark .jupyter-button {\n",
       "                    --jp-layout-color3: #383838;\n",
       "                }\n",
       "\n",
       "                .geemap-colab {\n",
       "                    background-color: var(--colab-primary-surface-color, white);\n",
       "                }\n",
       "\n",
       "                .geemap-colab .jupyter-button {\n",
       "                    --jp-layout-color3: var(--colab-primary-surface-color, white);\n",
       "                }\n",
       "            </style>\n",
       "            "
      ],
      "text/plain": [
       "<IPython.core.display.HTML object>"
      ]
     },
     "metadata": {},
     "output_type": "display_data"
    },
    {
     "data": {
      "text/html": [
       "<div style=\"width:100%;\"><div style=\"position:relative;width:100%;height:0;padding-bottom:60%;\"><span style=\"color:#565656\">Make this Notebook Trusted to load map: File -> Trust Notebook</span><iframe srcdoc=\"&lt;!DOCTYPE html&gt;\n",
       "&lt;html&gt;\n",
       "&lt;head&gt;\n",
       "    \n",
       "    &lt;meta http-equiv=&quot;content-type&quot; content=&quot;text/html; charset=UTF-8&quot; /&gt;\n",
       "    \n",
       "        &lt;script&gt;\n",
       "            L_NO_TOUCH = false;\n",
       "            L_DISABLE_3D = false;\n",
       "        &lt;/script&gt;\n",
       "    \n",
       "    &lt;style&gt;html, body {width: 100%;height: 100%;margin: 0;padding: 0;}&lt;/style&gt;\n",
       "    &lt;style&gt;#map {position:absolute;top:0;bottom:0;right:0;left:0;}&lt;/style&gt;\n",
       "    &lt;script src=&quot;https://cdn.jsdelivr.net/npm/leaflet@1.9.3/dist/leaflet.js&quot;&gt;&lt;/script&gt;\n",
       "    &lt;script src=&quot;https://code.jquery.com/jquery-3.7.1.min.js&quot;&gt;&lt;/script&gt;\n",
       "    &lt;script src=&quot;https://cdn.jsdelivr.net/npm/bootstrap@5.2.2/dist/js/bootstrap.bundle.min.js&quot;&gt;&lt;/script&gt;\n",
       "    &lt;script src=&quot;https://cdnjs.cloudflare.com/ajax/libs/Leaflet.awesome-markers/2.0.2/leaflet.awesome-markers.js&quot;&gt;&lt;/script&gt;\n",
       "    &lt;link rel=&quot;stylesheet&quot; href=&quot;https://cdn.jsdelivr.net/npm/leaflet@1.9.3/dist/leaflet.css&quot;/&gt;\n",
       "    &lt;link rel=&quot;stylesheet&quot; href=&quot;https://cdn.jsdelivr.net/npm/bootstrap@5.2.2/dist/css/bootstrap.min.css&quot;/&gt;\n",
       "    &lt;link rel=&quot;stylesheet&quot; href=&quot;https://netdna.bootstrapcdn.com/bootstrap/3.0.0/css/bootstrap-glyphicons.css&quot;/&gt;\n",
       "    &lt;link rel=&quot;stylesheet&quot; href=&quot;https://cdn.jsdelivr.net/npm/@fortawesome/fontawesome-free@6.2.0/css/all.min.css&quot;/&gt;\n",
       "    &lt;link rel=&quot;stylesheet&quot; href=&quot;https://cdnjs.cloudflare.com/ajax/libs/Leaflet.awesome-markers/2.0.2/leaflet.awesome-markers.css&quot;/&gt;\n",
       "    &lt;link rel=&quot;stylesheet&quot; href=&quot;https://cdn.jsdelivr.net/gh/python-visualization/folium/folium/templates/leaflet.awesome.rotate.min.css&quot;/&gt;\n",
       "    \n",
       "            &lt;meta name=&quot;viewport&quot; content=&quot;width=device-width,\n",
       "                initial-scale=1.0, maximum-scale=1.0, user-scalable=no&quot; /&gt;\n",
       "            &lt;style&gt;\n",
       "                #map_036c6c5417189c93c532d2db8a6b6e9d {\n",
       "                    position: relative;\n",
       "                    width: 100.0%;\n",
       "                    height: 100.0%;\n",
       "                    left: 0.0%;\n",
       "                    top: 0.0%;\n",
       "                }\n",
       "                .leaflet-container { font-size: 1rem; }\n",
       "            &lt;/style&gt;\n",
       "        \n",
       "    \n",
       "                    &lt;style&gt;\n",
       "                        .foliumtooltip {\n",
       "                            \n",
       "                        }\n",
       "                       .foliumtooltip table{\n",
       "                            margin: auto;\n",
       "                        }\n",
       "                        .foliumtooltip tr{\n",
       "                            text-align: left;\n",
       "                        }\n",
       "                        .foliumtooltip th{\n",
       "                            padding: 2px; padding-right: 8px;\n",
       "                        }\n",
       "                    &lt;/style&gt;\n",
       "            \n",
       "&lt;/head&gt;\n",
       "&lt;body&gt;\n",
       "    \n",
       "    \n",
       "            &lt;div class=&quot;folium-map&quot; id=&quot;map_036c6c5417189c93c532d2db8a6b6e9d&quot; &gt;&lt;/div&gt;\n",
       "        \n",
       "&lt;/body&gt;\n",
       "&lt;script&gt;\n",
       "    \n",
       "    \n",
       "            var map_036c6c5417189c93c532d2db8a6b6e9d = L.map(\n",
       "                &quot;map_036c6c5417189c93c532d2db8a6b6e9d&quot;,\n",
       "                {\n",
       "                    center: [45.270752443791075, 6.642502536893391],\n",
       "                    crs: L.CRS.EPSG3857,\n",
       "                    ...{\n",
       "  &quot;zoom&quot;: 10,\n",
       "  &quot;zoomControl&quot;: true,\n",
       "  &quot;preferCanvas&quot;: false,\n",
       "}\n",
       "\n",
       "                }\n",
       "            );\n",
       "            L.control.scale().addTo(map_036c6c5417189c93c532d2db8a6b6e9d);\n",
       "\n",
       "            \n",
       "\n",
       "        \n",
       "    \n",
       "            var tile_layer_673e60db67af39fc5cc540807ee3969e = L.tileLayer(\n",
       "                &quot;https://tile.openstreetmap.org/{z}/{x}/{y}.png&quot;,\n",
       "                {\n",
       "  &quot;minZoom&quot;: 0,\n",
       "  &quot;maxZoom&quot;: 19,\n",
       "  &quot;maxNativeZoom&quot;: 19,\n",
       "  &quot;noWrap&quot;: false,\n",
       "  &quot;attribution&quot;: &quot;\\u0026copy; \\u003ca href=\\&quot;https://www.openstreetmap.org/copyright\\&quot;\\u003eOpenStreetMap\\u003c/a\\u003e contributors&quot;,\n",
       "  &quot;subdomains&quot;: &quot;abc&quot;,\n",
       "  &quot;detectRetina&quot;: false,\n",
       "  &quot;tms&quot;: false,\n",
       "  &quot;opacity&quot;: 1,\n",
       "}\n",
       "\n",
       "            );\n",
       "        \n",
       "    \n",
       "            tile_layer_673e60db67af39fc5cc540807ee3969e.addTo(map_036c6c5417189c93c532d2db8a6b6e9d);\n",
       "        \n",
       "    \n",
       "            map_036c6c5417189c93c532d2db8a6b6e9d.fitBounds(\n",
       "                [[44.552587732491084, 6.117527084853942], [45.988917155091066, 7.167477988932841]],\n",
       "                {}\n",
       "            );\n",
       "        \n",
       "    \n",
       "        function geo_json_bc66763e702a08533aedc0013fd7d0b3_styler(feature) {\n",
       "            switch(feature.id) {\n",
       "                default:\n",
       "                    return {&quot;fillOpacity&quot;: 0.5, &quot;weight&quot;: 2};\n",
       "            }\n",
       "        }\n",
       "        function geo_json_bc66763e702a08533aedc0013fd7d0b3_highlighter(feature) {\n",
       "            switch(feature.id) {\n",
       "                default:\n",
       "                    return {&quot;fillOpacity&quot;: 0.75};\n",
       "            }\n",
       "        }\n",
       "        function geo_json_bc66763e702a08533aedc0013fd7d0b3_pointToLayer(feature, latlng) {\n",
       "            var opts = {&quot;bubblingMouseEvents&quot;: true, &quot;color&quot;: &quot;#3388ff&quot;, &quot;dashArray&quot;: null, &quot;dashOffset&quot;: null, &quot;fill&quot;: true, &quot;fillColor&quot;: &quot;#3388ff&quot;, &quot;fillOpacity&quot;: 0.2, &quot;fillRule&quot;: &quot;evenodd&quot;, &quot;lineCap&quot;: &quot;round&quot;, &quot;lineJoin&quot;: &quot;round&quot;, &quot;opacity&quot;: 1.0, &quot;radius&quot;: 2, &quot;stroke&quot;: true, &quot;weight&quot;: 3};\n",
       "            \n",
       "            let style = geo_json_bc66763e702a08533aedc0013fd7d0b3_styler(feature)\n",
       "            Object.assign(opts, style)\n",
       "            \n",
       "            return new L.CircleMarker(latlng, opts)\n",
       "        }\n",
       "\n",
       "        function geo_json_bc66763e702a08533aedc0013fd7d0b3_onEachFeature(feature, layer) {\n",
       "            layer.on({\n",
       "                mouseout: function(e) {\n",
       "                    if(typeof e.target.setStyle === &quot;function&quot;){\n",
       "                            geo_json_bc66763e702a08533aedc0013fd7d0b3.resetStyle(e.target);\n",
       "                    }\n",
       "                },\n",
       "                mouseover: function(e) {\n",
       "                    if(typeof e.target.setStyle === &quot;function&quot;){\n",
       "                        const highlightStyle = geo_json_bc66763e702a08533aedc0013fd7d0b3_highlighter(e.target.feature)\n",
       "                        e.target.setStyle(highlightStyle);\n",
       "                    }\n",
       "                },\n",
       "            });\n",
       "        };\n",
       "        var geo_json_bc66763e702a08533aedc0013fd7d0b3 = L.geoJson(null, {\n",
       "                onEachFeature: geo_json_bc66763e702a08533aedc0013fd7d0b3_onEachFeature,\n",
       "            \n",
       "                style: geo_json_bc66763e702a08533aedc0013fd7d0b3_styler,\n",
       "                pointToLayer: geo_json_bc66763e702a08533aedc0013fd7d0b3_pointToLayer,\n",
       "            ...{\n",
       "}\n",
       "        });\n",
       "\n",
       "        function geo_json_bc66763e702a08533aedc0013fd7d0b3_add (data) {\n",
       "            geo_json_bc66763e702a08533aedc0013fd7d0b3\n",
       "                .addData(data);\n",
       "        }\n",
       "            geo_json_bc66763e702a08533aedc0013fd7d0b3_add({&quot;bbox&quot;: [6.117527084853942, 44.552587732491084, 7.167477988932841, 45.988917155091066], &quot;features&quot;: [{&quot;bbox&quot;: [7.065902881676281, 45.21337605960488, 7.066417519469395, 45.213645554190144], &quot;geometry&quot;: {&quot;coordinates&quot;: [[[7.066276554566313, 45.213645554190144], [7.066417519469395, 45.213530723438495], [7.066417519469392, 45.21337605960488], [7.06622340646077, 45.21337605960488], [7.066173281239806, 45.213424752024004], [7.066055057159052, 45.2135085726752], [7.065905054143452, 45.213643770061395], [7.065902881676281, 45.21364555419013], [7.066276554566313, 45.213645554190144]]], &quot;type&quot;: &quot;Polygon&quot;}, &quot;id&quot;: &quot;1985&quot;, &quot;properties&quot;: {&quot;lake_id&quot;: 1482.0, &quot;source&quot;: &quot;water&quot;, &quot;value&quot;: 2, &quot;year&quot;: 2024}, &quot;type&quot;: &quot;Feature&quot;}, {&quot;bbox&quot;: [7.054559757719015, 45.263502052458755, 7.055014435475907, 45.26377154704398], &quot;geometry&quot;: {&quot;coordinates&quot;: [[[7.055014435475907, 45.26377154704398], [7.054992038136731, 45.26374447128211], [7.054947820875765, 45.26372174372048], [7.054892513796767, 45.26371373191425], [7.0548430898121754, 45.26370964070575], [7.0548518200596355, 45.263683719800994], [7.054892504707919, 45.26365791057313], [7.054925982017609, 45.26361661835909], [7.054953914370863, 45.26358268402476], [7.05495790078092, 45.26355391283072], [7.054912229105742, 45.26351119950486], [7.054904600978748, 45.263502052458755], [7.054559757719016, 45.263502052458755], [7.054559757719015, 45.26377154704397], [7.055014435475907, 45.26377154704398]]], &quot;type&quot;: &quot;Polygon&quot;}, &quot;id&quot;: &quot;1986&quot;, &quot;properties&quot;: {&quot;lake_id&quot;: 202.0, &quot;source&quot;: &quot;water&quot;, &quot;value&quot;: 2, &quot;year&quot;: 2024}, &quot;type&quot;: &quot;Feature&quot;}, {&quot;bbox&quot;: [7.11142311520378, 45.26215457953256, 7.111962104374253, 45.262963063288275], &quot;geometry&quot;: {&quot;coordinates&quot;: [[[7.111551788463946, 45.262963063288275], [7.111603670730585, 45.26290632803065], [7.111769520117962, 45.262824891823755], [7.1118550916526875, 45.262779891091576], [7.1119621043742525, 45.26271412529388], [7.111962104374253, 45.262532579162944], [7.111948285118358, 45.262516984241174], [7.111863387500677, 45.262490813463515], [7.111835616474079, 45.26242407411779], [7.111692609789017, 45.26242407411779], [7.111692609789017, 45.262367361091684], [7.111599704855521, 45.26237078059477], [7.111545955902749, 45.262284871671085], [7.111612564512141, 45.26222382862679], [7.11155225411439, 45.26215457953256], [7.11142311520378, 45.26215457953258], [7.111423115203781, 45.262963063288275], [7.111551788463946, 45.262963063288275]]], &quot;type&quot;: &quot;Polygon&quot;}, &quot;id&quot;: &quot;1987&quot;, &quot;properties&quot;: {&quot;lake_id&quot;: 195.0, &quot;source&quot;: &quot;water&quot;, &quot;value&quot;: 2, &quot;year&quot;: 2024}, &quot;type&quot;: &quot;Feature&quot;}, {&quot;bbox&quot;: [7.109806147692365, 45.262757356601234, 7.11088412603331, 45.26377154704398], &quot;geometry&quot;: {&quot;coordinates&quot;: [[[7.110176325075757, 45.26377154704397], [7.110208587480489, 45.263757020541355], [7.110287019766937, 45.26369554336296], [7.1102920062113, 45.26368280458927], [7.110312011539824, 45.263552330363574], [7.110376775416937, 45.26346624540745], [7.110448681037701, 45.263396638036774], [7.110558203220299, 45.26335494220028], [7.110675175195263, 45.26333389763462], [7.110870270131857, 45.263247201594055], [7.11088412603331, 45.26324518668978], [7.1108841260333095, 45.262963063288275], [7.110345136862838, 45.26296306328829], [7.110345136862837, 45.262778721313786], [7.110306697141217, 45.262757356601234], [7.110135303417566, 45.26276366274168], [7.110075642277603, 45.26284796038625], [7.110075642277601, 45.26296306328827], [7.1099803424218395, 45.262963063288275], [7.109961882051727, 45.26298348333645], [7.1098660278206935, 45.26304978635536], [7.109817146814144, 45.26311017607541], [7.109806147692366, 45.2631187974529], [7.109806147692365, 45.263223748688915], [7.109811814010652, 45.26323255787351], [7.110075642277601, 45.26323255787352], [7.110075642277601, 45.26377154704398], [7.110176325075757, 45.26377154704397]]], &quot;type&quot;: &quot;Polygon&quot;}, &quot;id&quot;: &quot;1988&quot;, &quot;properties&quot;: {&quot;lake_id&quot;: 195.0, &quot;source&quot;: &quot;water&quot;, &quot;value&quot;: 2, &quot;year&quot;: 2024}, &quot;type&quot;: &quot;Feature&quot;}, {&quot;bbox&quot;: [7.109806147692365, 45.27724627630576, 7.110345136862838, 45.27805476006148], &quot;geometry&quot;: {&quot;coordinates&quot;: [[[7.110191171152997, 45.27805476006148], [7.11026998915624, 45.27797594205827], [7.1103220040976325, 45.27786541030777], [7.110345136862838, 45.27781046999044], [7.110345136862837, 45.27751577089102], [7.110075642277601, 45.27751577089102], [7.110075642277601, 45.27724627630576], [7.109806147692366, 45.27724627630579], [7.109806147692365, 45.27778526547623], [7.110075642277601, 45.277785265476254], [7.110075642277603, 45.27805476006147], [7.110191171152997, 45.27805476006148]]], &quot;type&quot;: &quot;Polygon&quot;}, &quot;id&quot;: &quot;1989&quot;, &quot;properties&quot;: {&quot;lake_id&quot;: 198.0, &quot;source&quot;: &quot;water&quot;, &quot;value&quot;: 2, &quot;year&quot;: 2024}, &quot;type&quot;: &quot;Feature&quot;}, {&quot;bbox&quot;: [7.108500271376703, 45.26484952538491, 7.110345136862838, 45.2661969983111], &quot;geometry&quot;: {&quot;coordinates&quot;: [[[7.110260213573754, 45.2661969983111], [7.110284618358509, 45.26619455783263], [7.110345136862837, 45.266185912332006], [7.110345136862838, 45.26565800914063], [7.110075642277602, 45.26565800914063], [7.110075642277603, 45.265291631239826], [7.1100407983207266, 45.26532330756429], [7.109988783379334, 45.26532330756429], [7.1099627759086355, 45.265284296358224], [7.109936768437938, 45.26524853608601], [7.109959524974798, 45.26518026647546], [7.10996927777631, 45.265151008070895], [7.10997354285641, 45.26511901997015], [7.109806147692365, 45.265119019970165], [7.109806147692366, 45.26500146511442], [7.10977097081225, 45.26500146511446], [7.1097189558708545, 45.26501121791591], [7.109705952135505, 45.26501446884975], [7.109686446532481, 45.26502422165127], [7.109663689995625, 45.26503397445275], [7.109605173186556, 45.26502747258508], [7.109536903575976, 45.26504047632045], [7.109452379296211, 45.26505673098962], [7.109397113420983, 45.265076236592705], [7.109322341942729, 45.265105494997194], [7.109254072332151, 45.26511199686486], [7.109179300853898, 45.265108745931016], [7.109127285912504, 45.265082738460336], [7.109114282177156, 45.265027472585075], [7.1091110312433194, 45.26493319550382], [7.109140289647853, 45.26488118056244], [7.109142550731961, 45.26484952538491], [7.108997663936658, 45.26484952538494], [7.108997663936657, 45.2653885145554], [7.108500271376703, 45.2653885145554], [7.108503106615783, 45.26540458091018], [7.108519361284968, 45.265443592116235], [7.108555121557175, 45.265489105189964], [7.108590881829384, 45.265521614528346], [7.108613638366243, 45.2655801313374], [7.108633143969263, 45.265612640675776], [7.108645083038964, 45.265658009140644], [7.108997663936658, 45.26565800914063], [7.108997663936657, 45.26592750372588], [7.109806147692365, 45.26592750372587], [7.109806147692365, 45.26617525631497], [7.1098945062980565, 45.266178303163414], [7.109930266570264, 45.26618480503112], [7.109964814196861, 45.2661969983111], [7.110260213573754, 45.2661969983111]]], &quot;type&quot;: &quot;Polygon&quot;}, &quot;id&quot;: &quot;1990&quot;, &quot;properties&quot;: {&quot;lake_id&quot;: 197.0, &quot;source&quot;: &quot;water&quot;, &quot;value&quot;: 2, &quot;year&quot;: 2024}, &quot;type&quot;: &quot;Feature&quot;}, {&quot;bbox&quot;: [6.862337121282953, 44.552587732491084, 6.864296580542501, 44.55329375636968], &quot;geometry&quot;: {&quot;coordinates&quot;: [[[6.863488096786793, 44.553114325777045], [6.863711880840039, 44.55311432577703], [6.864009873513252, 44.55307549776439], [6.864153463763739, 44.553002868621064], [6.864296580542501, 44.55297675002036], [6.864296580542501, 44.5528448311918], [6.8640270859572645, 44.5528448311918], [6.8640270859572645, 44.552679469361834], [6.863905746282879, 44.552639739163524], [6.863598304378432, 44.552587732491084], [6.863221376995897, 44.55260575850882], [6.862828856671818, 44.55269192981144], [6.8625917511563195, 44.552680915605364], [6.86236797816808, 44.55276600661688], [6.862337121282953, 44.55290711670974], [6.862560943208304, 44.55301999754248], [6.862830788082194, 44.553114325777045], [6.8629491076163225, 44.55311432577703], [6.8629491076163225, 44.55315596307525], [6.863308308263017, 44.55328355083378], [6.863430560632587, 44.55329375636968], [6.863488096786793, 44.55322975776539], [6.863488096786793, 44.553114325777045]]], &quot;type&quot;: &quot;Polygon&quot;}, &quot;id&quot;: &quot;1991&quot;, &quot;properties&quot;: {&quot;lake_id&quot;: 2057.0, &quot;source&quot;: &quot;water&quot;, &quot;value&quot;: 2, &quot;year&quot;: 2024}, &quot;type&quot;: &quot;Feature&quot;}, {&quot;bbox&quot;: [6.870225461417689, 45.136570102812655, 6.870494956002926, 45.136839597397895], &quot;geometry&quot;: {&quot;coordinates&quot;: [[[6.870494956002926, 45.136839597397895], [6.870494956002926, 45.136570102812655], [6.870225461417689, 45.136570102812655], [6.87022546141769, 45.136839597397895], [6.870494956002926, 45.136839597397895]]], &quot;type&quot;: &quot;Polygon&quot;}, &quot;id&quot;: &quot;1992&quot;, &quot;properties&quot;: {&quot;lake_id&quot;: 1608.0, &quot;source&quot;: &quot;water&quot;, &quot;value&quot;: 2, &quot;year&quot;: 2024}, &quot;type&quot;: &quot;Feature&quot;}, {&quot;bbox&quot;: [6.845720578235775, 45.13496248538223, 6.846345866776517, 45.135222629886485], &quot;geometry&quot;: {&quot;coordinates&quot;: [[[6.846343224358815, 45.135222629886485], [6.846345866776517, 45.13521173152188], [6.84633954162214, 45.13511989565198], [6.846304303418953, 45.13503742598376], [6.846195271365251, 45.13499934528495], [6.846050853805108, 45.13496248538223], [6.845938799220686, 45.134966351498825], [6.845817824066917, 45.13501236803315], [6.845764022244973, 45.13508954118617], [6.845720578235775, 45.13514543558783], [6.8457681418627345, 45.135222629886485], [6.846343224358815, 45.135222629886485]]], &quot;type&quot;: &quot;Polygon&quot;}, &quot;id&quot;: &quot;1993&quot;, &quot;properties&quot;: {&quot;lake_id&quot;: 1611.0, &quot;source&quot;: &quot;water&quot;, &quot;value&quot;: 2, &quot;year&quot;: 2024}, &quot;type&quot;: &quot;Feature&quot;}, {&quot;bbox&quot;: [6.876135462654027, 45.13737858656836, 6.880351923840733, 45.14019633396716], &quot;geometry&quot;: {&quot;coordinates&quot;: [[[6.8780408043895305, 45.13980403783549], [6.878310298974764, 45.139804037835475], [6.878310298974765, 45.14011709085421], [6.878339595795576, 45.140118311555085], [6.878394861670805, 45.14012156248895], [6.878446876612196, 45.14013456622429], [6.878502142487432, 45.14016707556266], [6.8785606592964985, 45.14019633396716], [6.878602921436379, 45.14018983209948], [6.878661438245449, 45.14018983209948], [6.878755715326723, 45.14018983209948], [6.878833737738809, 45.140189832099516], [6.8788492881452346, 45.1401893461493], [6.8788492881452346, 45.14007353242072], [6.879118782730471, 45.14007353242072], [6.8791187827304725, 45.13980403783549], [6.879854192124832, 45.13980403783549], [6.879864283765168, 45.139796469105264], [6.879927266486179, 45.13974802085829], [6.879927266486181, 45.13953454325025], [6.880198155034493, 45.139534543250235], [6.880231639288761, 45.13947787758917], [6.880225137421085, 45.13946162291995], [6.8802218864872495, 45.139412858912415], [6.880241392090275, 45.13936734583871], [6.880280403296317, 45.13930882902966], [6.880316163568525, 45.13924706128676], [6.880348672906898, 45.1391917954115], [6.880351923840733, 45.139078012727225], [6.880348672906897, 45.138996739381284], [6.880348308198745, 45.138995554079784], [6.87992726648618, 45.13899555407978], [6.87992726648618, 45.138187070324065], [6.879657771900945, 45.138187070324065], [6.879657771900944, 45.13768329823357], [6.879630216528896, 45.13766060557424], [6.879622990901602, 45.137648081153614], [6.878849288145235, 45.137648081153614], [6.8788492881452346, 45.13737858656836], [6.877771309804294, 45.13737858656837], [6.877771309804294, 45.137648081153614], [6.877232320633823, 45.137648081153614], [6.877232320633823, 45.13791757573884], [6.876962826048587, 45.13791757573884], [6.876962826048587, 45.138187070324065], [6.876632701573807, 45.13818707032408], [6.876571087788195, 45.138242522731076], [6.876512570979128, 45.138249024598764], [6.876473559773083, 45.13824902459877], [6.876389035493321, 45.13824902459877], [6.876278503742857, 45.138249024598764], [6.876167971992399, 45.13824902459877], [6.876135462654027, 45.13826853020177], [6.8761614701247264, 45.13832704701086], [6.876161470124721, 45.13839206568764], [6.876154968257049, 45.13844408062897], [6.876156751725668, 45.13845656490931], [6.876693331463351, 45.13845656490932], [6.876693331463352, 45.13872605949456], [6.8762496670230435, 45.13872605949456], [6.876258998139833, 45.13874316654199], [6.8763240168165805, 45.13884069455709], [6.876389035493319, 45.13889921136615], [6.876434548567039, 45.13895122630758], [6.87646705790541, 45.1389707319106], [6.8764805972704215, 45.13899555407978], [6.876962826048587, 45.13899555407978], [6.876962826048586, 45.13942473794477], [6.876987207319346, 45.1394453682508], [6.87703922226074, 45.1394551210523], [6.877081484400623, 45.13944861918464], [6.877169259614222, 45.139455121052315], [6.877218023621781, 45.13950713599372], [6.87723344020359, 45.13953454325025], [6.877771309804294, 45.13953454325025], [6.877771309804294, 45.13980403783549], [6.877576258983682, 45.13980403783549], [6.877666652491296, 45.1399265064587], [6.877741423969553, 45.13995576486324], [6.877855206653851, 45.14000127793699], [6.877903970661408, 45.139994776069265], [6.8779917458750095, 45.14003378727534], [6.878040804389529, 45.140046635933906], [6.8780408043895305, 45.13980403783549]]], &quot;type&quot;: &quot;Polygon&quot;}, &quot;id&quot;: &quot;1994&quot;, &quot;properties&quot;: {&quot;lake_id&quot;: 200.0, &quot;source&quot;: &quot;water&quot;, &quot;value&quot;: 2, &quot;year&quot;: 2024}, &quot;type&quot;: &quot;Feature&quot;}, {&quot;bbox&quot;: [6.847048927087406, 45.14007353242072, 6.848935389184056, 45.14088201617643], &quot;geometry&quot;: {&quot;coordinates&quot;: [[[6.84866589459882, 45.14088201617643], [6.8486658945988195, 45.140343027005954], [6.848935389184056, 45.140343027005954], [6.848935389184056, 45.14007353242072], [6.848409613202289, 45.14007353242072], [6.848402117479139, 45.14007809022409], [6.8483229027272365, 45.14010229121455], [6.848193092237253, 45.14012585349233], [6.848115927622404, 45.1401309022508], [6.848035728827937, 45.14014082601479], [6.847992677236056, 45.140151852684866], [6.84788402299435, 45.14018899532735], [6.847857410843112, 45.14019372690488], [6.847857410843113, 45.14034302700595], [6.847048927087407, 45.140343027005954], [6.847048927087406, 45.14088201617643], [6.84866589459882, 45.14088201617643]]], &quot;type&quot;: &quot;Polygon&quot;}, &quot;id&quot;: &quot;1995&quot;, &quot;properties&quot;: {&quot;lake_id&quot;: 257.0, &quot;source&quot;: &quot;water&quot;, &quot;value&quot;: 2, &quot;year&quot;: 2024}, &quot;type&quot;: &quot;Feature&quot;}, {&quot;bbox&quot;: [6.879118782730471, 45.14007353242072, 6.879134671132, 45.14008644174699], &quot;geometry&quot;: {&quot;coordinates&quot;: [[[6.879118782730471, 45.14007353242072], [6.879118782730472, 45.14008644174699], [6.879134671132, 45.14007353242074], [6.879118782730471, 45.14007353242072]]], &quot;type&quot;: &quot;Polygon&quot;}, &quot;id&quot;: &quot;1996&quot;, &quot;properties&quot;: {&quot;lake_id&quot;: 200.0, &quot;source&quot;: &quot;water&quot;, &quot;value&quot;: 2, &quot;year&quot;: 2024}, &quot;type&quot;: &quot;Feature&quot;}, {&quot;bbox&quot;: [6.88370019067948, 45.14465494036974, 6.883969685264717, 45.144924434954966], &quot;geometry&quot;: {&quot;coordinates&quot;: [[[6.883969685264717, 45.144924434954966], [6.883969685264717, 45.14468263352252], [6.8839451477377205, 45.14465767081341], [6.883944307870378, 45.14465494036974], [6.88370019067948, 45.14465494036974], [6.883700190679482, 45.144924434954966], [6.883969685264717, 45.144924434954966]]], &quot;type&quot;: &quot;Polygon&quot;}, &quot;id&quot;: &quot;1997&quot;, &quot;properties&quot;: {&quot;lake_id&quot;: 1607.0, &quot;source&quot;: &quot;water&quot;, &quot;value&quot;: 2, &quot;year&quot;: 2024}, &quot;type&quot;: &quot;Feature&quot;}, {&quot;bbox&quot;: [6.8465099379169345, 45.166214507188606, 6.846779432502171, 45.16648400177384], &quot;geometry&quot;: {&quot;coordinates&quot;: [[[6.84677943250217, 45.16648400177384], [6.846779432502171, 45.166214507188606], [6.8465099379169345, 45.166214507188606], [6.846509937916936, 45.16648400177384], [6.84677943250217, 45.16648400177384]]], &quot;type&quot;: &quot;Polygon&quot;}, &quot;id&quot;: &quot;1998&quot;, &quot;properties&quot;: {&quot;lake_id&quot;: 255.0, &quot;source&quot;: &quot;water&quot;, &quot;value&quot;: 2, &quot;year&quot;: 2024}, &quot;type&quot;: &quot;Feature&quot;}, {&quot;bbox&quot;: [7.066687014054628, 45.28398364093667, 7.066956508639864, 45.28425313552191], &quot;geometry&quot;: {&quot;coordinates&quot;: [[[7.066956508639864, 45.284253135521894], [7.066956508639864, 45.28398364093669], [7.066687014054628, 45.28398364093667], [7.066687014054628, 45.28425313552191], [7.066956508639864, 45.284253135521894]]], &quot;type&quot;: &quot;Polygon&quot;}, &quot;id&quot;: &quot;1999&quot;, &quot;properties&quot;: {&quot;lake_id&quot;: 199.0, &quot;source&quot;: &quot;water&quot;, &quot;value&quot;: 2, &quot;year&quot;: 2024}, &quot;type&quot;: &quot;Feature&quot;}, {&quot;bbox&quot;: [7.067495497810337, 45.28371414635141, 7.069920949077461, 45.28587010303334], &quot;geometry&quot;: {&quot;coordinates&quot;: [[[7.069920949077461, 45.28587010303334], [7.069920949077459, 45.28533111386285], [7.069651454492223, 45.28533111386285], [7.069651454492222, 45.28479212469238], [7.0693819599069885, 45.28479212469238], [7.0693819599069885, 45.284452390325136], [7.0693683650848955, 45.284448551328055], [7.069359759799355, 45.284434782879416], [7.069354107191915, 45.2844332769093], [7.069290092859576, 45.28431033333555], [7.06933995128056, 45.284262482791455], [7.069325270195555, 45.28425313552191], [7.068842970736514, 45.28425313552191], [7.068842970736515, 45.28402389526607], [7.068740699053284, 45.28401227632004], [7.068751935027937, 45.28398364093669], [7.06857347615128, 45.28398364093669], [7.068573476151281, 45.2837538483006], [7.0685129615039655, 45.28371414635141], [7.067495497810337, 45.28371414635142], [7.067495497810337, 45.28425313552192], [7.067764992395572, 45.28425313552191], [7.067764992395571, 45.28452263010713], [7.068034486980809, 45.28452263010714], [7.068034486980808, 45.28479212469237], [7.068573476151279, 45.28479212469238], [7.06857347615128, 45.285061619277634], [7.068842970736515, 45.28506161927761], [7.068842970736517, 45.285600608448085], [7.069651454492222, 45.285600608448085], [7.069651454492221, 45.285870103033325], [7.069920949077461, 45.28587010303334]], [[7.0680344869808085, 45.28425313552191], [7.068303981566044, 45.28425313552192], [7.068303981566042, 45.28452263010713], [7.068034486980809, 45.28452263010714], [7.0680344869808085, 45.28425313552191]]], &quot;type&quot;: &quot;Polygon&quot;}, &quot;id&quot;: &quot;2000&quot;, &quot;properties&quot;: {&quot;lake_id&quot;: 199.0, &quot;source&quot;: &quot;water&quot;, &quot;value&quot;: 2, &quot;year&quot;: 2024}, &quot;type&quot;: &quot;Feature&quot;}, {&quot;bbox&quot;: [7.10953665310713, 45.30742966985218, 7.110318753163803, 45.308163090228085], &quot;geometry&quot;: {&quot;coordinates&quot;: [[[7.110075642277601, 45.30769916443744], [7.1103129810251255, 45.30769916443742], [7.1103187531637975, 45.307647215189355], [7.110318753163803, 45.30755618904191], [7.110305749428451, 45.30751067596816], [7.110266738222408, 45.30748466849749], [7.11020822141334, 45.30747166476214], [7.1101497046042725, 45.30743915542378], [7.110138638104088, 45.3074296698522], [7.109577028094607, 45.30742966985218], [7.109538529042901, 45.30748466849747], [7.1095366531071305, 45.30748571068402], [7.10953665310713, 45.30753422926161], [7.1095840421166185, 45.30757569464495], [7.109603547719641, 45.3076212077187], [7.109603547719643, 45.30767322266005], [7.109603547719644, 45.30769916443744], [7.109806147692366, 45.30769916443744], [7.109806147692365, 45.308103388001385], [7.109818109352889, 45.3081153496619], [7.109870124294284, 45.3081348552649], [7.109922139235676, 45.30814135713259], [7.109980656044746, 45.30814785900024], [7.110075642277601, 45.308163090228085], [7.110075642277601, 45.30769916443744]]], &quot;type&quot;: &quot;Polygon&quot;}, &quot;id&quot;: &quot;2001&quot;, &quot;properties&quot;: {&quot;lake_id&quot;: 192.0, &quot;source&quot;: &quot;water&quot;, &quot;value&quot;: 2, &quot;year&quot;: 2024}, &quot;type&quot;: &quot;Feature&quot;}, {&quot;bbox&quot;: [7.120316436516564, 45.34057750383621, 7.120585931101801, 45.34072625278162], &quot;geometry&quot;: {&quot;coordinates&quot;: [[[7.120585931101801, 45.340577503836215], [7.120316436516566, 45.34057750383621], [7.120316436516564, 45.34072625278162], [7.120381003876988, 45.34072196797939], [7.120539563172815, 45.34069938682402], [7.1205859311017985, 45.34070649578534], [7.120585931101801, 45.340577503836215]]], &quot;type&quot;: &quot;Polygon&quot;}, &quot;id&quot;: &quot;2002&quot;, &quot;properties&quot;: {&quot;lake_id&quot;: 1474.0, &quot;source&quot;: &quot;water&quot;, &quot;value&quot;: 2, &quot;year&quot;: 2024}, &quot;type&quot;: &quot;Feature&quot;}, {&quot;bbox&quot;: [7.129209757829348, 45.359711619387944, 7.135489164168345, 45.3631047871486], &quot;geometry&quot;: {&quot;coordinates&quot;: [[[7.134869144119301, 45.361598081484594], [7.1348691441193, 45.36132858689936], [7.134060660363593, 45.36132858689936], [7.134060660363593, 45.361598081484594], [7.13298268202265, 45.361598081484594], [7.13298268202265, 45.36132858689936], [7.1321924164428285, 45.36132858689936], [7.132190223286317, 45.36133151110805], [7.132164215815596, 45.36139652978484], [7.132060185932875, 45.36139002791713], [7.1320378437445315, 45.36132858689936], [7.131904703681706, 45.36132858689936], [7.131904703681708, 45.3611447491861], [7.131858628035007, 45.36117546628381], [7.131806613093519, 45.36118847001922], [7.131715586946014, 45.361207975622335], [7.131637564534106, 45.361201473754576], [7.131572545857182, 45.361142956945486], [7.131546538386646, 45.361090942004054], [7.131546538386596, 45.36105909231413], [7.131365714511234, 45.36105909231413], [7.131365714511234, 45.360789597728896], [7.131096219925997, 45.360789597728896], [7.131096219925999, 45.360630742493804], [7.131084905781699, 45.360596800060925], [7.131052396443315, 45.360538283251756], [7.131019887105016, 45.36050577391341], [7.1309288609575106, 45.36043425336897], [7.13088984975142, 45.36040824589833], [7.13081182733934, 45.36036923469223], [7.130779318001075, 45.36034972908925], [7.130715181186875, 45.36025060855843], [7.130557230755525, 45.360250608558424], [7.130557230755527, 45.36006536062687], [7.130493235823273, 45.360005130102415], [7.1304452035645305, 45.35998111397318], [7.130287736170289, 45.35998111397318], [7.13028773617029, 45.3599162170628], [7.130246164851837, 45.35990110021973], [7.13020715364565, 45.35986859088136], [7.130181146175082, 45.35983608154296], [7.130135633101235, 45.359784066601556], [7.130096621895191, 45.35975805913089], [7.129992592012373, 45.35971904792487], [7.129977734938589, 45.359711619387944], [7.129555884077176, 45.359711619387944], [7.12957647248127, 45.35976456099848], [7.12962848742265, 45.3598295796753], [7.129621985555041, 45.359894598351985], [7.129589476216629, 45.35992710769042], [7.129563468745979, 45.35992710769039], [7.129479252414584, 45.35992710769039], [7.129479252414584, 45.35998111397318], [7.1294219391681, 45.35998111397318], [7.129400922054097, 45.35999862823482], [7.129335903377321, 45.36007014877929], [7.129264382832919, 45.36011566185292], [7.129209757829348, 45.36008531462869], [7.129209757829348, 45.36052010314366], [7.129479252414584, 45.36052010314366], [7.129479252414584, 45.36088810508124], [7.1294919482015136, 45.360902387841534], [7.129589476216674, 45.361032425195006], [7.1295990001877945, 45.36105909231413], [7.13028773617029, 45.36105909231413], [7.130287736170291, 45.36150647907753], [7.130330689131528, 45.3615330690059], [7.130391057861771, 45.361598081484594], [7.130557230755526, 45.36159808148458], [7.130557230755526, 45.36198888884014], [7.1305647563678525, 45.36200120347848], [7.130597265706187, 45.36204021468448], [7.130683744251344, 45.36213707065507], [7.130826725340762, 45.36213707065507], [7.1308267253407625, 45.36232819112824], [7.130902853487012, 45.362404319274276], [7.130905660944548, 45.36240656524032], [7.131096219925999, 45.36240656524031], [7.131096219925999, 45.36251674522316], [7.131253954341315, 45.36257336783383], [7.1314750178421145, 45.36264488837824], [7.131657070136972, 45.362657892113646], [7.13177410375518, 45.362683899584255], [7.131891137373234, 45.36268389958424], [7.132013150686219, 45.362742489411154], [7.132137794619394, 45.36274207234068], [7.132311354441988, 45.36276077508645], [7.132421012460918, 45.36275359467045], [7.132550153256402, 45.36277303311966], [7.1329105540875135, 45.36283490813829], [7.133235853456893, 45.36289822838041], [7.133422469656557, 45.36301270781257], [7.1336489803301655, 45.3631047871486], [7.1341416898348555, 45.3629442882508], [7.134422829634304, 45.36273301020706], [7.134515102768269, 45.362616599517246], [7.134636382960626, 45.36241122685061], [7.134927497450801, 45.36217446737326], [7.135104518627392, 45.362080036178774], [7.135288414804604, 45.361918386665735], [7.135423393819097, 45.36173761828408], [7.135489164168345, 45.36166403854675], [7.135440201474441, 45.361598081484594], [7.134869144119301, 45.361598081484594]]], &quot;type&quot;: &quot;Polygon&quot;}, &quot;id&quot;: &quot;2003&quot;, &quot;properties&quot;: {&quot;lake_id&quot;: 188.0, &quot;source&quot;: &quot;water&quot;, &quot;value&quot;: 2, &quot;year&quot;: 2024}, &quot;type&quot;: &quot;Feature&quot;}, {&quot;bbox&quot;: [6.983682681801985, 45.34866234139328, 6.985569143898637, 45.35081829807517], &quot;geometry&quot;: {&quot;coordinates&quot;: [[[6.985569143898637, 45.35081829807517], [6.985569143898635, 45.350750783242255], [6.985398820534067, 45.35054892183477], [6.985398791909373, 45.350548803489936], [6.985030154728165, 45.350548803489936], [6.985030154728165, 45.349740319734224], [6.9847606601429275, 45.349740319734224], [6.984760660142929, 45.34906811141989], [6.984760008604768, 45.34906680834354], [6.984688023343331, 45.3489318359785], [6.984491165557692, 45.34893183597851], [6.984491165557692, 45.348669336238025], [6.9844830049054885, 45.34866234139328], [6.9836826818019855, 45.34866234139328], [6.983682681801985, 45.34886217865248], [6.983763273920455, 45.34891346454598], [6.983781645352988, 45.34893183597851], [6.983952176387221, 45.3489318359785], [6.98395217638722, 45.34921253736967], [6.983964537654678, 45.34923932011584], [6.984060377528185, 45.34935432796406], [6.9840124575915, 45.34944058385018], [6.984002873604152, 45.34960351163515], [6.984028525122776, 45.349740319734224], [6.984221670972457, 45.349740319734224], [6.984221670972455, 45.350548803489936], [6.984760660142928, 45.35054880348995], [6.9847606601429275, 45.35081829807517], [6.985569143898637, 45.35081829807517]]], &quot;type&quot;: &quot;Polygon&quot;}, &quot;id&quot;: &quot;2004&quot;, &quot;properties&quot;: {&quot;lake_id&quot;: 153.0, &quot;source&quot;: &quot;water&quot;, &quot;value&quot;: 2, &quot;year&quot;: 2024}, &quot;type&quot;: &quot;Feature&quot;}, {&quot;bbox&quot;: [6.985569143898635, 45.35081829807517, 6.985838638483872, 45.35135728724565], &quot;geometry&quot;: {&quot;coordinates&quot;: [[[6.98583863848387, 45.35135728724565], [6.985838638483872, 45.351043901876096], [6.985830702651097, 45.35102852394817], [6.985705924044221, 45.35098988330169], [6.985670487402851, 45.350935685876664], [6.9856094456637665, 45.35081829807517], [6.985569143898637, 45.35081829807517], [6.985569143898635, 45.35135728724565], [6.98583863848387, 45.35135728724565]]], &quot;type&quot;: &quot;Polygon&quot;}, &quot;id&quot;: &quot;2005&quot;, &quot;properties&quot;: {&quot;lake_id&quot;: 153.0, &quot;source&quot;: &quot;water&quot;, &quot;value&quot;: 2, &quot;year&quot;: 2024}, &quot;type&quot;: &quot;Feature&quot;}, {&quot;bbox&quot;: [7.014405064518872, 45.396632377565254, 7.0152135482745805, 45.39742281651228], &quot;geometry&quot;: {&quot;coordinates&quot;: [[[7.01521354827458, 45.39717136673574], [7.0149440536893435, 45.39717136673574], [7.0149440536893435, 45.3969018721505], [7.014674559104107, 45.39690187215048], [7.014674559104107, 45.396632377565254], [7.014417477448866, 45.396632377565254], [7.014414063460566, 45.39663692954968], [7.014405064518873, 45.396648178226776], [7.014405064518872, 45.39694177270512], [7.014414063460564, 45.39697236910687], [7.014405064518873, 45.397008364873656], [7.014405064518872, 45.39712295867544], [7.014428439441586, 45.397149672872835], [7.014438300288361, 45.39717136673574], [7.014674559104108, 45.39717136673574], [7.014674559104107, 45.39733553928994], [7.014720751055726, 45.39735093660715], [7.014778254979821, 45.397374896575556], [7.014826174916567, 45.397398856543894], [7.014874094853309, 45.39740364853756], [7.0149363907710764, 45.39742281651228], [7.014965142733123, 45.397422816512275], [7.015003478682519, 45.397413232524926], [7.015041814631919, 45.397408440531265], [7.01506577460029, 45.39739885654393], [7.01511369453703, 45.39737489657555], [7.015142446499078, 45.39736052059451], [7.015190366435825, 45.39732697663877], [7.0152135482745805, 45.39731731753929], [7.01521354827458, 45.39717136673574]]], &quot;type&quot;: &quot;Polygon&quot;}, &quot;id&quot;: &quot;2006&quot;, &quot;properties&quot;: {&quot;lake_id&quot;: 343.0, &quot;source&quot;: &quot;water&quot;, &quot;value&quot;: 2, &quot;year&quot;: 2024}, &quot;type&quot;: &quot;Feature&quot;}, {&quot;bbox&quot;: [6.979640263023447, 45.36348454358125, 6.979909757608683, 45.36375403816647], &quot;geometry&quot;: {&quot;coordinates&quot;: [[[6.979909757608683, 45.36375403816647], [6.979909757608682, 45.36348454358125], [6.979640263023448, 45.36348454358125], [6.979640263023447, 45.36375403816647], [6.979909757608683, 45.36375403816647]]], &quot;type&quot;: &quot;Polygon&quot;}, &quot;id&quot;: &quot;2007&quot;, &quot;properties&quot;: {&quot;lake_id&quot;: 1512.0, &quot;source&quot;: &quot;water&quot;, &quot;value&quot;: 2, &quot;year&quot;: 2024}, &quot;type&quot;: &quot;Feature&quot;}, {&quot;bbox&quot;: [6.988803078921466, 45.37561179991686, 6.9898810572624095, 45.37690709359359], &quot;geometry&quot;: {&quot;coordinates&quot;: [[[6.989611562677173, 45.37615078908736], [6.989853897880611, 45.37615078908736], [6.989853897880608, 45.376121206630984], [6.989873065855302, 45.37606370270688], [6.989844313893258, 45.37597744682074], [6.989863481867955, 45.3759486948587], [6.9898810572624095, 45.37594166470092], [6.989881057262409, 45.37588129450211], [6.989611562677174, 45.3758812945021], [6.989611562677173, 45.37561179991686], [6.989198668659629, 45.37561179991686], [6.989211770728231, 45.375670759225564], [6.989211770728231, 45.375766599099066], [6.98920218674088, 45.37584327099785], [6.989154266804137, 45.375900774921924], [6.989106346867393, 45.37593911087137], [6.989072573506701, 45.37593488920123], [6.989072573506701, 45.376150789087355], [6.988803078921466, 45.376150789087355], [6.988803078921467, 45.37667091355908], [6.988809243259575, 45.37667707789719], [6.988815593439881, 45.37668977825782], [6.9890725735067, 45.376689778257806], [6.9890725735067, 45.37687884858587], [6.989154266804136, 45.37688792561889], [6.989240522690277, 45.37690709359359], [6.9893555305384645, 45.3768879256189], [6.989460954399299, 45.376811253720064], [6.98950887433605, 45.37674416580866], [6.989556794272791, 45.3766770778972], [6.989611562677173, 45.376604053358015], [6.989611562677173, 45.37615078908736]]], &quot;type&quot;: &quot;Polygon&quot;}, &quot;id&quot;: &quot;2008&quot;, &quot;properties&quot;: {&quot;lake_id&quot;: 158.0, &quot;source&quot;: &quot;water&quot;, &quot;value&quot;: 2, &quot;year&quot;: 2024}, &quot;type&quot;: &quot;Feature&quot;}, {&quot;bbox&quot;: [6.928436291828633, 45.382618659132994, 6.928705786413871, 45.38288815371823], &quot;geometry&quot;: {&quot;coordinates&quot;: [[[6.928705786413871, 45.38288815371823], [6.928705786413869, 45.382618659132994], [6.928436291828635, 45.382618659132994], [6.928436291828633, 45.38288815371823], [6.928705786413871, 45.38288815371823]]], &quot;type&quot;: &quot;Polygon&quot;}, &quot;id&quot;: &quot;2009&quot;, &quot;properties&quot;: {&quot;lake_id&quot;: 304.0, &quot;source&quot;: &quot;water&quot;, &quot;value&quot;: 2, &quot;year&quot;: 2024}, &quot;type&quot;: &quot;Feature&quot;}, {&quot;bbox&quot;: [6.899869865793633, 45.414149525605595, 6.900408854964105, 45.414419020190834], &quot;geometry&quot;: {&quot;coordinates&quot;: [[[6.900408854964105, 45.414419020190834], [6.900408854964105, 45.414149525605595], [6.899869865793634, 45.414149525605595], [6.899869865793633, 45.414419020190834], [6.900408854964105, 45.414419020190834]]], &quot;type&quot;: &quot;Polygon&quot;}, &quot;id&quot;: &quot;2010&quot;, &quot;properties&quot;: {&quot;lake_id&quot;: 250.0, &quot;source&quot;: &quot;water&quot;, &quot;value&quot;: 2, &quot;year&quot;: 2024}, &quot;type&quot;: &quot;Feature&quot;}, {&quot;bbox&quot;: [6.913614089640661, 45.397710355906185, 6.914272673076157, 45.397979850491446], &quot;geometry&quot;: {&quot;coordinates&quot;: [[[6.914195706941539, 45.397979850491446], [6.914253087609986, 45.397916094759424], [6.914272673076157, 45.397856824749624], [6.914221155827293, 45.397800039928754], [6.914210527289025, 45.3977334566124], [6.914207403088337, 45.3977103559062], [6.913614089640662, 45.397710355906185], [6.913614089640661, 45.39777749349323], [6.913657965523604, 45.39781553836961], [6.91373763876415, 45.39785041608279], [6.913817899960971, 45.397893642543536], [6.91390291078197, 45.39791996425941], [6.914030868081144, 45.397965708314786], [6.91410746370638, 45.397979850491446], [6.914195706941539, 45.397979850491446]]], &quot;type&quot;: &quot;Polygon&quot;}, &quot;id&quot;: &quot;2011&quot;, &quot;properties&quot;: {&quot;lake_id&quot;: 248.0, &quot;source&quot;: &quot;water&quot;, &quot;value&quot;: 2, &quot;year&quot;: 2024}, &quot;type&quot;: &quot;Feature&quot;}, {&quot;bbox&quot;: [6.89879188745269, 45.41226306350894, 6.900408854964106, 45.41361053643512], &quot;geometry&quot;: {&quot;coordinates&quot;: [[[6.900139360378868, 45.413610536435115], [6.900139360378868, 45.41334104184988], [6.900408854964106, 45.41334104184989], [6.900408854964105, 45.41253255809419], [6.90013936037887, 45.4125325580942], [6.90013936037887, 45.41226306350894], [6.899600371208398, 45.41226306350895], [6.899600371208398, 45.41253255809419], [6.89879188745269, 45.41253255809419], [6.89879188745269, 45.41307154726466], [6.899330876623162, 45.41307154726466], [6.899330876623161, 45.41334104184989], [6.899600371208398, 45.41334104184989], [6.899600371208398, 45.41361053643512], [6.900139360378868, 45.413610536435115]]], &quot;type&quot;: &quot;Polygon&quot;}, &quot;id&quot;: &quot;2012&quot;, &quot;properties&quot;: {&quot;lake_id&quot;: 250.0, &quot;source&quot;: &quot;water&quot;, &quot;value&quot;: 2, &quot;year&quot;: 2024}, &quot;type&quot;: &quot;Feature&quot;}, {&quot;bbox&quot;: [7.070729432833167, 45.32440782872205, 7.070998927418402, 45.32467732330729], &quot;geometry&quot;: {&quot;coordinates&quot;: [[[7.070998927418401, 45.32467732330729], [7.070998927418402, 45.32440782872205], [7.0707294328331685, 45.32440782872205], [7.070729432833167, 45.32467732330729], [7.070998927418401, 45.32467732330729]]], &quot;type&quot;: &quot;Polygon&quot;}, &quot;id&quot;: &quot;2013&quot;, &quot;properties&quot;: {&quot;lake_id&quot;: 191.0, &quot;source&quot;: &quot;water&quot;, &quot;value&quot;: 2, &quot;year&quot;: 2024}, &quot;type&quot;: &quot;Feature&quot;}, {&quot;bbox&quot;: [7.143223476261611, 45.36674112818028, 7.143762465432085, 45.36725746777456], &quot;geometry&quot;: {&quot;coordinates&quot;: [[[7.143492970846846, 45.36725746777456], [7.143492970846848, 45.366987973189325], [7.143762465432084, 45.366987973189325], [7.143762465432085, 45.36693027016051], [7.143734289341774, 45.36691336450631], [7.143705030937244, 45.36689385890332], [7.1436725215988695, 45.366851596763404], [7.143601001054457, 45.3668288402266], [7.143552237046899, 45.36679958182203], [7.143483967436324, 45.36678332715287], [7.143425450627253, 45.36677682528516], [7.143357181016674, 45.36677357435132], [7.14329541327377, 45.366760570615966], [7.143223476261612, 45.36674112818028], [7.143223476261611, 45.3672564132389], [7.143225233821034, 45.36725746777455], [7.143492970846846, 45.36725746777456]]], &quot;type&quot;: &quot;Polygon&quot;}, &quot;id&quot;: &quot;2014&quot;, &quot;properties&quot;: {&quot;lake_id&quot;: 187.0, &quot;source&quot;: &quot;water&quot;, &quot;value&quot;: 2, &quot;year&quot;: 2024}, &quot;type&quot;: &quot;Feature&quot;}, {&quot;bbox&quot;: [7.1483438733810925, 45.36671847860408, 7.148882862551567, 45.366987973189325], &quot;geometry&quot;: {&quot;coordinates&quot;: [[[7.14877506035473, 45.366987973189325], [7.148750686891471, 45.36697816352975], [7.1487248230514195, 45.36694982528063], [7.14876191096271, 45.366889856382166], [7.148829849481886, 45.36684548496841], [7.148882862551567, 45.36680074205507], [7.148882862551566, 45.36671847860408], [7.1483438733810925, 45.36671847860408], [7.148343873381093, 45.36695979141772], [7.1483692491930615, 45.366958820524374], [7.148483903677761, 45.36696863038154], [7.148582607615189, 45.366987973189325], [7.14877506035473, 45.366987973189325]]], &quot;type&quot;: &quot;Polygon&quot;}, &quot;id&quot;: &quot;2015&quot;, &quot;properties&quot;: {&quot;lake_id&quot;: 186.0, &quot;source&quot;: &quot;water&quot;, &quot;value&quot;: 2, &quot;year&quot;: 2024}, &quot;type&quot;: &quot;Feature&quot;}, {&quot;bbox&quot;: [7.078814270390241, 45.35378273851276, 7.080431237901657, 45.35459122226848], &quot;geometry&quot;: {&quot;coordinates&quot;: [[[7.079083764975479, 45.35459122226848], [7.079083764975479, 45.35432172768323], [7.079866095637938, 45.35432172768323], [7.07987958568593, 45.354311766426385], [7.079877512117636, 45.35432172768323], [7.080431237901657, 45.35432172768323], [7.080431237901657, 45.354053725347306], [7.080375842734686, 45.35411789704583], [7.0803761489196155, 45.35412207097107], [7.080260811807492, 45.35416812774991], [7.0801695927586525, 45.354250977210896], [7.079996760354793, 45.35429075359738], [7.079919800835562, 45.35429355974098], [7.079859173632319, 45.35419532818314], [7.079857030607266, 45.35416611069624], [7.079910415401345, 45.35405223309801], [7.079892248731186, 45.354052233097995], [7.079892248731186, 45.35378273851276], [7.079280586786698, 45.35378273851278], [7.079083764975477, 45.35388417987077], [7.079083764975477, 45.354052233097995], [7.078823180408016, 45.35405223309798], [7.078814270390242, 45.354058066745026], [7.078814270390241, 45.35459122226848], [7.079083764975479, 45.35459122226848]]], &quot;type&quot;: &quot;Polygon&quot;}, &quot;id&quot;: &quot;2016&quot;, &quot;properties&quot;: {&quot;lake_id&quot;: 498.0, &quot;source&quot;: &quot;water&quot;, &quot;value&quot;: 2, &quot;year&quot;: 2024}, &quot;type&quot;: &quot;Feature&quot;}, {&quot;bbox&quot;: [7.07962275414595, 45.42223436316266, 7.080431237901658, 45.42250385774791], &quot;geometry&quot;: {&quot;coordinates&quot;: [[[7.080164114126765, 45.42250385774791], [7.080185847427837, 45.42247995111673], [7.0801988511631855, 45.42247670018291], [7.080224858633883, 45.42244419084452], [7.0802508661045795, 45.422431187109176], [7.080296379178299, 45.422431187109154], [7.0803418922520205, 45.422431187109154], [7.080367899722716, 45.4224311871092], [7.08039715812725, 45.422427936175346], [7.080431237901658, 45.42238817643855], [7.080431237901657, 45.42223436316266], [7.079622754145951, 45.42223436316266], [7.07962275414595, 45.422503857747905], [7.080164114126765, 45.42250385774791]]], &quot;type&quot;: &quot;Polygon&quot;}, &quot;id&quot;: &quot;2017&quot;, &quot;properties&quot;: {&quot;lake_id&quot;: 225.0, &quot;source&quot;: &quot;water&quot;, &quot;value&quot;: 2, &quot;year&quot;: 2024}, &quot;type&quot;: &quot;Feature&quot;}, {&quot;bbox&quot;: [7.080161743316421, 45.42492930901501, 7.084473656680196, 45.42948408806876], &quot;geometry&quot;: {&quot;coordinates&quot;: [[[7.082317699998307, 45.42924122237879], [7.082667555211271, 45.4292412223788], [7.082689066482546, 45.429224013361804], [7.082754085159203, 45.429054964802305], [7.082832107571273, 45.42889891997806], [7.082856689168779, 45.42887433838056], [7.082856689168781, 45.42870223320832], [7.082994657275993, 45.42870223320832], [7.08300115613072, 45.42869086021255], [7.083014159866088, 45.428612837800465], [7.083053171072388, 45.42849580418228], [7.083053171072221, 45.42845679297623], [7.0830401673369, 45.428391774299534], [7.082988152395463, 45.42835276309344], [7.082975148660042, 45.42828774441676], [7.082988152395474, 45.42819671826928], [7.083014159866205, 45.42815770706325], [7.083066174807569, 45.42810569212186], [7.0831261837540165, 45.42810569212185], [7.083126183754016, 45.427893749452636], [7.083470377413197, 45.427893749452636], [7.083665172924487, 45.42772408884592], [7.083665172924486, 45.42762425486738], [7.083779797122034, 45.42762425486738], [7.0837943839869775, 45.427611550178554], [7.083934667509722, 45.427482956949454], [7.0839346675097215, 45.42735476028215], [7.084473656680196, 45.42735476028215], [7.084473656680196, 45.42711740823531], [7.0844445707544805, 45.427117408235276], [7.084379552077663, 45.42710440450003], [7.084249514724395, 45.42709140076469], [7.084241079006194, 45.42708526569689], [7.083934667509722, 45.427085265696896], [7.083934667509722, 45.42677655355005], [7.083924421340601, 45.426766307380916], [7.083807387722324, 45.42666227749817], [7.083807387722541, 45.42662326629212], [7.083768892839658, 45.426546276526445], [7.083126183754017, 45.42654627652646], [7.0831261837540165, 45.42640377111691], [7.083092182278249, 45.426389199055805], [7.0830791785428975, 45.42633718411448], [7.083079178542876, 45.42627678194119], [7.082856689168779, 45.42627678194119], [7.082856689168779, 45.42605869456889], [7.082767088894608, 45.42602509446611], [7.08274334608105, 45.426007287355965], [7.082587194583546, 45.426007287355965], [7.082587194583542, 45.42590913983989], [7.082533021658333, 45.42588205337728], [7.082428991775488, 45.4258430421712], [7.082357471231106, 45.425752016023765], [7.082344467495676, 45.42563498240568], [7.082363973098783, 45.425589469331925], [7.082344467495669, 45.42551144691992], [7.082344467495635, 45.42546829818552], [7.082048205413072, 45.425468298185486], [7.082048205413072, 45.42519880360027], [7.0817787108278365, 45.42519880360027], [7.0817787108278365, 45.42492930901503], [7.081410513005233, 45.42492930901501], [7.081382191079972, 45.42497179190293], [7.081362685476997, 45.425023806844294], [7.081330176138543, 45.42506281805031], [7.081278161197164, 45.42512133485939], [7.081239721657365, 45.42517075712477], [7.081239721657366, 45.42557300631248], [7.081245651858737, 45.42557646559661], [7.081271659329474, 45.425595971199606], [7.081330176138587, 45.42564148427332], [7.081362685476875, 45.42566749174398], [7.081388692947625, 45.42570650295009], [7.081362685476859, 45.42573251042077], [7.081239721657364, 45.42580883279156], [7.081239721657364, 45.426088982954745], [7.081252153726457, 45.426090113142855], [7.081323674270873, 45.426135626216535], [7.081356183609315, 45.42616813555492], [7.081359434543001, 45.426460719600314], [7.08125540466033, 45.42656474948313], [7.081239721657364, 45.42658043248607], [7.081239721657362, 45.42681577111167], [7.081002407703195, 45.42681577111168], [7.080970227072129, 45.42683722486573], [7.080970227072129, 45.42735476028215], [7.080551177862425, 45.42735476028215], [7.080536948282214, 45.42736122827317], [7.080481682406997, 45.42737423200848], [7.080431237901658, 45.42738958468402], [7.080431237901657, 45.42762425486738], [7.080182634824832, 45.42762425486738], [7.080161743316421, 45.42763489015276], [7.080161743316421, 45.42806795071655], [7.08016942483632, 45.428077993148], [7.080228293661085, 45.42815118186619], [7.080250256315523, 45.42816324403785], [7.0804312379016565, 45.42816324403785], [7.080431237901657, 45.42830561990895], [7.080643854664138, 45.4283871561034], [7.08071565314439, 45.428432738623094], [7.080970227072128, 45.428432738623094], [7.08097022707213, 45.428609451057575], [7.0810141427096704, 45.42865407396308], [7.081017680760445, 45.42870223320832], [7.081239721657364, 45.42870223320832], [7.081239721657365, 45.42924122237879], [7.081509216242599, 45.42924122237879], [7.081509216242601, 45.42941530316289], [7.081543112304855, 45.429419069392026], [7.081591876312336, 45.429393061921324], [7.081630887518504, 45.42940931659051], [7.081682902459906, 45.42940931659051], [7.081731666467481, 45.429412567524366], [7.081767426739705, 45.429432073127366], [7.081783681408704, 45.42943857499511], [7.081822692614892, 45.42940931659055], [7.08185682742008, 45.42941906939205], [7.081895838626107, 45.429419069392], [7.081947853567574, 45.429406065656664], [7.082012872244352, 45.42941906939197], [7.082051883450237, 45.42945808059804], [7.082207928274482, 45.42948408806876], [7.082272946951271, 45.42947108433343], [7.082317699998307, 45.429451194090305], [7.082317699998307, 45.42924122237879]]], &quot;type&quot;: &quot;Polygon&quot;}, &quot;id&quot;: &quot;2018&quot;, &quot;properties&quot;: {&quot;lake_id&quot;: 221.0, &quot;source&quot;: &quot;water&quot;, &quot;value&quot;: 2, &quot;year&quot;: 2024}, &quot;type&quot;: &quot;Feature&quot;}, {&quot;bbox&quot;: [7.146590966419047, 45.39070349669007, 7.150230335477744, 45.39198456625799], &quot;geometry&quot;: {&quot;coordinates&quot;: [[[7.148882862551565, 45.391781475031024], [7.149006619362391, 45.39178147503102], [7.14902714427829, 45.391772086355815], [7.1492260569416874, 45.39173123275801], [7.149368540600302, 45.391650616954465], [7.149487952367642, 45.391579226630554], [7.149567767763358, 45.391534415518265], [7.149698403134189, 45.39145423837334], [7.1498044055271395, 45.39144193899373], [7.149940960904198, 45.39144106300849], [7.1500354275539175, 45.39143337628497], [7.150125531457552, 45.3913672568535], [7.15016668801117, 45.39128202512344], [7.150230335477744, 45.39127966588466], [7.150230335477742, 45.391046791795915], [7.15020286379033, 45.39097097126407], [7.150136148972086, 45.390872996752655], [7.150030462290365, 45.39080994921928], [7.149947535303302, 45.39073350207922], [7.149749111966805, 45.39070349669007], [7.149698159756653, 45.39070349669007], [7.149507633380916, 45.390728879716924], [7.1494337426653045, 45.39077347124973], [7.149298435147445, 45.3907910416611], [7.1491523571368, 45.390821885912864], [7.1491523571368, 45.3909729912753], [7.147535389625386, 45.390972991275305], [7.147535389625386, 45.39124248586055], [7.147277124830906, 45.39124248586054], [7.147254141525212, 45.391256016128544], [7.147211734913842, 45.391324551719656], [7.147072992858449, 45.391375728997055], [7.146996400454914, 45.39140319264402], [7.146996400454913, 45.39151198044578], [7.146880476090665, 45.39151198044578], [7.146875629329731, 45.39151696860487], [7.146802980955443, 45.3915782534821], [7.1467577788185634, 45.39152970399395], [7.146663311552525, 45.39153738795464], [7.146665802464025, 45.391570778105915], [7.146590966419047, 45.391682367458486], [7.146595424469176, 45.39178147503102], [7.147519028618837, 45.39178147503102], [7.147660024846609, 45.39175995875506], [7.147809674210425, 45.39177534155665], [7.147822331844016, 45.39178147503102], [7.148074378795857, 45.39178147503102], [7.148074378795857, 45.3918966203371], [7.148166018506769, 45.3919337375768], [7.148288847647535, 45.39198456625799], [7.1484247871007245, 45.39197855927336], [7.148606864379605, 45.39195088649767], [7.1487406173276105, 45.39191244810102], [7.148877801528968, 45.39184039993986], [7.148882862551566, 45.39183808488545], [7.148882862551565, 45.391781475031024]]], &quot;type&quot;: &quot;Polygon&quot;}, &quot;id&quot;: &quot;2019&quot;, &quot;properties&quot;: {&quot;lake_id&quot;: 184.0, &quot;source&quot;: &quot;water&quot;, &quot;value&quot;: 2, &quot;year&quot;: 2024}, &quot;type&quot;: &quot;Feature&quot;}, {&quot;bbox&quot;: [7.1144427128622185, 45.354052233097995, 7.116543512323262, 45.355957717475334], &quot;geometry&quot;: {&quot;coordinates&quot;: [[[7.115757433150711, 45.35593869519463], [7.1157608164070805, 45.355938211872314], [7.115760816407086, 45.35590570253392], [7.1157933257454555, 45.3558341819895], [7.115812831348479, 45.355795170783466], [7.115851842554527, 45.35576266144513], [7.115903857495917, 45.35573665397441], [7.1159818799080075, 45.35570414463604], [7.1160045231527915, 45.35567395364303], [7.116004523152791, 45.35566920060943], [7.1160080879279874, 45.35566920060941], [7.116020891114053, 45.35565212969466], [7.116072906055447, 45.355626122223924], [7.116092411658471, 45.35561311848866], [7.116150928467536, 45.355528594208835], [7.116235452747302, 45.35549608487048], [7.116274017738027, 45.355496084870495], [7.116274017738026, 45.355399706024166], [7.116390922987059, 45.355399706024166], [7.116397999439152, 45.35538555311999], [7.116463018115893, 45.35532703631089], [7.1165215349249635, 45.35526201763419], [7.116543512323262, 45.35521806283762], [7.116543512323262, 45.35486071685371], [7.116274017738026, 45.35486071685371], [7.116274017738027, 45.35459122226848], [7.11600452315279, 45.35459122226849], [7.116004523152791, 45.3543449257873], [7.115971014780222, 45.35432172768323], [7.115465533982317, 45.35432172768323], [7.115465533982318, 45.35414302179941], [7.115390209949659, 45.3541241907912], [7.115292681934547, 45.354078677717496], [7.115243098272956, 45.354052233097995], [7.115196039397083, 45.354052233097995], [7.115196039397084, 45.35432172768323], [7.114887273420496, 45.35432172768323], [7.114883064271074, 45.35433225055679], [7.11486355866805, 45.35445578604262], [7.114857056800373, 45.35451430285166], [7.114850554932699, 45.35457932152842], [7.114837551197351, 45.3546313364698], [7.114811543726655, 45.35470285701423], [7.114772532520608, 45.35474837008795], [7.114720517579215, 45.35478087942629], [7.114714015711543, 45.35482639250004], [7.114694510108522, 45.354891411176744], [7.114668502637825, 45.35493042238282], [7.114657050226612, 45.35493901169126], [7.114657050226611, 45.35513021143894], [7.114569271425411, 45.35513021143894], [7.114544967152013, 45.355157987751404], [7.114499454078297, 45.35521650456049], [7.114479948475272, 45.355268519501884], [7.114447439136901, 45.35533353817864], [7.1144427128622185, 45.35539970602418], [7.114657050226612, 45.355399706024166], [7.114657050226611, 45.35566920060941], [7.115196039397082, 45.3556692006094], [7.115196039397083, 45.35595771747532], [7.1152536707285, 45.35595771747532], [7.1153056856698935, 45.355957717475334], [7.115377206214309, 45.355938211872314], [7.115422719288028, 45.35590570253392], [7.115494239832445, 45.355847185724876], [7.115533251038491, 45.355847185724876], [7.115565760376861, 45.35586669132791], [7.11557876411221, 45.355905702533946], [7.1156164700101625, 45.35593869519463], [7.115757433150711, 45.35593869519463]]], &quot;type&quot;: &quot;Polygon&quot;}, &quot;id&quot;: &quot;2020&quot;, &quot;properties&quot;: {&quot;lake_id&quot;: 183.0, &quot;source&quot;: &quot;water&quot;, &quot;value&quot;: 2, &quot;year&quot;: 2024}, &quot;type&quot;: &quot;Feature&quot;}, {&quot;bbox&quot;: [7.166400010591896, 45.39285945337195, 7.167136672912835, 45.393667937127674], &quot;geometry&quot;: {&quot;coordinates&quot;: [[[7.16666950517713, 45.39366793712766], [7.16666950517713, 45.393398442542434], [7.166974607035439, 45.393398442542434], [7.166945116047668, 45.39339187819813], [7.166924841546732, 45.393359149856856], [7.166960050066716, 45.393274132389145], [7.167128397376922, 45.39322182814947], [7.167127750063522, 45.39313395970997], [7.167136672912835, 45.393128947957216], [7.16666950517713, 45.3931289479572], [7.166669505177132, 45.39285945337195], [7.166400010591897, 45.39285945337195], [7.166400010591896, 45.393667937127674], [7.16666950517713, 45.39366793712766]]], &quot;type&quot;: &quot;Polygon&quot;}, &quot;id&quot;: &quot;2021&quot;, &quot;properties&quot;: {&quot;lake_id&quot;: 1471.0, &quot;source&quot;: &quot;water&quot;, &quot;value&quot;: 2, &quot;year&quot;: 2024}, &quot;type&quot;: &quot;Feature&quot;}, {&quot;bbox&quot;: [7.1521167975743944, 45.39582389380955, 7.158854162205293, 45.3977103559062], &quot;geometry&quot;: {&quot;coordinates&quot;: [[[7.158069007337576, 45.397710355906185], [7.158093664100197, 45.39770295887744], [7.15822370145368, 45.39767695140669], [7.158315173034821, 45.397637749300515], [7.1583151730348185, 45.397440861320966], [7.158828266817554, 45.397440861320966], [7.158854162205293, 45.397406334137294], [7.158854162205291, 45.396779105900244], [7.1588348770150505, 45.396727678726286], [7.1588023676766825, 45.396701671255585], [7.158782862073661, 45.396662660049536], [7.158760150210453, 45.396632377565254], [7.158584667620055, 45.396632377565254], [7.158584667620055, 45.39654562643141], [7.158561798572736, 45.39654562643141], [7.158464270557623, 45.39655863016675], [7.158386248145535, 45.39655863016675], [7.158321229468792, 45.39655863016674], [7.158243207056703, 45.39656513203445], [7.1581716865122855, 45.396526120828376], [7.1581196715708915, 45.396500113357654], [7.158054652894154, 45.39648710962233], [7.158002637952759, 45.39646110215164], [7.15795712487904, 45.39646760401933], [7.157872600599274, 45.39651961896065], [7.157833589393228, 45.396539124563716], [7.157775072584162, 45.396552128299085], [7.157710053907419, 45.396539124563716], [7.157638533363006, 45.3965196189607], [7.157534503480217, 45.3965196189607], [7.15752149974487, 45.396506615225334], [7.157488990406496, 45.39645460028395], [7.157443477332779, 45.396435094680946], [7.157404466126734, 45.39644159654862], [7.157319941846974, 45.396480607754704], [7.157215911964181, 45.39651961896069], [7.157144391419767, 45.396539124563716], [7.157040361536978, 45.396552128299085], [7.1569428335218666, 45.39656513203445], [7.1568908185804725, 45.39657163390211], [7.156773784962339, 45.39650661522532], [7.156708766285597, 45.39647410588698], [7.1566307438735075, 45.39644159654862], [7.156565725196764, 45.3963960834749], [7.156536213645767, 45.39636288298002], [7.156004322231726, 45.39636288298002], [7.1559870589737615, 45.39637007600417], [7.155915538429344, 45.39637657787189], [7.155824512281912, 45.39638307973955], [7.155765995472843, 45.396402585342585], [7.155713980531446, 45.39644159654862], [7.155681471193079, 45.39646110215164], [7.1556099506486595, 45.39646760401932], [7.155512422633549, 45.39644159654862], [7.155447403956809, 45.39642859281327], [7.155339878775124, 45.39636288298002], [7.154811743426754, 45.39636288298003], [7.154811743426753, 45.3961974998794], [7.1547582059833434, 45.39619452557701], [7.15462816862986, 45.39618802370936], [7.154556648085443, 45.396168518106286], [7.154491629408703, 45.3961165031649], [7.154422285098325, 45.39609338839479], [7.152925281330104, 45.39609338839479], [7.152925281330104, 45.39589689025764], [7.152807645681091, 45.39588568686252], [7.152723121401327, 45.39592469806852], [7.152651600856909, 45.395944203671554], [7.152547570974122, 45.39594420367157], [7.152508559768077, 45.395944203671554], [7.152437039223662, 45.39593770180387], [7.152411031752962, 45.39584017378879], [7.152351338495942, 45.39582389380955], [7.152333059960866, 45.39582389380955], [7.152287496267153, 45.395846675656415], [7.152196470119715, 45.39587268312711], [7.1521704626490195, 45.39587268312716], [7.152141189058477, 45.39582389380955], [7.1521167975743944, 45.39582389380955], [7.152116797574395, 45.39592876420246], [7.1521574589136705, 45.39592469806853], [7.152189968252045, 45.395944203671554], [7.1522094738550654, 45.395976713009915], [7.152196470119717, 45.39604823355432], [7.152116797574396, 45.39606815169065], [7.152116797574396, 45.39636288298002], [7.152386292159631, 45.39636288298002], [7.152386292159631, 45.396582101908024], [7.152469548562033, 45.396575697569396], [7.152515061635752, 45.396588701304815], [7.152564197428843, 45.396632377565254], [7.152925281330104, 45.396632377565254], [7.152925281330101, 45.39682572908931], [7.153015705446664, 45.39686828161474], [7.153093727858752, 45.39690079095311], [7.153103458635172, 45.3969018721505], [7.1537337650858115, 45.3969018721505], [7.153733765085811, 45.397098185999006], [7.153828438905932, 45.39712185445404], [7.153925966921051, 45.39715436379241], [7.153945472524071, 45.3971543637924], [7.154056004274533, 45.39716086566009], [7.154119010728387, 45.39717136673574], [7.155081238011989, 45.39717136673574], [7.155081238011989, 45.397398458348356], [7.155122310573094, 45.397407936631694], [7.155207196975769, 45.397440861320966], [7.1561592163529335, 45.39744086132097], [7.156159216352933, 45.3977103559062], [7.158069007337576, 45.397710355906185]]], &quot;type&quot;: &quot;Polygon&quot;}, &quot;id&quot;: &quot;2022&quot;, &quot;properties&quot;: {&quot;lake_id&quot;: 230.0, &quot;source&quot;: &quot;water&quot;, &quot;value&quot;: 2, &quot;year&quot;: 2024}, &quot;type&quot;: &quot;Feature&quot;}, {&quot;bbox&quot;: [7.166938999762366, 45.403639236781395, 7.167477988932841, 45.404076708440094], &quot;geometry&quot;: {&quot;coordinates&quot;: [[[7.167477988932839, 45.403639236781395], [7.167065974728633, 45.403639236781395], [7.1670142265491625, 45.40367086066881], [7.166945956938588, 45.40370987187488], [7.166938999762369, 45.403703610416294], [7.166938999762366, 45.40390873136662], [7.167208494347602, 45.40390873136662], [7.167208494347602, 45.40403706800037], [7.1672417919177605, 45.40403821619245], [7.16734907273438, 45.404038216192426], [7.167427095146472, 45.40404471806009], [7.167477988932841, 45.404076708440094], [7.167477988932839, 45.403639236781395]]], &quot;type&quot;: &quot;Polygon&quot;}, &quot;id&quot;: &quot;2023&quot;, &quot;properties&quot;: {&quot;lake_id&quot;: 231.0, &quot;source&quot;: &quot;water&quot;, &quot;value&quot;: 2, &quot;year&quot;: 2024}, &quot;type&quot;: &quot;Feature&quot;}, {&quot;bbox&quot;: [7.142414992505904, 45.41953941731032, 7.143223476261612, 45.419808911895544], &quot;geometry&quot;: {&quot;coordinates&quot;: [[[7.142978434834433, 45.419808911895544], [7.1429833236254066, 45.41980524530231], [7.143022334831453, 45.419766234096244], [7.143084102574357, 45.419727222890224], [7.143132866581916, 45.41970121541952], [7.143188132457145, 45.419688211684175], [7.143223476261611, 45.419684845607556], [7.143223476261612, 45.41957719317799], [7.143210888994006, 45.41955492339684], [7.143210888994007, 45.419539417310325], [7.142474178188574, 45.41953941731032], [7.142472927012987, 45.419541919661484], [7.142459923277637, 45.419558174330675], [7.142424163005428, 45.419587432735234], [7.142414992505904, 45.419596603234766], [7.142414992505905, 45.41978378504454], [7.142420912071591, 45.41979224156695], [7.142445917564494, 45.419808911895544], [7.142978434834433, 45.419808911895544]]], &quot;type&quot;: &quot;Polygon&quot;}, &quot;id&quot;: &quot;2024&quot;, &quot;properties&quot;: {&quot;lake_id&quot;: 227.0, &quot;source&quot;: &quot;water&quot;, &quot;value&quot;: 2, &quot;year&quot;: 2024}, &quot;type&quot;: &quot;Feature&quot;}, {&quot;bbox&quot;: [6.910110660032595, 45.41819194438412, 6.911727627544011, 45.419808911895544], &quot;geometry&quot;: {&quot;coordinates&quot;: [[[6.911727627544011, 45.419808911895544], [6.9117276275440105, 45.41926992272506], [6.91118863837354, 45.41926992272507], [6.911188638373539, 45.419000428139846], [6.910919143788304, 45.419000428139846], [6.910919143788303, 45.41819194438412], [6.910110660032595, 45.41819194438413], [6.910110660032597, 45.4186349229544], [6.910122971575624, 45.41867070350495], [6.910178603171691, 45.418679826554374], [6.910214557006639, 45.41864176450322], [6.910262476943436, 45.418589052572834], [6.910286436911688, 45.418569884598156], [6.910324772861173, 45.418632180515885], [6.910363108810631, 45.4186944764337], [6.910379935174037, 45.418730933554606], [6.910649649203066, 45.418730933554606], [6.910649649203066, 45.419808911895544], [6.911727627544011, 45.419808911895544]]], &quot;type&quot;: &quot;Polygon&quot;}, &quot;id&quot;: &quot;2025&quot;, &quot;properties&quot;: {&quot;lake_id&quot;: 249.0, &quot;source&quot;: &quot;water&quot;, &quot;value&quot;: 2, &quot;year&quot;: 2024}, &quot;type&quot;: &quot;Feature&quot;}, {&quot;bbox&quot;: [6.912805605884955, 45.42196486857743, 6.913883584225899, 45.42250385774791], &quot;geometry&quot;: {&quot;coordinates&quot;: [[[6.913331679958667, 45.42250385774791], [6.913406024793785, 45.422408271531346], [6.91348748868625, 45.422389103556654], [6.913544992610343, 45.422389103556654], [6.9136072885281115, 45.42239389555031], [6.913614089640663, 45.422390778373725], [6.913614089640663, 45.42223436316266], [6.913883584225897, 45.42223436316266], [6.913883584225899, 45.42196486857744], [6.913657590265603, 45.42196486857744], [6.913640832483832, 45.42197220010696], [6.913516240648296, 45.421972200106964], [6.9135001112833345, 45.42196486857744], [6.912805605884955, 45.42196486857743], [6.912805605884956, 45.422503857747905], [6.913331679958667, 45.42250385774791]]], &quot;type&quot;: &quot;Polygon&quot;}, &quot;id&quot;: &quot;2026&quot;, &quot;properties&quot;: {&quot;lake_id&quot;: 246.0, &quot;source&quot;: &quot;water&quot;, &quot;value&quot;: 2, &quot;year&quot;: 2024}, &quot;type&quot;: &quot;Feature&quot;}, {&quot;bbox&quot;: [6.914153078811134, 45.42304284691838, 6.914692067981606, 45.42331234150361], &quot;geometry&quot;: {&quot;coordinates&quot;: [[[6.914692067981606, 45.42331234150361], [6.914692067981605, 45.423071068213716], [6.914656735142811, 45.42308873463311], [6.914570479256675, 45.423107902607825], [6.914551311281975, 45.42305039868372], [6.914546276771742, 45.42304284691838], [6.914153078811134, 45.42304284691838], [6.914153078811135, 45.42331234150361], [6.914692067981606, 45.42331234150361]]], &quot;type&quot;: &quot;Polygon&quot;}, &quot;id&quot;: &quot;2027&quot;, &quot;properties&quot;: {&quot;lake_id&quot;: 243.0, &quot;source&quot;: &quot;water&quot;, &quot;value&quot;: 2, &quot;year&quot;: 2024}, &quot;type&quot;: &quot;Feature&quot;}, {&quot;bbox&quot;: [6.882622212338539, 45.428432738623094, 6.884725718733568, 45.429510716964025], &quot;geometry&quot;: {&quot;coordinates&quot;: [[[6.883158165697089, 45.429510716964025], [6.883167314104605, 45.4295089254888], [6.883332150952261, 45.429486474567575], [6.883521286153281, 45.42947155050835], [6.8837685409942235, 45.429437873255424], [6.883986443874038, 45.429409397462194], [6.884219213906887, 45.429338559710835], [6.884437498978909, 45.42923056203275], [6.884574623910638, 45.42906679288304], [6.884650911446991, 45.42896790195023], [6.884700565079284, 45.42882808813851], [6.884714062904333, 45.42868115854833], [6.884725718733568, 45.42859287747157], [6.884704520555808, 45.42845970461104], [6.88469150995857, 45.428432738623094], [6.8828917069237745, 45.428432738623094], [6.8828917069237745, 45.428702233208305], [6.882793511573877, 45.42870223320832], [6.882804752091844, 45.428743151196144], [6.882808253248856, 45.428793245234225], [6.882622212338539, 45.42875799453009], [6.88262221233854, 45.42897172779356], [6.8828917069237745, 45.428971727793545], [6.882891706923776, 45.429510716964025], [6.883158165697089, 45.429510716964025]]], &quot;type&quot;: &quot;Polygon&quot;}, &quot;id&quot;: &quot;2028&quot;, &quot;properties&quot;: {&quot;lake_id&quot;: 1399.0, &quot;source&quot;: &quot;water&quot;, &quot;value&quot;: 2, &quot;year&quot;: 2024}, &quot;type&quot;: &quot;Feature&quot;}, {&quot;bbox&quot;: [6.882083223168066, 45.428971727793545, 6.88262221233854, 45.429510716964025], &quot;geometry&quot;: {&quot;coordinates&quot;: [[[6.882622212338539, 45.429510716964025], [6.88262221233854, 45.42897172779356], [6.882083223168066, 45.428971727793545], [6.882083223168068, 45.429510716964025], [6.882622212338539, 45.429510716964025]]], &quot;type&quot;: &quot;Polygon&quot;}, &quot;id&quot;: &quot;2029&quot;, &quot;properties&quot;: {&quot;lake_id&quot;: 1399.0, &quot;source&quot;: &quot;water&quot;, &quot;value&quot;: 2, &quot;year&quot;: 2024}, &quot;type&quot;: &quot;Feature&quot;}, {&quot;bbox&quot;: [7.016830515785996, 45.41576649311701, 7.017354930505585, 45.416035987702266], &quot;geometry&quot;: {&quot;coordinates&quot;: [[[7.017354930505585, 45.416035987702244], [7.0173539515798256, 45.416019345964344], [7.017341971595639, 45.4159810100149], [7.017327595614617, 45.41592350609085], [7.017274883684197, 45.415856418179374], [7.0172557157095, 45.41583006221417], [7.017241339728477, 45.41579172626478], [7.017237975308776, 45.41576649311701], [7.016830515785998, 45.41576649311702], [7.016830515785996, 45.416035987702266], [7.017354930505585, 45.416035987702244]]], &quot;type&quot;: &quot;Polygon&quot;}, &quot;id&quot;: &quot;2030&quot;, &quot;properties&quot;: {&quot;lake_id&quot;: 341.0, &quot;source&quot;: &quot;water&quot;, &quot;value&quot;: 2, &quot;year&quot;: 2024}, &quot;type&quot;: &quot;Feature&quot;}, {&quot;bbox&quot;: [7.008206689058447, 45.39151198044578, 7.0100931511550995, 45.39285945337195], &quot;geometry&quot;: {&quot;coordinates&quot;: [[[7.009554161984626, 45.39285945337195], [7.009554161984627, 45.39232046420149], [7.010016745534008, 45.39232046420148], [7.010032983243699, 45.39222709737075], [7.0100809031804445, 45.392112089522556], [7.0100931511550995, 45.39209065556691], [7.010093151155099, 45.39181200670582], [7.010071342815956, 45.39178147503102], [7.009284667399393, 45.391781475031024], [7.009284667399391, 45.39151198044578], [7.0090151728141565, 45.39151198044578], [7.0090151728141565, 45.39178147503102], [7.008206689058449, 45.391781475031024], [7.008206689058447, 45.392050969616236], [7.0084761836436815, 45.39205096961624], [7.008476183643682, 45.392589958786736], [7.009284667399392, 45.392589958786736], [7.009284667399393, 45.39285945337195], [7.009554161984626, 45.39285945337195]]], &quot;type&quot;: &quot;Polygon&quot;}, &quot;id&quot;: &quot;2031&quot;, &quot;properties&quot;: {&quot;lake_id&quot;: 301.0, &quot;source&quot;: &quot;water&quot;, &quot;value&quot;: 2, &quot;year&quot;: 2024}, &quot;type&quot;: &quot;Feature&quot;}, {&quot;bbox&quot;: [7.040276544701514, 45.48906902030115, 7.042323405653371, 45.489877504056864], &quot;geometry&quot;: {&quot;coordinates&quot;: [[[7.042323405653371, 45.489877504056864], [7.042286628428404, 45.48984646021432], [7.0422094791728105, 45.48984924050211], [7.042183612498903, 45.48982087714936], [7.042222721861338, 45.48978598715682], [7.042209028371634, 45.48976137019196], [7.042252551884624, 45.48970539574134], [7.042273857505208, 45.48967114733567], [7.042291473992515, 45.48960800947164], [7.04189351221293, 45.48960800947164], [7.04189351221293, 45.48938681229444], [7.041847810022135, 45.48937680507589], [7.04181870107773, 45.48933851488638], [7.041624017627694, 45.48933851488639], [7.041624017627693, 45.48912307666912], [7.041582606012165, 45.48908503606796], [7.041552720039792, 45.48906902030115], [7.040546039286751, 45.48906902030116], [7.040546039286751, 45.48933851488639], [7.0402765447015145, 45.48933851488639], [7.040276544701514, 45.489345963155586], [7.040293734915599, 45.48936164842691], [7.040360982052669, 45.48946803791203], [7.040423974440251, 45.48951598966356], [7.040494725077184, 45.489588772330094], [7.040496125812048, 45.48960800947164], [7.040815533871985, 45.48960800947164], [7.040815533871988, 45.489877504056864], [7.042323405653371, 45.489877504056864]]], &quot;type&quot;: &quot;Polygon&quot;}, &quot;id&quot;: &quot;2032&quot;, &quot;properties&quot;: {&quot;lake_id&quot;: 86.0, &quot;source&quot;: &quot;water&quot;, &quot;value&quot;: 2, &quot;year&quot;: 2024}, &quot;type&quot;: &quot;Feature&quot;}, {&quot;bbox&quot;: [6.231792788993944, 44.85947965960887, 6.234662856552196, 44.86384158255399], &quot;geometry&quot;: {&quot;coordinates&quot;: [[[6.232748746164343, 44.86384158255399], [6.2327620818112885, 44.8638184674326], [6.23275672997819, 44.863811331655], [6.2327478102562806, 44.86380597982188], [6.23274067447881, 44.86378100460061], [6.232751378145029, 44.86376673304557], [6.232785273088253, 44.863768516990035], [6.23287076733489, 44.86367558846102], [6.232870767334889, 44.86357208796875], [6.233029374741167, 44.86357208796875], [6.233104599131616, 44.86351341294418], [6.233145629852332, 44.86349914138921], [6.233192012406133, 44.86347595011227], [6.233225907349167, 44.863465246446076], [6.233281209624949, 44.863467030390346], [6.233315104568022, 44.863467030390424], [6.233357919233102, 44.863467030390424], [6.233398949953652, 44.863463462501635], [6.233452468285022, 44.863449190946596], [6.233477443506173, 44.86343670333599], [6.233505986616306, 44.863431351502825], [6.2335648567807755, 44.86341529600348], [6.23358269622442, 44.86341886389222], [6.233611239334579, 44.86343670333597], [6.233650486110786, 44.86343670333604], [6.233670109498924, 44.86342243178096], [6.233679029220878, 44.86342599966984], [6.233679251090597, 44.863426221539555], [6.233679251090597, 44.86330259338351], [6.233948745675831, 44.863302593383494], [6.233948745675831, 44.86336736814167], [6.233966244265484, 44.86335464189473], [6.2339822997648, 44.86333858639531], [6.233994787375485, 44.863317179062776], [6.234005491041661, 44.86329398778592], [6.234026898374275, 44.86327436439775], [6.234060793317404, 44.86324403734335], [6.234083984594162, 44.863186951123254], [6.234092904316067, 44.86318338323458], [6.234117879537352, 44.86316375984638], [6.2341357189810624, 44.86313521673634], [6.2341410708143, 44.863120945181436], [6.234149990536206, 44.86309775390451], [6.234157126313691, 44.863081698405104], [6.234158910258024, 44.86305850712822], [6.2341660460355435, 44.86304423557315], [6.234176749701879, 44.86302461218509], [6.234174965757499, 44.863010340630055], [6.234178533646123, 44.86300320485253], [6.234194589145649, 44.8629782296313], [6.2341928052011095, 44.86296395807624], [6.234221348311201, 44.862922927355626], [6.234237403810545, 44.86291579157807], [6.234269514809288, 44.86291400763372], [6.234290922141828, 44.86290330396746], [6.234296273974945, 44.8628783287462], [6.234319465251973, 44.86286405719118], [6.23432838497383, 44.862860489302385], [6.234348008361954, 44.86285335352492], [6.234380119360668, 44.862844433803055], [6.234397958804554, 44.86282302647051], [6.2344033106375685, 44.86281053885995], [6.234414014303818, 44.86277129208361], [6.234422934025647, 44.862760588417295], [6.234428285858975, 44.86274631686229], [6.2344318537477115, 44.86273026136298], [6.2344407734694425, 44.862710637974764], [6.234442557413964, 44.86266247147663], [6.234437205580766, 44.86259468159035], [6.234465390906976, 44.86251652543877], [6.2344666595213365, 44.862465825323106], [6.234466556506934, 44.86239132371353], [6.2344662820399295, 44.862313846918944], [6.234483769513231, 44.862253733493006], [6.2345097950065265, 44.862196351373036], [6.234534277342559, 44.862112192569775], [6.234527007847225, 44.86205876115441], [6.234529376202456, 44.86196669116488], [6.234534266802643, 44.86186959958408], [6.234530219344549, 44.86176903973791], [6.234532021064935, 44.86170932628515], [6.234551770336171, 44.861657790219965], [6.234548719351417, 44.8616006501384], [6.234590696696785, 44.86154479126901], [6.234601328463391, 44.86148506818826], [6.2346412636691255, 44.861421509483854], [6.234652074754067, 44.861366505146044], [6.234661455609964, 44.86128668377966], [6.234662856552196, 44.86118969393301], [6.234635202322751, 44.861146636701605], [6.2344877348463035, 44.861146636701605], [6.234487734846305, 44.86095034780055], [6.234435188962454, 44.86087813888812], [6.2343867383969895, 44.8607652010898], [6.234364572467065, 44.860683813447324], [6.2343665459306195, 44.86059675043388], [6.23437898737404, 44.86050938229378], [6.234382962896129, 44.86045706312022], [6.234343007266177, 44.860430883194674], [6.234273082698163, 44.860389726341126], [6.234257948097161, 44.86028918200758], [6.234254659092407, 44.86023210284909], [6.234272734944849, 44.86018185856207], [6.23434592462946, 44.860117578434625], [6.234421888411778, 44.86004078803832], [6.234487725900667, 44.85996958213135], [6.23439534017288, 44.85976247033575], [6.2342312525125925, 44.859590826518065], [6.233958596734116, 44.85951294432994], [6.23362817326241, 44.85947965960887], [6.2334097565053606, 44.8595066102101], [6.2334097565053606, 44.8595296691902], [6.233333067509643, 44.8595296691902], [6.23323794996462, 44.85957209192356], [6.233132781763768, 44.859608534383355], [6.232938572752651, 44.859728631975365], [6.232870767334889, 44.85979424958977], [6.232870767334888, 44.85979916377542], [6.232865689301876, 44.85979916377542], [6.2328369683287, 44.85982695804034], [6.232841355126433, 44.85990312282583], [6.23283603483654, 44.85990806136299], [6.232813816198268, 44.859908061359505], [6.232820951975815, 44.85994374024706], [6.232806680420813, 44.85996157969088], [6.232760297866894, 44.85997941913457], [6.232721051090695, 44.859990122800845], [6.232660396981933, 44.86001509802208], [6.232603310761841, 44.86004007324338], [6.232606105786148, 44.86018060049104], [6.232601272749652, 44.86019417352357], [6.232601272749652, 44.8603381529459], [6.232558332922695, 44.8603381529459], [6.232547500312115, 44.86039986093097], [6.232553668760694, 44.860506967696736], [6.232570697821407, 44.86060764753113], [6.232601272749654, 44.86060764753113], [6.232601272749654, 44.86065833981816], [6.2326136338270945, 44.86067509100956], [6.232656080413889, 44.860757299454505], [6.232643117356674, 44.86082324107094], [6.232601272749652, 44.86088719742812], [6.232601272749652, 44.86141613128685], [6.2322538129615825, 44.86141613128685], [6.232204697994674, 44.861469250779585], [6.232144861774394, 44.86152165677605], [6.232079158388068, 44.86166272026839], [6.23206228357918, 44.861675280746255], [6.2320622835791815, 44.86195512045733], [6.231865236737352, 44.86195512045733], [6.231843761543771, 44.86207733995808], [6.231792788993945, 44.86214938904542], [6.231792788993945, 44.86344808671715], [6.231796308470012, 44.863509208767326], [6.231792788993944, 44.86352012862814], [6.231792788993944, 44.86357208796875], [6.232331778164418, 44.86357208796875], [6.232331778164418, 44.86384158255399], [6.232748746164343, 44.86384158255399]]], &quot;type&quot;: &quot;Polygon&quot;}, &quot;id&quot;: &quot;2033&quot;, &quot;properties&quot;: {&quot;lake_id&quot;: 207.0, &quot;source&quot;: &quot;water&quot;, &quot;value&quot;: 2, &quot;year&quot;: 2024}, &quot;type&quot;: &quot;Feature&quot;}, {&quot;bbox&quot;: [6.242842066988614, 44.87524373919097, 6.247692969522861, 44.87748080543895], &quot;geometry&quot;: {&quot;coordinates&quot;: [[[6.246076002011445, 44.877316311815754], [6.246614991181917, 44.877316311815754], [6.246614991181919, 44.87704681723052], [6.247143839126378, 44.87704681723052], [6.247177244344548, 44.877013412012374], [6.2472807131183785, 44.87694205423731], [6.247319959894661, 44.87693848634854], [6.247373478225954, 44.876924214793526], [6.247423474937626, 44.87689774594619], [6.247423474937625, 44.876777322645296], [6.247624218408685, 44.8767773226453], [6.247691020324944, 44.876692302024594], [6.247692969522861, 44.8766879932713], [6.24769296952286, 44.8759694302421], [6.247683884547438, 44.87595731694154], [6.247683884547438, 44.87587882338897], [6.247666045103675, 44.87581816928018], [6.247666045103674, 44.875725404172606], [6.247662136123435, 44.87569934430436], [6.2471539803523894, 44.875699344304365], [6.2471539803523894, 44.87546231891474], [6.2471487012345275, 44.875461380404914], [6.247088642785404, 44.87542984971911], [6.246884485767153, 44.8754298497191], [6.246884485767153, 44.87527828817278], [6.246859702245555, 44.87525801074603], [6.246788344470501, 44.87524373919097], [6.246713418806694, 44.87526871441225], [6.246614991181917, 44.87534605040313], [6.246614991181917, 44.87542984971911], [6.246328197623052, 44.87542984971911], [6.246217482270063, 44.87545424462738], [6.246147346908723, 44.87542984971911], [6.246107568617154, 44.8754298497191], [6.245967730057373, 44.875450676738645], [6.245832150284767, 44.875436405183635], [6.245815761623456, 44.87542984971911], [6.245083945394962, 44.87542984971911], [6.245011535871635, 44.875479219848664], [6.244998023670504, 44.875485825813676], [6.244998023670502, 44.87569934430435], [6.24429362778785, 44.87569934430436], [6.24423373612354, 44.87570756472887], [6.244066045352162, 44.87574324361638], [6.24394473713457, 44.875782490392666], [6.243880515137019, 44.875836008723944], [6.24375920691943, 44.87585384816772], [6.243634330813079, 44.87583244083519], [6.243545133594262, 44.87581816928018], [6.243463072152949, 44.87581460139147], [6.2434095538216585, 44.87576108306012], [6.24332392449159, 44.87570042895135], [6.243320453621201, 44.87569934430436], [6.243171275974458, 44.87569934430436], [6.2431526658314604, 44.87570399684011], [6.243147348647739, 44.875699344304365], [6.243111561573852, 44.87569934430436], [6.243111561573852, 44.875968838889584], [6.242881528960223, 44.875968838889584], [6.242870802619994, 44.87600369949534], [6.242849395287478, 44.876071489381616], [6.242842066988616, 44.8760721000732], [6.242842066988614, 44.87701167671863], [6.242869272546219, 44.87704681723052], [6.243650550744321, 44.87704681723054], [6.243650550744324, 44.87731631181577], [6.24459101822651, 44.877316311815754], [6.244801030435227, 44.87728813944629], [6.244965153317851, 44.87730954677882], [6.245023670887403, 44.877316311815754], [6.245537012840974, 44.877316311815754], [6.245537012840974, 44.87737565770634], [6.245582398072077, 44.87738090455388], [6.245632348514615, 44.8774094476639], [6.245660891624636, 44.87742371921891], [6.24569300262341, 44.87742728710767], [6.24572868151094, 44.87742728710767], [6.2457750640647225, 44.87744155866265], [6.245803607174745, 44.87745583021769], [6.245832150284767, 44.87746653388396], [6.245878532838554, 44.87746653388395], [6.245910643837329, 44.87747010177271], [6.245942754836101, 44.87747010177271], [6.245978433723629, 44.877477237550224], [6.245996273167394, 44.8774701017727], [6.246021248388662, 44.8774701017727], [6.2460497914986846, 44.87747366966148], [6.246074766719953, 44.87748080543895], [6.246076002011445, 44.87748059955705], [6.246076002011445, 44.877316311815754]]], &quot;type&quot;: &quot;Polygon&quot;}, &quot;id&quot;: &quot;2034&quot;, &quot;properties&quot;: {&quot;lake_id&quot;: 30.0, &quot;source&quot;: &quot;water&quot;, &quot;value&quot;: 2, &quot;year&quot;: 2024}, &quot;type&quot;: &quot;Feature&quot;}, {&quot;bbox&quot;: [6.1566037997131415, 44.90507425409506, 6.158490261809793, 44.906152232436], &quot;geometry&quot;: {&quot;coordinates&quot;: [[[6.158490261809791, 44.906152232436], [6.158490261809793, 44.905613243265506], [6.158220767224555, 44.905613243265506], [6.158220767224557, 44.905343748680295], [6.15795127263932, 44.905343748680295], [6.15795127263932, 44.90507425409506], [6.157142788883614, 44.90507425409506], [6.157142788883613, 44.905343748680295], [6.156671964129061, 44.905343748680295], [6.1566697183816155, 44.905380803513154], [6.156648311049099, 44.90543075395572], [6.156623335827828, 44.90548070439824], [6.1566037997131415, 44.90550610134734], [6.1566037997131415, 44.90561324326551], [6.157142788883614, 44.90561324326551], [6.157142788883614, 44.906152232435986], [6.158490261809791, 44.906152232436]]], &quot;type&quot;: &quot;Polygon&quot;}, &quot;id&quot;: &quot;2035&quot;, &quot;properties&quot;: {&quot;lake_id&quot;: 36.0, &quot;source&quot;: &quot;water&quot;, &quot;value&quot;: 2, &quot;year&quot;: 2024}, &quot;type&quot;: &quot;Feature&quot;}, {&quot;bbox&quot;: [6.158759756395027, 44.91908797252732, 6.1592987455655, 44.91989645628303], &quot;geometry&quot;: {&quot;coordinates&quot;: [[[6.1592987455655, 44.91989645628303], [6.1592987455655, 44.919087972527336], [6.158759756395027, 44.91908797252732], [6.158759756395027, 44.919626961697794], [6.159029250980264, 44.919626961697816], [6.1590292509802635, 44.91989645628303], [6.1592987455655, 44.91989645628303]]], &quot;type&quot;: &quot;Polygon&quot;}, &quot;id&quot;: &quot;2036&quot;, &quot;properties&quot;: {&quot;lake_id&quot;: 33.0, &quot;source&quot;: &quot;water&quot;, &quot;value&quot;: 2, &quot;year&quot;: 2024}, &quot;type&quot;: &quot;Feature&quot;}, {&quot;bbox&quot;: [6.41289315027244, 44.96867497621073, 6.416396579880508, 44.972068212190784], &quot;geometry&quot;: {&quot;coordinates&quot;: [[[6.416396579880508, 44.97157618078435], [6.41635805526373, 44.97148843026848], [6.416290336289326, 44.97136992206308], [6.416127085295271, 44.97136992206308], [6.41612708529527, 44.971116971524665], [6.41611582852114, 44.97110042747784], [6.4158575907100355, 44.97110042747784], [6.415857590710036, 44.9708114531533], [6.415830007728428, 44.97078912407293], [6.415758649953381, 44.97072133418661], [6.415630205958251, 44.970596458080166], [6.415601553416816, 44.970561438307385], [6.4155880961248, 44.97056143830737], [6.4155880961248, 44.97054812145427], [6.415558848183148, 44.970521532416456], [6.415523169295636, 44.9705001250839], [6.415473218853065, 44.970464446196424], [6.415444675743144, 44.9704180636426], [6.415398293189361, 44.970375248977575], [6.415366182190412, 44.97033957009004], [6.41532120173196, 44.97029194372213], [6.415318601539564, 44.97029194372213], [6.415318601539564, 44.97028919057725], [6.415305528081782, 44.97027534809249], [6.415227034529098, 44.97021469398375], [6.415134269421657, 44.97008624998858], [6.415102158422806, 44.970054138989866], [6.415072732130748, 44.9700224491369], [6.415049106954328, 44.970022449136906], [6.415049106954328, 44.96999529666108], [6.41502366487028, 44.96996137388224], [6.4149772823165065, 44.96992569499476], [6.414952307095155, 44.969879312441], [6.414880949320083, 44.96983292988719], [6.414824351390331, 44.96975295455167], [6.414779612369092, 44.96975295455167], [6.414779612369092, 44.96970372158982], [6.414741801658865, 44.96967772672651], [6.414659740217497, 44.96962777628388], [6.414599086108742, 44.96956355428635], [6.414524160444941, 44.969502900177574], [6.414470642113477, 44.96944581395748], [6.414399284338565, 44.969367320404906], [6.414292247675873, 44.9692281727436], [6.4142751988410325, 44.969213965381186], [6.414240623198619, 44.969213965381186], [6.414240623198621, 44.96918515234579], [6.414228025678462, 44.969174654412285], [6.414185211013406, 44.96910329663723], [6.41413882845952, 44.96907475352728], [6.414021088130647, 44.96904264252846], [6.413996112909277, 44.9690069636409], [6.4139497303556565, 44.96899269208593], [6.413892644135615, 44.96897485264215], [6.413831990026889, 44.96894630953213], [6.413828435136953, 44.968944470795954], [6.413432139442912, 44.96894447079595], [6.413432139442911, 44.96879491456001], [6.413422221420126, 44.96879442445928], [6.413430539213093, 44.96876555562422], [6.413432139442913, 44.96876188067817], [6.413432139442913, 44.96867497621073], [6.41289315027244, 44.96867497621073], [6.412893150272441, 44.96910137046132], [6.41290077106222, 44.96909972874853], [6.4129293141723664, 44.96911400030353], [6.412950721505059, 44.96912470396973], [6.412968560948718, 44.969142543413525], [6.412993536169941, 44.96914967919108], [6.413011375613723, 44.969156814968564], [6.413039918723683, 44.969163950746065], [6.41303635083491, 44.96919962963362], [6.413004239836213, 44.96920676541112], [6.41294358572736, 44.96924601218736], [6.412907906839936, 44.96927455529738], [6.41289315027244, 44.969283636262006], [6.41289315027244, 44.969376268927185], [6.412922178394803, 44.96941013507003], [6.412954289393661, 44.96944224606873], [6.412975696726254, 44.96949219651128], [6.412964993059855, 44.969588529507654], [6.412972128837455, 44.969652751505144], [6.413043486612432, 44.969734812946456], [6.413047054501286, 44.96976692394526], [6.413047054501212, 44.96983114594285], [6.413047054501189, 44.96988466427409], [6.413054190278769, 44.969923911050394], [6.413086301277483, 44.96998099727043], [6.413105143034984, 44.9700224491369], [6.413162644857676, 44.970022449136906], [6.413162644857675, 44.970172931207074], [6.413189770051373, 44.97022718159439], [6.413232114519479, 44.97029194372213], [6.413432139442913, 44.97029194372213], [6.413432139442913, 44.970558203214374], [6.4134349701492654, 44.97056143830737], [6.413701634028149, 44.97056143830737], [6.413701634028147, 44.97094825996106], [6.4137285212530095, 44.97101211711994], [6.413785607473017, 44.97107633911753], [6.4138141505830175, 44.971097746449985], [6.413816831610874, 44.97110042747784], [6.413971128613385, 44.97110042747785], [6.413971128613383, 44.97127159168852], [6.413999680798129, 44.97129754822016], [6.4140817422395555, 44.971354634440225], [6.414101199214061, 44.97136992206308], [6.414510117783856, 44.971369922063076], [6.414510117783856, 44.9714964334597], [6.4145348641111575, 44.97149734999034], [6.4146026539973064, 44.97152589310037], [6.4146668759949375, 44.97154730043289], [6.414748937436201, 44.97156157198788], [6.414809591545005, 44.97159725087544], [6.414891652986428, 44.971597250875405], [6.414937062280353, 44.97163941664833], [6.415049106954328, 44.971639416648316], [6.415049106954328, 44.97170336928864], [6.415070047424111, 44.971711423315476], [6.415141405199016, 44.971732830648065], [6.415216330862859, 44.97180775631183], [6.415466083075646, 44.97190052141937], [6.415489218623802, 44.97190891123354], [6.415857590710035, 44.97190891123354], [6.415857590710035, 44.97203417359529], [6.4158656866159, 44.972036101191925], [6.415901365503492, 44.97205750852449], [6.4159263407245835, 44.97205394063573], [6.415962019612287, 44.97205394063581], [6.415983426944705, 44.97206464430202], [6.416033377387341, 44.972068212190784], [6.416115438828588, 44.97206642824637], [6.416197500269885, 44.972052156691376], [6.416265290156248, 44.97204502091386], [6.416297401155024, 44.97201290991511], [6.416343783708913, 44.97197723102754], [6.416390166262453, 44.97193084847386], [6.416396579880508, 44.971918555705926], [6.416396579880508, 44.97157618078435]]], &quot;type&quot;: &quot;Polygon&quot;}, &quot;id&quot;: &quot;2037&quot;, &quot;properties&quot;: {&quot;lake_id&quot;: 157.0, &quot;source&quot;: &quot;water&quot;, &quot;value&quot;: 2, &quot;year&quot;: 2024}, &quot;type&quot;: &quot;Feature&quot;}, {&quot;bbox&quot;: [6.410737193590553, 44.96867514998687, 6.414510117783856, 44.97271739498926], &quot;geometry&quot;: {&quot;coordinates&quot;: [[[6.414510117783856, 44.972717394989246], [6.4145101177838555, 44.97238943662553], [6.414474210002262, 44.97237148273475], [6.414420691670972, 44.972328668069714], [6.4143743091171865, 44.97226801396093], [6.414317222897144, 44.97219308829711], [6.414309881657982, 44.97217840581879], [6.413971128613383, 44.97217840581879], [6.413971128613383, 44.971675830311085], [6.413939795926823, 44.97163941664831], [6.413701634028149, 44.971639416648316], [6.413701634028149, 44.97140331021375], [6.4136515518021255, 44.97136992206308], [6.413162644857676, 44.971369922063076], [6.413162644857676, 44.97110042747784], [6.412893150272441, 44.97110042747784], [6.412893150272441, 44.97070304463753], [6.412779462844716, 44.97059110624716], [6.412756244457063, 44.970561438307385], [6.412623655687204, 44.97056143830737], [6.412623655687204, 44.97038348295245], [6.412566074558455, 44.97029194372212], [6.41235416110197, 44.97029194372213], [6.41235416110197, 44.97002598960591], [6.412350502617338, 44.9700224491369], [6.4120846665167335, 44.9700224491369], [6.412084666516734, 44.969626361933734], [6.411979966065438, 44.96948345996642], [6.411815171931496, 44.969483459966426], [6.411815171931497, 44.96927139864255], [6.411768181081285, 44.969213965381186], [6.411545677346259, 44.969213965381186], [6.411545677346262, 44.96895855428187], [6.411398689897402, 44.96884284075828], [6.411284517457315, 44.96875364353945], [6.411163209239721, 44.968703693096955], [6.41109541935342, 44.968678717875676], [6.411006222134603, 44.968678717875676], [6.410931296470794, 44.96867514998687], [6.410906321249525, 44.968678717875676], [6.410845667140729, 44.96870369309694], [6.4107992845869415, 44.96873223620694], [6.4107371935905535, 44.9687773932952], [6.410737193590553, 44.969483459966426], [6.411006688175791, 44.969483459966426], [6.41100668817579, 44.97016681876129], [6.411091851464667, 44.97022004581684], [6.411113258797182, 44.970241453149335], [6.411134666129698, 44.970291403591865], [6.411137006694208, 44.97029194372213], [6.4118151719314955, 44.97029194372212], [6.411815171931497, 44.97080739056729], [6.411869651212765, 44.97087653734734], [6.41190176221154, 44.97096573456614], [6.4119374410990675, 44.97104779600746], [6.411977688694056, 44.97110042747785], [6.4120846665167335, 44.97110042747784], [6.412084666516734, 44.97132024231878], [6.412115835536704, 44.97134393077393], [6.412165961594301, 44.971369922063076], [6.412623655687204, 44.971369922063076], [6.412623655687204, 44.971639416648316], [6.412893150272441, 44.971639416648316], [6.412893150272441, 44.97176033879532], [6.41299710405863, 44.97180775631181], [6.413129115942484, 44.971857706754385], [6.413146955386245, 44.97187554619813], [6.413176149792246, 44.971908911233555], [6.413701634028149, 44.971908911233555], [6.413701634028149, 44.97230926028035], [6.413771335917973, 44.97236077906849], [6.413828422138021, 44.972396457955995], [6.413878372580552, 44.97242856895479], [6.413900925937996, 44.97244790040403], [6.414240623198619, 44.97244790040403], [6.414240623198619, 44.97271739498926], [6.414510117783856, 44.972717394989246]]], &quot;type&quot;: &quot;Polygon&quot;}, &quot;id&quot;: &quot;2038&quot;, &quot;properties&quot;: {&quot;lake_id&quot;: 156.0, &quot;source&quot;: &quot;water&quot;, &quot;value&quot;: 2, &quot;year&quot;: 2024}, &quot;type&quot;: &quot;Feature&quot;}, {&quot;bbox&quot;: [6.779675280778441, 45.333031655449595, 6.784256688727451, 45.3368045796429], &quot;geometry&quot;: {&quot;coordinates&quot;: [[[6.781831237460327, 45.3368045796429], [6.781831237460329, 45.336535085057676], [6.781561742875092, 45.336535085057676], [6.781561742875093, 45.33572660130194], [6.781831237460329, 45.33572660130196], [6.781831237460329, 45.33545710671672], [6.782271467270874, 45.33545710671672], [6.782268405406812, 45.33544945205656], [6.782248899803788, 45.33542344458587], [6.782229394200766, 45.33535192404143], [6.782281409142159, 45.335306410967696], [6.782346427818903, 45.33526739976171], [6.7823702266308, 45.33525698778149], [6.782370226630799, 45.334918117546245], [6.782639721216037, 45.334918117546245], [6.782639721216035, 45.33464862296102], [6.783178710386508, 45.33464862296102], [6.783178710386507, 45.33437912837579], [6.783411747357529, 45.33437912837579], [6.783419235985165, 45.334370142022614], [6.783448204971743, 45.33434574708655], [6.783448204971743, 45.33410963379055], [6.78371769955698, 45.334109633790526], [6.783717699556979, 45.333840139205314], [6.783881642021364, 45.333840139205314], [6.783900374193066, 45.33375896646125], [6.783952389134459, 45.33370695151985], [6.783987194142215, 45.33370405110253], [6.783987194142215, 45.33357064462009], [6.784256688727451, 45.333570644620075], [6.784256688727451, 45.333031655449595], [6.783717699556979, 45.333031655449595], [6.783717699556979, 45.33330115003485], [6.783297255699305, 45.33330115003483], [6.783211176219589, 45.33332984319472], [6.783178710386508, 45.33333602716293], [6.783178710386509, 45.333570644620075], [6.782670514476655, 45.333570644620075], [6.782639721216036, 45.33357775075713], [6.782639721216036, 45.333840139205314], [6.780856025557375, 45.333840139205314], [6.780792481444744, 45.33388250194709], [6.7807532591193835, 45.33391553127368], [6.780753259119384, 45.33437912837577], [6.780483764534149, 45.33437912837577], [6.780483764534149, 45.33518761213149], [6.780753259119384, 45.33518761213149], [6.780753259119385, 45.33545710671672], [6.780522462897859, 45.3354571067167], [6.780525904870094, 45.33555348193937], [6.780483764534148, 45.33558412945641], [6.78048376453415, 45.33599609588718], [6.779944775363678, 45.33599609588718], [6.7799447753636795, 45.33626559047244], [6.779675280778442, 45.33626559047243], [6.779675280778441, 45.33649677540427], [6.779680662072434, 45.336502754619815], [6.779716584781161, 45.33653508505767], [6.780214269948914, 45.33653508505767], [6.780214269948913, 45.33680071035021], [6.780230520978176, 45.3368045796429], [6.781831237460327, 45.3368045796429]]], &quot;type&quot;: &quot;Polygon&quot;}, &quot;id&quot;: &quot;2039&quot;, &quot;properties&quot;: {&quot;lake_id&quot;: 275.0, &quot;source&quot;: &quot;water&quot;, &quot;value&quot;: 2, &quot;year&quot;: 2024}, &quot;type&quot;: &quot;Feature&quot;}, {&quot;bbox&quot;: [6.2673660742450785, 44.98915656468864, 6.268598885103239, 44.98969555385913], &quot;geometry&quot;: {&quot;coordinates&quot;: [[[6.2675292352017635, 44.98915656468865], [6.267420623916688, 44.989234312959894], [6.2673660742450785, 44.98924902182876], [6.2673660742450785, 44.98969555385913], [6.267747797063871, 44.989695553859114], [6.267708895135599, 44.989597760938665], [6.267831761242407, 44.989585664660595], [6.267990441599917, 44.98957251582999], [6.2681381968577226, 44.989508771602516], [6.268300197078186, 44.98948421004422], [6.2684431244122285, 44.989474352191046], [6.268494879954336, 44.98940494279188], [6.268598885103239, 44.98927459543165], [6.26859199611879, 44.98915656468864], [6.2675292352017635, 44.98915656468865]]], &quot;type&quot;: &quot;Polygon&quot;}, &quot;id&quot;: &quot;2040&quot;, &quot;properties&quot;: {&quot;lake_id&quot;: 21.0, &quot;source&quot;: &quot;water&quot;, &quot;value&quot;: 2, &quot;year&quot;: 2024}, &quot;type&quot;: &quot;Feature&quot;}, {&quot;bbox&quot;: [6.123994954899602, 45.10584772009579, 6.124264449484838, 45.10638670926626], &quot;geometry&quot;: {&quot;coordinates&quot;: [[[6.124264449484838, 45.10638670926624], [6.124264449484838, 45.10584772009579], [6.123994954899602, 45.10584772009579], [6.1239949548996035, 45.10638670926626], [6.124264449484838, 45.10638670926624]]], &quot;type&quot;: &quot;Polygon&quot;}, &quot;id&quot;: &quot;2041&quot;, &quot;properties&quot;: {&quot;lake_id&quot;: 1998.0, &quot;source&quot;: &quot;water&quot;, &quot;value&quot;: 2, &quot;year&quot;: 2024}, &quot;type&quot;: &quot;Feature&quot;}, {&quot;bbox&quot;: [6.1274983845076685, 45.114741041408564, 6.1288458574338485, 45.11581901974949], &quot;geometry&quot;: {&quot;coordinates&quot;: [[[6.128576362848612, 45.11581901974949], [6.128576362848611, 45.11554952516427], [6.1288458574338485, 45.11554952516426], [6.1288458574338485, 45.114741041408564], [6.1274983845076685, 45.114741041408564], [6.127498384507669, 45.11528454405357], [6.127552356620513, 45.11532220056433], [6.127636091703783, 45.11537158909431], [6.127692456110914, 45.11542594058334], [6.127736833501736, 45.11547783175902], [6.127775677620581, 45.11554952516427], [6.12803737367814, 45.11554952516427], [6.128037373678141, 45.11581901974949], [6.128576362848612, 45.11581901974949]]], &quot;type&quot;: &quot;Polygon&quot;}, &quot;id&quot;: &quot;2042&quot;, &quot;properties&quot;: {&quot;lake_id&quot;: 17.0, &quot;source&quot;: &quot;water&quot;, &quot;value&quot;: 2, &quot;year&quot;: 2024}, &quot;type&quot;: &quot;Feature&quot;}, {&quot;bbox&quot;: [6.117527084853942, 45.12066992228374, 6.1202220307063016, 45.12415401597817], &quot;geometry&quot;: {&quot;coordinates&quot;: [[[6.119144052365357, 45.12390385730656], [6.1193978647117, 45.12390385730657], [6.119403120359297, 45.12388633848101], [6.119413546950593, 45.12384880275251], [6.119413546950594, 45.12363436272134], [6.119612281454133, 45.12363436272134], [6.119660008349613, 45.123586635825866], [6.119683041535829, 45.12356537442324], [6.119683041535829, 45.123364868136086], [6.119929095605762, 45.123364868136086], [6.11993830367232, 45.12335829094571], [6.119952536121066, 45.123347221263344], [6.119952536121066, 45.122825878965614], [6.120190930940478, 45.12282587896564], [6.120195191662426, 45.12280883607774], [6.120209463217573, 45.12277315719022], [6.1202220307063016, 45.12274048171945], [6.1202220307063016, 45.12228688979515], [6.119683041535829, 45.12228688979515], [6.119683041535829, 45.12201739520993], [6.119144052365359, 45.12201739520993], [6.119144052365359, 45.12180490998745], [6.119124825036595, 45.12180269144956], [6.119124825036587, 45.12178128411696], [6.119144052365359, 45.12169796569244], [6.119144052365359, 45.12120891145421], [6.118874557780122, 45.12120891145421], [6.118874557780121, 45.12066992228374], [6.117527084853942, 45.12066992228374], [6.117527084853942, 45.12147840603946], [6.117796579439178, 45.12147840603946], [6.117796579439177, 45.121621147655915], [6.117818977753164, 45.12163856856683], [6.117826113530644, 45.12169565478688], [6.117796579439179, 45.12176456766695], [6.117796579439178, 45.12181547653221], [6.117797570420693, 45.121816963004484], [6.117796579439176, 45.1218178714042], [6.117796579439179, 45.122498519845614], [6.117797570420633, 45.12249842975639], [6.117836817196934, 45.12253054075505], [6.117860672851035, 45.12255638438039], [6.118066074024414, 45.1225563843804], [6.118066074024414, 45.122825878965614], [6.118335568609651, 45.122825878965614], [6.118335568609651, 45.12379964416733], [6.118368432621108, 45.123814980706015], [6.118432654618689, 45.12386493114852], [6.118458605390691, 45.12390385730656], [6.118874557780121, 45.12390385730656], [6.118874557780121, 45.12415401597817], [6.1189392948215025, 45.12414322647131], [6.119032059929076, 45.12414322647125], [6.119096281926581, 45.124143226471254], [6.119144052365359, 45.12414690112041], [6.119144052365357, 45.12390385730656]]], &quot;type&quot;: &quot;Polygon&quot;}, &quot;id&quot;: &quot;2043&quot;, &quot;properties&quot;: {&quot;lake_id&quot;: 48.0, &quot;source&quot;: &quot;water&quot;, &quot;value&quot;: 2, &quot;year&quot;: 2024}, &quot;type&quot;: &quot;Feature&quot;}, {&quot;bbox&quot;: [6.119446579815481, 45.12498183564751, 6.119952536121066, 45.12552082481799], &quot;geometry&quot;: {&quot;coordinates&quot;: [[[6.119952536121065, 45.12552082481799], [6.119952536121066, 45.12508938395082], [6.11994655862729, 45.12507611331307], [6.119893099720305, 45.12503845630698], [6.119783952936317, 45.124993967748594], [6.119743607160229, 45.12498183564751], [6.119683041535829, 45.12498183564753], [6.119683041535829, 45.12525133023275], [6.119446579815481, 45.12525133023276], [6.119529101899654, 45.12531152746317], [6.119558536457911, 45.12541417985108], [6.119610970300085, 45.12552082481799], [6.119952536121065, 45.12552082481799]]], &quot;type&quot;: &quot;Polygon&quot;}, &quot;id&quot;: &quot;2044&quot;, &quot;properties&quot;: {&quot;lake_id&quot;: 46.0, &quot;source&quot;: &quot;water&quot;, &quot;value&quot;: 2, &quot;year&quot;: 2024}, &quot;type&quot;: &quot;Feature&quot;}, {&quot;bbox&quot;: [6.120222030706301, 45.126329308573695, 6.1213000090472445, 45.12740728691464], &quot;geometry&quot;: {&quot;coordinates&quot;: [[[6.121167117200539, 45.12740728691464], [6.121163876392914, 45.12734927695504], [6.121216290912243, 45.127297469793035], [6.121300009047244, 45.1272673491162], [6.1213000090472445, 45.126547299743685], [6.121275322789034, 45.12651555089285], [6.121197727223442, 45.126470180236396], [6.121110995073234, 45.126402692096924], [6.12104376783689, 45.12632930857371], [6.1202220307063016, 45.126329308573695], [6.120222030706301, 45.12686829774418], [6.120491525291537, 45.12686829774418], [6.120491525291538, 45.1271377923294], [6.120761019876771, 45.1271377923294], [6.120761019876771, 45.12740728691464], [6.121167117200539, 45.12740728691464]]], &quot;type&quot;: &quot;Polygon&quot;}, &quot;id&quot;: &quot;2045&quot;, &quot;properties&quot;: {&quot;lake_id&quot;: 45.0, &quot;source&quot;: &quot;water&quot;, &quot;value&quot;: 2, &quot;year&quot;: 2024}, &quot;type&quot;: &quot;Feature&quot;}, {&quot;bbox&quot;: [6.162802175173566, 45.1420736513982, 6.169000550633991, 45.144513393438274], &quot;geometry&quot;: {&quot;coordinates&quot;: [[[6.168731056048755, 45.1443854457845], [6.168927419664584, 45.1443854457845], [6.1689985579667965, 45.14432142131246], [6.16900055063399, 45.144314114866084], [6.169000550633991, 45.14384645661404], [6.168731056048755, 45.14384645661404], [6.168731056048755, 45.14365570711426], [6.1686631764240385, 45.143614979339425], [6.168628417740028, 45.14357696202878], [6.168192066878284, 45.14357696202879], [6.168192066878283, 45.14327185610149], [6.168156536221149, 45.14325819046414], [6.1679781417835144, 45.14314401802406], [6.167735752833261, 45.1430379728583], [6.167383583122576, 45.1430379728583], [6.167383583122576, 45.14289227764381], [6.167300242920491, 45.14285858692381], [6.167079033817823, 45.1427729575938], [6.16687923204767, 45.142665920931236], [6.166586665169944, 45.1425731558236], [6.166407977751943, 45.14249898368786], [6.166305604781632, 45.14249898368786], [6.166305604781632, 45.142456489247365], [6.166208468962153, 45.14241616871852], [6.165730102446409, 45.14222948910261], [6.165497121025924, 45.142229489102604], [6.165497121025924, 45.14214966606275], [6.165316496773969, 45.14209505873075], [6.165180917001364, 45.1420736513982], [6.1650667445612815, 45.142073651398235], [6.16499538678622, 45.142087922953245], [6.1649097574561535, 45.14210933028576], [6.164752770351038, 45.14210933028578], [6.164688637270217, 45.142112705711064], [6.164688637270217, 45.14222948910261], [6.164406876708805, 45.14222948910261], [6.164395981475762, 45.14229486050086], [6.1643174879232046, 45.14232340361097], [6.164260401703159, 45.14234481094343], [6.1640391926004865, 45.142337675165926], [6.163982106380445, 45.14230913205594], [6.163849368124981, 45.14222948910261], [6.163610658929274, 45.142229489102604], [6.163610658929274, 45.14249898368786], [6.163344861474076, 45.14249898368786], [6.163341164344039, 45.142506377947925], [6.163341164344039, 45.1427684782731], [6.163124135846409, 45.142768478273084], [6.163068726859744, 45.14283004381381], [6.163025912194713, 45.14289426581138], [6.162975961752174, 45.14294421625391], [6.162947418642152, 45.14297989514143], [6.162911739754627, 45.14303698136153], [6.162802175173566, 45.143101431115056], [6.162802175173567, 45.14330746744357], [6.163071669758802, 45.14330746744357], [6.163071669758802, 45.14384645661404], [6.163341164344039, 45.14384645661404], [6.16334116434404, 45.14411595119926], [6.1638801535145085, 45.14411595119926], [6.1638801535145085, 45.14433100100483], [6.16397497060294, 45.144349964422496], [6.164067222144117, 45.1443854457845], [6.165745433526447, 45.14438544578449], [6.16576661561116, 45.144380150263316], [6.165766615611162, 45.14411595119926], [6.166844593952104, 45.144115951199254], [6.166844593952103, 45.144327328446636], [6.166886367825172, 45.14432855708996], [6.167029083375283, 45.14432855708996], [6.167207477812921, 45.14432855708999], [6.16728807013019, 45.1443854457845], [6.168192066878283, 45.14438544578449], [6.168192066878283, 45.144513393438274], [6.168356337991303, 45.14447127264008], [6.168427695766354, 45.14446413686259], [6.168606090203996, 45.14447840841759], [6.168731056048756, 45.14447297511998], [6.168731056048755, 45.1443854457845]]], &quot;type&quot;: &quot;Polygon&quot;}, &quot;id&quot;: &quot;2046&quot;, &quot;properties&quot;: {&quot;lake_id&quot;: 367.0, &quot;source&quot;: &quot;water&quot;, &quot;value&quot;: 2, &quot;year&quot;: 2024}, &quot;type&quot;: &quot;Feature&quot;}, {&quot;bbox&quot;: [6.117992151174595, 45.13926504866501, 6.120491525291538, 45.14303797285832], &quot;geometry&quot;: {&quot;coordinates&quot;: [[[6.119683041535829, 45.1430379728583], [6.119683041535831, 45.142768478273084], [6.120102799133052, 45.1427684782731], [6.120149255094763, 45.14272434510947], [6.120213477092313, 45.14265655522315], [6.1202220307063016, 45.1426512914607], [6.1202220307063016, 45.141959994517364], [6.120491525291538, 45.14195999451738], [6.120491525291537, 45.141151510761674], [6.119952536121065, 45.141151510761674], [6.119952536121067, 45.14088201617644], [6.119683041535829, 45.14088201617643], [6.119683041535828, 45.14007353242072], [6.119413546950593, 45.14007353242074], [6.119413546950593, 45.13980403783549], [6.119144052365357, 45.13980403783549], [6.119144052365357, 45.13953454325025], [6.118874557780121, 45.13953454325025], [6.118874557780122, 45.13932057923934], [6.118861247255023, 45.13932057923934], [6.118822000478747, 45.139292036129326], [6.118761346369948, 45.13927419668552], [6.118691211546076, 45.13926504866501], [6.118117360985663, 45.13926504866501], [6.117992151174595, 45.139475639863676], [6.118030965888896, 45.13994574574519], [6.1180517849868785, 45.14018611357817], [6.118147713234531, 45.14112046710886], [6.118144846025471, 45.141274075643345], [6.1181382596639375, 45.14169049993213], [6.11833556860965, 45.14169049993213], [6.118335568609651, 45.141959994517364], [6.118133997211394, 45.141959994517364], [6.118133310713573, 45.14200339850679], [6.118075033510467, 45.14222948910261], [6.11833556860965, 45.14222948910261], [6.11833556860965, 45.14272882998789], [6.1184379933463475, 45.142768478273084], [6.1186050631948845, 45.1427684782731], [6.1186050631948845, 45.14302785029682], [6.118635430879399, 45.14303797285832], [6.119683041535829, 45.1430379728583]]], &quot;type&quot;: &quot;Polygon&quot;}, &quot;id&quot;: &quot;2047&quot;, &quot;properties&quot;: {&quot;lake_id&quot;: 37.0, &quot;source&quot;: &quot;water&quot;, &quot;value&quot;: 2, &quot;year&quot;: 2024}, &quot;type&quot;: &quot;Feature&quot;}, {&quot;bbox&quot;: [6.12803737367814, 45.145463424125445, 6.128306868263376, 45.1457329187107], &quot;geometry&quot;: {&quot;coordinates&quot;: [[[6.128306868263376, 45.1457329187107], [6.128306868263376, 45.145463424125445], [6.128037373678141, 45.145463424125445], [6.12803737367814, 45.14573207532804], [6.128059264459585, 45.14573207532804], [6.1280617946074925, 45.14573291871069], [6.128306868263376, 45.1457329187107]]], &quot;type&quot;: &quot;Polygon&quot;}, &quot;id&quot;: &quot;2048&quot;, &quot;properties&quot;: {&quot;lake_id&quot;: 378.0, &quot;source&quot;: &quot;water&quot;, &quot;value&quot;: 2, &quot;year&quot;: 2024}, &quot;type&quot;: &quot;Feature&quot;}, {&quot;bbox&quot;: [6.1288458574338485, 45.14815836997779, 6.132349287041915, 45.15300927251206], &quot;geometry&quot;: {&quot;coordinates&quot;: [[[6.131540803286207, 45.15300927251206], [6.131540803286207, 45.152739777926804], [6.131810297871443, 45.152739777926804], [6.131810297871444, 45.15247028334159], [6.132079792456678, 45.15247028334158], [6.132079792456679, 45.15166179958589], [6.132349287041915, 45.15166179958589], [6.132349287041915, 45.15031432665969], [6.132079792456678, 45.15031432665969], [6.132079792456678, 45.149695792545934], [6.132041991600274, 45.14961898156159], [6.131898378985102, 45.149401282699664], [6.131761575540936, 45.14930498731993], [6.131725790323605, 45.14919506229999], [6.1315986109308485, 45.149111936256595], [6.131439269615556, 45.14894860932879], [6.1311146687396, 45.14879831196996], [6.131026498868232, 45.14869735914827], [6.131001814115736, 45.14869735914827], [6.131001814115736, 45.14866909557728], [6.130966854481872, 45.148629067463055], [6.1308288114263405, 45.148493108663814], [6.13073445466125, 45.148431433768], [6.130725879469594, 45.14842786456303], [6.130462824945262, 45.14842786456303], [6.130462824945264, 45.14831642081403], [6.130386183155067, 45.14828179891208], [6.130296712209306, 45.14823676661564], [6.130214269266291, 45.148204622233706], [6.130185726156307, 45.14819035067864], [6.130117936269964, 45.14816537545735], [6.130096919831285, 45.14815836997779], [6.129654341189555, 45.14815836997779], [6.129654341189556, 45.14842786456304], [6.129384846604321, 45.14842786456303], [6.129384846604319, 45.14977533748921], [6.128976065522745, 45.14977533748921], [6.128965508202822, 45.14979946850621], [6.1288477678739595, 45.149935048278756], [6.1288458574338485, 45.1499351515458], [6.1288458574338485, 45.15017932216261], [6.128862039428907, 45.15019550415771], [6.128936965092656, 45.1502097757127], [6.129001187090311, 45.150231183045264], [6.128990483424143, 45.15030610870906], [6.128978613050999, 45.15031432665969], [6.129115352019083, 45.150314326659704], [6.129115352019083, 45.150583821244936], [6.129384846604319, 45.150583821244915], [6.129384846604319, 45.15085331583017], [6.129654341189555, 45.15085331583017], [6.129654341189555, 45.1511228104154], [6.129923835774791, 45.1511228104154], [6.129923835774791, 45.15166179958589], [6.129654341189554, 45.15166179958589], [6.129654341189556, 45.15193129417109], [6.129923835774791, 45.15193129417109], [6.129923835774791, 45.15220078875633], [6.130193330360028, 45.152200788756325], [6.130193330360028, 45.152470283341586], [6.130732319530499, 45.15247028334159], [6.1307323195305, 45.15289353444989], [6.130802970910446, 45.15296418582982], [6.130842421757456, 45.15300927251206], [6.131540803286207, 45.15300927251206]]], &quot;type&quot;: &quot;Polygon&quot;}, &quot;id&quot;: &quot;2049&quot;, &quot;properties&quot;: {&quot;lake_id&quot;: 377.0, &quot;source&quot;: &quot;water&quot;, &quot;value&quot;: 2, &quot;year&quot;: 2024}, &quot;type&quot;: &quot;Feature&quot;}, {&quot;bbox&quot;: [6.135313727479509, 45.163519561336244, 6.13585271664998, 45.16405855050672], &quot;geometry&quot;: {&quot;coordinates&quot;: [[[6.13585271664998, 45.16405855050672], [6.13585271664998, 45.16366928772372], [6.1358475196207145, 45.16365759440787], [6.135843951731965, 45.163614779742886], [6.1358403838432105, 45.16359694029912], [6.135801137066931, 45.16354342196784], [6.135797569178178, 45.163522014635305], [6.135794706995936, 45.163519561336244], [6.135313727479509, 45.16351956133626], [6.13531372747951, 45.163903969982286], [6.135358718861592, 45.163946593396886], [6.135365854639097, 45.163982272284414], [6.135365854639094, 45.164017951171964], [6.135380126194108, 45.16405006217071], [6.135380126194109, 45.16405855050672], [6.13585271664998, 45.16405855050672]]], &quot;type&quot;: &quot;Polygon&quot;}, &quot;id&quot;: &quot;2050&quot;, &quot;properties&quot;: {&quot;lake_id&quot;: 369.0, &quot;source&quot;: &quot;water&quot;, &quot;value&quot;: 2, &quot;year&quot;: 2024}, &quot;type&quot;: &quot;Feature&quot;}, {&quot;bbox&quot;: [6.1676530777078105, 45.16405855050672, 6.17223448565682, 45.16702299094431], &quot;geometry&quot;: {&quot;coordinates&quot;: [[[6.171560321036799, 45.16702299094431], [6.171562752379092, 45.166982994408734], [6.171596056054434, 45.16694289312187], [6.17157110410673, 45.16692122847023], [6.171573623636688, 45.166895986089195], [6.171666293154413, 45.16685699382224], [6.1716954964863495, 45.166860946846505], [6.1716954964863495, 45.16675349635908], [6.17223448565682, 45.16675349635908], [6.17223448565682, 45.166467910054564], [6.172040980432491, 45.16635411284795], [6.171821808017228, 45.16625406787377], [6.1717772793869425, 45.166235756615606], [6.171765438064507, 45.166236093273525], [6.171717438251747, 45.16622627093141], [6.17170339722186, 45.166214507188606], [6.171156507315879, 45.16621450718862], [6.171156507315879, 45.16596857770878], [6.171147957014859, 45.16594501260337], [6.170617518145405, 45.16594501260337], [6.170617518145405, 45.16567641730255], [6.170576885819412, 45.16563501642519], [6.170439497169279, 45.16551306731471], [6.170387692726754, 45.16543623060259], [6.170371527554013, 45.165406023432894], [6.170348023560169, 45.165406023432894], [6.1703480235601695, 45.165362102520845], [6.170290392791909, 45.16525441035913], [6.170255694364419, 45.165136528847654], [6.170078528974934, 45.165136528847654], [6.170078528974935, 45.164867034262414], [6.169809034389698, 45.164867034262436], [6.169809034389698, 45.16452530290886], [6.169798102039542, 45.16452166782195], [6.169744555605072, 45.16441411616792], [6.169801382404023, 45.16437055031028], [6.169794946393358, 45.16432804509197], [6.169539539804464, 45.164328045091935], [6.169539539804464, 45.164135221714844], [6.169409141705687, 45.16407684948103], [6.16936910741619, 45.16405855050672], [6.168641353252562, 45.16405855050672], [6.168562748841661, 45.16407012865288], [6.168398402595556, 45.1640999671662], [6.168237844689152, 45.16412690109965], [6.168058343996741, 45.164168356464614], [6.168113774144377, 45.16423949765723], [6.168143621205433, 45.16427780444231], [6.16804115825468, 45.16428351100493], [6.168005635460932, 45.164284519785475], [6.167957493494834, 45.164341821781804], [6.167858343661021, 45.16433624711443], [6.167701559748952, 45.16429035775673], [6.1676530777078105, 45.16428909996344], [6.167653077707811, 45.16447735640757], [6.167744700692715, 45.164493295019746], [6.167812447046667, 45.16457247687067], [6.167912476708527, 45.164597539677196], [6.168731056048755, 45.164597539677196], [6.168731056048755, 45.16532236031887], [6.168756101963209, 45.16531757843831], [6.168843412481854, 45.16532348865734], [6.169060901133531, 45.165406023432894], [6.169270045219227, 45.165406023432894], [6.169270045219227, 45.165548698730454], [6.169332275053533, 45.165578089111634], [6.169429857885442, 45.16562565825549], [6.169498063603675, 45.16567551801815], [6.169809034389696, 45.16567551801815], [6.169809034389698, 45.16590907543895], [6.169881791515087, 45.165926053573635], [6.169932961553869, 45.165991721558385], [6.169999761562623, 45.16605414865246], [6.170054720413205, 45.16611691218396], [6.1700883583648825, 45.166152314064185], [6.170111264886742, 45.166207598115115], [6.17011556191521, 45.166214507188606], [6.17034802356017, 45.166214507188606], [6.1703480235601695, 45.166484075376744], [6.170360793339231, 45.16649416584253], [6.170571152799817, 45.16671752105712], [6.1705564411827565, 45.16675349635908], [6.170617518145405, 45.16675349635908], [6.170617518145403, 45.16681827342181], [6.17079983996406, 45.16698510302196], [6.170875687281012, 45.16702299094431], [6.171560321036799, 45.16702299094431]]], &quot;type&quot;: &quot;Polygon&quot;}, &quot;id&quot;: &quot;2051&quot;, &quot;properties&quot;: {&quot;lake_id&quot;: 363.0, &quot;source&quot;: &quot;water&quot;, &quot;value&quot;: 2, &quot;year&quot;: 2024}, &quot;type&quot;: &quot;Feature&quot;}, {&quot;bbox&quot;: [6.168192066878283, 45.169717936796644, 6.168731056048755, 45.16998743138191], &quot;geometry&quot;: {&quot;coordinates&quot;: [[[6.168731056048755, 45.16998743138191], [6.168731056048755, 45.16994645801164], [6.168712681393944, 45.16993727072844], [6.168687706145612, 45.1699337028741], [6.1686627308677915, 45.16991943135336], [6.168666298670552, 45.16988732034943], [6.1687019775532175, 45.169876616633886], [6.168723384861193, 45.16986234504924], [6.168701977445101, 45.169837369857234], [6.168691273712486, 45.16981596253932], [6.168648458929454, 45.16978385159926], [6.168616347820059, 45.16975174064447], [6.168591558196616, 45.169717936796644], [6.168192066878284, 45.169717936796644], [6.168192066878283, 45.16981512559316], [6.168248855270623, 45.16984093837059], [6.1683344847482395, 45.16987304925165], [6.1683987068982224, 45.16991229593978], [6.168430818017446, 45.169947974783334], [6.168448657571805, 45.16998365364659], [6.168449077330931, 45.16998743138191], [6.168731056048755, 45.16998743138191]]], &quot;type&quot;: &quot;Polygon&quot;}, &quot;id&quot;: &quot;2052&quot;, &quot;properties&quot;: {&quot;lake_id&quot;: 13.0, &quot;source&quot;: &quot;water&quot;, &quot;value&quot;: 2, &quot;year&quot;: 2024}, &quot;type&quot;: &quot;Feature&quot;}, {&quot;bbox&quot;: [6.167152447359207, 45.16998743138191, 6.1676530777078105, 45.17025692596713], &quot;geometry&quot;: {&quot;coordinates&quot;: [[[6.1676530777078105, 45.17025692596713], [6.1676530777078105, 45.16998743138191], [6.167152549543513, 45.16998743138191], [6.167152447359207, 45.169987533566534], [6.167152447372722, 45.169994669344], [6.167159583189938, 45.1700160766697], [6.167159583230487, 45.17003748400217], [6.167163151166128, 45.170062459220055], [6.167184558604254, 45.1701195454197], [6.167191694448502, 45.17015522430043], [6.167216669720895, 45.170183767386746], [6.167241644986531, 45.17020874258428], [6.167270188181051, 45.17025512511095], [6.167272189137659, 45.17025692596713], [6.1676530777078105, 45.17025692596713]]], &quot;type&quot;: &quot;Polygon&quot;}, &quot;id&quot;: &quot;2053&quot;, &quot;properties&quot;: {&quot;lake_id&quot;: 14.0, &quot;source&quot;: &quot;water&quot;, &quot;value&quot;: 2, &quot;year&quot;: 2024}, &quot;type&quot;: &quot;Feature&quot;}, {&quot;bbox&quot;: [6.165497121025924, 45.17060161329659, 6.166305604781632, 45.1713349043081], &quot;geometry&quot;: {&quot;coordinates&quot;: [[[6.166036110196396, 45.17133490430808], [6.166036110196396, 45.17106540972284], [6.166305604781632, 45.17106540972284], [6.166305604781632, 45.17061880169621], [6.166287231187772, 45.17061231691525], [6.166233712867565, 45.17060161329659], [6.1662090536866385, 45.170655131676796], [6.1661529246406745, 45.170675798653456], [6.1660481828393126, 45.170647996014985], [6.1659696893373965, 45.170651563973756], [6.165919738935737, 45.17065869979566], [6.16586622064074, 45.170662267732034], [6.165826486387604, 45.17062545525219], [6.165759183975083, 45.170626588939946], [6.165742634875521, 45.17069220968333], [6.165790360558354, 45.170731387991395], [6.165730610322073, 45.17083679891243], [6.165702752850822, 45.17088050611652], [6.165674692853104, 45.1709206426616], [6.16562220327403, 45.17097577793819], [6.1655404385745785, 45.171049625786445], [6.165509432784705, 45.17112252569532], [6.165505864974198, 45.17116534036318], [6.165497121025924, 45.1711828283396], [6.165497121025924, 45.171234461343104], [6.1655022972335125, 45.17124740180701], [6.165516568831198, 45.171275944904174], [6.165559383542025, 45.17131519164213], [6.1655790962496555, 45.1713349043081], [6.166036110196396, 45.17133490430808]]], &quot;type&quot;: &quot;Polygon&quot;}, &quot;id&quot;: &quot;2054&quot;, &quot;properties&quot;: {&quot;lake_id&quot;: 362.0, &quot;source&quot;: &quot;water&quot;, &quot;value&quot;: 2, &quot;year&quot;: 2024}, &quot;type&quot;: &quot;Feature&quot;}, {&quot;bbox&quot;: [6.135852716649979, 45.164328045091956, 6.136661200405687, 45.165406023432894], &quot;geometry&quot;: {&quot;coordinates&quot;: [[[6.136605147784492, 45.165406023432894], [6.136607479925052, 45.165402292008], [6.136653862478836, 45.165327366344194], [6.136661200405687, 45.16532113602893], [6.136661200405687, 45.164597539677196], [6.136122211235217, 45.164597539677196], [6.136122211235217, 45.16432804509197], [6.135852716649981, 45.164328045091956], [6.135852716649979, 45.16490047251], [6.135915309507016, 45.16493489858135], [6.135908173729513, 45.16496344169144], [6.135904605840761, 45.1650098242452], [6.135861791175726, 45.16505263891027], [6.135852716649979, 45.165050694369], [6.135852716649981, 45.16513652884767], [6.136122211235215, 45.165136528847654], [6.136122211235215, 45.165406023432894], [6.136605147784492, 45.165406023432894]]], &quot;type&quot;: &quot;Polygon&quot;}, &quot;id&quot;: &quot;2055&quot;, &quot;properties&quot;: {&quot;lake_id&quot;: 369.0, &quot;source&quot;: &quot;water&quot;, &quot;value&quot;: 2, &quot;year&quot;: 2024}, &quot;type&quot;: &quot;Feature&quot;}, {&quot;bbox&quot;: [6.323959937144607, 44.9864616188363, 6.328541345093617, 44.98861757551819], &quot;geometry&quot;: {&quot;coordinates&quot;: [[[6.325068584499685, 44.98861757551819], [6.325117893760366, 44.98858566345834], [6.325210658783292, 44.988578527514555], [6.3253141275164815, 44.98858566310659], [6.325396188918177, 44.98858923084822], [6.325453275101565, 44.988589230745944], [6.32553176865497, 44.988603502160025], [6.325571015444354, 44.988614205755724], [6.325584120171191, 44.98861757551819], [6.325927324889086, 44.98861757551819], [6.325977754477208, 44.988607069249255], [6.326031272786878, 44.988610637042086], [6.326052680105643, 44.98861063700352], [6.326077655311059, 44.98861063695889], [6.326113334137672, 44.98859993322869], [6.326156148762597, 44.98859636526315], [6.326184691854479, 44.98859636521199], [6.326223938618322, 44.98859993303045], [6.326238210164402, 44.98859993300487], [6.326298864183558, 44.98858566134118], [6.326385388411731, 44.98854857929407], [6.326385388411731, 44.98834808093294], [6.326795989147311, 44.98834808093294], [6.326830478379231, 44.98833590817798], [6.326905403944455, 44.988321636488934], [6.326924377582202, 44.98832058236299], [6.326924377582204, 44.98807858634771], [6.327463366752675, 44.9880785863477], [6.3274633667526725, 44.98780909176244], [6.3278499449639005, 44.98780909176244], [6.327843756042495, 44.987747204723256], [6.327865163247134, 44.98771509368648], [6.327879434716733, 44.98769368632862], [6.327900841959589, 44.98767227895795], [6.327929385051275, 44.9876722789068], [6.327982903259515, 44.98764730358992], [6.328004310540154, 44.98763659988535], [6.328025717719383, 44.98759735307099], [6.328039989138302, 44.98756167415839], [6.328054260595244, 44.98753669891182], [6.32806853205213, 44.987511723665015], [6.328093507156008, 44.98748318051046], [6.328132753831001, 44.987461773107874], [6.328218382661781, 44.987336896849385], [6.328254061374204, 44.98729408212075], [6.328282604249999, 44.98723342796139], [6.328328986520184, 44.98716207010405], [6.328346825774941, 44.98711211963003], [6.328386072246657, 44.98703362600792], [6.328428886719256, 44.98698724337771], [6.328460997595804, 44.98695870021043], [6.328503812043092, 44.98690518180296], [6.328541345093617, 44.98685156278578], [6.328541345093617, 44.98673111342152], [6.328271850508381, 44.98673111342152], [6.328271850508382, 44.9864616188363], [6.325576904656023, 44.9864616188363], [6.325576904656024, 44.986731113421534], [6.324768420900316, 44.986731113421534], [6.324768420900316, 44.98700060800676], [6.324498926315078, 44.98700060800676], [6.32449892631508, 44.98753959717724], [6.323959937144607, 44.98753959717724], [6.323959937144609, 44.98834808093294], [6.324498926315079, 44.98834808093294], [6.324498926315079, 44.98861757551818], [6.325068584499685, 44.98861757551819]]], &quot;type&quot;: &quot;Polygon&quot;}, &quot;id&quot;: &quot;2056&quot;, &quot;properties&quot;: {&quot;lake_id&quot;: 19.0, &quot;source&quot;: &quot;water&quot;, &quot;value&quot;: 2, &quot;year&quot;: 2024}, &quot;type&quot;: &quot;Feature&quot;}, {&quot;bbox&quot;: [6.621212464659757, 45.25002732319694, 6.621481959244995, 45.25040197199361], &quot;geometry&quot;: {&quot;coordinates&quot;: [[[6.621481959244995, 45.25008364389129], [6.621471052797978, 45.2500826523961], [6.621431806021702, 45.25004697350862], [6.621438941799205, 45.25003270195354], [6.6214432448044915, 45.25002732319694], [6.621212464659757, 45.25002732319694], [6.621212464659757, 45.25040197199361], [6.6212355721403, 45.25040019449509], [6.621274818916579, 45.25039662660636], [6.6213782876904075, 45.25038592294006], [6.621463917020474, 45.25037165138509], [6.621481959244995, 45.25036755087954], [6.621481959244995, 45.25008364389129]]], &quot;type&quot;: &quot;Polygon&quot;}, &quot;id&quot;: &quot;2057&quot;, &quot;properties&quot;: {&quot;lake_id&quot;: 330.0, &quot;source&quot;: &quot;water&quot;, &quot;value&quot;: 2, &quot;year&quot;: 2024}, &quot;type&quot;: &quot;Feature&quot;}, {&quot;bbox&quot;: [6.642063881295628, 45.264041041629234, 6.644524583689982, 45.26565800914063], &quot;geometry&quot;: {&quot;coordinates&quot;: [[[6.643432193014371, 45.26565800914063], [6.6434643380745, 45.26559427913881], [6.6434787986142005, 45.26554360096575], [6.6435079926076375, 45.265446419601886], [6.643553378671352, 45.265415652446784], [6.643580515234334, 45.26541249593309], [6.643580515234334, 45.26538851455539], [6.644388998990042, 45.26538851455539], [6.644388998990041, 45.26511901997015], [6.644524583689982, 45.265119019970165], [6.644260993523658, 45.26491142899557], [6.644168169529172, 45.264849525384925], [6.644119504404804, 45.264849525384925], [6.644119504404805, 45.264817070986396], [6.643764064443318, 45.2645800307997], [6.643580515234335, 45.2645800307997], [6.643580515234335, 45.26448508053062], [6.64322818863904, 45.26431053621445], [6.643041526063863, 45.26431053621445], [6.643041526063863, 45.264231026287554], [6.642818159797813, 45.26413843557535], [6.642528763701496, 45.264041041629234], [6.642259925822176, 45.26404104162925], [6.642233042308154, 45.264046006029915], [6.642233042308154, 45.26431053621445], [6.642116399738179, 45.26431053621445], [6.642153016063074, 45.264386048420185], [6.642128367871437, 45.26446216175811], [6.642063881295628, 45.264472631496744], [6.642108497138204, 45.2645800307997], [6.642233042308154, 45.2645800307997], [6.642233042308154, 45.26483941503478], [6.642243243714897, 45.26484952538494], [6.6425025368933905, 45.264849525384925], [6.642502536893391, 45.26509467765962], [6.64252866637128, 45.265147821796276], [6.642511295051354, 45.26524461744429], [6.6424482641700635, 45.26536800482717], [6.64243244528455, 45.26538851455539], [6.6425025368933905, 45.26538851455539], [6.6425025368933905, 45.26565800914063], [6.643432193014371, 45.26565800914063]]], &quot;type&quot;: &quot;Polygon&quot;}, &quot;id&quot;: &quot;2058&quot;, &quot;properties&quot;: {&quot;lake_id&quot;: 326.0, &quot;source&quot;: &quot;water&quot;, &quot;value&quot;: 2, &quot;year&quot;: 2024}, &quot;type&quot;: &quot;Feature&quot;}, {&quot;bbox&quot;: [6.615283583784568, 45.290240548355136, 6.616092067540277, 45.29099050015281], &quot;geometry&quot;: {&quot;coordinates&quot;: [[[6.616092067540277, 45.29099050015281], [6.616092067540276, 45.290976416226215], [6.616068207866175, 45.29097009443779], [6.61605204102224, 45.29090367591304], [6.616051992606578, 45.290811632955766], [6.616092067540276, 45.29078256877862], [6.616092067540277, 45.29065381608166], [6.616056455371643, 45.29060648034763], [6.616022001874257, 45.29053228566333], [6.615963346852888, 45.29045050612344], [6.615913046303496, 45.29040611089784], [6.6158132585657, 45.29032984560231], [6.615727198049021, 45.29028242311533], [6.615576616312231, 45.290245455077944], [6.6154696068581105, 45.290240548355136], [6.615334920168534, 45.2902658235177], [6.615288414292203, 45.29027987906605], [6.615283583784568, 45.29028022559259], [6.615283583784568, 45.290574540227134], [6.615296367664387, 45.29058504215528], [6.615314159542014, 45.290676511238956], [6.615319037630637, 45.29075166260075], [6.615365320165751, 45.290825474918954], [6.615405145871935, 45.29089112836335], [6.615505747117172, 45.29097991925739], [6.6155189086047095, 45.29099050015281], [6.616092067540277, 45.29099050015281]]], &quot;type&quot;: &quot;Polygon&quot;}, &quot;id&quot;: &quot;2059&quot;, &quot;properties&quot;: {&quot;lake_id&quot;: 887.0, &quot;source&quot;: &quot;water&quot;, &quot;value&quot;: 2, &quot;year&quot;: 2024}, &quot;type&quot;: &quot;Feature&quot;}, {&quot;bbox&quot;: [6.637112645188674, 45.295032918931355, 6.638460118114852, 45.29664988644278], &quot;geometry&quot;: {&quot;coordinates&quot;: [[[6.638460118114852, 45.29664988644278], [6.638460118114852, 45.29641632435659], [6.638455095233219, 45.29641168785045], [6.638426552123193, 45.296365305296646], [6.638308811794354, 45.296258268634105], [6.638305243905601, 45.29620118241409], [6.638265997129324, 45.29615123197153], [6.638232384879959, 45.29611089727229], [6.638190623529617, 45.29611089727228], [6.638190623529617, 45.29603393333919], [6.638183935688009, 45.29601922008764], [6.638162528355493, 45.29597283753385], [6.638133985245472, 45.29594786231261], [6.638116145801707, 45.29592288709134], [6.6380911705804415, 45.29588720820379], [6.638066195359166, 45.29585152931626], [6.6380483559154015, 45.29571951743242], [6.638059059581662, 45.29566956698988], [6.638084034802935, 45.29563745599113], [6.638094738469191, 45.295601777103585], [6.638087602691685, 45.295551826661054], [6.6380590595816615, 45.29550187621851], [6.638019812805382, 45.29543765422096], [6.63800554125037, 45.295401975333405], [6.637925891796902, 45.2953024135166], [6.6376516343591465, 45.29530241351659], [6.637651634359145, 45.29503604697955], [6.637642467924632, 45.295032918931355], [6.637435973907901, 45.295032918931355], [6.637391186701217, 45.29506469556148], [6.6373821397739095, 45.295183702016914], [6.63738213977391, 45.29530241351659], [6.637112645188674, 45.2953024135166], [6.637112645188674, 45.29584140268706], [6.6373821397739095, 45.29584140268706], [6.6373821397739095, 45.29611089727229], [6.6376516343591465, 45.29611089727229], [6.6376516343591465, 45.296339644170686], [6.6376923820459615, 45.29638039185752], [6.637921128944382, 45.29638039185752], [6.63792112894438, 45.29664988644278], [6.638460118114852, 45.29664988644278]]], &quot;type&quot;: &quot;Polygon&quot;}, &quot;id&quot;: &quot;2060&quot;, &quot;properties&quot;: {&quot;lake_id&quot;: 358.0, &quot;source&quot;: &quot;water&quot;, &quot;value&quot;: 2, &quot;year&quot;: 2024}, &quot;type&quot;: &quot;Feature&quot;}, {&quot;bbox&quot;: [6.609354702909379, 45.29584140268706, 6.609624197494616, 45.29664988644278], &quot;geometry&quot;: {&quot;coordinates&quot;: [[[6.6096241974946155, 45.296649886442765], [6.609624197494616, 45.29584140268706], [6.609354702909379, 45.29584140268706], [6.609354702909381, 45.29664988644278], [6.6096241974946155, 45.296649886442765]]], &quot;type&quot;: &quot;Polygon&quot;}, &quot;id&quot;: &quot;2061&quot;, &quot;properties&quot;: {&quot;lake_id&quot;: 334.0, &quot;source&quot;: &quot;water&quot;, &quot;value&quot;: 2, &quot;year&quot;: 2024}, &quot;type&quot;: &quot;Feature&quot;}, {&quot;bbox&quot;: [6.63792112894438, 45.297458370198456, 6.638729612700088, 45.29799735936892], &quot;geometry&quot;: {&quot;coordinates&quot;: [[[6.638729612700088, 45.29799735936892], [6.638729612700088, 45.29754880864759], [6.638687587674524, 45.29748682672053], [6.638638408978508, 45.297458370198456], [6.638454851660164, 45.297458370198484], [6.63836411407002, 45.297562331973175], [6.6381925909615696, 45.29753222302575], [6.6379844556666185, 45.297522260243205], [6.637938034017752, 45.297628368289786], [6.63792112894438, 45.29763533716001], [6.637921128944381, 45.297727864783695], [6.638460118114854, 45.297727864783724], [6.638460118114852, 45.29799735936892], [6.638729612700088, 45.29799735936892]]], &quot;type&quot;: &quot;Polygon&quot;}, &quot;id&quot;: &quot;2062&quot;, &quot;properties&quot;: {&quot;lake_id&quot;: 359.0, &quot;source&quot;: &quot;water&quot;, &quot;value&quot;: 2, &quot;year&quot;: 2024}, &quot;type&quot;: &quot;Feature&quot;}, {&quot;bbox&quot;: [6.7745548836589595, 45.31524501282403, 6.777249829511318, 45.317131474920686], &quot;geometry&quot;: {&quot;coordinates&quot;: [[[6.77469601837566, 45.317131474920686], [6.774755497309144, 45.317107683347295], [6.774885534662628, 45.31706217027356], [6.774983062677744, 45.316984147861454], [6.775080590692862, 45.31691912918474], [6.775093872829434, 45.31691671425081], [6.775093872829432, 45.31686198033543], [6.775352588196303, 45.31686198033543], [6.775418687811926, 45.31684110677263], [6.775555227033086, 45.31675658249288], [6.775632861999903, 45.316738315441846], [6.775632861999906, 45.31659248575022], [6.775908795902173, 45.31659248575022], [6.775951840961216, 45.3165680283303], [6.776107885785401, 45.316477002182864], [6.776171851170374, 45.316446542475745], [6.776171851170374, 45.31632299116499], [6.7764009892023696, 45.31632299116499], [6.776537009051904, 45.31623643307895], [6.776673548273069, 45.31617141440218], [6.776797083758879, 45.316151908799156], [6.776927121112366, 45.31611289759309], [6.776980334926083, 45.31611289759309], [6.7769803349260815, 45.31605349657974], [6.777249829511318, 45.31605349657974], [6.777249829511318, 45.31551450740927], [6.7767522257585915, 45.31551450740927], [6.776693053876089, 45.31553423137011], [6.776680050140741, 45.315521227634726], [6.776710840340847, 45.31548763832555], [6.776710840340848, 45.31524501282403], [6.776171851170374, 45.31524501282404], [6.776171851170374, 45.31551450740927], [6.775902356585139, 45.31551450740927], [6.775902356585139, 45.315784001994516], [6.775093872829432, 45.31578400199452], [6.775093872829431, 45.31605349657974], [6.77468601574546, 45.31605349657974], [6.774683976764725, 45.31607388638708], [6.774664471161701, 45.31613240319611], [6.774638463691008, 45.3161454069315], [6.774625459955656, 45.316242934946594], [6.774638463691006, 45.316288448020295], [6.774573445014264, 45.31638597603543], [6.7745548836589595, 45.31639989705187], [6.77455488365896, 45.317131474920686], [6.77469601837566, 45.317131474920686]]], &quot;type&quot;: &quot;Polygon&quot;}, &quot;id&quot;: &quot;2063&quot;, &quot;properties&quot;: {&quot;lake_id&quot;: 270.0, &quot;source&quot;: &quot;water&quot;, &quot;value&quot;: 2, &quot;year&quot;: 2024}, &quot;type&quot;: &quot;Feature&quot;}, {&quot;bbox&quot;: [6.77644134575561, 45.33707407422814, 6.778058313267026, 45.33842154715431], &quot;geometry&quot;: {&quot;coordinates&quot;: [[[6.777175218305993, 45.33842154715431], [6.77721645422387, 45.33840780184836], [6.777248963562239, 45.33833628130397], [6.777249829511318, 45.33833574008578], [6.777249829511319, 45.338152052569086], [6.777519324096556, 45.338152052569086], [6.777519324096556, 45.3376130633986], [6.777952449626412, 45.3376130633986], [6.778003180212458, 45.33753004971235], [6.778058313267026, 45.3374749166578], [6.778058313267026, 45.337074074228155], [6.776980334926082, 45.33707407422814], [6.776980334926083, 45.33734356881339], [6.776710840340846, 45.33734356881339], [6.776710840340847, 45.3376130633986], [6.77644134575561, 45.3376130633986], [6.776441345755611, 45.33840035199252], [6.7764492338383, 45.33840780184838], [6.776469851797205, 45.33842154715431], [6.777175218305993, 45.33842154715431]]], &quot;type&quot;: &quot;Polygon&quot;}, &quot;id&quot;: &quot;2064&quot;, &quot;properties&quot;: {&quot;lake_id&quot;: 273.0, &quot;source&quot;: &quot;water&quot;, &quot;value&quot;: 2, &quot;year&quot;: 2024}, &quot;type&quot;: &quot;Feature&quot;}, {&quot;bbox&quot;: [6.773207410732782, 45.340308009250975, 6.77401589448849, 45.341116493006666], &quot;geometry&quot;: {&quot;coordinates&quot;: [[[6.773838070695126, 45.341116493006666], [6.773841984900898, 45.3411125788009], [6.773939512916014, 45.341041058256465], [6.774011033460431, 45.34101505078581], [6.77401589448849, 45.34101392901012], [6.774015894488489, 45.340308009250975], [6.773746399903251, 45.340308009250975], [6.773746399903252, 45.34057750383621], [6.773207410732782, 45.3405775038362], [6.773207410732783, 45.34075663995444], [6.773217805604162, 45.34076797981411], [6.773275752582854, 45.34084699842145], [6.773746399903251, 45.34084699842143], [6.773746399903251, 45.34111649300666], [6.773838070695126, 45.341116493006666]]], &quot;type&quot;: &quot;Polygon&quot;}, &quot;id&quot;: &quot;2065&quot;, &quot;properties&quot;: {&quot;lake_id&quot;: 278.0, &quot;source&quot;: &quot;water&quot;, &quot;value&quot;: 2, &quot;year&quot;: 2024}, &quot;type&quot;: &quot;Feature&quot;}, {&quot;bbox&quot;: [6.775632861999904, 45.340308009250975, 6.77590235658514, 45.34049490137181], &quot;geometry&quot;: {&quot;coordinates&quot;: [[[6.775902356585139, 45.340308009250975], [6.775632861999904, 45.34030800925098], [6.775632861999906, 45.34048794470676], [6.775688515320402, 45.34049490137181], [6.775792545203192, 45.340468893901146], [6.775890073218308, 45.340416878959736], [6.77590235658514, 45.34041017894146], [6.775902356585139, 45.340308009250975]]], &quot;type&quot;: &quot;Polygon&quot;}, &quot;id&quot;: &quot;2066&quot;, &quot;properties&quot;: {&quot;lake_id&quot;: 276.0, &quot;source&quot;: &quot;water&quot;, &quot;value&quot;: 2, &quot;year&quot;: 2024}, &quot;type&quot;: &quot;Feature&quot;}, {&quot;bbox&quot;: [6.773746399903251, 45.34542840637045, 6.774285389073726, 45.346232943084765], &quot;geometry&quot;: {&quot;coordinates&quot;: [[[6.774285389073726, 45.34542840637045], [6.773746399903251, 45.34542840637045], [6.773746399903254, 45.345958136549605], [6.773774517110894, 45.345969383432646], [6.773822437047636, 45.34597896742002], [6.773865564990708, 45.34601251137573], [6.773812853060286, 45.34605084732513], [6.773746399903253, 45.34607430138054], [6.773746399903251, 45.34622335909739], [6.773841605022335, 45.34622335909738], [6.773918276921127, 45.34622335909739], [6.774014116794619, 45.346232943084765], [6.774062036731362, 45.346232943084765], [6.774090788693406, 45.34620898311635], [6.774157876604849, 45.34616585517333], [6.7742105885352695, 45.34614189520492], [6.774215380528945, 45.346108351249214], [6.77421538052894, 45.34603647134412], [6.774253716478337, 45.345988551407345], [6.774272884453039, 45.34595500745165], [6.774285389073723, 45.34591749358958], [6.774285389073726, 45.34542840637045]]], &quot;type&quot;: &quot;Polygon&quot;}, &quot;id&quot;: &quot;2067&quot;, &quot;properties&quot;: {&quot;lake_id&quot;: 277.0, &quot;source&quot;: &quot;water&quot;, &quot;value&quot;: 2, &quot;year&quot;: 2024}, &quot;type&quot;: &quot;Feature&quot;}, {&quot;bbox&quot;: [6.751108854743439, 45.35809465187653, 6.7519173384991475, 45.35863364104702], &quot;geometry&quot;: {&quot;coordinates&quot;: [[[6.751625996986606, 45.35863364104702], [6.75164817024603, 45.35862663691203], [6.751764359309909, 45.35850139938757], [6.7518684230391175, 45.35837238398124], [6.7519173384991475, 45.358254053031025], [6.751917338499147, 45.35809465187654], [6.751647843913912, 45.35809465187653], [6.7516478439139105, 45.35836414646176], [6.751108854743441, 45.35836414646177], [6.751108854743439, 45.35863364104702], [6.751625996986606, 45.35863364104702]]], &quot;type&quot;: &quot;Polygon&quot;}, &quot;id&quot;: &quot;2068&quot;, &quot;properties&quot;: {&quot;lake_id&quot;: 1522.0, &quot;source&quot;: &quot;water&quot;, &quot;value&quot;: 2, &quot;year&quot;: 2024}, &quot;type&quot;: &quot;Feature&quot;}, {&quot;bbox&quot;: [6.764314089419997, 45.40390873136662, 6.768626002783771, 45.40762244113102], &quot;geometry&quot;: {&quot;coordinates&quot;: [[[6.767278529857593, 45.40714266638946], [6.767548024442828, 45.40714266638946], [6.767548024442827, 45.40633418263376], [6.767840093151762, 45.40633418263376], [6.767844424938783, 45.40626703983839], [6.7678827608884, 45.406180783952024], [6.767978600761808, 45.40610411205331], [6.7680870136133, 45.40605407535257], [6.768087013613302, 45.40591181529074], [6.768064856648107, 45.405845344394834], [6.7680870136132985, 45.40577887349875], [6.768087013613301, 45.405256204292805], [6.7683144509439535, 45.4052562042928], [6.768323624306487, 45.405155297305875], [6.768314040319128, 45.40504987344494], [6.768333208293507, 45.4048869456599], [6.7683565081985355, 45.40485033152365], [6.768356508198536, 45.40444772053709], [6.768550859222555, 45.40444772053709], [6.768563223989922, 45.40436941034328], [6.768626002783771, 45.40428248585946], [6.768626002783771, 45.40417822595187], [6.7680870136133, 45.40417822595186], [6.7680870136133, 45.40390873136662], [6.767009035272356, 45.40390873136662], [6.7670090352723555, 45.40417822595187], [6.766470046101886, 45.40417822595187], [6.766470046101886, 45.40444772053709], [6.765931056931413, 45.40444772053709], [6.7659310569314135, 45.40471721512233], [6.765661562346177, 45.404717215122346], [6.765661562346178, 45.40498670970757], [6.765122573175706, 45.40498670970757], [6.765122573175705, 45.405256204292805], [6.7645835840052335, 45.405256204292805], [6.764583584005233, 45.40579519346328], [6.764314089419997, 45.40579519346328], [6.764314089419997, 45.406536024031666], [6.764333360114587, 45.406545950500586], [6.764519187850348, 45.406664926725924], [6.76478004372924, 45.406751810807236], [6.765001889883355, 45.40686988323369], [6.765334558119263, 45.40698701957897], [6.765509369456255, 45.40711225119365], [6.765632070746038, 45.40728665642431], [6.765775085573904, 45.407410167057584], [6.76588874537045, 45.407509558640626], [6.76611849000554, 45.407568783312904], [6.766347857914847, 45.40762244113102], [6.766612179241469, 45.40756840548854], [6.766765166671203, 45.40752751248352], [6.767197702372347, 45.407365121298554], [6.7672785298575935, 45.40732183975384], [6.767278529857593, 45.40714266638946]], [[6.76673954068712, 45.40660367721899], [6.767278529857591, 45.40660367721899], [6.767278529857593, 45.40687317180421], [6.76673954068712, 45.40687317180421], [6.76673954068712, 45.40660367721899]]], &quot;type&quot;: &quot;Polygon&quot;}, &quot;id&quot;: &quot;2069&quot;, &quot;properties&quot;: {&quot;lake_id&quot;: 245.0, &quot;source&quot;: &quot;water&quot;, &quot;value&quot;: 2, &quot;year&quot;: 2024}, &quot;type&quot;: &quot;Feature&quot;}, {&quot;bbox&quot;: [6.604503800375134, 45.304195734829364, 6.604718923131681, 45.30444662579315], &quot;geometry&quot;: {&quot;coordinates&quot;: [[[6.604503800375136, 45.304195734829364], [6.604503800375134, 45.30444662579315], [6.604522689250279, 45.30444568134939], [6.604565503915315, 45.30444211346064], [6.604636861690366, 45.30439929879558], [6.604672540577895, 45.30437075568557], [6.604718923131681, 45.30431723735426], [6.604715355242928, 45.30429583002177], [6.604686812132906, 45.304281558466755], [6.604626158024107, 45.304277990577994], [6.604572639692818, 45.304263719023], [6.60454052869404, 45.30423160802424], [6.604513623797885, 45.304195734829364], [6.604503800375136, 45.304195734829364]]], &quot;type&quot;: &quot;Polygon&quot;}, &quot;id&quot;: &quot;2070&quot;, &quot;properties&quot;: {&quot;lake_id&quot;: 890.0, &quot;source&quot;: &quot;water&quot;, &quot;value&quot;: 2, &quot;year&quot;: 2024}, &quot;type&quot;: &quot;Feature&quot;}, {&quot;bbox&quot;: [6.640077085626267, 45.305543207755555, 6.641424558552448, 45.306307673292274], &quot;geometry&quot;: {&quot;coordinates&quot;: [[[6.64061607479674, 45.306082196926006], [6.640885569381974, 45.30608219692599], [6.640885569381975, 45.30628442341417], [6.640927196152781, 45.306293401737264], [6.641045828453806, 45.306307673292274], [6.64107883142477, 45.30630678132008], [6.641123430034175, 45.306303213431335], [6.641163568782645, 45.306302321459135], [6.641196571753611, 45.30630053751476], [6.6412429543073985, 45.306297861598246], [6.641277741222733, 45.306290725820695], [6.64132412377652, 45.30626396665506], [6.641373182246871, 45.306230963684094], [6.64141332099534, 45.30620598846279], [6.641424558552448, 45.30619858189107], [6.641424558552448, 45.306082196926006], [6.641155063967212, 45.306082196926006], [6.641155063967211, 45.30573102432857], [6.641151081172009, 45.30573056728651], [6.641094886924155, 45.30574483884153], [6.6410137174550306, 45.30570737600962], [6.640993202094703, 45.30566099345585], [6.640960199123741, 45.30562442259614], [6.640920952347458, 45.305597663430476], [6.640879029654615, 45.30557893201453], [6.640768425103278, 45.305544145099184], [6.640765119733592, 45.305543207755555], [6.640434865771629, 45.305543207755555], [6.640348306202645, 45.30557179623704], [6.640288544066037, 45.30559231159739], [6.640218970235359, 45.30563245034582], [6.640182399375645, 45.30566634528898], [6.640077085626267, 45.305677895829255], [6.640077085626267, 45.30608219692599], [6.640346580211504, 45.306082196926006], [6.640346580211503, 45.30616550073647], [6.640371943465628, 45.306159159922935], [6.640407622353154, 45.3061324007573], [6.640468276461954, 45.30612883286853], [6.640537850292633, 45.30612526497977], [6.640604302220655, 45.30614087449307], [6.64061607479674, 45.30614909077014], [6.64061607479674, 45.306082196926006]]], &quot;type&quot;: &quot;Polygon&quot;}, &quot;id&quot;: &quot;2071&quot;, &quot;properties&quot;: {&quot;lake_id&quot;: 354.0, &quot;source&quot;: &quot;water&quot;, &quot;value&quot;: 2, &quot;year&quot;: 2024}, &quot;type&quot;: &quot;Feature&quot;}, {&quot;bbox&quot;: [6.771051454050894, 45.490955482397816, 6.77132094863613, 45.49114696724274], &quot;geometry&quot;: {&quot;coordinates&quot;: [[[6.77132094863613, 45.490955482397816], [6.771051454050895, 45.490955482397816], [6.771051454050894, 45.49110340597045], [6.771054809770021, 45.49110772046645], [6.77106551343628, 45.49111842413272], [6.771108328101315, 45.491121992021476], [6.771135087266956, 45.4911255599102], [6.771163630376978, 45.49113091174335], [6.771185037709497, 45.491136263576486], [6.771208228986388, 45.491143399353994], [6.771238556040787, 45.49114696724274], [6.7712885064833275, 45.491143399354016], [6.771320948636129, 45.49114210166788], [6.77132094863613, 45.490955482397816]]], &quot;type&quot;: &quot;Polygon&quot;}, &quot;id&quot;: &quot;2072&quot;, &quot;properties&quot;: {&quot;lake_id&quot;: 1130.0, &quot;source&quot;: &quot;water&quot;, &quot;value&quot;: 2, &quot;year&quot;: 2024}, &quot;type&quot;: &quot;Feature&quot;}, {&quot;bbox&quot;: [6.772668421562308, 45.496075879517285, 6.77320741073278, 45.49630795320836], &quot;geometry&quot;: {&quot;coordinates&quot;: [[[6.7732074107327795, 45.496075879517285], [6.772668421562309, 45.496075879517306], [6.772668421562308, 45.49630138597834], [6.772738712132625, 45.49630795320836], [6.772940260812633, 45.4962969911071], [6.7730261820416535, 45.496248073532925], [6.773113238603784, 45.496215855191416], [6.773172317132719, 45.49620968394902], [6.77320741073278, 45.49618613801335], [6.7732074107327795, 45.496075879517285]]], &quot;type&quot;: &quot;Polygon&quot;}, &quot;id&quot;: &quot;2073&quot;, &quot;properties&quot;: {&quot;lake_id&quot;: 205.0, &quot;source&quot;: &quot;water&quot;, &quot;value&quot;: 2, &quot;year&quot;: 2024}, &quot;type&quot;: &quot;Feature&quot;}, {&quot;bbox&quot;: [6.78506517248316, 45.8600943485513, 6.7861431508241035, 45.861510537097125], &quot;geometry&quot;: {&quot;coordinates&quot;: [[[6.785440678301082, 45.86151053709712], [6.7854542846118475, 45.86150389490372], [6.785456341652242, 45.861510537097125], [6.78561277469116, 45.861510537097125], [6.78569003447088, 45.86147243343252], [6.785749573658832, 45.861466511057436], [6.78576267089473, 45.86149355739561], [6.7858338725293414, 45.861493788160864], [6.785873656238866, 45.86148157478035], [6.785873656238866, 45.86097154792664], [6.785993345235808, 45.860971547926646], [6.7859881006045955, 45.86095723350762], [6.786011486336056, 45.86091587581928], [6.78606682416084, 45.86087606456873], [6.786113025078025, 45.86089414806605], [6.7861431508241035, 45.860931636696556], [6.786143150824102, 45.86009792743044], [6.786116167061752, 45.8600943485513], [6.786011505316252, 45.86009785746051], [6.785878733726737, 45.86012848521022], [6.785873656238867, 45.86013205555991], [6.785873656238866, 45.86070205334141], [6.785334667068396, 45.86070205334141], [6.785334667068396, 45.86097154792664], [6.785213540700932, 45.860971547926646], [6.7852139801459685, 45.86097794791546], [6.785212394058124, 45.86100941294377], [6.785118434248633, 45.861059680052854], [6.78506517248316, 45.861078552638325], [6.78506517248316, 45.86120012814474], [6.7851763806693315, 45.861248826681006], [6.7852048778906555, 45.86128190103963], [6.785175870494434, 45.861295961578605], [6.785076351268434, 45.86126526765997], [6.78506517248316, 45.86126215994294], [6.78506517248316, 45.86147038471825], [6.78506986877564, 45.861470970870045], [6.785144642952543, 45.86149595005535], [6.785156364840175, 45.86151053709712], [6.785440678301082, 45.86151053709712]]], &quot;type&quot;: &quot;Polygon&quot;}, &quot;id&quot;: &quot;2074&quot;, &quot;properties&quot;: {&quot;lake_id&quot;: 386.0, &quot;source&quot;: &quot;water&quot;, &quot;value&quot;: 2, &quot;year&quot;: 2024}, &quot;type&quot;: &quot;Feature&quot;}, {&quot;bbox&quot;: [7.0982178805272245, 45.45107028378289, 7.100104342623876, 45.45214826212384], &quot;geometry&quot;: {&quot;coordinates&quot;: [[[7.0999852401718755, 45.45214826212384], [7.100001914631814, 45.45212602951059], [7.100027922102508, 45.45209352017223], [7.100047427705533, 45.452067512701525], [7.100053929573205, 45.45203500336317], [7.100060431440881, 45.45198298842176], [7.100086438911578, 45.45193747534805], [7.100104342623875, 45.45190422559663], [7.100104342623876, 45.45107028378289], [7.0992958588681665, 45.45107028378289], [7.099295858868167, 45.45133977836815], [7.098900701903, 45.45133977836814], [7.098838080318139, 45.45137831472809], [7.098756869697696, 45.45140303100384], [7.098756869697697, 45.451609272953384], [7.0982178805272245, 45.45160927295337], [7.0982178805272245, 45.45214826212384], [7.0999852401718755, 45.45214826212384]]], &quot;type&quot;: &quot;Polygon&quot;}, &quot;id&quot;: &quot;2075&quot;, &quot;properties&quot;: {&quot;lake_id&quot;: 218.0, &quot;source&quot;: &quot;water&quot;, &quot;value&quot;: 2, &quot;year&quot;: 2024}, &quot;type&quot;: &quot;Feature&quot;}, {&quot;bbox&quot;: [7.0995955479021795, 45.450261800027185, 7.10037383720911, 45.45053129461244], &quot;geometry&quot;: {&quot;coordinates&quot;: [[[7.100373837209109, 45.45053129461244], [7.10037383720911, 45.450261800027185], [7.099653702566901, 45.450261800027185], [7.099637810042059, 45.45026974628962], [7.099611802571369, 45.450299004694195], [7.099615053505203, 45.45031851029713], [7.099615053505202, 45.45034451776786], [7.0996183044390415, 45.45037052523856], [7.099634559108225, 45.45041278737846], [7.09965081377741, 45.450432292981446], [7.0996638175127575, 45.450438794849134], [7.099673570314269, 45.450455049518354], [7.0996345591082255, 45.450451798584496], [7.099611802571365, 45.45045179858447], [7.09960530070369, 45.45046805325367], [7.0995955479021795, 45.4504973116582], [7.099606875553588, 45.45053129461244], [7.100373837209109, 45.45053129461244]]], &quot;type&quot;: &quot;Polygon&quot;}, &quot;id&quot;: &quot;2076&quot;, &quot;properties&quot;: {&quot;lake_id&quot;: 219.0, &quot;source&quot;: &quot;water&quot;, &quot;value&quot;: 2, &quot;year&quot;: 2024}, &quot;type&quot;: &quot;Feature&quot;}, {&quot;bbox&quot;: [7.042971490553874, 45.490146998642096, 7.043779974309581, 45.49068598781258], &quot;geometry&quot;: {&quot;coordinates&quot;: [[[7.04377997430958, 45.49068598781258], [7.043779974309581, 45.49057619790437], [7.043725347989508, 45.49056465662194], [7.043587634820585, 45.49055288085401], [7.043413401466638, 45.49052986616205], [7.043331993177756, 45.490474209632346], [7.0434022961515, 45.49045912016189], [7.043508510954543, 45.4904469211568], [7.043560705829854, 45.49042829927739], [7.043592664912242, 45.49041649322734], [7.043510479724344, 45.490416493227336], [7.043510479724345, 45.49034592420622], [7.043450996689694, 45.490310886886746], [7.043452368881912, 45.49024806125566], [7.043510479724345, 45.490190170766525], [7.043510479724346, 45.49014731657247], [7.043510456557009, 45.490146998642096], [7.042971490553874, 45.490146998642096], [7.042971490553874, 45.49040837680045], [7.043044090013138, 45.49044273655541], [7.043070261548989, 45.49047527382664], [7.042971490553874, 45.49050848922168], [7.042971490553874, 45.49068598781258], [7.04377997430958, 45.49068598781258]]], &quot;type&quot;: &quot;Polygon&quot;}, &quot;id&quot;: &quot;2077&quot;, &quot;properties&quot;: {&quot;lake_id&quot;: 85.0, &quot;source&quot;: &quot;water&quot;, &quot;value&quot;: 2, &quot;year&quot;: 2024}, &quot;type&quot;: &quot;Feature&quot;}, {&quot;bbox&quot;: [7.042546283061423, 45.491620292247184, 7.042701995968637, 45.49176396615351], &quot;geometry&quot;: {&quot;coordinates&quot;: [[[7.042701995968637, 45.49176396615351], [7.042701995968637, 45.491620292247184], [7.04269852324802, 45.49162073549967], [7.04257099984534, 45.491667182215465], [7.04254679988992, 45.49174338573617], [7.042546283061423, 45.49176396615351], [7.042701995968637, 45.49176396615351]]], &quot;type&quot;: &quot;Polygon&quot;}, &quot;id&quot;: &quot;2078&quot;, &quot;properties&quot;: {&quot;lake_id&quot;: 2254.0, &quot;source&quot;: &quot;water&quot;, &quot;value&quot;: 2, &quot;year&quot;: 2024}, &quot;type&quot;: &quot;Feature&quot;}, {&quot;bbox&quot;: [7.042701995968637, 45.49122722030121, 7.044527790025101, 45.49284194449447], &quot;geometry&quot;: {&quot;coordinates&quot;: [[[7.04281169126233, 45.49284194449447], [7.042810761052831, 45.492834547747655], [7.042773370659368, 45.49270929673645], [7.04284246010257, 45.49267751114629], [7.042866199535044, 45.49267665554459], [7.042894926629039, 45.49260133504777], [7.04290314674494, 45.49255081784958], [7.042869822971714, 45.49250179796746], [7.042846544164196, 45.4924273055795], [7.042915937346525, 45.49239969406142], [7.043022764247403, 45.49239584374453], [7.043159873566108, 45.492399271977725], [7.043350092179236, 45.49239660060176], [7.04344946335912, 45.492372093231566], [7.043570444466681, 45.49231751122393], [7.043694163042658, 45.4923004961099], [7.043765380815042, 45.49229792874962], [7.043804490928111, 45.492263038194515], [7.04383021038119, 45.492207704964045], [7.0439049291910925, 45.492171530656776], [7.043923801089553, 45.49210388902206], [7.0439942607438875, 45.492009277074054], [7.04409804463376, 45.49196368460663], [7.044270611763742, 45.491882131465694], [7.044403764760191, 45.49183129472433], [7.044440440198669, 45.49176301105755], [7.044497353762078, 45.49172747830942], [7.044527790025101, 45.49165523449092], [7.044525051786793, 45.49161766749082], [7.044492031387661, 45.4915728222074], [7.044498424422759, 45.491497260232464], [7.044498221160466, 45.49149447156828], [7.0440494688948165, 45.49149447156828], [7.0440494688948165, 45.4912294676598], [7.043978917026931, 45.49122722030121], [7.043813049634056, 45.49123738516627], [7.043648094722137, 45.49126007212612], [7.043510479724344, 45.49125487254061], [7.043510479724346, 45.49149447156828], [7.0431342636848155, 45.49149447156828], [7.043086566689665, 45.49155652855433], [7.042971490553874, 45.49157944461997], [7.0429714905538745, 45.49176396615351], [7.042701995968637, 45.49176396615351], [7.042701995968637, 45.49284194449447], [7.04281169126233, 45.49284194449447]]], &quot;type&quot;: &quot;Polygon&quot;}, &quot;id&quot;: &quot;2079&quot;, &quot;properties&quot;: {&quot;lake_id&quot;: 2254.0, &quot;source&quot;: &quot;water&quot;, &quot;value&quot;: 2, &quot;year&quot;: 2024}, &quot;type&quot;: &quot;Feature&quot;}, {&quot;bbox&quot;: [6.965190070080016, 45.57808906592086, 6.968321490443541, 45.58069717928136], &quot;geometry&quot;: {&quot;coordinates&quot;: [[[6.966346532204408, 45.58069717928136], [6.966482811008741, 45.58068014443079], [6.966625852097572, 45.580673642563106], [6.966807904392452, 45.58061512575404], [6.966898930539892, 45.58060862388637], [6.966963949216631, 45.58058261641566], [6.966974017517361, 45.5805806027555], [6.966974017517363, 45.58042768469612], [6.9675130066878355, 45.58042768469613], [6.967513006687834, 45.58015819011088], [6.968051995858304, 45.58015819011088], [6.968051995858306, 45.57988869552565], [6.96832149044354, 45.57988869552565], [6.968321490443541, 45.57934970635517], [6.968051995858306, 45.57934970635517], [6.968051995858305, 45.579080211769934], [6.967243512102597, 45.579080211769934], [6.967243512102597, 45.57821888088864], [6.967198016452902, 45.57818992911157], [6.967172008982205, 45.578157419773234], [6.967172008982204, 45.57810540483183], [6.967188347893221, 45.57808906592086], [6.966981187700703, 45.57812459862386], [6.966723497615599, 45.57818409953504], [6.966515391946617, 45.57823364524928], [6.966378781148902, 45.578313833018385], [6.966145341493329, 45.57845258288852], [6.96589980973739, 45.57865360569545], [6.965781314819443, 45.57875180711464], [6.965608203652094, 45.57900411026299], [6.965561666033887, 45.57922069206843], [6.965537350069526, 45.57933832222306], [6.9655388387517565, 45.57943077664625], [6.965546835180577, 45.579749196181105], [6.965485943427016, 45.580055663375255], [6.965190070080016, 45.58042768469612], [6.965357050005946, 45.58042768469612], [6.965357050005947, 45.58069717928136], [6.966346532204408, 45.58069717928136]]], &quot;type&quot;: &quot;Polygon&quot;}, &quot;id&quot;: &quot;2080&quot;, &quot;properties&quot;: {&quot;lake_id&quot;: 39.0, &quot;source&quot;: &quot;water&quot;, &quot;value&quot;: 2, &quot;year&quot;: 2024}, &quot;type&quot;: &quot;Feature&quot;}, {&quot;bbox&quot;: [6.969938457954957, 45.57988869552565, 6.9710164362958995, 45.581730170393186], &quot;geometry&quot;: {&quot;coordinates&quot;: [[[[6.9707469417106624, 45.581505663037056], [6.9707469417106624, 45.58170093600785], [6.970832560482871, 45.58171394139098], [6.970905590915544, 45.581730170393186], [6.970994647656106, 45.58170693678115], [6.9710164362958995, 45.581690014952], [6.971016436295899, 45.5813340260562], [6.970956095968653, 45.58129782185987], [6.970898295898652, 45.581236168451824], [6.9707469417106624, 45.581236168451824], [6.9707469417106624, 45.58107652644319], [6.9707285306, 45.58105075088825], [6.970683017526348, 45.580914211667086], [6.970657010055595, 45.58081668365202], [6.970598493246459, 45.58068014443079], [6.970585489511251, 45.58061512575405], [6.9705724857758895, 45.58048508840053], [6.970631002584966, 45.580433073459176], [6.970709024997061, 45.58036805478246], [6.970741534335229, 45.580322541708696], [6.970746941710663, 45.58030496773861], [6.970746941710664, 45.57996110826328], [6.970735032467714, 45.57991942591294], [6.970722028732408, 45.57989341844223], [6.97071573151031, 45.57988869552565], [6.96997978071513, 45.57988869552565], [6.969974313949759, 45.57993242964826], [6.9699384579549575, 45.5800818296267], [6.969938457954958, 45.58098930161454], [6.969956433813785, 45.58103124528517], [6.969982441284405, 45.58108976209425], [6.970034456225795, 45.58119379197707], [6.97009297303499, 45.58126531252147], [6.970190501050037, 45.58136934240428], [6.970301032800487, 45.58146687041933], [6.970327040271198, 45.58147987415473], [6.970375394425626, 45.581505663037056], [6.9707469417106624, 45.581505663037056]]], [[[6.9699384579549575, 45.58169491394664], [6.969956433813747, 45.58168143205263], [6.969975939416727, 45.58165542458193], [6.970001946887495, 45.581622915243564], [6.970047459961089, 45.581616413375876], [6.970060463696491, 45.581590405905104], [6.97007346743176, 45.58157090030218], [6.970073467431807, 45.58153839096382], [6.970021452490493, 45.58149287789012], [6.96998244128445, 45.581440862948696], [6.969956433813669, 45.581408353610314], [6.969938457954957, 45.58140535763383], [6.9699384579549575, 45.58169491394664]]]], &quot;type&quot;: &quot;MultiPolygon&quot;}, &quot;id&quot;: &quot;2081&quot;, &quot;properties&quot;: {&quot;lake_id&quot;: 431.0, &quot;source&quot;: &quot;water&quot;, &quot;value&quot;: 2, &quot;year&quot;: 2024}, &quot;type&quot;: &quot;Feature&quot;}, {&quot;bbox&quot;: [6.971824920051607, 45.58393111430415, 6.97257281734885, 45.584200608889425], &quot;geometry&quot;: {&quot;coordinates&quot;: [[[6.97257281734885, 45.584200608889425], [6.9725573959734914, 45.5841537326594], [6.972460044227574, 45.5840694404063], [6.97242359354046, 45.58403023642715], [6.972387384255778, 45.58399439829356], [6.972345870183919, 45.58397984227545], [6.972302015009883, 45.583931114304164], [6.971824920051608, 45.58393111430415], [6.971824920051607, 45.5840617512513], [6.971900894695472, 45.58411282838467], [6.972016203629432, 45.584200608889425], [6.97257281734885, 45.584200608889425]]], &quot;type&quot;: &quot;Polygon&quot;}, &quot;id&quot;: &quot;2082&quot;, &quot;properties&quot;: {&quot;lake_id&quot;: 366.0, &quot;source&quot;: &quot;water&quot;, &quot;value&quot;: 2, &quot;year&quot;: 2024}, &quot;type&quot;: &quot;Feature&quot;}, {&quot;bbox&quot;: [6.85513376464448, 45.54781883988258, 6.857020226741132, 45.54889681822351], &quot;geometry&quot;: {&quot;coordinates&quot;: [[[6.856188796771503, 45.54889681822351], [6.856211742985424, 45.54888572279406], [6.8562117429854235, 45.54862732363827], [6.857020226741132, 45.54862732363829], [6.857020226741132, 45.54844524706584], [6.8568995755219655, 45.54832378858954], [6.856625351801516, 45.54809882592429], [6.856616523645031, 45.54808833446781], [6.85648123757066, 45.54808833446781], [6.856481237570661, 45.54792755934291], [6.85638975433277, 45.547818839882595], [6.85513376464448, 45.54781883988258], [6.85513376464448, 45.54862732363829], [6.8554032592297185, 45.54862732363829], [6.8554032592297185, 45.54889681822351], [6.856188796771503, 45.54889681822351]]], &quot;type&quot;: &quot;Polygon&quot;}, &quot;id&quot;: &quot;2083&quot;, &quot;properties&quot;: {&quot;lake_id&quot;: 155.0, &quot;source&quot;: &quot;water&quot;, &quot;value&quot;: 2, &quot;year&quot;: 2024}, &quot;type&quot;: &quot;Feature&quot;}, {&quot;bbox&quot;: [6.876239757447854, 45.535961078132196, 6.8766933314633505, 45.536230572717436], &quot;geometry&quot;: {&quot;coordinates&quot;: [[[6.8766933314633505, 45.536230572717436], [6.8766933314633505, 45.53596107813222], [6.876239757447854, 45.535961078132196], [6.876283275076151, 45.53600026980697], [6.876251935222389, 45.536077102960235], [6.876298945003033, 45.53615942407936], [6.876338012069758, 45.53623057271743], [6.8766933314633505, 45.536230572717436]]], &quot;type&quot;: &quot;Polygon&quot;}, &quot;id&quot;: &quot;2084&quot;, &quot;properties&quot;: {&quot;lake_id&quot;: 1249.0, &quot;source&quot;: &quot;water&quot;, &quot;value&quot;: 2, &quot;year&quot;: 2024}, &quot;type&quot;: &quot;Feature&quot;}, {&quot;bbox&quot;: [6.858637194252548, 45.8908854468878, 6.858906688837783, 45.89115494147306], &quot;geometry&quot;: {&quot;coordinates&quot;: [[[6.858906688837783, 45.891154941473054], [6.8589066888377825, 45.8908854468878], [6.858637194252549, 45.89088544688783], [6.858637194252548, 45.89115406494864], [6.858638011165529, 45.89115494147306], [6.858906688837783, 45.891154941473054]]], &quot;type&quot;: &quot;Polygon&quot;}, &quot;id&quot;: &quot;2085&quot;, &quot;properties&quot;: {&quot;lake_id&quot;: 2221.0, &quot;source&quot;: &quot;water&quot;, &quot;value&quot;: 2, &quot;year&quot;: 2024}, &quot;type&quot;: &quot;Feature&quot;}, {&quot;bbox&quot;: [6.978564713610912, 45.988711981328436, 6.979057940947242, 45.988917155091066], &quot;geometry&quot;: {&quot;coordinates&quot;: [[[6.978564713610912, 45.988711981328436], [6.978595008910973, 45.98874162995711], [6.978594301928799, 45.988838019956425], [6.978703711097636, 45.988917155091066], [6.9787829907235075, 45.98889830731773], [6.9788254785307835, 45.98884863114127], [6.978908202067654, 45.988824308588526], [6.97891566970079, 45.98882136925733], [6.979057940947242, 45.988770861908904], [6.979023434085633, 45.98871853881337], [6.979015376324461, 45.988711981328436], [6.978564713610912, 45.988711981328436]]], &quot;type&quot;: &quot;Polygon&quot;}, &quot;id&quot;: &quot;2086&quot;, &quot;properties&quot;: {&quot;lake_id&quot;: 2253.0, &quot;source&quot;: &quot;water&quot;, &quot;value&quot;: 2, &quot;year&quot;: 2024}, &quot;type&quot;: &quot;Feature&quot;}], &quot;type&quot;: &quot;FeatureCollection&quot;});\n",
       "\n",
       "        \n",
       "    \n",
       "    geo_json_bc66763e702a08533aedc0013fd7d0b3.bindTooltip(\n",
       "    function(layer){\n",
       "    let div = L.DomUtil.create(&#x27;div&#x27;);\n",
       "    \n",
       "    let handleObject = feature=&gt;typeof(feature)==&#x27;object&#x27; ? JSON.stringify(feature) : feature;\n",
       "    let fields = [&quot;year&quot;, &quot;source&quot;, &quot;value&quot;, &quot;lake_id&quot;];\n",
       "    let aliases = [&quot;year&quot;, &quot;source&quot;, &quot;value&quot;, &quot;lake_id&quot;];\n",
       "    let table = &#x27;&lt;table&gt;&#x27; +\n",
       "        String(\n",
       "        fields.map(\n",
       "        (v,i)=&gt;\n",
       "        `&lt;tr&gt;\n",
       "            &lt;th&gt;${aliases[i]}&lt;/th&gt;\n",
       "            \n",
       "            &lt;td&gt;${handleObject(layer.feature.properties[v])}&lt;/td&gt;\n",
       "        &lt;/tr&gt;`).join(&#x27;&#x27;))\n",
       "    +&#x27;&lt;/table&gt;&#x27;;\n",
       "    div.innerHTML=table;\n",
       "    \n",
       "    return div\n",
       "    }\n",
       "    ,{\n",
       "  &quot;sticky&quot;: true,\n",
       "  &quot;className&quot;: &quot;foliumtooltip&quot;,\n",
       "});\n",
       "                     \n",
       "    \n",
       "            geo_json_bc66763e702a08533aedc0013fd7d0b3.addTo(map_036c6c5417189c93c532d2db8a6b6e9d);\n",
       "        \n",
       "&lt;/script&gt;\n",
       "&lt;/html&gt;\" style=\"position:absolute;width:100%;height:100%;left:0;top:0;border:none !important;\" allowfullscreen webkitallowfullscreen mozallowfullscreen></iframe></div></div>"
      ],
      "text/plain": [
       "<folium.folium.Map at 0x1ce7292b910>"
      ]
     },
     "execution_count": 110,
     "metadata": {},
     "output_type": "execute_result"
    }
   ],
   "source": [
    "lake_def_clean_ided[lake_def_clean_ided['year']==2024].explore()"
   ]
  },
  {
   "cell_type": "code",
   "execution_count": 111,
   "id": "c4c25db5-7c8b-4243-a967-4e387b461569",
   "metadata": {},
   "outputs": [
    {
     "data": {
      "text/html": [
       "\n",
       "            <style>\n",
       "                .geemap-dark {\n",
       "                    --jp-widgets-color: white;\n",
       "                    --jp-widgets-label-color: white;\n",
       "                    --jp-ui-font-color1: white;\n",
       "                    --jp-layout-color2: #454545;\n",
       "                    background-color: #383838;\n",
       "                }\n",
       "\n",
       "                .geemap-dark .jupyter-button {\n",
       "                    --jp-layout-color3: #383838;\n",
       "                }\n",
       "\n",
       "                .geemap-colab {\n",
       "                    background-color: var(--colab-primary-surface-color, white);\n",
       "                }\n",
       "\n",
       "                .geemap-colab .jupyter-button {\n",
       "                    --jp-layout-color3: var(--colab-primary-surface-color, white);\n",
       "                }\n",
       "            </style>\n",
       "            "
      ],
      "text/plain": [
       "<IPython.core.display.HTML object>"
      ]
     },
     "metadata": {},
     "output_type": "display_data"
    }
   ],
   "source": [
    "lake_def_clean_ided.to_file('C:/Users/ronir/Desktop/Google_Earth_Engine/Vdef/Lake/lake_def_clean_with_id.shp')"
   ]
  },
  {
   "cell_type": "markdown",
   "id": "da5b8749-0b6f-4e16-93eb-ae1742ef482b",
   "metadata": {},
   "source": [
    "same with unfiltered_lake"
   ]
  },
  {
   "cell_type": "code",
   "execution_count": 112,
   "id": "941d4c75-46db-4a31-8884-83a8cd278e8e",
   "metadata": {},
   "outputs": [
    {
     "data": {
      "text/html": [
       "\n",
       "            <style>\n",
       "                .geemap-dark {\n",
       "                    --jp-widgets-color: white;\n",
       "                    --jp-widgets-label-color: white;\n",
       "                    --jp-ui-font-color1: white;\n",
       "                    --jp-layout-color2: #454545;\n",
       "                    background-color: #383838;\n",
       "                }\n",
       "\n",
       "                .geemap-dark .jupyter-button {\n",
       "                    --jp-layout-color3: #383838;\n",
       "                }\n",
       "\n",
       "                .geemap-colab {\n",
       "                    background-color: var(--colab-primary-surface-color, white);\n",
       "                }\n",
       "\n",
       "                .geemap-colab .jupyter-button {\n",
       "                    --jp-layout-color3: var(--colab-primary-surface-color, white);\n",
       "                }\n",
       "            </style>\n",
       "            "
      ],
      "text/plain": [
       "<IPython.core.display.HTML object>"
      ]
     },
     "metadata": {},
     "output_type": "display_data"
    }
   ],
   "source": [
    "lake_def_clean_not_filtered_to_id=gpd.read_file('C:/Users/ronir/Desktop/Google_Earth_Engine/Vdef/Vectors_unfiltered/gdf_lake_sans_filtrage.shp')"
   ]
  },
  {
   "cell_type": "code",
   "execution_count": 113,
   "id": "f1a977a0-38be-4cef-add5-b2a83a4cfb8f",
   "metadata": {},
   "outputs": [
    {
     "data": {
      "text/html": [
       "\n",
       "            <style>\n",
       "                .geemap-dark {\n",
       "                    --jp-widgets-color: white;\n",
       "                    --jp-widgets-label-color: white;\n",
       "                    --jp-ui-font-color1: white;\n",
       "                    --jp-layout-color2: #454545;\n",
       "                    background-color: #383838;\n",
       "                }\n",
       "\n",
       "                .geemap-dark .jupyter-button {\n",
       "                    --jp-layout-color3: #383838;\n",
       "                }\n",
       "\n",
       "                .geemap-colab {\n",
       "                    background-color: var(--colab-primary-surface-color, white);\n",
       "                }\n",
       "\n",
       "                .geemap-colab .jupyter-button {\n",
       "                    --jp-layout-color3: var(--colab-primary-surface-color, white);\n",
       "                }\n",
       "            </style>\n",
       "            "
      ],
      "text/plain": [
       "<IPython.core.display.HTML object>"
      ]
     },
     "metadata": {},
     "output_type": "display_data"
    }
   ],
   "source": [
    "lake_def_clean_not_filtered_to_id=lake_def_clean_not_filtered_to_id.sort_values(by='year', ignore_index=True)"
   ]
  },
  {
   "cell_type": "code",
   "execution_count": 114,
   "id": "ad16d069-3135-4d0f-83b4-0df715400584",
   "metadata": {},
   "outputs": [
    {
     "data": {
      "text/html": [
       "\n",
       "            <style>\n",
       "                .geemap-dark {\n",
       "                    --jp-widgets-color: white;\n",
       "                    --jp-widgets-label-color: white;\n",
       "                    --jp-ui-font-color1: white;\n",
       "                    --jp-layout-color2: #454545;\n",
       "                    background-color: #383838;\n",
       "                }\n",
       "\n",
       "                .geemap-dark .jupyter-button {\n",
       "                    --jp-layout-color3: #383838;\n",
       "                }\n",
       "\n",
       "                .geemap-colab {\n",
       "                    background-color: var(--colab-primary-surface-color, white);\n",
       "                }\n",
       "\n",
       "                .geemap-colab .jupyter-button {\n",
       "                    --jp-layout-color3: var(--colab-primary-surface-color, white);\n",
       "                }\n",
       "            </style>\n",
       "            "
      ],
      "text/plain": [
       "<IPython.core.display.HTML object>"
      ]
     },
     "metadata": {},
     "output_type": "display_data"
    }
   ],
   "source": [
    "# lake_def_clean_not_filtered_to_id=lake_def_clean_not_filtered_to_id.assign(lake_id='')"
   ]
  },
  {
   "cell_type": "code",
   "execution_count": 115,
   "id": "6b2d332e-6347-426c-8347-1bb692a0eccf",
   "metadata": {},
   "outputs": [
    {
     "data": {
      "text/html": [
       "\n",
       "            <style>\n",
       "                .geemap-dark {\n",
       "                    --jp-widgets-color: white;\n",
       "                    --jp-widgets-label-color: white;\n",
       "                    --jp-ui-font-color1: white;\n",
       "                    --jp-layout-color2: #454545;\n",
       "                    background-color: #383838;\n",
       "                }\n",
       "\n",
       "                .geemap-dark .jupyter-button {\n",
       "                    --jp-layout-color3: #383838;\n",
       "                }\n",
       "\n",
       "                .geemap-colab {\n",
       "                    background-color: var(--colab-primary-surface-color, white);\n",
       "                }\n",
       "\n",
       "                .geemap-colab .jupyter-button {\n",
       "                    --jp-layout-color3: var(--colab-primary-surface-color, white);\n",
       "                }\n",
       "            </style>\n",
       "            "
      ],
      "text/plain": [
       "<IPython.core.display.HTML object>"
      ]
     },
     "metadata": {},
     "output_type": "display_data"
    }
   ],
   "source": [
    "join_lake_unfilt=lake_def_clean_not_filtered_to_id.sjoin(lake_shape_clipped, how='inner', predicate='intersects')"
   ]
  },
  {
   "cell_type": "code",
   "execution_count": 116,
   "id": "66685027-a3fe-4374-ae3b-939aba819403",
   "metadata": {},
   "outputs": [
    {
     "data": {
      "text/html": [
       "\n",
       "            <style>\n",
       "                .geemap-dark {\n",
       "                    --jp-widgets-color: white;\n",
       "                    --jp-widgets-label-color: white;\n",
       "                    --jp-ui-font-color1: white;\n",
       "                    --jp-layout-color2: #454545;\n",
       "                    background-color: #383838;\n",
       "                }\n",
       "\n",
       "                .geemap-dark .jupyter-button {\n",
       "                    --jp-layout-color3: #383838;\n",
       "                }\n",
       "\n",
       "                .geemap-colab {\n",
       "                    background-color: var(--colab-primary-surface-color, white);\n",
       "                }\n",
       "\n",
       "                .geemap-colab .jupyter-button {\n",
       "                    --jp-layout-color3: var(--colab-primary-surface-color, white);\n",
       "                }\n",
       "            </style>\n",
       "            "
      ],
      "text/plain": [
       "<IPython.core.display.HTML object>"
      ]
     },
     "metadata": {},
     "output_type": "display_data"
    },
    {
     "data": {
      "text/html": [
       "<div>\n",
       "<style scoped>\n",
       "    .dataframe tbody tr th:only-of-type {\n",
       "        vertical-align: middle;\n",
       "    }\n",
       "\n",
       "    .dataframe tbody tr th {\n",
       "        vertical-align: top;\n",
       "    }\n",
       "\n",
       "    .dataframe thead th {\n",
       "        text-align: right;\n",
       "    }\n",
       "</style>\n",
       "<table border=\"1\" class=\"dataframe\">\n",
       "  <thead>\n",
       "    <tr style=\"text-align: right;\">\n",
       "      <th></th>\n",
       "      <th>year</th>\n",
       "      <th>geometry</th>\n",
       "      <th>index_right</th>\n",
       "      <th>id</th>\n",
       "      <th>Remarques</th>\n",
       "      <th>Evolution</th>\n",
       "      <th>Date</th>\n",
       "      <th>Surface</th>\n",
       "      <th>Categorie</th>\n",
       "      <th>Barrage</th>\n",
       "      <th>NAME</th>\n",
       "      <th>ID_2_2</th>\n",
       "      <th>INSEE</th>\n",
       "      <th>NOM</th>\n",
       "      <th>ID_1</th>\n",
       "      <th>ID_3</th>\n",
       "    </tr>\n",
       "  </thead>\n",
       "  <tbody>\n",
       "    <tr>\n",
       "      <th>0</th>\n",
       "      <td>1984</td>\n",
       "      <td>POLYGON ((6.24635 44.87732, 6.24679 44.87732, ...</td>\n",
       "      <td>34</td>\n",
       "      <td>30</td>\n",
       "      <td>GL</td>\n",
       "      <td>SG</td>\n",
       "      <td>2021</td>\n",
       "      <td>76019</td>\n",
       "      <td>P</td>\n",
       "      <td>None</td>\n",
       "      <td>None</td>\n",
       "      <td>NaN</td>\n",
       "      <td>None</td>\n",
       "      <td>None</td>\n",
       "      <td>30.0</td>\n",
       "      <td>NaN</td>\n",
       "    </tr>\n",
       "    <tr>\n",
       "      <th>1</th>\n",
       "      <td>1984</td>\n",
       "      <td>POLYGON ((7.11008 45.27779, 7.11008 45.27725, ...</td>\n",
       "      <td>303</td>\n",
       "      <td>198</td>\n",
       "      <td>GL</td>\n",
       "      <td>SG</td>\n",
       "      <td>2022</td>\n",
       "      <td>8034</td>\n",
       "      <td>P</td>\n",
       "      <td>None</td>\n",
       "      <td>None</td>\n",
       "      <td>NaN</td>\n",
       "      <td>None</td>\n",
       "      <td>None</td>\n",
       "      <td>198.0</td>\n",
       "      <td>NaN</td>\n",
       "    </tr>\n",
       "    <tr>\n",
       "      <th>2</th>\n",
       "      <td>1984</td>\n",
       "      <td>POLYGON ((6.84634 45.13522, 6.84635 45.13521, ...</td>\n",
       "      <td>342</td>\n",
       "      <td>1611</td>\n",
       "      <td>None</td>\n",
       "      <td>NL</td>\n",
       "      <td>2022</td>\n",
       "      <td>1941</td>\n",
       "      <td>P</td>\n",
       "      <td>None</td>\n",
       "      <td>None</td>\n",
       "      <td>NaN</td>\n",
       "      <td>None</td>\n",
       "      <td>None</td>\n",
       "      <td>NaN</td>\n",
       "      <td>1611.0</td>\n",
       "    </tr>\n",
       "    <tr>\n",
       "      <th>3</th>\n",
       "      <td>1984</td>\n",
       "      <td>POLYGON ((6.91092 45.41873, 6.91092 45.41846, ...</td>\n",
       "      <td>389</td>\n",
       "      <td>249</td>\n",
       "      <td>None</td>\n",
       "      <td>SG</td>\n",
       "      <td>2022</td>\n",
       "      <td>20737</td>\n",
       "      <td>None</td>\n",
       "      <td>None</td>\n",
       "      <td>None</td>\n",
       "      <td>NaN</td>\n",
       "      <td>None</td>\n",
       "      <td>None</td>\n",
       "      <td>249.0</td>\n",
       "      <td>NaN</td>\n",
       "    </tr>\n",
       "    <tr>\n",
       "      <th>4</th>\n",
       "      <td>1984</td>\n",
       "      <td>POLYGON ((6.11995 45.14061, 6.11995 45.14059, ...</td>\n",
       "      <td>100</td>\n",
       "      <td>37</td>\n",
       "      <td>GL</td>\n",
       "      <td>SG</td>\n",
       "      <td>2021</td>\n",
       "      <td>89556</td>\n",
       "      <td>P</td>\n",
       "      <td>None</td>\n",
       "      <td>None</td>\n",
       "      <td>NaN</td>\n",
       "      <td>None</td>\n",
       "      <td>None</td>\n",
       "      <td>37.0</td>\n",
       "      <td>NaN</td>\n",
       "    </tr>\n",
       "    <tr>\n",
       "      <th>...</th>\n",
       "      <td>...</td>\n",
       "      <td>...</td>\n",
       "      <td>...</td>\n",
       "      <td>...</td>\n",
       "      <td>...</td>\n",
       "      <td>...</td>\n",
       "      <td>...</td>\n",
       "      <td>...</td>\n",
       "      <td>...</td>\n",
       "      <td>...</td>\n",
       "      <td>...</td>\n",
       "      <td>...</td>\n",
       "      <td>...</td>\n",
       "      <td>...</td>\n",
       "      <td>...</td>\n",
       "      <td>...</td>\n",
       "    </tr>\n",
       "    <tr>\n",
       "      <th>2861</th>\n",
       "      <td>2024</td>\n",
       "      <td>POLYGON ((7.11018 45.26377, 7.11021 45.26376, ...</td>\n",
       "      <td>283</td>\n",
       "      <td>196</td>\n",
       "      <td>GL</td>\n",
       "      <td>V</td>\n",
       "      <td>2022</td>\n",
       "      <td>13967</td>\n",
       "      <td>P</td>\n",
       "      <td>None</td>\n",
       "      <td>None</td>\n",
       "      <td>196.0</td>\n",
       "      <td>73040</td>\n",
       "      <td>Bessans</td>\n",
       "      <td>196.0</td>\n",
       "      <td>NaN</td>\n",
       "    </tr>\n",
       "    <tr>\n",
       "      <th>2861</th>\n",
       "      <td>2024</td>\n",
       "      <td>POLYGON ((7.11018 45.26377, 7.11021 45.26376, ...</td>\n",
       "      <td>282</td>\n",
       "      <td>195</td>\n",
       "      <td>GL</td>\n",
       "      <td>V</td>\n",
       "      <td>2022</td>\n",
       "      <td>13967</td>\n",
       "      <td>P</td>\n",
       "      <td>None</td>\n",
       "      <td>None</td>\n",
       "      <td>195.0</td>\n",
       "      <td>73040</td>\n",
       "      <td>Bessans</td>\n",
       "      <td>195.0</td>\n",
       "      <td>NaN</td>\n",
       "    </tr>\n",
       "    <tr>\n",
       "      <th>2862</th>\n",
       "      <td>2024</td>\n",
       "      <td>POLYGON ((6.97257 45.5842, 6.97256 45.58415, 6...</td>\n",
       "      <td>662</td>\n",
       "      <td>366</td>\n",
       "      <td>None</td>\n",
       "      <td>SG</td>\n",
       "      <td>2022</td>\n",
       "      <td>3196</td>\n",
       "      <td>P</td>\n",
       "      <td>None</td>\n",
       "      <td>None</td>\n",
       "      <td>NaN</td>\n",
       "      <td>None</td>\n",
       "      <td>None</td>\n",
       "      <td>366.0</td>\n",
       "      <td>NaN</td>\n",
       "    </tr>\n",
       "    <tr>\n",
       "      <th>2863</th>\n",
       "      <td>2024</td>\n",
       "      <td>POLYGON ((7.06628 45.21365, 7.06642 45.21353, ...</td>\n",
       "      <td>275</td>\n",
       "      <td>1482</td>\n",
       "      <td>GL</td>\n",
       "      <td>NL</td>\n",
       "      <td>2022</td>\n",
       "      <td>4728</td>\n",
       "      <td>P</td>\n",
       "      <td>None</td>\n",
       "      <td>None</td>\n",
       "      <td>NaN</td>\n",
       "      <td>None</td>\n",
       "      <td>None</td>\n",
       "      <td>NaN</td>\n",
       "      <td>1482.0</td>\n",
       "    </tr>\n",
       "    <tr>\n",
       "      <th>2864</th>\n",
       "      <td>2024</td>\n",
       "      <td>POLYGON ((6.97856 45.98871, 6.9786 45.98874, 6...</td>\n",
       "      <td>665</td>\n",
       "      <td>2253</td>\n",
       "      <td>GL</td>\n",
       "      <td>NL</td>\n",
       "      <td>2022</td>\n",
       "      <td>1130</td>\n",
       "      <td>P</td>\n",
       "      <td>None</td>\n",
       "      <td>None</td>\n",
       "      <td>NaN</td>\n",
       "      <td>None</td>\n",
       "      <td>None</td>\n",
       "      <td>NaN</td>\n",
       "      <td>2253.0</td>\n",
       "    </tr>\n",
       "  </tbody>\n",
       "</table>\n",
       "<p>2986 rows × 16 columns</p>\n",
       "</div>"
      ],
      "text/plain": [
       "      year                                           geometry  index_right  \\\n",
       "0     1984  POLYGON ((6.24635 44.87732, 6.24679 44.87732, ...           34   \n",
       "1     1984  POLYGON ((7.11008 45.27779, 7.11008 45.27725, ...          303   \n",
       "2     1984  POLYGON ((6.84634 45.13522, 6.84635 45.13521, ...          342   \n",
       "3     1984  POLYGON ((6.91092 45.41873, 6.91092 45.41846, ...          389   \n",
       "4     1984  POLYGON ((6.11995 45.14061, 6.11995 45.14059, ...          100   \n",
       "...    ...                                                ...          ...   \n",
       "2861  2024  POLYGON ((7.11018 45.26377, 7.11021 45.26376, ...          283   \n",
       "2861  2024  POLYGON ((7.11018 45.26377, 7.11021 45.26376, ...          282   \n",
       "2862  2024  POLYGON ((6.97257 45.5842, 6.97256 45.58415, 6...          662   \n",
       "2863  2024  POLYGON ((7.06628 45.21365, 7.06642 45.21353, ...          275   \n",
       "2864  2024  POLYGON ((6.97856 45.98871, 6.9786 45.98874, 6...          665   \n",
       "\n",
       "        id Remarques Evolution  Date  Surface Categorie Barrage  NAME  ID_2_2  \\\n",
       "0       30        GL        SG  2021    76019         P    None  None     NaN   \n",
       "1      198        GL        SG  2022     8034         P    None  None     NaN   \n",
       "2     1611      None        NL  2022     1941         P    None  None     NaN   \n",
       "3      249      None        SG  2022    20737      None    None  None     NaN   \n",
       "4       37        GL        SG  2021    89556         P    None  None     NaN   \n",
       "...    ...       ...       ...   ...      ...       ...     ...   ...     ...   \n",
       "2861   196        GL         V  2022    13967         P    None  None   196.0   \n",
       "2861   195        GL         V  2022    13967         P    None  None   195.0   \n",
       "2862   366      None        SG  2022     3196         P    None  None     NaN   \n",
       "2863  1482        GL        NL  2022     4728         P    None  None     NaN   \n",
       "2864  2253        GL        NL  2022     1130         P    None  None     NaN   \n",
       "\n",
       "      INSEE      NOM   ID_1    ID_3  \n",
       "0      None     None   30.0     NaN  \n",
       "1      None     None  198.0     NaN  \n",
       "2      None     None    NaN  1611.0  \n",
       "3      None     None  249.0     NaN  \n",
       "4      None     None   37.0     NaN  \n",
       "...     ...      ...    ...     ...  \n",
       "2861  73040  Bessans  196.0     NaN  \n",
       "2861  73040  Bessans  195.0     NaN  \n",
       "2862   None     None  366.0     NaN  \n",
       "2863   None     None    NaN  1482.0  \n",
       "2864   None     None    NaN  2253.0  \n",
       "\n",
       "[2986 rows x 16 columns]"
      ]
     },
     "execution_count": 116,
     "metadata": {},
     "output_type": "execute_result"
    }
   ],
   "source": [
    "join_lake_unfilt"
   ]
  },
  {
   "cell_type": "code",
   "execution_count": 117,
   "id": "58e1cd91-e1f1-41fc-8651-e49e21a2f2bd",
   "metadata": {},
   "outputs": [
    {
     "data": {
      "text/html": [
       "\n",
       "            <style>\n",
       "                .geemap-dark {\n",
       "                    --jp-widgets-color: white;\n",
       "                    --jp-widgets-label-color: white;\n",
       "                    --jp-ui-font-color1: white;\n",
       "                    --jp-layout-color2: #454545;\n",
       "                    background-color: #383838;\n",
       "                }\n",
       "\n",
       "                .geemap-dark .jupyter-button {\n",
       "                    --jp-layout-color3: #383838;\n",
       "                }\n",
       "\n",
       "                .geemap-colab {\n",
       "                    background-color: var(--colab-primary-surface-color, white);\n",
       "                }\n",
       "\n",
       "                .geemap-colab .jupyter-button {\n",
       "                    --jp-layout-color3: var(--colab-primary-surface-color, white);\n",
       "                }\n",
       "            </style>\n",
       "            "
      ],
      "text/plain": [
       "<IPython.core.display.HTML object>"
      ]
     },
     "metadata": {},
     "output_type": "display_data"
    }
   ],
   "source": [
    "lake_def_clean_not_filtered_ided=lake_def_clean_not_filtered_to_id.copy()\n",
    "lake_def_clean_not_filtered_ided.loc[join_lake_unfilt.index, 'lake_id'] =join_lake_unfilt['id'].values"
   ]
  },
  {
   "cell_type": "code",
   "execution_count": 118,
   "id": "34f35a93-c6b1-4623-a1e3-27adabff8650",
   "metadata": {},
   "outputs": [
    {
     "data": {
      "text/html": [
       "\n",
       "            <style>\n",
       "                .geemap-dark {\n",
       "                    --jp-widgets-color: white;\n",
       "                    --jp-widgets-label-color: white;\n",
       "                    --jp-ui-font-color1: white;\n",
       "                    --jp-layout-color2: #454545;\n",
       "                    background-color: #383838;\n",
       "                }\n",
       "\n",
       "                .geemap-dark .jupyter-button {\n",
       "                    --jp-layout-color3: #383838;\n",
       "                }\n",
       "\n",
       "                .geemap-colab {\n",
       "                    background-color: var(--colab-primary-surface-color, white);\n",
       "                }\n",
       "\n",
       "                .geemap-colab .jupyter-button {\n",
       "                    --jp-layout-color3: var(--colab-primary-surface-color, white);\n",
       "                }\n",
       "            </style>\n",
       "            "
      ],
      "text/plain": [
       "<IPython.core.display.HTML object>"
      ]
     },
     "metadata": {},
     "output_type": "display_data"
    },
    {
     "data": {
      "text/html": [
       "<div>\n",
       "<style scoped>\n",
       "    .dataframe tbody tr th:only-of-type {\n",
       "        vertical-align: middle;\n",
       "    }\n",
       "\n",
       "    .dataframe tbody tr th {\n",
       "        vertical-align: top;\n",
       "    }\n",
       "\n",
       "    .dataframe thead th {\n",
       "        text-align: right;\n",
       "    }\n",
       "</style>\n",
       "<table border=\"1\" class=\"dataframe\">\n",
       "  <thead>\n",
       "    <tr style=\"text-align: right;\">\n",
       "      <th></th>\n",
       "      <th>year</th>\n",
       "      <th>geometry</th>\n",
       "      <th>lake_id</th>\n",
       "    </tr>\n",
       "  </thead>\n",
       "  <tbody>\n",
       "    <tr>\n",
       "      <th>0</th>\n",
       "      <td>1984</td>\n",
       "      <td>POLYGON ((6.24635 44.87732, 6.24679 44.87732, ...</td>\n",
       "      <td>30.0</td>\n",
       "    </tr>\n",
       "    <tr>\n",
       "      <th>1</th>\n",
       "      <td>1984</td>\n",
       "      <td>POLYGON ((7.11008 45.27779, 7.11008 45.27725, ...</td>\n",
       "      <td>198.0</td>\n",
       "    </tr>\n",
       "    <tr>\n",
       "      <th>2</th>\n",
       "      <td>1984</td>\n",
       "      <td>POLYGON ((6.84634 45.13522, 6.84635 45.13521, ...</td>\n",
       "      <td>1611.0</td>\n",
       "    </tr>\n",
       "    <tr>\n",
       "      <th>3</th>\n",
       "      <td>1984</td>\n",
       "      <td>POLYGON ((6.91092 45.41873, 6.91092 45.41846, ...</td>\n",
       "      <td>249.0</td>\n",
       "    </tr>\n",
       "    <tr>\n",
       "      <th>4</th>\n",
       "      <td>1984</td>\n",
       "      <td>POLYGON ((6.11995 45.14061, 6.11995 45.14059, ...</td>\n",
       "      <td>37.0</td>\n",
       "    </tr>\n",
       "    <tr>\n",
       "      <th>...</th>\n",
       "      <td>...</td>\n",
       "      <td>...</td>\n",
       "      <td>...</td>\n",
       "    </tr>\n",
       "    <tr>\n",
       "      <th>2860</th>\n",
       "      <td>2024</td>\n",
       "      <td>POLYGON ((6.9142 45.39798, 6.91425 45.39792, 6...</td>\n",
       "      <td>248.0</td>\n",
       "    </tr>\n",
       "    <tr>\n",
       "      <th>2861</th>\n",
       "      <td>2024</td>\n",
       "      <td>POLYGON ((7.11018 45.26377, 7.11021 45.26376, ...</td>\n",
       "      <td>195.0</td>\n",
       "    </tr>\n",
       "    <tr>\n",
       "      <th>2862</th>\n",
       "      <td>2024</td>\n",
       "      <td>POLYGON ((6.97257 45.5842, 6.97256 45.58415, 6...</td>\n",
       "      <td>366.0</td>\n",
       "    </tr>\n",
       "    <tr>\n",
       "      <th>2863</th>\n",
       "      <td>2024</td>\n",
       "      <td>POLYGON ((7.06628 45.21365, 7.06642 45.21353, ...</td>\n",
       "      <td>1482.0</td>\n",
       "    </tr>\n",
       "    <tr>\n",
       "      <th>2864</th>\n",
       "      <td>2024</td>\n",
       "      <td>POLYGON ((6.97856 45.98871, 6.9786 45.98874, 6...</td>\n",
       "      <td>2253.0</td>\n",
       "    </tr>\n",
       "  </tbody>\n",
       "</table>\n",
       "<p>2865 rows × 3 columns</p>\n",
       "</div>"
      ],
      "text/plain": [
       "      year                                           geometry  lake_id\n",
       "0     1984  POLYGON ((6.24635 44.87732, 6.24679 44.87732, ...     30.0\n",
       "1     1984  POLYGON ((7.11008 45.27779, 7.11008 45.27725, ...    198.0\n",
       "2     1984  POLYGON ((6.84634 45.13522, 6.84635 45.13521, ...   1611.0\n",
       "3     1984  POLYGON ((6.91092 45.41873, 6.91092 45.41846, ...    249.0\n",
       "4     1984  POLYGON ((6.11995 45.14061, 6.11995 45.14059, ...     37.0\n",
       "...    ...                                                ...      ...\n",
       "2860  2024  POLYGON ((6.9142 45.39798, 6.91425 45.39792, 6...    248.0\n",
       "2861  2024  POLYGON ((7.11018 45.26377, 7.11021 45.26376, ...    195.0\n",
       "2862  2024  POLYGON ((6.97257 45.5842, 6.97256 45.58415, 6...    366.0\n",
       "2863  2024  POLYGON ((7.06628 45.21365, 7.06642 45.21353, ...   1482.0\n",
       "2864  2024  POLYGON ((6.97856 45.98871, 6.9786 45.98874, 6...   2253.0\n",
       "\n",
       "[2865 rows x 3 columns]"
      ]
     },
     "execution_count": 118,
     "metadata": {},
     "output_type": "execute_result"
    }
   ],
   "source": [
    "lake_def_clean_not_filtered_ided"
   ]
  },
  {
   "cell_type": "code",
   "execution_count": 119,
   "id": "3612262a-c872-4d9e-9839-cd05d02f6313",
   "metadata": {},
   "outputs": [
    {
     "data": {
      "text/html": [
       "\n",
       "            <style>\n",
       "                .geemap-dark {\n",
       "                    --jp-widgets-color: white;\n",
       "                    --jp-widgets-label-color: white;\n",
       "                    --jp-ui-font-color1: white;\n",
       "                    --jp-layout-color2: #454545;\n",
       "                    background-color: #383838;\n",
       "                }\n",
       "\n",
       "                .geemap-dark .jupyter-button {\n",
       "                    --jp-layout-color3: #383838;\n",
       "                }\n",
       "\n",
       "                .geemap-colab {\n",
       "                    background-color: var(--colab-primary-surface-color, white);\n",
       "                }\n",
       "\n",
       "                .geemap-colab .jupyter-button {\n",
       "                    --jp-layout-color3: var(--colab-primary-surface-color, white);\n",
       "                }\n",
       "            </style>\n",
       "            "
      ],
      "text/plain": [
       "<IPython.core.display.HTML object>"
      ]
     },
     "metadata": {},
     "output_type": "display_data"
    }
   ],
   "source": [
    "lake_def_clean_not_filtered_ided.to_file('C:/Users/ronir/Desktop/Google_Earth_Engine/Vdef/Vectors_filtered/lake_def_clean_not_filtered_with_id.shp')"
   ]
  },
  {
   "cell_type": "markdown",
   "id": "163be8c7-2c75-427f-9d23-de6331b6385e",
   "metadata": {
    "jp-MarkdownHeadingCollapsed": true
   },
   "source": [
    "---------------------------------"
   ]
  },
  {
   "cell_type": "markdown",
   "id": "9ca40d34-b27f-4da8-b456-a61408ecc861",
   "metadata": {},
   "source": [
    "---------------------------------"
   ]
  }
 ],
 "metadata": {
  "kernelspec": {
   "display_name": "Python 3 (ipykernel)",
   "language": "python",
   "name": "python3"
  },
  "language_info": {
   "codemirror_mode": {
    "name": "ipython",
    "version": 3
   },
   "file_extension": ".py",
   "mimetype": "text/x-python",
   "name": "python",
   "nbconvert_exporter": "python",
   "pygments_lexer": "ipython3",
   "version": "3.11.11"
  }
 },
 "nbformat": 4,
 "nbformat_minor": 5
}
