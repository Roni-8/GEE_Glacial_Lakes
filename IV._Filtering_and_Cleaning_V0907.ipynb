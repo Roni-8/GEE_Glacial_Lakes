{
 "cells": [
  {
   "cell_type": "code",
   "execution_count": 1,
   "id": "b565cadc-2712-4e84-b53b-aad8e07371d1",
   "metadata": {},
   "outputs": [],
   "source": [
    "from pyce import raster as pyraster \n",
    "from pyce import shape as pyshape\n",
    "import pyce"
   ]
  },
  {
   "cell_type": "code",
   "execution_count": 2,
   "id": "830412ed-b6c7-4790-86ea-69f9f4f1627b",
   "metadata": {},
   "outputs": [],
   "source": [
    "import ee, geemap, eemont\n",
    "import rioxarray\n",
    "import geopandas as gpd\n",
    "from geopandas import GeoSeries as Gs\n",
    "import pandas as pd\n",
    "import os\n",
    "\n",
    "import folium"
   ]
  },
  {
   "cell_type": "code",
   "execution_count": 3,
   "id": "f5eed1d3-a9ee-4070-b23a-ea63eb2ba13e",
   "metadata": {},
   "outputs": [
    {
     "data": {
      "text/html": [
       "\n",
       "            <style>\n",
       "                .geemap-dark {\n",
       "                    --jp-widgets-color: white;\n",
       "                    --jp-widgets-label-color: white;\n",
       "                    --jp-ui-font-color1: white;\n",
       "                    --jp-layout-color2: #454545;\n",
       "                    background-color: #383838;\n",
       "                }\n",
       "\n",
       "                .geemap-dark .jupyter-button {\n",
       "                    --jp-layout-color3: #383838;\n",
       "                }\n",
       "\n",
       "                .geemap-colab {\n",
       "                    background-color: var(--colab-primary-surface-color, white);\n",
       "                }\n",
       "\n",
       "                .geemap-colab .jupyter-button {\n",
       "                    --jp-layout-color3: var(--colab-primary-surface-color, white);\n",
       "                }\n",
       "            </style>\n",
       "            "
      ],
      "text/plain": [
       "<IPython.core.display.HTML object>"
      ]
     },
     "metadata": {},
     "output_type": "display_data"
    }
   ],
   "source": [
    "ee.Authenticate()\n",
    "ee.Initialize()"
   ]
  },
  {
   "cell_type": "markdown",
   "id": "1f778736-b222-4f14-a716-03256bbb5608",
   "metadata": {},
   "source": [
    "-----------------------------------------"
   ]
  },
  {
   "cell_type": "markdown",
   "id": "ba3aece1-d488-4fad-a5da-23e4e4e83d63",
   "metadata": {},
   "source": [
    "RGI "
   ]
  },
  {
   "cell_type": "code",
   "execution_count": 21,
   "id": "a66fcb75-0584-4799-bf81-507db1949dc4",
   "metadata": {},
   "outputs": [
    {
     "data": {
      "text/html": [
       "\n",
       "            <style>\n",
       "                .geemap-dark {\n",
       "                    --jp-widgets-color: white;\n",
       "                    --jp-widgets-label-color: white;\n",
       "                    --jp-ui-font-color1: white;\n",
       "                    --jp-layout-color2: #454545;\n",
       "                    background-color: #383838;\n",
       "                }\n",
       "\n",
       "                .geemap-dark .jupyter-button {\n",
       "                    --jp-layout-color3: #383838;\n",
       "                }\n",
       "\n",
       "                .geemap-colab {\n",
       "                    background-color: var(--colab-primary-surface-color, white);\n",
       "                }\n",
       "\n",
       "                .geemap-colab .jupyter-button {\n",
       "                    --jp-layout-color3: var(--colab-primary-surface-color, white);\n",
       "                }\n",
       "            </style>\n",
       "            "
      ],
      "text/plain": [
       "<IPython.core.display.HTML object>"
      ]
     },
     "metadata": {},
     "output_type": "display_data"
    }
   ],
   "source": [
    "# FC\n",
    "# Europe RGI Boundaries\n",
    "geom_RGI_2000=ee.FeatureCollection('projects/sat-io/open-datasets/RGI/RGI_VECTOR_MERGED_V7')\n",
    "geom_RGI_2015=ee.FeatureCollection('users/aguerou/ice_and_life/carto_h1b/lia_shp/c3s_gi_rgi11_s2_2015_v2')\n",
    "# FR\n",
    "RGI_2000_FR = ee.FeatureCollection('projects/ee-roniritzganem/assets/EU_GL/RGI_FR/RGI_2000_FR')\n",
    "RGI_2015_FR = ee.FeatureCollection('projects/ee-roniritzganem/assets/EU_GL/RGI_FR/RGI_2015_FR')"
   ]
  },
  {
   "cell_type": "code",
   "execution_count": 22,
   "id": "920468ed-c490-480c-80e1-f1241895decf",
   "metadata": {},
   "outputs": [
    {
     "data": {
      "text/html": [
       "\n",
       "            <style>\n",
       "                .geemap-dark {\n",
       "                    --jp-widgets-color: white;\n",
       "                    --jp-widgets-label-color: white;\n",
       "                    --jp-ui-font-color1: white;\n",
       "                    --jp-layout-color2: #454545;\n",
       "                    background-color: #383838;\n",
       "                }\n",
       "\n",
       "                .geemap-dark .jupyter-button {\n",
       "                    --jp-layout-color3: #383838;\n",
       "                }\n",
       "\n",
       "                .geemap-colab {\n",
       "                    background-color: var(--colab-primary-surface-color, white);\n",
       "                }\n",
       "\n",
       "                .geemap-colab .jupyter-button {\n",
       "                    --jp-layout-color3: var(--colab-primary-surface-color, white);\n",
       "                }\n",
       "            </style>\n",
       "            "
      ],
      "text/plain": [
       "<IPython.core.display.HTML object>"
      ]
     },
     "metadata": {},
     "output_type": "display_data"
    }
   ],
   "source": [
    "# GDF\n",
    "def fc_to_gdf(fc):\n",
    "    return ee.data.computeFeatures({\n",
    "        'expression': fc,\n",
    "        'fileFormat': 'GEOPANDAS_GEODATAFRAME'\n",
    "    })\n",
    "\n",
    "gdf_geom_RGI_2000 = fc_to_gdf(geom_RGI_2000)\n",
    "gdf_geom_RGI_2015 = fc_to_gdf(geom_RGI_2015)\n",
    "gdf_RGI_2000_FR = fc_to_gdf(RGI_2000_FR)\n",
    "gdf_RGI_2015_FR = fc_to_gdf(RGI_2015_FR)\n"
   ]
  },
  {
   "cell_type": "code",
   "execution_count": null,
   "id": "5cb4aaa8-945b-46a7-baa3-fc652f661d72",
   "metadata": {},
   "outputs": [],
   "source": [
    "gdf_RGI_2015_FR"
   ]
  },
  {
   "cell_type": "markdown",
   "id": "1b376593-b006-42cd-b3eb-ccdd5af00bd7",
   "metadata": {},
   "source": [
    "ts and geometry import"
   ]
  },
  {
   "cell_type": "code",
   "execution_count": 4,
   "id": "b7b6fcba-8fd4-4d0e-baeb-1080b6d89583",
   "metadata": {},
   "outputs": [
    {
     "data": {
      "text/html": [
       "\n",
       "            <style>\n",
       "                .geemap-dark {\n",
       "                    --jp-widgets-color: white;\n",
       "                    --jp-widgets-label-color: white;\n",
       "                    --jp-ui-font-color1: white;\n",
       "                    --jp-layout-color2: #454545;\n",
       "                    background-color: #383838;\n",
       "                }\n",
       "\n",
       "                .geemap-dark .jupyter-button {\n",
       "                    --jp-layout-color3: #383838;\n",
       "                }\n",
       "\n",
       "                .geemap-colab {\n",
       "                    background-color: var(--colab-primary-surface-color, white);\n",
       "                }\n",
       "\n",
       "                .geemap-colab .jupyter-button {\n",
       "                    --jp-layout-color3: var(--colab-primary-surface-color, white);\n",
       "                }\n",
       "            </style>\n",
       "            "
      ],
      "text/plain": [
       "<IPython.core.display.HTML object>"
      ]
     },
     "metadata": {},
     "output_type": "display_data"
    },
    {
     "ename": "RasterioIOError",
     "evalue": "C:/Users/ronir/Desktop/Google_Earth_Engine/Export/Vectorisation_V1/GLACIER_1985.tif: No such file or directory",
     "output_type": "error",
     "traceback": [
      "\u001b[31m---------------------------------------------------------------------------\u001b[39m",
      "\u001b[31mKeyError\u001b[39m                                  Traceback (most recent call last)",
      "\u001b[36mFile \u001b[39m\u001b[32m~\\anaconda3\\envs\\gee\\Lib\\site-packages\\xarray\\backends\\file_manager.py:211\u001b[39m, in \u001b[36mCachingFileManager._acquire_with_cache_info\u001b[39m\u001b[34m(self, needs_lock)\u001b[39m\n\u001b[32m    210\u001b[39m \u001b[38;5;28;01mtry\u001b[39;00m:\n\u001b[32m--> \u001b[39m\u001b[32m211\u001b[39m     file = \u001b[38;5;28;43mself\u001b[39;49m\u001b[43m.\u001b[49m\u001b[43m_cache\u001b[49m\u001b[43m[\u001b[49m\u001b[38;5;28;43mself\u001b[39;49m\u001b[43m.\u001b[49m\u001b[43m_key\u001b[49m\u001b[43m]\u001b[49m\n\u001b[32m    212\u001b[39m \u001b[38;5;28;01mexcept\u001b[39;00m \u001b[38;5;167;01mKeyError\u001b[39;00m:\n",
      "\u001b[36mFile \u001b[39m\u001b[32m~\\anaconda3\\envs\\gee\\Lib\\site-packages\\xarray\\backends\\lru_cache.py:56\u001b[39m, in \u001b[36mLRUCache.__getitem__\u001b[39m\u001b[34m(self, key)\u001b[39m\n\u001b[32m     55\u001b[39m \u001b[38;5;28;01mwith\u001b[39;00m \u001b[38;5;28mself\u001b[39m._lock:\n\u001b[32m---> \u001b[39m\u001b[32m56\u001b[39m     value = \u001b[38;5;28;43mself\u001b[39;49m\u001b[43m.\u001b[49m\u001b[43m_cache\u001b[49m\u001b[43m[\u001b[49m\u001b[43mkey\u001b[49m\u001b[43m]\u001b[49m\n\u001b[32m     57\u001b[39m     \u001b[38;5;28mself\u001b[39m._cache.move_to_end(key)\n",
      "\u001b[31mKeyError\u001b[39m: [<function open at 0x000001B1D87E39C0>, ('C:/Users/ronir/Desktop/Google_Earth_Engine/Export/Vectorisation_V1/GLACIER_1985.tif',), 'r', (('sharing', False),), '1247a3b6-81ca-48ba-b06c-49b8ebf745ea']",
      "\nDuring handling of the above exception, another exception occurred:\n",
      "\u001b[31mCPLE_OpenFailedError\u001b[39m                      Traceback (most recent call last)",
      "\u001b[36mFile \u001b[39m\u001b[32mrasterio\\\\_base.pyx:310\u001b[39m, in \u001b[36mrasterio._base.DatasetBase.__init__\u001b[39m\u001b[34m()\u001b[39m\n",
      "\u001b[36mFile \u001b[39m\u001b[32mrasterio\\\\_base.pyx:221\u001b[39m, in \u001b[36mrasterio._base.open_dataset\u001b[39m\u001b[34m()\u001b[39m\n",
      "\u001b[36mFile \u001b[39m\u001b[32mrasterio\\\\_err.pyx:359\u001b[39m, in \u001b[36mrasterio._err.exc_wrap_pointer\u001b[39m\u001b[34m()\u001b[39m\n",
      "\u001b[31mCPLE_OpenFailedError\u001b[39m: C:/Users/ronir/Desktop/Google_Earth_Engine/Export/Vectorisation_V1/GLACIER_1985.tif: No such file or directory",
      "\nDuring handling of the above exception, another exception occurred:\n",
      "\u001b[31mRasterioIOError\u001b[39m                           Traceback (most recent call last)",
      "\u001b[36mCell\u001b[39m\u001b[36m \u001b[39m\u001b[32mIn[4]\u001b[39m\u001b[32m, line 5\u001b[39m\n\u001b[32m      2\u001b[39m folder = \u001b[33m\"\u001b[39m\u001b[33mC:/Users/ronir/Desktop/Google_Earth_Engine/Export/Vectorisation_V1\u001b[39m\u001b[33m\"\u001b[39m\n\u001b[32m      4\u001b[39m \u001b[38;5;66;03m# Charger tous les rasters de 1984 à 2024\u001b[39;00m\n\u001b[32m----> \u001b[39m\u001b[32m5\u001b[39m glacier_raster = \u001b[43m{\u001b[49m\n\u001b[32m      6\u001b[39m \u001b[43m    \u001b[49m\u001b[43myear\u001b[49m\u001b[43m:\u001b[49m\u001b[43m \u001b[49m\u001b[43mrioxarray\u001b[49m\u001b[43m.\u001b[49m\u001b[43mopen_rasterio\u001b[49m\u001b[43m(\u001b[49m\u001b[33;43mf\u001b[39;49m\u001b[33;43m\"\u001b[39;49m\u001b[38;5;132;43;01m{\u001b[39;49;00m\u001b[43mfolder\u001b[49m\u001b[38;5;132;43;01m}\u001b[39;49;00m\u001b[33;43m/GLACIER_\u001b[39;49m\u001b[38;5;132;43;01m{\u001b[39;49;00m\u001b[43myear\u001b[49m\u001b[38;5;132;43;01m}\u001b[39;49;00m\u001b[33;43m.tif\u001b[39;49m\u001b[33;43m\"\u001b[39;49m\u001b[43m)\u001b[49m\n\u001b[32m      7\u001b[39m \u001b[43m    \u001b[49m\u001b[38;5;28;43;01mfor\u001b[39;49;00m\u001b[43m \u001b[49m\u001b[43myear\u001b[49m\u001b[43m \u001b[49m\u001b[38;5;129;43;01min\u001b[39;49;00m\u001b[43m \u001b[49m\u001b[38;5;28;43mrange\u001b[39;49m\u001b[43m(\u001b[49m\u001b[32;43m1985\u001b[39;49m\u001b[43m,\u001b[49m\u001b[43m \u001b[49m\u001b[32;43m2025\u001b[39;49m\u001b[43m)\u001b[49m\u001b[43m \u001b[49m\n\u001b[32m      8\u001b[39m \u001b[43m}\u001b[49m\n",
      "\u001b[36mCell\u001b[39m\u001b[36m \u001b[39m\u001b[32mIn[4]\u001b[39m\u001b[32m, line 6\u001b[39m, in \u001b[36m<dictcomp>\u001b[39m\u001b[34m(.0)\u001b[39m\n\u001b[32m      2\u001b[39m folder = \u001b[33m\"\u001b[39m\u001b[33mC:/Users/ronir/Desktop/Google_Earth_Engine/Export/Vectorisation_V1\u001b[39m\u001b[33m\"\u001b[39m\n\u001b[32m      4\u001b[39m \u001b[38;5;66;03m# Charger tous les rasters de 1984 à 2024\u001b[39;00m\n\u001b[32m      5\u001b[39m glacier_raster = {\n\u001b[32m----> \u001b[39m\u001b[32m6\u001b[39m     year: \u001b[43mrioxarray\u001b[49m\u001b[43m.\u001b[49m\u001b[43mopen_rasterio\u001b[49m\u001b[43m(\u001b[49m\u001b[33;43mf\u001b[39;49m\u001b[33;43m\"\u001b[39;49m\u001b[38;5;132;43;01m{\u001b[39;49;00m\u001b[43mfolder\u001b[49m\u001b[38;5;132;43;01m}\u001b[39;49;00m\u001b[33;43m/GLACIER_\u001b[39;49m\u001b[38;5;132;43;01m{\u001b[39;49;00m\u001b[43myear\u001b[49m\u001b[38;5;132;43;01m}\u001b[39;49;00m\u001b[33;43m.tif\u001b[39;49m\u001b[33;43m\"\u001b[39;49m\u001b[43m)\u001b[49m\n\u001b[32m      7\u001b[39m     \u001b[38;5;28;01mfor\u001b[39;00m year \u001b[38;5;129;01min\u001b[39;00m \u001b[38;5;28mrange\u001b[39m(\u001b[32m1985\u001b[39m, \u001b[32m2025\u001b[39m) \n\u001b[32m      8\u001b[39m }\n",
      "\u001b[36mFile \u001b[39m\u001b[32m~\\anaconda3\\envs\\gee\\Lib\\site-packages\\rioxarray\\_io.py:1135\u001b[39m, in \u001b[36mopen_rasterio\u001b[39m\u001b[34m(filename, parse_coordinates, chunks, cache, lock, masked, mask_and_scale, variable, group, default_name, decode_times, decode_timedelta, band_as_variable, **open_kwargs)\u001b[39m\n\u001b[32m   1133\u001b[39m     \u001b[38;5;28;01melse\u001b[39;00m:\n\u001b[32m   1134\u001b[39m         manager = URIManager(file_opener, filename, mode=\u001b[33m\"\u001b[39m\u001b[33mr\u001b[39m\u001b[33m\"\u001b[39m, kwargs=open_kwargs)\n\u001b[32m-> \u001b[39m\u001b[32m1135\u001b[39m     riods = \u001b[43mmanager\u001b[49m\u001b[43m.\u001b[49m\u001b[43macquire\u001b[49m\u001b[43m(\u001b[49m\u001b[43m)\u001b[49m\n\u001b[32m   1136\u001b[39m     captured_warnings = rio_warnings.copy()\n\u001b[32m   1138\u001b[39m \u001b[38;5;66;03m# raise the NotGeoreferencedWarning if applicable\u001b[39;00m\n",
      "\u001b[36mFile \u001b[39m\u001b[32m~\\anaconda3\\envs\\gee\\Lib\\site-packages\\xarray\\backends\\file_manager.py:193\u001b[39m, in \u001b[36mCachingFileManager.acquire\u001b[39m\u001b[34m(self, needs_lock)\u001b[39m\n\u001b[32m    178\u001b[39m \u001b[38;5;28;01mdef\u001b[39;00m\u001b[38;5;250m \u001b[39m\u001b[34macquire\u001b[39m(\u001b[38;5;28mself\u001b[39m, needs_lock=\u001b[38;5;28;01mTrue\u001b[39;00m):\n\u001b[32m    179\u001b[39m \u001b[38;5;250m    \u001b[39m\u001b[33;03m\"\"\"Acquire a file object from the manager.\u001b[39;00m\n\u001b[32m    180\u001b[39m \n\u001b[32m    181\u001b[39m \u001b[33;03m    A new file is only opened if it has expired from the\u001b[39;00m\n\u001b[32m   (...)\u001b[39m\u001b[32m    191\u001b[39m \u001b[33;03m        An open file object, as returned by ``opener(*args, **kwargs)``.\u001b[39;00m\n\u001b[32m    192\u001b[39m \u001b[33;03m    \"\"\"\u001b[39;00m\n\u001b[32m--> \u001b[39m\u001b[32m193\u001b[39m     file, _ = \u001b[38;5;28;43mself\u001b[39;49m\u001b[43m.\u001b[49m\u001b[43m_acquire_with_cache_info\u001b[49m\u001b[43m(\u001b[49m\u001b[43mneeds_lock\u001b[49m\u001b[43m)\u001b[49m\n\u001b[32m    194\u001b[39m     \u001b[38;5;28;01mreturn\u001b[39;00m file\n",
      "\u001b[36mFile \u001b[39m\u001b[32m~\\anaconda3\\envs\\gee\\Lib\\site-packages\\xarray\\backends\\file_manager.py:217\u001b[39m, in \u001b[36mCachingFileManager._acquire_with_cache_info\u001b[39m\u001b[34m(self, needs_lock)\u001b[39m\n\u001b[32m    215\u001b[39m     kwargs = kwargs.copy()\n\u001b[32m    216\u001b[39m     kwargs[\u001b[33m\"\u001b[39m\u001b[33mmode\u001b[39m\u001b[33m\"\u001b[39m] = \u001b[38;5;28mself\u001b[39m._mode\n\u001b[32m--> \u001b[39m\u001b[32m217\u001b[39m file = \u001b[38;5;28;43mself\u001b[39;49m\u001b[43m.\u001b[49m\u001b[43m_opener\u001b[49m\u001b[43m(\u001b[49m\u001b[43m*\u001b[49m\u001b[38;5;28;43mself\u001b[39;49m\u001b[43m.\u001b[49m\u001b[43m_args\u001b[49m\u001b[43m,\u001b[49m\u001b[43m \u001b[49m\u001b[43m*\u001b[49m\u001b[43m*\u001b[49m\u001b[43mkwargs\u001b[49m\u001b[43m)\u001b[49m\n\u001b[32m    218\u001b[39m \u001b[38;5;28;01mif\u001b[39;00m \u001b[38;5;28mself\u001b[39m._mode == \u001b[33m\"\u001b[39m\u001b[33mw\u001b[39m\u001b[33m\"\u001b[39m:\n\u001b[32m    219\u001b[39m     \u001b[38;5;66;03m# ensure file doesn't get overridden when opened again\u001b[39;00m\n\u001b[32m    220\u001b[39m     \u001b[38;5;28mself\u001b[39m._mode = \u001b[33m\"\u001b[39m\u001b[33ma\u001b[39m\u001b[33m\"\u001b[39m\n",
      "\u001b[36mFile \u001b[39m\u001b[32m~\\anaconda3\\envs\\gee\\Lib\\site-packages\\rasterio\\env.py:463\u001b[39m, in \u001b[36mensure_env_with_credentials.<locals>.wrapper\u001b[39m\u001b[34m(*args, **kwds)\u001b[39m\n\u001b[32m    460\u001b[39m     session = DummySession()\n\u001b[32m    462\u001b[39m \u001b[38;5;28;01mwith\u001b[39;00m env_ctor(session=session):\n\u001b[32m--> \u001b[39m\u001b[32m463\u001b[39m     \u001b[38;5;28;01mreturn\u001b[39;00m \u001b[43mf\u001b[49m\u001b[43m(\u001b[49m\u001b[43m*\u001b[49m\u001b[43margs\u001b[49m\u001b[43m,\u001b[49m\u001b[43m \u001b[49m\u001b[43m*\u001b[49m\u001b[43m*\u001b[49m\u001b[43mkwds\u001b[49m\u001b[43m)\u001b[49m\n",
      "\u001b[36mFile \u001b[39m\u001b[32m~\\anaconda3\\envs\\gee\\Lib\\site-packages\\rasterio\\__init__.py:356\u001b[39m, in \u001b[36mopen\u001b[39m\u001b[34m(fp, mode, driver, width, height, count, crs, transform, dtype, nodata, sharing, opener, **kwargs)\u001b[39m\n\u001b[32m    353\u001b[39m     path = _parse_path(raw_dataset_path)\n\u001b[32m    355\u001b[39m \u001b[38;5;28;01mif\u001b[39;00m mode == \u001b[33m\"\u001b[39m\u001b[33mr\u001b[39m\u001b[33m\"\u001b[39m:\n\u001b[32m--> \u001b[39m\u001b[32m356\u001b[39m     dataset = \u001b[43mDatasetReader\u001b[49m\u001b[43m(\u001b[49m\u001b[43mpath\u001b[49m\u001b[43m,\u001b[49m\u001b[43m \u001b[49m\u001b[43mdriver\u001b[49m\u001b[43m=\u001b[49m\u001b[43mdriver\u001b[49m\u001b[43m,\u001b[49m\u001b[43m \u001b[49m\u001b[43msharing\u001b[49m\u001b[43m=\u001b[49m\u001b[43msharing\u001b[49m\u001b[43m,\u001b[49m\u001b[43m \u001b[49m\u001b[43m*\u001b[49m\u001b[43m*\u001b[49m\u001b[43mkwargs\u001b[49m\u001b[43m)\u001b[49m\n\u001b[32m    357\u001b[39m \u001b[38;5;28;01melif\u001b[39;00m mode == \u001b[33m\"\u001b[39m\u001b[33mr+\u001b[39m\u001b[33m\"\u001b[39m:\n\u001b[32m    358\u001b[39m     dataset = get_writer_for_path(path, driver=driver)(\n\u001b[32m    359\u001b[39m         path, mode, driver=driver, sharing=sharing, **kwargs\n\u001b[32m    360\u001b[39m     )\n",
      "\u001b[36mFile \u001b[39m\u001b[32mrasterio\\\\_base.pyx:312\u001b[39m, in \u001b[36mrasterio._base.DatasetBase.__init__\u001b[39m\u001b[34m()\u001b[39m\n",
      "\u001b[31mRasterioIOError\u001b[39m: C:/Users/ronir/Desktop/Google_Earth_Engine/Export/Vectorisation_V1/GLACIER_1985.tif: No such file or directory"
     ]
    }
   ],
   "source": [
    "# path to local folder glacier\n",
    "folder = \"C:/Users/ronir/Desktop/Google_Earth_Engine/Export/Vectorisation_V1\"\n",
    "\n",
    "glacier_raster = {\n",
    "    year: rioxarray.open_rasterio(f\"{folder}/GLACIER_{year}.tif\")\n",
    "    for year in range(1985, 2025) \n",
    "}"
   ]
  },
  {
   "cell_type": "code",
   "execution_count": null,
   "id": "e24699e8-9f8c-48b0-9b71-6f4f90e321f0",
   "metadata": {},
   "outputs": [],
   "source": [
    "# path to local folder water\n",
    "folder = \"C:/Users/ronir/Desktop/Google_Earth_Engine/Export/Vectorisation_V1\"\n",
    "\n",
    "\n",
    "water_rasters = {\n",
    "    year: rioxarray.open_rasterio(f\"{folder}/WATER_{year}.tif\")\n",
    "    for year in range(1985, 2025)\n",
    "}\n"
   ]
  },
  {
   "cell_type": "code",
   "execution_count": null,
   "id": "c494afef-95b8-41c8-a0ad-1fad27003e46",
   "metadata": {},
   "outputs": [],
   "source": [
    "EU_lia = '' # add LIA"
   ]
  },
  {
   "cell_type": "code",
   "execution_count": 10,
   "id": "e147f53d-a4cd-4d2f-ba9c-b00396b812f3",
   "metadata": {},
   "outputs": [
    {
     "data": {
      "text/html": [
       "\n",
       "            <style>\n",
       "                .geemap-dark {\n",
       "                    --jp-widgets-color: white;\n",
       "                    --jp-widgets-label-color: white;\n",
       "                    --jp-ui-font-color1: white;\n",
       "                    --jp-layout-color2: #454545;\n",
       "                    background-color: #383838;\n",
       "                }\n",
       "\n",
       "                .geemap-dark .jupyter-button {\n",
       "                    --jp-layout-color3: #383838;\n",
       "                }\n",
       "\n",
       "                .geemap-colab {\n",
       "                    background-color: var(--colab-primary-surface-color, white);\n",
       "                }\n",
       "\n",
       "                .geemap-colab .jupyter-button {\n",
       "                    --jp-layout-color3: var(--colab-primary-surface-color, white);\n",
       "                }\n",
       "            </style>\n",
       "            "
      ],
      "text/plain": [
       "<IPython.core.display.HTML object>"
      ]
     },
     "metadata": {},
     "output_type": "display_data"
    }
   ],
   "source": [
    "gdf_lia_vdef=gpd.read_file(\"C:/Users/ronir/Desktop/Stage_Carrtel_2025/QGIS/Shape LIA/transfer_9869808_files_c7ca226a/Glaciers_1850_final_mourey2025.shp\")"
   ]
  },
  {
   "cell_type": "markdown",
   "id": "24ec1aea-ef42-436f-882d-1e74f1a2c658",
   "metadata": {},
   "source": [
    "-----------------------------------------"
   ]
  },
  {
   "cell_type": "markdown",
   "id": "9bbf26c7-ca10-4dd2-bf95-957752e76d91",
   "metadata": {},
   "source": [
    "# FUNCTIONS "
   ]
  },
  {
   "cell_type": "code",
   "execution_count": 9,
   "id": "18247887-48ed-4218-868c-5a95719dccdc",
   "metadata": {},
   "outputs": [
    {
     "data": {
      "text/html": [
       "\n",
       "            <style>\n",
       "                .geemap-dark {\n",
       "                    --jp-widgets-color: white;\n",
       "                    --jp-widgets-label-color: white;\n",
       "                    --jp-ui-font-color1: white;\n",
       "                    --jp-layout-color2: #454545;\n",
       "                    background-color: #383838;\n",
       "                }\n",
       "\n",
       "                .geemap-dark .jupyter-button {\n",
       "                    --jp-layout-color3: #383838;\n",
       "                }\n",
       "\n",
       "                .geemap-colab {\n",
       "                    background-color: var(--colab-primary-surface-color, white);\n",
       "                }\n",
       "\n",
       "                .geemap-colab .jupyter-button {\n",
       "                    --jp-layout-color3: var(--colab-primary-surface-color, white);\n",
       "                }\n",
       "            </style>\n",
       "            "
      ],
      "text/plain": [
       "<IPython.core.display.HTML object>"
      ]
     },
     "metadata": {},
     "output_type": "display_data"
    }
   ],
   "source": [
    "def add_year_column(gdf, year):\n",
    "    \"\"\"\n",
    "    Ajoute une colonne 'année' à un GeoDataFrame, remplie avec une année spécifique.\n",
    "    \n",
    "    Args:\n",
    "        gdf (geopandas.GeoDataFrame): Le GeoDataFrame d'entrée.\n",
    "        year (int): L'année à ajouter dans la nouvelle colonne 'année'.\n",
    "        \n",
    "    Returns:\n",
    "        geopandas.GeoDataFrame: Le GeoDataFrame avec la colonne 'année' ajoutée.\n",
    "    \"\"\"\n",
    "    gdf['year'] = year\n",
    "    return gdf"
   ]
  },
  {
   "cell_type": "code",
   "execution_count": 19,
   "id": "1836f132-ce9e-4949-b3cf-37c2de8e56c8",
   "metadata": {},
   "outputs": [
    {
     "data": {
      "text/html": [
       "\n",
       "            <style>\n",
       "                .geemap-dark {\n",
       "                    --jp-widgets-color: white;\n",
       "                    --jp-widgets-label-color: white;\n",
       "                    --jp-ui-font-color1: white;\n",
       "                    --jp-layout-color2: #454545;\n",
       "                    background-color: #383838;\n",
       "                }\n",
       "\n",
       "                .geemap-dark .jupyter-button {\n",
       "                    --jp-layout-color3: #383838;\n",
       "                }\n",
       "\n",
       "                .geemap-colab {\n",
       "                    background-color: var(--colab-primary-surface-color, white);\n",
       "                }\n",
       "\n",
       "                .geemap-colab .jupyter-button {\n",
       "                    --jp-layout-color3: var(--colab-primary-surface-color, white);\n",
       "                }\n",
       "            </style>\n",
       "            "
      ],
      "text/plain": [
       "<IPython.core.display.HTML object>"
      ]
     },
     "metadata": {},
     "output_type": "display_data"
    }
   ],
   "source": [
    "def multi_raster_to_gdf(rasters,tresh_value):\n",
    "    \"\"\"\n",
    "    Polygonise plusieurs couches raster (par année) et retourne un GeoDataFrame concaténé.\n",
    "    \n",
    "    Paramètres:\n",
    "        rasters (xarray.Dataset): Dataset avec une variable par année (nommée par année ou identifiant temporel).\n",
    "    \n",
    "    Retour:\n",
    "        GeoDataFrame: géométries polygonisées concaténées avec colonne 'year'.\n",
    "    \"\"\"\n",
    "    gdf_list = []\n",
    "\n",
    "    for year_str, raster in rasters.items():\n",
    "        # Convertir l'identifiant en année (assume que c’est un str représentant l’année, sinon adapter)\n",
    "        year = int(str(year_str))\n",
    "\n",
    "        # Polygonisation\n",
    "        shape = pyraster.polygonize_raster(\n",
    "            raster,\n",
    "            mask=(raster == tresh_value),\n",
    "            transform=raster.rio.transform()\n",
    "        )\n",
    "\n",
    "        # GeoDataFrame + ajout de la colonne année\n",
    "        gdf = gpd.GeoDataFrame(\n",
    "            geometry=[shape],\n",
    "            crs=raster.rio.crs\n",
    "        ).explode(ignore_index=True)\n",
    "        gdf[\"year\"] = year\n",
    "\n",
    "        gdf_list.append(gdf)\n",
    "\n",
    "    # Concaténer tous les GeoDataFrames\n",
    "    gdf_all = pd.concat(gdf_list, ignore_index=True)\n",
    "\n",
    "    return gdf_all"
   ]
  },
  {
   "cell_type": "code",
   "execution_count": 11,
   "id": "3b40ee5c-30b0-4939-83d6-0e6b296e4306",
   "metadata": {},
   "outputs": [
    {
     "data": {
      "text/html": [
       "\n",
       "            <style>\n",
       "                .geemap-dark {\n",
       "                    --jp-widgets-color: white;\n",
       "                    --jp-widgets-label-color: white;\n",
       "                    --jp-ui-font-color1: white;\n",
       "                    --jp-layout-color2: #454545;\n",
       "                    background-color: #383838;\n",
       "                }\n",
       "\n",
       "                .geemap-dark .jupyter-button {\n",
       "                    --jp-layout-color3: #383838;\n",
       "                }\n",
       "\n",
       "                .geemap-colab {\n",
       "                    background-color: var(--colab-primary-surface-color, white);\n",
       "                }\n",
       "\n",
       "                .geemap-colab .jupyter-button {\n",
       "                    --jp-layout-color3: var(--colab-primary-surface-color, white);\n",
       "                }\n",
       "            </style>\n",
       "            "
      ],
      "text/plain": [
       "<IPython.core.display.HTML object>"
      ]
     },
     "metadata": {},
     "output_type": "display_data"
    }
   ],
   "source": [
    "def filter_water_by_glacier_gpd(water_to_filter, glacier_to_filter):\n",
    "    \"\"\"\n",
    "    Filtre les géométries des eaux à l'intérieur et à l'extérieur des glaciers sur plusieurs années,\n",
    "    et retourne deux GeoDataFrames concaténés avec une colonne 'year'.\n",
    "\n",
    "    Args:\n",
    "        water_to_filter (dict[int, geopandas.GeoDataFrame]): GeoDataFrames d'eau par année.\n",
    "        glacier_to_filter (dict[int, geopandas.GeoDataFrame]): GeoDataFrames de glaciers par année.\n",
    "\n",
    "    Returns:\n",
    "        tuple:\n",
    "            - GeoDataFrame des eaux dans les glaciers (avec colonne 'year')\n",
    "            - GeoDataFrame des eaux hors glaciers (avec colonne 'year')\n",
    "    \"\"\"\n",
    "    water_in_list = []\n",
    "    water_out_list = []\n",
    "\n",
    "    for year in range(1984, 2025):\n",
    "        \n",
    "        gdf_water = water_to_filter[water_to_filter[\"year\"]==year]\n",
    "        gdf_glacier = glacier_to_filter[glacier_to_filter[\"year\"]==year]\n",
    "\n",
    "        # Calculer les géométries à l'intérieur des glaciers\n",
    "        gdf_in = gdf_water.sjoin(gdf_glacier, how='inner', predicate='within')\n",
    "\n",
    "        #Calculer celles en dehors des glaciers\n",
    "        gdf_out = gdf_water.loc[~gdf_water.index.isin(gdf_in.index)]\n",
    "\n",
    "        water_in_list.append(gdf_in)\n",
    "        water_out_list.append(gdf_out)\n",
    "\n",
    "    # Concaténer tous les résultats en deux GeoDataFrames\n",
    "    water_in_glacier = pd.concat(water_in_list, ignore_index=True)\n",
    "    water_outside = pd.concat(water_out_list, ignore_index=True)\n",
    "\n",
    "    return water_in_glacier, water_outside"
   ]
  },
  {
   "cell_type": "code",
   "execution_count": 12,
   "id": "a86004ba-55eb-43f1-8227-751f58137c87",
   "metadata": {},
   "outputs": [
    {
     "data": {
      "text/html": [
       "\n",
       "            <style>\n",
       "                .geemap-dark {\n",
       "                    --jp-widgets-color: white;\n",
       "                    --jp-widgets-label-color: white;\n",
       "                    --jp-ui-font-color1: white;\n",
       "                    --jp-layout-color2: #454545;\n",
       "                    background-color: #383838;\n",
       "                }\n",
       "\n",
       "                .geemap-dark .jupyter-button {\n",
       "                    --jp-layout-color3: #383838;\n",
       "                }\n",
       "\n",
       "                .geemap-colab {\n",
       "                    background-color: var(--colab-primary-surface-color, white);\n",
       "                }\n",
       "\n",
       "                .geemap-colab .jupyter-button {\n",
       "                    --jp-layout-color3: var(--colab-primary-surface-color, white);\n",
       "                }\n",
       "            </style>\n",
       "            "
      ],
      "text/plain": [
       "<IPython.core.display.HTML object>"
      ]
     },
     "metadata": {},
     "output_type": "display_data"
    }
   ],
   "source": [
    "def exclude_water_inside_geometry(water_gdf,geom):\n",
    "    \"\"\"\n",
    "    Exclut les polygones de water_gdf entièrement contenus dans geometry.\n",
    "    \"\"\"\n",
    "    water_in_list = []\n",
    "    water_out_list = []\n",
    "       \n",
    "    water_in_geom = water_gdf.sjoin(geom, how='inner', predicate='within')\n",
    "    water_outside_geom = water_gdf.loc[~water_gdf.index.isin(water_in_geom.index)]\n",
    "\n",
    "    water_in_list.append(water_in_geom)\n",
    "    water_out_list.append(water_outside_geom )\n",
    "\n",
    "    water_in_geom_pd = pd.concat(water_in_list, ignore_index=True)\n",
    "    water_outside_geom_pd = pd.concat(water_out_list, ignore_index=True)\n",
    "\n",
    "    return  water_outside_geom_pd\n",
    "    "
   ]
  },
  {
   "cell_type": "code",
   "execution_count": 13,
   "id": "381c285f-2360-44a9-a2ff-b9ef795391ac",
   "metadata": {},
   "outputs": [
    {
     "data": {
      "text/html": [
       "\n",
       "            <style>\n",
       "                .geemap-dark {\n",
       "                    --jp-widgets-color: white;\n",
       "                    --jp-widgets-label-color: white;\n",
       "                    --jp-ui-font-color1: white;\n",
       "                    --jp-layout-color2: #454545;\n",
       "                    background-color: #383838;\n",
       "                }\n",
       "\n",
       "                .geemap-dark .jupyter-button {\n",
       "                    --jp-layout-color3: #383838;\n",
       "                }\n",
       "\n",
       "                .geemap-colab {\n",
       "                    background-color: var(--colab-primary-surface-color, white);\n",
       "                }\n",
       "\n",
       "                .geemap-colab .jupyter-button {\n",
       "                    --jp-layout-color3: var(--colab-primary-surface-color, white);\n",
       "                }\n",
       "            </style>\n",
       "            "
      ],
      "text/plain": [
       "<IPython.core.display.HTML object>"
      ]
     },
     "metadata": {},
     "output_type": "display_data"
    }
   ],
   "source": [
    "def exclude_inside_RGI_water(gdf, rgi_gdf,year_rgi):\n",
    "    \"\"\"\n",
    "    Exclut les polygones de water_gdf entièrement contenus dans rgi_gdf\n",
    "    uniquement si leur année est inférieure ou égale à celle du RGI.\n",
    "    \n",
    "    Args:\n",
    "        water_gdf (GeoDataFrame): GeoDataFrame des plans d'eau avec une colonne 'année'.\n",
    "        rgi_gdf (GeoDataFrame): GeoDataFrame des glaciers avec une colonne 'année'.\n",
    "\n",
    "    Returns:\n",
    "        GeoDataFrame: GeoDataFrame des plans d'eau filtré.\n",
    "    \"\"\"\n",
    "    water_in_rgi_list=[]\n",
    "    water_outside_RGI_list=[]\n",
    "    \n",
    "    for year in range(1984, year_rgi+1):\n",
    "\n",
    "        gdf_to_filter = gdf[gdf[\"year\"]==year]\n",
    "        \n",
    "        # Jointure spatiale\n",
    "        gdf_in = gdf_to_filter.sjoin(rgi_gdf, how='inner', predicate='within')\n",
    "        gdf_out = gdf_to_filter.loc[~gdf_to_filter.index.isin(gdf_in.index)]\n",
    "\n",
    "        water_outside_RGI_list.append(gdf_out)\n",
    "        water_outside_RGI = pd.concat(water_outside_RGI_list, ignore_index=True)\n",
    "        \n",
    "    return  water_outside_RGI\n",
    "    "
   ]
  },
  {
   "cell_type": "code",
   "execution_count": 14,
   "id": "98e57885-6041-45eb-a311-294a1a1a41f0",
   "metadata": {},
   "outputs": [
    {
     "data": {
      "text/html": [
       "\n",
       "            <style>\n",
       "                .geemap-dark {\n",
       "                    --jp-widgets-color: white;\n",
       "                    --jp-widgets-label-color: white;\n",
       "                    --jp-ui-font-color1: white;\n",
       "                    --jp-layout-color2: #454545;\n",
       "                    background-color: #383838;\n",
       "                }\n",
       "\n",
       "                .geemap-dark .jupyter-button {\n",
       "                    --jp-layout-color3: #383838;\n",
       "                }\n",
       "\n",
       "                .geemap-colab {\n",
       "                    background-color: var(--colab-primary-surface-color, white);\n",
       "                }\n",
       "\n",
       "                .geemap-colab .jupyter-button {\n",
       "                    --jp-layout-color3: var(--colab-primary-surface-color, white);\n",
       "                }\n",
       "            </style>\n",
       "            "
      ],
      "text/plain": [
       "<IPython.core.display.HTML object>"
      ]
     },
     "metadata": {},
     "output_type": "display_data"
    }
   ],
   "source": [
    "def exclude_outside_RGI_glacier(gdf, rgi_gdf,year_rgi):\n",
    "    \"\"\"\n",
    "    Exclut les polygones de glacier_gdf entièrement non contenus dans rgi_gdf\n",
    "    uniquement si leur année est inférieure ou égale à celle du RGI.\n",
    "    \n",
    "    Args:\n",
    "        glacier_gdf (GeoDataFrame): GeoDataFrame des plans d'eau avec une colonne 'année'.\n",
    "        rgi_gdf (GeoDataFrame): GeoDataFrame des glaciers avec une colonne 'année'.\n",
    "\n",
    "    Returns:\n",
    "        GeoDataFrame: GeoDataFrame des plans d'eau filtré.\n",
    "    \"\"\"\n",
    "    glacier_inside_rgi_list=[]\n",
    "    glacier_outside_rgi_list=[]\n",
    "    \n",
    "    for year in range(1984, year_rgi+1):\n",
    "\n",
    "        gdf_to_filter = gdf[gdf[\"year\"]==year]\n",
    "        \n",
    "        # Jointure spatiale\n",
    "        gdf_in = gdf_to_filter.sjoin(rgi_gdf, how='inner', predicate='intersects')\n",
    "        gdf_to_conserve = gdf_to_filter.loc[gdf_to_filter.index.isin(gdf_in.index)]\n",
    "\n",
    "        glacier_inside_rgi_list.append(gdf_to_conserve)\n",
    "        glacier_inside_rgi = pd.concat(glacier_inside_rgi_list, ignore_index=True)\n",
    "        \n",
    "    return  glacier_inside_rgi\n",
    "    "
   ]
  },
  {
   "cell_type": "markdown",
   "id": "5e94b9e3-1f4a-43d8-b28f-80917b202b12",
   "metadata": {},
   "source": [
    "Test (filter 5 years)"
   ]
  },
  {
   "cell_type": "code",
   "execution_count": 15,
   "id": "50ef425d-cf41-4925-9755-a3fc4e97b6a6",
   "metadata": {},
   "outputs": [
    {
     "data": {
      "text/html": [
       "\n",
       "            <style>\n",
       "                .geemap-dark {\n",
       "                    --jp-widgets-color: white;\n",
       "                    --jp-widgets-label-color: white;\n",
       "                    --jp-ui-font-color1: white;\n",
       "                    --jp-layout-color2: #454545;\n",
       "                    background-color: #383838;\n",
       "                }\n",
       "\n",
       "                .geemap-dark .jupyter-button {\n",
       "                    --jp-layout-color3: #383838;\n",
       "                }\n",
       "\n",
       "                .geemap-colab {\n",
       "                    background-color: var(--colab-primary-surface-color, white);\n",
       "                }\n",
       "\n",
       "                .geemap-colab .jupyter-button {\n",
       "                    --jp-layout-color3: var(--colab-primary-surface-color, white);\n",
       "                }\n",
       "            </style>\n",
       "            "
      ],
      "text/plain": [
       "<IPython.core.display.HTML object>"
      ]
     },
     "metadata": {},
     "output_type": "display_data"
    }
   ],
   "source": [
    "# Filtering with 5 years\n",
    "def water_time_filtering_propre(water_gdf):\n",
    "    \"\"\"\n",
    "    Filtre les polygones d'eau pour ne conserver que ceux qui s'intersectent \n",
    "    sur plusieurs années **futures** consécutives (croissant), de 1984 à 2024.\n",
    "\n",
    "    - 1984 à 2020 : intersection sur 5 années (année, +1, +2, +3, +4)\n",
    "    - 2021 : intersection sur 4 années (année, +1, +2, +3)\n",
    "    - 2022 : intersection sur 3 années (année, +1, +2)\n",
    "    - 2023 : intersection sur 2 années (année, +1)\n",
    "    - 2024 : utilisée seule (aucun test)\n",
    "    \"\"\"\n",
    "    start_year=1984\n",
    "    end_year=2024\n",
    "    years = range(start_year, end_year+1)\n",
    "    gdf_time_filtered_list = []\n",
    "\n",
    "    for year in years:\n",
    "        # Nombre d'années à considérer\n",
    "        dy = min(5, end_year - year + 1)\n",
    "       \n",
    "        gdf_base = water_gdf[water_gdf['year'] == year]\n",
    "        gdf_future = water_gdf[(water_gdf['year'] > year) & (water_gdf['year'] <= year + dy)]\n",
    "\n",
    "        if dy == 1:\n",
    "            # Cas 1984, on garde tout\n",
    "            filtered = gdf_base\n",
    "            gdf_time_filtered_list.append(filtered)\n",
    "        else: \n",
    "            joined = gdf_base.sjoin(gdf_future, how='inner', predicate='intersects')\n",
    "            joined['index_left'] = joined.index\n",
    "            # Années réellement intersectées dans cette plage\n",
    "            expected_years = set(gdf_future['year'].unique())\n",
    "            \n",
    "            # Pour chaque géométrie de gdf_base, collecter les années qu'elle intersecte\n",
    "            years_by_geom = joined.groupby('index_left')['year_right'].apply(set)\n",
    "\n",
    "            # Garder seulement les géométries qui intersectent toutes les années attendues\n",
    "            valid_indices = years_by_geom[years_by_geom == expected_years].index\n",
    "\n",
    "            # Filtrage\n",
    "            filtered = gdf_base.loc[gdf_base.index.isin(valid_indices)]\n",
    "            gdf_time_filtered_list.append(filtered)\n",
    "\n",
    "    gdf_time_filtered = pd.concat(gdf_time_filtered_list, ignore_index=True)\n",
    "    return gdf_time_filtered"
   ]
  },
  {
   "cell_type": "code",
   "execution_count": 17,
   "id": "3be85271-b8d1-488a-be40-296baaf65e2c",
   "metadata": {},
   "outputs": [
    {
     "data": {
      "text/html": [
       "\n",
       "            <style>\n",
       "                .geemap-dark {\n",
       "                    --jp-widgets-color: white;\n",
       "                    --jp-widgets-label-color: white;\n",
       "                    --jp-ui-font-color1: white;\n",
       "                    --jp-layout-color2: #454545;\n",
       "                    background-color: #383838;\n",
       "                }\n",
       "\n",
       "                .geemap-dark .jupyter-button {\n",
       "                    --jp-layout-color3: #383838;\n",
       "                }\n",
       "\n",
       "                .geemap-colab {\n",
       "                    background-color: var(--colab-primary-surface-color, white);\n",
       "                }\n",
       "\n",
       "                .geemap-colab .jupyter-button {\n",
       "                    --jp-layout-color3: var(--colab-primary-surface-color, white);\n",
       "                }\n",
       "            </style>\n",
       "            "
      ],
      "text/plain": [
       "<IPython.core.display.HTML object>"
      ]
     },
     "metadata": {},
     "output_type": "display_data"
    }
   ],
   "source": [
    "def glacier_time_filtering_propre(glacier_gdf):\n",
    "    \"\"\"\n",
    "    Filtre les polygones de glacier pour ne conserver que ceux qui s'intersectent \n",
    "    sur toutes les années passées consécutives (décroissant), de 2024 à 1984.\n",
    "\n",
    "    - 2024 à 1988 : intersection sur 5 années (année, -1, -2, -3, -4)\n",
    "    - 1987 : intersection sur 4 années (année, -1, -2, -3)\n",
    "    - 1986 : intersection sur 3 années (année, -1, -2)\n",
    "    - 1985 : intersection sur 2 années (année, -1)\n",
    "    - 1984 : utilisée seule (aucun test)\n",
    "    \"\"\"\n",
    "    start_year = 1985\n",
    "    end_year = 2024\n",
    "    gdf_time_filtered_list = []\n",
    "\n",
    "    for year in range(end_year, start_year - 1, -1):\n",
    "        dy = min(5, year - start_year + 1)\n",
    "\n",
    "        gdf_base = glacier_gdf[glacier_gdf['year'] == year]\n",
    "        gdf_past = glacier_gdf[(glacier_gdf['year'] < year) & (glacier_gdf['year'] >= year - dy)]\n",
    "\n",
    "        if dy == 1:\n",
    "            gdf_time_filtered_list.append(gdf_base)\n",
    "        else:\n",
    "            # Jointure spatiale\n",
    "            joined = gdf_base.sjoin(gdf_past, how='inner', predicate='intersects')\n",
    "            \n",
    "            joined['index_left'] = joined.index\n",
    "            \n",
    "            # Années réellement intersectées dans cette plage\n",
    "            expected_years = set(gdf_past['year'].unique())\n",
    "\n",
    "            # Pour chaque géométrie de gdf_base, collecter les années qu'elle intersecte\n",
    "            years_by_geom = joined.groupby('index_left')['year_right'].apply(set)\n",
    "\n",
    "            # Garder seulement les géométries qui intersectent toutes les années attendues\n",
    "            valid_indices = years_by_geom[years_by_geom == expected_years].index\n",
    "\n",
    "            # Filtrage\n",
    "            filtered = gdf_base.loc[gdf_base.index.isin(valid_indices)]\n",
    "            gdf_time_filtered_list.append(filtered)\n",
    "\n",
    "    gdf_time_filtered = pd.concat(gdf_time_filtered_list, ignore_index=True)\n",
    "    return gdf_time_filtered.sort_values(by='year', ascending=True).reset_index(drop=True)"
   ]
  },
  {
   "cell_type": "markdown",
   "id": "c7d1eba5-6721-4634-afba-6a798cae9495",
   "metadata": {},
   "source": [
    "Filtering"
   ]
  },
  {
   "cell_type": "code",
   "execution_count": 16,
   "id": "5bece5f0-ef77-4e69-88e1-df82a035dc70",
   "metadata": {},
   "outputs": [
    {
     "data": {
      "text/html": [
       "\n",
       "            <style>\n",
       "                .geemap-dark {\n",
       "                    --jp-widgets-color: white;\n",
       "                    --jp-widgets-label-color: white;\n",
       "                    --jp-ui-font-color1: white;\n",
       "                    --jp-layout-color2: #454545;\n",
       "                    background-color: #383838;\n",
       "                }\n",
       "\n",
       "                .geemap-dark .jupyter-button {\n",
       "                    --jp-layout-color3: #383838;\n",
       "                }\n",
       "\n",
       "                .geemap-colab {\n",
       "                    background-color: var(--colab-primary-surface-color, white);\n",
       "                }\n",
       "\n",
       "                .geemap-colab .jupyter-button {\n",
       "                    --jp-layout-color3: var(--colab-primary-surface-color, white);\n",
       "                }\n",
       "            </style>\n",
       "            "
      ],
      "text/plain": [
       "<IPython.core.display.HTML object>"
      ]
     },
     "metadata": {},
     "output_type": "display_data"
    }
   ],
   "source": [
    "# Each polygone has to be detected 80% of the years since its first detection\n",
    "# Efficace à l'échelle des alpes sans besoin de clip au lac, pollution restante en haut des domes, \n",
    "\n",
    "def water_time_filtering_propre_total(water_gdf):\n",
    "    \"\"\"\n",
    "    Filtre les polygones d'eau pour ne conserver que ceux qui s'intersectent \n",
    "    sur plusieurs années **futures** consécutives (croissant), de 1984 à 2024.\n",
    "\n",
    "    - 1984 à 2020 : intersection sur 5 années (année, +1, +2, +3, +4)\n",
    "    - 2021 : intersection sur 4 années (année, +1, +2, +3)\n",
    "    - 2022 : intersection sur 3 années (année, +1, +2)\n",
    "    - 2023 : intersection sur 2 années (année, +1)\n",
    "    - 2024 : utilisée seule (aucun test)\n",
    "    \"\"\"\n",
    "    end_year=2024\n",
    "    start_year=1984\n",
    "    years = range(start_year, end_year+1)\n",
    "    gdf_time_filtered_list = []\n",
    "\n",
    "    for year in years:\n",
    "        # Nombre d'années à considérer\n",
    "        dy = end_year - year + 1\n",
    "       \n",
    "        gdf_base = water_gdf[water_gdf['year'] == year]\n",
    "        gdf_future = water_gdf[(water_gdf['year'] > year) & (water_gdf['year'] <= year + dy)]\n",
    "\n",
    "        if dy == 1:\n",
    "            # Cas 1984, on garde tout\n",
    "            filtered = gdf_base\n",
    "            gdf_time_filtered_list.append(filtered)\n",
    "        else: \n",
    "            joined = gdf_base.sjoin(gdf_future, how='inner', predicate='intersects')\n",
    "            joined['index_left'] = joined.index\n",
    "            # Années réellement intersectées dans cette plage\n",
    "            expected_years = set(gdf_future['year'].unique())\n",
    "\n",
    "            # Pour chaque géométrie de gdf_base, collecter les années qu'elle intersecte\n",
    "            years_by_geom = joined.groupby('index_left')['year_right'].apply(set)\n",
    "\n",
    "            # Garder seulement les géométries qui intersectent toutes les années attendues\n",
    "            valid_indices = years_by_geom[years_by_geom.apply(lambda years: len(years) >= 0.8 * len(expected_years))].index\n",
    "\n",
    "            # Filtrage\n",
    "            filtered = gdf_base.loc[gdf_base.index.isin(valid_indices)]\n",
    "            gdf_time_filtered_list.append(filtered)\n",
    "\n",
    "    gdf_time_filtered = pd.concat(gdf_time_filtered_list, ignore_index=True)\n",
    "    return gdf_time_filtered"
   ]
  },
  {
   "cell_type": "code",
   "execution_count": 18,
   "id": "d32ee730-1394-4389-9281-762d0eab119b",
   "metadata": {},
   "outputs": [
    {
     "data": {
      "text/html": [
       "\n",
       "            <style>\n",
       "                .geemap-dark {\n",
       "                    --jp-widgets-color: white;\n",
       "                    --jp-widgets-label-color: white;\n",
       "                    --jp-ui-font-color1: white;\n",
       "                    --jp-layout-color2: #454545;\n",
       "                    background-color: #383838;\n",
       "                }\n",
       "\n",
       "                .geemap-dark .jupyter-button {\n",
       "                    --jp-layout-color3: #383838;\n",
       "                }\n",
       "\n",
       "                .geemap-colab {\n",
       "                    background-color: var(--colab-primary-surface-color, white);\n",
       "                }\n",
       "\n",
       "                .geemap-colab .jupyter-button {\n",
       "                    --jp-layout-color3: var(--colab-primary-surface-color, white);\n",
       "                }\n",
       "            </style>\n",
       "            "
      ],
      "text/plain": [
       "<IPython.core.display.HTML object>"
      ]
     },
     "metadata": {},
     "output_type": "display_data"
    }
   ],
   "source": [
    "def glacier_time_filtering_propre_total(glacier_gdf):\n",
    "    \"\"\"\n",
    "    Filtre les polygones de glacier pour ne conserver que ceux qui s'intersectent \n",
    "    sur toutes les années passées consécutives (décroissant), de 2024 à 1984.\n",
    "\n",
    "    - 2024 à 1988 : intersection sur 5 années (année, -1, -2, -3, -4)\n",
    "    - 1987 : intersection sur 4 années (année, -1, -2, -3)\n",
    "    - 1986 : intersection sur 3 années (année, -1, -2)\n",
    "    - 1985 : intersection sur 2 années (année, -1)\n",
    "    - 1984 : utilisée seule (aucun test)\n",
    "    \"\"\"\n",
    "    start_year = 1985\n",
    "    end_year = 2024\n",
    "    gdf_time_filtered_list = []\n",
    "\n",
    "    for year in range(end_year, start_year - 1, -1):\n",
    "        dy =  year - start_year + 1\n",
    "\n",
    "        gdf_base = glacier_gdf[glacier_gdf['year'] == year]\n",
    "        gdf_past = glacier_gdf[(glacier_gdf['year'] < year) & (glacier_gdf['year'] >= year - dy)]\n",
    "\n",
    "        if dy == 1:\n",
    "            gdf_time_filtered_list.append(gdf_base)\n",
    "        else:\n",
    "            # Jointure spatiale\n",
    "            joined = gdf_base.sjoin(gdf_past, how='inner', predicate='intersects')\n",
    "            joined['index_left'] = joined.index\n",
    "            # Années réellement intersectées dans cette plage\n",
    "            expected_years = set(gdf_past['year'].unique())\n",
    "\n",
    "            # Pour chaque géométrie de gdf_base, collecter les années qu'elle intersecte\n",
    "            years_by_geom = joined.groupby('index_left')['year_right'].apply(set)\n",
    "\n",
    "            # Garder seulement les géométries qui intersectent toutes les années attendues\n",
    "            valid_indices = years_by_geom[years_by_geom.apply(lambda years: len(years) >= 0.8 * len(expected_years))].index\n",
    "\n",
    "            # Filtrage\n",
    "            filtered = gdf_base.loc[gdf_base.index.isin(valid_indices)]\n",
    "            gdf_time_filtered_list.append(filtered)\n",
    "\n",
    "    gdf_time_filtered = pd.concat(gdf_time_filtered_list, ignore_index=True)\n",
    "    return gdf_time_filtered.sort_values(by='year', ascending=True).reset_index(drop=True)"
   ]
  },
  {
   "cell_type": "markdown",
   "id": "fe265734-4991-471e-8f33-f50a629f1df2",
   "metadata": {},
   "source": [
    "-----------------------------------------"
   ]
  },
  {
   "cell_type": "markdown",
   "id": "422fa64a-1d72-47c9-85d8-3d9fa7682b84",
   "metadata": {},
   "source": [
    "Raster to gdf"
   ]
  },
  {
   "cell_type": "code",
   "execution_count": null,
   "id": "29743ad2-676e-401e-8603-fe7fc06ea28a",
   "metadata": {},
   "outputs": [],
   "source": [
    "gdf_glacier = multi_raster_to_gdf(glacier_raster,1)"
   ]
  },
  {
   "cell_type": "code",
   "execution_count": null,
   "id": "33fc6990-f44f-44f1-9ffd-24cc9cda811b",
   "metadata": {},
   "outputs": [],
   "source": [
    "gdf_water = multi_raster_to_gdf(water_rasters,2)"
   ]
  },
  {
   "cell_type": "markdown",
   "id": "8d5f2b11-2c0a-4496-b7aa-80b2a48be679",
   "metadata": {},
   "source": [
    "export gdf "
   ]
  },
  {
   "cell_type": "code",
   "execution_count": null,
   "id": "5ed83d55-ae46-4319-a3d8-9d43e5e657e5",
   "metadata": {},
   "outputs": [],
   "source": [
    "pathg = ''\n",
    "pathw = ''"
   ]
  },
  {
   "cell_type": "code",
   "execution_count": null,
   "id": "563f6c76-d8ec-437f-ad0a-ef311dafca6e",
   "metadata": {},
   "outputs": [],
   "source": [
    "gdf_water.to_file(pathg)\n",
    "gdf_glacier.to_file(pathw)"
   ]
  },
  {
   "cell_type": "markdown",
   "id": "0879bc62-d3b0-4bbe-b201-9a92581c5f97",
   "metadata": {},
   "source": [
    " importing polygonized shp"
   ]
  },
  {
   "cell_type": "code",
   "execution_count": 26,
   "id": "e97a3ce2-88c5-49ec-b1e3-90c0549eef8e",
   "metadata": {},
   "outputs": [
    {
     "data": {
      "text/html": [
       "\n",
       "            <style>\n",
       "                .geemap-dark {\n",
       "                    --jp-widgets-color: white;\n",
       "                    --jp-widgets-label-color: white;\n",
       "                    --jp-ui-font-color1: white;\n",
       "                    --jp-layout-color2: #454545;\n",
       "                    background-color: #383838;\n",
       "                }\n",
       "\n",
       "                .geemap-dark .jupyter-button {\n",
       "                    --jp-layout-color3: #383838;\n",
       "                }\n",
       "\n",
       "                .geemap-colab {\n",
       "                    background-color: var(--colab-primary-surface-color, white);\n",
       "                }\n",
       "\n",
       "                .geemap-colab .jupyter-button {\n",
       "                    --jp-layout-color3: var(--colab-primary-surface-color, white);\n",
       "                }\n",
       "            </style>\n",
       "            "
      ],
      "text/plain": [
       "<IPython.core.display.HTML object>"
      ]
     },
     "metadata": {},
     "output_type": "display_data"
    }
   ],
   "source": [
    "gdf_glacier=gpd.read_file(pathg)"
   ]
  },
  {
   "cell_type": "code",
   "execution_count": 27,
   "id": "12f3ff8c-2fe5-4c43-a90e-eff9b69c0057",
   "metadata": {},
   "outputs": [
    {
     "data": {
      "text/html": [
       "\n",
       "            <style>\n",
       "                .geemap-dark {\n",
       "                    --jp-widgets-color: white;\n",
       "                    --jp-widgets-label-color: white;\n",
       "                    --jp-ui-font-color1: white;\n",
       "                    --jp-layout-color2: #454545;\n",
       "                    background-color: #383838;\n",
       "                }\n",
       "\n",
       "                .geemap-dark .jupyter-button {\n",
       "                    --jp-layout-color3: #383838;\n",
       "                }\n",
       "\n",
       "                .geemap-colab {\n",
       "                    background-color: var(--colab-primary-surface-color, white);\n",
       "                }\n",
       "\n",
       "                .geemap-colab .jupyter-button {\n",
       "                    --jp-layout-color3: var(--colab-primary-surface-color, white);\n",
       "                }\n",
       "            </style>\n",
       "            "
      ],
      "text/plain": [
       "<IPython.core.display.HTML object>"
      ]
     },
     "metadata": {},
     "output_type": "display_data"
    }
   ],
   "source": [
    "gdf_water=gpd.read_file(pathw)"
   ]
  },
  {
   "cell_type": "markdown",
   "id": "c4ca9eda-c545-45fa-8b2d-fcb0366abde3",
   "metadata": {},
   "source": [
    "## Adding year to rgi"
   ]
  },
  {
   "cell_type": "code",
   "execution_count": 28,
   "id": "80c7a0d8-8b1d-41ad-80ee-f8d55d9b11c6",
   "metadata": {},
   "outputs": [
    {
     "data": {
      "text/html": [
       "\n",
       "            <style>\n",
       "                .geemap-dark {\n",
       "                    --jp-widgets-color: white;\n",
       "                    --jp-widgets-label-color: white;\n",
       "                    --jp-ui-font-color1: white;\n",
       "                    --jp-layout-color2: #454545;\n",
       "                    background-color: #383838;\n",
       "                }\n",
       "\n",
       "                .geemap-dark .jupyter-button {\n",
       "                    --jp-layout-color3: #383838;\n",
       "                }\n",
       "\n",
       "                .geemap-colab {\n",
       "                    background-color: var(--colab-primary-surface-color, white);\n",
       "                }\n",
       "\n",
       "                .geemap-colab .jupyter-button {\n",
       "                    --jp-layout-color3: var(--colab-primary-surface-color, white);\n",
       "                }\n",
       "            </style>\n",
       "            "
      ],
      "text/plain": [
       "<IPython.core.display.HTML object>"
      ]
     },
     "metadata": {},
     "output_type": "display_data"
    }
   ],
   "source": [
    "gdf_geom_RGI_2000 = add_year_column(gdf_geom_RGI_2000, 2000)\n",
    "gdf_geom_RGI_2015 = add_year_column(gdf_geom_RGI_2015, 2015)\n",
    "gdf_RGI_2000_FR = add_year_column(gdf_RGI_2000_FR, 2000)\n",
    "gdf_RGI_2015_FR = add_year_column(gdf_RGI_2015_FR, 2015)"
   ]
  },
  {
   "cell_type": "markdown",
   "id": "f02537a3-0219-47ef-8345-bbf8e3a9d7dc",
   "metadata": {},
   "source": [
    "# I. FILTERING GLACIER"
   ]
  },
  {
   "cell_type": "markdown",
   "id": "3b2b43c5-fde2-461f-b43c-7a1bcb3cf36f",
   "metadata": {},
   "source": [
    "## filtering glacier outside RGI"
   ]
  },
  {
   "cell_type": "code",
   "execution_count": 29,
   "id": "7b76581b-83c7-42c2-b108-3a0d4ad3e986",
   "metadata": {},
   "outputs": [
    {
     "data": {
      "text/html": [
       "\n",
       "            <style>\n",
       "                .geemap-dark {\n",
       "                    --jp-widgets-color: white;\n",
       "                    --jp-widgets-label-color: white;\n",
       "                    --jp-ui-font-color1: white;\n",
       "                    --jp-layout-color2: #454545;\n",
       "                    background-color: #383838;\n",
       "                }\n",
       "\n",
       "                .geemap-dark .jupyter-button {\n",
       "                    --jp-layout-color3: #383838;\n",
       "                }\n",
       "\n",
       "                .geemap-colab {\n",
       "                    background-color: var(--colab-primary-surface-color, white);\n",
       "                }\n",
       "\n",
       "                .geemap-colab .jupyter-button {\n",
       "                    --jp-layout-color3: var(--colab-primary-surface-color, white);\n",
       "                }\n",
       "            </style>\n",
       "            "
      ],
      "text/plain": [
       "<IPython.core.display.HTML object>"
      ]
     },
     "metadata": {},
     "output_type": "display_data"
    }
   ],
   "source": [
    "glacier_inside_rgi_2000 = exclude_outside_RGI_glacier(gdf_glacier,gdf_geom_RGI_2000,2000)"
   ]
  },
  {
   "cell_type": "code",
   "execution_count": 30,
   "id": "8b73438a-b54b-436e-b4e9-07be8fcc360f",
   "metadata": {},
   "outputs": [
    {
     "data": {
      "text/html": [
       "\n",
       "            <style>\n",
       "                .geemap-dark {\n",
       "                    --jp-widgets-color: white;\n",
       "                    --jp-widgets-label-color: white;\n",
       "                    --jp-ui-font-color1: white;\n",
       "                    --jp-layout-color2: #454545;\n",
       "                    background-color: #383838;\n",
       "                }\n",
       "\n",
       "                .geemap-dark .jupyter-button {\n",
       "                    --jp-layout-color3: #383838;\n",
       "                }\n",
       "\n",
       "                .geemap-colab {\n",
       "                    background-color: var(--colab-primary-surface-color, white);\n",
       "                }\n",
       "\n",
       "                .geemap-colab .jupyter-button {\n",
       "                    --jp-layout-color3: var(--colab-primary-surface-color, white);\n",
       "                }\n",
       "            </style>\n",
       "            "
      ],
      "text/plain": [
       "<IPython.core.display.HTML object>"
      ]
     },
     "metadata": {},
     "output_type": "display_data"
    }
   ],
   "source": [
    "glacier_inside_rgi_2015 = exclude_outside_RGI_glacier(gdf_glacier, geom_RGI_FR_2015,2015)"
   ]
  },
  {
   "cell_type": "markdown",
   "id": "239ff26a-3ac3-4059-91ad-2e10ceb16571",
   "metadata": {},
   "source": [
    "## Merging and conserving the filtered years"
   ]
  },
  {
   "cell_type": "code",
   "execution_count": 31,
   "id": "9946b7db-2473-460a-a67e-dd629e39748a",
   "metadata": {},
   "outputs": [
    {
     "data": {
      "text/html": [
       "\n",
       "            <style>\n",
       "                .geemap-dark {\n",
       "                    --jp-widgets-color: white;\n",
       "                    --jp-widgets-label-color: white;\n",
       "                    --jp-ui-font-color1: white;\n",
       "                    --jp-layout-color2: #454545;\n",
       "                    background-color: #383838;\n",
       "                }\n",
       "\n",
       "                .geemap-dark .jupyter-button {\n",
       "                    --jp-layout-color3: #383838;\n",
       "                }\n",
       "\n",
       "                .geemap-colab {\n",
       "                    background-color: var(--colab-primary-surface-color, white);\n",
       "                }\n",
       "\n",
       "                .geemap-colab .jupyter-button {\n",
       "                    --jp-layout-color3: var(--colab-primary-surface-color, white);\n",
       "                }\n",
       "            </style>\n",
       "            "
      ],
      "text/plain": [
       "<IPython.core.display.HTML object>"
      ]
     },
     "metadata": {},
     "output_type": "display_data"
    }
   ],
   "source": [
    "glacier_filtered_RGI_merged = []\n",
    "\n",
    "# Ajout des années 1984 à 2000 depuis glacier_insidee_rgi_2000\n",
    "for year in range(1985, 2001):\n",
    "    glacier_filtered_RGI_merged.append(glacier_inside_rgi_2000[glacier_inside_rgi_2000[\"year\"]==year])\n",
    "\n",
    "# Ajout des années 2001 à 2015 depuis glacier_inside_rgi_2015\n",
    "for year in range(2001, 2016):\n",
    "    glacier_filtered_RGI_merged.append(glacier_inside_rgi_2015[glacier_inside_rgi_2015[\"year\"]==year])\n",
    "\n",
    "# Ajout des années 2016 à 2024 depuis glacier_inside\n",
    "for year in range(2016, 2025):\n",
    "    glacier_filtered_RGI_merged.append(gdf_glacier[gdf_glacier[\"year\"]==year])"
   ]
  },
  {
   "cell_type": "code",
   "execution_count": 32,
   "id": "03a18a80-2121-4080-8aaa-3a63631e4d96",
   "metadata": {},
   "outputs": [
    {
     "data": {
      "text/html": [
       "\n",
       "            <style>\n",
       "                .geemap-dark {\n",
       "                    --jp-widgets-color: white;\n",
       "                    --jp-widgets-label-color: white;\n",
       "                    --jp-ui-font-color1: white;\n",
       "                    --jp-layout-color2: #454545;\n",
       "                    background-color: #383838;\n",
       "                }\n",
       "\n",
       "                .geemap-dark .jupyter-button {\n",
       "                    --jp-layout-color3: #383838;\n",
       "                }\n",
       "\n",
       "                .geemap-colab {\n",
       "                    background-color: var(--colab-primary-surface-color, white);\n",
       "                }\n",
       "\n",
       "                .geemap-colab .jupyter-button {\n",
       "                    --jp-layout-color3: var(--colab-primary-surface-color, white);\n",
       "                }\n",
       "            </style>\n",
       "            "
      ],
      "text/plain": [
       "<IPython.core.display.HTML object>"
      ]
     },
     "metadata": {},
     "output_type": "display_data"
    }
   ],
   "source": [
    "glacier_filtered_RGI_merged_gpd=pd.concat(glacier_filtered_RGI_merged, ignore_index=True)"
   ]
  },
  {
   "cell_type": "markdown",
   "id": "5e3cab28-9f71-4527-a342-06028171b6fd",
   "metadata": {},
   "source": [
    "## Time filtering (5 years)"
   ]
  },
  {
   "cell_type": "code",
   "execution_count": 33,
   "id": "454d5789-b08d-48b1-b24e-653516cd7554",
   "metadata": {},
   "outputs": [
    {
     "data": {
      "text/html": [
       "\n",
       "            <style>\n",
       "                .geemap-dark {\n",
       "                    --jp-widgets-color: white;\n",
       "                    --jp-widgets-label-color: white;\n",
       "                    --jp-ui-font-color1: white;\n",
       "                    --jp-layout-color2: #454545;\n",
       "                    background-color: #383838;\n",
       "                }\n",
       "\n",
       "                .geemap-dark .jupyter-button {\n",
       "                    --jp-layout-color3: #383838;\n",
       "                }\n",
       "\n",
       "                .geemap-colab {\n",
       "                    background-color: var(--colab-primary-surface-color, white);\n",
       "                }\n",
       "\n",
       "                .geemap-colab .jupyter-button {\n",
       "                    --jp-layout-color3: var(--colab-primary-surface-color, white);\n",
       "                }\n",
       "            </style>\n",
       "            "
      ],
      "text/plain": [
       "<IPython.core.display.HTML object>"
      ]
     },
     "metadata": {},
     "output_type": "display_data"
    }
   ],
   "source": [
    "time_filtered_glacier_decroissant=glacier_time_filtering_propre(glacier_filtered_RGI_merged_gpd)"
   ]
  },
  {
   "cell_type": "code",
   "execution_count": 34,
   "id": "6765e032-c5bb-4f4e-adf5-65811bfe7984",
   "metadata": {},
   "outputs": [
    {
     "data": {
      "text/html": [
       "\n",
       "            <style>\n",
       "                .geemap-dark {\n",
       "                    --jp-widgets-color: white;\n",
       "                    --jp-widgets-label-color: white;\n",
       "                    --jp-ui-font-color1: white;\n",
       "                    --jp-layout-color2: #454545;\n",
       "                    background-color: #383838;\n",
       "                }\n",
       "\n",
       "                .geemap-dark .jupyter-button {\n",
       "                    --jp-layout-color3: #383838;\n",
       "                }\n",
       "\n",
       "                .geemap-colab {\n",
       "                    background-color: var(--colab-primary-surface-color, white);\n",
       "                }\n",
       "\n",
       "                .geemap-colab .jupyter-button {\n",
       "                    --jp-layout-color3: var(--colab-primary-surface-color, white);\n",
       "                }\n",
       "            </style>\n",
       "            "
      ],
      "text/plain": [
       "<IPython.core.display.HTML object>"
      ]
     },
     "metadata": {},
     "output_type": "display_data"
    }
   ],
   "source": [
    "time_filtered_glacier_propre_total=glacier_time_filtering_propre_total(glacier_filtered_RGI_merged_gpd)"
   ]
  },
  {
   "cell_type": "code",
   "execution_count": 35,
   "id": "8df69099-1f9a-4300-be93-e044768da496",
   "metadata": {},
   "outputs": [
    {
     "data": {
      "text/html": [
       "\n",
       "            <style>\n",
       "                .geemap-dark {\n",
       "                    --jp-widgets-color: white;\n",
       "                    --jp-widgets-label-color: white;\n",
       "                    --jp-ui-font-color1: white;\n",
       "                    --jp-layout-color2: #454545;\n",
       "                    background-color: #383838;\n",
       "                }\n",
       "\n",
       "                .geemap-dark .jupyter-button {\n",
       "                    --jp-layout-color3: #383838;\n",
       "                }\n",
       "\n",
       "                .geemap-colab {\n",
       "                    background-color: var(--colab-primary-surface-color, white);\n",
       "                }\n",
       "\n",
       "                .geemap-colab .jupyter-button {\n",
       "                    --jp-layout-color3: var(--colab-primary-surface-color, white);\n",
       "                }\n",
       "            </style>\n",
       "            "
      ],
      "text/plain": [
       "<IPython.core.display.HTML object>"
      ]
     },
     "metadata": {},
     "output_type": "display_data"
    }
   ],
   "source": [
    "# m=time_filtered_glacier_decroissant.explore(color='red',name='glacier')\n",
    "# time_filtered_glacier_test.explore(color='blue',name='filter',m=m)\n",
    "# folium.LayerControl().add_to(m)\n",
    "# m"
   ]
  },
  {
   "cell_type": "code",
   "execution_count": 36,
   "id": "bbd23354-4d0a-4435-8899-24e088ae55d2",
   "metadata": {},
   "outputs": [
    {
     "data": {
      "text/html": [
       "\n",
       "            <style>\n",
       "                .geemap-dark {\n",
       "                    --jp-widgets-color: white;\n",
       "                    --jp-widgets-label-color: white;\n",
       "                    --jp-ui-font-color1: white;\n",
       "                    --jp-layout-color2: #454545;\n",
       "                    background-color: #383838;\n",
       "                }\n",
       "\n",
       "                .geemap-dark .jupyter-button {\n",
       "                    --jp-layout-color3: #383838;\n",
       "                }\n",
       "\n",
       "                .geemap-colab {\n",
       "                    background-color: var(--colab-primary-surface-color, white);\n",
       "                }\n",
       "\n",
       "                .geemap-colab .jupyter-button {\n",
       "                    --jp-layout-color3: var(--colab-primary-surface-color, white);\n",
       "                }\n",
       "            </style>\n",
       "            "
      ],
      "text/plain": [
       "<IPython.core.display.HTML object>"
      ]
     },
     "metadata": {},
     "output_type": "display_data"
    }
   ],
   "source": [
    "# time_filtered_glacier_decroissant.to_file(\"C:/Users/ronir/Desktop/Google_Earth_Engine/Vdef/Vectors_filtered/gdf_glacier_filtrage_5ans.shp\")"
   ]
  },
  {
   "cell_type": "code",
   "execution_count": 37,
   "id": "d19ebee1-7350-446d-98e9-c5bb7b82c2dd",
   "metadata": {},
   "outputs": [
    {
     "data": {
      "text/html": [
       "\n",
       "            <style>\n",
       "                .geemap-dark {\n",
       "                    --jp-widgets-color: white;\n",
       "                    --jp-widgets-label-color: white;\n",
       "                    --jp-ui-font-color1: white;\n",
       "                    --jp-layout-color2: #454545;\n",
       "                    background-color: #383838;\n",
       "                }\n",
       "\n",
       "                .geemap-dark .jupyter-button {\n",
       "                    --jp-layout-color3: #383838;\n",
       "                }\n",
       "\n",
       "                .geemap-colab {\n",
       "                    background-color: var(--colab-primary-surface-color, white);\n",
       "                }\n",
       "\n",
       "                .geemap-colab .jupyter-button {\n",
       "                    --jp-layout-color3: var(--colab-primary-surface-color, white);\n",
       "                }\n",
       "            </style>\n",
       "            "
      ],
      "text/plain": [
       "<IPython.core.display.HTML object>"
      ]
     },
     "metadata": {},
     "output_type": "display_data"
    }
   ],
   "source": [
    "# time_filtered_glacier_propre.to_file(\"C:/Users/ronir/Desktop/Google_Earth_Engine/Vdef/Vectors_filtered/gdf_glacier_filtrage_total.shp\")"
   ]
  },
  {
   "cell_type": "markdown",
   "id": "9fd51844-195a-4ceb-aad2-34cf5c4efddd",
   "metadata": {},
   "source": [
    "-----------------------------------------"
   ]
  },
  {
   "cell_type": "markdown",
   "id": "ad85848c-9d1d-4cac-b1c5-7d346de5f653",
   "metadata": {},
   "source": [
    "# II. FILTERING WATER"
   ]
  },
  {
   "cell_type": "markdown",
   "id": "0ca63eed-4672-441c-bb8d-a85acf9e529c",
   "metadata": {},
   "source": [
    "### filtering water error in glacier"
   ]
  },
  {
   "cell_type": "code",
   "execution_count": 38,
   "id": "1f19e88d-ebe7-4f34-95a6-631f207c21c3",
   "metadata": {},
   "outputs": [
    {
     "data": {
      "text/html": [
       "\n",
       "            <style>\n",
       "                .geemap-dark {\n",
       "                    --jp-widgets-color: white;\n",
       "                    --jp-widgets-label-color: white;\n",
       "                    --jp-ui-font-color1: white;\n",
       "                    --jp-layout-color2: #454545;\n",
       "                    background-color: #383838;\n",
       "                }\n",
       "\n",
       "                .geemap-dark .jupyter-button {\n",
       "                    --jp-layout-color3: #383838;\n",
       "                }\n",
       "\n",
       "                .geemap-colab {\n",
       "                    background-color: var(--colab-primary-surface-color, white);\n",
       "                }\n",
       "\n",
       "                .geemap-colab .jupyter-button {\n",
       "                    --jp-layout-color3: var(--colab-primary-surface-color, white);\n",
       "                }\n",
       "            </style>\n",
       "            "
      ],
      "text/plain": [
       "<IPython.core.display.HTML object>"
      ]
     },
     "metadata": {},
     "output_type": "display_data"
    }
   ],
   "source": [
    "water_in_glacier, water_outside=filter_water_by_glacier_gpd(gdf_water, gdf_glacier)"
   ]
  },
  {
   "cell_type": "markdown",
   "id": "25999620-f68d-4c25-a761-92a90755f229",
   "metadata": {},
   "source": [
    "### filtering water in RGI"
   ]
  },
  {
   "cell_type": "code",
   "execution_count": 39,
   "id": "cd9d4193-1183-45da-9dee-798c425b3d54",
   "metadata": {
    "scrolled": true
   },
   "outputs": [
    {
     "data": {
      "text/html": [
       "\n",
       "            <style>\n",
       "                .geemap-dark {\n",
       "                    --jp-widgets-color: white;\n",
       "                    --jp-widgets-label-color: white;\n",
       "                    --jp-ui-font-color1: white;\n",
       "                    --jp-layout-color2: #454545;\n",
       "                    background-color: #383838;\n",
       "                }\n",
       "\n",
       "                .geemap-dark .jupyter-button {\n",
       "                    --jp-layout-color3: #383838;\n",
       "                }\n",
       "\n",
       "                .geemap-colab {\n",
       "                    background-color: var(--colab-primary-surface-color, white);\n",
       "                }\n",
       "\n",
       "                .geemap-colab .jupyter-button {\n",
       "                    --jp-layout-color3: var(--colab-primary-surface-color, white);\n",
       "                }\n",
       "            </style>\n",
       "            "
      ],
      "text/plain": [
       "<IPython.core.display.HTML object>"
      ]
     },
     "metadata": {},
     "output_type": "display_data"
    }
   ],
   "source": [
    "water_outside_rgi_2000 = exclude_inside_RGI_water(water_outside, geom_RGI_FR_2000_to_export_year,2000)"
   ]
  },
  {
   "cell_type": "code",
   "execution_count": 40,
   "id": "9eac900c-9079-4307-a347-12c2e4641732",
   "metadata": {
    "scrolled": true
   },
   "outputs": [
    {
     "data": {
      "text/html": [
       "\n",
       "            <style>\n",
       "                .geemap-dark {\n",
       "                    --jp-widgets-color: white;\n",
       "                    --jp-widgets-label-color: white;\n",
       "                    --jp-ui-font-color1: white;\n",
       "                    --jp-layout-color2: #454545;\n",
       "                    background-color: #383838;\n",
       "                }\n",
       "\n",
       "                .geemap-dark .jupyter-button {\n",
       "                    --jp-layout-color3: #383838;\n",
       "                }\n",
       "\n",
       "                .geemap-colab {\n",
       "                    background-color: var(--colab-primary-surface-color, white);\n",
       "                }\n",
       "\n",
       "                .geemap-colab .jupyter-button {\n",
       "                    --jp-layout-color3: var(--colab-primary-surface-color, white);\n",
       "                }\n",
       "            </style>\n",
       "            "
      ],
      "text/plain": [
       "<IPython.core.display.HTML object>"
      ]
     },
     "metadata": {},
     "output_type": "display_data"
    }
   ],
   "source": [
    "water_outside_rgi_2015 = exclude_inside_RGI_water(water_outside, geom_RGI_FR_2015_to_export_year,2015)"
   ]
  },
  {
   "cell_type": "markdown",
   "id": "0e1a7c4c-a4bf-4c90-bac7-4c79371b0bd3",
   "metadata": {},
   "source": [
    "Merging and conserving the filtered years"
   ]
  },
  {
   "cell_type": "code",
   "execution_count": 41,
   "id": "969240b6-d4fb-426c-8984-4550bf4b44b3",
   "metadata": {},
   "outputs": [
    {
     "data": {
      "text/html": [
       "\n",
       "            <style>\n",
       "                .geemap-dark {\n",
       "                    --jp-widgets-color: white;\n",
       "                    --jp-widgets-label-color: white;\n",
       "                    --jp-ui-font-color1: white;\n",
       "                    --jp-layout-color2: #454545;\n",
       "                    background-color: #383838;\n",
       "                }\n",
       "\n",
       "                .geemap-dark .jupyter-button {\n",
       "                    --jp-layout-color3: #383838;\n",
       "                }\n",
       "\n",
       "                .geemap-colab {\n",
       "                    background-color: var(--colab-primary-surface-color, white);\n",
       "                }\n",
       "\n",
       "                .geemap-colab .jupyter-button {\n",
       "                    --jp-layout-color3: var(--colab-primary-surface-color, white);\n",
       "                }\n",
       "            </style>\n",
       "            "
      ],
      "text/plain": [
       "<IPython.core.display.HTML object>"
      ]
     },
     "metadata": {},
     "output_type": "display_data"
    }
   ],
   "source": [
    "water_filtered_RGI_merged = []\n",
    "\n",
    "# Ajout des années 1984 à 2000 depuis water_outside_rgi_2000\n",
    "for year in range(1984, 2001):\n",
    "    water_filtered_RGI_merged.append(water_outside_rgi_2000[water_outside_rgi_2000[\"year\"]==year])\n",
    "\n",
    "# Ajout des années 2001 à 2015 depuis water_outside_rgi_2015\n",
    "for year in range(2001, 2016):\n",
    "    water_filtered_RGI_merged.append(water_outside_rgi_2015[water_outside_rgi_2015[\"year\"]==year])\n",
    "\n",
    "# Ajout des années 2016 à 2024 depuis water_outside\n",
    "for year in range(2016, 2025):\n",
    "    water_filtered_RGI_merged.append(water_outside[water_outside[\"year\"]==year])"
   ]
  },
  {
   "cell_type": "code",
   "execution_count": 42,
   "id": "ac8c3be0-8174-43ae-895e-0d25b1e3f079",
   "metadata": {
    "scrolled": true
   },
   "outputs": [
    {
     "data": {
      "text/html": [
       "\n",
       "            <style>\n",
       "                .geemap-dark {\n",
       "                    --jp-widgets-color: white;\n",
       "                    --jp-widgets-label-color: white;\n",
       "                    --jp-ui-font-color1: white;\n",
       "                    --jp-layout-color2: #454545;\n",
       "                    background-color: #383838;\n",
       "                }\n",
       "\n",
       "                .geemap-dark .jupyter-button {\n",
       "                    --jp-layout-color3: #383838;\n",
       "                }\n",
       "\n",
       "                .geemap-colab {\n",
       "                    background-color: var(--colab-primary-surface-color, white);\n",
       "                }\n",
       "\n",
       "                .geemap-colab .jupyter-button {\n",
       "                    --jp-layout-color3: var(--colab-primary-surface-color, white);\n",
       "                }\n",
       "            </style>\n",
       "            "
      ],
      "text/plain": [
       "<IPython.core.display.HTML object>"
      ]
     },
     "metadata": {},
     "output_type": "display_data"
    }
   ],
   "source": [
    "water_filtered_RGI_merged_gpd=pd.concat(water_filtered_RGI_merged, ignore_index=True)"
   ]
  },
  {
   "cell_type": "markdown",
   "id": "01bf5c9b-315d-4892-84e3-debad2613d7f",
   "metadata": {},
   "source": [
    "## Time filtering "
   ]
  },
  {
   "cell_type": "code",
   "execution_count": 56,
   "id": "1cf20c14-fcc7-4fd4-ac86-612ba6f9246f",
   "metadata": {
    "scrolled": true
   },
   "outputs": [
    {
     "data": {
      "text/html": [
       "\n",
       "            <style>\n",
       "                .geemap-dark {\n",
       "                    --jp-widgets-color: white;\n",
       "                    --jp-widgets-label-color: white;\n",
       "                    --jp-ui-font-color1: white;\n",
       "                    --jp-layout-color2: #454545;\n",
       "                    background-color: #383838;\n",
       "                }\n",
       "\n",
       "                .geemap-dark .jupyter-button {\n",
       "                    --jp-layout-color3: #383838;\n",
       "                }\n",
       "\n",
       "                .geemap-colab {\n",
       "                    background-color: var(--colab-primary-surface-color, white);\n",
       "                }\n",
       "\n",
       "                .geemap-colab .jupyter-button {\n",
       "                    --jp-layout-color3: var(--colab-primary-surface-color, white);\n",
       "                }\n",
       "            </style>\n",
       "            "
      ],
      "text/plain": [
       "<IPython.core.display.HTML object>"
      ]
     },
     "metadata": {},
     "output_type": "display_data"
    }
   ],
   "source": [
    "time_filtered_water_propre=water_time_filtering_propre_total(water_filtered_RGI_merged_gpd)"
   ]
  },
  {
   "cell_type": "markdown",
   "id": "f774d262-73f2-433f-bb86-2e5728b356b9",
   "metadata": {},
   "source": [
    "## Excluding water in glacier 2024"
   ]
  },
  {
   "cell_type": "code",
   "execution_count": 64,
   "id": "c2688def-72ad-4e56-8f73-2bd0cb638fe5",
   "metadata": {
    "scrolled": true
   },
   "outputs": [
    {
     "data": {
      "text/html": [
       "\n",
       "            <style>\n",
       "                .geemap-dark {\n",
       "                    --jp-widgets-color: white;\n",
       "                    --jp-widgets-label-color: white;\n",
       "                    --jp-ui-font-color1: white;\n",
       "                    --jp-layout-color2: #454545;\n",
       "                    background-color: #383838;\n",
       "                }\n",
       "\n",
       "                .geemap-dark .jupyter-button {\n",
       "                    --jp-layout-color3: #383838;\n",
       "                }\n",
       "\n",
       "                .geemap-colab {\n",
       "                    background-color: var(--colab-primary-surface-color, white);\n",
       "                }\n",
       "\n",
       "                .geemap-colab .jupyter-button {\n",
       "                    --jp-layout-color3: var(--colab-primary-surface-color, white);\n",
       "                }\n",
       "            </style>\n",
       "            "
      ],
      "text/plain": [
       "<IPython.core.display.HTML object>"
      ]
     },
     "metadata": {},
     "output_type": "display_data"
    }
   ],
   "source": [
    "gdf_lake_filtered_excl_2024=exclude_water_inside_geometry(time_filtered_water_propre,time_filtered_glacier_propre_total[time_filtered_glacier_propre_total['year'] == 2024])"
   ]
  },
  {
   "cell_type": "markdown",
   "id": "b1fd5a84-4c44-4831-a141-b44d2866e806",
   "metadata": {},
   "source": [
    "---------------------------------"
   ]
  },
  {
   "cell_type": "markdown",
   "id": "51bf124a-29c0-4fb0-9d69-3429d639bd76",
   "metadata": {},
   "source": [
    "# III. Applying Conditions\n"
   ]
  },
  {
   "cell_type": "markdown",
   "id": "31fa3347-b3d2-4faf-b7eb-ba2b49084306",
   "metadata": {},
   "source": [
    "lake classification > glacier"
   ]
  },
  {
   "cell_type": "code",
   "execution_count": 72,
   "id": "25d86215-7e69-4072-a11b-7d963401a729",
   "metadata": {},
   "outputs": [
    {
     "data": {
      "text/html": [
       "\n",
       "            <style>\n",
       "                .geemap-dark {\n",
       "                    --jp-widgets-color: white;\n",
       "                    --jp-widgets-label-color: white;\n",
       "                    --jp-ui-font-color1: white;\n",
       "                    --jp-layout-color2: #454545;\n",
       "                    background-color: #383838;\n",
       "                }\n",
       "\n",
       "                .geemap-dark .jupyter-button {\n",
       "                    --jp-layout-color3: #383838;\n",
       "                }\n",
       "\n",
       "                .geemap-colab {\n",
       "                    background-color: var(--colab-primary-surface-color, white);\n",
       "                }\n",
       "\n",
       "                .geemap-colab .jupyter-button {\n",
       "                    --jp-layout-color3: var(--colab-primary-surface-color, white);\n",
       "                }\n",
       "            </style>\n",
       "            "
      ],
      "text/plain": [
       "<IPython.core.display.HTML object>"
      ]
     },
     "metadata": {},
     "output_type": "display_data"
    }
   ],
   "source": [
    "lake_diss=gdf_lake_filtered_excl_2024.loc[gdf_lake_filtered_excl_2024['year']>1984].dissolve(by='year')"
   ]
  },
  {
   "cell_type": "code",
   "execution_count": 73,
   "id": "06f3dca9-6869-45f4-b45e-2d783844e770",
   "metadata": {},
   "outputs": [
    {
     "data": {
      "text/html": [
       "\n",
       "            <style>\n",
       "                .geemap-dark {\n",
       "                    --jp-widgets-color: white;\n",
       "                    --jp-widgets-label-color: white;\n",
       "                    --jp-ui-font-color1: white;\n",
       "                    --jp-layout-color2: #454545;\n",
       "                    background-color: #383838;\n",
       "                }\n",
       "\n",
       "                .geemap-dark .jupyter-button {\n",
       "                    --jp-layout-color3: #383838;\n",
       "                }\n",
       "\n",
       "                .geemap-colab {\n",
       "                    background-color: var(--colab-primary-surface-color, white);\n",
       "                }\n",
       "\n",
       "                .geemap-colab .jupyter-button {\n",
       "                    --jp-layout-color3: var(--colab-primary-surface-color, white);\n",
       "                }\n",
       "            </style>\n",
       "            "
      ],
      "text/plain": [
       "<IPython.core.display.HTML object>"
      ]
     },
     "metadata": {},
     "output_type": "display_data"
    }
   ],
   "source": [
    "glacier_diss=time_filtered_glacier_propre_total.dissolve(by='year')"
   ]
  },
  {
   "cell_type": "code",
   "execution_count": 74,
   "id": "c8ccff01-eb6a-4800-a4bb-a4edacc8225d",
   "metadata": {},
   "outputs": [
    {
     "data": {
      "text/html": [
       "\n",
       "            <style>\n",
       "                .geemap-dark {\n",
       "                    --jp-widgets-color: white;\n",
       "                    --jp-widgets-label-color: white;\n",
       "                    --jp-ui-font-color1: white;\n",
       "                    --jp-layout-color2: #454545;\n",
       "                    background-color: #383838;\n",
       "                }\n",
       "\n",
       "                .geemap-dark .jupyter-button {\n",
       "                    --jp-layout-color3: #383838;\n",
       "                }\n",
       "\n",
       "                .geemap-colab {\n",
       "                    background-color: var(--colab-primary-surface-color, white);\n",
       "                }\n",
       "\n",
       "                .geemap-colab .jupyter-button {\n",
       "                    --jp-layout-color3: var(--colab-primary-surface-color, white);\n",
       "                }\n",
       "            </style>\n",
       "            "
      ],
      "text/plain": [
       "<IPython.core.display.HTML object>"
      ]
     },
     "metadata": {},
     "output_type": "display_data"
    }
   ],
   "source": [
    "glacier_classified=glacier_diss.assign(geom_diff=glacier_diss.difference(lake_diss))"
   ]
  },
  {
   "cell_type": "code",
   "execution_count": 75,
   "id": "6a2b244a-feac-4f8e-a056-2b9f12a5ba68",
   "metadata": {},
   "outputs": [
    {
     "data": {
      "text/html": [
       "\n",
       "            <style>\n",
       "                .geemap-dark {\n",
       "                    --jp-widgets-color: white;\n",
       "                    --jp-widgets-label-color: white;\n",
       "                    --jp-ui-font-color1: white;\n",
       "                    --jp-layout-color2: #454545;\n",
       "                    background-color: #383838;\n",
       "                }\n",
       "\n",
       "                .geemap-dark .jupyter-button {\n",
       "                    --jp-layout-color3: #383838;\n",
       "                }\n",
       "\n",
       "                .geemap-colab {\n",
       "                    background-color: var(--colab-primary-surface-color, white);\n",
       "                }\n",
       "\n",
       "                .geemap-colab .jupyter-button {\n",
       "                    --jp-layout-color3: var(--colab-primary-surface-color, white);\n",
       "                }\n",
       "            </style>\n",
       "            "
      ],
      "text/plain": [
       "<IPython.core.display.HTML object>"
      ]
     },
     "metadata": {},
     "output_type": "display_data"
    }
   ],
   "source": [
    "glacier_final=glacier_classified.drop(columns=[\"geometry\"]).rename(columns={\"geom_diff\":\"geometry\"}).set_geometry(\"geometry\").explode()"
   ]
  },
  {
   "cell_type": "code",
   "execution_count": 76,
   "id": "3f7c33b4-4a07-4a74-820f-6e025368b35d",
   "metadata": {},
   "outputs": [
    {
     "data": {
      "text/html": [
       "\n",
       "            <style>\n",
       "                .geemap-dark {\n",
       "                    --jp-widgets-color: white;\n",
       "                    --jp-widgets-label-color: white;\n",
       "                    --jp-ui-font-color1: white;\n",
       "                    --jp-layout-color2: #454545;\n",
       "                    background-color: #383838;\n",
       "                }\n",
       "\n",
       "                .geemap-dark .jupyter-button {\n",
       "                    --jp-layout-color3: #383838;\n",
       "                }\n",
       "\n",
       "                .geemap-colab {\n",
       "                    background-color: var(--colab-primary-surface-color, white);\n",
       "                }\n",
       "\n",
       "                .geemap-colab .jupyter-button {\n",
       "                    --jp-layout-color3: var(--colab-primary-surface-color, white);\n",
       "                }\n",
       "            </style>\n",
       "            "
      ],
      "text/plain": [
       "<IPython.core.display.HTML object>"
      ]
     },
     "metadata": {},
     "output_type": "display_data"
    }
   ],
   "source": [
    "glacier_final=glacier_final.reset_index(drop=False)"
   ]
  },
  {
   "cell_type": "markdown",
   "id": "1f2ee9dc-0aa3-4373-8a53-c679f99d648c",
   "metadata": {},
   "source": [
    "## Associating each lake/glacier with the same id"
   ]
  },
  {
   "cell_type": "markdown",
   "id": "8c1f3792-3beb-4f87-bf20-27f9d7b20527",
   "metadata": {},
   "source": [
    "Glacier_id d'après le lia_id"
   ]
  },
  {
   "cell_type": "code",
   "execution_count": 89,
   "id": "91395b95-b38b-4d43-84a4-a0c44b6b0f8f",
   "metadata": {},
   "outputs": [
    {
     "data": {
      "text/html": [
       "\n",
       "            <style>\n",
       "                .geemap-dark {\n",
       "                    --jp-widgets-color: white;\n",
       "                    --jp-widgets-label-color: white;\n",
       "                    --jp-ui-font-color1: white;\n",
       "                    --jp-layout-color2: #454545;\n",
       "                    background-color: #383838;\n",
       "                }\n",
       "\n",
       "                .geemap-dark .jupyter-button {\n",
       "                    --jp-layout-color3: #383838;\n",
       "                }\n",
       "\n",
       "                .geemap-colab {\n",
       "                    background-color: var(--colab-primary-surface-color, white);\n",
       "                }\n",
       "\n",
       "                .geemap-colab .jupyter-button {\n",
       "                    --jp-layout-color3: var(--colab-primary-surface-color, white);\n",
       "                }\n",
       "            </style>\n",
       "            "
      ],
      "text/plain": [
       "<IPython.core.display.HTML object>"
      ]
     },
     "metadata": {},
     "output_type": "display_data"
    }
   ],
   "source": [
    "glacier_final_to_id = glacier_final.to_crs(gdf_lia_vdef.crs)"
   ]
  },
  {
   "cell_type": "code",
   "execution_count": 90,
   "id": "88ad42f8-c387-453e-87af-2b8de1c33bc7",
   "metadata": {},
   "outputs": [
    {
     "data": {
      "text/html": [
       "\n",
       "            <style>\n",
       "                .geemap-dark {\n",
       "                    --jp-widgets-color: white;\n",
       "                    --jp-widgets-label-color: white;\n",
       "                    --jp-ui-font-color1: white;\n",
       "                    --jp-layout-color2: #454545;\n",
       "                    background-color: #383838;\n",
       "                }\n",
       "\n",
       "                .geemap-dark .jupyter-button {\n",
       "                    --jp-layout-color3: #383838;\n",
       "                }\n",
       "\n",
       "                .geemap-colab {\n",
       "                    background-color: var(--colab-primary-surface-color, white);\n",
       "                }\n",
       "\n",
       "                .geemap-colab .jupyter-button {\n",
       "                    --jp-layout-color3: var(--colab-primary-surface-color, white);\n",
       "                }\n",
       "            </style>\n",
       "            "
      ],
      "text/plain": [
       "<IPython.core.display.HTML object>"
      ]
     },
     "metadata": {},
     "output_type": "display_data"
    }
   ],
   "source": [
    "join_glac = glacier_final_to_id.sjoin(gdf_lia_vdef, how='inner', predicate='intersects')\n",
    "\n",
    "# 3. Créer une colonne 'glacier_lia_id' dans glacier_final_1985 avec l'ID de gdf_lia\n",
    "# join_glac contient à la fois les index de glacier_final_1985 (index_left) et de gdf_lia (index_right), et la colonne 'ID' de gdf_lia\n",
    "glacier_def_clean_ided=glacier_final_to_id.copy()\n",
    "glacier_def_clean_ided.loc[join_glac.index, 'glacier_lia_id'] = join_glac['index'].values\n"
   ]
  },
  {
   "cell_type": "markdown",
   "id": "2e46f27e-7167-4c9e-9ffd-667891229d4e",
   "metadata": {},
   "source": [
    "Pour les lacs, utilisation de la classif INRAE"
   ]
  },
  {
   "cell_type": "markdown",
   "id": "20c173d5-7be2-4ca3-a438-902597fb4b63",
   "metadata": {},
   "source": [
    "## Merging the pixels of the same lakes using pyce"
   ]
  },
  {
   "cell_type": "code",
   "execution_count": null,
   "id": "c4634821-e02f-42a5-bddb-67716e49f81c",
   "metadata": {},
   "outputs": [],
   "source": []
  },
  {
   "cell_type": "markdown",
   "id": "84f872d7-562c-4df9-87e8-933c9d99b66d",
   "metadata": {},
   "source": [
    "# Final Export"
   ]
  },
  {
   "cell_type": "markdown",
   "id": "9ca40d34-b27f-4da8-b456-a61408ecc861",
   "metadata": {},
   "source": [
    "---------------------------------"
   ]
  }
 ],
 "metadata": {
  "kernelspec": {
   "display_name": "Python 3 (ipykernel)",
   "language": "python",
   "name": "python3"
  },
  "language_info": {
   "codemirror_mode": {
    "name": "ipython",
    "version": 3
   },
   "file_extension": ".py",
   "mimetype": "text/x-python",
   "name": "python",
   "nbconvert_exporter": "python",
   "pygments_lexer": "ipython3",
   "version": "3.11.11"
  }
 },
 "nbformat": 4,
 "nbformat_minor": 5
}
