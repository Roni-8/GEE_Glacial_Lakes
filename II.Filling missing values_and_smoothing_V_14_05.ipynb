{
 "cells": [
  {
   "cell_type": "markdown",
   "id": "3542cd5d-98c2-427b-80d3-1761d1ff12f7",
   "metadata": {},
   "source": [
    "# IMPORTS - INITIALIZATION"
   ]
  },
  {
   "cell_type": "code",
   "execution_count": 1,
   "id": "477a23de-5492-437b-ae88-ceb393f8a5b3",
   "metadata": {},
   "outputs": [],
   "source": [
    "import ee, eemont\n",
    "import xee, wxee\n",
    "import xarray as xr\n",
    "import numpy as np\n",
    "\n",
    "import os\n",
    "import pandas as pd\n",
    "\n",
    "import geopandas as gpd\n",
    "import geemap\n",
    "import geemap.colormaps as geecm\n",
    "\n",
    "import matplotlib.pyplot as plt\n",
    "import cmocean"
   ]
  },
  {
   "cell_type": "code",
   "execution_count": 2,
   "id": "2a92083e-b449-40cf-a56b-6a143c96cf14",
   "metadata": {},
   "outputs": [
    {
     "data": {
      "text/html": [
       "\n",
       "            <style>\n",
       "                .geemap-dark {\n",
       "                    --jp-widgets-color: white;\n",
       "                    --jp-widgets-label-color: white;\n",
       "                    --jp-ui-font-color1: white;\n",
       "                    --jp-layout-color2: #454545;\n",
       "                    background-color: #383838;\n",
       "                }\n",
       "\n",
       "                .geemap-dark .jupyter-button {\n",
       "                    --jp-layout-color3: #383838;\n",
       "                }\n",
       "\n",
       "                .geemap-colab {\n",
       "                    background-color: var(--colab-primary-surface-color, white);\n",
       "                }\n",
       "\n",
       "                .geemap-colab .jupyter-button {\n",
       "                    --jp-layout-color3: var(--colab-primary-surface-color, white);\n",
       "                }\n",
       "            </style>\n",
       "            "
      ],
      "text/plain": [
       "<IPython.core.display.HTML object>"
      ]
     },
     "metadata": {},
     "output_type": "display_data"
    }
   ],
   "source": [
    "import ipywidgets"
   ]
  },
  {
   "cell_type": "code",
   "execution_count": null,
   "id": "73611c59-fbee-4abe-97b4-c5e0569b63d1",
   "metadata": {},
   "outputs": [],
   "source": []
  },
  {
   "cell_type": "code",
   "execution_count": 6,
   "id": "239eaace-2ee0-4d83-bcab-76cd5ea4b4d2",
   "metadata": {},
   "outputs": [
    {
     "data": {
      "text/html": [
       "\n",
       "            <style>\n",
       "                .geemap-dark {\n",
       "                    --jp-widgets-color: white;\n",
       "                    --jp-widgets-label-color: white;\n",
       "                    --jp-ui-font-color1: white;\n",
       "                    --jp-layout-color2: #454545;\n",
       "                    background-color: #383838;\n",
       "                }\n",
       "\n",
       "                .geemap-dark .jupyter-button {\n",
       "                    --jp-layout-color3: #383838;\n",
       "                }\n",
       "\n",
       "                .geemap-colab {\n",
       "                    background-color: var(--colab-primary-surface-color, white);\n",
       "                }\n",
       "\n",
       "                .geemap-colab .jupyter-button {\n",
       "                    --jp-layout-color3: var(--colab-primary-surface-color, white);\n",
       "                }\n",
       "            </style>\n",
       "            "
      ],
      "text/plain": [
       "<IPython.core.display.HTML object>"
      ]
     },
     "metadata": {},
     "output_type": "display_data"
    }
   ],
   "source": [
    "ee.Authenticate()\n",
    "ee.Initialize()\n",
    "wxee.Initialize()"
   ]
  },
  {
   "cell_type": "markdown",
   "id": "d60c7e42-9103-457f-82e8-261d546b10b7",
   "metadata": {},
   "source": [
    "# Import of index and Geom data\n"
   ]
  },
  {
   "cell_type": "code",
   "execution_count": 7,
   "id": "79f6d0a6-7e1c-41c3-b078-dc28a6dbbb04",
   "metadata": {},
   "outputs": [
    {
     "data": {
      "text/html": [
       "\n",
       "            <style>\n",
       "                .geemap-dark {\n",
       "                    --jp-widgets-color: white;\n",
       "                    --jp-widgets-label-color: white;\n",
       "                    --jp-ui-font-color1: white;\n",
       "                    --jp-layout-color2: #454545;\n",
       "                    background-color: #383838;\n",
       "                }\n",
       "\n",
       "                .geemap-dark .jupyter-button {\n",
       "                    --jp-layout-color3: #383838;\n",
       "                }\n",
       "\n",
       "                .geemap-colab {\n",
       "                    background-color: var(--colab-primary-surface-color, white);\n",
       "                }\n",
       "\n",
       "                .geemap-colab .jupyter-button {\n",
       "                    --jp-layout-color3: var(--colab-primary-surface-color, white);\n",
       "                }\n",
       "            </style>\n",
       "            "
      ],
      "text/plain": [
       "<IPython.core.display.HTML object>"
      ]
     },
     "metadata": {},
     "output_type": "display_data"
    }
   ],
   "source": [
    "years = range(1984, 2025)"
   ]
  },
  {
   "cell_type": "code",
   "execution_count": 8,
   "id": "2c144e51-e392-4355-a14c-786a675ade8a",
   "metadata": {},
   "outputs": [
    {
     "data": {
      "text/html": [
       "\n",
       "            <style>\n",
       "                .geemap-dark {\n",
       "                    --jp-widgets-color: white;\n",
       "                    --jp-widgets-label-color: white;\n",
       "                    --jp-ui-font-color1: white;\n",
       "                    --jp-layout-color2: #454545;\n",
       "                    background-color: #383838;\n",
       "                }\n",
       "\n",
       "                .geemap-dark .jupyter-button {\n",
       "                    --jp-layout-color3: #383838;\n",
       "                }\n",
       "\n",
       "                .geemap-colab {\n",
       "                    background-color: var(--colab-primary-surface-color, white);\n",
       "                }\n",
       "\n",
       "                .geemap-colab .jupyter-button {\n",
       "                    --jp-layout-color3: var(--colab-primary-surface-color, white);\n",
       "                }\n",
       "            </style>\n",
       "            "
      ],
      "text/plain": [
       "<IPython.core.display.HTML object>"
      ]
     },
     "metadata": {},
     "output_type": "display_data"
    }
   ],
   "source": [
    "\n",
    "# Importing Index repository and setting Time start to avoid xarray error\n",
    "Landsat_annualCollection_index= ee.ImageCollection([\n",
    "    ee.Image(f\"projects/ee-roniritzganem/assets/stage_carrtel_2025/landsat_annual_median_index/Landsat_{year}\").select('GBR','TIR','NDWI').set(\"system:time_start\", ee.Date(f\"{year}\"))\n",
    "    for year in years\n",
    "])"
   ]
  },
  {
   "cell_type": "code",
   "execution_count": 10,
   "id": "f48bd319-9037-4741-bc93-c46d70e92a3e",
   "metadata": {},
   "outputs": [
    {
     "data": {
      "text/html": [
       "\n",
       "            <style>\n",
       "                .geemap-dark {\n",
       "                    --jp-widgets-color: white;\n",
       "                    --jp-widgets-label-color: white;\n",
       "                    --jp-ui-font-color1: white;\n",
       "                    --jp-layout-color2: #454545;\n",
       "                    background-color: #383838;\n",
       "                }\n",
       "\n",
       "                .geemap-dark .jupyter-button {\n",
       "                    --jp-layout-color3: #383838;\n",
       "                }\n",
       "\n",
       "                .geemap-colab {\n",
       "                    background-color: var(--colab-primary-surface-color, white);\n",
       "                }\n",
       "\n",
       "                .geemap-colab .jupyter-button {\n",
       "                    --jp-layout-color3: var(--colab-primary-surface-color, white);\n",
       "                }\n",
       "            </style>\n",
       "            "
      ],
      "text/plain": [
       "<IPython.core.display.HTML object>"
      ]
     },
     "metadata": {},
     "output_type": "display_data"
    }
   ],
   "source": [
    "fc_lia = ee.FeatureCollection('users/aguerou/ice_and_life/carto_h1b/lia_shp/glaciers_1850_final_mars_2025') # demander les références\n",
    "geom_lia=fc_lia.geometry()\n",
    "\n",
    "geom_alpes_FR = ee.FeatureCollection('users/aguerou/ice_and_life/erable_2025/data_ancillary/alpes_francaises')\n",
    "\n",
    "dem_glo30 = ee.ImageCollection(\"COPERNICUS/DEM/GLO30\")"
   ]
  },
  {
   "cell_type": "markdown",
   "id": "2a412195-6959-4fc8-8ac9-0b7bb71452ab",
   "metadata": {},
   "source": [
    "# Parameters "
   ]
  },
  {
   "cell_type": "code",
   "execution_count": 11,
   "id": "2fc67d3a-e00e-4239-8c59-e4587cb4d806",
   "metadata": {},
   "outputs": [
    {
     "data": {
      "text/html": [
       "\n",
       "            <style>\n",
       "                .geemap-dark {\n",
       "                    --jp-widgets-color: white;\n",
       "                    --jp-widgets-label-color: white;\n",
       "                    --jp-ui-font-color1: white;\n",
       "                    --jp-layout-color2: #454545;\n",
       "                    background-color: #383838;\n",
       "                }\n",
       "\n",
       "                .geemap-dark .jupyter-button {\n",
       "                    --jp-layout-color3: #383838;\n",
       "                }\n",
       "\n",
       "                .geemap-colab {\n",
       "                    background-color: var(--colab-primary-surface-color, white);\n",
       "                }\n",
       "\n",
       "                .geemap-colab .jupyter-button {\n",
       "                    --jp-layout-color3: var(--colab-primary-surface-color, white);\n",
       "                }\n",
       "            </style>\n",
       "            "
      ],
      "text/plain": [
       "<IPython.core.display.HTML object>"
      ]
     },
     "metadata": {},
     "output_type": "display_data"
    }
   ],
   "source": [
    "scale = 30 #Landsat 30m\n",
    "projection = \"EPSG:4326\" #GEE le plus stable avec ce SRC"
   ]
  },
  {
   "cell_type": "code",
   "execution_count": 12,
   "id": "796cf030-4513-404d-ae00-b998cb74ee35",
   "metadata": {},
   "outputs": [
    {
     "data": {
      "text/html": [
       "\n",
       "            <style>\n",
       "                .geemap-dark {\n",
       "                    --jp-widgets-color: white;\n",
       "                    --jp-widgets-label-color: white;\n",
       "                    --jp-ui-font-color1: white;\n",
       "                    --jp-layout-color2: #454545;\n",
       "                    background-color: #383838;\n",
       "                }\n",
       "\n",
       "                .geemap-dark .jupyter-button {\n",
       "                    --jp-layout-color3: #383838;\n",
       "                }\n",
       "\n",
       "                .geemap-colab {\n",
       "                    background-color: var(--colab-primary-surface-color, white);\n",
       "                }\n",
       "\n",
       "                .geemap-colab .jupyter-button {\n",
       "                    --jp-layout-color3: var(--colab-primary-surface-color, white);\n",
       "                }\n",
       "            </style>\n",
       "            "
      ],
      "text/plain": [
       "<IPython.core.display.HTML object>"
      ]
     },
     "metadata": {},
     "output_type": "display_data"
    }
   ],
   "source": [
    "dem = ee.ImageCollection(dem_glo30).filterBounds(fc_lia).select(\"DEM\")\n",
    "dem_mosaic = dem.mosaic().clip(fc_lia)\n",
    "SlopeThresh = 20"
   ]
  },
  {
   "cell_type": "code",
   "execution_count": 13,
   "id": "c757909b-a1fd-4b6f-9d57-1f7c9a2e9ac8",
   "metadata": {},
   "outputs": [
    {
     "data": {
      "text/html": [
       "\n",
       "            <style>\n",
       "                .geemap-dark {\n",
       "                    --jp-widgets-color: white;\n",
       "                    --jp-widgets-label-color: white;\n",
       "                    --jp-ui-font-color1: white;\n",
       "                    --jp-layout-color2: #454545;\n",
       "                    background-color: #383838;\n",
       "                }\n",
       "\n",
       "                .geemap-dark .jupyter-button {\n",
       "                    --jp-layout-color3: #383838;\n",
       "                }\n",
       "\n",
       "                .geemap-colab {\n",
       "                    background-color: var(--colab-primary-surface-color, white);\n",
       "                }\n",
       "\n",
       "                .geemap-colab .jupyter-button {\n",
       "                    --jp-layout-color3: var(--colab-primary-surface-color, white);\n",
       "                }\n",
       "            </style>\n",
       "            "
      ],
      "text/plain": [
       "<IPython.core.display.HTML object>"
      ]
     },
     "metadata": {},
     "output_type": "display_data"
    }
   ],
   "source": [
    "# 3 palettes glacier avec nuances différentes (au choix ici pour exemple)\n",
    "visGLACIER_1 = {\"min\": 0, \"max\": 1, \"palette\": [\"#808080\", \"#228B22\"]}   # Vert forêt\n",
    "visGLACIER_2 = {\"min\": 0, \"max\": 1, \"palette\": [\"#808080\", \"#FF00FF\"]}   # Magenta\n",
    "visGLACIER_3 = {\"min\": 0, \"max\": 1, \"palette\": [\"#808080\", \"#00FFFF\"]}   # Cyan\n",
    "visGLACIER_4 = {\"min\": 0, \"max\": 1, \"palette\": [\"#808080\", \"#FF0000\"]}   # Rouge vif\n",
    "\n",
    "visWATER = {\"min\": 0, \"max\": 1, \"palette\": [\"#808080\", \"#FFA500\"]}  # Orange\n",
    "vis_params_temp = geecm.get_palette('coolwarm', n_class=100)\n",
    "visTIR = {'min': -5,'max': 10,'palette': vis_params_temp}"
   ]
  },
  {
   "cell_type": "markdown",
   "id": "efb73123-9bf0-4bee-837c-74c1d615acb9",
   "metadata": {},
   "source": [
    "# FUNCTIONS"
   ]
  },
  {
   "cell_type": "code",
   "execution_count": 14,
   "id": "2d779745-a781-465e-9898-3226433d01ad",
   "metadata": {},
   "outputs": [
    {
     "data": {
      "text/html": [
       "\n",
       "            <style>\n",
       "                .geemap-dark {\n",
       "                    --jp-widgets-color: white;\n",
       "                    --jp-widgets-label-color: white;\n",
       "                    --jp-ui-font-color1: white;\n",
       "                    --jp-layout-color2: #454545;\n",
       "                    background-color: #383838;\n",
       "                }\n",
       "\n",
       "                .geemap-dark .jupyter-button {\n",
       "                    --jp-layout-color3: #383838;\n",
       "                }\n",
       "\n",
       "                .geemap-colab {\n",
       "                    background-color: var(--colab-primary-surface-color, white);\n",
       "                }\n",
       "\n",
       "                .geemap-colab .jupyter-button {\n",
       "                    --jp-layout-color3: var(--colab-primary-surface-color, white);\n",
       "                }\n",
       "            </style>\n",
       "            "
      ],
      "text/plain": [
       "<IPython.core.display.HTML object>"
      ]
     },
     "metadata": {},
     "output_type": "display_data"
    }
   ],
   "source": [
    "def build_band_image(band_name,collection):\n",
    "    def select_band(img):\n",
    "        return img.select([band_name]) \\\n",
    "                  .copyProperties(img, img.propertyNames())\n",
    "    \n",
    "    return collection.map(select_band)"
   ]
  },
  {
   "cell_type": "code",
   "execution_count": 15,
   "id": "5b44032d-06fa-459e-ae21-9a45ef88259a",
   "metadata": {},
   "outputs": [
    {
     "data": {
      "text/html": [
       "\n",
       "            <style>\n",
       "                .geemap-dark {\n",
       "                    --jp-widgets-color: white;\n",
       "                    --jp-widgets-label-color: white;\n",
       "                    --jp-ui-font-color1: white;\n",
       "                    --jp-layout-color2: #454545;\n",
       "                    background-color: #383838;\n",
       "                }\n",
       "\n",
       "                .geemap-dark .jupyter-button {\n",
       "                    --jp-layout-color3: #383838;\n",
       "                }\n",
       "\n",
       "                .geemap-colab {\n",
       "                    background-color: var(--colab-primary-surface-color, white);\n",
       "                }\n",
       "\n",
       "                .geemap-colab .jupyter-button {\n",
       "                    --jp-layout-color3: var(--colab-primary-surface-color, white);\n",
       "                }\n",
       "            </style>\n",
       "            "
      ],
      "text/plain": [
       "<IPython.core.display.HTML object>"
      ]
     },
     "metadata": {},
     "output_type": "display_data"
    }
   ],
   "source": [
    "def select_band(img):\n",
    "    years = range(1984, 2025)\n",
    "    for year in years:\n",
    "        img.copyProperties(img, img.propertyNames()) \\\n",
    "                    .set(\"system:time_start\", ee.Date(f\"{year}\"))\n",
    "    return img\n",
    "    \n"
   ]
  },
  {
   "cell_type": "code",
   "execution_count": 16,
   "id": "80922023-af66-4392-86ce-61433d687dd3",
   "metadata": {
    "scrolled": true
   },
   "outputs": [
    {
     "data": {
      "text/html": [
       "\n",
       "            <style>\n",
       "                .geemap-dark {\n",
       "                    --jp-widgets-color: white;\n",
       "                    --jp-widgets-label-color: white;\n",
       "                    --jp-ui-font-color1: white;\n",
       "                    --jp-layout-color2: #454545;\n",
       "                    background-color: #383838;\n",
       "                }\n",
       "\n",
       "                .geemap-dark .jupyter-button {\n",
       "                    --jp-layout-color3: #383838;\n",
       "                }\n",
       "\n",
       "                .geemap-colab {\n",
       "                    background-color: var(--colab-primary-surface-color, white);\n",
       "                }\n",
       "\n",
       "                .geemap-colab .jupyter-button {\n",
       "                    --jp-layout-color3: var(--colab-primary-surface-color, white);\n",
       "                }\n",
       "            </style>\n",
       "            "
      ],
      "text/plain": [
       "<IPython.core.display.HTML object>"
      ]
     },
     "metadata": {},
     "output_type": "display_data"
    }
   ],
   "source": [
    "def convert_temp_to_deg(image):\n",
    "    image_degC = image.select('TIR') \\\n",
    "                      .subtract(273.15) \\\n",
    "                      .rename('tempC') \\\n",
    "                      .copyProperties(image, ['system:time_start'])\n",
    "    return image_degC"
   ]
  },
  {
   "cell_type": "code",
   "execution_count": 17,
   "id": "5a6b6d39-8524-4ef2-ba42-a26e48799dec",
   "metadata": {},
   "outputs": [
    {
     "data": {
      "text/html": [
       "\n",
       "            <style>\n",
       "                .geemap-dark {\n",
       "                    --jp-widgets-color: white;\n",
       "                    --jp-widgets-label-color: white;\n",
       "                    --jp-ui-font-color1: white;\n",
       "                    --jp-layout-color2: #454545;\n",
       "                    background-color: #383838;\n",
       "                }\n",
       "\n",
       "                .geemap-dark .jupyter-button {\n",
       "                    --jp-layout-color3: #383838;\n",
       "                }\n",
       "\n",
       "                .geemap-colab {\n",
       "                    background-color: var(--colab-primary-surface-color, white);\n",
       "                }\n",
       "\n",
       "                .geemap-colab .jupyter-button {\n",
       "                    --jp-layout-color3: var(--colab-primary-surface-color, white);\n",
       "                }\n",
       "            </style>\n",
       "            "
      ],
      "text/plain": [
       "<IPython.core.display.HTML object>"
      ]
     },
     "metadata": {},
     "output_type": "display_data"
    }
   ],
   "source": [
    "def join_ndwi_tir(image_ndwi):\n",
    "    year = image_ndwi.get('year')\n",
    "    \n",
    "    matching_tir = TIR_TS_filled_smooth.filter(ee.Filter.eq('year', year)).first()\n",
    "    \n",
    "    combined = image_ndwi.addBands(matching_tir)\n",
    "    \n",
    "    return combined"
   ]
  },
  {
   "cell_type": "code",
   "execution_count": 18,
   "id": "c59735d7-f775-4647-8ec0-733f0c527286",
   "metadata": {},
   "outputs": [
    {
     "data": {
      "text/html": [
       "\n",
       "            <style>\n",
       "                .geemap-dark {\n",
       "                    --jp-widgets-color: white;\n",
       "                    --jp-widgets-label-color: white;\n",
       "                    --jp-ui-font-color1: white;\n",
       "                    --jp-layout-color2: #454545;\n",
       "                    background-color: #383838;\n",
       "                }\n",
       "\n",
       "                .geemap-dark .jupyter-button {\n",
       "                    --jp-layout-color3: #383838;\n",
       "                }\n",
       "\n",
       "                .geemap-colab {\n",
       "                    background-color: var(--colab-primary-surface-color, white);\n",
       "                }\n",
       "\n",
       "                .geemap-colab .jupyter-button {\n",
       "                    --jp-layout-color3: var(--colab-primary-surface-color, white);\n",
       "                }\n",
       "            </style>\n",
       "            "
      ],
      "text/plain": [
       "<IPython.core.display.HTML object>"
      ]
     },
     "metadata": {},
     "output_type": "display_data"
    }
   ],
   "source": [
    "def get_slope(image):\n",
    "    return ee.Terrain.slope(image)"
   ]
  },
  {
   "cell_type": "code",
   "execution_count": 19,
   "id": "eaf78cff-1ff2-4ef1-a033-b520324897c0",
   "metadata": {},
   "outputs": [
    {
     "data": {
      "text/html": [
       "\n",
       "            <style>\n",
       "                .geemap-dark {\n",
       "                    --jp-widgets-color: white;\n",
       "                    --jp-widgets-label-color: white;\n",
       "                    --jp-ui-font-color1: white;\n",
       "                    --jp-layout-color2: #454545;\n",
       "                    background-color: #383838;\n",
       "                }\n",
       "\n",
       "                .geemap-dark .jupyter-button {\n",
       "                    --jp-layout-color3: #383838;\n",
       "                }\n",
       "\n",
       "                .geemap-colab {\n",
       "                    background-color: var(--colab-primary-surface-color, white);\n",
       "                }\n",
       "\n",
       "                .geemap-colab .jupyter-button {\n",
       "                    --jp-layout-color3: var(--colab-primary-surface-color, white);\n",
       "                }\n",
       "            </style>\n",
       "            "
      ],
      "text/plain": [
       "<IPython.core.display.HTML object>"
      ]
     },
     "metadata": {},
     "output_type": "display_data"
    }
   ],
   "source": [
    "slope = dem.map(get_slope).mosaic().clip(fc_lia) \\\n",
    "#need to map on single image for slope function to work fine\n",
    "slope_mask = slope.lt(SlopeThresh)"
   ]
  },
  {
   "cell_type": "code",
   "execution_count": 20,
   "id": "c04a1a28-7454-45b3-8dad-a43bc0557e08",
   "metadata": {},
   "outputs": [
    {
     "data": {
      "text/html": [
       "\n",
       "            <style>\n",
       "                .geemap-dark {\n",
       "                    --jp-widgets-color: white;\n",
       "                    --jp-widgets-label-color: white;\n",
       "                    --jp-ui-font-color1: white;\n",
       "                    --jp-layout-color2: #454545;\n",
       "                    background-color: #383838;\n",
       "                }\n",
       "\n",
       "                .geemap-dark .jupyter-button {\n",
       "                    --jp-layout-color3: #383838;\n",
       "                }\n",
       "\n",
       "                .geemap-colab {\n",
       "                    background-color: var(--colab-primary-surface-color, white);\n",
       "                }\n",
       "\n",
       "                .geemap-colab .jupyter-button {\n",
       "                    --jp-layout-color3: var(--colab-primary-surface-color, white);\n",
       "                }\n",
       "            </style>\n",
       "            "
      ],
      "text/plain": [
       "<IPython.core.display.HTML object>"
      ]
     },
     "metadata": {},
     "output_type": "display_data"
    }
   ],
   "source": [
    "def classifyGlacier(image, seuil):\n",
    "    temp = image.select('GBR').gt(seuil)\n",
    "    mask = temp.where(temp.gte(1), 1)\n",
    "    return image.addBands(mask.rename('GLACIER').toInt())\n",
    "\n",
    "def classifyWater(image, seuil):\n",
    "    temp = image.select('NDWI').gt(seuil)\n",
    "    temp2 = temp.where(temp.gte(1), 2)\n",
    "    mask = temp2.updateMask(slope_mask).unmask(0)\n",
    "\n",
    "    # Temperature mask\n",
    "    Temp_convert= image.select('TIR').subtract(273.15)\n",
    "    Temp_mask = Temp_convert.updateMask(Temp_convert.gt(-1).And(Temp_convert.lt(20)))\n",
    "    mask2 = mask.updateMask(Temp_mask).unmask(0)\n",
    "    return image.addBands(mask2.rename('WATER').toInt())"
   ]
  },
  {
   "cell_type": "markdown",
   "id": "6df09db7-56e5-416a-a745-7548572d55e4",
   "metadata": {},
   "source": [
    "-------------------------------------------------------------------------------------"
   ]
  },
  {
   "cell_type": "markdown",
   "id": "2f6625a9-a61c-489c-a993-968ea114b10a",
   "metadata": {},
   "source": [
    "# Processing\n"
   ]
  },
  {
   "cell_type": "code",
   "execution_count": 21,
   "id": "c0021ead-0c88-46fe-b54c-924482f350a1",
   "metadata": {},
   "outputs": [
    {
     "data": {
      "text/html": [
       "\n",
       "            <style>\n",
       "                .geemap-dark {\n",
       "                    --jp-widgets-color: white;\n",
       "                    --jp-widgets-label-color: white;\n",
       "                    --jp-ui-font-color1: white;\n",
       "                    --jp-layout-color2: #454545;\n",
       "                    background-color: #383838;\n",
       "                }\n",
       "\n",
       "                .geemap-dark .jupyter-button {\n",
       "                    --jp-layout-color3: #383838;\n",
       "                }\n",
       "\n",
       "                .geemap-colab {\n",
       "                    background-color: var(--colab-primary-surface-color, white);\n",
       "                }\n",
       "\n",
       "                .geemap-colab .jupyter-button {\n",
       "                    --jp-layout-color3: var(--colab-primary-surface-color, white);\n",
       "                }\n",
       "            </style>\n",
       "            "
      ],
      "text/plain": [
       "<IPython.core.display.HTML object>"
      ]
     },
     "metadata": {},
     "output_type": "display_data"
    }
   ],
   "source": [
    " # Creating an IC for each Index/Band containing the 41 studied years\n",
    "gbr_image = build_band_image('GBR',Landsat_annualCollection_index)\n",
    "tir_image = build_band_image('TIR', Landsat_annualCollection_index)\n",
    "ndwi_image = build_band_image('NDWI', Landsat_annualCollection_index)\n",
    "\n",
    "# # K to C conversion, if not applied during classifiaction\n",
    "temp_image=tir_image.map(convert_temp_to_deg)"
   ]
  },
  {
   "cell_type": "markdown",
   "id": "e6b2cb0f-bc76-44a0-96bb-aaaf4ee356d2",
   "metadata": {},
   "source": [
    "Time series using wxee"
   ]
  },
  {
   "cell_type": "code",
   "execution_count": 22,
   "id": "2f939c14-d6a8-4954-a82b-26aedc35884f",
   "metadata": {},
   "outputs": [
    {
     "data": {
      "text/html": [
       "\n",
       "            <style>\n",
       "                .geemap-dark {\n",
       "                    --jp-widgets-color: white;\n",
       "                    --jp-widgets-label-color: white;\n",
       "                    --jp-ui-font-color1: white;\n",
       "                    --jp-layout-color2: #454545;\n",
       "                    background-color: #383838;\n",
       "                }\n",
       "\n",
       "                .geemap-dark .jupyter-button {\n",
       "                    --jp-layout-color3: #383838;\n",
       "                }\n",
       "\n",
       "                .geemap-colab {\n",
       "                    background-color: var(--colab-primary-surface-color, white);\n",
       "                }\n",
       "\n",
       "                .geemap-colab .jupyter-button {\n",
       "                    --jp-layout-color3: var(--colab-primary-surface-color, white);\n",
       "                }\n",
       "            </style>\n",
       "            "
      ],
      "text/plain": [
       "<IPython.core.display.HTML object>"
      ]
     },
     "metadata": {},
     "output_type": "display_data"
    }
   ],
   "source": [
    "GBR_TS=gbr_image.wx.to_time_series()\n",
    "TIR_TS=temp_image.wx.to_time_series()\n",
    "NDWI_TS=ndwi_image.wx.to_time_series()"
   ]
  },
  {
   "cell_type": "code",
   "execution_count": 24,
   "id": "63310630-3f4f-4224-9424-354c347cecfc",
   "metadata": {},
   "outputs": [
    {
     "data": {
      "text/html": [
       "\n",
       "            <style>\n",
       "                .geemap-dark {\n",
       "                    --jp-widgets-color: white;\n",
       "                    --jp-widgets-label-color: white;\n",
       "                    --jp-ui-font-color1: white;\n",
       "                    --jp-layout-color2: #454545;\n",
       "                    background-color: #383838;\n",
       "                }\n",
       "\n",
       "                .geemap-dark .jupyter-button {\n",
       "                    --jp-layout-color3: #383838;\n",
       "                }\n",
       "\n",
       "                .geemap-colab {\n",
       "                    background-color: var(--colab-primary-surface-color, white);\n",
       "                }\n",
       "\n",
       "                .geemap-colab .jupyter-button {\n",
       "                    --jp-layout-color3: var(--colab-primary-surface-color, white);\n",
       "                }\n",
       "            </style>\n",
       "            "
      ],
      "text/plain": [
       "<IPython.core.display.HTML object>"
      ]
     },
     "metadata": {},
     "output_type": "display_data"
    },
    {
     "data": {
      "text/plain": [
       "\u001b[31mSignature:\u001b[39m\n",
       "GBR_TS.rolling_time(\n",
       "    window: int,\n",
       "    unit: str,\n",
       "    align: str = \u001b[33m'left'\u001b[39m,\n",
       "    min_observations: int = \u001b[32m1\u001b[39m,\n",
       "    reducer: Optional[Any] = \u001b[38;5;28;01mNone\u001b[39;00m,\n",
       "    keep_bandnames: bool = \u001b[38;5;28;01mTrue\u001b[39;00m,\n",
       ") -> \u001b[33m'TimeSeries'\u001b[39m\n",
       "\u001b[31mDocstring:\u001b[39m\n",
       "Apply a rolling reducer over the time dimension. Rolling windows are calculated around each image,\n",
       "so if images are irregularly spaced in time, the windows will be as well. As long as the minimum\n",
       "observations are met in each window, the output time series will contain the same number of images as\n",
       "the input, with each image reduced over its surrounding window.\n",
       "\n",
       "Parameters\n",
       "----------\n",
       "window : int\n",
       "    The number of time units to include in each rolling period.\n",
       "unit : str\n",
       "    The time frequency of the window. One of \"hour\", \"day\", \"week\", \"month\", \"year\".\n",
       "align : str, default \"left\"\n",
       "    The start location of the rolling window, relative to the primary image time. One of \"left\", \"center\",\n",
       "    \"right\". For example, a 3-day left-aligned window will include all images up to (but not including)\n",
       "    3 days prior to the primary image. Date ranges are exclusive in the alignment direction and inclusive\n",
       "    in the opposite direction, so each primary image will be included in its own window.\n",
       "min_observations : int, default 1\n",
       "    The minimum number of images to include in the rolling window (counting the primary image). If the\n",
       "    minimum observations are not met, the primary image will be dropped. For example, a monthly time series\n",
       "    reduced with a 10 day window and :code:`min_observations==3` would be empty because none of the\n",
       "    windows would include enough observations.\n",
       "reducer : Optional[ee.Reducer]\n",
       "    The reducer to apply to each rolling window. If none is given, ee.Reducer.mean will be used.\n",
       "keep_bandnames : bool, default True\n",
       "    If true, the band names of the input images will be kept in the reduced images. If false, the name of the\n",
       "    reducer will be appended to the band names, e.g. SR_B4 will become SR_B4_mean.\n",
       "\n",
       "Returns\n",
       "-------\n",
       "wxee.time_series.TimeSeries\n",
       "    The time series with the rolling reducer applied to each image.\n",
       "\n",
       "Example\n",
       "-------\n",
       ">>> ts = wxee.TimeSeries(\"MODIS/006/MOD13A2)\n",
       ">>> ts_smooth = ts.rolling_time(90, \"day\", \"center\", reducer=ee.Reducer.median())\n",
       "\u001b[31mFile:\u001b[39m      c:\\users\\ronir\\anaconda3\\envs\\gee\\lib\\site-packages\\wxee\\time_series.py\n",
       "\u001b[31mType:\u001b[39m      method"
      ]
     },
     "metadata": {},
     "output_type": "display_data"
    }
   ],
   "source": [
    "GBR_TS_filled=GBR_TS.rolling_time?"
   ]
  },
  {
   "cell_type": "markdown",
   "id": "5d192f47-ec9d-4302-bb7f-a9078680786f",
   "metadata": {},
   "source": [
    "Gap Filling with mean values (T=3 years)"
   ]
  },
  {
   "cell_type": "code",
   "execution_count": 43,
   "id": "d40df368-1cf4-4293-96b9-e71a747e9253",
   "metadata": {},
   "outputs": [
    {
     "data": {
      "text/html": [
       "\n",
       "            <style>\n",
       "                .geemap-dark {\n",
       "                    --jp-widgets-color: white;\n",
       "                    --jp-widgets-label-color: white;\n",
       "                    --jp-ui-font-color1: white;\n",
       "                    --jp-layout-color2: #454545;\n",
       "                    background-color: #383838;\n",
       "                }\n",
       "\n",
       "                .geemap-dark .jupyter-button {\n",
       "                    --jp-layout-color3: #383838;\n",
       "                }\n",
       "\n",
       "                .geemap-colab {\n",
       "                    background-color: var(--colab-primary-surface-color, white);\n",
       "                }\n",
       "\n",
       "                .geemap-colab .jupyter-button {\n",
       "                    --jp-layout-color3: var(--colab-primary-surface-color, white);\n",
       "                }\n",
       "            </style>\n",
       "            "
      ],
      "text/plain": [
       "<IPython.core.display.HTML object>"
      ]
     },
     "metadata": {},
     "output_type": "display_data"
    }
   ],
   "source": [
    "GBR_TS_filled=GBR_TS.fill_gaps(window=3, unit='year', reducer=ee.Reducer.median())\n",
    "TIR_TS_filled=TIR_TS.fill_gaps(window=3, unit='year', reducer=ee.Reducer.median())\n",
    "NDWI_TS_filled=NDWI_TS.fill_gaps(window=3, unit='year', reducer=ee.Reducer.median())"
   ]
  },
  {
   "cell_type": "markdown",
   "id": "ac454452-497e-42bb-9326-a518e4d1bb68",
   "metadata": {},
   "source": [
    "Smoothing with wxee, T=5 years"
   ]
  },
  {
   "cell_type": "code",
   "execution_count": 44,
   "id": "e1ffc0a1-033f-4c33-8973-08041d66a99e",
   "metadata": {},
   "outputs": [
    {
     "data": {
      "text/html": [
       "\n",
       "            <style>\n",
       "                .geemap-dark {\n",
       "                    --jp-widgets-color: white;\n",
       "                    --jp-widgets-label-color: white;\n",
       "                    --jp-ui-font-color1: white;\n",
       "                    --jp-layout-color2: #454545;\n",
       "                    background-color: #383838;\n",
       "                }\n",
       "\n",
       "                .geemap-dark .jupyter-button {\n",
       "                    --jp-layout-color3: #383838;\n",
       "                }\n",
       "\n",
       "                .geemap-colab {\n",
       "                    background-color: var(--colab-primary-surface-color, white);\n",
       "                }\n",
       "\n",
       "                .geemap-colab .jupyter-button {\n",
       "                    --jp-layout-color3: var(--colab-primary-surface-color, white);\n",
       "                }\n",
       "            </style>\n",
       "            "
      ],
      "text/plain": [
       "<IPython.core.display.HTML object>"
      ]
     },
     "metadata": {},
     "output_type": "display_data"
    }
   ],
   "source": [
    "GBR_TS_filled_smooth=GBR_TS_filled.rolling_time(window=5, unit= 'years', reducer=ee.Reducer.median())\n",
    "TIR_TS_filled_smooth=TIR_TS_filled.rolling_time(window=5, unit= 'years', reducer=ee.Reducer.median())\n",
    "NDWI_TS_filled_smooth=NDWI_TS_filled.rolling_time(window=5, unit= 'years', reducer=ee.Reducer.median())"
   ]
  },
  {
   "cell_type": "markdown",
   "id": "2fd54cca-0d70-4b73-8a4f-dcff21c2eb4e",
   "metadata": {},
   "source": [
    "-------------------------------------------------------------------------------------"
   ]
  },
  {
   "cell_type": "markdown",
   "id": "5201a0da-a6b3-4e90-b335-50d41b53e03f",
   "metadata": {},
   "source": [
    "# Exporting TS data"
   ]
  },
  {
   "cell_type": "code",
   "execution_count": 45,
   "id": "798ddd06-c118-45a1-88b6-7a13e15acd39",
   "metadata": {},
   "outputs": [
    {
     "data": {
      "text/html": [
       "\n",
       "            <style>\n",
       "                .geemap-dark {\n",
       "                    --jp-widgets-color: white;\n",
       "                    --jp-widgets-label-color: white;\n",
       "                    --jp-ui-font-color1: white;\n",
       "                    --jp-layout-color2: #454545;\n",
       "                    background-color: #383838;\n",
       "                }\n",
       "\n",
       "                .geemap-dark .jupyter-button {\n",
       "                    --jp-layout-color3: #383838;\n",
       "                }\n",
       "\n",
       "                .geemap-colab {\n",
       "                    background-color: var(--colab-primary-surface-color, white);\n",
       "                }\n",
       "\n",
       "                .geemap-colab .jupyter-button {\n",
       "                    --jp-layout-color3: var(--colab-primary-surface-color, white);\n",
       "                }\n",
       "            </style>\n",
       "            "
      ],
      "text/plain": [
       "<IPython.core.display.HTML object>"
      ]
     },
     "metadata": {},
     "output_type": "display_data"
    }
   ],
   "source": [
    "# Loop through each image in the annualCollection and export it\n",
    "collection= TIR_TS_filled_smooth\n",
    "for i in range(collection.size().getInfo()):\n",
    "    image = ee.Image(collection.toList(collection.size()).get(i))\n",
    "    \n",
    "    # Export the image\n",
    "    geemap.ee_export_image_to_asset(\n",
    "        image=image,\n",
    "        description=f'TempC_TS_{1984+i}',\n",
    "        assetId=f'projects/ee-roniritzganem/assets/stage_carrtel_2025/Time_series_GBR_NDWI_TIR_vdef/TempC/TIR_TS_filled_smooth_{1984+i}',\n",
    "        region=geom_lia,\n",
    "        scale=scale,\n",
    "        maxPixels=1e13,\n",
    "        crs=projection\n",
    "        )"
   ]
  },
  {
   "cell_type": "code",
   "execution_count": 23,
   "id": "955c9743-a8b4-4d4b-9f08-3e4f69a2e380",
   "metadata": {},
   "outputs": [
    {
     "data": {
      "text/html": [
       "\n",
       "            <style>\n",
       "                .geemap-dark {\n",
       "                    --jp-widgets-color: white;\n",
       "                    --jp-widgets-label-color: white;\n",
       "                    --jp-ui-font-color1: white;\n",
       "                    --jp-layout-color2: #454545;\n",
       "                    background-color: #383838;\n",
       "                }\n",
       "\n",
       "                .geemap-dark .jupyter-button {\n",
       "                    --jp-layout-color3: #383838;\n",
       "                }\n",
       "\n",
       "                .geemap-colab {\n",
       "                    background-color: var(--colab-primary-surface-color, white);\n",
       "                }\n",
       "\n",
       "                .geemap-colab .jupyter-button {\n",
       "                    --jp-layout-color3: var(--colab-primary-surface-color, white);\n",
       "                }\n",
       "            </style>\n",
       "            "
      ],
      "text/plain": [
       "<IPython.core.display.HTML object>"
      ]
     },
     "metadata": {},
     "output_type": "display_data"
    }
   ],
   "source": [
    "# Loop through each image in the annualCollection and export it\n",
    "collection= GBR_TS_filled_smooth\n",
    "for i in range(collection.size().getInfo()):\n",
    "    image = ee.Image(collection.toList(collection.size()).get(i))\n",
    "    \n",
    "    \n",
    "    # Export the image\n",
    "    geemap.ee_export_image_to_asset(\n",
    "        image=image,\n",
    "        description=f'GBR_TS_{1984+i}',\n",
    "        assetId=f'projects/ee-roniritzganem/assets/stage_carrtel_2025/Time_series_GBR_NDWI_TIR_vdef/GBR/GBR_TS_filled_smooth_{1984+i}',\n",
    "        region=geom_lia,\n",
    "        scale=scale,\n",
    "        maxPixels=1e13,\n",
    "        crs=projection\n",
    "    )"
   ]
  },
  {
   "cell_type": "code",
   "execution_count": 24,
   "id": "183c3d2f-3365-41cb-8467-c26ae5048bbf",
   "metadata": {},
   "outputs": [
    {
     "data": {
      "text/html": [
       "\n",
       "            <style>\n",
       "                .geemap-dark {\n",
       "                    --jp-widgets-color: white;\n",
       "                    --jp-widgets-label-color: white;\n",
       "                    --jp-ui-font-color1: white;\n",
       "                    --jp-layout-color2: #454545;\n",
       "                    background-color: #383838;\n",
       "                }\n",
       "\n",
       "                .geemap-dark .jupyter-button {\n",
       "                    --jp-layout-color3: #383838;\n",
       "                }\n",
       "\n",
       "                .geemap-colab {\n",
       "                    background-color: var(--colab-primary-surface-color, white);\n",
       "                }\n",
       "\n",
       "                .geemap-colab .jupyter-button {\n",
       "                    --jp-layout-color3: var(--colab-primary-surface-color, white);\n",
       "                }\n",
       "            </style>\n",
       "            "
      ],
      "text/plain": [
       "<IPython.core.display.HTML object>"
      ]
     },
     "metadata": {},
     "output_type": "display_data"
    }
   ],
   "source": [
    "# Loop through each image in the annualCollection and export it\n",
    "collection= NDWI_TS_filled_smooth\n",
    "for i in range(collection.size().getInfo()):\n",
    "    image = ee.Image(collection.toList(collection.size()).get(i))\n",
    "    \n",
    "    \n",
    "    # Export the image\n",
    "    geemap.ee_export_image_to_asset(\n",
    "        image=image,\n",
    "        description=f'NDWI_TS_{1984+i}',\n",
    "        assetId=f'projects/ee-roniritzganem/assets/stage_carrtel_2025/Time_series_GBR_NDWI_TIR_vdef/NDWI/NDWI_TS_filled_smooth_{1984+i}',\n",
    "        region=geom_lia,\n",
    "        scale=scale,\n",
    "        maxPixels=1e13,\n",
    "        crs=projection\n",
    "    )"
   ]
  },
  {
   "cell_type": "markdown",
   "id": "91f8a02a-ca6c-44f2-96bf-3fc4cb564f67",
   "metadata": {},
   "source": [
    "-------------------------------------------------------------------------------------"
   ]
  }
 ],
 "metadata": {
  "kernelspec": {
   "display_name": "Python 3 (ipykernel)",
   "language": "python",
   "name": "python3"
  },
  "language_info": {
   "codemirror_mode": {
    "name": "ipython",
    "version": 3
   },
   "file_extension": ".py",
   "mimetype": "text/x-python",
   "name": "python",
   "nbconvert_exporter": "python",
   "pygments_lexer": "ipython3",
   "version": "3.11.11"
  }
 },
 "nbformat": 4,
 "nbformat_minor": 5
}
