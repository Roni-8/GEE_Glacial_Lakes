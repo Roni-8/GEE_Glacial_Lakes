{
 "cells": [
  {
   "cell_type": "markdown",
   "id": "3542cd5d-98c2-427b-80d3-1761d1ff12f7",
   "metadata": {},
   "source": [
    "# IMPORTS - INITIALIZATION"
   ]
  },
  {
   "cell_type": "code",
   "execution_count": 1,
   "id": "477a23de-5492-437b-ae88-ceb393f8a5b3",
   "metadata": {},
   "outputs": [],
   "source": [
    "import ee, eemont\n",
    "import xee, wxee\n",
    "import xarray as xr\n",
    "import geopandas as gpd\n",
    "import geemap"
   ]
  },
  {
   "cell_type": "code",
   "execution_count": 27,
   "id": "239eaace-2ee0-4d83-bcab-76cd5ea4b4d2",
   "metadata": {},
   "outputs": [
    {
     "data": {
      "text/html": [
       "\n",
       "            <style>\n",
       "                .geemap-dark {\n",
       "                    --jp-widgets-color: white;\n",
       "                    --jp-widgets-label-color: white;\n",
       "                    --jp-ui-font-color1: white;\n",
       "                    --jp-layout-color2: #454545;\n",
       "                    background-color: #383838;\n",
       "                }\n",
       "\n",
       "                .geemap-dark .jupyter-button {\n",
       "                    --jp-layout-color3: #383838;\n",
       "                }\n",
       "\n",
       "                .geemap-colab {\n",
       "                    background-color: var(--colab-primary-surface-color, white);\n",
       "                }\n",
       "\n",
       "                .geemap-colab .jupyter-button {\n",
       "                    --jp-layout-color3: var(--colab-primary-surface-color, white);\n",
       "                }\n",
       "            </style>\n",
       "            "
      ],
      "text/plain": [
       "<IPython.core.display.HTML object>"
      ]
     },
     "metadata": {},
     "output_type": "display_data"
    }
   ],
   "source": [
    "ee.Authenticate()\n",
    "ee.Initialize()\n",
    "wxee.Initialize()"
   ]
  },
  {
   "cell_type": "markdown",
   "id": "d60c7e42-9103-457f-82e8-261d546b10b7",
   "metadata": {},
   "source": [
    "# Import of index and Geom data\n"
   ]
  },
  {
   "cell_type": "code",
   "execution_count": 28,
   "id": "79f6d0a6-7e1c-41c3-b078-dc28a6dbbb04",
   "metadata": {},
   "outputs": [
    {
     "data": {
      "text/html": [
       "\n",
       "            <style>\n",
       "                .geemap-dark {\n",
       "                    --jp-widgets-color: white;\n",
       "                    --jp-widgets-label-color: white;\n",
       "                    --jp-ui-font-color1: white;\n",
       "                    --jp-layout-color2: #454545;\n",
       "                    background-color: #383838;\n",
       "                }\n",
       "\n",
       "                .geemap-dark .jupyter-button {\n",
       "                    --jp-layout-color3: #383838;\n",
       "                }\n",
       "\n",
       "                .geemap-colab {\n",
       "                    background-color: var(--colab-primary-surface-color, white);\n",
       "                }\n",
       "\n",
       "                .geemap-colab .jupyter-button {\n",
       "                    --jp-layout-color3: var(--colab-primary-surface-color, white);\n",
       "                }\n",
       "            </style>\n",
       "            "
      ],
      "text/plain": [
       "<IPython.core.display.HTML object>"
      ]
     },
     "metadata": {},
     "output_type": "display_data"
    }
   ],
   "source": [
    "years = range(1985, 2025)"
   ]
  },
  {
   "cell_type": "code",
   "execution_count": 30,
   "id": "f48bd319-9037-4741-bc93-c46d70e92a3e",
   "metadata": {},
   "outputs": [
    {
     "data": {
      "text/html": [
       "\n",
       "            <style>\n",
       "                .geemap-dark {\n",
       "                    --jp-widgets-color: white;\n",
       "                    --jp-widgets-label-color: white;\n",
       "                    --jp-ui-font-color1: white;\n",
       "                    --jp-layout-color2: #454545;\n",
       "                    background-color: #383838;\n",
       "                }\n",
       "\n",
       "                .geemap-dark .jupyter-button {\n",
       "                    --jp-layout-color3: #383838;\n",
       "                }\n",
       "\n",
       "                .geemap-colab {\n",
       "                    background-color: var(--colab-primary-surface-color, white);\n",
       "                }\n",
       "\n",
       "                .geemap-colab .jupyter-button {\n",
       "                    --jp-layout-color3: var(--colab-primary-surface-color, white);\n",
       "                }\n",
       "            </style>\n",
       "            "
      ],
      "text/plain": [
       "<IPython.core.display.HTML object>"
      ]
     },
     "metadata": {},
     "output_type": "display_data"
    }
   ],
   "source": [
    "fc_lia = ee.FeatureCollection('') # Change to EU\n",
    "geom_lia=fc_lia.geometry()\n",
    "\n",
    "dem_glo30 = ee.ImageCollection(\"COPERNICUS/DEM/GLO30\")"
   ]
  },
  {
   "cell_type": "markdown",
   "id": "3dad7bdb-265f-45bf-be24-379eeb4ae5c6",
   "metadata": {},
   "source": [
    "Importing TS IC"
   ]
  },
  {
   "cell_type": "code",
   "execution_count": 32,
   "id": "345ab474-7496-4867-a1cc-d50259f9a16f",
   "metadata": {},
   "outputs": [
    {
     "data": {
      "text/html": [
       "\n",
       "            <style>\n",
       "                .geemap-dark {\n",
       "                    --jp-widgets-color: white;\n",
       "                    --jp-widgets-label-color: white;\n",
       "                    --jp-ui-font-color1: white;\n",
       "                    --jp-layout-color2: #454545;\n",
       "                    background-color: #383838;\n",
       "                }\n",
       "\n",
       "                .geemap-dark .jupyter-button {\n",
       "                    --jp-layout-color3: #383838;\n",
       "                }\n",
       "\n",
       "                .geemap-colab {\n",
       "                    background-color: var(--colab-primary-surface-color, white);\n",
       "                }\n",
       "\n",
       "                .geemap-colab .jupyter-button {\n",
       "                    --jp-layout-color3: var(--colab-primary-surface-color, white);\n",
       "                }\n",
       "            </style>\n",
       "            "
      ],
      "text/plain": [
       "<IPython.core.display.HTML object>"
      ]
     },
     "metadata": {},
     "output_type": "display_data"
    }
   ],
   "source": [
    "gbr_ts_filled_smooth=ee.ImageCollection([\n",
    "    ee.Image(f\"projects/ee-roniritzganem/assets/EU_GL/ts_GBR_NDWI_TIR/GBR/GBR_TS_filled_smooth_{year}\")\n",
    "    for year in years\n",
    "])\n",
    "tir_ts_filled_smooth=ee.ImageCollection([\n",
    "    ee.Image(f\"projects/ee-roniritzganem/assets/EU_GL/ts_GBR_NDWI_TIR/TIR/TIR_TS_filled_smooth_{year}\").set('year', year).set(\"system:time_start\", ee.Date(f\"{year}\"))\n",
    "    for year in years\n",
    "])\n",
    "ndwi_ts_filled_smooth=ee.ImageCollection([\n",
    "    ee.Image(f\"projects/ee-roniritzganem/assets/EU_GL/ts_GBR_NDWI_TIR/NDWI/NDWI_TS_filled_smooth_{year}\")\n",
    "    for year in years\n",
    "])"
   ]
  },
  {
   "cell_type": "markdown",
   "id": "2a412195-6959-4fc8-8ac9-0b7bb71452ab",
   "metadata": {},
   "source": [
    "# Parameters "
   ]
  },
  {
   "cell_type": "code",
   "execution_count": 33,
   "id": "2fc67d3a-e00e-4239-8c59-e4587cb4d806",
   "metadata": {},
   "outputs": [
    {
     "data": {
      "text/html": [
       "\n",
       "            <style>\n",
       "                .geemap-dark {\n",
       "                    --jp-widgets-color: white;\n",
       "                    --jp-widgets-label-color: white;\n",
       "                    --jp-ui-font-color1: white;\n",
       "                    --jp-layout-color2: #454545;\n",
       "                    background-color: #383838;\n",
       "                }\n",
       "\n",
       "                .geemap-dark .jupyter-button {\n",
       "                    --jp-layout-color3: #383838;\n",
       "                }\n",
       "\n",
       "                .geemap-colab {\n",
       "                    background-color: var(--colab-primary-surface-color, white);\n",
       "                }\n",
       "\n",
       "                .geemap-colab .jupyter-button {\n",
       "                    --jp-layout-color3: var(--colab-primary-surface-color, white);\n",
       "                }\n",
       "            </style>\n",
       "            "
      ],
      "text/plain": [
       "<IPython.core.display.HTML object>"
      ]
     },
     "metadata": {},
     "output_type": "display_data"
    }
   ],
   "source": [
    "scale = 30 #Landsat 30m\n",
    "projection = \"EPSG:4326\" #GEE le plus stable avec ce SRC"
   ]
  },
  {
   "cell_type": "code",
   "execution_count": 34,
   "id": "796cf030-4513-404d-ae00-b998cb74ee35",
   "metadata": {},
   "outputs": [
    {
     "data": {
      "text/html": [
       "\n",
       "            <style>\n",
       "                .geemap-dark {\n",
       "                    --jp-widgets-color: white;\n",
       "                    --jp-widgets-label-color: white;\n",
       "                    --jp-ui-font-color1: white;\n",
       "                    --jp-layout-color2: #454545;\n",
       "                    background-color: #383838;\n",
       "                }\n",
       "\n",
       "                .geemap-dark .jupyter-button {\n",
       "                    --jp-layout-color3: #383838;\n",
       "                }\n",
       "\n",
       "                .geemap-colab {\n",
       "                    background-color: var(--colab-primary-surface-color, white);\n",
       "                }\n",
       "\n",
       "                .geemap-colab .jupyter-button {\n",
       "                    --jp-layout-color3: var(--colab-primary-surface-color, white);\n",
       "                }\n",
       "            </style>\n",
       "            "
      ],
      "text/plain": [
       "<IPython.core.display.HTML object>"
      ]
     },
     "metadata": {},
     "output_type": "display_data"
    }
   ],
   "source": [
    "dem = ee.ImageCollection(dem_glo30).filterBounds(fc_lia).select(\"DEM\")\n",
    "dem_mosaic = dem.mosaic().clip(fc_lia)\n",
    "SlopeThresh = 30"
   ]
  },
  {
   "cell_type": "code",
   "execution_count": 35,
   "id": "d0858467-3a6a-4419-bbe7-a39fff6b69c8",
   "metadata": {},
   "outputs": [
    {
     "data": {
      "text/html": [
       "\n",
       "            <style>\n",
       "                .geemap-dark {\n",
       "                    --jp-widgets-color: white;\n",
       "                    --jp-widgets-label-color: white;\n",
       "                    --jp-ui-font-color1: white;\n",
       "                    --jp-layout-color2: #454545;\n",
       "                    background-color: #383838;\n",
       "                }\n",
       "\n",
       "                .geemap-dark .jupyter-button {\n",
       "                    --jp-layout-color3: #383838;\n",
       "                }\n",
       "\n",
       "                .geemap-colab {\n",
       "                    background-color: var(--colab-primary-surface-color, white);\n",
       "                }\n",
       "\n",
       "                .geemap-colab .jupyter-button {\n",
       "                    --jp-layout-color3: var(--colab-primary-surface-color, white);\n",
       "                }\n",
       "            </style>\n",
       "            "
      ],
      "text/plain": [
       "<IPython.core.display.HTML object>"
      ]
     },
     "metadata": {},
     "output_type": "display_data"
    }
   ],
   "source": [
    "visWATER_1 = {\"min\": 0, \"max\": 1, \"palette\": [\"#808080\", \"#FFA500\"]}  # Orange"
   ]
  },
  {
   "cell_type": "markdown",
   "id": "efb73123-9bf0-4bee-837c-74c1d615acb9",
   "metadata": {},
   "source": [
    "# FUNCTIONS"
   ]
  },
  {
   "cell_type": "code",
   "execution_count": 36,
   "id": "2d779745-a781-465e-9898-3226433d01ad",
   "metadata": {},
   "outputs": [
    {
     "data": {
      "text/html": [
       "\n",
       "            <style>\n",
       "                .geemap-dark {\n",
       "                    --jp-widgets-color: white;\n",
       "                    --jp-widgets-label-color: white;\n",
       "                    --jp-ui-font-color1: white;\n",
       "                    --jp-layout-color2: #454545;\n",
       "                    background-color: #383838;\n",
       "                }\n",
       "\n",
       "                .geemap-dark .jupyter-button {\n",
       "                    --jp-layout-color3: #383838;\n",
       "                }\n",
       "\n",
       "                .geemap-colab {\n",
       "                    background-color: var(--colab-primary-surface-color, white);\n",
       "                }\n",
       "\n",
       "                .geemap-colab .jupyter-button {\n",
       "                    --jp-layout-color3: var(--colab-primary-surface-color, white);\n",
       "                }\n",
       "            </style>\n",
       "            "
      ],
      "text/plain": [
       "<IPython.core.display.HTML object>"
      ]
     },
     "metadata": {},
     "output_type": "display_data"
    }
   ],
   "source": [
    "def build_band_image(band_name,collection):\n",
    "    def select_band(img):\n",
    "        return img.select([band_name]) \\\n",
    "                  .copyProperties(img, img.propertyNames())\n",
    "    \n",
    "    return collection.map(select_band)"
   ]
  },
  {
   "cell_type": "code",
   "execution_count": 37,
   "id": "5b44032d-06fa-459e-ae21-9a45ef88259a",
   "metadata": {},
   "outputs": [
    {
     "data": {
      "text/html": [
       "\n",
       "            <style>\n",
       "                .geemap-dark {\n",
       "                    --jp-widgets-color: white;\n",
       "                    --jp-widgets-label-color: white;\n",
       "                    --jp-ui-font-color1: white;\n",
       "                    --jp-layout-color2: #454545;\n",
       "                    background-color: #383838;\n",
       "                }\n",
       "\n",
       "                .geemap-dark .jupyter-button {\n",
       "                    --jp-layout-color3: #383838;\n",
       "                }\n",
       "\n",
       "                .geemap-colab {\n",
       "                    background-color: var(--colab-primary-surface-color, white);\n",
       "                }\n",
       "\n",
       "                .geemap-colab .jupyter-button {\n",
       "                    --jp-layout-color3: var(--colab-primary-surface-color, white);\n",
       "                }\n",
       "            </style>\n",
       "            "
      ],
      "text/plain": [
       "<IPython.core.display.HTML object>"
      ]
     },
     "metadata": {},
     "output_type": "display_data"
    }
   ],
   "source": [
    "def select_band(img):\n",
    "    years = range(1984, 2025)\n",
    "    for year in years:\n",
    "        img.copyProperties(img, img.propertyNames()) \\\n",
    "                    .set(\"system:time_start\", ee.Date(f\"{year}\"))\n",
    "    return img\n",
    "    \n"
   ]
  },
  {
   "cell_type": "code",
   "execution_count": 38,
   "id": "80922023-af66-4392-86ce-61433d687dd3",
   "metadata": {
    "scrolled": true
   },
   "outputs": [
    {
     "data": {
      "text/html": [
       "\n",
       "            <style>\n",
       "                .geemap-dark {\n",
       "                    --jp-widgets-color: white;\n",
       "                    --jp-widgets-label-color: white;\n",
       "                    --jp-ui-font-color1: white;\n",
       "                    --jp-layout-color2: #454545;\n",
       "                    background-color: #383838;\n",
       "                }\n",
       "\n",
       "                .geemap-dark .jupyter-button {\n",
       "                    --jp-layout-color3: #383838;\n",
       "                }\n",
       "\n",
       "                .geemap-colab {\n",
       "                    background-color: var(--colab-primary-surface-color, white);\n",
       "                }\n",
       "\n",
       "                .geemap-colab .jupyter-button {\n",
       "                    --jp-layout-color3: var(--colab-primary-surface-color, white);\n",
       "                }\n",
       "            </style>\n",
       "            "
      ],
      "text/plain": [
       "<IPython.core.display.HTML object>"
      ]
     },
     "metadata": {},
     "output_type": "display_data"
    }
   ],
   "source": [
    "def convert_temp_to_deg(image):\n",
    "    image_degC = image.select('TIR') \\\n",
    "                      .subtract(273.15) \\\n",
    "                      .rename('tempC') \\\n",
    "                      .copyProperties(image, ['system:time_start'])\n",
    "    return image_degC"
   ]
  },
  {
   "cell_type": "code",
   "execution_count": 39,
   "id": "5b4fa253-1345-4bdd-9466-62acc22f9554",
   "metadata": {},
   "outputs": [
    {
     "data": {
      "text/html": [
       "\n",
       "            <style>\n",
       "                .geemap-dark {\n",
       "                    --jp-widgets-color: white;\n",
       "                    --jp-widgets-label-color: white;\n",
       "                    --jp-ui-font-color1: white;\n",
       "                    --jp-layout-color2: #454545;\n",
       "                    background-color: #383838;\n",
       "                }\n",
       "\n",
       "                .geemap-dark .jupyter-button {\n",
       "                    --jp-layout-color3: #383838;\n",
       "                }\n",
       "\n",
       "                .geemap-colab {\n",
       "                    background-color: var(--colab-primary-surface-color, white);\n",
       "                }\n",
       "\n",
       "                .geemap-colab .jupyter-button {\n",
       "                    --jp-layout-color3: var(--colab-primary-surface-color, white);\n",
       "                }\n",
       "            </style>\n",
       "            "
      ],
      "text/plain": [
       "<IPython.core.display.HTML object>"
      ]
     },
     "metadata": {},
     "output_type": "display_data"
    }
   ],
   "source": [
    "def set_year_from_property(image):\n",
    "    \"\"\"\n",
    "    Prend une image, lit une propriété 'year', et définit 'system:time_start' basé sur cette année.\n",
    "    \"\"\"\n",
    "    # Lire l'année depuis les propriétés\n",
    "    year = ee.Number(image.get('year'))\n",
    "    \n",
    "    # Créer une date au 1er janvier de cette année\n",
    "    date = ee.Date.fromYMD(year, 1, 1)\n",
    "    \n",
    "    # Ajouter cette date dans 'system:time_start'\n",
    "    return image.set('system:time_start', date.millis())"
   ]
  },
  {
   "cell_type": "code",
   "execution_count": 40,
   "id": "5a6b6d39-8524-4ef2-ba42-a26e48799dec",
   "metadata": {},
   "outputs": [
    {
     "data": {
      "text/html": [
       "\n",
       "            <style>\n",
       "                .geemap-dark {\n",
       "                    --jp-widgets-color: white;\n",
       "                    --jp-widgets-label-color: white;\n",
       "                    --jp-ui-font-color1: white;\n",
       "                    --jp-layout-color2: #454545;\n",
       "                    background-color: #383838;\n",
       "                }\n",
       "\n",
       "                .geemap-dark .jupyter-button {\n",
       "                    --jp-layout-color3: #383838;\n",
       "                }\n",
       "\n",
       "                .geemap-colab {\n",
       "                    background-color: var(--colab-primary-surface-color, white);\n",
       "                }\n",
       "\n",
       "                .geemap-colab .jupyter-button {\n",
       "                    --jp-layout-color3: var(--colab-primary-surface-color, white);\n",
       "                }\n",
       "            </style>\n",
       "            "
      ],
      "text/plain": [
       "<IPython.core.display.HTML object>"
      ]
     },
     "metadata": {},
     "output_type": "display_data"
    }
   ],
   "source": [
    "# Merge to filter both on NDWI and TIR value\n",
    "def join_ndwi_tir(image_ndwi):\n",
    "    year = image_ndwi.get('year')\n",
    "    \n",
    "    matching_tir = tir_ts_filled_smooth.filter(ee.Filter.eq('year', year)).first()\n",
    "    \n",
    "    combined = image_ndwi.addBands(matching_tir)\n",
    "    \n",
    "    return combined"
   ]
  },
  {
   "cell_type": "code",
   "execution_count": 42,
   "id": "c59735d7-f775-4647-8ec0-733f0c527286",
   "metadata": {},
   "outputs": [
    {
     "data": {
      "text/html": [
       "\n",
       "            <style>\n",
       "                .geemap-dark {\n",
       "                    --jp-widgets-color: white;\n",
       "                    --jp-widgets-label-color: white;\n",
       "                    --jp-ui-font-color1: white;\n",
       "                    --jp-layout-color2: #454545;\n",
       "                    background-color: #383838;\n",
       "                }\n",
       "\n",
       "                .geemap-dark .jupyter-button {\n",
       "                    --jp-layout-color3: #383838;\n",
       "                }\n",
       "\n",
       "                .geemap-colab {\n",
       "                    background-color: var(--colab-primary-surface-color, white);\n",
       "                }\n",
       "\n",
       "                .geemap-colab .jupyter-button {\n",
       "                    --jp-layout-color3: var(--colab-primary-surface-color, white);\n",
       "                }\n",
       "            </style>\n",
       "            "
      ],
      "text/plain": [
       "<IPython.core.display.HTML object>"
      ]
     },
     "metadata": {},
     "output_type": "display_data"
    }
   ],
   "source": [
    "def get_slope(image):\n",
    "    return ee.Terrain.slope(image)"
   ]
  },
  {
   "cell_type": "code",
   "execution_count": 43,
   "id": "eaf78cff-1ff2-4ef1-a033-b520324897c0",
   "metadata": {},
   "outputs": [
    {
     "data": {
      "text/html": [
       "\n",
       "            <style>\n",
       "                .geemap-dark {\n",
       "                    --jp-widgets-color: white;\n",
       "                    --jp-widgets-label-color: white;\n",
       "                    --jp-ui-font-color1: white;\n",
       "                    --jp-layout-color2: #454545;\n",
       "                    background-color: #383838;\n",
       "                }\n",
       "\n",
       "                .geemap-dark .jupyter-button {\n",
       "                    --jp-layout-color3: #383838;\n",
       "                }\n",
       "\n",
       "                .geemap-colab {\n",
       "                    background-color: var(--colab-primary-surface-color, white);\n",
       "                }\n",
       "\n",
       "                .geemap-colab .jupyter-button {\n",
       "                    --jp-layout-color3: var(--colab-primary-surface-color, white);\n",
       "                }\n",
       "            </style>\n",
       "            "
      ],
      "text/plain": [
       "<IPython.core.display.HTML object>"
      ]
     },
     "metadata": {},
     "output_type": "display_data"
    }
   ],
   "source": [
    "slope = dem.map(get_slope).mosaic().clip(fc_lia) \\\n",
    "#need to map on single image for slope function to work fine\n",
    "slope_mask = slope.lt(SlopeThresh)"
   ]
  },
  {
   "cell_type": "code",
   "execution_count": 44,
   "id": "c04a1a28-7454-45b3-8dad-a43bc0557e08",
   "metadata": {},
   "outputs": [
    {
     "data": {
      "text/html": [
       "\n",
       "            <style>\n",
       "                .geemap-dark {\n",
       "                    --jp-widgets-color: white;\n",
       "                    --jp-widgets-label-color: white;\n",
       "                    --jp-ui-font-color1: white;\n",
       "                    --jp-layout-color2: #454545;\n",
       "                    background-color: #383838;\n",
       "                }\n",
       "\n",
       "                .geemap-dark .jupyter-button {\n",
       "                    --jp-layout-color3: #383838;\n",
       "                }\n",
       "\n",
       "                .geemap-colab {\n",
       "                    background-color: var(--colab-primary-surface-color, white);\n",
       "                }\n",
       "\n",
       "                .geemap-colab .jupyter-button {\n",
       "                    --jp-layout-color3: var(--colab-primary-surface-color, white);\n",
       "                }\n",
       "            </style>\n",
       "            "
      ],
      "text/plain": [
       "<IPython.core.display.HTML object>"
      ]
     },
     "metadata": {},
     "output_type": "display_data"
    }
   ],
   "source": [
    "def classifyGlacier(image, seuil):\n",
    "    temp = image.select('GBR').gt(seuil)\n",
    "    mask = temp.where(temp.gte(1), 1)\n",
    "    \n",
    "    return image.addBands(mask.rename('GLACIER').toInt())\n",
    "   \n",
    "\n",
    "def classifyWater(image, seuil):\n",
    "    temp = image.select('NDWI').gt(seuil)\n",
    "    temp2 = temp.where(temp.gte(1), 2)\n",
    "    mask = temp2.updateMask(slope_mask).unmask(0)\n",
    "\n",
    "    # Temperature mask\n",
    "    Temp_convert= image.select('tempC')\n",
    "    Temp_mask = Temp_convert.updateMask(Temp_convert.gt(1).And(Temp_convert.lt(20)))\n",
    "    mask2 = mask.updateMask(Temp_mask).unmask(0)\n",
    "    \n",
    "    return image.addBands(mask2.rename('WATER').toInt())"
   ]
  },
  {
   "cell_type": "code",
   "execution_count": 45,
   "id": "4c94d135-93d0-4d93-bf80-17b503de577f",
   "metadata": {},
   "outputs": [
    {
     "data": {
      "text/html": [
       "\n",
       "            <style>\n",
       "                .geemap-dark {\n",
       "                    --jp-widgets-color: white;\n",
       "                    --jp-widgets-label-color: white;\n",
       "                    --jp-ui-font-color1: white;\n",
       "                    --jp-layout-color2: #454545;\n",
       "                    background-color: #383838;\n",
       "                }\n",
       "\n",
       "                .geemap-dark .jupyter-button {\n",
       "                    --jp-layout-color3: #383838;\n",
       "                }\n",
       "\n",
       "                .geemap-colab {\n",
       "                    background-color: var(--colab-primary-surface-color, white);\n",
       "                }\n",
       "\n",
       "                .geemap-colab .jupyter-button {\n",
       "                    --jp-layout-color3: var(--colab-primary-surface-color, white);\n",
       "                }\n",
       "            </style>\n",
       "            "
      ],
      "text/plain": [
       "<IPython.core.display.HTML object>"
      ]
     },
     "metadata": {},
     "output_type": "display_data"
    }
   ],
   "source": [
    "def clip_to_geometry(image,geom):\n",
    "    return image.clip(geom)"
   ]
  },
  {
   "cell_type": "markdown",
   "id": "6df09db7-56e5-416a-a745-7548572d55e4",
   "metadata": {},
   "source": [
    "-------------------------------------------------------------------------------------"
   ]
  },
  {
   "cell_type": "markdown",
   "id": "d7a6d329-3d3b-4795-906d-90592ba19db5",
   "metadata": {},
   "source": [
    "# Threshold and Classification"
   ]
  },
  {
   "cell_type": "markdown",
   "id": "ba32d35f-e2ee-4764-9eab-bf10d785e3e0",
   "metadata": {},
   "source": [
    "GBR>6 and\n",
    "NDWI>0.3"
   ]
  },
  {
   "cell_type": "code",
   "execution_count": 46,
   "id": "d7de10f3-b0b2-4d35-b032-98d88fdacb81",
   "metadata": {},
   "outputs": [
    {
     "data": {
      "text/html": [
       "\n",
       "            <style>\n",
       "                .geemap-dark {\n",
       "                    --jp-widgets-color: white;\n",
       "                    --jp-widgets-label-color: white;\n",
       "                    --jp-ui-font-color1: white;\n",
       "                    --jp-layout-color2: #454545;\n",
       "                    background-color: #383838;\n",
       "                }\n",
       "\n",
       "                .geemap-dark .jupyter-button {\n",
       "                    --jp-layout-color3: #383838;\n",
       "                }\n",
       "\n",
       "                .geemap-colab {\n",
       "                    background-color: var(--colab-primary-surface-color, white);\n",
       "                }\n",
       "\n",
       "                .geemap-colab .jupyter-button {\n",
       "                    --jp-layout-color3: var(--colab-primary-surface-color, white);\n",
       "                }\n",
       "            </style>\n",
       "            "
      ],
      "text/plain": [
       "<IPython.core.display.HTML object>"
      ]
     },
     "metadata": {},
     "output_type": "display_data"
    }
   ],
   "source": [
    "glacier_ts=gbr_ts_filled_smooth.map(lambda image: classifyGlacier(image, 6)).select('GLACIER').map(lambda img: img.selfMask()) \\\n",
    "                                .map(set_year_from_property)\n",
    "water_ts = ndwi_ts_filled_smooth.map(join_ndwi_tir) \\\n",
    "                                .map(lambda image: classifyWater(image, 0.3)).select('WATER') \\\n",
    "                                .map(lambda img: img.selfMask()) \\\n",
    "                                .map(set_year_from_property)             \n"
   ]
  },
  {
   "cell_type": "markdown",
   "id": "ad6fca72-2b00-42d3-bf99-f22d7e164e45",
   "metadata": {},
   "source": [
    "-------------------------------------------------------------------------------------"
   ]
  },
  {
   "cell_type": "markdown",
   "id": "d9c4f9a8-2661-49b5-aa28-e8c1d6c5715c",
   "metadata": {},
   "source": [
    "# Batch export"
   ]
  },
  {
   "cell_type": "markdown",
   "id": "f4aed279-3f03-4f4f-b86d-17d0d0462580",
   "metadata": {},
   "source": [
    "TS"
   ]
  },
  {
   "cell_type": "code",
   "execution_count": 51,
   "id": "434220da-2e5c-478c-b287-f9c522e7dc47",
   "metadata": {},
   "outputs": [
    {
     "data": {
      "text/html": [
       "\n",
       "            <style>\n",
       "                .geemap-dark {\n",
       "                    --jp-widgets-color: white;\n",
       "                    --jp-widgets-label-color: white;\n",
       "                    --jp-ui-font-color1: white;\n",
       "                    --jp-layout-color2: #454545;\n",
       "                    background-color: #383838;\n",
       "                }\n",
       "\n",
       "                .geemap-dark .jupyter-button {\n",
       "                    --jp-layout-color3: #383838;\n",
       "                }\n",
       "\n",
       "                .geemap-colab {\n",
       "                    background-color: var(--colab-primary-surface-color, white);\n",
       "                }\n",
       "\n",
       "                .geemap-colab .jupyter-button {\n",
       "                    --jp-layout-color3: var(--colab-primary-surface-color, white);\n",
       "                }\n",
       "            </style>\n",
       "            "
      ],
      "text/plain": [
       "<IPython.core.display.HTML object>"
      ]
     },
     "metadata": {},
     "output_type": "display_data"
    }
   ],
   "source": [
    "for year in range(1984, 2025):  # de 1984 à 2024 inclus\n",
    "    image = water_ts.filterDate(f'{year}-01-01', f'{year + 1}-01-01').first()\n",
    "    globals()[f'water_ts_DEF_{year}'] = image"
   ]
  },
  {
   "cell_type": "code",
   "execution_count": 54,
   "id": "ee6ce25e-f52a-454d-b9d4-6ae0bf01425b",
   "metadata": {},
   "outputs": [
    {
     "data": {
      "text/html": [
       "\n",
       "            <style>\n",
       "                .geemap-dark {\n",
       "                    --jp-widgets-color: white;\n",
       "                    --jp-widgets-label-color: white;\n",
       "                    --jp-ui-font-color1: white;\n",
       "                    --jp-layout-color2: #454545;\n",
       "                    background-color: #383838;\n",
       "                }\n",
       "\n",
       "                .geemap-dark .jupyter-button {\n",
       "                    --jp-layout-color3: #383838;\n",
       "                }\n",
       "\n",
       "                .geemap-colab {\n",
       "                    background-color: var(--colab-primary-surface-color, white);\n",
       "                }\n",
       "\n",
       "                .geemap-colab .jupyter-button {\n",
       "                    --jp-layout-color3: var(--colab-primary-surface-color, white);\n",
       "                }\n",
       "            </style>\n",
       "            "
      ],
      "text/plain": [
       "<IPython.core.display.HTML object>"
      ]
     },
     "metadata": {},
     "output_type": "display_data"
    }
   ],
   "source": [
    "for year in range(1984, 2025):  # de 1984 à 2024 inclus\n",
    "    image = glacier_ts.filterDate(f'{year}-01-01', f'{year + 1}-01-01').first()\n",
    "    globals()[f'glacier_ts_DEF_{year}'] = image"
   ]
  },
  {
   "cell_type": "markdown",
   "id": "568ce092-cf62-4262-a160-45cd17cfece3",
   "metadata": {},
   "source": [
    "------------------"
   ]
  },
  {
   "cell_type": "markdown",
   "id": "336ba5d7-f6e4-4f5f-87d3-6e3638af3fe9",
   "metadata": {},
   "source": [
    "To Drive"
   ]
  },
  {
   "cell_type": "code",
   "execution_count": 53,
   "id": "8e1df600-3ad1-4537-8e4c-65af97e5f3c8",
   "metadata": {},
   "outputs": [
    {
     "data": {
      "text/html": [
       "\n",
       "            <style>\n",
       "                .geemap-dark {\n",
       "                    --jp-widgets-color: white;\n",
       "                    --jp-widgets-label-color: white;\n",
       "                    --jp-ui-font-color1: white;\n",
       "                    --jp-layout-color2: #454545;\n",
       "                    background-color: #383838;\n",
       "                }\n",
       "\n",
       "                .geemap-dark .jupyter-button {\n",
       "                    --jp-layout-color3: #383838;\n",
       "                }\n",
       "\n",
       "                .geemap-colab {\n",
       "                    background-color: var(--colab-primary-surface-color, white);\n",
       "                }\n",
       "\n",
       "                .geemap-colab .jupyter-button {\n",
       "                    --jp-layout-color3: var(--colab-primary-surface-color, white);\n",
       "                }\n",
       "            </style>\n",
       "            "
      ],
      "text/plain": [
       "<IPython.core.display.HTML object>"
      ]
     },
     "metadata": {},
     "output_type": "display_data"
    },
    {
     "name": "stdout",
     "output_type": "stream",
     "text": [
      "Export lancé pour l'année 1984\n",
      "Export lancé pour l'année 1985\n",
      "Export lancé pour l'année 1986\n",
      "Export lancé pour l'année 1987\n",
      "Export lancé pour l'année 1988\n",
      "Export lancé pour l'année 1989\n",
      "Export lancé pour l'année 1990\n",
      "Export lancé pour l'année 1991\n",
      "Export lancé pour l'année 1992\n",
      "Export lancé pour l'année 1993\n",
      "Export lancé pour l'année 1994\n",
      "Export lancé pour l'année 1995\n",
      "Export lancé pour l'année 1996\n",
      "Export lancé pour l'année 1997\n",
      "Export lancé pour l'année 1998\n",
      "Export lancé pour l'année 1999\n",
      "Export lancé pour l'année 2000\n",
      "Export lancé pour l'année 2001\n",
      "Export lancé pour l'année 2002\n",
      "Export lancé pour l'année 2003\n",
      "Export lancé pour l'année 2004\n",
      "Export lancé pour l'année 2005\n",
      "Export lancé pour l'année 2006\n",
      "Export lancé pour l'année 2007\n",
      "Export lancé pour l'année 2008\n",
      "Export lancé pour l'année 2009\n",
      "Export lancé pour l'année 2010\n",
      "Export lancé pour l'année 2011\n",
      "Export lancé pour l'année 2012\n",
      "Export lancé pour l'année 2013\n",
      "Export lancé pour l'année 2017\n",
      "Export lancé pour l'année 2018\n",
      "Export lancé pour l'année 2019\n",
      "Export lancé pour l'année 2020\n",
      "Export lancé pour l'année 2021\n",
      "Export lancé pour l'année 2022\n",
      "Export lancé pour l'année 2023\n",
      "Export lancé pour l'année 2024\n"
     ]
    }
   ],
   "source": [
    "for year in range(1985, 2025):\n",
    "    \n",
    "    image_var_name = f\"water_ts_DEF_{year}\"\n",
    "    file_prefix = f\"water_{year}\"\n",
    "    # Récupérer dynamiquement l’image depuis les variables globales\n",
    "    image = globals().get(image_var_name)\n",
    "    task = ee.batch.Export.image.toDrive(\n",
    "            image=image,\n",
    "            folder='GEE_tel',\n",
    "            description=f\"GEE_tel_{year}\",\n",
    "            fileNamePrefix=file_prefix,\n",
    "            region=geom_lia,\n",
    "            scale=30,\n",
    "            crs=projection,\n",
    "            maxPixels=1e13\n",
    "        )\n",
    "    task.start()\n",
    "    print(f'{year} done')"
   ]
  },
  {
   "cell_type": "code",
   "execution_count": 55,
   "id": "22b31c49-4941-46de-a054-af990f90628f",
   "metadata": {},
   "outputs": [
    {
     "data": {
      "text/html": [
       "\n",
       "            <style>\n",
       "                .geemap-dark {\n",
       "                    --jp-widgets-color: white;\n",
       "                    --jp-widgets-label-color: white;\n",
       "                    --jp-ui-font-color1: white;\n",
       "                    --jp-layout-color2: #454545;\n",
       "                    background-color: #383838;\n",
       "                }\n",
       "\n",
       "                .geemap-dark .jupyter-button {\n",
       "                    --jp-layout-color3: #383838;\n",
       "                }\n",
       "\n",
       "                .geemap-colab {\n",
       "                    background-color: var(--colab-primary-surface-color, white);\n",
       "                }\n",
       "\n",
       "                .geemap-colab .jupyter-button {\n",
       "                    --jp-layout-color3: var(--colab-primary-surface-color, white);\n",
       "                }\n",
       "            </style>\n",
       "            "
      ],
      "text/plain": [
       "<IPython.core.display.HTML object>"
      ]
     },
     "metadata": {},
     "output_type": "display_data"
    },
    {
     "name": "stdout",
     "output_type": "stream",
     "text": [
      "Export lancé pour l'année 1984\n",
      "Export lancé pour l'année 1985\n",
      "Export lancé pour l'année 1986\n",
      "Export lancé pour l'année 1987\n",
      "Export lancé pour l'année 1988\n",
      "Export lancé pour l'année 1989\n",
      "Export lancé pour l'année 1990\n",
      "Export lancé pour l'année 1991\n",
      "Export lancé pour l'année 1992\n",
      "Export lancé pour l'année 1993\n",
      "Export lancé pour l'année 1994\n",
      "Export lancé pour l'année 1995\n",
      "Export lancé pour l'année 1996\n",
      "Export lancé pour l'année 1997\n",
      "Export lancé pour l'année 1998\n",
      "Export lancé pour l'année 1999\n",
      "Export lancé pour l'année 2000\n",
      "Export lancé pour l'année 2001\n",
      "Export lancé pour l'année 2002\n",
      "Export lancé pour l'année 2003\n",
      "Export lancé pour l'année 2004\n",
      "Export lancé pour l'année 2005\n",
      "Export lancé pour l'année 2006\n",
      "Export lancé pour l'année 2007\n",
      "Export lancé pour l'année 2008\n",
      "Export lancé pour l'année 2009\n",
      "Export lancé pour l'année 2010\n",
      "Export lancé pour l'année 2011\n",
      "Export lancé pour l'année 2012\n",
      "Export lancé pour l'année 2013\n",
      "Export lancé pour l'année 2017\n",
      "Export lancé pour l'année 2018\n",
      "Export lancé pour l'année 2019\n",
      "Export lancé pour l'année 2020\n",
      "Export lancé pour l'année 2021\n",
      "Export lancé pour l'année 2022\n",
      "Export lancé pour l'année 2023\n",
      "Export lancé pour l'année 2024\n"
     ]
    }
   ],
   "source": [
    "for year in range(1985, 2025):           \n",
    "    image_var_name = f\"glacier_ts_DEF_{year}\"\n",
    "    file_prefix = f\"glacier_{year}\"\n",
    "    \n",
    "    image = globals().get(image_var_name)\n",
    "    task = ee.batch.Export.image.toDrive(\n",
    "            image=image,\n",
    "            folder='GEE_tel',\n",
    "            description=f\"GEE_tel_{year}\",\n",
    "            fileNamePrefix=file_prefix,\n",
    "            region=geom_lia,\n",
    "            scale=30,\n",
    "            crs=projection,\n",
    "            maxPixels=1e13\n",
    "        )\n",
    "    task.start()\n",
    "    print(f'{year} done')\n"
   ]
  },
  {
   "cell_type": "markdown",
   "id": "c690aba8-ed21-4695-afe3-37cce87d55f3",
   "metadata": {},
   "source": [
    "------------------"
   ]
  },
  {
   "cell_type": "markdown",
   "id": "26fb5b27-2717-4da1-9a4b-0a67f8fb5fde",
   "metadata": {},
   "source": [
    "To Asset"
   ]
  },
  {
   "cell_type": "code",
   "execution_count": null,
   "id": "757bf328-73ec-4f53-b8b1-c6cf5612b98a",
   "metadata": {},
   "outputs": [],
   "source": [
    "for year in range(1985, 2025):\n",
    "    \n",
    "    image_var_name = f\"water_ts_DEF_{year}\"\n",
    "    file_prefix = f\"water_{year}\"\n",
    "    # Récupérer dynamiquement l’image depuis les variables globales\n",
    "    image = globals().get(image_var_name)\n",
    "    task = ee.batch.Export.image.toAsset(\n",
    "            image=image,\n",
    "            description=None,\n",
    "            assetId=f'projects/ee-roniritzganem/assets/EU_GL/water_collection/water_{1984+i}',\n",
    "            region=geom_lia,\n",
    "            scale=30,\n",
    "            crs=projection,\n",
    "            maxPixels=1e13\n",
    "        )\n",
    "    task.start()\n",
    "    print(f'{year} done')"
   ]
  },
  {
   "cell_type": "code",
   "execution_count": null,
   "id": "8d58e56f-aeb5-4806-860b-15ba2bcde3b9",
   "metadata": {},
   "outputs": [],
   "source": [
    "for year in range(1985, 2025):           \n",
    "    image_var_name = f\"glacier_ts_DEF_{year}\"\n",
    "    file_prefix = f\"glacier_{year}\"\n",
    "    \n",
    "    image = globals().get(image_var_name)\n",
    "    task = ee.batch.Export.image.toDrive(\n",
    "            image=image,\n",
    "            description=None,\n",
    "            assetId=f'projects/ee-roniritzganem/assets/EU_GL/glacier_collection/glacier_{1984+i}',\n",
    "            region=geom_lia,\n",
    "            scale=30,\n",
    "            crs=projection,\n",
    "            maxPixels=1e13\n",
    "        )\n",
    "    task.start()\n",
    "    print(f'{year} done')"
   ]
  }
 ],
 "metadata": {
  "kernelspec": {
   "display_name": "Python 3 (ipykernel)",
   "language": "python",
   "name": "python3"
  },
  "language_info": {
   "codemirror_mode": {
    "name": "ipython",
    "version": 3
   },
   "file_extension": ".py",
   "mimetype": "text/x-python",
   "name": "python",
   "nbconvert_exporter": "python",
   "pygments_lexer": "ipython3",
   "version": "3.11.11"
  }
 },
 "nbformat": 4,
 "nbformat_minor": 5
}
