{
 "cells": [
  {
   "cell_type": "code",
   "execution_count": 1,
   "id": "b801eb31-b896-4812-8bd3-cb3a337163c2",
   "metadata": {
    "scrolled": true,
    "tags": []
   },
   "outputs": [],
   "source": [
    "import os\n",
    "import numpy as np\n",
    "import pandas as pd\n",
    "\n",
    "import geopandas as gpd\n",
    "import ee, eemont\n",
    "import geemap\n",
    "import geemap.colormaps as geecm\n",
    "\n",
    "import matplotlib.pyplot as plt\n",
    "import cmocean\n",
    "\n"
   ]
  },
  {
   "cell_type": "code",
   "execution_count": 2,
   "id": "189dfbf2-35cb-4949-94f5-7b07dde9894d",
   "metadata": {
    "editable": true,
    "slideshow": {
     "slide_type": ""
    },
    "tags": []
   },
   "outputs": [
    {
     "data": {
      "text/html": [
       "\n",
       "            <style>\n",
       "                .geemap-dark {\n",
       "                    --jp-widgets-color: white;\n",
       "                    --jp-widgets-label-color: white;\n",
       "                    --jp-ui-font-color1: white;\n",
       "                    --jp-layout-color2: #454545;\n",
       "                    background-color: #383838;\n",
       "                }\n",
       "\n",
       "                .geemap-dark .jupyter-button {\n",
       "                    --jp-layout-color3: #383838;\n",
       "                }\n",
       "\n",
       "                .geemap-colab {\n",
       "                    background-color: var(--colab-primary-surface-color, white);\n",
       "                }\n",
       "\n",
       "                .geemap-colab .jupyter-button {\n",
       "                    --jp-layout-color3: var(--colab-primary-surface-color, white);\n",
       "                }\n",
       "            </style>\n",
       "            "
      ],
      "text/plain": [
       "<IPython.core.display.HTML object>"
      ]
     },
     "metadata": {},
     "output_type": "display_data"
    }
   ],
   "source": [
    "#from pyce import gee"
   ]
  },
  {
   "cell_type": "markdown",
   "id": "f0e20780-cb96-4022-b758-39df0997f0b1",
   "metadata": {},
   "source": [
    "# 1. Initialization GEE"
   ]
  },
  {
   "cell_type": "code",
   "execution_count": 3,
   "id": "494e7473-f45d-443a-9d23-c917c1bb6bd1",
   "metadata": {
    "tags": []
   },
   "outputs": [
    {
     "data": {
      "text/html": [
       "\n",
       "            <style>\n",
       "                .geemap-dark {\n",
       "                    --jp-widgets-color: white;\n",
       "                    --jp-widgets-label-color: white;\n",
       "                    --jp-ui-font-color1: white;\n",
       "                    --jp-layout-color2: #454545;\n",
       "                    background-color: #383838;\n",
       "                }\n",
       "\n",
       "                .geemap-dark .jupyter-button {\n",
       "                    --jp-layout-color3: #383838;\n",
       "                }\n",
       "\n",
       "                .geemap-colab {\n",
       "                    background-color: var(--colab-primary-surface-color, white);\n",
       "                }\n",
       "\n",
       "                .geemap-colab .jupyter-button {\n",
       "                    --jp-layout-color3: var(--colab-primary-surface-color, white);\n",
       "                }\n",
       "            </style>\n",
       "            "
      ],
      "text/plain": [
       "<IPython.core.display.HTML object>"
      ]
     },
     "metadata": {},
     "output_type": "display_data"
    }
   ],
   "source": [
    "ee.Authenticate()\n",
    "ee.Initialize()"
   ]
  },
  {
   "cell_type": "markdown",
   "id": "53da2c29-298f-439e-8744-1ec6301c9f9e",
   "metadata": {
    "tags": [],
    "toc-hr-collapsed": true
   },
   "source": [
    "# 2. Load GEE datasets + parameters"
   ]
  },
  {
   "cell_type": "code",
   "execution_count": 4,
   "id": "8bcf7695-25e2-4b37-abe8-98ae3a4ecff4",
   "metadata": {
    "tags": []
   },
   "outputs": [
    {
     "data": {
      "text/html": [
       "\n",
       "            <style>\n",
       "                .geemap-dark {\n",
       "                    --jp-widgets-color: white;\n",
       "                    --jp-widgets-label-color: white;\n",
       "                    --jp-ui-font-color1: white;\n",
       "                    --jp-layout-color2: #454545;\n",
       "                    background-color: #383838;\n",
       "                }\n",
       "\n",
       "                .geemap-dark .jupyter-button {\n",
       "                    --jp-layout-color3: #383838;\n",
       "                }\n",
       "\n",
       "                .geemap-colab {\n",
       "                    background-color: var(--colab-primary-surface-color, white);\n",
       "                }\n",
       "\n",
       "                .geemap-colab .jupyter-button {\n",
       "                    --jp-layout-color3: var(--colab-primary-surface-color, white);\n",
       "                }\n",
       "            </style>\n",
       "            "
      ],
      "text/plain": [
       "<IPython.core.display.HTML object>"
      ]
     },
     "metadata": {},
     "output_type": "display_data"
    }
   ],
   "source": [
    "dem_glo30 = ee.ImageCollection(\"COPERNICUS/DEM/GLO30\")"
   ]
  },
  {
   "cell_type": "code",
   "execution_count": 5,
   "id": "cf9d9a99-2a67-423e-b3c4-61caced98218",
   "metadata": {},
   "outputs": [
    {
     "data": {
      "text/html": [
       "\n",
       "            <style>\n",
       "                .geemap-dark {\n",
       "                    --jp-widgets-color: white;\n",
       "                    --jp-widgets-label-color: white;\n",
       "                    --jp-ui-font-color1: white;\n",
       "                    --jp-layout-color2: #454545;\n",
       "                    background-color: #383838;\n",
       "                }\n",
       "\n",
       "                .geemap-dark .jupyter-button {\n",
       "                    --jp-layout-color3: #383838;\n",
       "                }\n",
       "\n",
       "                .geemap-colab {\n",
       "                    background-color: var(--colab-primary-surface-color, white);\n",
       "                }\n",
       "\n",
       "                .geemap-colab .jupyter-button {\n",
       "                    --jp-layout-color3: var(--colab-primary-surface-color, white);\n",
       "                }\n",
       "            </style>\n",
       "            "
      ],
      "text/plain": [
       "<IPython.core.display.HTML object>"
      ]
     },
     "metadata": {},
     "output_type": "display_data"
    }
   ],
   "source": [
    "scale = 30 #Landsat 30m\n",
    "projection = \"EPSG:4326\" #GEE le plus stable avec ce SRC"
   ]
  },
  {
   "cell_type": "code",
   "execution_count": 6,
   "id": "34718629-3a54-4928-afb3-39c595c323a9",
   "metadata": {
    "tags": []
   },
   "outputs": [
    {
     "data": {
      "text/html": [
       "\n",
       "            <style>\n",
       "                .geemap-dark {\n",
       "                    --jp-widgets-color: white;\n",
       "                    --jp-widgets-label-color: white;\n",
       "                    --jp-ui-font-color1: white;\n",
       "                    --jp-layout-color2: #454545;\n",
       "                    background-color: #383838;\n",
       "                }\n",
       "\n",
       "                .geemap-dark .jupyter-button {\n",
       "                    --jp-layout-color3: #383838;\n",
       "                }\n",
       "\n",
       "                .geemap-colab {\n",
       "                    background-color: var(--colab-primary-surface-color, white);\n",
       "                }\n",
       "\n",
       "                .geemap-colab .jupyter-button {\n",
       "                    --jp-layout-color3: var(--colab-primary-surface-color, white);\n",
       "                }\n",
       "            </style>\n",
       "            "
      ],
      "text/plain": [
       "<IPython.core.display.HTML object>"
      ]
     },
     "metadata": {},
     "output_type": "display_data"
    }
   ],
   "source": [
    "fc_lia = ee.FeatureCollection('users/aguerou/ice_and_life/carto_h1b/lia_shp/glaciers_1850_final_mars_2025') # demander les références\n",
    "\n",
    "geom_alpes_FR = ee.FeatureCollection('users/aguerou/ice_and_life/erable_2025/data_ancillary/alpes_francaises')\n",
    "\n",
    "geom_RGI_2000=ee.FeatureCollection('projects/sat-io/open-datasets/RGI/RGI_VECTOR_MERGED_V7')\n",
    "geom_RGI_2015=ee.FeatureCollection('users/aguerou/ice_and_life/carto_h1b/lia_shp/c3s_gi_rgi11_s2_2015_v2')"
   ]
  },
  {
   "cell_type": "code",
   "execution_count": 7,
   "id": "353d40e8-3343-4732-bce6-338417416f45",
   "metadata": {},
   "outputs": [
    {
     "data": {
      "text/html": [
       "\n",
       "            <style>\n",
       "                .geemap-dark {\n",
       "                    --jp-widgets-color: white;\n",
       "                    --jp-widgets-label-color: white;\n",
       "                    --jp-ui-font-color1: white;\n",
       "                    --jp-layout-color2: #454545;\n",
       "                    background-color: #383838;\n",
       "                }\n",
       "\n",
       "                .geemap-dark .jupyter-button {\n",
       "                    --jp-layout-color3: #383838;\n",
       "                }\n",
       "\n",
       "                .geemap-colab {\n",
       "                    background-color: var(--colab-primary-surface-color, white);\n",
       "                }\n",
       "\n",
       "                .geemap-colab .jupyter-button {\n",
       "                    --jp-layout-color3: var(--colab-primary-surface-color, white);\n",
       "                }\n",
       "            </style>\n",
       "            "
      ],
      "text/plain": [
       "<IPython.core.display.HTML object>"
      ]
     },
     "metadata": {},
     "output_type": "display_data"
    }
   ],
   "source": [
    "#Image landsat processed pour comparer\n",
    "# Landsat_processed_2015=ee.Image('projects/ee-roniritzganem/assets/stage_carrtel_2025/Landsat_Alpes_processed/Landsat_Alpes_processed_2015')\n",
    "# Landsat_processed_2000=ee.Image('projects/ee-roniritzganem/assets/stage_carrtel_2025/Landsat_Alpes_processed/Landsat_Alpes_processed_2000')\n",
    "# Landsat_processed_2000"
   ]
  },
  {
   "cell_type": "code",
   "execution_count": 8,
   "id": "c939e1ff-7849-4d65-b102-2dfabaa3536f",
   "metadata": {},
   "outputs": [
    {
     "data": {
      "text/html": [
       "\n",
       "            <style>\n",
       "                .geemap-dark {\n",
       "                    --jp-widgets-color: white;\n",
       "                    --jp-widgets-label-color: white;\n",
       "                    --jp-ui-font-color1: white;\n",
       "                    --jp-layout-color2: #454545;\n",
       "                    background-color: #383838;\n",
       "                }\n",
       "\n",
       "                .geemap-dark .jupyter-button {\n",
       "                    --jp-layout-color3: #383838;\n",
       "                }\n",
       "\n",
       "                .geemap-colab {\n",
       "                    background-color: var(--colab-primary-surface-color, white);\n",
       "                }\n",
       "\n",
       "                .geemap-colab .jupyter-button {\n",
       "                    --jp-layout-color3: var(--colab-primary-surface-color, white);\n",
       "                }\n",
       "            </style>\n",
       "            "
      ],
      "text/plain": [
       "<IPython.core.display.HTML object>"
      ]
     },
     "metadata": {},
     "output_type": "display_data"
    }
   ],
   "source": [
    "years = range(1984, 2025)\n",
    "# Créer une liste d'images en important les fichiers du répertoire\n",
    "Landsat_annualCollection_index= ee.ImageCollection([\n",
    "    ee.Image(f\"projects/ee-roniritzganem/assets/stage_carrtel_2025/landsat_annual_median_index/Landsat_{year}\")\n",
    "    for year in years\n",
    "])"
   ]
  },
  {
   "cell_type": "code",
   "execution_count": 9,
   "id": "f6187cf9-34d7-4ed6-9980-29d1f57caad9",
   "metadata": {},
   "outputs": [
    {
     "data": {
      "text/html": [
       "\n",
       "            <style>\n",
       "                .geemap-dark {\n",
       "                    --jp-widgets-color: white;\n",
       "                    --jp-widgets-label-color: white;\n",
       "                    --jp-ui-font-color1: white;\n",
       "                    --jp-layout-color2: #454545;\n",
       "                    background-color: #383838;\n",
       "                }\n",
       "\n",
       "                .geemap-dark .jupyter-button {\n",
       "                    --jp-layout-color3: #383838;\n",
       "                }\n",
       "\n",
       "                .geemap-colab {\n",
       "                    background-color: var(--colab-primary-surface-color, white);\n",
       "                }\n",
       "\n",
       "                .geemap-colab .jupyter-button {\n",
       "                    --jp-layout-color3: var(--colab-primary-surface-color, white);\n",
       "                }\n",
       "            </style>\n",
       "            "
      ],
      "text/plain": [
       "<IPython.core.display.HTML object>"
      ]
     },
     "metadata": {},
     "output_type": "display_data"
    }
   ],
   "source": [
    "geom_RGI_FR_2000=ee.FeatureCollection('projects/ee-roniritzganem/assets/stage_carrtel_2025/RGI/RGI_FR_2000')\n",
    "geom_RGI_FR_2015=ee.FeatureCollection('projects/ee-roniritzganem/assets/stage_carrtel_2025/RGI/RGI_FR_2015')\n",
    "geom_lia = ee.Geometry.convexHull(fc_lia.geometry())"
   ]
  },
  {
   "cell_type": "code",
   "execution_count": 10,
   "id": "8196356f-23c0-4241-95bf-228758670812",
   "metadata": {},
   "outputs": [
    {
     "data": {
      "text/html": [
       "\n",
       "            <style>\n",
       "                .geemap-dark {\n",
       "                    --jp-widgets-color: white;\n",
       "                    --jp-widgets-label-color: white;\n",
       "                    --jp-ui-font-color1: white;\n",
       "                    --jp-layout-color2: #454545;\n",
       "                    background-color: #383838;\n",
       "                }\n",
       "\n",
       "                .geemap-dark .jupyter-button {\n",
       "                    --jp-layout-color3: #383838;\n",
       "                }\n",
       "\n",
       "                .geemap-colab {\n",
       "                    background-color: var(--colab-primary-surface-color, white);\n",
       "                }\n",
       "\n",
       "                .geemap-colab .jupyter-button {\n",
       "                    --jp-layout-color3: var(--colab-primary-surface-color, white);\n",
       "                }\n",
       "            </style>\n",
       "            "
      ],
      "text/plain": [
       "<IPython.core.display.HTML object>"
      ]
     },
     "metadata": {},
     "output_type": "display_data"
    }
   ],
   "source": [
    "geom_RGI_FR_2000_propre=ee.FeatureCollection('projects/ee-roniritzganem/assets/stage_carrtel_2025/RGI/RGI_FR_Strict_2000')\n",
    "geom_RGI_FR_2015_propre=ee.FeatureCollection('projects/ee-roniritzganem/assets/stage_carrtel_2025/RGI/RGI_FR_Strict_2015')"
   ]
  },
  {
   "cell_type": "code",
   "execution_count": 11,
   "id": "79173573-3a8b-4b9d-83b9-da8c2c69a44e",
   "metadata": {},
   "outputs": [
    {
     "data": {
      "text/html": [
       "\n",
       "            <style>\n",
       "                .geemap-dark {\n",
       "                    --jp-widgets-color: white;\n",
       "                    --jp-widgets-label-color: white;\n",
       "                    --jp-ui-font-color1: white;\n",
       "                    --jp-layout-color2: #454545;\n",
       "                    background-color: #383838;\n",
       "                }\n",
       "\n",
       "                .geemap-dark .jupyter-button {\n",
       "                    --jp-layout-color3: #383838;\n",
       "                }\n",
       "\n",
       "                .geemap-colab {\n",
       "                    background-color: var(--colab-primary-surface-color, white);\n",
       "                }\n",
       "\n",
       "                .geemap-colab .jupyter-button {\n",
       "                    --jp-layout-color3: var(--colab-primary-surface-color, white);\n",
       "                }\n",
       "            </style>\n",
       "            "
      ],
      "text/plain": [
       "<IPython.core.display.HTML object>"
      ]
     },
     "metadata": {},
     "output_type": "display_data"
    }
   ],
   "source": [
    "# Map=geemap.Map(center=[45.9, 6.8], zoom=7)\n",
    "\n",
    "# Map.setCenter(6.5, 45.5, 8)\n",
    "\n",
    "# # Map.addLayer(fc_lia, {}, 'LIA')\n",
    "# Map.addLayer(geom_alpes_FR, {}, 'alpes_Fr')\n",
    "\n",
    "# Map.add_basemap('SATELLITE')\n",
    "# Map.layers[-1].opacity = 0.5\n",
    "\n",
    "# Map.addLayer(geom_RGI_FR_2000_propre, {}, 'RGI 2000 FR')\n",
    "# Map.addLayer(geom_RGI_FR_2015_propre, {}, 'RGI 2015 FR')\n",
    "\n",
    "# Map.addLayer(geom_RGI_2000, {}, 'RGI 2000 ')\n",
    "# Map.addLayer(geom_RGI_2015, {}, 'RGI 2015 ')\n",
    "\n",
    "# Map"
   ]
  },
  {
   "cell_type": "markdown",
   "id": "b1589d61-94aa-4892-a7c1-8471d35f189b",
   "metadata": {},
   "source": [
    "Seuils de référence"
   ]
  },
  {
   "cell_type": "code",
   "execution_count": 12,
   "id": "40ebe2e3-0e9f-449c-a2d9-ff2973b35799",
   "metadata": {},
   "outputs": [
    {
     "data": {
      "text/html": [
       "\n",
       "            <style>\n",
       "                .geemap-dark {\n",
       "                    --jp-widgets-color: white;\n",
       "                    --jp-widgets-label-color: white;\n",
       "                    --jp-ui-font-color1: white;\n",
       "                    --jp-layout-color2: #454545;\n",
       "                    background-color: #383838;\n",
       "                }\n",
       "\n",
       "                .geemap-dark .jupyter-button {\n",
       "                    --jp-layout-color3: #383838;\n",
       "                }\n",
       "\n",
       "                .geemap-colab {\n",
       "                    background-color: var(--colab-primary-surface-color, white);\n",
       "                }\n",
       "\n",
       "                .geemap-colab .jupyter-button {\n",
       "                    --jp-layout-color3: var(--colab-primary-surface-color, white);\n",
       "                }\n",
       "            </style>\n",
       "            "
      ],
      "text/plain": [
       "<IPython.core.display.HTML object>"
      ]
     },
     "metadata": {},
     "output_type": "display_data"
    }
   ],
   "source": [
    "SlopeThresh = 20 \n",
    "AltitudeThresh = 1000\n",
    "\n",
    "#Cloud correction\n",
    "cloudThresh = 0.4\n",
    "cloudBuff = 1000\n",
    "cloudCover = 50"
   ]
  },
  {
   "cell_type": "code",
   "execution_count": 13,
   "id": "4dbfa728-64ff-4ecd-9877-ee957ac12048",
   "metadata": {},
   "outputs": [
    {
     "data": {
      "text/html": [
       "\n",
       "            <style>\n",
       "                .geemap-dark {\n",
       "                    --jp-widgets-color: white;\n",
       "                    --jp-widgets-label-color: white;\n",
       "                    --jp-ui-font-color1: white;\n",
       "                    --jp-layout-color2: #454545;\n",
       "                    background-color: #383838;\n",
       "                }\n",
       "\n",
       "                .geemap-dark .jupyter-button {\n",
       "                    --jp-layout-color3: #383838;\n",
       "                }\n",
       "\n",
       "                .geemap-colab {\n",
       "                    background-color: var(--colab-primary-surface-color, white);\n",
       "                }\n",
       "\n",
       "                .geemap-colab .jupyter-button {\n",
       "                    --jp-layout-color3: var(--colab-primary-surface-color, white);\n",
       "                }\n",
       "            </style>\n",
       "            "
      ],
      "text/plain": [
       "<IPython.core.display.HTML object>"
      ]
     },
     "metadata": {},
     "output_type": "display_data"
    }
   ],
   "source": [
    "WaterThresh = 0.2\n",
    "TempThresh = -1"
   ]
  },
  {
   "cell_type": "code",
   "execution_count": 14,
   "id": "66d814ce-ba5f-49dd-9832-b05ccb0b2c36",
   "metadata": {},
   "outputs": [
    {
     "data": {
      "text/html": [
       "\n",
       "            <style>\n",
       "                .geemap-dark {\n",
       "                    --jp-widgets-color: white;\n",
       "                    --jp-widgets-label-color: white;\n",
       "                    --jp-ui-font-color1: white;\n",
       "                    --jp-layout-color2: #454545;\n",
       "                    background-color: #383838;\n",
       "                }\n",
       "\n",
       "                .geemap-dark .jupyter-button {\n",
       "                    --jp-layout-color3: #383838;\n",
       "                }\n",
       "\n",
       "                .geemap-colab {\n",
       "                    background-color: var(--colab-primary-surface-color, white);\n",
       "                }\n",
       "\n",
       "                .geemap-colab .jupyter-button {\n",
       "                    --jp-layout-color3: var(--colab-primary-surface-color, white);\n",
       "                }\n",
       "            </style>\n",
       "            "
      ],
      "text/plain": [
       "<IPython.core.display.HTML object>"
      ]
     },
     "metadata": {},
     "output_type": "display_data"
    }
   ],
   "source": [
    "VegetationThresh = 0.2"
   ]
  },
  {
   "cell_type": "code",
   "execution_count": 15,
   "id": "09666a5e-f862-4bdf-8e6d-4df9ee01e2a0",
   "metadata": {},
   "outputs": [
    {
     "data": {
      "text/html": [
       "\n",
       "            <style>\n",
       "                .geemap-dark {\n",
       "                    --jp-widgets-color: white;\n",
       "                    --jp-widgets-label-color: white;\n",
       "                    --jp-ui-font-color1: white;\n",
       "                    --jp-layout-color2: #454545;\n",
       "                    background-color: #383838;\n",
       "                }\n",
       "\n",
       "                .geemap-dark .jupyter-button {\n",
       "                    --jp-layout-color3: #383838;\n",
       "                }\n",
       "\n",
       "                .geemap-colab {\n",
       "                    background-color: var(--colab-primary-surface-color, white);\n",
       "                }\n",
       "\n",
       "                .geemap-colab .jupyter-button {\n",
       "                    --jp-layout-color3: var(--colab-primary-surface-color, white);\n",
       "                }\n",
       "            </style>\n",
       "            "
      ],
      "text/plain": [
       "<IPython.core.display.HTML object>"
      ]
     },
     "metadata": {},
     "output_type": "display_data"
    }
   ],
   "source": [
    "#Seuils Test\n",
    "# 1,8 https://doi.org/10.1016/j.rse.2021.112862\n",
    "GlacierThreshold_1 = 2\n",
    "GlacierThreshold_2 = 3\n",
    "GlacierThreshold_3 = 4\n",
    "GlacierThreshold_4 = 6\n"
   ]
  },
  {
   "cell_type": "code",
   "execution_count": 16,
   "id": "6213127f-09a9-4e22-a611-852ac79fc9c7",
   "metadata": {},
   "outputs": [
    {
     "data": {
      "text/html": [
       "\n",
       "            <style>\n",
       "                .geemap-dark {\n",
       "                    --jp-widgets-color: white;\n",
       "                    --jp-widgets-label-color: white;\n",
       "                    --jp-ui-font-color1: white;\n",
       "                    --jp-layout-color2: #454545;\n",
       "                    background-color: #383838;\n",
       "                }\n",
       "\n",
       "                .geemap-dark .jupyter-button {\n",
       "                    --jp-layout-color3: #383838;\n",
       "                }\n",
       "\n",
       "                .geemap-colab {\n",
       "                    background-color: var(--colab-primary-surface-color, white);\n",
       "                }\n",
       "\n",
       "                .geemap-colab .jupyter-button {\n",
       "                    --jp-layout-color3: var(--colab-primary-surface-color, white);\n",
       "                }\n",
       "            </style>\n",
       "            "
      ],
      "text/plain": [
       "<IPython.core.display.HTML object>"
      ]
     },
     "metadata": {},
     "output_type": "display_data"
    }
   ],
   "source": [
    "palette_diff = geecm.get_palette('RdBu', n_class=7)\n",
    "palette_ndwi = geecm.get_palette('viridis', n_class=7)\n",
    "palette_gbr = cmocean.cm.ice\n",
    "palette_dem = cmocean.cm.solar\n",
    "palette_slope = cmocean.cm.matter\n",
    "visParams_diff = {'min': -2, 'max': 2, 'palette': palette_diff}\n",
    "visParams_ndwi = {'min': 0.0, 'max': 0.5, 'palette': palette_ndwi}\n",
    "visParams_gbr = {'min': 0, 'max': 10, 'palette': palette_gbr}\n",
    "visParams_dem = {'min': 1000, 'max': 4000, 'palette': palette_dem}\n",
    "visParams_slope = {'min': 20, 'max': 60, 'palette': palette_slope}\n",
    "\n",
    "vis_params_landsat = {\n",
    "    'bands': ['RED', 'GREEN', 'BLUE'],  # RGB\n",
    "    'min': 0.0,\n",
    "    'max': 0.3,\n",
    "    'gamma': 1.3\n",
    "}\n",
    "\n",
    "# 3 palettes glacier avec nuances différentes (au choix ici pour exemple)\n",
    "visGLACIER_1 = {\"min\": 0, \"max\": 1, \"palette\": [\"#808080\", \"#228B22\"]}   # Vert forêt\n",
    "visGLACIER_2 = {\"min\": 0, \"max\": 1, \"palette\": [\"#808080\", \"#FF00FF\"]}   # Magenta\n",
    "visGLACIER_3 = {\"min\": 0, \"max\": 1, \"palette\": [\"#808080\", \"#00FFFF\"]}   # Cyan\n",
    "visGLACIER_4 = {\"min\": 0, \"max\": 1, \"palette\": [\"#808080\", \"#FF0000\"]}   # Rouge vif\n",
    "visWATER = {\"min\": 0, \"max\": 1, \"palette\": [\"#00FFFF\", \"#0000FF\", \"#00008B\"]}  # Cyan → Bleu → Bleu foncé\n",
    "# visWATER_2 = {\"min\": 0, \"max\": 1, \"palette\": [\"#00FFFF\", \"#0000FF\", \"#00008B\"]}\n",
    "# visWATER_3 = {\"min\": 0, \"max\": 1, \"palette\": [\"#00FFFF\", \"#0000FF\", \"#00008B\"]}\n",
    "\n",
    "visVEGET = {\"min\": 0, \"max\": 1, \"palette\": [\"#808080\", \"#33a02c\"]}"
   ]
  },
  {
   "cell_type": "markdown",
   "id": "00a452bd-64b8-4869-852c-8e0be148d2d7",
   "metadata": {},
   "source": [
    "# 3. FUNCTIONS"
   ]
  },
  {
   "cell_type": "code",
   "execution_count": 17,
   "id": "7508f292-b830-4e25-862e-fcf8b00cb611",
   "metadata": {},
   "outputs": [
    {
     "data": {
      "text/html": [
       "\n",
       "            <style>\n",
       "                .geemap-dark {\n",
       "                    --jp-widgets-color: white;\n",
       "                    --jp-widgets-label-color: white;\n",
       "                    --jp-ui-font-color1: white;\n",
       "                    --jp-layout-color2: #454545;\n",
       "                    background-color: #383838;\n",
       "                }\n",
       "\n",
       "                .geemap-dark .jupyter-button {\n",
       "                    --jp-layout-color3: #383838;\n",
       "                }\n",
       "\n",
       "                .geemap-colab {\n",
       "                    background-color: var(--colab-primary-surface-color, white);\n",
       "                }\n",
       "\n",
       "                .geemap-colab .jupyter-button {\n",
       "                    --jp-layout-color3: var(--colab-primary-surface-color, white);\n",
       "                }\n",
       "            </style>\n",
       "            "
      ],
      "text/plain": [
       "<IPython.core.display.HTML object>"
      ]
     },
     "metadata": {},
     "output_type": "display_data"
    }
   ],
   "source": [
    "\n",
    "def classifyGlacier(image, seuil):\n",
    "    temp = image.select('GBR').gt(seuil)\n",
    "    mask = temp.where(temp.gte(1), 1)\n",
    "    return image.addBands(mask.rename('GLACIER').toInt())\n",
    "\n",
    "def classifyWater(image):\n",
    "    temp = image.select('NDWI').gt(WaterThresh)\n",
    "    temp2 = temp.where(temp.gte(1), 2)\n",
    "    mask = temp2.updateMask(slope_mask).unmask(0)\n",
    "    return image.addBands(mask.rename('WATER').toInt())\n",
    "\n",
    "def classifyVegetation(image):\n",
    "    temp = image.select('NDVI').gt(VegetationThresh)\n",
    "    mask = temp.where(temp.gte(1), 3)\n",
    "    return image.addBands(mask.rename('VEGETATION').toInt())\n"
   ]
  },
  {
   "cell_type": "code",
   "execution_count": 18,
   "id": "2710e93e-30a5-4570-8eec-abb65c655fb2",
   "metadata": {},
   "outputs": [
    {
     "data": {
      "text/html": [
       "\n",
       "            <style>\n",
       "                .geemap-dark {\n",
       "                    --jp-widgets-color: white;\n",
       "                    --jp-widgets-label-color: white;\n",
       "                    --jp-ui-font-color1: white;\n",
       "                    --jp-layout-color2: #454545;\n",
       "                    background-color: #383838;\n",
       "                }\n",
       "\n",
       "                .geemap-dark .jupyter-button {\n",
       "                    --jp-layout-color3: #383838;\n",
       "                }\n",
       "\n",
       "                .geemap-colab {\n",
       "                    background-color: var(--colab-primary-surface-color, white);\n",
       "                }\n",
       "\n",
       "                .geemap-colab .jupyter-button {\n",
       "                    --jp-layout-color3: var(--colab-primary-surface-color, white);\n",
       "                }\n",
       "            </style>\n",
       "            "
      ],
      "text/plain": [
       "<IPython.core.display.HTML object>"
      ]
     },
     "metadata": {},
     "output_type": "display_data"
    }
   ],
   "source": [
    "def apply_classify_conditions(image):\n",
    "    return image.select('WATER') \\\n",
    "                .where(image.select('GLACIER') == 1, 1) \\\n",
    "                .where(image.select('VEGETATION') == 3, 3) \\\n",
    "                .addBands(image.select(['GLACIER', 'VEGETATION', 'year'])) \\\n",
    "                .copyProperties(image, image.propertyNames())\n",
    "\n"
   ]
  },
  {
   "cell_type": "code",
   "execution_count": 19,
   "id": "f0456f11-fbda-4d81-8b1f-ad6af376ebe2",
   "metadata": {},
   "outputs": [
    {
     "data": {
      "text/html": [
       "\n",
       "            <style>\n",
       "                .geemap-dark {\n",
       "                    --jp-widgets-color: white;\n",
       "                    --jp-widgets-label-color: white;\n",
       "                    --jp-ui-font-color1: white;\n",
       "                    --jp-layout-color2: #454545;\n",
       "                    background-color: #383838;\n",
       "                }\n",
       "\n",
       "                .geemap-dark .jupyter-button {\n",
       "                    --jp-layout-color3: #383838;\n",
       "                }\n",
       "\n",
       "                .geemap-colab {\n",
       "                    background-color: var(--colab-primary-surface-color, white);\n",
       "                }\n",
       "\n",
       "                .geemap-colab .jupyter-button {\n",
       "                    --jp-layout-color3: var(--colab-primary-surface-color, white);\n",
       "                }\n",
       "            </style>\n",
       "            "
      ],
      "text/plain": [
       "<IPython.core.display.HTML object>"
      ]
     },
     "metadata": {},
     "output_type": "display_data"
    }
   ],
   "source": [
    "def get_slope(image):\n",
    "    return ee.Terrain.slope(image)"
   ]
  },
  {
   "cell_type": "code",
   "execution_count": 20,
   "id": "b4827d49-aaec-41df-a4f6-0d033541ac2d",
   "metadata": {},
   "outputs": [
    {
     "data": {
      "text/html": [
       "\n",
       "            <style>\n",
       "                .geemap-dark {\n",
       "                    --jp-widgets-color: white;\n",
       "                    --jp-widgets-label-color: white;\n",
       "                    --jp-ui-font-color1: white;\n",
       "                    --jp-layout-color2: #454545;\n",
       "                    background-color: #383838;\n",
       "                }\n",
       "\n",
       "                .geemap-dark .jupyter-button {\n",
       "                    --jp-layout-color3: #383838;\n",
       "                }\n",
       "\n",
       "                .geemap-colab {\n",
       "                    background-color: var(--colab-primary-surface-color, white);\n",
       "                }\n",
       "\n",
       "                .geemap-colab .jupyter-button {\n",
       "                    --jp-layout-color3: var(--colab-primary-surface-color, white);\n",
       "                }\n",
       "            </style>\n",
       "            "
      ],
      "text/plain": [
       "<IPython.core.display.HTML object>"
      ]
     },
     "metadata": {},
     "output_type": "display_data"
    }
   ],
   "source": [
    "def removeValley(image):\n",
    "    return image.updateMask(valley_mask)"
   ]
  },
  {
   "cell_type": "code",
   "execution_count": 21,
   "id": "38928b74-b0fa-45b1-8661-4180cf33027d",
   "metadata": {},
   "outputs": [
    {
     "data": {
      "text/html": [
       "\n",
       "            <style>\n",
       "                .geemap-dark {\n",
       "                    --jp-widgets-color: white;\n",
       "                    --jp-widgets-label-color: white;\n",
       "                    --jp-ui-font-color1: white;\n",
       "                    --jp-layout-color2: #454545;\n",
       "                    background-color: #383838;\n",
       "                }\n",
       "\n",
       "                .geemap-dark .jupyter-button {\n",
       "                    --jp-layout-color3: #383838;\n",
       "                }\n",
       "\n",
       "                .geemap-colab {\n",
       "                    background-color: var(--colab-primary-surface-color, white);\n",
       "                }\n",
       "\n",
       "                .geemap-colab .jupyter-button {\n",
       "                    --jp-layout-color3: var(--colab-primary-surface-color, white);\n",
       "                }\n",
       "            </style>\n",
       "            "
      ],
      "text/plain": [
       "<IPython.core.display.HTML object>"
      ]
     },
     "metadata": {},
     "output_type": "display_data"
    }
   ],
   "source": [
    "def mask_clip_lia(image): #chaque image median a ete clip to lia\n",
    "    return image.updateMask(image.neq(0))\n"
   ]
  },
  {
   "cell_type": "code",
   "execution_count": 22,
   "id": "856b6697-cd1c-429c-8533-66f261a7ec16",
   "metadata": {},
   "outputs": [
    {
     "data": {
      "text/html": [
       "\n",
       "            <style>\n",
       "                .geemap-dark {\n",
       "                    --jp-widgets-color: white;\n",
       "                    --jp-widgets-label-color: white;\n",
       "                    --jp-ui-font-color1: white;\n",
       "                    --jp-layout-color2: #454545;\n",
       "                    background-color: #383838;\n",
       "                }\n",
       "\n",
       "                .geemap-dark .jupyter-button {\n",
       "                    --jp-layout-color3: #383838;\n",
       "                }\n",
       "\n",
       "                .geemap-colab {\n",
       "                    background-color: var(--colab-primary-surface-color, white);\n",
       "                }\n",
       "\n",
       "                .geemap-colab .jupyter-button {\n",
       "                    --jp-layout-color3: var(--colab-primary-surface-color, white);\n",
       "                }\n",
       "            </style>\n",
       "            "
      ],
      "text/plain": [
       "<IPython.core.display.HTML object>"
      ]
     },
     "metadata": {},
     "output_type": "display_data"
    }
   ],
   "source": [
    "def clip_to_geometry(image,geom):\n",
    "    return image.clip(geom)"
   ]
  },
  {
   "cell_type": "markdown",
   "id": "c5490af0-576a-4beb-bf22-87e2be81daec",
   "metadata": {},
   "source": [
    "Pour la comparaison Landsat"
   ]
  },
  {
   "cell_type": "code",
   "execution_count": 23,
   "id": "8ee64cf3-6d80-4fcf-8d32-1c11a66ba5d5",
   "metadata": {},
   "outputs": [
    {
     "data": {
      "text/html": [
       "\n",
       "            <style>\n",
       "                .geemap-dark {\n",
       "                    --jp-widgets-color: white;\n",
       "                    --jp-widgets-label-color: white;\n",
       "                    --jp-ui-font-color1: white;\n",
       "                    --jp-layout-color2: #454545;\n",
       "                    background-color: #383838;\n",
       "                }\n",
       "\n",
       "                .geemap-dark .jupyter-button {\n",
       "                    --jp-layout-color3: #383838;\n",
       "                }\n",
       "\n",
       "                .geemap-colab {\n",
       "                    background-color: var(--colab-primary-surface-color, white);\n",
       "                }\n",
       "\n",
       "                .geemap-colab .jupyter-button {\n",
       "                    --jp-layout-color3: var(--colab-primary-surface-color, white);\n",
       "                }\n",
       "            </style>\n",
       "            "
      ],
      "text/plain": [
       "<IPython.core.display.HTML object>"
      ]
     },
     "metadata": {},
     "output_type": "display_data"
    }
   ],
   "source": [
    "def addCloud(image):\n",
    "    # Sélectionner le bande TIR et appliquer une échelle d'unité (unitScale)\n",
    "    TIR = image.select('TIR').unitScale(240, 270).rename('sTIR')\n",
    "    \n",
    "    # Sélectionner le bande SWIR2\n",
    "    SWIR2 = image.select('SWIR2').rename('sSWIR2')\n",
    "    \n",
    "    # Ajouter les bandes sTIR et sSWIR2\n",
    "    temp = TIR.addBands(SWIR2)\n",
    "    \n",
    "    # Ajouter la bande de différence normalisée NDCI\n",
    "    temp2 = temp.addBands(temp.normalizedDifference(['sTIR', 'sSWIR2']).rename('NDCI'))\n",
    "    \n",
    "    # Ajouter une bande NDCIt qui est le seuil des nuages\n",
    "    temp3 = temp2.addBands(temp2.select('NDCI').lte(cloudThresh).rename('NDCIt'))\n",
    "    \n",
    "    # Calculer le masque avec la transformation de distance\n",
    "    mask = temp3.select('NDCIt') \\\n",
    "                .fastDistanceTransform(50, 'pixels', 'squared_euclidean') \\\n",
    "                .sqrt() \\\n",
    "                .multiply(ee.Image.pixelArea().sqrt()) \\\n",
    "                .gt(cloudBuff)\n",
    "    \n",
    "    # Appliquer le masque à l'image \n",
    "    return image.updateMask(mask)"
   ]
  },
  {
   "cell_type": "code",
   "execution_count": 24,
   "id": "30cf79d0-1221-4e8f-b0aa-0e926a4d2c18",
   "metadata": {},
   "outputs": [
    {
     "data": {
      "text/html": [
       "\n",
       "            <style>\n",
       "                .geemap-dark {\n",
       "                    --jp-widgets-color: white;\n",
       "                    --jp-widgets-label-color: white;\n",
       "                    --jp-ui-font-color1: white;\n",
       "                    --jp-layout-color2: #454545;\n",
       "                    background-color: #383838;\n",
       "                }\n",
       "\n",
       "                .geemap-dark .jupyter-button {\n",
       "                    --jp-layout-color3: #383838;\n",
       "                }\n",
       "\n",
       "                .geemap-colab {\n",
       "                    background-color: var(--colab-primary-surface-color, white);\n",
       "                }\n",
       "\n",
       "                .geemap-colab .jupyter-button {\n",
       "                    --jp-layout-color3: var(--colab-primary-surface-color, white);\n",
       "                }\n",
       "            </style>\n",
       "            "
      ],
      "text/plain": [
       "<IPython.core.display.HTML object>"
      ]
     },
     "metadata": {},
     "output_type": "display_data"
    }
   ],
   "source": [
    "#  Fonction de prétraitement des images (mise à l'échelle et ajout du masque des nuages)\n",
    "def preprocess(img):\n",
    "    img = addCloud(img)  # Appliquer le masque des nuages\n",
    "    optical = img.select(['BLUE', 'GREEN', 'RED']) \\\n",
    "        .multiply(0.0000275).add(-0.2) \\\n",
    "        .clamp(0, 1)  # Mise à l'échelle pour obtenir la réflectance\n",
    "    return optical.copyProperties(img, img.propertyNames())\n"
   ]
  },
  {
   "cell_type": "markdown",
   "id": "478363a0-6519-4147-8c90-0ba8b2bb9c49",
   "metadata": {},
   "source": [
    "Evaluation des Seuils"
   ]
  },
  {
   "cell_type": "code",
   "execution_count": 25,
   "id": "5f66ead7-b20d-4054-a183-361928b0955b",
   "metadata": {},
   "outputs": [
    {
     "data": {
      "text/html": [
       "\n",
       "            <style>\n",
       "                .geemap-dark {\n",
       "                    --jp-widgets-color: white;\n",
       "                    --jp-widgets-label-color: white;\n",
       "                    --jp-ui-font-color1: white;\n",
       "                    --jp-layout-color2: #454545;\n",
       "                    background-color: #383838;\n",
       "                }\n",
       "\n",
       "                .geemap-dark .jupyter-button {\n",
       "                    --jp-layout-color3: #383838;\n",
       "                }\n",
       "\n",
       "                .geemap-colab {\n",
       "                    background-color: var(--colab-primary-surface-color, white);\n",
       "                }\n",
       "\n",
       "                .geemap-colab .jupyter-button {\n",
       "                    --jp-layout-color3: var(--colab-primary-surface-color, white);\n",
       "                }\n",
       "            </style>\n",
       "            "
      ],
      "text/plain": [
       "<IPython.core.display.HTML object>"
      ]
     },
     "metadata": {},
     "output_type": "display_data"
    }
   ],
   "source": [
    "# def generate_seuil_for_years(year_selected,Threshold):\n",
    "#    # Sélection de l'image annuelle\n",
    "#     image_annee = (Landsat_annualCollection_index\n",
    "#                    .filter(ee.Filter.eq('year', year_selected))\n",
    "#                    .first())\n",
    "    \n",
    "#     image_finale = ee.ImageCollection(image_annee)\n",
    "    \n",
    "#     # Traitement pour chaque seuil\n",
    "#     Seuil = image_finale.map(classifyWater)\\\n",
    "#                          .map(lambda image: classifyGlacier(image, Threshold))\\\n",
    "#                          .map(classifyVegetation)\\\n",
    "#                          .map(lambda img: img.selfMask())\n",
    "    \n",
    "#     # Sélection des bandes utiles\n",
    "#     Seuil_selected = Seuil.select(['GLACIER', 'WATER', 'VEGETATION'])\n",
    "\n",
    "#      # Conversion en image unique par seuil (mosaic)\n",
    "#     aire_threshold = Seuil_selected.mosaic()\n",
    "    \n",
    "#     return aire_threshold"
   ]
  },
  {
   "cell_type": "code",
   "execution_count": 26,
   "id": "c1e30cbe-cc98-4f0b-a9c5-ffd8c02be979",
   "metadata": {},
   "outputs": [
    {
     "data": {
      "text/html": [
       "\n",
       "            <style>\n",
       "                .geemap-dark {\n",
       "                    --jp-widgets-color: white;\n",
       "                    --jp-widgets-label-color: white;\n",
       "                    --jp-ui-font-color1: white;\n",
       "                    --jp-layout-color2: #454545;\n",
       "                    background-color: #383838;\n",
       "                }\n",
       "\n",
       "                .geemap-dark .jupyter-button {\n",
       "                    --jp-layout-color3: #383838;\n",
       "                }\n",
       "\n",
       "                .geemap-colab {\n",
       "                    background-color: var(--colab-primary-surface-color, white);\n",
       "                }\n",
       "\n",
       "                .geemap-colab .jupyter-button {\n",
       "                    --jp-layout-color3: var(--colab-primary-surface-color, white);\n",
       "                }\n",
       "            </style>\n",
       "            "
      ],
      "text/plain": [
       "<IPython.core.display.HTML object>"
      ]
     },
     "metadata": {},
     "output_type": "display_data"
    }
   ],
   "source": [
    "def generate_seuil_for_years(year_selected,Threshold):\n",
    "   # Sélection de l'image annuelle\n",
    "    image_annee = (Landsat_annualCollection_index\n",
    "                   .filter(ee.Filter.eq('year', year_selected))\n",
    "                   .first())\n",
    "    \n",
    "    image_finale = ee.ImageCollection(image_annee)\n",
    "    \n",
    "    # Traitement pour chaque seuil\n",
    "    Seuil = image_finale.map(lambda image: classifyGlacier(image, Threshold))\\\n",
    "                         .map(lambda img: img.selfMask())\n",
    "    \n",
    "    # Sélection des bandes utiles\n",
    "    Seuil_selected = Seuil.select(['GLACIER'])\n",
    "\n",
    "     # Conversion en image unique par seuil (mosaic)\n",
    "    aire_threshold = Seuil_selected.mosaic()\n",
    "    \n",
    "    return aire_threshold"
   ]
  },
  {
   "cell_type": "code",
   "execution_count": 27,
   "id": "849f44b3-7ca0-4860-b1e4-20b4a4502fb2",
   "metadata": {
    "scrolled": true
   },
   "outputs": [
    {
     "data": {
      "text/html": [
       "\n",
       "            <style>\n",
       "                .geemap-dark {\n",
       "                    --jp-widgets-color: white;\n",
       "                    --jp-widgets-label-color: white;\n",
       "                    --jp-ui-font-color1: white;\n",
       "                    --jp-layout-color2: #454545;\n",
       "                    background-color: #383838;\n",
       "                }\n",
       "\n",
       "                .geemap-dark .jupyter-button {\n",
       "                    --jp-layout-color3: #383838;\n",
       "                }\n",
       "\n",
       "                .geemap-colab {\n",
       "                    background-color: var(--colab-primary-surface-color, white);\n",
       "                }\n",
       "\n",
       "                .geemap-colab .jupyter-button {\n",
       "                    --jp-layout-color3: var(--colab-primary-surface-color, white);\n",
       "                }\n",
       "            </style>\n",
       "            "
      ],
      "text/plain": [
       "<IPython.core.display.HTML object>"
      ]
     },
     "metadata": {},
     "output_type": "display_data"
    }
   ],
   "source": [
    "def evaluer_seuils_glaciers(year_selected, rgi_geom, aire_threshold):\n",
    "    # Calcul de la surface pour chaque feature du RGI\n",
    "    rgi_with_area = rgi_geom.map(\n",
    "        lambda feature: feature.set(\n",
    "            {'areakm²': feature.geometry().area().divide(1e6)}))  # m² -> km²\n",
    "\n",
    "    # Surface totale du RGI\n",
    "    surface_totale_rgi = rgi_with_area.aggregate_sum('areakm²')\n",
    "\n",
    "    # Images des seuils pour l'année sélectionnée (supposées préchargées)\n",
    "\n",
    "    # Surface dans le RGI\n",
    "    glacier_in_rgi = aire_threshold.clip(rgi_geom).select('GLACIER') \\\n",
    "        .multiply(ee.Image.pixelArea()) \\\n",
    "        .reduceRegion(\n",
    "                reducer=ee.Reducer.sum(),\n",
    "                geometry=geom_lia,\n",
    "                scale=30,\n",
    "                crs=projection,\n",
    "                maxPixels=1e9\n",
    "            ).getNumber('GLACIER').divide(1e6)\n",
    "\n",
    "    # Surface totale (dans toute la zone d’étude)\n",
    "    glacier_total = aire_threshold.select('GLACIER') \\\n",
    "            .multiply(ee.Image.pixelArea()) \\\n",
    "            .reduceRegion(\n",
    "                reducer=ee.Reducer.sum(),\n",
    "                geometry=geom_lia,\n",
    "                scale=30,\n",
    "                crs=projection,\n",
    "                maxPixels=1e9\n",
    "            ).getNumber('GLACIER').divide(1e6)\n",
    "\n",
    "    # Surface hors RGI, normalisée\n",
    "    commission_error = (1-(glacier_in_rgi.divide(glacier_total)))*100 # le mieux est le plus proche de 0\n",
    "\n",
    "        # Accuracy (recouvrement avec le RGI)\n",
    "    completude = glacier_in_rgi.divide(surface_totale_rgi).multiply(100)\n",
    "\n",
    "    # Retourne les résultats sous forme de dictionnaires\n",
    "    return commission_error, completude"
   ]
  },
  {
   "cell_type": "code",
   "execution_count": 28,
   "id": "f53f238d-319c-434d-8ddc-4b06f081dd4d",
   "metadata": {},
   "outputs": [
    {
     "data": {
      "text/html": [
       "\n",
       "            <style>\n",
       "                .geemap-dark {\n",
       "                    --jp-widgets-color: white;\n",
       "                    --jp-widgets-label-color: white;\n",
       "                    --jp-ui-font-color1: white;\n",
       "                    --jp-layout-color2: #454545;\n",
       "                    background-color: #383838;\n",
       "                }\n",
       "\n",
       "                .geemap-dark .jupyter-button {\n",
       "                    --jp-layout-color3: #383838;\n",
       "                }\n",
       "\n",
       "                .geemap-colab {\n",
       "                    background-color: var(--colab-primary-surface-color, white);\n",
       "                }\n",
       "\n",
       "                .geemap-colab .jupyter-button {\n",
       "                    --jp-layout-color3: var(--colab-primary-surface-color, white);\n",
       "                }\n",
       "            </style>\n",
       "            "
      ],
      "text/plain": [
       "<IPython.core.display.HTML object>"
      ]
     },
     "metadata": {},
     "output_type": "display_data"
    }
   ],
   "source": [
    "def afficher_carte_seuils(year_selected):\n",
    "\n",
    "    Map = geemap.Map(center=[45.9, 6.8], zoom=7)\n",
    "    Map.setCenter(6.5, 45.5, 8)\n",
    "\n",
    "    Map.addLayer(fc_lia, {}, 'LIA')\n",
    "    Map.add_basemap('SATELLITE')\n",
    "    Map.layers[-1].opacity = 0.5\n",
    "\n",
    "    #Map.addLayer(Landsat_processed_2000, vis_params_landsat, f'Landsat {year_selected} - Moyenne août {year_selected}')\n",
    "\n",
    "    Map.addLayer(geom_RGI_FR_2000.style(color='blue', width=1), {}, 'RGI 2000 FR')\n",
    "    Map.addLayer(geom_RGI_FR_2015.style(color='white', width=1),{}, 'RGI 2015 FR')\n",
    "\n",
    "\n",
    "    \n",
    "    for i in range(1, 5):\n",
    "        threshold_value = globals()[f\"GlacierThreshold_{i}\"]  \n",
    "        seuil_image = generate_seuil_for_years(year_selected, threshold_value)\n",
    "        vis = globals()[f\"visGLACIER_{i}\"]\n",
    "    \n",
    "        vector = seuil_image.select('GLACIER').reduceToVectors(\n",
    "            geometryType='polygon',\n",
    "            reducer=ee.Reducer.countEvery(),\n",
    "            scale=30,\n",
    "            geometry=geom_lia,\n",
    "            labelProperty='zone',\n",
    "            maxPixels=1e13\n",
    "            ).style(**{\n",
    "            'color': vis['palette'][1],\n",
    "            'fillColor': '00000000',\n",
    "            'width': 1\n",
    "             })\n",
    "\n",
    "        #Map.addLayer(vector, {}, f'Glacier_Seuil_{i} - Contours')\n",
    "        Map.addLayer(seuil_image.select('GLACIER'), vis, f'Glacier_Seuil{i}')\n",
    "\n",
    "    Map.addLayer(geom_RGI_FR_2000.style(color='blue', width=1), {}, 'RGI 2000 FR_bis')\n",
    "    Map.addLayer(geom_RGI_FR_2015.style(color='white', width=1),{}, 'RGI 2015 FR_bis')\n",
    "    \n",
    "    return Map"
   ]
  },
  {
   "cell_type": "markdown",
   "id": "dc716cc0-102e-4a27-ad57-ff516f09b291",
   "metadata": {},
   "source": [
    "# II. Terrain data / Timeseries Landsat"
   ]
  },
  {
   "cell_type": "markdown",
   "id": "f24bc6f9-1d8b-4831-9bd9-9d42f3123a94",
   "metadata": {},
   "source": [
    "Terrain"
   ]
  },
  {
   "cell_type": "code",
   "execution_count": 29,
   "id": "805d9fb2-f19d-4010-acf0-0d3f189f44e7",
   "metadata": {},
   "outputs": [
    {
     "data": {
      "text/html": [
       "\n",
       "            <style>\n",
       "                .geemap-dark {\n",
       "                    --jp-widgets-color: white;\n",
       "                    --jp-widgets-label-color: white;\n",
       "                    --jp-ui-font-color1: white;\n",
       "                    --jp-layout-color2: #454545;\n",
       "                    background-color: #383838;\n",
       "                }\n",
       "\n",
       "                .geemap-dark .jupyter-button {\n",
       "                    --jp-layout-color3: #383838;\n",
       "                }\n",
       "\n",
       "                .geemap-colab {\n",
       "                    background-color: var(--colab-primary-surface-color, white);\n",
       "                }\n",
       "\n",
       "                .geemap-colab .jupyter-button {\n",
       "                    --jp-layout-color3: var(--colab-primary-surface-color, white);\n",
       "                }\n",
       "            </style>\n",
       "            "
      ],
      "text/plain": [
       "<IPython.core.display.HTML object>"
      ]
     },
     "metadata": {},
     "output_type": "display_data"
    }
   ],
   "source": [
    "dem = ee.ImageCollection(dem_glo30).filterBounds(fc_lia).select(\"DEM\")\n",
    "dem_mosaic = dem.mosaic().clip(fc_lia)\n",
    "slope = dem.map(get_slope).mosaic().clip(fc_lia) \\\n",
    "#need to map on single image for slope function to work fine\n",
    "\n",
    "slope_mask = slope.lt(SlopeThresh)\n",
    "valley_mask = dem_mosaic.gt(AltitudeThresh)"
   ]
  },
  {
   "cell_type": "markdown",
   "id": "bd2436b5-1a15-447b-8788-d9f571f26794",
   "metadata": {},
   "source": [
    "# 4. Choix Seuil GBR"
   ]
  },
  {
   "cell_type": "markdown",
   "id": "16610197-16d1-4772-92bf-ae3043042f52",
   "metadata": {},
   "source": [
    "idée de choix de classif\n"
   ]
  },
  {
   "cell_type": "markdown",
   "id": "fa53c73e-790b-445b-91d7-dfe472260063",
   "metadata": {},
   "source": [
    "Création de 4 classification distincte en fonction de GlacierTreshold"
   ]
  },
  {
   "cell_type": "code",
   "execution_count": 30,
   "id": "e1b91e37-c56b-4de1-9d18-a20b1e5ed4d4",
   "metadata": {},
   "outputs": [
    {
     "data": {
      "text/html": [
       "\n",
       "            <style>\n",
       "                .geemap-dark {\n",
       "                    --jp-widgets-color: white;\n",
       "                    --jp-widgets-label-color: white;\n",
       "                    --jp-ui-font-color1: white;\n",
       "                    --jp-layout-color2: #454545;\n",
       "                    background-color: #383838;\n",
       "                }\n",
       "\n",
       "                .geemap-dark .jupyter-button {\n",
       "                    --jp-layout-color3: #383838;\n",
       "                }\n",
       "\n",
       "                .geemap-colab {\n",
       "                    background-color: var(--colab-primary-surface-color, white);\n",
       "                }\n",
       "\n",
       "                .geemap-colab .jupyter-button {\n",
       "                    --jp-layout-color3: var(--colab-primary-surface-color, white);\n",
       "                }\n",
       "            </style>\n",
       "            "
      ],
      "text/plain": [
       "<IPython.core.display.HTML object>"
      ]
     },
     "metadata": {},
     "output_type": "display_data"
    }
   ],
   "source": [
    "Seuil1_2000=generate_seuil_for_years(2000,GlacierThreshold_1)\n",
    "Seuil2_2000=generate_seuil_for_years(2000,GlacierThreshold_2)\n",
    "Seuil3_2000=generate_seuil_for_years(2000,GlacierThreshold_3)\n",
    "Seuil4_2000=generate_seuil_for_years(2000,GlacierThreshold_4)\n"
   ]
  },
  {
   "cell_type": "code",
   "execution_count": 31,
   "id": "3eb227d6-d13f-4621-a30a-74025e1ee358",
   "metadata": {},
   "outputs": [
    {
     "data": {
      "text/html": [
       "\n",
       "            <style>\n",
       "                .geemap-dark {\n",
       "                    --jp-widgets-color: white;\n",
       "                    --jp-widgets-label-color: white;\n",
       "                    --jp-ui-font-color1: white;\n",
       "                    --jp-layout-color2: #454545;\n",
       "                    background-color: #383838;\n",
       "                }\n",
       "\n",
       "                .geemap-dark .jupyter-button {\n",
       "                    --jp-layout-color3: #383838;\n",
       "                }\n",
       "\n",
       "                .geemap-colab {\n",
       "                    background-color: var(--colab-primary-surface-color, white);\n",
       "                }\n",
       "\n",
       "                .geemap-colab .jupyter-button {\n",
       "                    --jp-layout-color3: var(--colab-primary-surface-color, white);\n",
       "                }\n",
       "            </style>\n",
       "            "
      ],
      "text/plain": [
       "<IPython.core.display.HTML object>"
      ]
     },
     "metadata": {},
     "output_type": "display_data"
    }
   ],
   "source": [
    "Seuil1_2015=generate_seuil_for_years(2015,GlacierThreshold_1)\n",
    "Seuil2_2015=generate_seuil_for_years(2015,GlacierThreshold_2)\n",
    "Seuil3_2015=generate_seuil_for_years(2015,GlacierThreshold_3)\n",
    "Seuil4_2015=generate_seuil_for_years(2015,GlacierThreshold_4)"
   ]
  },
  {
   "cell_type": "markdown",
   "id": "3dab4453-72f7-4bf3-bc2b-e26df4573114",
   "metadata": {},
   "source": [
    "\n",
    "# Visualisation GBR"
   ]
  },
  {
   "cell_type": "markdown",
   "id": "7938a094-a918-4f9f-8d55-6b2948cce47b",
   "metadata": {},
   "source": [
    "# Evaluation des seuils"
   ]
  },
  {
   "cell_type": "code",
   "execution_count": 33,
   "id": "ad821574-c1bf-4efc-a209-3b49096930bf",
   "metadata": {
    "scrolled": true
   },
   "outputs": [
    {
     "data": {
      "text/html": [
       "\n",
       "            <style>\n",
       "                .geemap-dark {\n",
       "                    --jp-widgets-color: white;\n",
       "                    --jp-widgets-label-color: white;\n",
       "                    --jp-ui-font-color1: white;\n",
       "                    --jp-layout-color2: #454545;\n",
       "                    background-color: #383838;\n",
       "                }\n",
       "\n",
       "                .geemap-dark .jupyter-button {\n",
       "                    --jp-layout-color3: #383838;\n",
       "                }\n",
       "\n",
       "                .geemap-colab {\n",
       "                    background-color: var(--colab-primary-surface-color, white);\n",
       "                }\n",
       "\n",
       "                .geemap-colab .jupyter-button {\n",
       "                    --jp-layout-color3: var(--colab-primary-surface-color, white);\n",
       "                }\n",
       "            </style>\n",
       "            "
      ],
      "text/plain": [
       "<IPython.core.display.HTML object>"
      ]
     },
     "metadata": {},
     "output_type": "display_data"
    }
   ],
   "source": [
    "commission_error_2015, completude_2015 = evaluer_seuils_glaciers(\"2015\", geom_RGI_FR_2015, Seuil1_2015 )\n"
   ]
  },
  {
   "cell_type": "code",
   "execution_count": 35,
   "id": "9783a7d3-b36d-416e-9040-9e9b20f076a8",
   "metadata": {},
   "outputs": [
    {
     "data": {
      "text/html": [
       "\n",
       "            <style>\n",
       "                .geemap-dark {\n",
       "                    --jp-widgets-color: white;\n",
       "                    --jp-widgets-label-color: white;\n",
       "                    --jp-ui-font-color1: white;\n",
       "                    --jp-layout-color2: #454545;\n",
       "                    background-color: #383838;\n",
       "                }\n",
       "\n",
       "                .geemap-dark .jupyter-button {\n",
       "                    --jp-layout-color3: #383838;\n",
       "                }\n",
       "\n",
       "                .geemap-colab {\n",
       "                    background-color: var(--colab-primary-surface-color, white);\n",
       "                }\n",
       "\n",
       "                .geemap-colab .jupyter-button {\n",
       "                    --jp-layout-color3: var(--colab-primary-surface-color, white);\n",
       "                }\n",
       "            </style>\n",
       "            "
      ],
      "text/plain": [
       "<IPython.core.display.HTML object>"
      ]
     },
     "metadata": {},
     "output_type": "display_data"
    },
    {
     "data": {
      "text/plain": [
       "('commission (%):', 12.227856669312798)"
      ]
     },
     "execution_count": 35,
     "metadata": {},
     "output_type": "execute_result"
    }
   ],
   "source": [
    "\"commission (%):\", commission_error_2015.getInfo()"
   ]
  },
  {
   "cell_type": "code",
   "execution_count": 36,
   "id": "8d59f80d-0908-4ba6-b3d3-1c824ff8771b",
   "metadata": {},
   "outputs": [
    {
     "data": {
      "text/html": [
       "\n",
       "            <style>\n",
       "                .geemap-dark {\n",
       "                    --jp-widgets-color: white;\n",
       "                    --jp-widgets-label-color: white;\n",
       "                    --jp-ui-font-color1: white;\n",
       "                    --jp-layout-color2: #454545;\n",
       "                    background-color: #383838;\n",
       "                }\n",
       "\n",
       "                .geemap-dark .jupyter-button {\n",
       "                    --jp-layout-color3: #383838;\n",
       "                }\n",
       "\n",
       "                .geemap-colab {\n",
       "                    background-color: var(--colab-primary-surface-color, white);\n",
       "                }\n",
       "\n",
       "                .geemap-colab .jupyter-button {\n",
       "                    --jp-layout-color3: var(--colab-primary-surface-color, white);\n",
       "                }\n",
       "            </style>\n",
       "            "
      ],
      "text/plain": [
       "<IPython.core.display.HTML object>"
      ]
     },
     "metadata": {},
     "output_type": "display_data"
    },
    {
     "data": {
      "text/plain": [
       "('completude (%):', 82.49209980585684)"
      ]
     },
     "execution_count": 36,
     "metadata": {},
     "output_type": "execute_result"
    }
   ],
   "source": [
    "\"completude (%):\", completude_2015.getInfo()"
   ]
  },
  {
   "cell_type": "code",
   "execution_count": 37,
   "id": "b764a7c5-9727-4027-a2c3-980724d37b43",
   "metadata": {},
   "outputs": [
    {
     "data": {
      "text/html": [
       "\n",
       "            <style>\n",
       "                .geemap-dark {\n",
       "                    --jp-widgets-color: white;\n",
       "                    --jp-widgets-label-color: white;\n",
       "                    --jp-ui-font-color1: white;\n",
       "                    --jp-layout-color2: #454545;\n",
       "                    background-color: #383838;\n",
       "                }\n",
       "\n",
       "                .geemap-dark .jupyter-button {\n",
       "                    --jp-layout-color3: #383838;\n",
       "                }\n",
       "\n",
       "                .geemap-colab {\n",
       "                    background-color: var(--colab-primary-surface-color, white);\n",
       "                }\n",
       "\n",
       "                .geemap-colab .jupyter-button {\n",
       "                    --jp-layout-color3: var(--colab-primary-surface-color, white);\n",
       "                }\n",
       "            </style>\n",
       "            "
      ],
      "text/plain": [
       "<IPython.core.display.HTML object>"
      ]
     },
     "metadata": {},
     "output_type": "display_data"
    },
    {
     "name": "stdout",
     "output_type": "stream",
     "text": [
      "                Évaluation des seuils pour les années 2000 et 2015\n",
      "Année                    2000                          2015                 \\\n",
      "               Commission (%) Complétude (%) Commission (%) Complétude (%)   \n",
      "Seuil (valeur)                                                               \n",
      "2                   21.610372      84.506628      12.227857      82.492100   \n",
      "3                   14.914052      80.658883       7.472952      78.115069   \n",
      "4                   11.384031      77.719197       5.348089      74.709213   \n",
      "6                    7.424047      72.856465       3.144183      69.231262   \n",
      "\n",
      "Année                 Moyenne                 \n",
      "               Commission (%) Complétude (%)  \n",
      "Seuil (valeur)                                \n",
      "2                   16.919114      83.499364  \n",
      "3                   11.193502      79.386976  \n",
      "4                    8.366060      76.214205  \n",
      "6                    5.284115      71.043863  \n"
     ]
    }
   ],
   "source": [
    "# Liste des seuils avec leur valeur de seuil utilisée\n",
    "years_studied=[2000,2015]\n",
    "\n",
    "seuils_2015 = [\n",
    "    (GlacierThreshold_1, Seuil1_2015),\n",
    "    (GlacierThreshold_2, Seuil2_2015),\n",
    "    (GlacierThreshold_3, Seuil3_2015),\n",
    "    (GlacierThreshold_4, Seuil4_2015)\n",
    "]\n",
    "\n",
    "seuils_2000 = [\n",
    "    (GlacierThreshold_1, Seuil1_2000),\n",
    "    (GlacierThreshold_2, Seuil2_2000),\n",
    "    (GlacierThreshold_3, Seuil3_2000),\n",
    "    (GlacierThreshold_4, Seuil4_2000)\n",
    "]\n",
    "\n",
    "# Initialisation des résultats\n",
    "resultats = []\n",
    "\n",
    "# Boucle pour 2015\n",
    "for seuil_valeur, seuil_objet in seuils_2015:\n",
    "    commission_error, completude = evaluer_seuils_glaciers(\"2015\", geom_RGI_FR_2015, seuil_objet)\n",
    "    resultats.append({\n",
    "        \"Année\": 2015,\n",
    "        \"Seuil (valeur)\": seuil_valeur,\n",
    "        \"Commission (%)\": commission_error.getInfo(),\n",
    "        \"Complétude (%)\": completude.getInfo()\n",
    "    })\n",
    "\n",
    "# Boucle pour 2000\n",
    "for seuil_valeur, seuil_objet in seuils_2000:\n",
    "    commission_error, completude = evaluer_seuils_glaciers(\"2000\", geom_RGI_FR_2000, seuil_objet)\n",
    "    resultats.append({\n",
    "        \"Année\": 2000,\n",
    "        \"Seuil (valeur)\": seuil_valeur,\n",
    "        \"Commission (%)\": commission_error.getInfo(),\n",
    "        \"Complétude (%)\": completude.getInfo()\n",
    "    })\n",
    "\n",
    "\n",
    "# Création du DataFrame à partir des résultats existants\n",
    "df_flat = pd.DataFrame(resultats)\n",
    "\n",
    "# Pivot pour avoir une structure à colonnes multiples\n",
    "df_pivot = df_flat.pivot(index=\"Seuil (valeur)\", columns=\"Année\", values=[\"Commission (%)\", \"Complétude (%)\"])\n",
    "\n",
    "# Réorganiser pour que l'année soit au premier niveau\n",
    "df_pivot = df_pivot.swaplevel(axis=1).sort_index(axis=1, level=0)\n",
    "\n",
    "# Calcul manuel des moyennes par seuil sur les deux années\n",
    "df_moyennes = df_pivot.groupby(level=1, axis=1).mean()\n",
    "\n",
    "# Ajouter les colonnes 'Moyenne' dans le multi-index\n",
    "df_pivot[(\"Moyenne\", \"Commission (%)\")] = df_moyennes[\"Commission (%)\"]\n",
    "df_pivot[(\"Moyenne\", \"Complétude (%)\")] = df_moyennes[\"Complétude (%)\"]\n",
    "\n",
    "# Réordonner les colonnes pour avoir \"Moyenne\" à la fin\n",
    "df_pivot = df_pivot.sort_index(axis=1, level=0)\n",
    "\n",
    "# Affichage\n",
    "print(\"                Évaluation des seuils pour les années 2000 et 2015\")\n",
    "print(df_pivot)"
   ]
  },
  {
   "cell_type": "code",
   "execution_count": 38,
   "id": "360ea0b8-2ff6-49e7-ab4a-b7563487729f",
   "metadata": {},
   "outputs": [
    {
     "data": {
      "text/html": [
       "\n",
       "            <style>\n",
       "                .geemap-dark {\n",
       "                    --jp-widgets-color: white;\n",
       "                    --jp-widgets-label-color: white;\n",
       "                    --jp-ui-font-color1: white;\n",
       "                    --jp-layout-color2: #454545;\n",
       "                    background-color: #383838;\n",
       "                }\n",
       "\n",
       "                .geemap-dark .jupyter-button {\n",
       "                    --jp-layout-color3: #383838;\n",
       "                }\n",
       "\n",
       "                .geemap-colab {\n",
       "                    background-color: var(--colab-primary-surface-color, white);\n",
       "                }\n",
       "\n",
       "                .geemap-colab .jupyter-button {\n",
       "                    --jp-layout-color3: var(--colab-primary-surface-color, white);\n",
       "                }\n",
       "            </style>\n",
       "            "
      ],
      "text/plain": [
       "<IPython.core.display.HTML object>"
      ]
     },
     "metadata": {},
     "output_type": "display_data"
    },
    {
     "data": {
      "image/png": "[encoded data removed]",
      "text/plain": [
       "<Figure size 1000x700 with 1 Axes>"
      ]
     },
     "metadata": {},
     "output_type": "display_data"
    }
   ],
   "source": [
    "import matplotlib.pyplot as plt\n",
    "from matplotlib.lines import Line2D\n",
    "\n",
    "# Séparer les résultats par année\n",
    "df_2015 = df_flat[df_flat[\"Année\"] == 2015].reset_index(drop=True)\n",
    "df_2000 = df_flat[df_flat[\"Année\"] == 2000].reset_index(drop=True)\n",
    "\n",
    "couleurs_seuils = {\n",
    "    0: '#e41a1c',  # rouge\n",
    "    1: '#377eb8',  # bleu\n",
    "    2: '#ff7f00',  # orange\n",
    "    3: '#1b7837'   # vert foncé\n",
    "}\n",
    "\n",
    "# Création de la figure\n",
    "plt.figure(figsize=(10, 7))\n",
    "\n",
    "# Points 2015 (ronds)\n",
    "for idx, row in df_2015.iterrows():\n",
    "    seuil = row[\"Seuil (valeur)\"]\n",
    "    x = row[\"Commission (%)\"]\n",
    "    y = row[\"Complétude (%)\"]\n",
    "    color = couleurs_seuils[idx]\n",
    "    plt.scatter(x, y, color=color, marker='o', s=100)\n",
    "    plt.annotate(f\"{seuil:.2f}\", (x + 0.3, y + 0.3), fontsize=9, color=color)\n",
    "\n",
    "# Points 2000 (croix)\n",
    "for idx, row in df_2000.iterrows():\n",
    "    seuil = row[\"Seuil (valeur)\"]\n",
    "    x = row[\"Commission (%)\"]\n",
    "    y = row[\"Complétude (%)\"]\n",
    "    color = couleurs_seuils[idx]\n",
    "    plt.scatter(x, y, color=color, marker='x', s=100)\n",
    "    plt.annotate(f\"{seuil:.2f}\", (x + 0.3, y - 0.8), fontsize=9, color=color)\n",
    "\n",
    "# Axes et titre\n",
    "plt.ylabel(\"Complétude (%)\")\n",
    "plt.xlabel(\"Commission (%)\")\n",
    "plt.title(\"Évaluation des seuils - Années 2000 et 2015\")\n",
    "plt.grid(True)\n",
    "# plt.gca().invert_xaxis()\n",
    "\n",
    "# Légende \n",
    "legend_elements = [\n",
    "    Line2D([0], [0], marker='o', color='black', label='Année 2015', linestyle='None'),\n",
    "    Line2D([0], [0], marker='x', color='black', label='Année 2000', linestyle='None')\n",
    "]\n",
    "plt.legend(handles=legend_elements, loc='lower right')\n",
    "\n",
    "plt.show()"
   ]
  },
  {
   "cell_type": "code",
   "execution_count": 39,
   "id": "e049eaa0-93e3-48c4-bab8-019aecd4ef38",
   "metadata": {},
   "outputs": [
    {
     "data": {
      "text/html": [
       "\n",
       "            <style>\n",
       "                .geemap-dark {\n",
       "                    --jp-widgets-color: white;\n",
       "                    --jp-widgets-label-color: white;\n",
       "                    --jp-ui-font-color1: white;\n",
       "                    --jp-layout-color2: #454545;\n",
       "                    background-color: #383838;\n",
       "                }\n",
       "\n",
       "                .geemap-dark .jupyter-button {\n",
       "                    --jp-layout-color3: #383838;\n",
       "                }\n",
       "\n",
       "                .geemap-colab {\n",
       "                    background-color: var(--colab-primary-surface-color, white);\n",
       "                }\n",
       "\n",
       "                .geemap-colab .jupyter-button {\n",
       "                    --jp-layout-color3: var(--colab-primary-surface-color, white);\n",
       "                }\n",
       "            </style>\n",
       "            "
      ],
      "text/plain": [
       "<IPython.core.display.HTML object>"
      ]
     },
     "metadata": {},
     "output_type": "display_data"
    },
    {
     "data": {
      "image/png": "[encoded data removed]",
      "text/plain": [
       "<Figure size 1000x700 with 1 Axes>"
      ]
     },
     "metadata": {},
     "output_type": "display_data"
    }
   ],
   "source": [
    "import matplotlib.pyplot as plt\n",
    "from matplotlib.patches import Patch\n",
    "from matplotlib.lines import Line2D\n",
    "\n",
    "# Séparer les résultats par année\n",
    "df_2015 = df_flat[df_flat[\"Année\"] == 2015].reset_index(drop=True)\n",
    "df_2000 = df_flat[df_flat[\"Année\"] == 2000].reset_index(drop=True)\n",
    "\n",
    "# Couleurs des seuils (par index)\n",
    "couleurs_seuils = {\n",
    "    0: '#e41a1c',  # rouge\n",
    "    1: '#377eb8',  # bleu\n",
    "    2: '#ff7f00',  # orange\n",
    "    3: '#1b7837'   # vert foncé\n",
    "}\n",
    "\n",
    "# Création de la figure\n",
    "plt.figure(figsize=(10, 7))\n",
    "\n",
    "# Zone \"Seuils Compromis\" (rectangle rouge semi-transparent)\n",
    "plt.gca().add_patch(plt.Rectangle((0, 70), 10, 20, color='red', alpha=0.15, label='Seuils Compromis'))\n",
    "\n",
    "# Zone \"Seuils Complets\" (rectangle bleu semi-transparent)\n",
    "plt.gca().add_patch(plt.Rectangle((12.5, 80), 12.5, 10, color='blue', alpha=0.15, label='Seuils Complets'))\n",
    "\n",
    "# Points 2015 (ronds)\n",
    "for idx, row in df_2015.iterrows():\n",
    "    seuil = row[\"Seuil (valeur)\"]\n",
    "    x = row[\"Commission (%)\"]\n",
    "    y = row[\"Complétude (%)\"]\n",
    "    color = couleurs_seuils[idx]\n",
    "    plt.scatter(x, y, color=color, marker='o', s=100)\n",
    "    plt.annotate(f\"{seuil:.2f}\", (x + 0.3, y + 0.3), fontsize=9, color=color)\n",
    "\n",
    "# Points 2000 (croix)\n",
    "for idx, row in df_2000.iterrows():\n",
    "    seuil = row[\"Seuil (valeur)\"]\n",
    "    x = row[\"Commission (%)\"]\n",
    "    y = row[\"Complétude (%)\"]\n",
    "    color = couleurs_seuils[idx]\n",
    "    plt.scatter(x, y, color=color, marker='x', s=100)\n",
    "    plt.annotate(f\"{seuil:.2f}\", (x + 0.3, y - 0.8), fontsize=9, color=color)\n",
    "\n",
    "# Axes et titre\n",
    "plt.ylabel(\"Complétude (%)\")\n",
    "plt.xlabel(\"Commission (%)\")\n",
    "plt.title(\"Évaluation des seuils - Années 2000 et 2015\")\n",
    "plt.grid(True)\n",
    "plt.xlim(0,25)\n",
    "plt.ylim(60,90)\n",
    "\n",
    "# Légende \n",
    "legend_elements = [\n",
    "    Line2D([0], [0], marker='o', color='black', label='Année 2015', linestyle='None'),\n",
    "    Line2D([0], [0], marker='x', color='black', label='Année 2000', linestyle='None'),\n",
    "    Patch(facecolor='red', edgecolor='red', alpha=0.15, label='Seuils Compromis'),\n",
    "    Patch(facecolor='blue', edgecolor='blue', alpha=0.15, label='Seuils Complets')\n",
    "]\n",
    "plt.legend(handles=legend_elements, loc='lower right')\n",
    "\n",
    "plt.show()\n"
   ]
  },
  {
   "cell_type": "markdown",
   "id": "10181857-1e93-41f9-8407-d02fff66755b",
   "metadata": {},
   "source": [
    "\n",
    "---------------------------------------------"
   ]
  },
  {
   "cell_type": "code",
   "execution_count": 40,
   "id": "add85804-deb6-49bf-b299-28fcfd8699e5",
   "metadata": {},
   "outputs": [
    {
     "data": {
      "text/html": [
       "\n",
       "            <style>\n",
       "                .geemap-dark {\n",
       "                    --jp-widgets-color: white;\n",
       "                    --jp-widgets-label-color: white;\n",
       "                    --jp-ui-font-color1: white;\n",
       "                    --jp-layout-color2: #454545;\n",
       "                    background-color: #383838;\n",
       "                }\n",
       "\n",
       "                .geemap-dark .jupyter-button {\n",
       "                    --jp-layout-color3: #383838;\n",
       "                }\n",
       "\n",
       "                .geemap-colab {\n",
       "                    background-color: var(--colab-primary-surface-color, white);\n",
       "                }\n",
       "\n",
       "                .geemap-colab .jupyter-button {\n",
       "                    --jp-layout-color3: var(--colab-primary-surface-color, white);\n",
       "                }\n",
       "            </style>\n",
       "            "
      ],
      "text/plain": [
       "<IPython.core.display.HTML object>"
      ]
     },
     "metadata": {},
     "output_type": "display_data"
    }
   ],
   "source": [
    "def generate_seuil_for_years_smoothed(year_selected,Threshold):\n",
    "   # Sélection de l'image annuelle\n",
    "    image_annee = (Landsat_annualCollection_index\n",
    "                   .filter(ee.Filter.eq('year', year_selected))\n",
    "                   .first())\n",
    "    \n",
    "    image_finale = ee.ImageCollection(image_annee)\n",
    "    \n",
    "    # Traitement pour chaque seuil\n",
    "    Seuil = image_finale.map(classifyWater)\\\n",
    "                         .map(lambda image: classifyGlacier(image, Threshold))\\\n",
    "                         .map(classifyVegetation)\\\n",
    "                         .map(lambda img: img.selfMask())\n",
    "    \n",
    "    # Sélection des bandes utiles\n",
    "    Seuil_selected = Seuil.select(['GLACIER', 'WATER', 'VEGETATION'])\n",
    "\n",
    "     # Conversion en image unique par seuil (mosaic)\n",
    "    aire_threshold = Seuil_selected.mosaic()\n",
    "    \n",
    "    return aire_threshold"
   ]
  },
  {
   "cell_type": "code",
   "execution_count": 41,
   "id": "1692021f-1c0e-4d09-942b-0a232c618d26",
   "metadata": {},
   "outputs": [
    {
     "data": {
      "text/html": [
       "\n",
       "            <style>\n",
       "                .geemap-dark {\n",
       "                    --jp-widgets-color: white;\n",
       "                    --jp-widgets-label-color: white;\n",
       "                    --jp-ui-font-color1: white;\n",
       "                    --jp-layout-color2: #454545;\n",
       "                    background-color: #383838;\n",
       "                }\n",
       "\n",
       "                .geemap-dark .jupyter-button {\n",
       "                    --jp-layout-color3: #383838;\n",
       "                }\n",
       "\n",
       "                .geemap-colab {\n",
       "                    background-color: var(--colab-primary-surface-color, white);\n",
       "                }\n",
       "\n",
       "                .geemap-colab .jupyter-button {\n",
       "                    --jp-layout-color3: var(--colab-primary-surface-color, white);\n",
       "                }\n",
       "            </style>\n",
       "            "
      ],
      "text/plain": [
       "<IPython.core.display.HTML object>"
      ]
     },
     "metadata": {},
     "output_type": "display_data"
    }
   ],
   "source": [
    "def evaluer_seuils_glaciers_processed(year_selected, rgi_geom, aire_threshold):\n",
    "    # Calcul de la surface pour chaque feature du RGI\n",
    "    rgi_with_area = rgi_geom.map(\n",
    "        lambda feature: feature.set(\n",
    "            {'areakm²': feature.geometry().area().divide(1e6)}))  # m² -> km²\n",
    "\n",
    "    # Surface totale du RGI\n",
    "    surface_totale_rgi = rgi_with_area.aggregate_sum('areakm²')\n",
    "\n",
    "    # Images des seuils pour l'année sélectionnée (supposées préchargées)\n",
    "\n",
    "    # Surface dans le RGI\n",
    "    glacier_in_rgi = aire_threshold.clip(rgi_geom).select('GLACIER') \\\n",
    "        .multiply(ee.Image.pixelArea()) \\\n",
    "        .reduceRegion(\n",
    "                reducer=ee.Reducer.sum(),\n",
    "                geometry=geom_lia,\n",
    "                scale=30,\n",
    "                crs=projection,\n",
    "                maxPixels=1e9\n",
    "            ).getNumber('GLACIER').divide(1e6)\n",
    "\n",
    "    # Surface totale (dans toute la zone d’étude)\n",
    "    glacier_total = aire_threshold.select('GLACIER') \\\n",
    "            .multiply(ee.Image.pixelArea()) \\\n",
    "            .reduceRegion(\n",
    "                reducer=ee.Reducer.sum(),\n",
    "                geometry=geom_lia,\n",
    "                scale=30,\n",
    "                crs=projection,\n",
    "                maxPixels=1e9\n",
    "            ).getNumber('GLACIER').divide(1e6)\n",
    "\n",
    "    # Surface hors RGI, normalisée\n",
    "    commission_error = (1-(glacier_in_rgi.divide(glacier_total)))*100 # le mieux est le plus proche de 0\n",
    "\n",
    "        # Accuracy (recouvrement avec le RGI)\n",
    "    completude = glacier_in_rgi.divide(surface_totale_rgi).multiply(100)\n",
    "\n",
    "    # Retourne les résultats sous forme de dictionnaires\n",
    "    return commission_error, completude"
   ]
  },
  {
   "cell_type": "code",
   "execution_count": 42,
   "id": "24ec92ee-034f-41b3-8b28-883e692485e0",
   "metadata": {},
   "outputs": [
    {
     "data": {
      "text/html": [
       "\n",
       "            <style>\n",
       "                .geemap-dark {\n",
       "                    --jp-widgets-color: white;\n",
       "                    --jp-widgets-label-color: white;\n",
       "                    --jp-ui-font-color1: white;\n",
       "                    --jp-layout-color2: #454545;\n",
       "                    background-color: #383838;\n",
       "                }\n",
       "\n",
       "                .geemap-dark .jupyter-button {\n",
       "                    --jp-layout-color3: #383838;\n",
       "                }\n",
       "\n",
       "                .geemap-colab {\n",
       "                    background-color: var(--colab-primary-surface-color, white);\n",
       "                }\n",
       "\n",
       "                .geemap-colab .jupyter-button {\n",
       "                    --jp-layout-color3: var(--colab-primary-surface-color, white);\n",
       "                }\n",
       "            </style>\n",
       "            "
      ],
      "text/plain": [
       "<IPython.core.display.HTML object>"
      ]
     },
     "metadata": {},
     "output_type": "display_data"
    },
    {
     "name": "stdout",
     "output_type": "stream",
     "text": [
      "                Évaluation des seuils pour les années 2000 et 2015\n",
      "Année                    2000                          2015                 \\\n",
      "               Commission (%) Complétude (%) Commission (%) Complétude (%)   \n",
      "Seuil (valeur)                                                               \n",
      "2                   21.610372      84.506628      12.227857      82.492100   \n",
      "3                   14.914052      80.658883       7.472952      78.115069   \n",
      "4                   11.384031      77.719197       5.348089      74.709213   \n",
      "6                    7.424047      72.856465       3.144183      69.231262   \n",
      "\n",
      "Année                 Moyenne                 \n",
      "               Commission (%) Complétude (%)  \n",
      "Seuil (valeur)                                \n",
      "2                   16.919114      83.499364  \n",
      "3                   11.193502      79.386976  \n",
      "4                    8.366060      76.214205  \n",
      "6                    5.284115      71.043863  \n"
     ]
    }
   ],
   "source": [
    "# Liste des seuils avec leur valeur de seuil utilisée\n",
    "years_studied=[2000,2015]\n",
    "\n",
    "seuils_2015_processed = [\n",
    "    (GlacierThreshold_1, Seuil1_2015),\n",
    "    (GlacierThreshold_2, Seuil2_2015),\n",
    "    (GlacierThreshold_3, Seuil3_2015),\n",
    "    (GlacierThreshold_4, Seuil4_2015)\n",
    "]\n",
    "\n",
    "seuils_2000 = [\n",
    "    (GlacierThreshold_1, Seuil1_2000),\n",
    "    (GlacierThreshold_2, Seuil2_2000),\n",
    "    (GlacierThreshold_3, Seuil3_2000),\n",
    "    (GlacierThreshold_4, Seuil4_2000)\n",
    "]\n",
    "\n",
    "# Initialisation des résultats\n",
    "resultats = []\n",
    "\n",
    "# Boucle pour 2015\n",
    "for seuil_valeur, seuil_objet in seuils_2015:\n",
    "    commission_error, completude = evaluer_seuils_glaciers(\"2015\", geom_RGI_FR_2015, seuil_objet)\n",
    "    resultats.append({\n",
    "        \"Année\": 2015,\n",
    "        \"Seuil (valeur)\": seuil_valeur,\n",
    "        \"Commission (%)\": commission_error.getInfo(),\n",
    "        \"Complétude (%)\": completude.getInfo()\n",
    "    })\n",
    "\n",
    "# Boucle pour 2000\n",
    "for seuil_valeur, seuil_objet in seuils_2000:\n",
    "    commission_error, completude = evaluer_seuils_glaciers(\"2000\", geom_RGI_FR_2000, seuil_objet)\n",
    "    resultats.append({\n",
    "        \"Année\": 2000,\n",
    "        \"Seuil (valeur)\": seuil_valeur,\n",
    "        \"Commission (%)\": commission_error.getInfo(),\n",
    "        \"Complétude (%)\": completude.getInfo()\n",
    "    })\n",
    "\n",
    "\n",
    "# Création du DataFrame à partir des résultats existants\n",
    "df_flat = pd.DataFrame(resultats)\n",
    "\n",
    "# Pivot pour avoir une structure à colonnes multiples\n",
    "df_pivot = df_flat.pivot(index=\"Seuil (valeur)\", columns=\"Année\", values=[\"Commission (%)\", \"Complétude (%)\"])\n",
    "\n",
    "# Réorganiser pour que l'année soit au premier niveau\n",
    "df_pivot = df_pivot.swaplevel(axis=1).sort_index(axis=1, level=0)\n",
    "\n",
    "# Calcul manuel des moyennes par seuil sur les deux années\n",
    "df_moyennes = df_pivot.groupby(level=1, axis=1).mean()\n",
    "\n",
    "# Ajouter les colonnes 'Moyenne' dans le multi-index\n",
    "df_pivot[(\"Moyenne\", \"Commission (%)\")] = df_moyennes[\"Commission (%)\"]\n",
    "df_pivot[(\"Moyenne\", \"Complétude (%)\")] = df_moyennes[\"Complétude (%)\"]\n",
    "\n",
    "# Réordonner les colonnes pour avoir \"Moyenne\" à la fin\n",
    "df_pivot = df_pivot.sort_index(axis=1, level=0)\n",
    "\n",
    "# Affichage\n",
    "print(\"                Évaluation des seuils pour les années 2000 et 2015\")\n",
    "print(df_pivot)"
   ]
  },
  {
   "cell_type": "code",
   "execution_count": null,
   "id": "1ef6d452-a67f-4fa1-bb55-d4478722f106",
   "metadata": {},
   "outputs": [],
   "source": []
  }
 ],
 "metadata": {
  "kernelspec": {
   "display_name": "Python 3 (ipykernel)",
   "language": "python",
   "name": "python3"
  },
  "language_info": {
   "codemirror_mode": {
    "name": "ipython",
    "version": 3
   },
   "file_extension": ".py",
   "mimetype": "text/x-python",
   "name": "python",
   "nbconvert_exporter": "python",
   "pygments_lexer": "ipython3",
   "version": "3.11.11"
  }
 },
 "nbformat": 4,
 "nbformat_minor": 5
}
