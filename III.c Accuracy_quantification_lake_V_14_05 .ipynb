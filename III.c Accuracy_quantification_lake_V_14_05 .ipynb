{
 "cells": [
  {
   "cell_type": "markdown",
   "id": "30317dd3-98c0-4a9a-8185-59437455b75e",
   "metadata": {},
   "source": [
    "See the old version for more details"
   ]
  },
  {
   "cell_type": "code",
   "execution_count": 1,
   "id": "b801eb31-b896-4812-8bd3-cb3a337163c2",
   "metadata": {
    "scrolled": true,
    "tags": []
   },
   "outputs": [],
   "source": [
    "import os\n",
    "import numpy as np\n",
    "import pandas as pd\n",
    "\n",
    "import geopandas as gpd\n",
    "import ee, eemont\n",
    "import geemap\n",
    "import geemap.colormaps as geecm\n",
    "\n",
    "import matplotlib.pyplot as plt\n",
    "import cmocean\n",
    "\n",
    "import xarray as xr\n",
    "import rioxarray as rxr"
   ]
  },
  {
   "cell_type": "code",
   "execution_count": 2,
   "id": "c8bdab6e-0a41-4ed4-ba2c-83651c5b1a5f",
   "metadata": {},
   "outputs": [
    {
     "data": {
      "text/html": [
       "\n",
       "            <style>\n",
       "                .geemap-dark {\n",
       "                    --jp-widgets-color: white;\n",
       "                    --jp-widgets-label-color: white;\n",
       "                    --jp-ui-font-color1: white;\n",
       "                    --jp-layout-color2: #454545;\n",
       "                    background-color: #383838;\n",
       "                }\n",
       "\n",
       "                .geemap-dark .jupyter-button {\n",
       "                    --jp-layout-color3: #383838;\n",
       "                }\n",
       "\n",
       "                .geemap-colab {\n",
       "                    background-color: var(--colab-primary-surface-color, white);\n",
       "                }\n",
       "\n",
       "                .geemap-colab .jupyter-button {\n",
       "                    --jp-layout-color3: var(--colab-primary-surface-color, white);\n",
       "                }\n",
       "            </style>\n",
       "            "
      ],
      "text/plain": [
       "<IPython.core.display.HTML object>"
      ]
     },
     "metadata": {},
     "output_type": "display_data"
    }
   ],
   "source": [
    "from geopandas import GeoSeries as Gs\n",
    "import folium\n",
    "import seaborn as sns"
   ]
  },
  {
   "cell_type": "code",
   "execution_count": 3,
   "id": "108555b5-e00a-4fd8-86b4-240ce05afc68",
   "metadata": {},
   "outputs": [
    {
     "data": {
      "text/html": [
       "\n",
       "            <style>\n",
       "                .geemap-dark {\n",
       "                    --jp-widgets-color: white;\n",
       "                    --jp-widgets-label-color: white;\n",
       "                    --jp-ui-font-color1: white;\n",
       "                    --jp-layout-color2: #454545;\n",
       "                    background-color: #383838;\n",
       "                }\n",
       "\n",
       "                .geemap-dark .jupyter-button {\n",
       "                    --jp-layout-color3: #383838;\n",
       "                }\n",
       "\n",
       "                .geemap-colab {\n",
       "                    background-color: var(--colab-primary-surface-color, white);\n",
       "                }\n",
       "\n",
       "                .geemap-colab .jupyter-button {\n",
       "                    --jp-layout-color3: var(--colab-primary-surface-color, white);\n",
       "                }\n",
       "            </style>\n",
       "            "
      ],
      "text/plain": [
       "<IPython.core.display.HTML object>"
      ]
     },
     "metadata": {},
     "output_type": "display_data"
    }
   ],
   "source": [
    "from pyce import shape as pyshape\n",
    "from pyce import raster as pyraster"
   ]
  },
  {
   "cell_type": "code",
   "execution_count": 4,
   "id": "189dfbf2-35cb-4949-94f5-7b07dde9894d",
   "metadata": {
    "editable": true,
    "slideshow": {
     "slide_type": ""
    },
    "tags": []
   },
   "outputs": [
    {
     "data": {
      "text/html": [
       "\n",
       "            <style>\n",
       "                .geemap-dark {\n",
       "                    --jp-widgets-color: white;\n",
       "                    --jp-widgets-label-color: white;\n",
       "                    --jp-ui-font-color1: white;\n",
       "                    --jp-layout-color2: #454545;\n",
       "                    background-color: #383838;\n",
       "                }\n",
       "\n",
       "                .geemap-dark .jupyter-button {\n",
       "                    --jp-layout-color3: #383838;\n",
       "                }\n",
       "\n",
       "                .geemap-colab {\n",
       "                    background-color: var(--colab-primary-surface-color, white);\n",
       "                }\n",
       "\n",
       "                .geemap-colab .jupyter-button {\n",
       "                    --jp-layout-color3: var(--colab-primary-surface-color, white);\n",
       "                }\n",
       "            </style>\n",
       "            "
      ],
      "text/plain": [
       "<IPython.core.display.HTML object>"
      ]
     },
     "metadata": {},
     "output_type": "display_data"
    }
   ],
   "source": [
    "#from pyce import gee"
   ]
  },
  {
   "cell_type": "code",
   "execution_count": 5,
   "id": "6213127f-09a9-4e22-a611-852ac79fc9c7",
   "metadata": {},
   "outputs": [
    {
     "data": {
      "text/html": [
       "\n",
       "            <style>\n",
       "                .geemap-dark {\n",
       "                    --jp-widgets-color: white;\n",
       "                    --jp-widgets-label-color: white;\n",
       "                    --jp-ui-font-color1: white;\n",
       "                    --jp-layout-color2: #454545;\n",
       "                    background-color: #383838;\n",
       "                }\n",
       "\n",
       "                .geemap-dark .jupyter-button {\n",
       "                    --jp-layout-color3: #383838;\n",
       "                }\n",
       "\n",
       "                .geemap-colab {\n",
       "                    background-color: var(--colab-primary-surface-color, white);\n",
       "                }\n",
       "\n",
       "                .geemap-colab .jupyter-button {\n",
       "                    --jp-layout-color3: var(--colab-primary-surface-color, white);\n",
       "                }\n",
       "            </style>\n",
       "            "
      ],
      "text/plain": [
       "<IPython.core.display.HTML object>"
      ]
     },
     "metadata": {},
     "output_type": "display_data"
    }
   ],
   "source": [
    "palette_diff = geecm.get_palette('RdBu', n_class=7)\n",
    "palette_ndwi = geecm.get_palette('viridis', n_class=7)\n",
    "palette_gbr = cmocean.cm.ice\n",
    "palette_dem = cmocean.cm.solar\n",
    "palette_slope = cmocean.cm.matter\n",
    "visParams_diff = {'min': -2, 'max': 2, 'palette': palette_diff}\n",
    "visParams_ndwi = {'min': 0.0, 'max': 0.5, 'palette': palette_ndwi}\n",
    "visParams_gbr = {'min': 0, 'max': 10, 'palette': palette_gbr}\n",
    "visParams_dem = {'min': 1000, 'max': 4000, 'palette': palette_dem}\n",
    "visParams_slope = {'min': 20, 'max': 60, 'palette': palette_slope}\n",
    "\n",
    "vis_params_landsat = {\n",
    "    'bands': ['RED', 'GREEN', 'BLUE'],  # RGB\n",
    "    'min': 0.0,\n",
    "    'max': 0.3,\n",
    "    'gamma': 1.3\n",
    "}\n",
    "\n",
    "# 3 palettes glacier avec nuances différentes (au choix ici pour exemple)\n",
    "visGLACIER_1 = {\"min\": 0, \"max\": 1, \"palette\": [\"#808080\", \"#228B22\"]}   # Vert forêt\n",
    "visGLACIER_2 = {\"min\": 0, \"max\": 1, \"palette\": [\"#808080\", \"#FF00FF\"]}   # Magenta\n",
    "visGLACIER_3 = {\"min\": 0, \"max\": 1, \"palette\": [\"#808080\", \"#00FFFF\"]}   # Cyan\n",
    "visGLACIER_4 = {\"min\": 0, \"max\": 1, \"palette\": [\"#808080\", \"#FF0000\"]}   # Rouge vif\n",
    "visWATER_1 = {\"min\": 0, \"max\": 1, \"palette\": [\"#00FFFF\", \"#0000FF\", \"#00008B\"]}  # Cyan → Bleu → Bleu foncé\n",
    "visWATER_2 = {\"min\": 0, \"max\": 1, \"palette\": [\"#00FFFF\", \"#0000FF\", \"#00008B\"]}\n",
    "visWATER_3 = {\"min\": 0, \"max\": 1, \"palette\": [\"#00FFFF\", \"#0000FF\", \"#00008B\"]}\n",
    "\n",
    "visVEGET = {\"min\": 0, \"max\": 1, \"palette\": [\"#808080\", \"#33a02c\"]}"
   ]
  },
  {
   "cell_type": "markdown",
   "id": "f0e20780-cb96-4022-b758-39df0997f0b1",
   "metadata": {},
   "source": [
    "# 1. Initialization GEE"
   ]
  },
  {
   "cell_type": "code",
   "execution_count": 6,
   "id": "494e7473-f45d-443a-9d23-c917c1bb6bd1",
   "metadata": {
    "tags": []
   },
   "outputs": [
    {
     "data": {
      "text/html": [
       "\n",
       "            <style>\n",
       "                .geemap-dark {\n",
       "                    --jp-widgets-color: white;\n",
       "                    --jp-widgets-label-color: white;\n",
       "                    --jp-ui-font-color1: white;\n",
       "                    --jp-layout-color2: #454545;\n",
       "                    background-color: #383838;\n",
       "                }\n",
       "\n",
       "                .geemap-dark .jupyter-button {\n",
       "                    --jp-layout-color3: #383838;\n",
       "                }\n",
       "\n",
       "                .geemap-colab {\n",
       "                    background-color: var(--colab-primary-surface-color, white);\n",
       "                }\n",
       "\n",
       "                .geemap-colab .jupyter-button {\n",
       "                    --jp-layout-color3: var(--colab-primary-surface-color, white);\n",
       "                }\n",
       "            </style>\n",
       "            "
      ],
      "text/plain": [
       "<IPython.core.display.HTML object>"
      ]
     },
     "metadata": {},
     "output_type": "display_data"
    },
    {
     "data": {
      "text/html": [
       "<p>To authorize access needed by Earth Engine, open the following\n",
       "        URL in a web browser and follow the instructions:</p>\n",
       "        <p><a href=https://code.earthengine.google.com/client-auth?scopes=https%3A//www.googleapis.com/auth/earthengine%20https%3A//www.googleapis.com/auth/cloud-platform%20https%3A//www.googleapis.com/auth/devstorage.full_control&request_id=NZD0pGhgKRmLTcIb7YDTTOwYsl4fuQXVH53V95DjteI&tc=Po9THHyOjgXukLP2VZeDO2Cgtu_7NaEs-tLk7c3qjKY&cc=9HGRpHUuOeSlQEuKGPN7_RLshHSbcgXd8JWsbHRn2B4>https://code.earthengine.google.com/client-auth?scopes=https%3A//www.googleapis.com/auth/earthengine%20https%3A//www.googleapis.com/auth/cloud-platform%20https%3A//www.googleapis.com/auth/devstorage.full_control&request_id=NZD0pGhgKRmLTcIb7YDTTOwYsl4fuQXVH53V95DjteI&tc=Po9THHyOjgXukLP2VZeDO2Cgtu_7NaEs-tLk7c3qjKY&cc=9HGRpHUuOeSlQEuKGPN7_RLshHSbcgXd8JWsbHRn2B4</a></p>\n",
       "        <p>The authorization workflow will generate a code, which you should paste in the box below.</p>\n",
       "        "
      ],
      "text/plain": [
       "<IPython.core.display.HTML object>"
      ]
     },
     "metadata": {},
     "output_type": "display_data"
    },
    {
     "name": "stdin",
     "output_type": "stream",
     "text": [
      "Enter verification code:  4/1AVMBsJhxCwgKxgY6bnZ5SdxZ_ZCkBseKTqedJM3I8_Y5d7x0vtMxdc_wdEE\n"
     ]
    },
    {
     "name": "stdout",
     "output_type": "stream",
     "text": [
      "\n",
      "Successfully saved authorization token.\n"
     ]
    }
   ],
   "source": [
    "ee.Authenticate()\n",
    "ee.Initialize()"
   ]
  },
  {
   "cell_type": "markdown",
   "id": "53da2c29-298f-439e-8744-1ec6301c9f9e",
   "metadata": {
    "tags": [],
    "toc-hr-collapsed": true
   },
   "source": [
    "# 2. Load GEE datasets + parameters"
   ]
  },
  {
   "cell_type": "code",
   "execution_count": 7,
   "id": "8bcf7695-25e2-4b37-abe8-98ae3a4ecff4",
   "metadata": {
    "tags": []
   },
   "outputs": [
    {
     "data": {
      "text/html": [
       "\n",
       "            <style>\n",
       "                .geemap-dark {\n",
       "                    --jp-widgets-color: white;\n",
       "                    --jp-widgets-label-color: white;\n",
       "                    --jp-ui-font-color1: white;\n",
       "                    --jp-layout-color2: #454545;\n",
       "                    background-color: #383838;\n",
       "                }\n",
       "\n",
       "                .geemap-dark .jupyter-button {\n",
       "                    --jp-layout-color3: #383838;\n",
       "                }\n",
       "\n",
       "                .geemap-colab {\n",
       "                    background-color: var(--colab-primary-surface-color, white);\n",
       "                }\n",
       "\n",
       "                .geemap-colab .jupyter-button {\n",
       "                    --jp-layout-color3: var(--colab-primary-surface-color, white);\n",
       "                }\n",
       "            </style>\n",
       "            "
      ],
      "text/plain": [
       "<IPython.core.display.HTML object>"
      ]
     },
     "metadata": {},
     "output_type": "display_data"
    }
   ],
   "source": [
    "dem_glo30 = ee.ImageCollection(\"COPERNICUS/DEM/GLO30\")"
   ]
  },
  {
   "cell_type": "code",
   "execution_count": 8,
   "id": "cf9d9a99-2a67-423e-b3c4-61caced98218",
   "metadata": {},
   "outputs": [
    {
     "data": {
      "text/html": [
       "\n",
       "            <style>\n",
       "                .geemap-dark {\n",
       "                    --jp-widgets-color: white;\n",
       "                    --jp-widgets-label-color: white;\n",
       "                    --jp-ui-font-color1: white;\n",
       "                    --jp-layout-color2: #454545;\n",
       "                    background-color: #383838;\n",
       "                }\n",
       "\n",
       "                .geemap-dark .jupyter-button {\n",
       "                    --jp-layout-color3: #383838;\n",
       "                }\n",
       "\n",
       "                .geemap-colab {\n",
       "                    background-color: var(--colab-primary-surface-color, white);\n",
       "                }\n",
       "\n",
       "                .geemap-colab .jupyter-button {\n",
       "                    --jp-layout-color3: var(--colab-primary-surface-color, white);\n",
       "                }\n",
       "            </style>\n",
       "            "
      ],
      "text/plain": [
       "<IPython.core.display.HTML object>"
      ]
     },
     "metadata": {},
     "output_type": "display_data"
    }
   ],
   "source": [
    "scale = 30 #Landsat 30m\n",
    "projection = \"EPSG:4326\" #GEE le plus stable avec ce SRC"
   ]
  },
  {
   "cell_type": "code",
   "execution_count": 9,
   "id": "422ec60b-43f5-4586-b949-75d43d8e8adf",
   "metadata": {},
   "outputs": [
    {
     "data": {
      "text/html": [
       "\n",
       "            <style>\n",
       "                .geemap-dark {\n",
       "                    --jp-widgets-color: white;\n",
       "                    --jp-widgets-label-color: white;\n",
       "                    --jp-ui-font-color1: white;\n",
       "                    --jp-layout-color2: #454545;\n",
       "                    background-color: #383838;\n",
       "                }\n",
       "\n",
       "                .geemap-dark .jupyter-button {\n",
       "                    --jp-layout-color3: #383838;\n",
       "                }\n",
       "\n",
       "                .geemap-colab {\n",
       "                    background-color: var(--colab-primary-surface-color, white);\n",
       "                }\n",
       "\n",
       "                .geemap-colab .jupyter-button {\n",
       "                    --jp-layout-color3: var(--colab-primary-surface-color, white);\n",
       "                }\n",
       "            </style>\n",
       "            "
      ],
      "text/plain": [
       "<IPython.core.display.HTML object>"
      ]
     },
     "metadata": {},
     "output_type": "display_data"
    }
   ],
   "source": [
    "fc_lia_local = gpd.read_file(\"C:/Users/ronir/Desktop/Stage_Carrtel_2025/QGIS/Shape LIA/transfer_9869808_files_c7ca226a/Glaciers_1850_final_mourey2025.shp\")"
   ]
  },
  {
   "cell_type": "code",
   "execution_count": 10,
   "id": "34718629-3a54-4928-afb3-39c595c323a9",
   "metadata": {
    "tags": []
   },
   "outputs": [
    {
     "data": {
      "text/html": [
       "\n",
       "            <style>\n",
       "                .geemap-dark {\n",
       "                    --jp-widgets-color: white;\n",
       "                    --jp-widgets-label-color: white;\n",
       "                    --jp-ui-font-color1: white;\n",
       "                    --jp-layout-color2: #454545;\n",
       "                    background-color: #383838;\n",
       "                }\n",
       "\n",
       "                .geemap-dark .jupyter-button {\n",
       "                    --jp-layout-color3: #383838;\n",
       "                }\n",
       "\n",
       "                .geemap-colab {\n",
       "                    background-color: var(--colab-primary-surface-color, white);\n",
       "                }\n",
       "\n",
       "                .geemap-colab .jupyter-button {\n",
       "                    --jp-layout-color3: var(--colab-primary-surface-color, white);\n",
       "                }\n",
       "            </style>\n",
       "            "
      ],
      "text/plain": [
       "<IPython.core.display.HTML object>"
      ]
     },
     "metadata": {},
     "output_type": "display_data"
    }
   ],
   "source": [
    "fc_lia = ee.FeatureCollection('users/aguerou/ice_and_life/carto_h1b/lia_shp/glaciers_1850_final_mars_2025')\n",
    "\n",
    "geom_lia_local=fc_lia_local.geometry\n",
    "geom_lia = fc_lia.geometry()\n",
    "geom_alpes_FR = ee.FeatureCollection('users/aguerou/ice_and_life/erable_2025/data_ancillary/alpes_francaises')\n",
    "\n",
    "geom_RGI_2000=ee.FeatureCollection('projects/sat-io/open-datasets/RGI/RGI_VECTOR_MERGED_V7')\n",
    "geom_RGI_2015=ee.FeatureCollection('users/aguerou/ice_and_life/carto_h1b/lia_shp/c3s_gi_rgi11_s2_2015_v2')"
   ]
  },
  {
   "cell_type": "code",
   "execution_count": 11,
   "id": "7af01a06-2183-4d8b-9f90-c98d53a5b916",
   "metadata": {},
   "outputs": [
    {
     "data": {
      "text/html": [
       "\n",
       "            <style>\n",
       "                .geemap-dark {\n",
       "                    --jp-widgets-color: white;\n",
       "                    --jp-widgets-label-color: white;\n",
       "                    --jp-ui-font-color1: white;\n",
       "                    --jp-layout-color2: #454545;\n",
       "                    background-color: #383838;\n",
       "                }\n",
       "\n",
       "                .geemap-dark .jupyter-button {\n",
       "                    --jp-layout-color3: #383838;\n",
       "                }\n",
       "\n",
       "                .geemap-colab {\n",
       "                    background-color: var(--colab-primary-surface-color, white);\n",
       "                }\n",
       "\n",
       "                .geemap-colab .jupyter-button {\n",
       "                    --jp-layout-color3: var(--colab-primary-surface-color, white);\n",
       "                }\n",
       "            </style>\n",
       "            "
      ],
      "text/plain": [
       "<IPython.core.display.HTML object>"
      ]
     },
     "metadata": {},
     "output_type": "display_data"
    }
   ],
   "source": [
    "years = range(1984, 2025)\n",
    "# Créer une liste d'images en important les fichiers du répertoire\n",
    "Landsat_annualCollection_index= ee.ImageCollection([\n",
    "    ee.Image(f\"projects/ee-roniritzganem/assets/stage_carrtel_2025/landsat_annual_median_index/Landsat_{year}\")\n",
    "    for year in years\n",
    "])"
   ]
  },
  {
   "cell_type": "code",
   "execution_count": 12,
   "id": "f6187cf9-34d7-4ed6-9980-29d1f57caad9",
   "metadata": {},
   "outputs": [
    {
     "data": {
      "text/html": [
       "\n",
       "            <style>\n",
       "                .geemap-dark {\n",
       "                    --jp-widgets-color: white;\n",
       "                    --jp-widgets-label-color: white;\n",
       "                    --jp-ui-font-color1: white;\n",
       "                    --jp-layout-color2: #454545;\n",
       "                    background-color: #383838;\n",
       "                }\n",
       "\n",
       "                .geemap-dark .jupyter-button {\n",
       "                    --jp-layout-color3: #383838;\n",
       "                }\n",
       "\n",
       "                .geemap-colab {\n",
       "                    background-color: var(--colab-primary-surface-color, white);\n",
       "                }\n",
       "\n",
       "                .geemap-colab .jupyter-button {\n",
       "                    --jp-layout-color3: var(--colab-primary-surface-color, white);\n",
       "                }\n",
       "            </style>\n",
       "            "
      ],
      "text/plain": [
       "<IPython.core.display.HTML object>"
      ]
     },
     "metadata": {},
     "output_type": "display_data"
    }
   ],
   "source": [
    "geom_RGI_FR_2000=ee.FeatureCollection('projects/ee-roniritzganem/assets/stage_carrtel_2025/RGI/RGI_FR_2000')\n",
    "geom_RGI_FR_2015=ee.FeatureCollection('projects/ee-roniritzganem/assets/stage_carrtel_2025/RGI/RGI_FR_2015')\n"
   ]
  },
  {
   "cell_type": "code",
   "execution_count": 13,
   "id": "8196356f-23c0-4241-95bf-228758670812",
   "metadata": {},
   "outputs": [
    {
     "data": {
      "text/html": [
       "\n",
       "            <style>\n",
       "                .geemap-dark {\n",
       "                    --jp-widgets-color: white;\n",
       "                    --jp-widgets-label-color: white;\n",
       "                    --jp-ui-font-color1: white;\n",
       "                    --jp-layout-color2: #454545;\n",
       "                    background-color: #383838;\n",
       "                }\n",
       "\n",
       "                .geemap-dark .jupyter-button {\n",
       "                    --jp-layout-color3: #383838;\n",
       "                }\n",
       "\n",
       "                .geemap-colab {\n",
       "                    background-color: var(--colab-primary-surface-color, white);\n",
       "                }\n",
       "\n",
       "                .geemap-colab .jupyter-button {\n",
       "                    --jp-layout-color3: var(--colab-primary-surface-color, white);\n",
       "                }\n",
       "            </style>\n",
       "            "
      ],
      "text/plain": [
       "<IPython.core.display.HTML object>"
      ]
     },
     "metadata": {},
     "output_type": "display_data"
    }
   ],
   "source": [
    "geom_RGI_FR_2000_propre=ee.FeatureCollection('projects/ee-roniritzganem/assets/stage_carrtel_2025/RGI/RGI_FR_Strict_2000')\n",
    "geom_RGI_FR_2015_propre=ee.FeatureCollection('projects/ee-roniritzganem/assets/stage_carrtel_2025/RGI/RGI_FR_Strict_2015')"
   ]
  },
  {
   "cell_type": "code",
   "execution_count": 14,
   "id": "d6e6e4e5-37e1-4d92-adcd-93dfd7ca2112",
   "metadata": {},
   "outputs": [
    {
     "data": {
      "text/html": [
       "\n",
       "            <style>\n",
       "                .geemap-dark {\n",
       "                    --jp-widgets-color: white;\n",
       "                    --jp-widgets-label-color: white;\n",
       "                    --jp-ui-font-color1: white;\n",
       "                    --jp-layout-color2: #454545;\n",
       "                    background-color: #383838;\n",
       "                }\n",
       "\n",
       "                .geemap-dark .jupyter-button {\n",
       "                    --jp-layout-color3: #383838;\n",
       "                }\n",
       "\n",
       "                .geemap-colab {\n",
       "                    background-color: var(--colab-primary-surface-color, white);\n",
       "                }\n",
       "\n",
       "                .geemap-colab .jupyter-button {\n",
       "                    --jp-layout-color3: var(--colab-primary-surface-color, white);\n",
       "                }\n",
       "            </style>\n",
       "            "
      ],
      "text/plain": [
       "<IPython.core.display.HTML object>"
      ]
     },
     "metadata": {},
     "output_type": "display_data"
    }
   ],
   "source": [
    "lake_shape=gpd.read_file('C:/Users/ronir/Desktop/Stage_Carrtel_2025/Inventaire_Lac_alpin/Inventaire_lacs_2022/Inventaire_lacs_2022/inventaire_tous_lacs_2022.shp')  \n",
    "lake_shape = lake_shape.to_crs(fc_lia_local.crs)"
   ]
  },
  {
   "cell_type": "code",
   "execution_count": 15,
   "id": "6a5e2d21-c293-48cf-b12e-a7d62b2eb0cb",
   "metadata": {},
   "outputs": [
    {
     "data": {
      "text/html": [
       "\n",
       "            <style>\n",
       "                .geemap-dark {\n",
       "                    --jp-widgets-color: white;\n",
       "                    --jp-widgets-label-color: white;\n",
       "                    --jp-ui-font-color1: white;\n",
       "                    --jp-layout-color2: #454545;\n",
       "                    background-color: #383838;\n",
       "                }\n",
       "\n",
       "                .geemap-dark .jupyter-button {\n",
       "                    --jp-layout-color3: #383838;\n",
       "                }\n",
       "\n",
       "                .geemap-colab {\n",
       "                    background-color: var(--colab-primary-surface-color, white);\n",
       "                }\n",
       "\n",
       "                .geemap-colab .jupyter-button {\n",
       "                    --jp-layout-color3: var(--colab-primary-surface-color, white);\n",
       "                }\n",
       "            </style>\n",
       "            "
      ],
      "text/plain": [
       "<IPython.core.display.HTML object>"
      ]
     },
     "metadata": {},
     "output_type": "display_data"
    }
   ],
   "source": [
    "lake_shape_clipped=gpd.read_file('C:/Users/ronir/Desktop/Google_Earth_Engine/Export/Vectorisation_V1/Shapefile/lake_shape_clipped.shp')"
   ]
  },
  {
   "cell_type": "code",
   "execution_count": 16,
   "id": "42c341d9-5996-4097-9dfe-459d91b94c7e",
   "metadata": {},
   "outputs": [
    {
     "data": {
      "text/html": [
       "\n",
       "            <style>\n",
       "                .geemap-dark {\n",
       "                    --jp-widgets-color: white;\n",
       "                    --jp-widgets-label-color: white;\n",
       "                    --jp-ui-font-color1: white;\n",
       "                    --jp-layout-color2: #454545;\n",
       "                    background-color: #383838;\n",
       "                }\n",
       "\n",
       "                .geemap-dark .jupyter-button {\n",
       "                    --jp-layout-color3: #383838;\n",
       "                }\n",
       "\n",
       "                .geemap-colab {\n",
       "                    background-color: var(--colab-primary-surface-color, white);\n",
       "                }\n",
       "\n",
       "                .geemap-colab .jupyter-button {\n",
       "                    --jp-layout-color3: var(--colab-primary-surface-color, white);\n",
       "                }\n",
       "            </style>\n",
       "            "
      ],
      "text/plain": [
       "<IPython.core.display.HTML object>"
      ]
     },
     "metadata": {},
     "output_type": "display_data"
    }
   ],
   "source": [
    "lake_classif_inrae_clean_gt900m2 = gpd.read_file(\"C:/Users/ronir/Desktop/Stage_Carrtel_2025/Resultats/validation_lake_classif/lake_classif_inrae_clean_gt900m2/lake_classif_inrae_clean_gt900m2.dbf\")"
   ]
  },
  {
   "cell_type": "code",
   "execution_count": 17,
   "id": "805d9fb2-f19d-4010-acf0-0d3f189f44e7",
   "metadata": {},
   "outputs": [
    {
     "data": {
      "text/html": [
       "\n",
       "            <style>\n",
       "                .geemap-dark {\n",
       "                    --jp-widgets-color: white;\n",
       "                    --jp-widgets-label-color: white;\n",
       "                    --jp-ui-font-color1: white;\n",
       "                    --jp-layout-color2: #454545;\n",
       "                    background-color: #383838;\n",
       "                }\n",
       "\n",
       "                .geemap-dark .jupyter-button {\n",
       "                    --jp-layout-color3: #383838;\n",
       "                }\n",
       "\n",
       "                .geemap-colab {\n",
       "                    background-color: var(--colab-primary-surface-color, white);\n",
       "                }\n",
       "\n",
       "                .geemap-colab .jupyter-button {\n",
       "                    --jp-layout-color3: var(--colab-primary-surface-color, white);\n",
       "                }\n",
       "            </style>\n",
       "            "
      ],
      "text/plain": [
       "<IPython.core.display.HTML object>"
      ]
     },
     "metadata": {},
     "output_type": "display_data"
    }
   ],
   "source": [
    "# dem = ee.ImageCollection(dem_glo30).filterBounds(fc_lia).select(\"DEM\")\n",
    "# dem_mosaic = dem.mosaic().clip(fc_lia)\n",
    "# slope = dem.map(get_slope).mosaic().clip(fc_lia) /\n",
    "# #need to map on single image for slope function to work fine\n",
    "# SlopeThresh = 30 \n",
    "# AltitudeThresh = 1000\n",
    "# slope_mask = slope.lt(SlopeThresh)\n",
    "# valley_mask = dem_mosaic.gt(AltitudeThresh)"
   ]
  },
  {
   "cell_type": "markdown",
   "id": "ccba977e-a290-4d2b-9f57-7a0ca3c06694",
   "metadata": {},
   "source": [
    "----------------------------"
   ]
  },
  {
   "cell_type": "markdown",
   "id": "6aab9db5-2d9f-42ab-8e8f-6682c2c30034",
   "metadata": {},
   "source": [
    "#  Validation Classification INRAE 2022"
   ]
  },
  {
   "cell_type": "code",
   "execution_count": 18,
   "id": "01745c6f-0845-40e3-a64a-e98cdd145f89",
   "metadata": {},
   "outputs": [
    {
     "data": {
      "text/html": [
       "\n",
       "            <style>\n",
       "                .geemap-dark {\n",
       "                    --jp-widgets-color: white;\n",
       "                    --jp-widgets-label-color: white;\n",
       "                    --jp-ui-font-color1: white;\n",
       "                    --jp-layout-color2: #454545;\n",
       "                    background-color: #383838;\n",
       "                }\n",
       "\n",
       "                .geemap-dark .jupyter-button {\n",
       "                    --jp-layout-color3: #383838;\n",
       "                }\n",
       "\n",
       "                .geemap-colab {\n",
       "                    background-color: var(--colab-primary-surface-color, white);\n",
       "                }\n",
       "\n",
       "                .geemap-colab .jupyter-button {\n",
       "                    --jp-layout-color3: var(--colab-primary-surface-color, white);\n",
       "                }\n",
       "            </style>\n",
       "            "
      ],
      "text/plain": [
       "<IPython.core.display.HTML object>"
      ]
     },
     "metadata": {},
     "output_type": "display_data"
    }
   ],
   "source": [
    "lake_shape_clipped = lake_shape_clipped.to_crs(fc_lia_local.crs)"
   ]
  },
  {
   "cell_type": "code",
   "execution_count": 19,
   "id": "ef18c9ef-1f31-4a36-b8f9-8379758acffc",
   "metadata": {},
   "outputs": [
    {
     "data": {
      "text/html": [
       "\n",
       "            <style>\n",
       "                .geemap-dark {\n",
       "                    --jp-widgets-color: white;\n",
       "                    --jp-widgets-label-color: white;\n",
       "                    --jp-ui-font-color1: white;\n",
       "                    --jp-layout-color2: #454545;\n",
       "                    background-color: #383838;\n",
       "                }\n",
       "\n",
       "                .geemap-dark .jupyter-button {\n",
       "                    --jp-layout-color3: #383838;\n",
       "                }\n",
       "\n",
       "                .geemap-colab {\n",
       "                    background-color: var(--colab-primary-surface-color, white);\n",
       "                }\n",
       "\n",
       "                .geemap-colab .jupyter-button {\n",
       "                    --jp-layout-color3: var(--colab-primary-surface-color, white);\n",
       "                }\n",
       "            </style>\n",
       "            "
      ],
      "text/plain": [
       "<IPython.core.display.HTML object>"
      ]
     },
     "metadata": {},
     "output_type": "display_data"
    }
   ],
   "source": [
    "lake_shape_clipped = lake_shape_clipped.clip(fc_lia_local)"
   ]
  },
  {
   "cell_type": "markdown",
   "id": "139f9cb7-9768-4c80-af24-fe423dd52a6c",
   "metadata": {},
   "source": [
    "checking duplicates"
   ]
  },
  {
   "cell_type": "code",
   "execution_count": 20,
   "id": "5436bfd7-d5a9-41fa-9bca-6e5b8a0bad36",
   "metadata": {},
   "outputs": [
    {
     "data": {
      "text/html": [
       "\n",
       "            <style>\n",
       "                .geemap-dark {\n",
       "                    --jp-widgets-color: white;\n",
       "                    --jp-widgets-label-color: white;\n",
       "                    --jp-ui-font-color1: white;\n",
       "                    --jp-layout-color2: #454545;\n",
       "                    background-color: #383838;\n",
       "                }\n",
       "\n",
       "                .geemap-dark .jupyter-button {\n",
       "                    --jp-layout-color3: #383838;\n",
       "                }\n",
       "\n",
       "                .geemap-colab {\n",
       "                    background-color: var(--colab-primary-surface-color, white);\n",
       "                }\n",
       "\n",
       "                .geemap-colab .jupyter-button {\n",
       "                    --jp-layout-color3: var(--colab-primary-surface-color, white);\n",
       "                }\n",
       "            </style>\n",
       "            "
      ],
      "text/plain": [
       "<IPython.core.display.HTML object>"
      ]
     },
     "metadata": {},
     "output_type": "display_data"
    },
    {
     "name": "stdout",
     "output_type": "stream",
     "text": [
      "IDs des géométries dupliquées :\n",
      "[22, 22, 37, 37, 189, 189, 85, 85, 85, 85]\n"
     ]
    }
   ],
   "source": [
    "import geopandas as gpd\n",
    "import pandas as pd\n",
    "\n",
    "# On réinitialise l'index si besoin\n",
    "lake_shape_clipped = lake_shape_clipped.reset_index(drop=True)\n",
    "\n",
    "# Cherche les doublons géométriques\n",
    "duplicates_mask = lake_shape_clipped.duplicated(subset='id', keep=False)\n",
    "\n",
    "# Filtrer uniquement les doublons\n",
    "duplicates = lake_shape_clipped[duplicates_mask]\n",
    "\n",
    "# Afficher les IDs correspondants\n",
    "print(\"IDs des géométries dupliquées :\")\n",
    "print(duplicates[\"id\"].tolist())"
   ]
  },
  {
   "cell_type": "code",
   "execution_count": 21,
   "id": "56a48a20-bce1-4a31-82ca-ce14949fcd5c",
   "metadata": {},
   "outputs": [
    {
     "data": {
      "text/html": [
       "\n",
       "            <style>\n",
       "                .geemap-dark {\n",
       "                    --jp-widgets-color: white;\n",
       "                    --jp-widgets-label-color: white;\n",
       "                    --jp-ui-font-color1: white;\n",
       "                    --jp-layout-color2: #454545;\n",
       "                    background-color: #383838;\n",
       "                }\n",
       "\n",
       "                .geemap-dark .jupyter-button {\n",
       "                    --jp-layout-color3: #383838;\n",
       "                }\n",
       "\n",
       "                .geemap-colab {\n",
       "                    background-color: var(--colab-primary-surface-color, white);\n",
       "                }\n",
       "\n",
       "                .geemap-colab .jupyter-button {\n",
       "                    --jp-layout-color3: var(--colab-primary-surface-color, white);\n",
       "                }\n",
       "            </style>\n",
       "            "
      ],
      "text/plain": [
       "<IPython.core.display.HTML object>"
      ]
     },
     "metadata": {},
     "output_type": "display_data"
    },
    {
     "name": "stdout",
     "output_type": "stream",
     "text": [
      "IDs des géométries dupliquées :\n",
      "[]\n"
     ]
    }
   ],
   "source": [
    "import geopandas as gpd\n",
    "import pandas as pd\n",
    "\n",
    "# On réinitialise l'index si besoin\n",
    "lake_shape_clipped = lake_classif_inrae_clean_gt900m2.reset_index(drop=True)\n",
    "\n",
    "# Cherche les doublons géométriques\n",
    "duplicates_mask = lake_shape_clipped.duplicated(subset='id', keep=False)\n",
    "\n",
    "# Filtrer uniquement les doublons\n",
    "duplicates = lake_shape_clipped[duplicates_mask]\n",
    "\n",
    "# Afficher les IDs correspondants\n",
    "print(\"IDs des géométries dupliquées :\")\n",
    "print(duplicates[\"id\"].tolist())"
   ]
  },
  {
   "cell_type": "markdown",
   "id": "3cff4dd3-09b5-4469-b9fd-a0b48ad7953a",
   "metadata": {},
   "source": [
    "drop duplicates"
   ]
  },
  {
   "cell_type": "code",
   "execution_count": 22,
   "id": "0a5e2b72-c407-4a7a-8541-bbfef16b9726",
   "metadata": {},
   "outputs": [
    {
     "data": {
      "text/html": [
       "\n",
       "            <style>\n",
       "                .geemap-dark {\n",
       "                    --jp-widgets-color: white;\n",
       "                    --jp-widgets-label-color: white;\n",
       "                    --jp-ui-font-color1: white;\n",
       "                    --jp-layout-color2: #454545;\n",
       "                    background-color: #383838;\n",
       "                }\n",
       "\n",
       "                .geemap-dark .jupyter-button {\n",
       "                    --jp-layout-color3: #383838;\n",
       "                }\n",
       "\n",
       "                .geemap-colab {\n",
       "                    background-color: var(--colab-primary-surface-color, white);\n",
       "                }\n",
       "\n",
       "                .geemap-colab .jupyter-button {\n",
       "                    --jp-layout-color3: var(--colab-primary-surface-color, white);\n",
       "                }\n",
       "            </style>\n",
       "            "
      ],
      "text/plain": [
       "<IPython.core.display.HTML object>"
      ]
     },
     "metadata": {},
     "output_type": "display_data"
    }
   ],
   "source": [
    "lake_inrae_clean = lake_shape_clipped.drop_duplicates(subset=\"geometry\", keep=\"first\")"
   ]
  },
  {
   "cell_type": "markdown",
   "id": "328d7507-e6f6-454f-8b34-f6da1f84a1da",
   "metadata": {},
   "source": [
    "difference of surface between classif before and after dropping"
   ]
  },
  {
   "cell_type": "code",
   "execution_count": 23,
   "id": "cd26441b-058e-4e35-a56b-85b4a38a26ad",
   "metadata": {},
   "outputs": [
    {
     "data": {
      "text/html": [
       "\n",
       "            <style>\n",
       "                .geemap-dark {\n",
       "                    --jp-widgets-color: white;\n",
       "                    --jp-widgets-label-color: white;\n",
       "                    --jp-ui-font-color1: white;\n",
       "                    --jp-layout-color2: #454545;\n",
       "                    background-color: #383838;\n",
       "                }\n",
       "\n",
       "                .geemap-dark .jupyter-button {\n",
       "                    --jp-layout-color3: #383838;\n",
       "                }\n",
       "\n",
       "                .geemap-colab {\n",
       "                    background-color: var(--colab-primary-surface-color, white);\n",
       "                }\n",
       "\n",
       "                .geemap-colab .jupyter-button {\n",
       "                    --jp-layout-color3: var(--colab-primary-surface-color, white);\n",
       "                }\n",
       "            </style>\n",
       "            "
      ],
      "text/plain": [
       "<IPython.core.display.HTML object>"
      ]
     },
     "metadata": {},
     "output_type": "display_data"
    },
    {
     "data": {
      "text/plain": [
       "np.float64(2.3621114693413934)"
      ]
     },
     "execution_count": 23,
     "metadata": {},
     "output_type": "execute_result"
    }
   ],
   "source": [
    "lake_shape_clipped.area.sum()*1e-6"
   ]
  },
  {
   "cell_type": "code",
   "execution_count": 24,
   "id": "abc00e69-b89d-4646-9c72-6b5207b937bb",
   "metadata": {},
   "outputs": [
    {
     "data": {
      "text/html": [
       "\n",
       "            <style>\n",
       "                .geemap-dark {\n",
       "                    --jp-widgets-color: white;\n",
       "                    --jp-widgets-label-color: white;\n",
       "                    --jp-ui-font-color1: white;\n",
       "                    --jp-layout-color2: #454545;\n",
       "                    background-color: #383838;\n",
       "                }\n",
       "\n",
       "                .geemap-dark .jupyter-button {\n",
       "                    --jp-layout-color3: #383838;\n",
       "                }\n",
       "\n",
       "                .geemap-colab {\n",
       "                    background-color: var(--colab-primary-surface-color, white);\n",
       "                }\n",
       "\n",
       "                .geemap-colab .jupyter-button {\n",
       "                    --jp-layout-color3: var(--colab-primary-surface-color, white);\n",
       "                }\n",
       "            </style>\n",
       "            "
      ],
      "text/plain": [
       "<IPython.core.display.HTML object>"
      ]
     },
     "metadata": {},
     "output_type": "display_data"
    },
    {
     "data": {
      "text/plain": [
       "np.float64(2.3621114693413934)"
      ]
     },
     "execution_count": 24,
     "metadata": {},
     "output_type": "execute_result"
    }
   ],
   "source": [
    "lake_inrae_clean.area.sum()*1e-6"
   ]
  },
  {
   "cell_type": "code",
   "execution_count": 25,
   "id": "a1d5849e-bf04-4fbf-84a4-43044ebd0349",
   "metadata": {},
   "outputs": [
    {
     "data": {
      "text/html": [
       "\n",
       "            <style>\n",
       "                .geemap-dark {\n",
       "                    --jp-widgets-color: white;\n",
       "                    --jp-widgets-label-color: white;\n",
       "                    --jp-ui-font-color1: white;\n",
       "                    --jp-layout-color2: #454545;\n",
       "                    background-color: #383838;\n",
       "                }\n",
       "\n",
       "                .geemap-dark .jupyter-button {\n",
       "                    --jp-layout-color3: #383838;\n",
       "                }\n",
       "\n",
       "                .geemap-colab {\n",
       "                    background-color: var(--colab-primary-surface-color, white);\n",
       "                }\n",
       "\n",
       "                .geemap-colab .jupyter-button {\n",
       "                    --jp-layout-color3: var(--colab-primary-surface-color, white);\n",
       "                }\n",
       "            </style>\n",
       "            "
      ],
      "text/plain": [
       "<IPython.core.display.HTML object>"
      ]
     },
     "metadata": {},
     "output_type": "display_data"
    }
   ],
   "source": [
    "difference_after_cleaning = lake_shape_clipped.area.sum()*1e-6 - lake_inrae_clean.area.sum()*1e-6"
   ]
  },
  {
   "cell_type": "code",
   "execution_count": 26,
   "id": "c8fd89fa-fe74-4043-8836-73a861c61166",
   "metadata": {},
   "outputs": [
    {
     "data": {
      "text/html": [
       "\n",
       "            <style>\n",
       "                .geemap-dark {\n",
       "                    --jp-widgets-color: white;\n",
       "                    --jp-widgets-label-color: white;\n",
       "                    --jp-ui-font-color1: white;\n",
       "                    --jp-layout-color2: #454545;\n",
       "                    background-color: #383838;\n",
       "                }\n",
       "\n",
       "                .geemap-dark .jupyter-button {\n",
       "                    --jp-layout-color3: #383838;\n",
       "                }\n",
       "\n",
       "                .geemap-colab {\n",
       "                    background-color: var(--colab-primary-surface-color, white);\n",
       "                }\n",
       "\n",
       "                .geemap-colab .jupyter-button {\n",
       "                    --jp-layout-color3: var(--colab-primary-surface-color, white);\n",
       "                }\n",
       "            </style>\n",
       "            "
      ],
      "text/plain": [
       "<IPython.core.display.HTML object>"
      ]
     },
     "metadata": {},
     "output_type": "display_data"
    },
    {
     "data": {
      "text/plain": [
       "np.float64(0.0)"
      ]
     },
     "execution_count": 26,
     "metadata": {},
     "output_type": "execute_result"
    }
   ],
   "source": [
    "difference_after_cleaning*1e6"
   ]
  },
  {
   "cell_type": "markdown",
   "id": "5616947d-92ba-4947-8838-3226364fe94f",
   "metadata": {},
   "source": [
    "Filtering < 900m² lakes"
   ]
  },
  {
   "cell_type": "code",
   "execution_count": 27,
   "id": "c17910fa-eebe-4029-80c4-e612a34a3dd5",
   "metadata": {},
   "outputs": [
    {
     "data": {
      "text/html": [
       "\n",
       "            <style>\n",
       "                .geemap-dark {\n",
       "                    --jp-widgets-color: white;\n",
       "                    --jp-widgets-label-color: white;\n",
       "                    --jp-ui-font-color1: white;\n",
       "                    --jp-layout-color2: #454545;\n",
       "                    background-color: #383838;\n",
       "                }\n",
       "\n",
       "                .geemap-dark .jupyter-button {\n",
       "                    --jp-layout-color3: #383838;\n",
       "                }\n",
       "\n",
       "                .geemap-colab {\n",
       "                    background-color: var(--colab-primary-surface-color, white);\n",
       "                }\n",
       "\n",
       "                .geemap-colab .jupyter-button {\n",
       "                    --jp-layout-color3: var(--colab-primary-surface-color, white);\n",
       "                }\n",
       "            </style>\n",
       "            "
      ],
      "text/plain": [
       "<IPython.core.display.HTML object>"
      ]
     },
     "metadata": {},
     "output_type": "display_data"
    }
   ],
   "source": [
    "lake_inrae_clean[\"area_m2\"] = lake_inrae_clean.geometry.area\n",
    "lake_inrae_clean_filtered = lake_inrae_clean[lake_inrae_clean[\"area_m2\"] >= 900]"
   ]
  },
  {
   "cell_type": "code",
   "execution_count": 28,
   "id": "a6580979-67c2-40d5-b15d-311ae51e104d",
   "metadata": {},
   "outputs": [
    {
     "data": {
      "text/html": [
       "\n",
       "            <style>\n",
       "                .geemap-dark {\n",
       "                    --jp-widgets-color: white;\n",
       "                    --jp-widgets-label-color: white;\n",
       "                    --jp-ui-font-color1: white;\n",
       "                    --jp-layout-color2: #454545;\n",
       "                    background-color: #383838;\n",
       "                }\n",
       "\n",
       "                .geemap-dark .jupyter-button {\n",
       "                    --jp-layout-color3: #383838;\n",
       "                }\n",
       "\n",
       "                .geemap-colab {\n",
       "                    background-color: var(--colab-primary-surface-color, white);\n",
       "                }\n",
       "\n",
       "                .geemap-colab .jupyter-button {\n",
       "                    --jp-layout-color3: var(--colab-primary-surface-color, white);\n",
       "                }\n",
       "            </style>\n",
       "            "
      ],
      "text/plain": [
       "<IPython.core.display.HTML object>"
      ]
     },
     "metadata": {},
     "output_type": "display_data"
    },
    {
     "data": {
      "text/plain": [
       "200"
      ]
     },
     "execution_count": 28,
     "metadata": {},
     "output_type": "execute_result"
    }
   ],
   "source": [
    "len(lake_inrae_clean_filtered)"
   ]
  },
  {
   "cell_type": "code",
   "execution_count": 29,
   "id": "2782fddc-7e01-4a4a-949a-0b6759e8d762",
   "metadata": {},
   "outputs": [
    {
     "data": {
      "text/html": [
       "\n",
       "            <style>\n",
       "                .geemap-dark {\n",
       "                    --jp-widgets-color: white;\n",
       "                    --jp-widgets-label-color: white;\n",
       "                    --jp-ui-font-color1: white;\n",
       "                    --jp-layout-color2: #454545;\n",
       "                    background-color: #383838;\n",
       "                }\n",
       "\n",
       "                .geemap-dark .jupyter-button {\n",
       "                    --jp-layout-color3: #383838;\n",
       "                }\n",
       "\n",
       "                .geemap-colab {\n",
       "                    background-color: var(--colab-primary-surface-color, white);\n",
       "                }\n",
       "\n",
       "                .geemap-colab .jupyter-button {\n",
       "                    --jp-layout-color3: var(--colab-primary-surface-color, white);\n",
       "                }\n",
       "            </style>\n",
       "            "
      ],
      "text/plain": [
       "<IPython.core.display.HTML object>"
      ]
     },
     "metadata": {},
     "output_type": "display_data"
    },
    {
     "data": {
      "text/plain": [
       "np.float64(2.3621114693413934)"
      ]
     },
     "execution_count": 29,
     "metadata": {},
     "output_type": "execute_result"
    }
   ],
   "source": [
    "lake_inrae_clean_filtered.area.sum()*1e-6"
   ]
  },
  {
   "cell_type": "code",
   "execution_count": 30,
   "id": "5a520bf5-d0e5-4417-a0e7-1a5a4b1a5a40",
   "metadata": {},
   "outputs": [
    {
     "data": {
      "text/html": [
       "\n",
       "            <style>\n",
       "                .geemap-dark {\n",
       "                    --jp-widgets-color: white;\n",
       "                    --jp-widgets-label-color: white;\n",
       "                    --jp-ui-font-color1: white;\n",
       "                    --jp-layout-color2: #454545;\n",
       "                    background-color: #383838;\n",
       "                }\n",
       "\n",
       "                .geemap-dark .jupyter-button {\n",
       "                    --jp-layout-color3: #383838;\n",
       "                }\n",
       "\n",
       "                .geemap-colab {\n",
       "                    background-color: var(--colab-primary-surface-color, white);\n",
       "                }\n",
       "\n",
       "                .geemap-colab .jupyter-button {\n",
       "                    --jp-layout-color3: var(--colab-primary-surface-color, white);\n",
       "                }\n",
       "            </style>\n",
       "            "
      ],
      "text/plain": [
       "<IPython.core.display.HTML object>"
      ]
     },
     "metadata": {},
     "output_type": "display_data"
    }
   ],
   "source": [
    "difference_after_filtering_900m2 = lake_inrae_clean.area.sum()*1e-6 - lake_inrae_clean_filtered.area.sum()*1e-6"
   ]
  },
  {
   "cell_type": "code",
   "execution_count": 31,
   "id": "d0ba95a3-c3a2-4cbd-aa41-6f1144a399a7",
   "metadata": {},
   "outputs": [
    {
     "data": {
      "text/html": [
       "\n",
       "            <style>\n",
       "                .geemap-dark {\n",
       "                    --jp-widgets-color: white;\n",
       "                    --jp-widgets-label-color: white;\n",
       "                    --jp-ui-font-color1: white;\n",
       "                    --jp-layout-color2: #454545;\n",
       "                    background-color: #383838;\n",
       "                }\n",
       "\n",
       "                .geemap-dark .jupyter-button {\n",
       "                    --jp-layout-color3: #383838;\n",
       "                }\n",
       "\n",
       "                .geemap-colab {\n",
       "                    background-color: var(--colab-primary-surface-color, white);\n",
       "                }\n",
       "\n",
       "                .geemap-colab .jupyter-button {\n",
       "                    --jp-layout-color3: var(--colab-primary-surface-color, white);\n",
       "                }\n",
       "            </style>\n",
       "            "
      ],
      "text/plain": [
       "<IPython.core.display.HTML object>"
      ]
     },
     "metadata": {},
     "output_type": "display_data"
    },
    {
     "data": {
      "text/plain": [
       "np.float64(0.0)"
      ]
     },
     "execution_count": 31,
     "metadata": {},
     "output_type": "execute_result"
    }
   ],
   "source": [
    "difference_after_filtering_900m2*1e6"
   ]
  },
  {
   "cell_type": "code",
   "execution_count": 32,
   "id": "8d5483bd-1845-4113-ad5c-15034750acc6",
   "metadata": {},
   "outputs": [
    {
     "data": {
      "text/html": [
       "\n",
       "            <style>\n",
       "                .geemap-dark {\n",
       "                    --jp-widgets-color: white;\n",
       "                    --jp-widgets-label-color: white;\n",
       "                    --jp-ui-font-color1: white;\n",
       "                    --jp-layout-color2: #454545;\n",
       "                    background-color: #383838;\n",
       "                }\n",
       "\n",
       "                .geemap-dark .jupyter-button {\n",
       "                    --jp-layout-color3: #383838;\n",
       "                }\n",
       "\n",
       "                .geemap-colab {\n",
       "                    background-color: var(--colab-primary-surface-color, white);\n",
       "                }\n",
       "\n",
       "                .geemap-colab .jupyter-button {\n",
       "                    --jp-layout-color3: var(--colab-primary-surface-color, white);\n",
       "                }\n",
       "            </style>\n",
       "            "
      ],
      "text/plain": [
       "<IPython.core.display.HTML object>"
      ]
     },
     "metadata": {},
     "output_type": "display_data"
    },
    {
     "data": {
      "text/plain": [
       "0"
      ]
     },
     "execution_count": 32,
     "metadata": {},
     "output_type": "execute_result"
    }
   ],
   "source": [
    "len(lake_inrae_clean[lake_inrae_clean[\"area_m2\"] < 900])"
   ]
  },
  {
   "cell_type": "code",
   "execution_count": 33,
   "id": "e47f8142-3ca3-4fc5-8cb0-05d5eca5a751",
   "metadata": {},
   "outputs": [
    {
     "data": {
      "text/html": [
       "\n",
       "            <style>\n",
       "                .geemap-dark {\n",
       "                    --jp-widgets-color: white;\n",
       "                    --jp-widgets-label-color: white;\n",
       "                    --jp-ui-font-color1: white;\n",
       "                    --jp-layout-color2: #454545;\n",
       "                    background-color: #383838;\n",
       "                }\n",
       "\n",
       "                .geemap-dark .jupyter-button {\n",
       "                    --jp-layout-color3: #383838;\n",
       "                }\n",
       "\n",
       "                .geemap-colab {\n",
       "                    background-color: var(--colab-primary-surface-color, white);\n",
       "                }\n",
       "\n",
       "                .geemap-colab .jupyter-button {\n",
       "                    --jp-layout-color3: var(--colab-primary-surface-color, white);\n",
       "                }\n",
       "            </style>\n",
       "            "
      ],
      "text/plain": [
       "<IPython.core.display.HTML object>"
      ]
     },
     "metadata": {},
     "output_type": "display_data"
    }
   ],
   "source": [
    "area_small_lakes = lake_inrae_clean[lake_inrae_clean[\"area_m2\"] < 900].geometry.area.sum()"
   ]
  },
  {
   "cell_type": "code",
   "execution_count": 34,
   "id": "695ec57f-84d1-4287-a50d-a6b55512c1c5",
   "metadata": {},
   "outputs": [
    {
     "data": {
      "text/html": [
       "\n",
       "            <style>\n",
       "                .geemap-dark {\n",
       "                    --jp-widgets-color: white;\n",
       "                    --jp-widgets-label-color: white;\n",
       "                    --jp-ui-font-color1: white;\n",
       "                    --jp-layout-color2: #454545;\n",
       "                    background-color: #383838;\n",
       "                }\n",
       "\n",
       "                .geemap-dark .jupyter-button {\n",
       "                    --jp-layout-color3: #383838;\n",
       "                }\n",
       "\n",
       "                .geemap-colab {\n",
       "                    background-color: var(--colab-primary-surface-color, white);\n",
       "                }\n",
       "\n",
       "                .geemap-colab .jupyter-button {\n",
       "                    --jp-layout-color3: var(--colab-primary-surface-color, white);\n",
       "                }\n",
       "            </style>\n",
       "            "
      ],
      "text/plain": [
       "<IPython.core.display.HTML object>"
      ]
     },
     "metadata": {},
     "output_type": "display_data"
    },
    {
     "data": {
      "text/plain": [
       "np.float64(0.0)"
      ]
     },
     "execution_count": 34,
     "metadata": {},
     "output_type": "execute_result"
    }
   ],
   "source": [
    "area_small_lakes"
   ]
  },
  {
   "cell_type": "code",
   "execution_count": 35,
   "id": "dcc73d07-6084-48a0-9b76-fac7629cdc45",
   "metadata": {},
   "outputs": [
    {
     "data": {
      "text/html": [
       "\n",
       "            <style>\n",
       "                .geemap-dark {\n",
       "                    --jp-widgets-color: white;\n",
       "                    --jp-widgets-label-color: white;\n",
       "                    --jp-ui-font-color1: white;\n",
       "                    --jp-layout-color2: #454545;\n",
       "                    background-color: #383838;\n",
       "                }\n",
       "\n",
       "                .geemap-dark .jupyter-button {\n",
       "                    --jp-layout-color3: #383838;\n",
       "                }\n",
       "\n",
       "                .geemap-colab {\n",
       "                    background-color: var(--colab-primary-surface-color, white);\n",
       "                }\n",
       "\n",
       "                .geemap-colab .jupyter-button {\n",
       "                    --jp-layout-color3: var(--colab-primary-surface-color, white);\n",
       "                }\n",
       "            </style>\n",
       "            "
      ],
      "text/plain": [
       "<IPython.core.display.HTML object>"
      ]
     },
     "metadata": {},
     "output_type": "display_data"
    }
   ],
   "source": [
    "df_cleaning_inrae_classif = gpd.GeoDataFrame([{\n",
    "    \"initial_area_km2\": lake_shape_clipped.area.sum()*1e-6,\n",
    "    \"area_after_duplicates_cleaning_km2\": lake_inrae_clean.area.sum()*1e-6,\n",
    "    \"difference_after_cleaning_m2\": difference_after_cleaning*1e6,\n",
    "    \"area_after_filtering_900m_km2\": lake_inrae_clean_filtered.area.sum()*1e-6,\n",
    "    \"diffrence_between_clean_and_filter_m2\": difference_after_filtering_900m2*1e6,\n",
    "    \"initial_number_of_lake_in_LIA\": len(lake_inrae_clean),\n",
    "    \"number_of_lake_over_900m2_in_LIA\": len(lake_inrae_clean_filtered),\n",
    "    \"number_of_lake_under_900m2_in_LIA_\": len(lake_inrae_clean[lake_inrae_clean[\"area_m2\"] < 900]),\n",
    "    \"area_of_lake_under_900m2_in_LIA_in_m2\": area_small_lakes,\n",
    "    \"percent_of_lake_under_900m2_number\": len(lake_inrae_clean[lake_inrae_clean[\"area_m2\"] < 900])/len(lake_inrae_clean),\n",
    "    \"percent_of_lake_under_900m2_area\": area_small_lakes/lake_inrae_clean.area.sum()*100\n",
    "}])"
   ]
  },
  {
   "cell_type": "code",
   "execution_count": 36,
   "id": "6ba6f792-1cbe-49c4-a17c-cdf9f40341bc",
   "metadata": {},
   "outputs": [
    {
     "data": {
      "text/html": [
       "\n",
       "            <style>\n",
       "                .geemap-dark {\n",
       "                    --jp-widgets-color: white;\n",
       "                    --jp-widgets-label-color: white;\n",
       "                    --jp-ui-font-color1: white;\n",
       "                    --jp-layout-color2: #454545;\n",
       "                    background-color: #383838;\n",
       "                }\n",
       "\n",
       "                .geemap-dark .jupyter-button {\n",
       "                    --jp-layout-color3: #383838;\n",
       "                }\n",
       "\n",
       "                .geemap-colab {\n",
       "                    background-color: var(--colab-primary-surface-color, white);\n",
       "                }\n",
       "\n",
       "                .geemap-colab .jupyter-button {\n",
       "                    --jp-layout-color3: var(--colab-primary-surface-color, white);\n",
       "                }\n",
       "            </style>\n",
       "            "
      ],
      "text/plain": [
       "<IPython.core.display.HTML object>"
      ]
     },
     "metadata": {},
     "output_type": "display_data"
    }
   ],
   "source": [
    "df_cleaning_inrae_classif = df_cleaning_inrae_classif.T"
   ]
  },
  {
   "cell_type": "code",
   "execution_count": 37,
   "id": "d90eeee5-8d1d-4a03-9052-c678b83949a1",
   "metadata": {},
   "outputs": [
    {
     "data": {
      "text/html": [
       "\n",
       "            <style>\n",
       "                .geemap-dark {\n",
       "                    --jp-widgets-color: white;\n",
       "                    --jp-widgets-label-color: white;\n",
       "                    --jp-ui-font-color1: white;\n",
       "                    --jp-layout-color2: #454545;\n",
       "                    background-color: #383838;\n",
       "                }\n",
       "\n",
       "                .geemap-dark .jupyter-button {\n",
       "                    --jp-layout-color3: #383838;\n",
       "                }\n",
       "\n",
       "                .geemap-colab {\n",
       "                    background-color: var(--colab-primary-surface-color, white);\n",
       "                }\n",
       "\n",
       "                .geemap-colab .jupyter-button {\n",
       "                    --jp-layout-color3: var(--colab-primary-surface-color, white);\n",
       "                }\n",
       "            </style>\n",
       "            "
      ],
      "text/plain": [
       "<IPython.core.display.HTML object>"
      ]
     },
     "metadata": {},
     "output_type": "display_data"
    },
    {
     "data": {
      "text/html": [
       "<div>\n",
       "<style scoped>\n",
       "    .dataframe tbody tr th:only-of-type {\n",
       "        vertical-align: middle;\n",
       "    }\n",
       "\n",
       "    .dataframe tbody tr th {\n",
       "        vertical-align: top;\n",
       "    }\n",
       "\n",
       "    .dataframe thead th {\n",
       "        text-align: right;\n",
       "    }\n",
       "</style>\n",
       "<table border=\"1\" class=\"dataframe\">\n",
       "  <thead>\n",
       "    <tr style=\"text-align: right;\">\n",
       "      <th></th>\n",
       "      <th>0</th>\n",
       "    </tr>\n",
       "  </thead>\n",
       "  <tbody>\n",
       "    <tr>\n",
       "      <th>initial_area_km2</th>\n",
       "      <td>2.362111</td>\n",
       "    </tr>\n",
       "    <tr>\n",
       "      <th>area_after_duplicates_cleaning_km2</th>\n",
       "      <td>2.362111</td>\n",
       "    </tr>\n",
       "    <tr>\n",
       "      <th>difference_after_cleaning_m2</th>\n",
       "      <td>0.000000</td>\n",
       "    </tr>\n",
       "    <tr>\n",
       "      <th>area_after_filtering_900m_km2</th>\n",
       "      <td>2.362111</td>\n",
       "    </tr>\n",
       "    <tr>\n",
       "      <th>diffrence_between_clean_and_filter_m2</th>\n",
       "      <td>0.000000</td>\n",
       "    </tr>\n",
       "    <tr>\n",
       "      <th>initial_number_of_lake_in_LIA</th>\n",
       "      <td>200.000000</td>\n",
       "    </tr>\n",
       "    <tr>\n",
       "      <th>number_of_lake_over_900m2_in_LIA</th>\n",
       "      <td>200.000000</td>\n",
       "    </tr>\n",
       "    <tr>\n",
       "      <th>number_of_lake_under_900m2_in_LIA_</th>\n",
       "      <td>0.000000</td>\n",
       "    </tr>\n",
       "    <tr>\n",
       "      <th>area_of_lake_under_900m2_in_LIA_in_m2</th>\n",
       "      <td>0.000000</td>\n",
       "    </tr>\n",
       "    <tr>\n",
       "      <th>percent_of_lake_under_900m2_number</th>\n",
       "      <td>0.000000</td>\n",
       "    </tr>\n",
       "    <tr>\n",
       "      <th>percent_of_lake_under_900m2_area</th>\n",
       "      <td>0.000000</td>\n",
       "    </tr>\n",
       "  </tbody>\n",
       "</table>\n",
       "</div>"
      ],
      "text/plain": [
       "                                                0\n",
       "initial_area_km2                         2.362111\n",
       "area_after_duplicates_cleaning_km2       2.362111\n",
       "difference_after_cleaning_m2             0.000000\n",
       "area_after_filtering_900m_km2            2.362111\n",
       "diffrence_between_clean_and_filter_m2    0.000000\n",
       "initial_number_of_lake_in_LIA          200.000000\n",
       "number_of_lake_over_900m2_in_LIA       200.000000\n",
       "number_of_lake_under_900m2_in_LIA_       0.000000\n",
       "area_of_lake_under_900m2_in_LIA_in_m2    0.000000\n",
       "percent_of_lake_under_900m2_number       0.000000\n",
       "percent_of_lake_under_900m2_area         0.000000"
      ]
     },
     "execution_count": 37,
     "metadata": {},
     "output_type": "execute_result"
    }
   ],
   "source": [
    "df_cleaning_inrae_classif"
   ]
  },
  {
   "cell_type": "markdown",
   "id": "0809ec18-6c9e-48fc-b57a-eb25c6079f7b",
   "metadata": {},
   "source": [
    "Check that everything is in LIA"
   ]
  },
  {
   "cell_type": "code",
   "execution_count": 38,
   "id": "8b1d2782-68a0-4389-ac94-761f48f8b982",
   "metadata": {},
   "outputs": [
    {
     "data": {
      "text/html": [
       "\n",
       "            <style>\n",
       "                .geemap-dark {\n",
       "                    --jp-widgets-color: white;\n",
       "                    --jp-widgets-label-color: white;\n",
       "                    --jp-ui-font-color1: white;\n",
       "                    --jp-layout-color2: #454545;\n",
       "                    background-color: #383838;\n",
       "                }\n",
       "\n",
       "                .geemap-dark .jupyter-button {\n",
       "                    --jp-layout-color3: #383838;\n",
       "                }\n",
       "\n",
       "                .geemap-colab {\n",
       "                    background-color: var(--colab-primary-surface-color, white);\n",
       "                }\n",
       "\n",
       "                .geemap-colab .jupyter-button {\n",
       "                    --jp-layout-color3: var(--colab-primary-surface-color, white);\n",
       "                }\n",
       "            </style>\n",
       "            "
      ],
      "text/plain": [
       "<IPython.core.display.HTML object>"
      ]
     },
     "metadata": {},
     "output_type": "display_data"
    }
   ],
   "source": [
    "lake_inrae_to_compare = lake_inrae_clean_filtered[['id','geometry', 'area_m2']]"
   ]
  },
  {
   "cell_type": "code",
   "execution_count": 39,
   "id": "a13358ad-b46d-435b-a9fc-1abf3ac47086",
   "metadata": {},
   "outputs": [
    {
     "data": {
      "text/html": [
       "\n",
       "            <style>\n",
       "                .geemap-dark {\n",
       "                    --jp-widgets-color: white;\n",
       "                    --jp-widgets-label-color: white;\n",
       "                    --jp-ui-font-color1: white;\n",
       "                    --jp-layout-color2: #454545;\n",
       "                    background-color: #383838;\n",
       "                }\n",
       "\n",
       "                .geemap-dark .jupyter-button {\n",
       "                    --jp-layout-color3: #383838;\n",
       "                }\n",
       "\n",
       "                .geemap-colab {\n",
       "                    background-color: var(--colab-primary-surface-color, white);\n",
       "                }\n",
       "\n",
       "                .geemap-colab .jupyter-button {\n",
       "                    --jp-layout-color3: var(--colab-primary-surface-color, white);\n",
       "                }\n",
       "            </style>\n",
       "            "
      ],
      "text/plain": [
       "<IPython.core.display.HTML object>"
      ]
     },
     "metadata": {},
     "output_type": "display_data"
    }
   ],
   "source": [
    "joined = lake_inrae_to_compare.sjoin(fc_lia_local, how='inner', predicate='intersects')"
   ]
  },
  {
   "cell_type": "code",
   "execution_count": 40,
   "id": "43cad72e-f415-4185-980c-67165f044d59",
   "metadata": {},
   "outputs": [
    {
     "data": {
      "text/html": [
       "\n",
       "            <style>\n",
       "                .geemap-dark {\n",
       "                    --jp-widgets-color: white;\n",
       "                    --jp-widgets-label-color: white;\n",
       "                    --jp-ui-font-color1: white;\n",
       "                    --jp-layout-color2: #454545;\n",
       "                    background-color: #383838;\n",
       "                }\n",
       "\n",
       "                .geemap-dark .jupyter-button {\n",
       "                    --jp-layout-color3: #383838;\n",
       "                }\n",
       "\n",
       "                .geemap-colab {\n",
       "                    background-color: var(--colab-primary-surface-color, white);\n",
       "                }\n",
       "\n",
       "                .geemap-colab .jupyter-button {\n",
       "                    --jp-layout-color3: var(--colab-primary-surface-color, white);\n",
       "                }\n",
       "            </style>\n",
       "            "
      ],
      "text/plain": [
       "<IPython.core.display.HTML object>"
      ]
     },
     "metadata": {},
     "output_type": "display_data"
    }
   ],
   "source": [
    "lake_in_lia = lake_inrae_to_compare.loc[lake_inrae_to_compare.index.isin(joined.index)]\n",
    "lake_not_in_lia = lake_inrae_to_compare.loc[~lake_inrae_to_compare.index.isin(joined.index)]"
   ]
  },
  {
   "cell_type": "code",
   "execution_count": 41,
   "id": "b9f9e6de-4f5f-4fb1-9570-6639618d1440",
   "metadata": {},
   "outputs": [
    {
     "data": {
      "text/html": [
       "\n",
       "            <style>\n",
       "                .geemap-dark {\n",
       "                    --jp-widgets-color: white;\n",
       "                    --jp-widgets-label-color: white;\n",
       "                    --jp-ui-font-color1: white;\n",
       "                    --jp-layout-color2: #454545;\n",
       "                    background-color: #383838;\n",
       "                }\n",
       "\n",
       "                .geemap-dark .jupyter-button {\n",
       "                    --jp-layout-color3: #383838;\n",
       "                }\n",
       "\n",
       "                .geemap-colab {\n",
       "                    background-color: var(--colab-primary-surface-color, white);\n",
       "                }\n",
       "\n",
       "                .geemap-colab .jupyter-button {\n",
       "                    --jp-layout-color3: var(--colab-primary-surface-color, white);\n",
       "                }\n",
       "            </style>\n",
       "            "
      ],
      "text/plain": [
       "<IPython.core.display.HTML object>"
      ]
     },
     "metadata": {},
     "output_type": "display_data"
    },
    {
     "data": {
      "text/plain": [
       "(200, 0)"
      ]
     },
     "execution_count": 41,
     "metadata": {},
     "output_type": "execute_result"
    }
   ],
   "source": [
    "len(lake_in_lia), len(lake_not_in_lia)"
   ]
  },
  {
   "cell_type": "code",
   "execution_count": 42,
   "id": "72066845-a3ab-4c11-8067-8055339b3d4e",
   "metadata": {},
   "outputs": [
    {
     "data": {
      "text/html": [
       "\n",
       "            <style>\n",
       "                .geemap-dark {\n",
       "                    --jp-widgets-color: white;\n",
       "                    --jp-widgets-label-color: white;\n",
       "                    --jp-ui-font-color1: white;\n",
       "                    --jp-layout-color2: #454545;\n",
       "                    background-color: #383838;\n",
       "                }\n",
       "\n",
       "                .geemap-dark .jupyter-button {\n",
       "                    --jp-layout-color3: #383838;\n",
       "                }\n",
       "\n",
       "                .geemap-colab {\n",
       "                    background-color: var(--colab-primary-surface-color, white);\n",
       "                }\n",
       "\n",
       "                .geemap-colab .jupyter-button {\n",
       "                    --jp-layout-color3: var(--colab-primary-surface-color, white);\n",
       "                }\n",
       "            </style>\n",
       "            "
      ],
      "text/plain": [
       "<IPython.core.display.HTML object>"
      ]
     },
     "metadata": {},
     "output_type": "display_data"
    },
    {
     "data": {
      "text/html": [
       "<div>\n",
       "<style scoped>\n",
       "    .dataframe tbody tr th:only-of-type {\n",
       "        vertical-align: middle;\n",
       "    }\n",
       "\n",
       "    .dataframe tbody tr th {\n",
       "        vertical-align: top;\n",
       "    }\n",
       "\n",
       "    .dataframe thead th {\n",
       "        text-align: right;\n",
       "    }\n",
       "</style>\n",
       "<table border=\"1\" class=\"dataframe\">\n",
       "  <thead>\n",
       "    <tr style=\"text-align: right;\">\n",
       "      <th></th>\n",
       "      <th>id</th>\n",
       "      <th>geometry</th>\n",
       "      <th>area_m2</th>\n",
       "    </tr>\n",
       "  </thead>\n",
       "  <tbody>\n",
       "    <tr>\n",
       "      <th>178</th>\n",
       "      <td>85</td>\n",
       "      <td>POLYGON ((1015611.451 6495990.812, 1015615.628...</td>\n",
       "      <td>5466.015905</td>\n",
       "    </tr>\n",
       "  </tbody>\n",
       "</table>\n",
       "</div>"
      ],
      "text/plain": [
       "     id                                           geometry      area_m2\n",
       "178  85  POLYGON ((1015611.451 6495990.812, 1015615.628...  5466.015905"
      ]
     },
     "execution_count": 42,
     "metadata": {},
     "output_type": "execute_result"
    }
   ],
   "source": [
    "lake_inrae_to_compare[lake_inrae_to_compare['id']==85]"
   ]
  },
  {
   "cell_type": "code",
   "execution_count": 43,
   "id": "42571de3-1c0a-4abf-b734-2523338fe821",
   "metadata": {},
   "outputs": [
    {
     "data": {
      "text/html": [
       "\n",
       "            <style>\n",
       "                .geemap-dark {\n",
       "                    --jp-widgets-color: white;\n",
       "                    --jp-widgets-label-color: white;\n",
       "                    --jp-ui-font-color1: white;\n",
       "                    --jp-layout-color2: #454545;\n",
       "                    background-color: #383838;\n",
       "                }\n",
       "\n",
       "                .geemap-dark .jupyter-button {\n",
       "                    --jp-layout-color3: #383838;\n",
       "                }\n",
       "\n",
       "                .geemap-colab {\n",
       "                    background-color: var(--colab-primary-surface-color, white);\n",
       "                }\n",
       "\n",
       "                .geemap-colab .jupyter-button {\n",
       "                    --jp-layout-color3: var(--colab-primary-surface-color, white);\n",
       "                }\n",
       "            </style>\n",
       "            "
      ],
      "text/plain": [
       "<IPython.core.display.HTML object>"
      ]
     },
     "metadata": {},
     "output_type": "display_data"
    },
    {
     "data": {
      "text/plain": [
       "200"
      ]
     },
     "execution_count": 43,
     "metadata": {},
     "output_type": "execute_result"
    }
   ],
   "source": [
    "len(lake_inrae_to_compare['id'].unique())"
   ]
  },
  {
   "cell_type": "markdown",
   "id": "dce50164-ae8f-4949-aeb5-76601e21d492",
   "metadata": {},
   "source": [
    "there is 2 different lakes larger than 900m2 with the samed id : 85"
   ]
  },
  {
   "cell_type": "code",
   "execution_count": 44,
   "id": "aaa92d45-86f5-4138-8f6b-26082dcffc69",
   "metadata": {},
   "outputs": [
    {
     "data": {
      "text/html": [
       "\n",
       "            <style>\n",
       "                .geemap-dark {\n",
       "                    --jp-widgets-color: white;\n",
       "                    --jp-widgets-label-color: white;\n",
       "                    --jp-ui-font-color1: white;\n",
       "                    --jp-layout-color2: #454545;\n",
       "                    background-color: #383838;\n",
       "                }\n",
       "\n",
       "                .geemap-dark .jupyter-button {\n",
       "                    --jp-layout-color3: #383838;\n",
       "                }\n",
       "\n",
       "                .geemap-colab {\n",
       "                    background-color: var(--colab-primary-surface-color, white);\n",
       "                }\n",
       "\n",
       "                .geemap-colab .jupyter-button {\n",
       "                    --jp-layout-color3: var(--colab-primary-surface-color, white);\n",
       "                }\n",
       "            </style>\n",
       "            "
      ],
      "text/plain": [
       "<IPython.core.display.HTML object>"
      ]
     },
     "metadata": {},
     "output_type": "display_data"
    }
   ],
   "source": [
    "mask_85 = lake_inrae_clean_filtered[\"id\"] == 85\n",
    "duplicates_85 = lake_inrae_clean_filtered[mask_85]\n"
   ]
  },
  {
   "cell_type": "code",
   "execution_count": 45,
   "id": "cda838ce-1087-427e-bebb-c6a3ea384df3",
   "metadata": {},
   "outputs": [
    {
     "data": {
      "text/html": [
       "\n",
       "            <style>\n",
       "                .geemap-dark {\n",
       "                    --jp-widgets-color: white;\n",
       "                    --jp-widgets-label-color: white;\n",
       "                    --jp-ui-font-color1: white;\n",
       "                    --jp-layout-color2: #454545;\n",
       "                    background-color: #383838;\n",
       "                }\n",
       "\n",
       "                .geemap-dark .jupyter-button {\n",
       "                    --jp-layout-color3: #383838;\n",
       "                }\n",
       "\n",
       "                .geemap-colab {\n",
       "                    background-color: var(--colab-primary-surface-color, white);\n",
       "                }\n",
       "\n",
       "                .geemap-colab .jupyter-button {\n",
       "                    --jp-layout-color3: var(--colab-primary-surface-color, white);\n",
       "                }\n",
       "            </style>\n",
       "            "
      ],
      "text/plain": [
       "<IPython.core.display.HTML object>"
      ]
     },
     "metadata": {},
     "output_type": "display_data"
    },
    {
     "ename": "NameError",
     "evalue": "name 'new_ids' is not defined",
     "output_type": "error",
     "traceback": [
      "\u001b[31m---------------------------------------------------------------------------\u001b[39m",
      "\u001b[31mNameError\u001b[39m                                 Traceback (most recent call last)",
      "\u001b[36mCell\u001b[39m\u001b[36m \u001b[39m\u001b[32mIn[45]\u001b[39m\u001b[32m, line 20\u001b[39m\n\u001b[32m     17\u001b[39m     lake_inrae_clean_filtered.loc[idx_to_change, \u001b[33m\"\u001b[39m\u001b[33mid\u001b[39m\u001b[33m\"\u001b[39m] = new_ids\n\u001b[32m     19\u001b[39m \u001b[38;5;66;03m# ✅ Vérification\u001b[39;00m\n\u001b[32m---> \u001b[39m\u001b[32m20\u001b[39m \u001b[38;5;28mprint\u001b[39m(lake_inrae_clean_filtered[lake_inrae_clean_filtered[\u001b[33m\"\u001b[39m\u001b[33mid\u001b[39m\u001b[33m\"\u001b[39m].isin([\u001b[32m85\u001b[39m] + \u001b[43mnew_ids\u001b[49m)])\n",
      "\u001b[31mNameError\u001b[39m: name 'new_ids' is not defined"
     ]
    }
   ],
   "source": [
    "# 2. Trouver les lignes avec id == 85\n",
    "mask_85 = lake_inrae_clean_filtered[\"id\"] == 85\n",
    "duplicates_85 = lake_inrae_clean_filtered[mask_85]\n",
    "\n",
    "# 3. Garder la première ligne intacte, modifier les autres\n",
    "if len(duplicates_85) > 1:\n",
    "    # Récupérer l'ID max existant\n",
    "    max_id = lake_inrae_clean_filtered[\"id\"].max()\n",
    "    \n",
    "    # Nouveaux IDs pour les doublons (sauf le premier)\n",
    "    new_ids = list(range(max_id + 1, max_id + len(duplicates_85)))\n",
    "    \n",
    "    # Index des doublons à modifier (sauf le premier)\n",
    "    idx_to_change = duplicates_85.index[1:]\n",
    "    \n",
    "    # Mise à jour des IDs\n",
    "    lake_inrae_clean_filtered.loc[idx_to_change, \"id\"] = new_ids\n",
    "\n",
    "# ✅ Vérification\n",
    "print(lake_inrae_clean_filtered[lake_inrae_clean_filtered[\"id\"].isin([85] + new_ids)])"
   ]
  },
  {
   "cell_type": "code",
   "execution_count": 46,
   "id": "d871f44e-c426-4354-8be7-eb5d9b582521",
   "metadata": {},
   "outputs": [
    {
     "data": {
      "text/html": [
       "\n",
       "            <style>\n",
       "                .geemap-dark {\n",
       "                    --jp-widgets-color: white;\n",
       "                    --jp-widgets-label-color: white;\n",
       "                    --jp-ui-font-color1: white;\n",
       "                    --jp-layout-color2: #454545;\n",
       "                    background-color: #383838;\n",
       "                }\n",
       "\n",
       "                .geemap-dark .jupyter-button {\n",
       "                    --jp-layout-color3: #383838;\n",
       "                }\n",
       "\n",
       "                .geemap-colab {\n",
       "                    background-color: var(--colab-primary-surface-color, white);\n",
       "                }\n",
       "\n",
       "                .geemap-colab .jupyter-button {\n",
       "                    --jp-layout-color3: var(--colab-primary-surface-color, white);\n",
       "                }\n",
       "            </style>\n",
       "            "
      ],
      "text/plain": [
       "<IPython.core.display.HTML object>"
      ]
     },
     "metadata": {},
     "output_type": "display_data"
    },
    {
     "data": {
      "text/html": [
       "<div>\n",
       "<style scoped>\n",
       "    .dataframe tbody tr th:only-of-type {\n",
       "        vertical-align: middle;\n",
       "    }\n",
       "\n",
       "    .dataframe tbody tr th {\n",
       "        vertical-align: top;\n",
       "    }\n",
       "\n",
       "    .dataframe thead th {\n",
       "        text-align: right;\n",
       "    }\n",
       "</style>\n",
       "<table border=\"1\" class=\"dataframe\">\n",
       "  <thead>\n",
       "    <tr style=\"text-align: right;\">\n",
       "      <th></th>\n",
       "      <th>id</th>\n",
       "      <th>Remarques</th>\n",
       "      <th>Evolution</th>\n",
       "      <th>Date</th>\n",
       "      <th>Surface</th>\n",
       "      <th>Categorie</th>\n",
       "      <th>Barrage</th>\n",
       "      <th>NAME</th>\n",
       "      <th>ID_2_2</th>\n",
       "      <th>INSEE</th>\n",
       "      <th>NOM</th>\n",
       "      <th>ID_1</th>\n",
       "      <th>ID_3</th>\n",
       "      <th>area_m2</th>\n",
       "      <th>geometry</th>\n",
       "    </tr>\n",
       "  </thead>\n",
       "  <tbody>\n",
       "    <tr>\n",
       "      <th>178</th>\n",
       "      <td>85</td>\n",
       "      <td>GL</td>\n",
       "      <td>V</td>\n",
       "      <td>2022</td>\n",
       "      <td>5475</td>\n",
       "      <td>P</td>\n",
       "      <td>None</td>\n",
       "      <td>Rhemes-Golette</td>\n",
       "      <td>85.0</td>\n",
       "      <td>73296</td>\n",
       "      <td>Tignes</td>\n",
       "      <td>85.0</td>\n",
       "      <td>NaN</td>\n",
       "      <td>5466.015905</td>\n",
       "      <td>POLYGON ((1015611.451 6495990.812, 1015615.628...</td>\n",
       "    </tr>\n",
       "  </tbody>\n",
       "</table>\n",
       "</div>"
      ],
      "text/plain": [
       "     id Remarques Evolution  Date  Surface Categorie Barrage            NAME  \\\n",
       "178  85        GL         V  2022     5475         P    None  Rhemes-Golette   \n",
       "\n",
       "     ID_2_2  INSEE     NOM  ID_1  ID_3      area_m2  \\\n",
       "178    85.0  73296  Tignes  85.0   NaN  5466.015905   \n",
       "\n",
       "                                              geometry  \n",
       "178  POLYGON ((1015611.451 6495990.812, 1015615.628...  "
      ]
     },
     "execution_count": 46,
     "metadata": {},
     "output_type": "execute_result"
    }
   ],
   "source": [
    "lake_inrae_clean_filtered[lake_inrae_clean_filtered[\"id\"].isin([85])]"
   ]
  },
  {
   "cell_type": "code",
   "execution_count": 47,
   "id": "780d0470-2a1d-4966-8964-b26fd38a4380",
   "metadata": {},
   "outputs": [
    {
     "data": {
      "text/html": [
       "\n",
       "            <style>\n",
       "                .geemap-dark {\n",
       "                    --jp-widgets-color: white;\n",
       "                    --jp-widgets-label-color: white;\n",
       "                    --jp-ui-font-color1: white;\n",
       "                    --jp-layout-color2: #454545;\n",
       "                    background-color: #383838;\n",
       "                }\n",
       "\n",
       "                .geemap-dark .jupyter-button {\n",
       "                    --jp-layout-color3: #383838;\n",
       "                }\n",
       "\n",
       "                .geemap-colab {\n",
       "                    background-color: var(--colab-primary-surface-color, white);\n",
       "                }\n",
       "\n",
       "                .geemap-colab .jupyter-button {\n",
       "                    --jp-layout-color3: var(--colab-primary-surface-color, white);\n",
       "                }\n",
       "            </style>\n",
       "            "
      ],
      "text/plain": [
       "<IPython.core.display.HTML object>"
      ]
     },
     "metadata": {},
     "output_type": "display_data"
    },
    {
     "data": {
      "text/plain": [
       "200"
      ]
     },
     "execution_count": 47,
     "metadata": {},
     "output_type": "execute_result"
    }
   ],
   "source": [
    "len(lake_inrae_clean_filtered)"
   ]
  },
  {
   "cell_type": "code",
   "execution_count": 48,
   "id": "385f18bd-b58c-40c8-9b3f-e3674e6b7d80",
   "metadata": {},
   "outputs": [
    {
     "data": {
      "text/html": [
       "\n",
       "            <style>\n",
       "                .geemap-dark {\n",
       "                    --jp-widgets-color: white;\n",
       "                    --jp-widgets-label-color: white;\n",
       "                    --jp-ui-font-color1: white;\n",
       "                    --jp-layout-color2: #454545;\n",
       "                    background-color: #383838;\n",
       "                }\n",
       "\n",
       "                .geemap-dark .jupyter-button {\n",
       "                    --jp-layout-color3: #383838;\n",
       "                }\n",
       "\n",
       "                .geemap-colab {\n",
       "                    background-color: var(--colab-primary-surface-color, white);\n",
       "                }\n",
       "\n",
       "                .geemap-colab .jupyter-button {\n",
       "                    --jp-layout-color3: var(--colab-primary-surface-color, white);\n",
       "                }\n",
       "            </style>\n",
       "            "
      ],
      "text/plain": [
       "<IPython.core.display.HTML object>"
      ]
     },
     "metadata": {},
     "output_type": "display_data"
    },
    {
     "data": {
      "text/plain": [
       "200"
      ]
     },
     "execution_count": 48,
     "metadata": {},
     "output_type": "execute_result"
    }
   ],
   "source": [
    "len(lake_inrae_clean_filtered['id'].unique())"
   ]
  },
  {
   "cell_type": "markdown",
   "id": "0b3062c1-6003-4e1f-929f-43846d2cccfa",
   "metadata": {},
   "source": [
    "exporting cleaned classification"
   ]
  },
  {
   "cell_type": "code",
   "execution_count": 49,
   "id": "49c67aaf-3213-426b-9586-50a50fdd9b72",
   "metadata": {},
   "outputs": [
    {
     "data": {
      "text/html": [
       "\n",
       "            <style>\n",
       "                .geemap-dark {\n",
       "                    --jp-widgets-color: white;\n",
       "                    --jp-widgets-label-color: white;\n",
       "                    --jp-ui-font-color1: white;\n",
       "                    --jp-layout-color2: #454545;\n",
       "                    background-color: #383838;\n",
       "                }\n",
       "\n",
       "                .geemap-dark .jupyter-button {\n",
       "                    --jp-layout-color3: #383838;\n",
       "                }\n",
       "\n",
       "                .geemap-colab {\n",
       "                    background-color: var(--colab-primary-surface-color, white);\n",
       "                }\n",
       "\n",
       "                .geemap-colab .jupyter-button {\n",
       "                    --jp-layout-color3: var(--colab-primary-surface-color, white);\n",
       "                }\n",
       "            </style>\n",
       "            "
      ],
      "text/plain": [
       "<IPython.core.display.HTML object>"
      ]
     },
     "metadata": {},
     "output_type": "display_data"
    }
   ],
   "source": [
    "# lake_inrae_clean_filtered.to_file('C:/Users/ronir/Desktop/Stage_Carrtel_2025/Resultats/validation_lake_classif/lake_classif_inrae_clean_gt900m2')"
   ]
  },
  {
   "cell_type": "markdown",
   "id": "c78bcffc-7dab-49c7-9035-b351a62a4af0",
   "metadata": {},
   "source": [
    "# Metrics"
   ]
  },
  {
   "cell_type": "markdown",
   "id": "a78bf588-23de-4f02-a023-49f8adf7f67d",
   "metadata": {},
   "source": [
    "We need : Number of lakes, Total Area, Repartition of lake vs size"
   ]
  },
  {
   "cell_type": "code",
   "execution_count": 50,
   "id": "44b45667-c74d-46b8-8b6e-493d09038bd3",
   "metadata": {},
   "outputs": [
    {
     "data": {
      "text/html": [
       "\n",
       "            <style>\n",
       "                .geemap-dark {\n",
       "                    --jp-widgets-color: white;\n",
       "                    --jp-widgets-label-color: white;\n",
       "                    --jp-ui-font-color1: white;\n",
       "                    --jp-layout-color2: #454545;\n",
       "                    background-color: #383838;\n",
       "                }\n",
       "\n",
       "                .geemap-dark .jupyter-button {\n",
       "                    --jp-layout-color3: #383838;\n",
       "                }\n",
       "\n",
       "                .geemap-colab {\n",
       "                    background-color: var(--colab-primary-surface-color, white);\n",
       "                }\n",
       "\n",
       "                .geemap-colab .jupyter-button {\n",
       "                    --jp-layout-color3: var(--colab-primary-surface-color, white);\n",
       "                }\n",
       "            </style>\n",
       "            "
      ],
      "text/plain": [
       "<IPython.core.display.HTML object>"
      ]
     },
     "metadata": {},
     "output_type": "display_data"
    }
   ],
   "source": [
    "total_area_2022 = lake_inrae_clean_filtered['area_m2'].sum()/1e6"
   ]
  },
  {
   "cell_type": "markdown",
   "id": "886ecfaa-963e-489c-8bfd-b43702484a20",
   "metadata": {},
   "source": [
    "Comparaison with own classification"
   ]
  },
  {
   "cell_type": "code",
   "execution_count": 51,
   "id": "94b0c4d0-6b68-4b43-92aa-89d445a22fa6",
   "metadata": {},
   "outputs": [
    {
     "data": {
      "text/html": [
       "\n",
       "            <style>\n",
       "                .geemap-dark {\n",
       "                    --jp-widgets-color: white;\n",
       "                    --jp-widgets-label-color: white;\n",
       "                    --jp-ui-font-color1: white;\n",
       "                    --jp-layout-color2: #454545;\n",
       "                    background-color: #383838;\n",
       "                }\n",
       "\n",
       "                .geemap-dark .jupyter-button {\n",
       "                    --jp-layout-color3: #383838;\n",
       "                }\n",
       "\n",
       "                .geemap-colab {\n",
       "                    background-color: var(--colab-primary-surface-color, white);\n",
       "                }\n",
       "\n",
       "                .geemap-colab .jupyter-button {\n",
       "                    --jp-layout-color3: var(--colab-primary-surface-color, white);\n",
       "                }\n",
       "            </style>\n",
       "            "
      ],
      "text/plain": [
       "<IPython.core.display.HTML object>"
      ]
     },
     "metadata": {},
     "output_type": "display_data"
    }
   ],
   "source": [
    "lake_classif = gpd.read_file(\"C:/Users/ronir/Desktop/Google_Earth_Engine/Vdef/Lake/lake_def_clean_with_id.shp\")"
   ]
  },
  {
   "cell_type": "code",
   "execution_count": 52,
   "id": "69eb6fca-6a31-414f-acf3-10165dd72f9c",
   "metadata": {},
   "outputs": [
    {
     "data": {
      "text/html": [
       "\n",
       "            <style>\n",
       "                .geemap-dark {\n",
       "                    --jp-widgets-color: white;\n",
       "                    --jp-widgets-label-color: white;\n",
       "                    --jp-ui-font-color1: white;\n",
       "                    --jp-layout-color2: #454545;\n",
       "                    background-color: #383838;\n",
       "                }\n",
       "\n",
       "                .geemap-dark .jupyter-button {\n",
       "                    --jp-layout-color3: #383838;\n",
       "                }\n",
       "\n",
       "                .geemap-colab {\n",
       "                    background-color: var(--colab-primary-surface-color, white);\n",
       "                }\n",
       "\n",
       "                .geemap-colab .jupyter-button {\n",
       "                    --jp-layout-color3: var(--colab-primary-surface-color, white);\n",
       "                }\n",
       "            </style>\n",
       "            "
      ],
      "text/plain": [
       "<IPython.core.display.HTML object>"
      ]
     },
     "metadata": {},
     "output_type": "display_data"
    }
   ],
   "source": [
    "lake_classif_to_validate = lake_classif[lake_classif['year'] == 2022]"
   ]
  },
  {
   "cell_type": "code",
   "execution_count": 53,
   "id": "f4949fe0-f037-43a3-828b-63e160efeae4",
   "metadata": {
    "scrolled": true
   },
   "outputs": [
    {
     "data": {
      "text/html": [
       "\n",
       "            <style>\n",
       "                .geemap-dark {\n",
       "                    --jp-widgets-color: white;\n",
       "                    --jp-widgets-label-color: white;\n",
       "                    --jp-ui-font-color1: white;\n",
       "                    --jp-layout-color2: #454545;\n",
       "                    background-color: #383838;\n",
       "                }\n",
       "\n",
       "                .geemap-dark .jupyter-button {\n",
       "                    --jp-layout-color3: #383838;\n",
       "                }\n",
       "\n",
       "                .geemap-colab {\n",
       "                    background-color: var(--colab-primary-surface-color, white);\n",
       "                }\n",
       "\n",
       "                .geemap-colab .jupyter-button {\n",
       "                    --jp-layout-color3: var(--colab-primary-surface-color, white);\n",
       "                }\n",
       "            </style>\n",
       "            "
      ],
      "text/plain": [
       "<IPython.core.display.HTML object>"
      ]
     },
     "metadata": {},
     "output_type": "display_data"
    }
   ],
   "source": [
    "lake_classif_to_validate = lake_classif_to_validate.to_crs(fc_lia_local.crs)"
   ]
  },
  {
   "cell_type": "markdown",
   "id": "001f08ce-fb0b-4c59-a500-e918eec4ebf1",
   "metadata": {},
   "source": [
    "correcting the 431 to 365 mismatch (for validation visu, need to fix that after (22/06/2025)"
   ]
  },
  {
   "cell_type": "code",
   "execution_count": 54,
   "id": "b5b2e73e-d1bf-40d2-8ab4-dec13cee2773",
   "metadata": {},
   "outputs": [
    {
     "data": {
      "text/html": [
       "\n",
       "            <style>\n",
       "                .geemap-dark {\n",
       "                    --jp-widgets-color: white;\n",
       "                    --jp-widgets-label-color: white;\n",
       "                    --jp-ui-font-color1: white;\n",
       "                    --jp-layout-color2: #454545;\n",
       "                    background-color: #383838;\n",
       "                }\n",
       "\n",
       "                .geemap-dark .jupyter-button {\n",
       "                    --jp-layout-color3: #383838;\n",
       "                }\n",
       "\n",
       "                .geemap-colab {\n",
       "                    background-color: var(--colab-primary-surface-color, white);\n",
       "                }\n",
       "\n",
       "                .geemap-colab .jupyter-button {\n",
       "                    --jp-layout-color3: var(--colab-primary-surface-color, white);\n",
       "                }\n",
       "            </style>\n",
       "            "
      ],
      "text/plain": [
       "<IPython.core.display.HTML object>"
      ]
     },
     "metadata": {},
     "output_type": "display_data"
    }
   ],
   "source": [
    "lake_classif_to_validate.loc[lake_classif_to_validate['lake_id'] == 431, 'lake_id'] = 365"
   ]
  },
  {
   "cell_type": "markdown",
   "id": "661bb921-27c6-48a4-b1cb-5db3fd5c2c60",
   "metadata": {},
   "source": [
    "checking duplicates"
   ]
  },
  {
   "cell_type": "code",
   "execution_count": 55,
   "id": "b504f01e-6eb6-4ade-aea4-30446aed74b0",
   "metadata": {},
   "outputs": [
    {
     "data": {
      "text/html": [
       "\n",
       "            <style>\n",
       "                .geemap-dark {\n",
       "                    --jp-widgets-color: white;\n",
       "                    --jp-widgets-label-color: white;\n",
       "                    --jp-ui-font-color1: white;\n",
       "                    --jp-layout-color2: #454545;\n",
       "                    background-color: #383838;\n",
       "                }\n",
       "\n",
       "                .geemap-dark .jupyter-button {\n",
       "                    --jp-layout-color3: #383838;\n",
       "                }\n",
       "\n",
       "                .geemap-colab {\n",
       "                    background-color: var(--colab-primary-surface-color, white);\n",
       "                }\n",
       "\n",
       "                .geemap-colab .jupyter-button {\n",
       "                    --jp-layout-color3: var(--colab-primary-surface-color, white);\n",
       "                }\n",
       "            </style>\n",
       "            "
      ],
      "text/plain": [
       "<IPython.core.display.HTML object>"
      ]
     },
     "metadata": {},
     "output_type": "display_data"
    }
   ],
   "source": [
    "# On réinitialise l'index si besoin\n",
    "lake_classif_to_validate = lake_classif_to_validate.reset_index(drop=True)\n",
    "\n",
    "# Cherche les doublons géométriques\n",
    "duplicates_mask = lake_classif_to_validate.duplicated(subset='geometry', keep=False)"
   ]
  },
  {
   "cell_type": "code",
   "execution_count": 56,
   "id": "23247238-dec0-434d-91ec-a8534e1c4fa9",
   "metadata": {},
   "outputs": [
    {
     "data": {
      "text/html": [
       "\n",
       "            <style>\n",
       "                .geemap-dark {\n",
       "                    --jp-widgets-color: white;\n",
       "                    --jp-widgets-label-color: white;\n",
       "                    --jp-ui-font-color1: white;\n",
       "                    --jp-layout-color2: #454545;\n",
       "                    background-color: #383838;\n",
       "                }\n",
       "\n",
       "                .geemap-dark .jupyter-button {\n",
       "                    --jp-layout-color3: #383838;\n",
       "                }\n",
       "\n",
       "                .geemap-colab {\n",
       "                    background-color: var(--colab-primary-surface-color, white);\n",
       "                }\n",
       "\n",
       "                .geemap-colab .jupyter-button {\n",
       "                    --jp-layout-color3: var(--colab-primary-surface-color, white);\n",
       "                }\n",
       "            </style>\n",
       "            "
      ],
      "text/plain": [
       "<IPython.core.display.HTML object>"
      ]
     },
     "metadata": {},
     "output_type": "display_data"
    }
   ],
   "source": [
    "duplicates = lake_classif_to_validate[duplicates_mask]"
   ]
  },
  {
   "cell_type": "code",
   "execution_count": 57,
   "id": "b8dc1aa4-6c39-4814-846d-c2ee305e17ad",
   "metadata": {},
   "outputs": [
    {
     "data": {
      "text/html": [
       "\n",
       "            <style>\n",
       "                .geemap-dark {\n",
       "                    --jp-widgets-color: white;\n",
       "                    --jp-widgets-label-color: white;\n",
       "                    --jp-ui-font-color1: white;\n",
       "                    --jp-layout-color2: #454545;\n",
       "                    background-color: #383838;\n",
       "                }\n",
       "\n",
       "                .geemap-dark .jupyter-button {\n",
       "                    --jp-layout-color3: #383838;\n",
       "                }\n",
       "\n",
       "                .geemap-colab {\n",
       "                    background-color: var(--colab-primary-surface-color, white);\n",
       "                }\n",
       "\n",
       "                .geemap-colab .jupyter-button {\n",
       "                    --jp-layout-color3: var(--colab-primary-surface-color, white);\n",
       "                }\n",
       "            </style>\n",
       "            "
      ],
      "text/plain": [
       "<IPython.core.display.HTML object>"
      ]
     },
     "metadata": {},
     "output_type": "display_data"
    },
    {
     "data": {
      "text/html": [
       "<div>\n",
       "<style scoped>\n",
       "    .dataframe tbody tr th:only-of-type {\n",
       "        vertical-align: middle;\n",
       "    }\n",
       "\n",
       "    .dataframe tbody tr th {\n",
       "        vertical-align: top;\n",
       "    }\n",
       "\n",
       "    .dataframe thead th {\n",
       "        text-align: right;\n",
       "    }\n",
       "</style>\n",
       "<table border=\"1\" class=\"dataframe\">\n",
       "  <thead>\n",
       "    <tr style=\"text-align: right;\">\n",
       "      <th></th>\n",
       "      <th>year</th>\n",
       "      <th>source</th>\n",
       "      <th>value</th>\n",
       "      <th>lake_id</th>\n",
       "      <th>Time</th>\n",
       "      <th>geometry</th>\n",
       "    </tr>\n",
       "  </thead>\n",
       "  <tbody>\n",
       "  </tbody>\n",
       "</table>\n",
       "</div>"
      ],
      "text/plain": [
       "Empty GeoDataFrame\n",
       "Columns: [year, source, value, lake_id, Time, geometry]\n",
       "Index: []"
      ]
     },
     "execution_count": 57,
     "metadata": {},
     "output_type": "execute_result"
    }
   ],
   "source": [
    "duplicates"
   ]
  },
  {
   "cell_type": "markdown",
   "id": "4e6c9ad0-e8e4-495e-b0de-578d3c6b7855",
   "metadata": {},
   "source": [
    "no duplicates"
   ]
  },
  {
   "cell_type": "code",
   "execution_count": 58,
   "id": "b39dcfa2-208d-48db-9f5c-b018c2000b49",
   "metadata": {},
   "outputs": [
    {
     "data": {
      "text/html": [
       "\n",
       "            <style>\n",
       "                .geemap-dark {\n",
       "                    --jp-widgets-color: white;\n",
       "                    --jp-widgets-label-color: white;\n",
       "                    --jp-ui-font-color1: white;\n",
       "                    --jp-layout-color2: #454545;\n",
       "                    background-color: #383838;\n",
       "                }\n",
       "\n",
       "                .geemap-dark .jupyter-button {\n",
       "                    --jp-layout-color3: #383838;\n",
       "                }\n",
       "\n",
       "                .geemap-colab {\n",
       "                    background-color: var(--colab-primary-surface-color, white);\n",
       "                }\n",
       "\n",
       "                .geemap-colab .jupyter-button {\n",
       "                    --jp-layout-color3: var(--colab-primary-surface-color, white);\n",
       "                }\n",
       "            </style>\n",
       "            "
      ],
      "text/plain": [
       "<IPython.core.display.HTML object>"
      ]
     },
     "metadata": {},
     "output_type": "display_data"
    }
   ],
   "source": [
    "lake_classif_to_validate['area_m2'] = lake_classif_to_validate.geometry.area"
   ]
  },
  {
   "cell_type": "code",
   "execution_count": 59,
   "id": "c599308d-cd80-45b1-8227-5c614f48b9d2",
   "metadata": {},
   "outputs": [
    {
     "data": {
      "text/html": [
       "\n",
       "            <style>\n",
       "                .geemap-dark {\n",
       "                    --jp-widgets-color: white;\n",
       "                    --jp-widgets-label-color: white;\n",
       "                    --jp-ui-font-color1: white;\n",
       "                    --jp-layout-color2: #454545;\n",
       "                    background-color: #383838;\n",
       "                }\n",
       "\n",
       "                .geemap-dark .jupyter-button {\n",
       "                    --jp-layout-color3: #383838;\n",
       "                }\n",
       "\n",
       "                .geemap-colab {\n",
       "                    background-color: var(--colab-primary-surface-color, white);\n",
       "                }\n",
       "\n",
       "                .geemap-colab .jupyter-button {\n",
       "                    --jp-layout-color3: var(--colab-primary-surface-color, white);\n",
       "                }\n",
       "            </style>\n",
       "            "
      ],
      "text/plain": [
       "<IPython.core.display.HTML object>"
      ]
     },
     "metadata": {},
     "output_type": "display_data"
    },
    {
     "data": {
      "text/plain": [
       "78"
      ]
     },
     "execution_count": 59,
     "metadata": {},
     "output_type": "execute_result"
    }
   ],
   "source": [
    "len(lake_classif_to_validate['lake_id'].unique())"
   ]
  },
  {
   "cell_type": "markdown",
   "id": "ff528389-9d4c-4877-9fb8-8681f604724c",
   "metadata": {},
   "source": [
    "Which lake is detected, which one is not"
   ]
  },
  {
   "cell_type": "code",
   "execution_count": 60,
   "id": "65ee4399-9d4f-424a-8165-c7e284fd1805",
   "metadata": {},
   "outputs": [
    {
     "data": {
      "text/html": [
       "\n",
       "            <style>\n",
       "                .geemap-dark {\n",
       "                    --jp-widgets-color: white;\n",
       "                    --jp-widgets-label-color: white;\n",
       "                    --jp-ui-font-color1: white;\n",
       "                    --jp-layout-color2: #454545;\n",
       "                    background-color: #383838;\n",
       "                }\n",
       "\n",
       "                .geemap-dark .jupyter-button {\n",
       "                    --jp-layout-color3: #383838;\n",
       "                }\n",
       "\n",
       "                .geemap-colab {\n",
       "                    background-color: var(--colab-primary-surface-color, white);\n",
       "                }\n",
       "\n",
       "                .geemap-colab .jupyter-button {\n",
       "                    --jp-layout-color3: var(--colab-primary-surface-color, white);\n",
       "                }\n",
       "            </style>\n",
       "            "
      ],
      "text/plain": [
       "<IPython.core.display.HTML object>"
      ]
     },
     "metadata": {},
     "output_type": "display_data"
    }
   ],
   "source": [
    "joined_final = lake_inrae_clean_filtered.sjoin(lake_classif_to_validate, how='inner', predicate='intersects')\n",
    "\n",
    "lake_detected_2022_inrae = lake_inrae_clean_filtered.loc[lake_inrae_clean_filtered.index.isin(joined_final.index)]\n",
    "lake_not_detected_2022_inrae = lake_inrae_clean_filtered.loc[~lake_inrae_clean_filtered.index.isin(joined_final.index)]"
   ]
  },
  {
   "cell_type": "code",
   "execution_count": 61,
   "id": "4b10d3f4-dfba-43dd-8335-95fae826db9a",
   "metadata": {},
   "outputs": [
    {
     "data": {
      "text/html": [
       "\n",
       "            <style>\n",
       "                .geemap-dark {\n",
       "                    --jp-widgets-color: white;\n",
       "                    --jp-widgets-label-color: white;\n",
       "                    --jp-ui-font-color1: white;\n",
       "                    --jp-layout-color2: #454545;\n",
       "                    background-color: #383838;\n",
       "                }\n",
       "\n",
       "                .geemap-dark .jupyter-button {\n",
       "                    --jp-layout-color3: #383838;\n",
       "                }\n",
       "\n",
       "                .geemap-colab {\n",
       "                    background-color: var(--colab-primary-surface-color, white);\n",
       "                }\n",
       "\n",
       "                .geemap-colab .jupyter-button {\n",
       "                    --jp-layout-color3: var(--colab-primary-surface-color, white);\n",
       "                }\n",
       "            </style>\n",
       "            "
      ],
      "text/plain": [
       "<IPython.core.display.HTML object>"
      ]
     },
     "metadata": {},
     "output_type": "display_data"
    },
    {
     "data": {
      "text/plain": [
       "121"
      ]
     },
     "execution_count": 61,
     "metadata": {},
     "output_type": "execute_result"
    }
   ],
   "source": [
    "len(lake_not_detected_2022_inrae)"
   ]
  },
  {
   "cell_type": "code",
   "execution_count": 62,
   "id": "ff296b2c-8669-40a8-b7c1-26f5273f5637",
   "metadata": {},
   "outputs": [
    {
     "data": {
      "text/html": [
       "\n",
       "            <style>\n",
       "                .geemap-dark {\n",
       "                    --jp-widgets-color: white;\n",
       "                    --jp-widgets-label-color: white;\n",
       "                    --jp-ui-font-color1: white;\n",
       "                    --jp-layout-color2: #454545;\n",
       "                    background-color: #383838;\n",
       "                }\n",
       "\n",
       "                .geemap-dark .jupyter-button {\n",
       "                    --jp-layout-color3: #383838;\n",
       "                }\n",
       "\n",
       "                .geemap-colab {\n",
       "                    background-color: var(--colab-primary-surface-color, white);\n",
       "                }\n",
       "\n",
       "                .geemap-colab .jupyter-button {\n",
       "                    --jp-layout-color3: var(--colab-primary-surface-color, white);\n",
       "                }\n",
       "            </style>\n",
       "            "
      ],
      "text/plain": [
       "<IPython.core.display.HTML object>"
      ]
     },
     "metadata": {},
     "output_type": "display_data"
    },
    {
     "data": {
      "text/plain": [
       "79"
      ]
     },
     "execution_count": 62,
     "metadata": {},
     "output_type": "execute_result"
    }
   ],
   "source": [
    "len(lake_detected_2022_inrae['id'].unique())"
   ]
  },
  {
   "cell_type": "code",
   "execution_count": 63,
   "id": "a4345a39-99ac-4245-9fab-2a95d55167c3",
   "metadata": {},
   "outputs": [
    {
     "data": {
      "text/html": [
       "\n",
       "            <style>\n",
       "                .geemap-dark {\n",
       "                    --jp-widgets-color: white;\n",
       "                    --jp-widgets-label-color: white;\n",
       "                    --jp-ui-font-color1: white;\n",
       "                    --jp-layout-color2: #454545;\n",
       "                    background-color: #383838;\n",
       "                }\n",
       "\n",
       "                .geemap-dark .jupyter-button {\n",
       "                    --jp-layout-color3: #383838;\n",
       "                }\n",
       "\n",
       "                .geemap-colab {\n",
       "                    background-color: var(--colab-primary-surface-color, white);\n",
       "                }\n",
       "\n",
       "                .geemap-colab .jupyter-button {\n",
       "                    --jp-layout-color3: var(--colab-primary-surface-color, white);\n",
       "                }\n",
       "            </style>\n",
       "            "
      ],
      "text/plain": [
       "<IPython.core.display.HTML object>"
      ]
     },
     "metadata": {},
     "output_type": "display_data"
    }
   ],
   "source": [
    "joined_test = lake_classif_to_validate.sjoin(lake_detected_2022_inrae, how='inner', predicate = 'intersects')"
   ]
  },
  {
   "cell_type": "code",
   "execution_count": 64,
   "id": "fa68596a-fd7a-424e-b9c3-85a4ee440b03",
   "metadata": {},
   "outputs": [
    {
     "data": {
      "text/html": [
       "\n",
       "            <style>\n",
       "                .geemap-dark {\n",
       "                    --jp-widgets-color: white;\n",
       "                    --jp-widgets-label-color: white;\n",
       "                    --jp-ui-font-color1: white;\n",
       "                    --jp-layout-color2: #454545;\n",
       "                    background-color: #383838;\n",
       "                }\n",
       "\n",
       "                .geemap-dark .jupyter-button {\n",
       "                    --jp-layout-color3: #383838;\n",
       "                }\n",
       "\n",
       "                .geemap-colab {\n",
       "                    background-color: var(--colab-primary-surface-color, white);\n",
       "                }\n",
       "\n",
       "                .geemap-colab .jupyter-button {\n",
       "                    --jp-layout-color3: var(--colab-primary-surface-color, white);\n",
       "                }\n",
       "            </style>\n",
       "            "
      ],
      "text/plain": [
       "<IPython.core.display.HTML object>"
      ]
     },
     "metadata": {},
     "output_type": "display_data"
    }
   ],
   "source": [
    "test = lake_classif_to_validate.loc[~lake_classif_to_validate.index.isin(joined_test.index)]"
   ]
  },
  {
   "cell_type": "code",
   "execution_count": 65,
   "id": "6073721b-676b-4105-a72a-41503f836751",
   "metadata": {},
   "outputs": [
    {
     "data": {
      "text/html": [
       "\n",
       "            <style>\n",
       "                .geemap-dark {\n",
       "                    --jp-widgets-color: white;\n",
       "                    --jp-widgets-label-color: white;\n",
       "                    --jp-ui-font-color1: white;\n",
       "                    --jp-layout-color2: #454545;\n",
       "                    background-color: #383838;\n",
       "                }\n",
       "\n",
       "                .geemap-dark .jupyter-button {\n",
       "                    --jp-layout-color3: #383838;\n",
       "                }\n",
       "\n",
       "                .geemap-colab {\n",
       "                    background-color: var(--colab-primary-surface-color, white);\n",
       "                }\n",
       "\n",
       "                .geemap-colab .jupyter-button {\n",
       "                    --jp-layout-color3: var(--colab-primary-surface-color, white);\n",
       "                }\n",
       "            </style>\n",
       "            "
      ],
      "text/plain": [
       "<IPython.core.display.HTML object>"
      ]
     },
     "metadata": {},
     "output_type": "display_data"
    },
    {
     "data": {
      "text/html": [
       "<div>\n",
       "<style scoped>\n",
       "    .dataframe tbody tr th:only-of-type {\n",
       "        vertical-align: middle;\n",
       "    }\n",
       "\n",
       "    .dataframe tbody tr th {\n",
       "        vertical-align: top;\n",
       "    }\n",
       "\n",
       "    .dataframe thead th {\n",
       "        text-align: right;\n",
       "    }\n",
       "</style>\n",
       "<table border=\"1\" class=\"dataframe\">\n",
       "  <thead>\n",
       "    <tr style=\"text-align: right;\">\n",
       "      <th></th>\n",
       "      <th>year</th>\n",
       "      <th>source</th>\n",
       "      <th>value</th>\n",
       "      <th>lake_id</th>\n",
       "      <th>Time</th>\n",
       "      <th>geometry</th>\n",
       "      <th>area_m2</th>\n",
       "    </tr>\n",
       "  </thead>\n",
       "  <tbody>\n",
       "  </tbody>\n",
       "</table>\n",
       "</div>"
      ],
      "text/plain": [
       "Empty GeoDataFrame\n",
       "Columns: [year, source, value, lake_id, Time, geometry, area_m2]\n",
       "Index: []"
      ]
     },
     "execution_count": 65,
     "metadata": {},
     "output_type": "execute_result"
    }
   ],
   "source": [
    "test"
   ]
  },
  {
   "cell_type": "markdown",
   "id": "605c1504-851a-4450-aa65-791e92e5a8b5",
   "metadata": {},
   "source": [
    "lake 9 and 70 are artefacts in 2022, 9 is an artifact in 2000, example for the artifacts in the 40 years"
   ]
  },
  {
   "cell_type": "markdown",
   "id": "5f1e36fa-66ee-4e43-80d9-441602fbcd8d",
   "metadata": {},
   "source": [
    "## Results in gdf"
   ]
  },
  {
   "cell_type": "code",
   "execution_count": 66,
   "id": "ce9ed72e-082c-4229-9cd4-79870c2e4254",
   "metadata": {},
   "outputs": [
    {
     "data": {
      "text/html": [
       "\n",
       "            <style>\n",
       "                .geemap-dark {\n",
       "                    --jp-widgets-color: white;\n",
       "                    --jp-widgets-label-color: white;\n",
       "                    --jp-ui-font-color1: white;\n",
       "                    --jp-layout-color2: #454545;\n",
       "                    background-color: #383838;\n",
       "                }\n",
       "\n",
       "                .geemap-dark .jupyter-button {\n",
       "                    --jp-layout-color3: #383838;\n",
       "                }\n",
       "\n",
       "                .geemap-colab {\n",
       "                    background-color: var(--colab-primary-surface-color, white);\n",
       "                }\n",
       "\n",
       "                .geemap-colab .jupyter-button {\n",
       "                    --jp-layout-color3: var(--colab-primary-surface-color, white);\n",
       "                }\n",
       "            </style>\n",
       "            "
      ],
      "text/plain": [
       "<IPython.core.display.HTML object>"
      ]
     },
     "metadata": {},
     "output_type": "display_data"
    }
   ],
   "source": [
    "df_results = gpd.GeoDataFrame([{\n",
    "    \"area_of_lakes_2022_inrae\": total_area_2022\n",
    "}])"
   ]
  },
  {
   "cell_type": "code",
   "execution_count": 67,
   "id": "eae3c818-00d9-4100-b751-db60caea6ff7",
   "metadata": {},
   "outputs": [
    {
     "data": {
      "text/html": [
       "\n",
       "            <style>\n",
       "                .geemap-dark {\n",
       "                    --jp-widgets-color: white;\n",
       "                    --jp-widgets-label-color: white;\n",
       "                    --jp-ui-font-color1: white;\n",
       "                    --jp-layout-color2: #454545;\n",
       "                    background-color: #383838;\n",
       "                }\n",
       "\n",
       "                .geemap-dark .jupyter-button {\n",
       "                    --jp-layout-color3: #383838;\n",
       "                }\n",
       "\n",
       "                .geemap-colab {\n",
       "                    background-color: var(--colab-primary-surface-color, white);\n",
       "                }\n",
       "\n",
       "                .geemap-colab .jupyter-button {\n",
       "                    --jp-layout-color3: var(--colab-primary-surface-color, white);\n",
       "                }\n",
       "            </style>\n",
       "            "
      ],
      "text/plain": [
       "<IPython.core.display.HTML object>"
      ]
     },
     "metadata": {},
     "output_type": "display_data"
    },
    {
     "data": {
      "text/html": [
       "<div>\n",
       "<style scoped>\n",
       "    .dataframe tbody tr th:only-of-type {\n",
       "        vertical-align: middle;\n",
       "    }\n",
       "\n",
       "    .dataframe tbody tr th {\n",
       "        vertical-align: top;\n",
       "    }\n",
       "\n",
       "    .dataframe thead th {\n",
       "        text-align: right;\n",
       "    }\n",
       "</style>\n",
       "<table border=\"1\" class=\"dataframe\">\n",
       "  <thead>\n",
       "    <tr style=\"text-align: right;\">\n",
       "      <th></th>\n",
       "      <th>area_of_lakes_2022_inrae</th>\n",
       "    </tr>\n",
       "  </thead>\n",
       "  <tbody>\n",
       "    <tr>\n",
       "      <th>0</th>\n",
       "      <td>2.362111</td>\n",
       "    </tr>\n",
       "  </tbody>\n",
       "</table>\n",
       "</div>"
      ],
      "text/plain": [
       "   area_of_lakes_2022_inrae\n",
       "0                  2.362111"
      ]
     },
     "execution_count": 67,
     "metadata": {},
     "output_type": "execute_result"
    }
   ],
   "source": [
    "df_results"
   ]
  },
  {
   "cell_type": "code",
   "execution_count": 68,
   "id": "fd846f4e-3d4f-4f0d-8a5b-3915c8a246e6",
   "metadata": {},
   "outputs": [
    {
     "data": {
      "text/html": [
       "\n",
       "            <style>\n",
       "                .geemap-dark {\n",
       "                    --jp-widgets-color: white;\n",
       "                    --jp-widgets-label-color: white;\n",
       "                    --jp-ui-font-color1: white;\n",
       "                    --jp-layout-color2: #454545;\n",
       "                    background-color: #383838;\n",
       "                }\n",
       "\n",
       "                .geemap-dark .jupyter-button {\n",
       "                    --jp-layout-color3: #383838;\n",
       "                }\n",
       "\n",
       "                .geemap-colab {\n",
       "                    background-color: var(--colab-primary-surface-color, white);\n",
       "                }\n",
       "\n",
       "                .geemap-colab .jupyter-button {\n",
       "                    --jp-layout-color3: var(--colab-primary-surface-color, white);\n",
       "                }\n",
       "            </style>\n",
       "            "
      ],
      "text/plain": [
       "<IPython.core.display.HTML object>"
      ]
     },
     "metadata": {},
     "output_type": "display_data"
    }
   ],
   "source": [
    "df_results['number_of_lakes_2022_inrea'] = len(lake_inrae_clean_filtered['id'].unique())"
   ]
  },
  {
   "cell_type": "code",
   "execution_count": 69,
   "id": "0b183714-d77b-42bd-b4c5-f13147e3f69d",
   "metadata": {},
   "outputs": [
    {
     "data": {
      "text/html": [
       "\n",
       "            <style>\n",
       "                .geemap-dark {\n",
       "                    --jp-widgets-color: white;\n",
       "                    --jp-widgets-label-color: white;\n",
       "                    --jp-ui-font-color1: white;\n",
       "                    --jp-layout-color2: #454545;\n",
       "                    background-color: #383838;\n",
       "                }\n",
       "\n",
       "                .geemap-dark .jupyter-button {\n",
       "                    --jp-layout-color3: #383838;\n",
       "                }\n",
       "\n",
       "                .geemap-colab {\n",
       "                    background-color: var(--colab-primary-surface-color, white);\n",
       "                }\n",
       "\n",
       "                .geemap-colab .jupyter-button {\n",
       "                    --jp-layout-color3: var(--colab-primary-surface-color, white);\n",
       "                }\n",
       "            </style>\n",
       "            "
      ],
      "text/plain": [
       "<IPython.core.display.HTML object>"
      ]
     },
     "metadata": {},
     "output_type": "display_data"
    }
   ],
   "source": [
    "df_results['number_of_detected_lake_inrae'] =  len(lake_detected_2022_inrae)"
   ]
  },
  {
   "cell_type": "code",
   "execution_count": 70,
   "id": "407e0066-0bb5-4a18-a87e-bac84aba8d9d",
   "metadata": {},
   "outputs": [
    {
     "data": {
      "text/html": [
       "\n",
       "            <style>\n",
       "                .geemap-dark {\n",
       "                    --jp-widgets-color: white;\n",
       "                    --jp-widgets-label-color: white;\n",
       "                    --jp-ui-font-color1: white;\n",
       "                    --jp-layout-color2: #454545;\n",
       "                    background-color: #383838;\n",
       "                }\n",
       "\n",
       "                .geemap-dark .jupyter-button {\n",
       "                    --jp-layout-color3: #383838;\n",
       "                }\n",
       "\n",
       "                .geemap-colab {\n",
       "                    background-color: var(--colab-primary-surface-color, white);\n",
       "                }\n",
       "\n",
       "                .geemap-colab .jupyter-button {\n",
       "                    --jp-layout-color3: var(--colab-primary-surface-color, white);\n",
       "                }\n",
       "            </style>\n",
       "            "
      ],
      "text/plain": [
       "<IPython.core.display.HTML object>"
      ]
     },
     "metadata": {},
     "output_type": "display_data"
    }
   ],
   "source": [
    "df_results['number_of_not_detected_lake_inrae'] =  len(lake_not_detected_2022_inrae)"
   ]
  },
  {
   "cell_type": "code",
   "execution_count": 71,
   "id": "c7e9cc95-50cb-4251-83e2-10753982039d",
   "metadata": {},
   "outputs": [
    {
     "data": {
      "text/html": [
       "\n",
       "            <style>\n",
       "                .geemap-dark {\n",
       "                    --jp-widgets-color: white;\n",
       "                    --jp-widgets-label-color: white;\n",
       "                    --jp-ui-font-color1: white;\n",
       "                    --jp-layout-color2: #454545;\n",
       "                    background-color: #383838;\n",
       "                }\n",
       "\n",
       "                .geemap-dark .jupyter-button {\n",
       "                    --jp-layout-color3: #383838;\n",
       "                }\n",
       "\n",
       "                .geemap-colab {\n",
       "                    background-color: var(--colab-primary-surface-color, white);\n",
       "                }\n",
       "\n",
       "                .geemap-colab .jupyter-button {\n",
       "                    --jp-layout-color3: var(--colab-primary-surface-color, white);\n",
       "                }\n",
       "            </style>\n",
       "            "
      ],
      "text/plain": [
       "<IPython.core.display.HTML object>"
      ]
     },
     "metadata": {},
     "output_type": "display_data"
    }
   ],
   "source": [
    "df_results['number_of_detected_lakes_2022'] = len(lake_classif_to_validate['lake_id'].unique())"
   ]
  },
  {
   "cell_type": "code",
   "execution_count": 72,
   "id": "96d0c5de-32bb-4f76-99e3-6dbea87f20c7",
   "metadata": {},
   "outputs": [
    {
     "data": {
      "text/html": [
       "\n",
       "            <style>\n",
       "                .geemap-dark {\n",
       "                    --jp-widgets-color: white;\n",
       "                    --jp-widgets-label-color: white;\n",
       "                    --jp-ui-font-color1: white;\n",
       "                    --jp-layout-color2: #454545;\n",
       "                    background-color: #383838;\n",
       "                }\n",
       "\n",
       "                .geemap-dark .jupyter-button {\n",
       "                    --jp-layout-color3: #383838;\n",
       "                }\n",
       "\n",
       "                .geemap-colab {\n",
       "                    background-color: var(--colab-primary-surface-color, white);\n",
       "                }\n",
       "\n",
       "                .geemap-colab .jupyter-button {\n",
       "                    --jp-layout-color3: var(--colab-primary-surface-color, white);\n",
       "                }\n",
       "            </style>\n",
       "            "
      ],
      "text/plain": [
       "<IPython.core.display.HTML object>"
      ]
     },
     "metadata": {},
     "output_type": "display_data"
    }
   ],
   "source": [
    "df_results['number_of_artifacts_lakes_2022'] = len(test)"
   ]
  },
  {
   "cell_type": "code",
   "execution_count": 73,
   "id": "4c49d3f4-a883-4428-bbad-1d49829c2cf5",
   "metadata": {},
   "outputs": [
    {
     "data": {
      "text/html": [
       "\n",
       "            <style>\n",
       "                .geemap-dark {\n",
       "                    --jp-widgets-color: white;\n",
       "                    --jp-widgets-label-color: white;\n",
       "                    --jp-ui-font-color1: white;\n",
       "                    --jp-layout-color2: #454545;\n",
       "                    background-color: #383838;\n",
       "                }\n",
       "\n",
       "                .geemap-dark .jupyter-button {\n",
       "                    --jp-layout-color3: #383838;\n",
       "                }\n",
       "\n",
       "                .geemap-colab {\n",
       "                    background-color: var(--colab-primary-surface-color, white);\n",
       "                }\n",
       "\n",
       "                .geemap-colab .jupyter-button {\n",
       "                    --jp-layout-color3: var(--colab-primary-surface-color, white);\n",
       "                }\n",
       "            </style>\n",
       "            "
      ],
      "text/plain": [
       "<IPython.core.display.HTML object>"
      ]
     },
     "metadata": {},
     "output_type": "display_data"
    }
   ],
   "source": [
    "df_results['area_of_detected_lakes_2022'] =  lake_classif_to_validate.geometry.area.sum()*1e-6"
   ]
  },
  {
   "cell_type": "code",
   "execution_count": 74,
   "id": "a651cb07-2a79-48c6-b4e0-18d87d7197aa",
   "metadata": {},
   "outputs": [
    {
     "data": {
      "text/html": [
       "\n",
       "            <style>\n",
       "                .geemap-dark {\n",
       "                    --jp-widgets-color: white;\n",
       "                    --jp-widgets-label-color: white;\n",
       "                    --jp-ui-font-color1: white;\n",
       "                    --jp-layout-color2: #454545;\n",
       "                    background-color: #383838;\n",
       "                }\n",
       "\n",
       "                .geemap-dark .jupyter-button {\n",
       "                    --jp-layout-color3: #383838;\n",
       "                }\n",
       "\n",
       "                .geemap-colab {\n",
       "                    background-color: var(--colab-primary-surface-color, white);\n",
       "                }\n",
       "\n",
       "                .geemap-colab .jupyter-button {\n",
       "                    --jp-layout-color3: var(--colab-primary-surface-color, white);\n",
       "                }\n",
       "            </style>\n",
       "            "
      ],
      "text/plain": [
       "<IPython.core.display.HTML object>"
      ]
     },
     "metadata": {},
     "output_type": "display_data"
    }
   ],
   "source": [
    "df_results['detected_surface_ratio'] =  df_results['area_of_detected_lakes_2022']/df_results['area_of_lakes_2022_inrae'] *100 "
   ]
  },
  {
   "cell_type": "code",
   "execution_count": 75,
   "id": "ee124d16-51d9-4429-809b-c688676a6fb3",
   "metadata": {},
   "outputs": [
    {
     "data": {
      "text/html": [
       "\n",
       "            <style>\n",
       "                .geemap-dark {\n",
       "                    --jp-widgets-color: white;\n",
       "                    --jp-widgets-label-color: white;\n",
       "                    --jp-ui-font-color1: white;\n",
       "                    --jp-layout-color2: #454545;\n",
       "                    background-color: #383838;\n",
       "                }\n",
       "\n",
       "                .geemap-dark .jupyter-button {\n",
       "                    --jp-layout-color3: #383838;\n",
       "                }\n",
       "\n",
       "                .geemap-colab {\n",
       "                    background-color: var(--colab-primary-surface-color, white);\n",
       "                }\n",
       "\n",
       "                .geemap-colab .jupyter-button {\n",
       "                    --jp-layout-color3: var(--colab-primary-surface-color, white);\n",
       "                }\n",
       "            </style>\n",
       "            "
      ],
      "text/plain": [
       "<IPython.core.display.HTML object>"
      ]
     },
     "metadata": {},
     "output_type": "display_data"
    },
    {
     "data": {
      "text/html": [
       "<div>\n",
       "<style scoped>\n",
       "    .dataframe tbody tr th:only-of-type {\n",
       "        vertical-align: middle;\n",
       "    }\n",
       "\n",
       "    .dataframe tbody tr th {\n",
       "        vertical-align: top;\n",
       "    }\n",
       "\n",
       "    .dataframe thead th {\n",
       "        text-align: right;\n",
       "    }\n",
       "</style>\n",
       "<table border=\"1\" class=\"dataframe\">\n",
       "  <thead>\n",
       "    <tr style=\"text-align: right;\">\n",
       "      <th></th>\n",
       "      <th>0</th>\n",
       "    </tr>\n",
       "  </thead>\n",
       "  <tbody>\n",
       "    <tr>\n",
       "      <th>area_of_lakes_2022_inrae</th>\n",
       "      <td>2.362111</td>\n",
       "    </tr>\n",
       "    <tr>\n",
       "      <th>number_of_lakes_2022_inrea</th>\n",
       "      <td>200.000000</td>\n",
       "    </tr>\n",
       "    <tr>\n",
       "      <th>number_of_detected_lake_inrae</th>\n",
       "      <td>79.000000</td>\n",
       "    </tr>\n",
       "    <tr>\n",
       "      <th>number_of_not_detected_lake_inrae</th>\n",
       "      <td>121.000000</td>\n",
       "    </tr>\n",
       "    <tr>\n",
       "      <th>number_of_detected_lakes_2022</th>\n",
       "      <td>78.000000</td>\n",
       "    </tr>\n",
       "    <tr>\n",
       "      <th>number_of_artifacts_lakes_2022</th>\n",
       "      <td>0.000000</td>\n",
       "    </tr>\n",
       "    <tr>\n",
       "      <th>area_of_detected_lakes_2022</th>\n",
       "      <td>1.364509</td>\n",
       "    </tr>\n",
       "    <tr>\n",
       "      <th>detected_surface_ratio</th>\n",
       "      <td>57.766482</td>\n",
       "    </tr>\n",
       "  </tbody>\n",
       "</table>\n",
       "</div>"
      ],
      "text/plain": [
       "                                            0\n",
       "area_of_lakes_2022_inrae             2.362111\n",
       "number_of_lakes_2022_inrea         200.000000\n",
       "number_of_detected_lake_inrae       79.000000\n",
       "number_of_not_detected_lake_inrae  121.000000\n",
       "number_of_detected_lakes_2022       78.000000\n",
       "number_of_artifacts_lakes_2022       0.000000\n",
       "area_of_detected_lakes_2022          1.364509\n",
       "detected_surface_ratio              57.766482"
      ]
     },
     "execution_count": 75,
     "metadata": {},
     "output_type": "execute_result"
    }
   ],
   "source": [
    "df_results.T"
   ]
  },
  {
   "cell_type": "code",
   "execution_count": 76,
   "id": "1fffe449-87ea-467b-b6a1-598f3e497a9d",
   "metadata": {},
   "outputs": [
    {
     "data": {
      "text/html": [
       "\n",
       "            <style>\n",
       "                .geemap-dark {\n",
       "                    --jp-widgets-color: white;\n",
       "                    --jp-widgets-label-color: white;\n",
       "                    --jp-ui-font-color1: white;\n",
       "                    --jp-layout-color2: #454545;\n",
       "                    background-color: #383838;\n",
       "                }\n",
       "\n",
       "                .geemap-dark .jupyter-button {\n",
       "                    --jp-layout-color3: #383838;\n",
       "                }\n",
       "\n",
       "                .geemap-colab {\n",
       "                    background-color: var(--colab-primary-surface-color, white);\n",
       "                }\n",
       "\n",
       "                .geemap-colab .jupyter-button {\n",
       "                    --jp-layout-color3: var(--colab-primary-surface-color, white);\n",
       "                }\n",
       "            </style>\n",
       "            "
      ],
      "text/plain": [
       "<IPython.core.display.HTML object>"
      ]
     },
     "metadata": {},
     "output_type": "display_data"
    },
    {
     "data": {
      "text/html": [
       "<div>\n",
       "<style scoped>\n",
       "    .dataframe tbody tr th:only-of-type {\n",
       "        vertical-align: middle;\n",
       "    }\n",
       "\n",
       "    .dataframe tbody tr th {\n",
       "        vertical-align: top;\n",
       "    }\n",
       "\n",
       "    .dataframe thead th {\n",
       "        text-align: right;\n",
       "    }\n",
       "</style>\n",
       "<table border=\"1\" class=\"dataframe\">\n",
       "  <thead>\n",
       "    <tr style=\"text-align: right;\">\n",
       "      <th></th>\n",
       "      <th>0</th>\n",
       "    </tr>\n",
       "  </thead>\n",
       "  <tbody>\n",
       "    <tr>\n",
       "      <th>area_of_lakes_2022_inrae</th>\n",
       "      <td>2.362111</td>\n",
       "    </tr>\n",
       "    <tr>\n",
       "      <th>number_of_lakes_2022_inrea</th>\n",
       "      <td>200.000000</td>\n",
       "    </tr>\n",
       "    <tr>\n",
       "      <th>number_of_detected_lake_inrae</th>\n",
       "      <td>79.000000</td>\n",
       "    </tr>\n",
       "    <tr>\n",
       "      <th>number_of_not_detected_lake_inrae</th>\n",
       "      <td>121.000000</td>\n",
       "    </tr>\n",
       "    <tr>\n",
       "      <th>number_of_detected_lakes_2022</th>\n",
       "      <td>78.000000</td>\n",
       "    </tr>\n",
       "    <tr>\n",
       "      <th>number_of_artifacts_lakes_2022</th>\n",
       "      <td>0.000000</td>\n",
       "    </tr>\n",
       "    <tr>\n",
       "      <th>area_of_detected_lakes_2022</th>\n",
       "      <td>1.364509</td>\n",
       "    </tr>\n",
       "    <tr>\n",
       "      <th>detected_surface_ratio</th>\n",
       "      <td>57.766482</td>\n",
       "    </tr>\n",
       "  </tbody>\n",
       "</table>\n",
       "</div>"
      ],
      "text/plain": [
       "                                            0\n",
       "area_of_lakes_2022_inrae             2.362111\n",
       "number_of_lakes_2022_inrea         200.000000\n",
       "number_of_detected_lake_inrae       79.000000\n",
       "number_of_not_detected_lake_inrae  121.000000\n",
       "number_of_detected_lakes_2022       78.000000\n",
       "number_of_artifacts_lakes_2022       0.000000\n",
       "area_of_detected_lakes_2022          1.364509\n",
       "detected_surface_ratio              57.766482"
      ]
     },
     "execution_count": 76,
     "metadata": {},
     "output_type": "execute_result"
    }
   ],
   "source": [
    "df_results.T"
   ]
  },
  {
   "cell_type": "markdown",
   "id": "245c6828-adff-4cc6-9168-dc3cf4386fd5",
   "metadata": {},
   "source": [
    "# Visu"
   ]
  },
  {
   "cell_type": "code",
   "execution_count": 77,
   "id": "a9dc52f6-ba80-4828-8085-f7beef164d73",
   "metadata": {},
   "outputs": [
    {
     "data": {
      "text/html": [
       "\n",
       "            <style>\n",
       "                .geemap-dark {\n",
       "                    --jp-widgets-color: white;\n",
       "                    --jp-widgets-label-color: white;\n",
       "                    --jp-ui-font-color1: white;\n",
       "                    --jp-layout-color2: #454545;\n",
       "                    background-color: #383838;\n",
       "                }\n",
       "\n",
       "                .geemap-dark .jupyter-button {\n",
       "                    --jp-layout-color3: #383838;\n",
       "                }\n",
       "\n",
       "                .geemap-colab {\n",
       "                    background-color: var(--colab-primary-surface-color, white);\n",
       "                }\n",
       "\n",
       "                .geemap-colab .jupyter-button {\n",
       "                    --jp-layout-color3: var(--colab-primary-surface-color, white);\n",
       "                }\n",
       "            </style>\n",
       "            "
      ],
      "text/plain": [
       "<IPython.core.display.HTML object>"
      ]
     },
     "metadata": {},
     "output_type": "display_data"
    },
    {
     "name": "stdout",
     "output_type": "stream",
     "text": [
      "Nombre de lacs : 200\n",
      "Aire totale (km²) : 2.3621\n",
      "Taille moyenne (km²) : 0.0118\n",
      "Médiane (km²) : 0.0034\n",
      "1er quartile (km²) : 0.0019\n",
      "3e quartile (km²) : 0.0086\n"
     ]
    },
    {
     "data": {
      "image/png": "[encoded data removed]",
      "text/plain": [
       "<Figure size 1200x500 with 2 Axes>"
      ]
     },
     "metadata": {},
     "output_type": "display_data"
    }
   ],
   "source": [
    "import pandas as pd\n",
    "import matplotlib.pyplot as plt\n",
    "\n",
    "# Calcul des surfaces individuelles en km²\n",
    "lake_areas_km2 = lake_inrae_clean_filtered.geometry.area * 1e-6\n",
    "\n",
    "# Statistiques descriptives\n",
    "total_area_km2 = lake_areas_km2.sum()\n",
    "number_of_lakes = len(lake_inrae_clean_filtered['id'].unique())\n",
    "mean_area_km2 = lake_areas_km2.mean()\n",
    "median_area_km2 = lake_areas_km2.median()\n",
    "quartiles = lake_areas_km2.quantile([0.25, 0.5, 0.75])\n",
    "\n",
    "# Affichage des statistiques\n",
    "print(f\"Nombre de lacs : {number_of_lakes}\")\n",
    "print(f\"Aire totale (km²) : {total_area_km2:.4f}\")\n",
    "print(f\"Taille moyenne (km²) : {mean_area_km2:.4f}\")\n",
    "print(f\"Médiane (km²) : {median_area_km2:.4f}\")\n",
    "print(f\"1er quartile (km²) : {quartiles[0.25]:.4f}\")\n",
    "print(f\"3e quartile (km²) : {quartiles[0.75]:.4f}\")\n",
    "\n",
    "# Visualisation\n",
    "\n",
    "fig, ax = plt.subplots(1, 2, figsize=(12, 5))\n",
    "\n",
    "# Histogramme des tailles des lacs\n",
    "ax[0].hist(lake_areas_km2, bins=30, color='skyblue', edgecolor='black')\n",
    "ax[0].set_title(\"Distribution des surfaces des lacs (km²)\")\n",
    "ax[0].set_xlabel(\"Surface (km²)\")\n",
    "ax[0].set_ylabel(\"Nombre de lacs\")\n",
    "ax[0].set_yscale('log')  # optionnel : échelle logarithmique si très dispersé\n",
    "\n",
    "# Boîte à moustaches (boxplot)\n",
    "ax[1].boxplot(lake_areas_km2, vert=True, patch_artist=True,\n",
    "              boxprops=dict(facecolor='lightgreen', color='green'),\n",
    "              medianprops=dict(color='red', linewidth=2))\n",
    "ax[1].set_title(\"Boxplot des surfaces des lacs (km²)\")\n",
    "ax[1].set_ylabel(\"Surface (km²)\")\n",
    "\n",
    "plt.tight_layout()\n",
    "plt.show()"
   ]
  },
  {
   "cell_type": "code",
   "execution_count": 78,
   "id": "cf9e5a4f-95eb-42b7-8f1a-5e7db8041e67",
   "metadata": {},
   "outputs": [
    {
     "data": {
      "text/html": [
       "\n",
       "            <style>\n",
       "                .geemap-dark {\n",
       "                    --jp-widgets-color: white;\n",
       "                    --jp-widgets-label-color: white;\n",
       "                    --jp-ui-font-color1: white;\n",
       "                    --jp-layout-color2: #454545;\n",
       "                    background-color: #383838;\n",
       "                }\n",
       "\n",
       "                .geemap-dark .jupyter-button {\n",
       "                    --jp-layout-color3: #383838;\n",
       "                }\n",
       "\n",
       "                .geemap-colab {\n",
       "                    background-color: var(--colab-primary-surface-color, white);\n",
       "                }\n",
       "\n",
       "                .geemap-colab .jupyter-button {\n",
       "                    --jp-layout-color3: var(--colab-primary-surface-color, white);\n",
       "                }\n",
       "            </style>\n",
       "            "
      ],
      "text/plain": [
       "<IPython.core.display.HTML object>"
      ]
     },
     "metadata": {},
     "output_type": "display_data"
    },
    {
     "name": "stdout",
     "output_type": "stream",
     "text": [
      "\n",
      "=== Computed Classification ===\n",
      "Total area (km²): 1.3645\n",
      "Mean area (km²): 0.0150\n",
      "Median area (km²): 0.0041\n",
      "1st quartile (km²): 0.0011\n",
      "3rd quartile (km²): 0.0155\n",
      "\n",
      "=== Reference Classification (INRAE 2022) ===\n",
      "Total area (km²): 2.3621\n",
      "Mean area (km²): 0.0118\n",
      "Median area (km²): 0.0034\n",
      "1st quartile (km²): 0.0019\n",
      "3rd quartile (km²): 0.0086\n"
     ]
    },
    {
     "name": "stderr",
     "output_type": "stream",
     "text": [
      "C:\\Users\\ronir\\AppData\\Local\\Temp\\ipykernel_29432\\3693729798.py:42: MatplotlibDeprecationWarning: The 'labels' parameter of boxplot() has been renamed 'tick_labels' since Matplotlib 3.9; support for the old name will be dropped in 3.11.\n",
      "  box = ax[1].boxplot([areas_reference, areas_classif], vert=True, patch_artist=True,\n"
     ]
    },
    {
     "data": {
      "image/png": "[encoded data removed]",
      "text/plain": [
       "<Figure size 1400x600 with 2 Axes>"
      ]
     },
     "metadata": {},
     "output_type": "display_data"
    }
   ],
   "source": [
    "import pandas as pd\n",
    "import matplotlib.pyplot as plt\n",
    "import geopandas as gpd\n",
    "\n",
    "# --- Compute lake areas (km²) for both datasets ---\n",
    "areas_classif = lake_classif_to_validate.geometry.area * 1e-6 \n",
    "areas_reference = lake_inrae_clean_filtered.geometry.area * 1e-6\n",
    "\n",
    "# --- Descriptive statistics ---\n",
    "def describe(areas, label):\n",
    "    total = areas.sum()\n",
    "    mean = areas.mean()\n",
    "    median = areas.median()\n",
    "    q1 = areas.quantile(0.25)\n",
    "    q3 = areas.quantile(0.75)\n",
    "    \n",
    "    print(f\"\\n=== {label} ===\")\n",
    "    print(f\"Total area (km²): {total:.4f}\")\n",
    "    print(f\"Mean area (km²): {mean:.4f}\")\n",
    "    print(f\"Median area (km²): {median:.4f}\")\n",
    "    print(f\"1st quartile (km²): {q1:.4f}\")\n",
    "    print(f\"3rd quartile (km²): {q3:.4f}\")\n",
    "    return total, mean, median, q1, q3\n",
    "\n",
    "# Show stats\n",
    "describe(areas_classif, \"Computed Classification\")\n",
    "describe(areas_reference, \"Reference Classification (INRAE 2022)\")\n",
    "\n",
    "# --- Visualization ---\n",
    "fig, ax = plt.subplots(1, 2, figsize=(14, 6))\n",
    "\n",
    "# Histogram comparison\n",
    "ax[0].hist(areas_reference, bins=30, alpha=0.6, label=\"Reference (INRAE 2022)\", color='red', edgecolor='black')\n",
    "ax[0].hist(areas_classif, bins=30, alpha=0.8, label=\"Computed Classification\", color='skyblue', edgecolor='black')\n",
    "ax[0].set_title(\"Lake Area Distribution (Histogram)\")\n",
    "ax[0].set_xlabel(\"Area (km²)\")\n",
    "ax[0].set_ylabel(\"Number of Lakes\")\n",
    "ax[0].legend()\n",
    "ax[0].set_yscale('log')\n",
    "\n",
    "# Boxplot comparison\n",
    "box = ax[1].boxplot([areas_reference, areas_classif], vert=True, patch_artist=True,\n",
    "                    labels=[\"Reference (INRAE 2022)\", \"Computed Classification\"],\n",
    "                    boxprops=dict(facecolor='lightgreen', color='black'),\n",
    "                    medianprops=dict(color='red', linewidth=2))\n",
    "\n",
    "ax[1].set_title(\"Lake Area Comparison (Boxplot)\")\n",
    "ax[1].set_ylabel(\"Area (km²)\")\n",
    "\n",
    "# Add legend manually under the boxplot\n",
    "fig.legend([box[\"boxes\"][0], box[\"medians\"][0]],\n",
    "           ['Interquartile Range', 'Median'],\n",
    "           loc='lower center', ncol=2, bbox_to_anchor=(0.5, -0.05))\n",
    "\n",
    "plt.tight_layout()\n",
    "plt.subplots_adjust(bottom=0.2)\n",
    "plt.show()\n"
   ]
  },
  {
   "cell_type": "code",
   "execution_count": 79,
   "id": "01a056c2-9cd5-4566-bb8c-30c301346aa4",
   "metadata": {},
   "outputs": [
    {
     "data": {
      "text/html": [
       "\n",
       "            <style>\n",
       "                .geemap-dark {\n",
       "                    --jp-widgets-color: white;\n",
       "                    --jp-widgets-label-color: white;\n",
       "                    --jp-ui-font-color1: white;\n",
       "                    --jp-layout-color2: #454545;\n",
       "                    background-color: #383838;\n",
       "                }\n",
       "\n",
       "                .geemap-dark .jupyter-button {\n",
       "                    --jp-layout-color3: #383838;\n",
       "                }\n",
       "\n",
       "                .geemap-colab {\n",
       "                    background-color: var(--colab-primary-surface-color, white);\n",
       "                }\n",
       "\n",
       "                .geemap-colab .jupyter-button {\n",
       "                    --jp-layout-color3: var(--colab-primary-surface-color, white);\n",
       "                }\n",
       "            </style>\n",
       "            "
      ],
      "text/plain": [
       "<IPython.core.display.HTML object>"
      ]
     },
     "metadata": {},
     "output_type": "display_data"
    },
    {
     "name": "stderr",
     "output_type": "stream",
     "text": [
      "C:\\Users\\ronir\\anaconda3\\envs\\gee\\Lib\\site-packages\\geopandas\\geodataframe.py:1819: SettingWithCopyWarning: \n",
      "A value is trying to be set on a copy of a slice from a DataFrame.\n",
      "Try using .loc[row_indexer,col_indexer] = value instead\n",
      "\n",
      "See the caveats in the documentation: https://pandas.pydata.org/pandas-docs/stable/user_guide/indexing.html#returning-a-view-versus-a-copy\n",
      "  super().__setitem__(key, value)\n",
      "C:\\Users\\ronir\\anaconda3\\envs\\gee\\Lib\\site-packages\\geopandas\\geodataframe.py:1819: SettingWithCopyWarning: \n",
      "A value is trying to be set on a copy of a slice from a DataFrame.\n",
      "Try using .loc[row_indexer,col_indexer] = value instead\n",
      "\n",
      "See the caveats in the documentation: https://pandas.pydata.org/pandas-docs/stable/user_guide/indexing.html#returning-a-view-versus-a-copy\n",
      "  super().__setitem__(key, value)\n"
     ]
    },
    {
     "data": {
      "image/png": "[encoded data removed]",
      "text/plain": [
       "<Figure size 1000x600 with 1 Axes>"
      ]
     },
     "metadata": {},
     "output_type": "display_data"
    }
   ],
   "source": [
    "# Calculate surface area in Landsat pixels\n",
    "lake_not_detected_2022_inrae['landsat_pixels'] = lake_not_detected_2022_inrae.geometry.area / 900\n",
    "\n",
    "# Define bins by number of pixels (as requested)\n",
    "bins = [0, 1, 2, 4, 10, 50, 100]\n",
    "labels = ['<1', '1–2', '2–4', '4–10', '10–50', '50–100', '100–500', '500–1k', '>1k']\n",
    "lake_not_detected_2022_inrae['pixel_bin'] = pd.cut(lake_not_detected_2022_inrae['landsat_pixels'], bins=bins)\n",
    "\n",
    "lake_not_detected_2022_inrae\n",
    "# Plot histogram\n",
    "plt.figure(figsize=(10, 6))\n",
    "lake_not_detected_2022_inrae['pixel_bin'].value_counts().sort_index().plot(kind='bar', color='tomato', edgecolor='black')\n",
    "plt.title(\"Distribution of INRAE undetected Lakes (in Landsat Pixels)\")\n",
    "plt.xlabel(\"Size Class (Landsat Pixels)\")\n",
    "plt.ylabel(\"Number of Undetected Lakes\")\n",
    "plt.xticks(rotation=45)\n",
    "plt.grid(axis='y')\n",
    "plt.tight_layout()\n",
    "plt.show()\n"
   ]
  },
  {
   "cell_type": "code",
   "execution_count": 140,
   "id": "e6294ebd-f8d4-449f-a73d-07f5487f2054",
   "metadata": {},
   "outputs": [
    {
     "data": {
      "text/html": [
       "\n",
       "            <style>\n",
       "                .geemap-dark {\n",
       "                    --jp-widgets-color: white;\n",
       "                    --jp-widgets-label-color: white;\n",
       "                    --jp-ui-font-color1: white;\n",
       "                    --jp-layout-color2: #454545;\n",
       "                    background-color: #383838;\n",
       "                }\n",
       "\n",
       "                .geemap-dark .jupyter-button {\n",
       "                    --jp-layout-color3: #383838;\n",
       "                }\n",
       "\n",
       "                .geemap-colab {\n",
       "                    background-color: var(--colab-primary-surface-color, white);\n",
       "                }\n",
       "\n",
       "                .geemap-colab .jupyter-button {\n",
       "                    --jp-layout-color3: var(--colab-primary-surface-color, white);\n",
       "                }\n",
       "            </style>\n",
       "            "
      ],
      "text/plain": [
       "<IPython.core.display.HTML object>"
      ]
     },
     "metadata": {},
     "output_type": "display_data"
    },
    {
     "name": "stderr",
     "output_type": "stream",
     "text": [
      "C:\\Users\\ronir\\anaconda3\\envs\\gee\\Lib\\site-packages\\geopandas\\geodataframe.py:1819: SettingWithCopyWarning: \n",
      "A value is trying to be set on a copy of a slice from a DataFrame.\n",
      "Try using .loc[row_indexer,col_indexer] = value instead\n",
      "\n",
      "See the caveats in the documentation: https://pandas.pydata.org/pandas-docs/stable/user_guide/indexing.html#returning-a-view-versus-a-copy\n",
      "  super().__setitem__(key, value)\n",
      "C:\\Users\\ronir\\anaconda3\\envs\\gee\\Lib\\site-packages\\geopandas\\geodataframe.py:1819: SettingWithCopyWarning: \n",
      "A value is trying to be set on a copy of a slice from a DataFrame.\n",
      "Try using .loc[row_indexer,col_indexer] = value instead\n",
      "\n",
      "See the caveats in the documentation: https://pandas.pydata.org/pandas-docs/stable/user_guide/indexing.html#returning-a-view-versus-a-copy\n",
      "  super().__setitem__(key, value)\n",
      "C:\\Users\\ronir\\anaconda3\\envs\\gee\\Lib\\site-packages\\geopandas\\geodataframe.py:1819: SettingWithCopyWarning: \n",
      "A value is trying to be set on a copy of a slice from a DataFrame.\n",
      "Try using .loc[row_indexer,col_indexer] = value instead\n",
      "\n",
      "See the caveats in the documentation: https://pandas.pydata.org/pandas-docs/stable/user_guide/indexing.html#returning-a-view-versus-a-copy\n",
      "  super().__setitem__(key, value)\n"
     ]
    },
    {
     "data": {
      "image/png": "[encoded data removed]",
      "text/plain": [
       "<Figure size 800x500 with 1 Axes>"
      ]
     },
     "metadata": {},
     "output_type": "display_data"
    }
   ],
   "source": [
    "import matplotlib.pyplot as plt\n",
    "import pandas as pd\n",
    "\n",
    "# 1. Define full bins and labels\n",
    "bins = [0, 1, 2, 4, 10, 50, 100, 500, 1000, float('inf')]\n",
    "labels = ['<1', '1–2', '2–4', '4–10', '10–50', '50–100', '100–500', '500–1k', '>1k']\n",
    "\n",
    "# 2. Add pixels + classes to the 3 datasets\n",
    "for df in [lake_detected_2022_inrae, lake_not_detected_2022_inrae, lake_inrae_clean_filtered]:\n",
    "    df['landsat_pixels'] = df.geometry.area / 900\n",
    "    df['pixel_bin'] = pd.cut(df['landsat_pixels'], bins=bins, labels=labels, right=False)\n",
    "\n",
    "# 3. Limit to classes\n",
    "filtered_labels = ['<1', '1–2', '2–4', '4–10', '10–50', '50–100', '100–500']\n",
    "\n",
    "detected_counts = lake_detected_2022_inrae['pixel_bin'].value_counts().sort_index().loc[filtered_labels]\n",
    "not_detected_counts = lake_not_detected_2022_inrae['pixel_bin'].value_counts().sort_index().loc[filtered_labels]\n",
    "total_counts = detected_counts.add(not_detected_counts, fill_value=0).astype(int)\n",
    "\n",
    "# 4. Global sums\n",
    "total_detected = int(detected_counts.sum())\n",
    "total_not_detected = int(not_detected_counts.sum())\n",
    "\n",
    "# 5. Plot bars\n",
    "x = range(len(filtered_labels))\n",
    "bar_width = 0.6\n",
    "\n",
    "plt.figure(figsize=(8, 5))\n",
    "\n",
    "plt.bar(x, not_detected_counts, width=bar_width, label='Lakes not detected', color='lightgray', edgecolor='black')\n",
    "plt.bar(x, detected_counts, width=bar_width, bottom=not_detected_counts, label='Lakes detected', color='tomato', edgecolor='black')\n",
    "\n",
    "# 6. Add % and total on each bar\n",
    "for i, label in enumerate(filtered_labels):\n",
    "    total = total_counts[label]\n",
    "    detected = detected_counts.get(label, 0)\n",
    "    if total > 0:\n",
    "        percent = round(100 * detected / total)\n",
    "        plt.text(i, not_detected_counts.get(label, 0) + detected / 2,\n",
    "                 f\"{percent}%\", ha='center', va='center', fontsize=11, color='white', fontweight='bold')\n",
    "    plt.text(i, total + 1, str(total), ha='center', va='bottom', fontsize=12)\n",
    "\n",
    "# 7. Add box under legend\n",
    "textstr = f'Lakes detected: {total_detected}\\nLakes not detected: {total_not_detected}'\n",
    "props = dict(boxstyle='round', facecolor='whitesmoke', edgecolor='gray')\n",
    "plt.gcf().text(0.72, 0.5, textstr, fontsize=10, bbox=props)\n",
    "\n",
    "# 8. Layout\n",
    "\n",
    "plt.tick_params(axis='y', labelsize=18)\n",
    "plt.tick_params(axis='x', labelsize=18)\n",
    "\n",
    "plt.xticks(x, filtered_labels, rotation=0)\n",
    "plt.xlabel(\"Size class (Landsat pixels, 900m²)\")\n",
    "plt.ylabel(\"Number of INRAE lakes\")\n",
    "plt.title(\"Detected vs not detected lake (INRAE)\")\n",
    "plt.ylim(0, total_counts.max() * 1.1)\n",
    "plt.legend()\n",
    "plt.grid(axis='y')\n",
    "plt.tight_layout()\n",
    "plt.savefig('C:/Users/ronir/Desktop/Stage_Carrtel_2025/Figure_def/INRAE_vs_classif_number')\n",
    "\n",
    "\n",
    "plt.show()"
   ]
  },
  {
   "cell_type": "code",
   "execution_count": 176,
   "id": "26c2cc9e-7ef4-4e4b-a3f2-e6a858573c4f",
   "metadata": {},
   "outputs": [
    {
     "data": {
      "text/html": [
       "\n",
       "            <style>\n",
       "                .geemap-dark {\n",
       "                    --jp-widgets-color: white;\n",
       "                    --jp-widgets-label-color: white;\n",
       "                    --jp-ui-font-color1: white;\n",
       "                    --jp-layout-color2: #454545;\n",
       "                    background-color: #383838;\n",
       "                }\n",
       "\n",
       "                .geemap-dark .jupyter-button {\n",
       "                    --jp-layout-color3: #383838;\n",
       "                }\n",
       "\n",
       "                .geemap-colab {\n",
       "                    background-color: var(--colab-primary-surface-color, white);\n",
       "                }\n",
       "\n",
       "                .geemap-colab .jupyter-button {\n",
       "                    --jp-layout-color3: var(--colab-primary-surface-color, white);\n",
       "                }\n",
       "            </style>\n",
       "            "
      ],
      "text/plain": [
       "<IPython.core.display.HTML object>"
      ]
     },
     "metadata": {},
     "output_type": "display_data"
    },
    {
     "data": {
      "text/html": [
       "<div>\n",
       "<style scoped>\n",
       "    .dataframe tbody tr th:only-of-type {\n",
       "        vertical-align: middle;\n",
       "    }\n",
       "\n",
       "    .dataframe tbody tr th {\n",
       "        vertical-align: top;\n",
       "    }\n",
       "\n",
       "    .dataframe thead th {\n",
       "        text-align: right;\n",
       "    }\n",
       "</style>\n",
       "<table border=\"1\" class=\"dataframe\">\n",
       "  <thead>\n",
       "    <tr style=\"text-align: right;\">\n",
       "      <th></th>\n",
       "      <th>lake_id</th>\n",
       "      <th>area_detected_lake_m²</th>\n",
       "      <th>area_inrae</th>\n",
       "      <th>surface_covered_ratio</th>\n",
       "      <th>real_surface_covered_ratio_clipped</th>\n",
       "      <th>landsat_pixels</th>\n",
       "      <th>pixel_bin</th>\n",
       "      <th>area_m2_classif</th>\n",
       "      <th>area_m2_inrae</th>\n",
       "      <th>surface_diff_m2</th>\n",
       "      <th>area_pixels_landsat</th>\n",
       "      <th>surface_diff_percent</th>\n",
       "    </tr>\n",
       "  </thead>\n",
       "  <tbody>\n",
       "    <tr>\n",
       "      <th>76</th>\n",
       "      <td>2253.0</td>\n",
       "      <td>540.133464</td>\n",
       "      <td>1128.012572</td>\n",
       "      <td>47.883639</td>\n",
       "      <td>47.883639</td>\n",
       "      <td>1.253347</td>\n",
       "      <td>1–2</td>\n",
       "      <td>540.133464</td>\n",
       "      <td>1128.012572</td>\n",
       "      <td>-587.879109</td>\n",
       "      <td>1.253347</td>\n",
       "      <td>-52.116361</td>\n",
       "    </tr>\n",
       "    <tr>\n",
       "      <th>74</th>\n",
       "      <td>1611.0</td>\n",
       "      <td>156.776521</td>\n",
       "      <td>1938.237046</td>\n",
       "      <td>8.088614</td>\n",
       "      <td>8.088614</td>\n",
       "      <td>2.153597</td>\n",
       "      <td>2–4</td>\n",
       "      <td>156.776521</td>\n",
       "      <td>1938.237046</td>\n",
       "      <td>-1781.460524</td>\n",
       "      <td>2.153597</td>\n",
       "      <td>-91.911386</td>\n",
       "    </tr>\n",
       "    <tr>\n",
       "      <th>43</th>\n",
       "      <td>248.0</td>\n",
       "      <td>1105.410797</td>\n",
       "      <td>2103.159011</td>\n",
       "      <td>52.559545</td>\n",
       "      <td>52.559545</td>\n",
       "      <td>2.336843</td>\n",
       "      <td>2–4</td>\n",
       "      <td>1105.410797</td>\n",
       "      <td>2103.159011</td>\n",
       "      <td>-997.748214</td>\n",
       "      <td>2.336843</td>\n",
       "      <td>-47.440455</td>\n",
       "    </tr>\n",
       "    <tr>\n",
       "      <th>72</th>\n",
       "      <td>1249.0</td>\n",
       "      <td>959.499164</td>\n",
       "      <td>2544.469115</td>\n",
       "      <td>37.709208</td>\n",
       "      <td>37.709208</td>\n",
       "      <td>2.827188</td>\n",
       "      <td>2–4</td>\n",
       "      <td>959.499164</td>\n",
       "      <td>2544.469115</td>\n",
       "      <td>-1584.969952</td>\n",
       "      <td>2.827188</td>\n",
       "      <td>-62.290792</td>\n",
       "    </tr>\n",
       "    <tr>\n",
       "      <th>55</th>\n",
       "      <td>330.0</td>\n",
       "      <td>828.968582</td>\n",
       "      <td>2959.452475</td>\n",
       "      <td>28.010877</td>\n",
       "      <td>28.010877</td>\n",
       "      <td>3.288281</td>\n",
       "      <td>2–4</td>\n",
       "      <td>828.968582</td>\n",
       "      <td>2959.452475</td>\n",
       "      <td>-2130.483893</td>\n",
       "      <td>3.288281</td>\n",
       "      <td>-71.989123</td>\n",
       "    </tr>\n",
       "    <tr>\n",
       "      <th>...</th>\n",
       "      <td>...</td>\n",
       "      <td>...</td>\n",
       "      <td>...</td>\n",
       "      <td>...</td>\n",
       "      <td>...</td>\n",
       "      <td>...</td>\n",
       "      <td>...</td>\n",
       "      <td>...</td>\n",
       "      <td>...</td>\n",
       "      <td>...</td>\n",
       "      <td>...</td>\n",
       "      <td>...</td>\n",
       "    </tr>\n",
       "    <tr>\n",
       "      <th>33</th>\n",
       "      <td>207.0</td>\n",
       "      <td>77015.763522</td>\n",
       "      <td>81027.918376</td>\n",
       "      <td>95.048429</td>\n",
       "      <td>95.048429</td>\n",
       "      <td>90.031020</td>\n",
       "      <td>50–100</td>\n",
       "      <td>77015.763522</td>\n",
       "      <td>81027.918376</td>\n",
       "      <td>-4012.154854</td>\n",
       "      <td>90.031020</td>\n",
       "      <td>-4.951571</td>\n",
       "    </tr>\n",
       "    <tr>\n",
       "      <th>36</th>\n",
       "      <td>221.0</td>\n",
       "      <td>79630.957788</td>\n",
       "      <td>87077.219631</td>\n",
       "      <td>91.448668</td>\n",
       "      <td>91.448668</td>\n",
       "      <td>96.752466</td>\n",
       "      <td>50–100</td>\n",
       "      <td>79630.957788</td>\n",
       "      <td>87077.219631</td>\n",
       "      <td>-7446.261843</td>\n",
       "      <td>96.752466</td>\n",
       "      <td>-8.551332</td>\n",
       "    </tr>\n",
       "    <tr>\n",
       "      <th>65</th>\n",
       "      <td>367.0</td>\n",
       "      <td>84995.268306</td>\n",
       "      <td>94886.780436</td>\n",
       "      <td>89.575458</td>\n",
       "      <td>89.575457</td>\n",
       "      <td>105.429756</td>\n",
       "      <td>100–500</td>\n",
       "      <td>84995.268306</td>\n",
       "      <td>94886.780436</td>\n",
       "      <td>-9891.512130</td>\n",
       "      <td>105.429756</td>\n",
       "      <td>-10.424542</td>\n",
       "    </tr>\n",
       "    <tr>\n",
       "      <th>41</th>\n",
       "      <td>245.0</td>\n",
       "      <td>54934.157780</td>\n",
       "      <td>106622.284269</td>\n",
       "      <td>51.522211</td>\n",
       "      <td>51.522211</td>\n",
       "      <td>118.469205</td>\n",
       "      <td>100–500</td>\n",
       "      <td>54934.157780</td>\n",
       "      <td>106622.284269</td>\n",
       "      <td>-51688.126489</td>\n",
       "      <td>118.469205</td>\n",
       "      <td>-48.477789</td>\n",
       "    </tr>\n",
       "    <tr>\n",
       "      <th>67</th>\n",
       "      <td>377.0</td>\n",
       "      <td>89226.988320</td>\n",
       "      <td>113473.964177</td>\n",
       "      <td>78.632124</td>\n",
       "      <td>78.632124</td>\n",
       "      <td>126.082182</td>\n",
       "      <td>100–500</td>\n",
       "      <td>89226.988320</td>\n",
       "      <td>113473.964177</td>\n",
       "      <td>-24246.975857</td>\n",
       "      <td>126.082182</td>\n",
       "      <td>-21.367876</td>\n",
       "    </tr>\n",
       "  </tbody>\n",
       "</table>\n",
       "<p>78 rows × 12 columns</p>\n",
       "</div>"
      ],
      "text/plain": [
       "    lake_id  area_detected_lake_m²     area_inrae  surface_covered_ratio  \\\n",
       "76   2253.0             540.133464    1128.012572              47.883639   \n",
       "74   1611.0             156.776521    1938.237046               8.088614   \n",
       "43    248.0            1105.410797    2103.159011              52.559545   \n",
       "72   1249.0             959.499164    2544.469115              37.709208   \n",
       "55    330.0             828.968582    2959.452475              28.010877   \n",
       "..      ...                    ...            ...                    ...   \n",
       "33    207.0           77015.763522   81027.918376              95.048429   \n",
       "36    221.0           79630.957788   87077.219631              91.448668   \n",
       "65    367.0           84995.268306   94886.780436              89.575458   \n",
       "41    245.0           54934.157780  106622.284269              51.522211   \n",
       "67    377.0           89226.988320  113473.964177              78.632124   \n",
       "\n",
       "    real_surface_covered_ratio_clipped  landsat_pixels pixel_bin  \\\n",
       "76                           47.883639        1.253347       1–2   \n",
       "74                            8.088614        2.153597       2–4   \n",
       "43                           52.559545        2.336843       2–4   \n",
       "72                           37.709208        2.827188       2–4   \n",
       "55                           28.010877        3.288281       2–4   \n",
       "..                                 ...             ...       ...   \n",
       "33                           95.048429       90.031020    50–100   \n",
       "36                           91.448668       96.752466    50–100   \n",
       "65                           89.575457      105.429756   100–500   \n",
       "41                           51.522211      118.469205   100–500   \n",
       "67                           78.632124      126.082182   100–500   \n",
       "\n",
       "    area_m2_classif  area_m2_inrae  surface_diff_m2  area_pixels_landsat  \\\n",
       "76       540.133464    1128.012572      -587.879109             1.253347   \n",
       "74       156.776521    1938.237046     -1781.460524             2.153597   \n",
       "43      1105.410797    2103.159011      -997.748214             2.336843   \n",
       "72       959.499164    2544.469115     -1584.969952             2.827188   \n",
       "55       828.968582    2959.452475     -2130.483893             3.288281   \n",
       "..              ...            ...              ...                  ...   \n",
       "33     77015.763522   81027.918376     -4012.154854            90.031020   \n",
       "36     79630.957788   87077.219631     -7446.261843            96.752466   \n",
       "65     84995.268306   94886.780436     -9891.512130           105.429756   \n",
       "41     54934.157780  106622.284269    -51688.126489           118.469205   \n",
       "67     89226.988320  113473.964177    -24246.975857           126.082182   \n",
       "\n",
       "    surface_diff_percent  \n",
       "76            -52.116361  \n",
       "74            -91.911386  \n",
       "43            -47.440455  \n",
       "72            -62.290792  \n",
       "55            -71.989123  \n",
       "..                   ...  \n",
       "33             -4.951571  \n",
       "36             -8.551332  \n",
       "65            -10.424542  \n",
       "41            -48.477789  \n",
       "67            -21.367876  \n",
       "\n",
       "[78 rows x 12 columns]"
      ]
     },
     "execution_count": 176,
     "metadata": {},
     "output_type": "execute_result"
    }
   ],
   "source": [
    "df_surface_ratio.sort_values(by='area_inrae')"
   ]
  },
  {
   "cell_type": "code",
   "execution_count": 179,
   "id": "eb07bf9a-f5f8-4d82-a8fc-eefef1a2921e",
   "metadata": {},
   "outputs": [
    {
     "data": {
      "text/html": [
       "\n",
       "            <style>\n",
       "                .geemap-dark {\n",
       "                    --jp-widgets-color: white;\n",
       "                    --jp-widgets-label-color: white;\n",
       "                    --jp-ui-font-color1: white;\n",
       "                    --jp-layout-color2: #454545;\n",
       "                    background-color: #383838;\n",
       "                }\n",
       "\n",
       "                .geemap-dark .jupyter-button {\n",
       "                    --jp-layout-color3: #383838;\n",
       "                }\n",
       "\n",
       "                .geemap-colab {\n",
       "                    background-color: var(--colab-primary-surface-color, white);\n",
       "                }\n",
       "\n",
       "                .geemap-colab .jupyter-button {\n",
       "                    --jp-layout-color3: var(--colab-primary-surface-color, white);\n",
       "                }\n",
       "            </style>\n",
       "            "
      ],
      "text/plain": [
       "<IPython.core.display.HTML object>"
      ]
     },
     "metadata": {},
     "output_type": "display_data"
    },
    {
     "data": {
      "text/html": [
       "<div>\n",
       "<style scoped>\n",
       "    .dataframe tbody tr th:only-of-type {\n",
       "        vertical-align: middle;\n",
       "    }\n",
       "\n",
       "    .dataframe tbody tr th {\n",
       "        vertical-align: top;\n",
       "    }\n",
       "\n",
       "    .dataframe thead th {\n",
       "        text-align: right;\n",
       "    }\n",
       "</style>\n",
       "<table border=\"1\" class=\"dataframe\">\n",
       "  <thead>\n",
       "    <tr style=\"text-align: right;\">\n",
       "      <th></th>\n",
       "      <th>pixel_bin</th>\n",
       "      <th>sum_area_inrae</th>\n",
       "      <th>sum_area_detected</th>\n",
       "      <th>weighted_avg_surface_covered_ratio</th>\n",
       "    </tr>\n",
       "  </thead>\n",
       "  <tbody>\n",
       "    <tr>\n",
       "      <th>0</th>\n",
       "      <td>1–2</td>\n",
       "      <td>0.001128</td>\n",
       "      <td>0.000540</td>\n",
       "      <td>47.883639</td>\n",
       "    </tr>\n",
       "    <tr>\n",
       "      <th>1</th>\n",
       "      <td>2–4</td>\n",
       "      <td>0.022709</td>\n",
       "      <td>0.006866</td>\n",
       "      <td>30.235935</td>\n",
       "    </tr>\n",
       "    <tr>\n",
       "      <th>2</th>\n",
       "      <td>4–10</td>\n",
       "      <td>0.135632</td>\n",
       "      <td>0.046957</td>\n",
       "      <td>34.620776</td>\n",
       "    </tr>\n",
       "    <tr>\n",
       "      <th>3</th>\n",
       "      <td>10–50</td>\n",
       "      <td>0.674240</td>\n",
       "      <td>0.372487</td>\n",
       "      <td>55.245387</td>\n",
       "    </tr>\n",
       "    <tr>\n",
       "      <th>4</th>\n",
       "      <td>50–100</td>\n",
       "      <td>0.856604</td>\n",
       "      <td>0.708503</td>\n",
       "      <td>82.710649</td>\n",
       "    </tr>\n",
       "    <tr>\n",
       "      <th>5</th>\n",
       "      <td>100–500</td>\n",
       "      <td>0.314983</td>\n",
       "      <td>0.229156</td>\n",
       "      <td>72.751988</td>\n",
       "    </tr>\n",
       "  </tbody>\n",
       "</table>\n",
       "</div>"
      ],
      "text/plain": [
       "  pixel_bin  sum_area_inrae  sum_area_detected  \\\n",
       "0       1–2        0.001128           0.000540   \n",
       "1       2–4        0.022709           0.006866   \n",
       "2      4–10        0.135632           0.046957   \n",
       "3     10–50        0.674240           0.372487   \n",
       "4    50–100        0.856604           0.708503   \n",
       "5   100–500        0.314983           0.229156   \n",
       "\n",
       "   weighted_avg_surface_covered_ratio  \n",
       "0                           47.883639  \n",
       "1                           30.235935  \n",
       "2                           34.620776  \n",
       "3                           55.245387  \n",
       "4                           82.710649  \n",
       "5                           72.751988  "
      ]
     },
     "execution_count": 179,
     "metadata": {},
     "output_type": "execute_result"
    }
   ],
   "source": [
    "grouped"
   ]
  },
  {
   "cell_type": "code",
   "execution_count": 181,
   "id": "166c2140-0c62-4e35-9c57-8ea61fd26d12",
   "metadata": {},
   "outputs": [
    {
     "data": {
      "text/html": [
       "\n",
       "            <style>\n",
       "                .geemap-dark {\n",
       "                    --jp-widgets-color: white;\n",
       "                    --jp-widgets-label-color: white;\n",
       "                    --jp-ui-font-color1: white;\n",
       "                    --jp-layout-color2: #454545;\n",
       "                    background-color: #383838;\n",
       "                }\n",
       "\n",
       "                .geemap-dark .jupyter-button {\n",
       "                    --jp-layout-color3: #383838;\n",
       "                }\n",
       "\n",
       "                .geemap-colab {\n",
       "                    background-color: var(--colab-primary-surface-color, white);\n",
       "                }\n",
       "\n",
       "                .geemap-colab .jupyter-button {\n",
       "                    --jp-layout-color3: var(--colab-primary-surface-color, white);\n",
       "                }\n",
       "            </style>\n",
       "            "
      ],
      "text/plain": [
       "<IPython.core.display.HTML object>"
      ]
     },
     "metadata": {},
     "output_type": "display_data"
    },
    {
     "name": "stderr",
     "output_type": "stream",
     "text": [
      "C:\\Users\\ronir\\AppData\\Local\\Temp\\ipykernel_29432\\2279320959.py:22: DeprecationWarning: DataFrameGroupBy.apply operated on the grouping columns. This behavior is deprecated, and in a future version of pandas the grouping columns will be excluded from the operation. Either pass `include_groups=False` to exclude the groupings or explicitly select the grouping columns after groupby to silence this warning.\n",
      "  grouped = df_surface_ratio.groupby('pixel_bin', observed=True).apply(compute_group_stats).reset_index()\n",
      "C:\\Users\\ronir\\anaconda3\\envs\\gee\\Lib\\site-packages\\geopandas\\geodataframe.py:1819: SettingWithCopyWarning: \n",
      "A value is trying to be set on a copy of a slice from a DataFrame.\n",
      "Try using .loc[row_indexer,col_indexer] = value instead\n",
      "\n",
      "See the caveats in the documentation: https://pandas.pydata.org/pandas-docs/stable/user_guide/indexing.html#returning-a-view-versus-a-copy\n",
      "  super().__setitem__(key, value)\n",
      "C:\\Users\\ronir\\anaconda3\\envs\\gee\\Lib\\site-packages\\geopandas\\geodataframe.py:1819: SettingWithCopyWarning: \n",
      "A value is trying to be set on a copy of a slice from a DataFrame.\n",
      "Try using .loc[row_indexer,col_indexer] = value instead\n",
      "\n",
      "See the caveats in the documentation: https://pandas.pydata.org/pandas-docs/stable/user_guide/indexing.html#returning-a-view-versus-a-copy\n",
      "  super().__setitem__(key, value)\n",
      "C:\\Users\\ronir\\anaconda3\\envs\\gee\\Lib\\site-packages\\geopandas\\geodataframe.py:1819: SettingWithCopyWarning: \n",
      "A value is trying to be set on a copy of a slice from a DataFrame.\n",
      "Try using .loc[row_indexer,col_indexer] = value instead\n",
      "\n",
      "See the caveats in the documentation: https://pandas.pydata.org/pandas-docs/stable/user_guide/indexing.html#returning-a-view-versus-a-copy\n",
      "  super().__setitem__(key, value)\n"
     ]
    },
    {
     "data": {
      "image/png": "[encoded data removed]",
      "text/plain": [
       "<Figure size 1200x1200 with 2 Axes>"
      ]
     },
     "metadata": {},
     "output_type": "display_data"
    },
    {
     "name": "stdout",
     "output_type": "stream",
     "text": [
      "Moyenne pondérée globale de surface couverte : 68.0 %\n",
      "\n",
      "--- Résumé global affiché ---\n",
      "Total INRAE surface: 2.01 km² | Total detected surface: 1.36 km² | Avg detected ratio: 68.0 %\n",
      "Lakes detected: 79 | Lakes not detected: 121\n",
      "pixel_bin\n",
      "1–2         2\n",
      "2–4         8\n",
      "4–10       23\n",
      "10–50      31\n",
      "50–100     12\n",
      "100–500     3\n",
      "Name: count, dtype: int64\n"
     ]
    }
   ],
   "source": [
    "import numpy as np\n",
    "import pandas as pd\n",
    "import matplotlib.pyplot as plt\n",
    "\n",
    "# === PRÉPARATION DES DONNÉES POUR LE GRAPHE SURFACES ===\n",
    "df_surface_ratio['surface_covered_ratio'] = (\n",
    "    df_surface_ratio['area_detected_lake_m²'] / df_surface_ratio['area_inrae']\n",
    ") * 100\n",
    "\n",
    "def compute_group_stats(x):\n",
    "    sum_area_inrae = x['area_inrae'].sum()\n",
    "    weighted_ratio = (\n",
    "        (x['surface_covered_ratio'] * x['area_inrae']).sum() / sum_area_inrae\n",
    "        if sum_area_inrae > 0 else np.nan\n",
    "    )\n",
    "    return pd.Series({\n",
    "        'sum_area_inrae': sum_area_inrae,\n",
    "        'sum_area_detected': x['area_detected_lake_m²'].sum(),\n",
    "        'weighted_avg_surface_covered_ratio': weighted_ratio\n",
    "    })\n",
    "\n",
    "grouped = df_surface_ratio.groupby('pixel_bin', observed=True).apply(compute_group_stats).reset_index()\n",
    "\n",
    "# On retire la classe <1 pour le graphe de surface\n",
    "grouped = grouped[grouped['pixel_bin'] != '<1']\n",
    "\n",
    "# Conversion en km²\n",
    "grouped['sum_area_inrae'] /= 1e6\n",
    "grouped['sum_area_detected'] /= 1e6\n",
    "total_inrae = grouped['sum_area_inrae'].sum()\n",
    "total_detected_surface = grouped['sum_area_detected'].sum()\n",
    "global_ratio = (total_detected_surface / total_inrae) * 100\n",
    "\n",
    "# === PRÉPARATION DES DONNÉES POUR LE GRAPHE DE COMPTAGE ===\n",
    "bins = [0, 1, 2, 4, 10, 50, 100, 500, 1000, float('inf')]\n",
    "labels = ['<1', '1–2', '2–4', '4–10', '10–50', '50–100', '100–500', '500–1k', '>1k']\n",
    "\n",
    "for df in [lake_detected_2022_inrae, lake_not_detected_2022_inrae, lake_inrae_clean_filtered]:\n",
    "    df['landsat_pixels'] = df.geometry.area / 900\n",
    "    df['pixel_bin'] = pd.cut(df['landsat_pixels'], bins=bins, labels=labels, right=False)\n",
    "\n",
    "# On retire la classe <1 ici aussi\n",
    "filtered_labels = ['1–2', '2–4', '4–10', '10–50', '50–100', '100–500']\n",
    "\n",
    "detected_counts = lake_detected_2022_inrae['pixel_bin'].value_counts().sort_index().loc[filtered_labels]\n",
    "not_detected_counts = lake_not_detected_2022_inrae['pixel_bin'].value_counts().sort_index().loc[filtered_labels]\n",
    "total_counts = detected_counts.add(not_detected_counts, fill_value=0).astype(int)\n",
    "total_detected = int(detected_counts.sum())\n",
    "total_not_detected = int(not_detected_counts.sum())\n",
    "\n",
    "# === PLOT COMBINÉ AVEC ORDRE INVERSÉ ===\n",
    "fig, axes = plt.subplots(2, 1, figsize=(12, 12), sharex=False)\n",
    "\n",
    "# === GRAPHE 1 (EN HAUT) : NOMBRE DE LACS ===\n",
    "ax1 = axes[0]\n",
    "x1 = np.arange(len(filtered_labels))\n",
    "bar_width = 0.6\n",
    "\n",
    "ax1.bar(x1, not_detected_counts, width=bar_width, color='lightgray', edgecolor='black')\n",
    "ax1.bar(x1, detected_counts, width=bar_width, bottom=not_detected_counts, color='tomato', edgecolor='black')\n",
    "\n",
    "for i, label in enumerate(filtered_labels):\n",
    "    total = total_counts[label]\n",
    "    detected = detected_counts.get(label, 0)\n",
    "    if total > 0:\n",
    "        percent = round(100 * detected / total)\n",
    "        ax1.text(i, not_detected_counts.get(label, 0) + detected / 2,\n",
    "                 f\"{percent:.1f}%\", ha='center', va='center', fontsize=13, color='white', fontweight='bold')\n",
    "    ax1.text(i, total + 2, str(total), ha='center', va='bottom', fontsize=13,  fontweight='bold')\n",
    "\n",
    "ax1.set_xticks(x2)\n",
    "ax1.set_xticklabels(filtered_labels, rotation=45, fontsize=16)\n",
    "ax1.set_ylabel(\"Number of INRAE lakes\", fontsize=18)\n",
    "#ax1.set_title(\"Detected vs Not Detected Lakes (INRAE)\", fontsize=20, fontweight='bold')\n",
    "ax1.tick_params(axis='y', labelsize=16)\n",
    "ax1.grid(axis='y', linestyle='--', alpha=0.7)\n",
    "ax1.set_ylim(0, total_counts.max() * 1.2)\n",
    "\n",
    "# === GRAPHE 2 (EN BAS) : SURFACE ===\n",
    "ax2 = axes[1]\n",
    "x2 = np.arange(len(grouped))\n",
    "width = 0.35\n",
    "\n",
    "ax2.bar(x2 - width/2, grouped['sum_area_inrae'], width=width, color='lightgray', edgecolor='black')\n",
    "ax2.bar(x2 + width/2, grouped['sum_area_detected'], width=width, color='tomato', edgecolor='black')\n",
    "\n",
    "ax2.set_ylabel('Lake surface (km²)', fontsize=18)\n",
    "#ax2.set_title('INRAE vs Detected Surface per Size Class', fontsize=20, fontweight='bold')\n",
    "ax2.set_xticks(x2)\n",
    "ax2.set_xticklabels(grouped['pixel_bin'], rotation=45, fontsize=16)\n",
    "ax2.tick_params(axis='y', labelsize=16)\n",
    "ax2.grid(axis='y', linestyle='--', alpha=0.7)\n",
    "\n",
    "for i, (x_pos, det, pct) in enumerate(zip(x2, grouped['sum_area_detected'], grouped['weighted_avg_surface_covered_ratio'])):\n",
    "    if pd.notna(pct) and np.isfinite(pct):\n",
    "        y_pos = det + max(det * 0.02, 0.005)\n",
    "        ax2.text(x_pos + width/2 + 0.02, y_pos, f'{pct:.1f}%', ha='center', va='bottom', fontsize=13, fontweight='bold')\n",
    "# Afficher le nombre de lacs détectés au-dessus des barres rouges du bas\n",
    "# for i, x_pos in enumerate(x2):\n",
    "#     bin_label = grouped['pixel_bin'].iloc[i]\n",
    "#     lake_count = detected_counts.get(bin_label, 0)\n",
    "#     det = grouped['sum_area_detected'].iloc[i]\n",
    "#     ax2.text(x_pos + width/2, det +0.09 + max(det * 0.07, 0.01),\n",
    "#              f\"{lake_count}\", ha='center', va='bottom',\n",
    "#              fontsize=13, fontweight='bold', color='black')\n",
    "# # === INFOS ENCADRÉES ===\n",
    "# info_lakes = f'Lakes detected: {total_detected}\\nLakes not detected: {total_not_detected}'\n",
    "# fig.text(0.72, 0.74, info_lakes, fontsize=12, bbox=dict(boxstyle='round', facecolor='whitesmoke', edgecolor='gray'))\n",
    "\n",
    "# info_surface = (\n",
    "#     f\"Total INRAE surface: {total_inrae:.2f} km²\\n\"\n",
    "#     f\"Total detected surface: {total_detected_surface:.2f} km²\\n\"\n",
    "#     f\"Avg detected ratio: {global_ratio:.1f} %\"\n",
    "# )\n",
    "# fig.text(0.02, 0.03, info_surface, fontsize=12, bbox=dict(boxstyle='round', facecolor='white', edgecolor='gray'))\n",
    "\n",
    "# === AFFICHAGE + EXPORT ===\n",
    "plt.tight_layout(rect=[0, 0, 1, 0.97])\n",
    "#plt.savefig('C:/Users/ronir/Desktop/Stage_Carrtel_2025/Figure_def/INRAE_surface_and_number_v3.png', dpi=300)\n",
    "plt.show()\n",
    "\n",
    "weighted_global_ratio = (\n",
    "    (df_surface_ratio['surface_covered_ratio'] * df_surface_ratio['area_inrae']).sum() /\n",
    "    df_surface_ratio['area_inrae'].sum()\n",
    ")\n",
    "print(f\"Moyenne pondérée globale de surface couverte : {weighted_global_ratio:.1f} %\")\n",
    "\n",
    "# === PRINT DES INFOS RÉELLEMENT AFFICHÉES ===\n",
    "print(\"\\n--- Résumé global affiché ---\")\n",
    "print(info_surface.replace('\\n', ' | '))\n",
    "print(info_lakes.replace('\\n', ' | '))\n",
    "print(detected_counts)"
   ]
  },
  {
   "cell_type": "markdown",
   "id": "1f0b756e-75be-414f-bc62-9aa8e363cc15",
   "metadata": {},
   "source": [
    "## Calculating Surface in and out of classification\n"
   ]
  },
  {
   "cell_type": "markdown",
   "id": "d520db6b-66f3-4607-858a-77346957e1ab",
   "metadata": {},
   "source": [
    "dissolving by lake id"
   ]
  },
  {
   "cell_type": "code",
   "execution_count": 81,
   "id": "17f1cb35-dadf-430c-b4cd-d8dd0177f526",
   "metadata": {},
   "outputs": [
    {
     "data": {
      "text/html": [
       "\n",
       "            <style>\n",
       "                .geemap-dark {\n",
       "                    --jp-widgets-color: white;\n",
       "                    --jp-widgets-label-color: white;\n",
       "                    --jp-ui-font-color1: white;\n",
       "                    --jp-layout-color2: #454545;\n",
       "                    background-color: #383838;\n",
       "                }\n",
       "\n",
       "                .geemap-dark .jupyter-button {\n",
       "                    --jp-layout-color3: #383838;\n",
       "                }\n",
       "\n",
       "                .geemap-colab {\n",
       "                    background-color: var(--colab-primary-surface-color, white);\n",
       "                }\n",
       "\n",
       "                .geemap-colab .jupyter-button {\n",
       "                    --jp-layout-color3: var(--colab-primary-surface-color, white);\n",
       "                }\n",
       "            </style>\n",
       "            "
      ],
      "text/plain": [
       "<IPython.core.display.HTML object>"
      ]
     },
     "metadata": {},
     "output_type": "display_data"
    }
   ],
   "source": [
    "lake_classif_to_validate_diss = lake_classif_to_validate.dissolve(by='lake_id')"
   ]
  },
  {
   "cell_type": "markdown",
   "id": "1f584847-564b-448f-b8cc-db66525e461d",
   "metadata": {},
   "source": [
    "recalculating area"
   ]
  },
  {
   "cell_type": "code",
   "execution_count": 82,
   "id": "90b9aa32-58d8-4de9-852e-72b6fa828321",
   "metadata": {},
   "outputs": [
    {
     "data": {
      "text/html": [
       "\n",
       "            <style>\n",
       "                .geemap-dark {\n",
       "                    --jp-widgets-color: white;\n",
       "                    --jp-widgets-label-color: white;\n",
       "                    --jp-ui-font-color1: white;\n",
       "                    --jp-layout-color2: #454545;\n",
       "                    background-color: #383838;\n",
       "                }\n",
       "\n",
       "                .geemap-dark .jupyter-button {\n",
       "                    --jp-layout-color3: #383838;\n",
       "                }\n",
       "\n",
       "                .geemap-colab {\n",
       "                    background-color: var(--colab-primary-surface-color, white);\n",
       "                }\n",
       "\n",
       "                .geemap-colab .jupyter-button {\n",
       "                    --jp-layout-color3: var(--colab-primary-surface-color, white);\n",
       "                }\n",
       "            </style>\n",
       "            "
      ],
      "text/plain": [
       "<IPython.core.display.HTML object>"
      ]
     },
     "metadata": {},
     "output_type": "display_data"
    }
   ],
   "source": [
    "lake_classif_to_validate_diss['area_diss_lake_m²'] = lake_classif_to_validate_diss.geometry.area"
   ]
  },
  {
   "cell_type": "code",
   "execution_count": 83,
   "id": "4b955cfa-ae9d-409d-a503-0906c1d15bd8",
   "metadata": {},
   "outputs": [
    {
     "data": {
      "text/html": [
       "\n",
       "            <style>\n",
       "                .geemap-dark {\n",
       "                    --jp-widgets-color: white;\n",
       "                    --jp-widgets-label-color: white;\n",
       "                    --jp-ui-font-color1: white;\n",
       "                    --jp-layout-color2: #454545;\n",
       "                    background-color: #383838;\n",
       "                }\n",
       "\n",
       "                .geemap-dark .jupyter-button {\n",
       "                    --jp-layout-color3: #383838;\n",
       "                }\n",
       "\n",
       "                .geemap-colab {\n",
       "                    background-color: var(--colab-primary-surface-color, white);\n",
       "                }\n",
       "\n",
       "                .geemap-colab .jupyter-button {\n",
       "                    --jp-layout-color3: var(--colab-primary-surface-color, white);\n",
       "                }\n",
       "            </style>\n",
       "            "
      ],
      "text/plain": [
       "<IPython.core.display.HTML object>"
      ]
     },
     "metadata": {},
     "output_type": "display_data"
    }
   ],
   "source": [
    "lake_classif_to_validate_diss = lake_classif_to_validate_diss.drop(columns='area_m2')"
   ]
  },
  {
   "cell_type": "code",
   "execution_count": 84,
   "id": "636a0dc7-708b-487f-a648-e235200926af",
   "metadata": {},
   "outputs": [
    {
     "data": {
      "text/html": [
       "\n",
       "            <style>\n",
       "                .geemap-dark {\n",
       "                    --jp-widgets-color: white;\n",
       "                    --jp-widgets-label-color: white;\n",
       "                    --jp-ui-font-color1: white;\n",
       "                    --jp-layout-color2: #454545;\n",
       "                    background-color: #383838;\n",
       "                }\n",
       "\n",
       "                .geemap-dark .jupyter-button {\n",
       "                    --jp-layout-color3: #383838;\n",
       "                }\n",
       "\n",
       "                .geemap-colab {\n",
       "                    background-color: var(--colab-primary-surface-color, white);\n",
       "                }\n",
       "\n",
       "                .geemap-colab .jupyter-button {\n",
       "                    --jp-layout-color3: var(--colab-primary-surface-color, white);\n",
       "                }\n",
       "            </style>\n",
       "            "
      ],
      "text/plain": [
       "<IPython.core.display.HTML object>"
      ]
     },
     "metadata": {},
     "output_type": "display_data"
    }
   ],
   "source": [
    "surface_in_inrae = lake_classif_to_validate_diss[['geometry']].clip(lake_detected_2022_inrae)"
   ]
  },
  {
   "cell_type": "code",
   "execution_count": 85,
   "id": "32afcfeb-20af-4fe4-8cba-376e5a7b4520",
   "metadata": {},
   "outputs": [
    {
     "data": {
      "text/html": [
       "\n",
       "            <style>\n",
       "                .geemap-dark {\n",
       "                    --jp-widgets-color: white;\n",
       "                    --jp-widgets-label-color: white;\n",
       "                    --jp-ui-font-color1: white;\n",
       "                    --jp-layout-color2: #454545;\n",
       "                    background-color: #383838;\n",
       "                }\n",
       "\n",
       "                .geemap-dark .jupyter-button {\n",
       "                    --jp-layout-color3: #383838;\n",
       "                }\n",
       "\n",
       "                .geemap-colab {\n",
       "                    background-color: var(--colab-primary-surface-color, white);\n",
       "                }\n",
       "\n",
       "                .geemap-colab .jupyter-button {\n",
       "                    --jp-layout-color3: var(--colab-primary-surface-color, white);\n",
       "                }\n",
       "            </style>\n",
       "            "
      ],
      "text/plain": [
       "<IPython.core.display.HTML object>"
      ]
     },
     "metadata": {},
     "output_type": "display_data"
    },
    {
     "name": "stderr",
     "output_type": "stream",
     "text": [
      "C:\\Users\\ronir\\AppData\\Local\\Temp\\ipykernel_29432\\2216101240.py:1: UserWarning: The indices of the left and right GeoSeries' are not equal, and therefore they will be aligned (reordering and/or introducing missing values) before executing the operation. If this alignment is the desired behaviour, you can silence this warning by passing 'align=True'. If you don't want alignment and protect yourself of accidentally aligning, you can pass 'align=False'.\n",
      "  surface_not_in_inrae = lake_classif_to_validate_diss.difference(lake_detected_2022_inrae)\n"
     ]
    }
   ],
   "source": [
    "surface_not_in_inrae = lake_classif_to_validate_diss.difference(lake_detected_2022_inrae)"
   ]
  },
  {
   "cell_type": "code",
   "execution_count": null,
   "id": "3aeeccc4-c525-4d0e-8246-2ae18a038b0b",
   "metadata": {},
   "outputs": [],
   "source": []
  },
  {
   "cell_type": "code",
   "execution_count": 86,
   "id": "5617f5dc-acac-4bc0-8eb1-0eb8c7172102",
   "metadata": {},
   "outputs": [
    {
     "data": {
      "text/html": [
       "\n",
       "            <style>\n",
       "                .geemap-dark {\n",
       "                    --jp-widgets-color: white;\n",
       "                    --jp-widgets-label-color: white;\n",
       "                    --jp-ui-font-color1: white;\n",
       "                    --jp-layout-color2: #454545;\n",
       "                    background-color: #383838;\n",
       "                }\n",
       "\n",
       "                .geemap-dark .jupyter-button {\n",
       "                    --jp-layout-color3: #383838;\n",
       "                }\n",
       "\n",
       "                .geemap-colab {\n",
       "                    background-color: var(--colab-primary-surface-color, white);\n",
       "                }\n",
       "\n",
       "                .geemap-colab .jupyter-button {\n",
       "                    --jp-layout-color3: var(--colab-primary-surface-color, white);\n",
       "                }\n",
       "            </style>\n",
       "            "
      ],
      "text/plain": [
       "<IPython.core.display.HTML object>"
      ]
     },
     "metadata": {},
     "output_type": "display_data"
    },
    {
     "data": {
      "text/plain": [
       "np.float64(0.2258642752521944)"
      ]
     },
     "execution_count": 86,
     "metadata": {},
     "output_type": "execute_result"
    }
   ],
   "source": [
    "surface_not_in_inrae.geometry.area.sum()*1e-6"
   ]
  },
  {
   "cell_type": "code",
   "execution_count": 87,
   "id": "5226b81c-2409-4f34-a198-6190c7140a1f",
   "metadata": {},
   "outputs": [
    {
     "data": {
      "text/html": [
       "\n",
       "            <style>\n",
       "                .geemap-dark {\n",
       "                    --jp-widgets-color: white;\n",
       "                    --jp-widgets-label-color: white;\n",
       "                    --jp-ui-font-color1: white;\n",
       "                    --jp-layout-color2: #454545;\n",
       "                    background-color: #383838;\n",
       "                }\n",
       "\n",
       "                .geemap-dark .jupyter-button {\n",
       "                    --jp-layout-color3: #383838;\n",
       "                }\n",
       "\n",
       "                .geemap-colab {\n",
       "                    background-color: var(--colab-primary-surface-color, white);\n",
       "                }\n",
       "\n",
       "                .geemap-colab .jupyter-button {\n",
       "                    --jp-layout-color3: var(--colab-primary-surface-color, white);\n",
       "                }\n",
       "            </style>\n",
       "            "
      ],
      "text/plain": [
       "<IPython.core.display.HTML object>"
      ]
     },
     "metadata": {},
     "output_type": "display_data"
    },
    {
     "data": {
      "text/plain": [
       "np.float64(1.364508685243822)"
      ]
     },
     "execution_count": 87,
     "metadata": {},
     "output_type": "execute_result"
    }
   ],
   "source": [
    "surface_in_inrae.geometry.area.sum()*1e-6"
   ]
  },
  {
   "cell_type": "code",
   "execution_count": 88,
   "id": "04521922-a15d-4da8-92df-12370cc90591",
   "metadata": {},
   "outputs": [
    {
     "data": {
      "text/html": [
       "\n",
       "            <style>\n",
       "                .geemap-dark {\n",
       "                    --jp-widgets-color: white;\n",
       "                    --jp-widgets-label-color: white;\n",
       "                    --jp-ui-font-color1: white;\n",
       "                    --jp-layout-color2: #454545;\n",
       "                    background-color: #383838;\n",
       "                }\n",
       "\n",
       "                .geemap-dark .jupyter-button {\n",
       "                    --jp-layout-color3: #383838;\n",
       "                }\n",
       "\n",
       "                .geemap-colab {\n",
       "                    background-color: var(--colab-primary-surface-color, white);\n",
       "                }\n",
       "\n",
       "                .geemap-colab .jupyter-button {\n",
       "                    --jp-layout-color3: var(--colab-primary-surface-color, white);\n",
       "                }\n",
       "            </style>\n",
       "            "
      ],
      "text/plain": [
       "<IPython.core.display.HTML object>"
      ]
     },
     "metadata": {},
     "output_type": "display_data"
    },
    {
     "data": {
      "text/plain": [
       "np.float64(99.99999951383182)"
      ]
     },
     "execution_count": 88,
     "metadata": {},
     "output_type": "execute_result"
    }
   ],
   "source": [
    "surface_in_inrae.geometry.area.sum()/lake_classif_to_validate.geometry.area.sum()*100"
   ]
  },
  {
   "cell_type": "code",
   "execution_count": 89,
   "id": "c6fe2d61-ef48-4546-b879-fdb7fa714687",
   "metadata": {},
   "outputs": [
    {
     "data": {
      "text/html": [
       "\n",
       "            <style>\n",
       "                .geemap-dark {\n",
       "                    --jp-widgets-color: white;\n",
       "                    --jp-widgets-label-color: white;\n",
       "                    --jp-ui-font-color1: white;\n",
       "                    --jp-layout-color2: #454545;\n",
       "                    background-color: #383838;\n",
       "                }\n",
       "\n",
       "                .geemap-dark .jupyter-button {\n",
       "                    --jp-layout-color3: #383838;\n",
       "                }\n",
       "\n",
       "                .geemap-colab {\n",
       "                    background-color: var(--colab-primary-surface-color, white);\n",
       "                }\n",
       "\n",
       "                .geemap-colab .jupyter-button {\n",
       "                    --jp-layout-color3: var(--colab-primary-surface-color, white);\n",
       "                }\n",
       "            </style>\n",
       "            "
      ],
      "text/plain": [
       "<IPython.core.display.HTML object>"
      ]
     },
     "metadata": {},
     "output_type": "display_data"
    }
   ],
   "source": [
    "surface_in_inrae = surface_in_inrae.sort_values(by='lake_id')"
   ]
  },
  {
   "cell_type": "code",
   "execution_count": 90,
   "id": "2fe01dbf-9088-4b80-b51f-34812c0cf9d8",
   "metadata": {},
   "outputs": [
    {
     "data": {
      "text/html": [
       "\n",
       "            <style>\n",
       "                .geemap-dark {\n",
       "                    --jp-widgets-color: white;\n",
       "                    --jp-widgets-label-color: white;\n",
       "                    --jp-ui-font-color1: white;\n",
       "                    --jp-layout-color2: #454545;\n",
       "                    background-color: #383838;\n",
       "                }\n",
       "\n",
       "                .geemap-dark .jupyter-button {\n",
       "                    --jp-layout-color3: #383838;\n",
       "                }\n",
       "\n",
       "                .geemap-colab {\n",
       "                    background-color: var(--colab-primary-surface-color, white);\n",
       "                }\n",
       "\n",
       "                .geemap-colab .jupyter-button {\n",
       "                    --jp-layout-color3: var(--colab-primary-surface-color, white);\n",
       "                }\n",
       "            </style>\n",
       "            "
      ],
      "text/plain": [
       "<IPython.core.display.HTML object>"
      ]
     },
     "metadata": {},
     "output_type": "display_data"
    }
   ],
   "source": [
    "surface_in_inrae['area_m2'] = surface_in_inrae.geometry.area"
   ]
  },
  {
   "cell_type": "code",
   "execution_count": 91,
   "id": "f392fd99-a33d-49a7-a5fe-0d953b5fcb8d",
   "metadata": {},
   "outputs": [
    {
     "data": {
      "text/html": [
       "\n",
       "            <style>\n",
       "                .geemap-dark {\n",
       "                    --jp-widgets-color: white;\n",
       "                    --jp-widgets-label-color: white;\n",
       "                    --jp-ui-font-color1: white;\n",
       "                    --jp-layout-color2: #454545;\n",
       "                    background-color: #383838;\n",
       "                }\n",
       "\n",
       "                .geemap-dark .jupyter-button {\n",
       "                    --jp-layout-color3: #383838;\n",
       "                }\n",
       "\n",
       "                .geemap-colab {\n",
       "                    background-color: var(--colab-primary-surface-color, white);\n",
       "                }\n",
       "\n",
       "                .geemap-colab .jupyter-button {\n",
       "                    --jp-layout-color3: var(--colab-primary-surface-color, white);\n",
       "                }\n",
       "            </style>\n",
       "            "
      ],
      "text/plain": [
       "<IPython.core.display.HTML object>"
      ]
     },
     "metadata": {},
     "output_type": "display_data"
    }
   ],
   "source": [
    "surface_in_inrae = surface_in_inrae.reset_index()"
   ]
  },
  {
   "cell_type": "code",
   "execution_count": 92,
   "id": "93913eaf-0968-4f4b-847f-8914fea7a351",
   "metadata": {},
   "outputs": [
    {
     "data": {
      "text/html": [
       "\n",
       "            <style>\n",
       "                .geemap-dark {\n",
       "                    --jp-widgets-color: white;\n",
       "                    --jp-widgets-label-color: white;\n",
       "                    --jp-ui-font-color1: white;\n",
       "                    --jp-layout-color2: #454545;\n",
       "                    background-color: #383838;\n",
       "                }\n",
       "\n",
       "                .geemap-dark .jupyter-button {\n",
       "                    --jp-layout-color3: #383838;\n",
       "                }\n",
       "\n",
       "                .geemap-colab {\n",
       "                    background-color: var(--colab-primary-surface-color, white);\n",
       "                }\n",
       "\n",
       "                .geemap-colab .jupyter-button {\n",
       "                    --jp-layout-color3: var(--colab-primary-surface-color, white);\n",
       "                }\n",
       "            </style>\n",
       "            "
      ],
      "text/plain": [
       "<IPython.core.display.HTML object>"
      ]
     },
     "metadata": {},
     "output_type": "display_data"
    }
   ],
   "source": [
    "df_results['surface_classif_detected_in_inrae_km2'] = surface_in_inrae.geometry.area.sum()*1e-6"
   ]
  },
  {
   "cell_type": "code",
   "execution_count": 93,
   "id": "7db1bb11-83de-4d5a-b996-03481c3def0e",
   "metadata": {},
   "outputs": [
    {
     "data": {
      "text/html": [
       "\n",
       "            <style>\n",
       "                .geemap-dark {\n",
       "                    --jp-widgets-color: white;\n",
       "                    --jp-widgets-label-color: white;\n",
       "                    --jp-ui-font-color1: white;\n",
       "                    --jp-layout-color2: #454545;\n",
       "                    background-color: #383838;\n",
       "                }\n",
       "\n",
       "                .geemap-dark .jupyter-button {\n",
       "                    --jp-layout-color3: #383838;\n",
       "                }\n",
       "\n",
       "                .geemap-colab {\n",
       "                    background-color: var(--colab-primary-surface-color, white);\n",
       "                }\n",
       "\n",
       "                .geemap-colab .jupyter-button {\n",
       "                    --jp-layout-color3: var(--colab-primary-surface-color, white);\n",
       "                }\n",
       "            </style>\n",
       "            "
      ],
      "text/plain": [
       "<IPython.core.display.HTML object>"
      ]
     },
     "metadata": {},
     "output_type": "display_data"
    }
   ],
   "source": [
    "df_results['%_surface_correctely_detected_in_classif'] = (surface_in_inrae.geometry.area.sum()/lake_classif_to_validate.geometry.area.sum())*100 "
   ]
  },
  {
   "cell_type": "code",
   "execution_count": 94,
   "id": "e6ba8f22-f467-4ff9-b92b-0c7e5b1f9888",
   "metadata": {},
   "outputs": [
    {
     "data": {
      "text/html": [
       "\n",
       "            <style>\n",
       "                .geemap-dark {\n",
       "                    --jp-widgets-color: white;\n",
       "                    --jp-widgets-label-color: white;\n",
       "                    --jp-ui-font-color1: white;\n",
       "                    --jp-layout-color2: #454545;\n",
       "                    background-color: #383838;\n",
       "                }\n",
       "\n",
       "                .geemap-dark .jupyter-button {\n",
       "                    --jp-layout-color3: #383838;\n",
       "                }\n",
       "\n",
       "                .geemap-colab {\n",
       "                    background-color: var(--colab-primary-surface-color, white);\n",
       "                }\n",
       "\n",
       "                .geemap-colab .jupyter-button {\n",
       "                    --jp-layout-color3: var(--colab-primary-surface-color, white);\n",
       "                }\n",
       "            </style>\n",
       "            "
      ],
      "text/plain": [
       "<IPython.core.display.HTML object>"
      ]
     },
     "metadata": {},
     "output_type": "display_data"
    }
   ],
   "source": [
    "df_results['%_surface_correctely_detected_in_classif_vs_detected_inrae'] = (surface_in_inrae.geometry.area.sum()/lake_detected_2022_inrae.geometry.area.sum())*100 "
   ]
  },
  {
   "cell_type": "code",
   "execution_count": 95,
   "id": "e06853e9-16ce-4039-9d3d-57b33d22f2c0",
   "metadata": {},
   "outputs": [
    {
     "data": {
      "text/html": [
       "\n",
       "            <style>\n",
       "                .geemap-dark {\n",
       "                    --jp-widgets-color: white;\n",
       "                    --jp-widgets-label-color: white;\n",
       "                    --jp-ui-font-color1: white;\n",
       "                    --jp-layout-color2: #454545;\n",
       "                    background-color: #383838;\n",
       "                }\n",
       "\n",
       "                .geemap-dark .jupyter-button {\n",
       "                    --jp-layout-color3: #383838;\n",
       "                }\n",
       "\n",
       "                .geemap-colab {\n",
       "                    background-color: var(--colab-primary-surface-color, white);\n",
       "                }\n",
       "\n",
       "                .geemap-colab .jupyter-button {\n",
       "                    --jp-layout-color3: var(--colab-primary-surface-color, white);\n",
       "                }\n",
       "            </style>\n",
       "            "
      ],
      "text/plain": [
       "<IPython.core.display.HTML object>"
      ]
     },
     "metadata": {},
     "output_type": "display_data"
    },
    {
     "data": {
      "text/html": [
       "<div>\n",
       "<style scoped>\n",
       "    .dataframe tbody tr th:only-of-type {\n",
       "        vertical-align: middle;\n",
       "    }\n",
       "\n",
       "    .dataframe tbody tr th {\n",
       "        vertical-align: top;\n",
       "    }\n",
       "\n",
       "    .dataframe thead th {\n",
       "        text-align: right;\n",
       "    }\n",
       "</style>\n",
       "<table border=\"1\" class=\"dataframe\">\n",
       "  <thead>\n",
       "    <tr style=\"text-align: right;\">\n",
       "      <th></th>\n",
       "      <th>0</th>\n",
       "    </tr>\n",
       "  </thead>\n",
       "  <tbody>\n",
       "    <tr>\n",
       "      <th>area_of_lakes_2022_inrae</th>\n",
       "      <td>2.362111</td>\n",
       "    </tr>\n",
       "    <tr>\n",
       "      <th>number_of_lakes_2022_inrea</th>\n",
       "      <td>200.000000</td>\n",
       "    </tr>\n",
       "    <tr>\n",
       "      <th>number_of_detected_lake_inrae</th>\n",
       "      <td>79.000000</td>\n",
       "    </tr>\n",
       "    <tr>\n",
       "      <th>number_of_not_detected_lake_inrae</th>\n",
       "      <td>121.000000</td>\n",
       "    </tr>\n",
       "    <tr>\n",
       "      <th>number_of_detected_lakes_2022</th>\n",
       "      <td>78.000000</td>\n",
       "    </tr>\n",
       "    <tr>\n",
       "      <th>number_of_artifacts_lakes_2022</th>\n",
       "      <td>0.000000</td>\n",
       "    </tr>\n",
       "    <tr>\n",
       "      <th>area_of_detected_lakes_2022</th>\n",
       "      <td>1.364509</td>\n",
       "    </tr>\n",
       "    <tr>\n",
       "      <th>detected_surface_ratio</th>\n",
       "      <td>57.766482</td>\n",
       "    </tr>\n",
       "    <tr>\n",
       "      <th>surface_classif_detected_in_inrae_km2</th>\n",
       "      <td>1.364509</td>\n",
       "    </tr>\n",
       "    <tr>\n",
       "      <th>%_surface_correctely_detected_in_classif</th>\n",
       "      <td>100.000000</td>\n",
       "    </tr>\n",
       "    <tr>\n",
       "      <th>%_surface_correctely_detected_in_classif_vs_detected_inrae</th>\n",
       "      <td>68.012243</td>\n",
       "    </tr>\n",
       "  </tbody>\n",
       "</table>\n",
       "</div>"
      ],
      "text/plain": [
       "                                                             0\n",
       "area_of_lakes_2022_inrae                              2.362111\n",
       "number_of_lakes_2022_inrea                          200.000000\n",
       "number_of_detected_lake_inrae                        79.000000\n",
       "number_of_not_detected_lake_inrae                   121.000000\n",
       "number_of_detected_lakes_2022                        78.000000\n",
       "number_of_artifacts_lakes_2022                        0.000000\n",
       "area_of_detected_lakes_2022                           1.364509\n",
       "detected_surface_ratio                               57.766482\n",
       "surface_classif_detected_in_inrae_km2                 1.364509\n",
       "%_surface_correctely_detected_in_classif            100.000000\n",
       "%_surface_correctely_detected_in_classif_vs_det...   68.012243"
      ]
     },
     "execution_count": 95,
     "metadata": {},
     "output_type": "execute_result"
    }
   ],
   "source": [
    "df_results.T"
   ]
  },
  {
   "cell_type": "markdown",
   "id": "02203df2-72b8-4d9c-92f1-75065dac53f3",
   "metadata": {},
   "source": [
    "## Calculating surface ratio for each lake vs size"
   ]
  },
  {
   "cell_type": "code",
   "execution_count": 96,
   "id": "2e8de1a5-5fa4-4380-af36-ecdafe18dea2",
   "metadata": {},
   "outputs": [
    {
     "data": {
      "text/html": [
       "\n",
       "            <style>\n",
       "                .geemap-dark {\n",
       "                    --jp-widgets-color: white;\n",
       "                    --jp-widgets-label-color: white;\n",
       "                    --jp-ui-font-color1: white;\n",
       "                    --jp-layout-color2: #454545;\n",
       "                    background-color: #383838;\n",
       "                }\n",
       "\n",
       "                .geemap-dark .jupyter-button {\n",
       "                    --jp-layout-color3: #383838;\n",
       "                }\n",
       "\n",
       "                .geemap-colab {\n",
       "                    background-color: var(--colab-primary-surface-color, white);\n",
       "                }\n",
       "\n",
       "                .geemap-colab .jupyter-button {\n",
       "                    --jp-layout-color3: var(--colab-primary-surface-color, white);\n",
       "                }\n",
       "            </style>\n",
       "            "
      ],
      "text/plain": [
       "<IPython.core.display.HTML object>"
      ]
     },
     "metadata": {},
     "output_type": "display_data"
    }
   ],
   "source": [
    "lake_classif_to_validate_diss = lake_classif_to_validate_diss.reset_index()"
   ]
  },
  {
   "cell_type": "code",
   "execution_count": 97,
   "id": "24ff5b0a-87af-4bb5-bdf5-585821f09c63",
   "metadata": {},
   "outputs": [
    {
     "data": {
      "text/html": [
       "\n",
       "            <style>\n",
       "                .geemap-dark {\n",
       "                    --jp-widgets-color: white;\n",
       "                    --jp-widgets-label-color: white;\n",
       "                    --jp-ui-font-color1: white;\n",
       "                    --jp-layout-color2: #454545;\n",
       "                    background-color: #383838;\n",
       "                }\n",
       "\n",
       "                .geemap-dark .jupyter-button {\n",
       "                    --jp-layout-color3: #383838;\n",
       "                }\n",
       "\n",
       "                .geemap-colab {\n",
       "                    background-color: var(--colab-primary-surface-color, white);\n",
       "                }\n",
       "\n",
       "                .geemap-colab .jupyter-button {\n",
       "                    --jp-layout-color3: var(--colab-primary-surface-color, white);\n",
       "                }\n",
       "            </style>\n",
       "            "
      ],
      "text/plain": [
       "<IPython.core.display.HTML object>"
      ]
     },
     "metadata": {},
     "output_type": "display_data"
    },
    {
     "data": {
      "text/html": [
       "<div>\n",
       "<style scoped>\n",
       "    .dataframe tbody tr th:only-of-type {\n",
       "        vertical-align: middle;\n",
       "    }\n",
       "\n",
       "    .dataframe tbody tr th {\n",
       "        vertical-align: top;\n",
       "    }\n",
       "\n",
       "    .dataframe thead th {\n",
       "        text-align: right;\n",
       "    }\n",
       "</style>\n",
       "<table border=\"1\" class=\"dataframe\">\n",
       "  <thead>\n",
       "    <tr style=\"text-align: right;\">\n",
       "      <th></th>\n",
       "      <th>lake_id</th>\n",
       "      <th>geometry</th>\n",
       "      <th>year</th>\n",
       "      <th>source</th>\n",
       "      <th>value</th>\n",
       "      <th>Time</th>\n",
       "      <th>area_diss_lake_m²</th>\n",
       "    </tr>\n",
       "  </thead>\n",
       "  <tbody>\n",
       "    <tr>\n",
       "      <th>0</th>\n",
       "      <td>13.0</td>\n",
       "      <td>POLYGON ((948869.603 6457292.386, 948869.785 6...</td>\n",
       "      <td>2022</td>\n",
       "      <td>water</td>\n",
       "      <td>2</td>\n",
       "      <td>2022-01-01</td>\n",
       "      <td>507.001860</td>\n",
       "    </tr>\n",
       "    <tr>\n",
       "      <th>1</th>\n",
       "      <td>14.0</td>\n",
       "      <td>POLYGON ((948783.784 6457318.895, 948784.984 6...</td>\n",
       "      <td>2022</td>\n",
       "      <td>water</td>\n",
       "      <td>2</td>\n",
       "      <td>2022-01-01</td>\n",
       "      <td>1078.087849</td>\n",
       "    </tr>\n",
       "    <tr>\n",
       "      <th>2</th>\n",
       "      <td>17.0</td>\n",
       "      <td>POLYGON ((945955.844 6451155.365, 945957.029 6...</td>\n",
       "      <td>2022</td>\n",
       "      <td>water</td>\n",
       "      <td>2</td>\n",
       "      <td>2022-01-01</td>\n",
       "      <td>8872.841283</td>\n",
       "    </tr>\n",
       "    <tr>\n",
       "      <th>3</th>\n",
       "      <td>19.0</td>\n",
       "      <td>POLYGON ((961989.117 6437671.724, 961993.149 6...</td>\n",
       "      <td>2022</td>\n",
       "      <td>water</td>\n",
       "      <td>2</td>\n",
       "      <td>2022-01-01</td>\n",
       "      <td>62592.812662</td>\n",
       "    </tr>\n",
       "    <tr>\n",
       "      <th>4</th>\n",
       "      <td>21.0</td>\n",
       "      <td>POLYGON ((957470.34 6437602.801, 957467.726 64...</td>\n",
       "      <td>2022</td>\n",
       "      <td>water</td>\n",
       "      <td>2</td>\n",
       "      <td>2022-01-01</td>\n",
       "      <td>4136.809516</td>\n",
       "    </tr>\n",
       "    <tr>\n",
       "      <th>...</th>\n",
       "      <td>...</td>\n",
       "      <td>...</td>\n",
       "      <td>...</td>\n",
       "      <td>...</td>\n",
       "      <td>...</td>\n",
       "      <td>...</td>\n",
       "      <td>...</td>\n",
       "    </tr>\n",
       "    <tr>\n",
       "      <th>73</th>\n",
       "      <td>1399.0</td>\n",
       "      <td>POLYGON ((1003522.25 6488584.818, 1003522.974 ...</td>\n",
       "      <td>2022</td>\n",
       "      <td>water</td>\n",
       "      <td>2</td>\n",
       "      <td>2022-01-01</td>\n",
       "      <td>15468.462201</td>\n",
       "    </tr>\n",
       "    <tr>\n",
       "      <th>74</th>\n",
       "      <td>1611.0</td>\n",
       "      <td>POLYGON ((1002238.332 6455799.827, 1002238.598...</td>\n",
       "      <td>2022</td>\n",
       "      <td>water</td>\n",
       "      <td>2</td>\n",
       "      <td>2022-01-01</td>\n",
       "      <td>156.776521</td>\n",
       "    </tr>\n",
       "    <tr>\n",
       "      <th>75</th>\n",
       "      <td>2057.0</td>\n",
       "      <td>POLYGON ((1006764.417 6391288.737, 1006788.269...</td>\n",
       "      <td>2022</td>\n",
       "      <td>water</td>\n",
       "      <td>2</td>\n",
       "      <td>2022-01-01</td>\n",
       "      <td>5549.722612</td>\n",
       "    </tr>\n",
       "    <tr>\n",
       "      <th>76</th>\n",
       "      <td>2253.0</td>\n",
       "      <td>POLYGON ((1007845.722 6550977.441, 1007847.898...</td>\n",
       "      <td>2022</td>\n",
       "      <td>water</td>\n",
       "      <td>2</td>\n",
       "      <td>2022-01-01</td>\n",
       "      <td>540.133464</td>\n",
       "    </tr>\n",
       "    <tr>\n",
       "      <th>77</th>\n",
       "      <td>2254.0</td>\n",
       "      <td>POLYGON ((1015646.272 6496175.948, 1015647.804...</td>\n",
       "      <td>2022</td>\n",
       "      <td>water</td>\n",
       "      <td>2</td>\n",
       "      <td>2022-01-01</td>\n",
       "      <td>8145.455496</td>\n",
       "    </tr>\n",
       "  </tbody>\n",
       "</table>\n",
       "<p>78 rows × 7 columns</p>\n",
       "</div>"
      ],
      "text/plain": [
       "    lake_id                                           geometry  year source  \\\n",
       "0      13.0  POLYGON ((948869.603 6457292.386, 948869.785 6...  2022  water   \n",
       "1      14.0  POLYGON ((948783.784 6457318.895, 948784.984 6...  2022  water   \n",
       "2      17.0  POLYGON ((945955.844 6451155.365, 945957.029 6...  2022  water   \n",
       "3      19.0  POLYGON ((961989.117 6437671.724, 961993.149 6...  2022  water   \n",
       "4      21.0  POLYGON ((957470.34 6437602.801, 957467.726 64...  2022  water   \n",
       "..      ...                                                ...   ...    ...   \n",
       "73   1399.0  POLYGON ((1003522.25 6488584.818, 1003522.974 ...  2022  water   \n",
       "74   1611.0  POLYGON ((1002238.332 6455799.827, 1002238.598...  2022  water   \n",
       "75   2057.0  POLYGON ((1006764.417 6391288.737, 1006788.269...  2022  water   \n",
       "76   2253.0  POLYGON ((1007845.722 6550977.441, 1007847.898...  2022  water   \n",
       "77   2254.0  POLYGON ((1015646.272 6496175.948, 1015647.804...  2022  water   \n",
       "\n",
       "    value       Time  area_diss_lake_m²  \n",
       "0       2 2022-01-01         507.001860  \n",
       "1       2 2022-01-01        1078.087849  \n",
       "2       2 2022-01-01        8872.841283  \n",
       "3       2 2022-01-01       62592.812662  \n",
       "4       2 2022-01-01        4136.809516  \n",
       "..    ...        ...                ...  \n",
       "73      2 2022-01-01       15468.462201  \n",
       "74      2 2022-01-01         156.776521  \n",
       "75      2 2022-01-01        5549.722612  \n",
       "76      2 2022-01-01         540.133464  \n",
       "77      2 2022-01-01        8145.455496  \n",
       "\n",
       "[78 rows x 7 columns]"
      ]
     },
     "execution_count": 97,
     "metadata": {},
     "output_type": "execute_result"
    }
   ],
   "source": [
    "lake_classif_to_validate_diss\n"
   ]
  },
  {
   "cell_type": "code",
   "execution_count": 98,
   "id": "05b89f8a-e404-4d3e-9da2-e554455facb6",
   "metadata": {},
   "outputs": [
    {
     "data": {
      "text/html": [
       "\n",
       "            <style>\n",
       "                .geemap-dark {\n",
       "                    --jp-widgets-color: white;\n",
       "                    --jp-widgets-label-color: white;\n",
       "                    --jp-ui-font-color1: white;\n",
       "                    --jp-layout-color2: #454545;\n",
       "                    background-color: #383838;\n",
       "                }\n",
       "\n",
       "                .geemap-dark .jupyter-button {\n",
       "                    --jp-layout-color3: #383838;\n",
       "                }\n",
       "\n",
       "                .geemap-colab {\n",
       "                    background-color: var(--colab-primary-surface-color, white);\n",
       "                }\n",
       "\n",
       "                .geemap-colab .jupyter-button {\n",
       "                    --jp-layout-color3: var(--colab-primary-surface-color, white);\n",
       "                }\n",
       "            </style>\n",
       "            "
      ],
      "text/plain": [
       "<IPython.core.display.HTML object>"
      ]
     },
     "metadata": {},
     "output_type": "display_data"
    }
   ],
   "source": [
    "df_surface_ratio = lake_classif_to_validate_diss[['lake_id', 'area_diss_lake_m²']].rename(columns={'area_diss_lake_m²': 'area_detected_lake_m²'})"
   ]
  },
  {
   "cell_type": "code",
   "execution_count": 99,
   "id": "52806f36-4f89-4bab-9973-2c7415adbb4a",
   "metadata": {},
   "outputs": [
    {
     "data": {
      "text/html": [
       "\n",
       "            <style>\n",
       "                .geemap-dark {\n",
       "                    --jp-widgets-color: white;\n",
       "                    --jp-widgets-label-color: white;\n",
       "                    --jp-ui-font-color1: white;\n",
       "                    --jp-layout-color2: #454545;\n",
       "                    background-color: #383838;\n",
       "                }\n",
       "\n",
       "                .geemap-dark .jupyter-button {\n",
       "                    --jp-layout-color3: #383838;\n",
       "                }\n",
       "\n",
       "                .geemap-colab {\n",
       "                    background-color: var(--colab-primary-surface-color, white);\n",
       "                }\n",
       "\n",
       "                .geemap-colab .jupyter-button {\n",
       "                    --jp-layout-color3: var(--colab-primary-surface-color, white);\n",
       "                }\n",
       "            </style>\n",
       "            "
      ],
      "text/plain": [
       "<IPython.core.display.HTML object>"
      ]
     },
     "metadata": {},
     "output_type": "display_data"
    },
    {
     "data": {
      "text/html": [
       "<div>\n",
       "<style scoped>\n",
       "    .dataframe tbody tr th:only-of-type {\n",
       "        vertical-align: middle;\n",
       "    }\n",
       "\n",
       "    .dataframe tbody tr th {\n",
       "        vertical-align: top;\n",
       "    }\n",
       "\n",
       "    .dataframe thead th {\n",
       "        text-align: right;\n",
       "    }\n",
       "</style>\n",
       "<table border=\"1\" class=\"dataframe\">\n",
       "  <thead>\n",
       "    <tr style=\"text-align: right;\">\n",
       "      <th></th>\n",
       "      <th>id</th>\n",
       "      <th>Remarques</th>\n",
       "      <th>Evolution</th>\n",
       "      <th>Date</th>\n",
       "      <th>Surface</th>\n",
       "      <th>Categorie</th>\n",
       "      <th>Barrage</th>\n",
       "      <th>NAME</th>\n",
       "      <th>ID_2_2</th>\n",
       "      <th>INSEE</th>\n",
       "      <th>NOM</th>\n",
       "      <th>ID_1</th>\n",
       "      <th>ID_3</th>\n",
       "      <th>area_m2</th>\n",
       "      <th>geometry</th>\n",
       "      <th>landsat_pixels</th>\n",
       "      <th>pixel_bin</th>\n",
       "    </tr>\n",
       "  </thead>\n",
       "  <tbody>\n",
       "    <tr>\n",
       "      <th>1</th>\n",
       "      <td>2057</td>\n",
       "      <td>Névé</td>\n",
       "      <td>NL</td>\n",
       "      <td>2021</td>\n",
       "      <td>8173</td>\n",
       "      <td>P</td>\n",
       "      <td>None</td>\n",
       "      <td>None</td>\n",
       "      <td>NaN</td>\n",
       "      <td>None</td>\n",
       "      <td>None</td>\n",
       "      <td>NaN</td>\n",
       "      <td>2057.0</td>\n",
       "      <td>8166.674673</td>\n",
       "      <td>POLYGON ((1006699.873 6391288.265, 1006731.481...</td>\n",
       "      <td>9.074083</td>\n",
       "      <td>4–10</td>\n",
       "    </tr>\n",
       "    <tr>\n",
       "      <th>2</th>\n",
       "      <td>1611</td>\n",
       "      <td>None</td>\n",
       "      <td>NL</td>\n",
       "      <td>2022</td>\n",
       "      <td>1941</td>\n",
       "      <td>P</td>\n",
       "      <td>None</td>\n",
       "      <td>None</td>\n",
       "      <td>NaN</td>\n",
       "      <td>None</td>\n",
       "      <td>None</td>\n",
       "      <td>NaN</td>\n",
       "      <td>1611.0</td>\n",
       "      <td>1938.237046</td>\n",
       "      <td>POLYGON ((1002208.892 6455821.836, 1002219.104...</td>\n",
       "      <td>2.153597</td>\n",
       "      <td>2–4</td>\n",
       "    </tr>\n",
       "    <tr>\n",
       "      <th>4</th>\n",
       "      <td>200</td>\n",
       "      <td>None</td>\n",
       "      <td>SG</td>\n",
       "      <td>2022</td>\n",
       "      <td>77915</td>\n",
       "      <td>P</td>\n",
       "      <td>None</td>\n",
       "      <td>None</td>\n",
       "      <td>NaN</td>\n",
       "      <td>None</td>\n",
       "      <td>None</td>\n",
       "      <td>200.0</td>\n",
       "      <td>NaN</td>\n",
       "      <td>77812.185998</td>\n",
       "      <td>POLYGON ((1004618.21 6456381.874, 1004621.333 ...</td>\n",
       "      <td>86.457984</td>\n",
       "      <td>50–100</td>\n",
       "    </tr>\n",
       "    <tr>\n",
       "      <th>5</th>\n",
       "      <td>257</td>\n",
       "      <td>None</td>\n",
       "      <td>SG</td>\n",
       "      <td>2022</td>\n",
       "      <td>16061</td>\n",
       "      <td>P</td>\n",
       "      <td>None</td>\n",
       "      <td>None</td>\n",
       "      <td>NaN</td>\n",
       "      <td>None</td>\n",
       "      <td>None</td>\n",
       "      <td>257.0</td>\n",
       "      <td>NaN</td>\n",
       "      <td>16039.272580</td>\n",
       "      <td>POLYGON ((1002434.836 6456343.147, 1002426.898...</td>\n",
       "      <td>17.821414</td>\n",
       "      <td>10–50</td>\n",
       "    </tr>\n",
       "    <tr>\n",
       "      <th>21</th>\n",
       "      <td>270</td>\n",
       "      <td>GL</td>\n",
       "      <td>SG</td>\n",
       "      <td>2022</td>\n",
       "      <td>35408</td>\n",
       "      <td>P</td>\n",
       "      <td>None</td>\n",
       "      <td>None</td>\n",
       "      <td>NaN</td>\n",
       "      <td>None</td>\n",
       "      <td>None</td>\n",
       "      <td>270.0</td>\n",
       "      <td>NaN</td>\n",
       "      <td>35356.183659</td>\n",
       "      <td>POLYGON ((995612.444 6475682.352, 995610.469 6...</td>\n",
       "      <td>39.284649</td>\n",
       "      <td>10–50</td>\n",
       "    </tr>\n",
       "    <tr>\n",
       "      <th>...</th>\n",
       "      <td>...</td>\n",
       "      <td>...</td>\n",
       "      <td>...</td>\n",
       "      <td>...</td>\n",
       "      <td>...</td>\n",
       "      <td>...</td>\n",
       "      <td>...</td>\n",
       "      <td>...</td>\n",
       "      <td>...</td>\n",
       "      <td>...</td>\n",
       "      <td>...</td>\n",
       "      <td>...</td>\n",
       "      <td>...</td>\n",
       "      <td>...</td>\n",
       "      <td>...</td>\n",
       "      <td>...</td>\n",
       "      <td>...</td>\n",
       "    </tr>\n",
       "    <tr>\n",
       "      <th>192</th>\n",
       "      <td>365</td>\n",
       "      <td>None</td>\n",
       "      <td>SG</td>\n",
       "      <td>2022</td>\n",
       "      <td>12747</td>\n",
       "      <td>P</td>\n",
       "      <td>None</td>\n",
       "      <td>None</td>\n",
       "      <td>NaN</td>\n",
       "      <td>None</td>\n",
       "      <td>None</td>\n",
       "      <td>365.0</td>\n",
       "      <td>NaN</td>\n",
       "      <td>12726.231728</td>\n",
       "      <td>POLYGON ((1009525.456 6505809.04, 1009532.522 ...</td>\n",
       "      <td>14.140257</td>\n",
       "      <td>10–50</td>\n",
       "    </tr>\n",
       "    <tr>\n",
       "      <th>193</th>\n",
       "      <td>431</td>\n",
       "      <td>None</td>\n",
       "      <td>SG</td>\n",
       "      <td>2022</td>\n",
       "      <td>975</td>\n",
       "      <td>P</td>\n",
       "      <td>None</td>\n",
       "      <td>None</td>\n",
       "      <td>NaN</td>\n",
       "      <td>None</td>\n",
       "      <td>None</td>\n",
       "      <td>431.0</td>\n",
       "      <td>NaN</td>\n",
       "      <td>973.886365</td>\n",
       "      <td>POLYGON ((1009445.914 6505776.336, 1009441.681...</td>\n",
       "      <td>1.082096</td>\n",
       "      <td>1–2</td>\n",
       "    </tr>\n",
       "    <tr>\n",
       "      <th>195</th>\n",
       "      <td>155</td>\n",
       "      <td>None</td>\n",
       "      <td>None</td>\n",
       "      <td>2022</td>\n",
       "      <td>19545</td>\n",
       "      <td>P</td>\n",
       "      <td>None</td>\n",
       "      <td>Grand Col</td>\n",
       "      <td>155.0</td>\n",
       "      <td>73323</td>\n",
       "      <td>Villaroger</td>\n",
       "      <td>155.0</td>\n",
       "      <td>NaN</td>\n",
       "      <td>19513.973180</td>\n",
       "      <td>POLYGON ((1000830.57 6501706.595, 1000843.065 ...</td>\n",
       "      <td>21.682192</td>\n",
       "      <td>10–50</td>\n",
       "    </tr>\n",
       "    <tr>\n",
       "      <th>198</th>\n",
       "      <td>366</td>\n",
       "      <td>None</td>\n",
       "      <td>SG</td>\n",
       "      <td>2022</td>\n",
       "      <td>3196</td>\n",
       "      <td>P</td>\n",
       "      <td>None</td>\n",
       "      <td>None</td>\n",
       "      <td>NaN</td>\n",
       "      <td>None</td>\n",
       "      <td>None</td>\n",
       "      <td>366.0</td>\n",
       "      <td>NaN</td>\n",
       "      <td>3190.751869</td>\n",
       "      <td>POLYGON ((1009551.495 6506034.167, 1009548.501...</td>\n",
       "      <td>3.545280</td>\n",
       "      <td>2–4</td>\n",
       "    </tr>\n",
       "    <tr>\n",
       "      <th>199</th>\n",
       "      <td>2253</td>\n",
       "      <td>GL</td>\n",
       "      <td>NL</td>\n",
       "      <td>2022</td>\n",
       "      <td>1130</td>\n",
       "      <td>P</td>\n",
       "      <td>None</td>\n",
       "      <td>None</td>\n",
       "      <td>NaN</td>\n",
       "      <td>None</td>\n",
       "      <td>None</td>\n",
       "      <td>NaN</td>\n",
       "      <td>2253.0</td>\n",
       "      <td>1128.012572</td>\n",
       "      <td>POLYGON ((1007861.555 6550998.957, 1007865.117...</td>\n",
       "      <td>1.253347</td>\n",
       "      <td>1–2</td>\n",
       "    </tr>\n",
       "  </tbody>\n",
       "</table>\n",
       "<p>79 rows × 17 columns</p>\n",
       "</div>"
      ],
      "text/plain": [
       "       id Remarques Evolution  Date  Surface Categorie Barrage       NAME  \\\n",
       "1    2057      Névé        NL  2021     8173         P    None       None   \n",
       "2    1611      None        NL  2022     1941         P    None       None   \n",
       "4     200      None        SG  2022    77915         P    None       None   \n",
       "5     257      None        SG  2022    16061         P    None       None   \n",
       "21    270        GL        SG  2022    35408         P    None       None   \n",
       "..    ...       ...       ...   ...      ...       ...     ...        ...   \n",
       "192   365      None        SG  2022    12747         P    None       None   \n",
       "193   431      None        SG  2022      975         P    None       None   \n",
       "195   155      None      None  2022    19545         P    None  Grand Col   \n",
       "198   366      None        SG  2022     3196         P    None       None   \n",
       "199  2253        GL        NL  2022     1130         P    None       None   \n",
       "\n",
       "     ID_2_2  INSEE         NOM   ID_1    ID_3       area_m2  \\\n",
       "1       NaN   None        None    NaN  2057.0   8166.674673   \n",
       "2       NaN   None        None    NaN  1611.0   1938.237046   \n",
       "4       NaN   None        None  200.0     NaN  77812.185998   \n",
       "5       NaN   None        None  257.0     NaN  16039.272580   \n",
       "21      NaN   None        None  270.0     NaN  35356.183659   \n",
       "..      ...    ...         ...    ...     ...           ...   \n",
       "192     NaN   None        None  365.0     NaN  12726.231728   \n",
       "193     NaN   None        None  431.0     NaN    973.886365   \n",
       "195   155.0  73323  Villaroger  155.0     NaN  19513.973180   \n",
       "198     NaN   None        None  366.0     NaN   3190.751869   \n",
       "199     NaN   None        None    NaN  2253.0   1128.012572   \n",
       "\n",
       "                                              geometry  landsat_pixels  \\\n",
       "1    POLYGON ((1006699.873 6391288.265, 1006731.481...        9.074083   \n",
       "2    POLYGON ((1002208.892 6455821.836, 1002219.104...        2.153597   \n",
       "4    POLYGON ((1004618.21 6456381.874, 1004621.333 ...       86.457984   \n",
       "5    POLYGON ((1002434.836 6456343.147, 1002426.898...       17.821414   \n",
       "21   POLYGON ((995612.444 6475682.352, 995610.469 6...       39.284649   \n",
       "..                                                 ...             ...   \n",
       "192  POLYGON ((1009525.456 6505809.04, 1009532.522 ...       14.140257   \n",
       "193  POLYGON ((1009445.914 6505776.336, 1009441.681...        1.082096   \n",
       "195  POLYGON ((1000830.57 6501706.595, 1000843.065 ...       21.682192   \n",
       "198  POLYGON ((1009551.495 6506034.167, 1009548.501...        3.545280   \n",
       "199  POLYGON ((1007861.555 6550998.957, 1007865.117...        1.253347   \n",
       "\n",
       "    pixel_bin  \n",
       "1        4–10  \n",
       "2         2–4  \n",
       "4      50–100  \n",
       "5       10–50  \n",
       "21      10–50  \n",
       "..        ...  \n",
       "192     10–50  \n",
       "193       1–2  \n",
       "195     10–50  \n",
       "198       2–4  \n",
       "199       1–2  \n",
       "\n",
       "[79 rows x 17 columns]"
      ]
     },
     "execution_count": 99,
     "metadata": {},
     "output_type": "execute_result"
    }
   ],
   "source": [
    "lake_detected_2022_inrae"
   ]
  },
  {
   "cell_type": "code",
   "execution_count": 100,
   "id": "88036fe7-88d5-482d-b6dd-a3d5ea795a79",
   "metadata": {},
   "outputs": [
    {
     "data": {
      "text/html": [
       "\n",
       "            <style>\n",
       "                .geemap-dark {\n",
       "                    --jp-widgets-color: white;\n",
       "                    --jp-widgets-label-color: white;\n",
       "                    --jp-ui-font-color1: white;\n",
       "                    --jp-layout-color2: #454545;\n",
       "                    background-color: #383838;\n",
       "                }\n",
       "\n",
       "                .geemap-dark .jupyter-button {\n",
       "                    --jp-layout-color3: #383838;\n",
       "                }\n",
       "\n",
       "                .geemap-colab {\n",
       "                    background-color: var(--colab-primary-surface-color, white);\n",
       "                }\n",
       "\n",
       "                .geemap-colab .jupyter-button {\n",
       "                    --jp-layout-color3: var(--colab-primary-surface-color, white);\n",
       "                }\n",
       "            </style>\n",
       "            "
      ],
      "text/plain": [
       "<IPython.core.display.HTML object>"
      ]
     },
     "metadata": {},
     "output_type": "display_data"
    }
   ],
   "source": [
    "df_surface_ratio['area_inrae'] = df_surface_ratio['lake_id'].map(\n",
    "    lake_detected_2022_inrae.set_index('id')['area_m2']\n",
    ")"
   ]
  },
  {
   "cell_type": "code",
   "execution_count": 101,
   "id": "05e7f0e2-667d-415b-83d6-acd9d24f431e",
   "metadata": {},
   "outputs": [
    {
     "data": {
      "text/html": [
       "\n",
       "            <style>\n",
       "                .geemap-dark {\n",
       "                    --jp-widgets-color: white;\n",
       "                    --jp-widgets-label-color: white;\n",
       "                    --jp-ui-font-color1: white;\n",
       "                    --jp-layout-color2: #454545;\n",
       "                    background-color: #383838;\n",
       "                }\n",
       "\n",
       "                .geemap-dark .jupyter-button {\n",
       "                    --jp-layout-color3: #383838;\n",
       "                }\n",
       "\n",
       "                .geemap-colab {\n",
       "                    background-color: var(--colab-primary-surface-color, white);\n",
       "                }\n",
       "\n",
       "                .geemap-colab .jupyter-button {\n",
       "                    --jp-layout-color3: var(--colab-primary-surface-color, white);\n",
       "                }\n",
       "            </style>\n",
       "            "
      ],
      "text/plain": [
       "<IPython.core.display.HTML object>"
      ]
     },
     "metadata": {},
     "output_type": "display_data"
    }
   ],
   "source": [
    "df_surface_ratio['surface_covered_ratio'] = df_surface_ratio['area_detected_lake_m²']/df_surface_ratio['area_inrae'] *100"
   ]
  },
  {
   "cell_type": "code",
   "execution_count": 102,
   "id": "48732961-a454-4091-9c77-20411dc9a5e9",
   "metadata": {},
   "outputs": [
    {
     "data": {
      "text/html": [
       "\n",
       "            <style>\n",
       "                .geemap-dark {\n",
       "                    --jp-widgets-color: white;\n",
       "                    --jp-widgets-label-color: white;\n",
       "                    --jp-ui-font-color1: white;\n",
       "                    --jp-layout-color2: #454545;\n",
       "                    background-color: #383838;\n",
       "                }\n",
       "\n",
       "                .geemap-dark .jupyter-button {\n",
       "                    --jp-layout-color3: #383838;\n",
       "                }\n",
       "\n",
       "                .geemap-colab {\n",
       "                    background-color: var(--colab-primary-surface-color, white);\n",
       "                }\n",
       "\n",
       "                .geemap-colab .jupyter-button {\n",
       "                    --jp-layout-color3: var(--colab-primary-surface-color, white);\n",
       "                }\n",
       "            </style>\n",
       "            "
      ],
      "text/plain": [
       "<IPython.core.display.HTML object>"
      ]
     },
     "metadata": {},
     "output_type": "display_data"
    },
    {
     "data": {
      "text/html": [
       "<div>\n",
       "<style scoped>\n",
       "    .dataframe tbody tr th:only-of-type {\n",
       "        vertical-align: middle;\n",
       "    }\n",
       "\n",
       "    .dataframe tbody tr th {\n",
       "        vertical-align: top;\n",
       "    }\n",
       "\n",
       "    .dataframe thead th {\n",
       "        text-align: right;\n",
       "    }\n",
       "</style>\n",
       "<table border=\"1\" class=\"dataframe\">\n",
       "  <thead>\n",
       "    <tr style=\"text-align: right;\">\n",
       "      <th></th>\n",
       "      <th>lake_id</th>\n",
       "      <th>area_detected_lake_m²</th>\n",
       "      <th>area_inrae</th>\n",
       "      <th>surface_covered_ratio</th>\n",
       "    </tr>\n",
       "  </thead>\n",
       "  <tbody>\n",
       "    <tr>\n",
       "      <th>0</th>\n",
       "      <td>13.0</td>\n",
       "      <td>507.001860</td>\n",
       "      <td>3780.062078</td>\n",
       "      <td>13.412527</td>\n",
       "    </tr>\n",
       "    <tr>\n",
       "      <th>1</th>\n",
       "      <td>14.0</td>\n",
       "      <td>1078.087849</td>\n",
       "      <td>4275.174484</td>\n",
       "      <td>25.217400</td>\n",
       "    </tr>\n",
       "    <tr>\n",
       "      <th>2</th>\n",
       "      <td>17.0</td>\n",
       "      <td>8872.841283</td>\n",
       "      <td>21113.624797</td>\n",
       "      <td>42.024244</td>\n",
       "    </tr>\n",
       "    <tr>\n",
       "      <th>3</th>\n",
       "      <td>19.0</td>\n",
       "      <td>62592.812662</td>\n",
       "      <td>77285.598031</td>\n",
       "      <td>80.988974</td>\n",
       "    </tr>\n",
       "    <tr>\n",
       "      <th>4</th>\n",
       "      <td>21.0</td>\n",
       "      <td>4136.809516</td>\n",
       "      <td>8925.679161</td>\n",
       "      <td>46.347280</td>\n",
       "    </tr>\n",
       "    <tr>\n",
       "      <th>...</th>\n",
       "      <td>...</td>\n",
       "      <td>...</td>\n",
       "      <td>...</td>\n",
       "      <td>...</td>\n",
       "    </tr>\n",
       "    <tr>\n",
       "      <th>73</th>\n",
       "      <td>1399.0</td>\n",
       "      <td>15468.462201</td>\n",
       "      <td>26693.767280</td>\n",
       "      <td>57.947842</td>\n",
       "    </tr>\n",
       "    <tr>\n",
       "      <th>74</th>\n",
       "      <td>1611.0</td>\n",
       "      <td>156.776521</td>\n",
       "      <td>1938.237046</td>\n",
       "      <td>8.088614</td>\n",
       "    </tr>\n",
       "    <tr>\n",
       "      <th>75</th>\n",
       "      <td>2057.0</td>\n",
       "      <td>5549.722612</td>\n",
       "      <td>8166.674673</td>\n",
       "      <td>67.955720</td>\n",
       "    </tr>\n",
       "    <tr>\n",
       "      <th>76</th>\n",
       "      <td>2253.0</td>\n",
       "      <td>540.133464</td>\n",
       "      <td>1128.012572</td>\n",
       "      <td>47.883639</td>\n",
       "    </tr>\n",
       "    <tr>\n",
       "      <th>77</th>\n",
       "      <td>2254.0</td>\n",
       "      <td>8145.455496</td>\n",
       "      <td>17851.239716</td>\n",
       "      <td>45.629635</td>\n",
       "    </tr>\n",
       "  </tbody>\n",
       "</table>\n",
       "<p>78 rows × 4 columns</p>\n",
       "</div>"
      ],
      "text/plain": [
       "    lake_id  area_detected_lake_m²    area_inrae  surface_covered_ratio\n",
       "0      13.0             507.001860   3780.062078              13.412527\n",
       "1      14.0            1078.087849   4275.174484              25.217400\n",
       "2      17.0            8872.841283  21113.624797              42.024244\n",
       "3      19.0           62592.812662  77285.598031              80.988974\n",
       "4      21.0            4136.809516   8925.679161              46.347280\n",
       "..      ...                    ...           ...                    ...\n",
       "73   1399.0           15468.462201  26693.767280              57.947842\n",
       "74   1611.0             156.776521   1938.237046               8.088614\n",
       "75   2057.0            5549.722612   8166.674673              67.955720\n",
       "76   2253.0             540.133464   1128.012572              47.883639\n",
       "77   2254.0            8145.455496  17851.239716              45.629635\n",
       "\n",
       "[78 rows x 4 columns]"
      ]
     },
     "execution_count": 102,
     "metadata": {},
     "output_type": "execute_result"
    }
   ],
   "source": [
    "df_surface_ratio"
   ]
  },
  {
   "cell_type": "code",
   "execution_count": 103,
   "id": "33c8c37a-4653-4b66-a228-ce081853bb5a",
   "metadata": {},
   "outputs": [
    {
     "data": {
      "text/html": [
       "\n",
       "            <style>\n",
       "                .geemap-dark {\n",
       "                    --jp-widgets-color: white;\n",
       "                    --jp-widgets-label-color: white;\n",
       "                    --jp-ui-font-color1: white;\n",
       "                    --jp-layout-color2: #454545;\n",
       "                    background-color: #383838;\n",
       "                }\n",
       "\n",
       "                .geemap-dark .jupyter-button {\n",
       "                    --jp-layout-color3: #383838;\n",
       "                }\n",
       "\n",
       "                .geemap-colab {\n",
       "                    background-color: var(--colab-primary-surface-color, white);\n",
       "                }\n",
       "\n",
       "                .geemap-colab .jupyter-button {\n",
       "                    --jp-layout-color3: var(--colab-primary-surface-color, white);\n",
       "                }\n",
       "            </style>\n",
       "            "
      ],
      "text/plain": [
       "<IPython.core.display.HTML object>"
      ]
     },
     "metadata": {},
     "output_type": "display_data"
    },
    {
     "data": {
      "text/plain": [
       "np.float64(2006269.205050431)"
      ]
     },
     "execution_count": 103,
     "metadata": {},
     "output_type": "execute_result"
    }
   ],
   "source": [
    "lake_detected_2022_inrae.geometry.area.sum()"
   ]
  },
  {
   "cell_type": "code",
   "execution_count": 104,
   "id": "b6465d77-b356-44db-84ea-415a72e290df",
   "metadata": {},
   "outputs": [
    {
     "data": {
      "text/html": [
       "\n",
       "            <style>\n",
       "                .geemap-dark {\n",
       "                    --jp-widgets-color: white;\n",
       "                    --jp-widgets-label-color: white;\n",
       "                    --jp-ui-font-color1: white;\n",
       "                    --jp-layout-color2: #454545;\n",
       "                    background-color: #383838;\n",
       "                }\n",
       "\n",
       "                .geemap-dark .jupyter-button {\n",
       "                    --jp-layout-color3: #383838;\n",
       "                }\n",
       "\n",
       "                .geemap-colab {\n",
       "                    background-color: var(--colab-primary-surface-color, white);\n",
       "                }\n",
       "\n",
       "                .geemap-colab .jupyter-button {\n",
       "                    --jp-layout-color3: var(--colab-primary-surface-color, white);\n",
       "                }\n",
       "            </style>\n",
       "            "
      ],
      "text/plain": [
       "<IPython.core.display.HTML object>"
      ]
     },
     "metadata": {},
     "output_type": "display_data"
    }
   ],
   "source": [
    "# Crée une série alignée par lake_id\n",
    "area_detected_series = df_surface_ratio['lake_id'].map(\n",
    "    surface_in_inrae.set_index('lake_id')['area_m2']\n",
    ")\n",
    "\n",
    "# Calcul du ratio\n",
    "df_surface_ratio['real_surface_covered_ratio_clipped'] = (area_detected_series / df_surface_ratio['area_inrae']) * 100"
   ]
  },
  {
   "cell_type": "code",
   "execution_count": 105,
   "id": "0fafe76b-9b46-4246-b73d-9a67d308e41b",
   "metadata": {},
   "outputs": [
    {
     "data": {
      "text/html": [
       "\n",
       "            <style>\n",
       "                .geemap-dark {\n",
       "                    --jp-widgets-color: white;\n",
       "                    --jp-widgets-label-color: white;\n",
       "                    --jp-ui-font-color1: white;\n",
       "                    --jp-layout-color2: #454545;\n",
       "                    background-color: #383838;\n",
       "                }\n",
       "\n",
       "                .geemap-dark .jupyter-button {\n",
       "                    --jp-layout-color3: #383838;\n",
       "                }\n",
       "\n",
       "                .geemap-colab {\n",
       "                    background-color: var(--colab-primary-surface-color, white);\n",
       "                }\n",
       "\n",
       "                .geemap-colab .jupyter-button {\n",
       "                    --jp-layout-color3: var(--colab-primary-surface-color, white);\n",
       "                }\n",
       "            </style>\n",
       "            "
      ],
      "text/plain": [
       "<IPython.core.display.HTML object>"
      ]
     },
     "metadata": {},
     "output_type": "display_data"
    }
   ],
   "source": [
    "df_results['average_surface_detection_by_lake']=df_surface_ratio['surface_covered_ratio'].mean() "
   ]
  },
  {
   "cell_type": "code",
   "execution_count": 106,
   "id": "8fc0ffee-cbf9-4e7c-859a-e0f191af9268",
   "metadata": {},
   "outputs": [
    {
     "data": {
      "text/html": [
       "\n",
       "            <style>\n",
       "                .geemap-dark {\n",
       "                    --jp-widgets-color: white;\n",
       "                    --jp-widgets-label-color: white;\n",
       "                    --jp-ui-font-color1: white;\n",
       "                    --jp-layout-color2: #454545;\n",
       "                    background-color: #383838;\n",
       "                }\n",
       "\n",
       "                .geemap-dark .jupyter-button {\n",
       "                    --jp-layout-color3: #383838;\n",
       "                }\n",
       "\n",
       "                .geemap-colab {\n",
       "                    background-color: var(--colab-primary-surface-color, white);\n",
       "                }\n",
       "\n",
       "                .geemap-colab .jupyter-button {\n",
       "                    --jp-layout-color3: var(--colab-primary-surface-color, white);\n",
       "                }\n",
       "            </style>\n",
       "            "
      ],
      "text/plain": [
       "<IPython.core.display.HTML object>"
      ]
     },
     "metadata": {},
     "output_type": "display_data"
    }
   ],
   "source": [
    "df_results['average_surface_detection_clipped_by_lake']=df_surface_ratio['real_surface_covered_ratio_clipped'].mean() "
   ]
  },
  {
   "cell_type": "code",
   "execution_count": 107,
   "id": "a0f2c89d-3140-4488-b4e3-dce29b7aada9",
   "metadata": {},
   "outputs": [
    {
     "data": {
      "text/html": [
       "\n",
       "            <style>\n",
       "                .geemap-dark {\n",
       "                    --jp-widgets-color: white;\n",
       "                    --jp-widgets-label-color: white;\n",
       "                    --jp-ui-font-color1: white;\n",
       "                    --jp-layout-color2: #454545;\n",
       "                    background-color: #383838;\n",
       "                }\n",
       "\n",
       "                .geemap-dark .jupyter-button {\n",
       "                    --jp-layout-color3: #383838;\n",
       "                }\n",
       "\n",
       "                .geemap-colab {\n",
       "                    background-color: var(--colab-primary-surface-color, white);\n",
       "                }\n",
       "\n",
       "                .geemap-colab .jupyter-button {\n",
       "                    --jp-layout-color3: var(--colab-primary-surface-color, white);\n",
       "                }\n",
       "            </style>\n",
       "            "
      ],
      "text/plain": [
       "<IPython.core.display.HTML object>"
      ]
     },
     "metadata": {},
     "output_type": "display_data"
    },
    {
     "data": {
      "text/plain": [
       "0     13.412527\n",
       "1     25.217400\n",
       "2     42.024244\n",
       "3     80.988974\n",
       "4     46.347280\n",
       "        ...    \n",
       "73    57.947842\n",
       "74     8.088614\n",
       "75    67.955720\n",
       "76    47.883639\n",
       "77    45.629635\n",
       "Name: surface_covered_ratio, Length: 78, dtype: float64"
      ]
     },
     "execution_count": 107,
     "metadata": {},
     "output_type": "execute_result"
    }
   ],
   "source": [
    "df_surface_ratio['surface_covered_ratio']"
   ]
  },
  {
   "cell_type": "code",
   "execution_count": 108,
   "id": "0371f602-75eb-49c4-803f-fe248653e8db",
   "metadata": {},
   "outputs": [
    {
     "data": {
      "text/html": [
       "\n",
       "            <style>\n",
       "                .geemap-dark {\n",
       "                    --jp-widgets-color: white;\n",
       "                    --jp-widgets-label-color: white;\n",
       "                    --jp-ui-font-color1: white;\n",
       "                    --jp-layout-color2: #454545;\n",
       "                    background-color: #383838;\n",
       "                }\n",
       "\n",
       "                .geemap-dark .jupyter-button {\n",
       "                    --jp-layout-color3: #383838;\n",
       "                }\n",
       "\n",
       "                .geemap-colab {\n",
       "                    background-color: var(--colab-primary-surface-color, white);\n",
       "                }\n",
       "\n",
       "                .geemap-colab .jupyter-button {\n",
       "                    --jp-layout-color3: var(--colab-primary-surface-color, white);\n",
       "                }\n",
       "            </style>\n",
       "            "
      ],
      "text/plain": [
       "<IPython.core.display.HTML object>"
      ]
     },
     "metadata": {},
     "output_type": "display_data"
    },
    {
     "data": {
      "text/html": [
       "<div>\n",
       "<style scoped>\n",
       "    .dataframe tbody tr th:only-of-type {\n",
       "        vertical-align: middle;\n",
       "    }\n",
       "\n",
       "    .dataframe tbody tr th {\n",
       "        vertical-align: top;\n",
       "    }\n",
       "\n",
       "    .dataframe thead th {\n",
       "        text-align: right;\n",
       "    }\n",
       "</style>\n",
       "<table border=\"1\" class=\"dataframe\">\n",
       "  <thead>\n",
       "    <tr style=\"text-align: right;\">\n",
       "      <th></th>\n",
       "      <th>0</th>\n",
       "    </tr>\n",
       "  </thead>\n",
       "  <tbody>\n",
       "    <tr>\n",
       "      <th>area_of_lakes_2022_inrae</th>\n",
       "      <td>2.362111</td>\n",
       "    </tr>\n",
       "    <tr>\n",
       "      <th>number_of_lakes_2022_inrea</th>\n",
       "      <td>200.000000</td>\n",
       "    </tr>\n",
       "    <tr>\n",
       "      <th>number_of_detected_lake_inrae</th>\n",
       "      <td>79.000000</td>\n",
       "    </tr>\n",
       "    <tr>\n",
       "      <th>number_of_not_detected_lake_inrae</th>\n",
       "      <td>121.000000</td>\n",
       "    </tr>\n",
       "    <tr>\n",
       "      <th>number_of_detected_lakes_2022</th>\n",
       "      <td>78.000000</td>\n",
       "    </tr>\n",
       "    <tr>\n",
       "      <th>number_of_artifacts_lakes_2022</th>\n",
       "      <td>0.000000</td>\n",
       "    </tr>\n",
       "    <tr>\n",
       "      <th>area_of_detected_lakes_2022</th>\n",
       "      <td>1.364509</td>\n",
       "    </tr>\n",
       "    <tr>\n",
       "      <th>detected_surface_ratio</th>\n",
       "      <td>57.766482</td>\n",
       "    </tr>\n",
       "    <tr>\n",
       "      <th>surface_classif_detected_in_inrae_km2</th>\n",
       "      <td>1.364509</td>\n",
       "    </tr>\n",
       "    <tr>\n",
       "      <th>%_surface_correctely_detected_in_classif</th>\n",
       "      <td>100.000000</td>\n",
       "    </tr>\n",
       "    <tr>\n",
       "      <th>%_surface_correctely_detected_in_classif_vs_detected_inrae</th>\n",
       "      <td>68.012243</td>\n",
       "    </tr>\n",
       "    <tr>\n",
       "      <th>average_surface_detection_by_lake</th>\n",
       "      <td>50.470316</td>\n",
       "    </tr>\n",
       "    <tr>\n",
       "      <th>average_surface_detection_clipped_by_lake</th>\n",
       "      <td>50.470315</td>\n",
       "    </tr>\n",
       "  </tbody>\n",
       "</table>\n",
       "</div>"
      ],
      "text/plain": [
       "                                                             0\n",
       "area_of_lakes_2022_inrae                              2.362111\n",
       "number_of_lakes_2022_inrea                          200.000000\n",
       "number_of_detected_lake_inrae                        79.000000\n",
       "number_of_not_detected_lake_inrae                   121.000000\n",
       "number_of_detected_lakes_2022                        78.000000\n",
       "number_of_artifacts_lakes_2022                        0.000000\n",
       "area_of_detected_lakes_2022                           1.364509\n",
       "detected_surface_ratio                               57.766482\n",
       "surface_classif_detected_in_inrae_km2                 1.364509\n",
       "%_surface_correctely_detected_in_classif            100.000000\n",
       "%_surface_correctely_detected_in_classif_vs_det...   68.012243\n",
       "average_surface_detection_by_lake                    50.470316\n",
       "average_surface_detection_clipped_by_lake            50.470315"
      ]
     },
     "execution_count": 108,
     "metadata": {},
     "output_type": "execute_result"
    }
   ],
   "source": [
    "df_results.T"
   ]
  },
  {
   "cell_type": "markdown",
   "id": "2bd8de13-86f5-4d05-b8c4-f67eb7b81a89",
   "metadata": {},
   "source": [
    "average_surface_detection_by_lake higher than the correctly detected because of id missmatch"
   ]
  },
  {
   "cell_type": "code",
   "execution_count": 109,
   "id": "f1d4ce42-dadf-46b3-a685-e87015dbae43",
   "metadata": {},
   "outputs": [
    {
     "data": {
      "text/html": [
       "\n",
       "            <style>\n",
       "                .geemap-dark {\n",
       "                    --jp-widgets-color: white;\n",
       "                    --jp-widgets-label-color: white;\n",
       "                    --jp-ui-font-color1: white;\n",
       "                    --jp-layout-color2: #454545;\n",
       "                    background-color: #383838;\n",
       "                }\n",
       "\n",
       "                .geemap-dark .jupyter-button {\n",
       "                    --jp-layout-color3: #383838;\n",
       "                }\n",
       "\n",
       "                .geemap-colab {\n",
       "                    background-color: var(--colab-primary-surface-color, white);\n",
       "                }\n",
       "\n",
       "                .geemap-colab .jupyter-button {\n",
       "                    --jp-layout-color3: var(--colab-primary-surface-color, white);\n",
       "                }\n",
       "            </style>\n",
       "            "
      ],
      "text/plain": [
       "<IPython.core.display.HTML object>"
      ]
     },
     "metadata": {},
     "output_type": "display_data"
    },
    {
     "data": {
      "text/plain": [
       "83369.00000000003"
      ]
     },
     "execution_count": 109,
     "metadata": {},
     "output_type": "execute_result"
    }
   ],
   "source": [
    "(1.447959-1.364590)*1e6"
   ]
  },
  {
   "cell_type": "code",
   "execution_count": 110,
   "id": "08431391-685e-4af6-91ea-a6c1add3279d",
   "metadata": {},
   "outputs": [
    {
     "data": {
      "text/html": [
       "\n",
       "            <style>\n",
       "                .geemap-dark {\n",
       "                    --jp-widgets-color: white;\n",
       "                    --jp-widgets-label-color: white;\n",
       "                    --jp-ui-font-color1: white;\n",
       "                    --jp-layout-color2: #454545;\n",
       "                    background-color: #383838;\n",
       "                }\n",
       "\n",
       "                .geemap-dark .jupyter-button {\n",
       "                    --jp-layout-color3: #383838;\n",
       "                }\n",
       "\n",
       "                .geemap-colab {\n",
       "                    background-color: var(--colab-primary-surface-color, white);\n",
       "                }\n",
       "\n",
       "                .geemap-colab .jupyter-button {\n",
       "                    --jp-layout-color3: var(--colab-primary-surface-color, white);\n",
       "                }\n",
       "            </style>\n",
       "            "
      ],
      "text/plain": [
       "<IPython.core.display.HTML object>"
      ]
     },
     "metadata": {},
     "output_type": "display_data"
    }
   ],
   "source": [
    "bins = [0, 1, 2, 4, 10, 50, 100, 500, 1000, float('inf')]\n",
    "labels = ['<1', '1–2', '2–4', '4–10', '10–50', '50–100', '100–500', '500–1k', '>1k']"
   ]
  },
  {
   "cell_type": "code",
   "execution_count": 111,
   "id": "8521d54c-8db8-4ce0-905d-ef482ba98fc7",
   "metadata": {},
   "outputs": [
    {
     "data": {
      "text/html": [
       "\n",
       "            <style>\n",
       "                .geemap-dark {\n",
       "                    --jp-widgets-color: white;\n",
       "                    --jp-widgets-label-color: white;\n",
       "                    --jp-ui-font-color1: white;\n",
       "                    --jp-layout-color2: #454545;\n",
       "                    background-color: #383838;\n",
       "                }\n",
       "\n",
       "                .geemap-dark .jupyter-button {\n",
       "                    --jp-layout-color3: #383838;\n",
       "                }\n",
       "\n",
       "                .geemap-colab {\n",
       "                    background-color: var(--colab-primary-surface-color, white);\n",
       "                }\n",
       "\n",
       "                .geemap-colab .jupyter-button {\n",
       "                    --jp-layout-color3: var(--colab-primary-surface-color, white);\n",
       "                }\n",
       "            </style>\n",
       "            "
      ],
      "text/plain": [
       "<IPython.core.display.HTML object>"
      ]
     },
     "metadata": {},
     "output_type": "display_data"
    }
   ],
   "source": [
    "df_surface_ratio['landsat_pixels'] = df_surface_ratio['area_inrae'] / 900  # 1 pixel = 900 m²"
   ]
  },
  {
   "cell_type": "code",
   "execution_count": 112,
   "id": "02f559f9-7c6f-4a82-9ede-577236c90f23",
   "metadata": {},
   "outputs": [
    {
     "data": {
      "text/html": [
       "\n",
       "            <style>\n",
       "                .geemap-dark {\n",
       "                    --jp-widgets-color: white;\n",
       "                    --jp-widgets-label-color: white;\n",
       "                    --jp-ui-font-color1: white;\n",
       "                    --jp-layout-color2: #454545;\n",
       "                    background-color: #383838;\n",
       "                }\n",
       "\n",
       "                .geemap-dark .jupyter-button {\n",
       "                    --jp-layout-color3: #383838;\n",
       "                }\n",
       "\n",
       "                .geemap-colab {\n",
       "                    background-color: var(--colab-primary-surface-color, white);\n",
       "                }\n",
       "\n",
       "                .geemap-colab .jupyter-button {\n",
       "                    --jp-layout-color3: var(--colab-primary-surface-color, white);\n",
       "                }\n",
       "            </style>\n",
       "            "
      ],
      "text/plain": [
       "<IPython.core.display.HTML object>"
      ]
     },
     "metadata": {},
     "output_type": "display_data"
    }
   ],
   "source": [
    "df_surface_ratio['pixel_bin'] = pd.cut(df_surface_ratio['landsat_pixels'], bins=bins, labels=labels, right=False)"
   ]
  },
  {
   "cell_type": "code",
   "execution_count": 113,
   "id": "d04143fe-2246-4967-b1cc-3c1d648f1201",
   "metadata": {},
   "outputs": [
    {
     "data": {
      "text/html": [
       "\n",
       "            <style>\n",
       "                .geemap-dark {\n",
       "                    --jp-widgets-color: white;\n",
       "                    --jp-widgets-label-color: white;\n",
       "                    --jp-ui-font-color1: white;\n",
       "                    --jp-layout-color2: #454545;\n",
       "                    background-color: #383838;\n",
       "                }\n",
       "\n",
       "                .geemap-dark .jupyter-button {\n",
       "                    --jp-layout-color3: #383838;\n",
       "                }\n",
       "\n",
       "                .geemap-colab {\n",
       "                    background-color: var(--colab-primary-surface-color, white);\n",
       "                }\n",
       "\n",
       "                .geemap-colab .jupyter-button {\n",
       "                    --jp-layout-color3: var(--colab-primary-surface-color, white);\n",
       "                }\n",
       "            </style>\n",
       "            "
      ],
      "text/plain": [
       "<IPython.core.display.HTML object>"
      ]
     },
     "metadata": {},
     "output_type": "display_data"
    },
    {
     "data": {
      "text/plain": [
       "pandas.core.frame.DataFrame"
      ]
     },
     "execution_count": 113,
     "metadata": {},
     "output_type": "execute_result"
    }
   ],
   "source": [
    "type(df_surface_ratio)"
   ]
  },
  {
   "cell_type": "code",
   "execution_count": 114,
   "id": "b6f462a1-e3bd-4ee1-a2af-c062c4171d6d",
   "metadata": {},
   "outputs": [
    {
     "data": {
      "text/html": [
       "\n",
       "            <style>\n",
       "                .geemap-dark {\n",
       "                    --jp-widgets-color: white;\n",
       "                    --jp-widgets-label-color: white;\n",
       "                    --jp-ui-font-color1: white;\n",
       "                    --jp-layout-color2: #454545;\n",
       "                    background-color: #383838;\n",
       "                }\n",
       "\n",
       "                .geemap-dark .jupyter-button {\n",
       "                    --jp-layout-color3: #383838;\n",
       "                }\n",
       "\n",
       "                .geemap-colab {\n",
       "                    background-color: var(--colab-primary-surface-color, white);\n",
       "                }\n",
       "\n",
       "                .geemap-colab .jupyter-button {\n",
       "                    --jp-layout-color3: var(--colab-primary-surface-color, white);\n",
       "                }\n",
       "            </style>\n",
       "            "
      ],
      "text/plain": [
       "<IPython.core.display.HTML object>"
      ]
     },
     "metadata": {},
     "output_type": "display_data"
    },
    {
     "name": "stderr",
     "output_type": "stream",
     "text": [
      "C:\\Users\\ronir\\AppData\\Local\\Temp\\ipykernel_29432\\2773781216.py:14: FutureWarning: The default of observed=False is deprecated and will be changed to True in a future version of pandas. Pass observed=False to retain current behavior or observed=True to adopt the future default and silence this warning.\n",
      "  bin_means = df_surface_ratio.groupby('pixel_bin')['surface_covered_ratio'].mean()\n"
     ]
    },
    {
     "data": {
      "image/png": "[encoded data removed]",
      "text/plain": [
       "<Figure size 1000x500 with 1 Axes>"
      ]
     },
     "metadata": {},
     "output_type": "display_data"
    }
   ],
   "source": [
    "import pandas as pd\n",
    "import matplotlib.pyplot as plt\n",
    "\n",
    "# 1. Créer une colonne avec le nombre de pixels Landsat\n",
    "\n",
    "\n",
    "# 2. Définir les bins (classes de taille)\n",
    "\n",
    "\n",
    "# 3. Appliquer pd.cut pour créer les classes\n",
    "\n",
    "\n",
    "# 4. Calculer la moyenne du % de surface détectée par classe\n",
    "bin_means = df_surface_ratio.groupby('pixel_bin')['surface_covered_ratio'].mean()\n",
    "\n",
    "# 5. Tracer l’évolution du % de surface détectée\n",
    "plt.figure(figsize=(10, 5))\n",
    "bin_means.plot(kind='bar', color='skyblue', edgecolor='black')\n",
    "\n",
    "plt.xlabel('Classe de taille (en pixels Landsat)')\n",
    "plt.ylabel('% moyen de surface détectée')\n",
    "plt.title('Évolution du % de surface détectée selon la taille des lacs')\n",
    "plt.xticks(rotation=45)\n",
    "plt.ylim(0, 110)\n",
    "plt.grid(axis='y', linestyle='--', alpha=0.6)\n",
    "plt.tight_layout()\n",
    "plt.show()\n"
   ]
  },
  {
   "cell_type": "code",
   "execution_count": 115,
   "id": "6f2d101a-9cfe-4c53-9e9e-9abc85d7517e",
   "metadata": {},
   "outputs": [
    {
     "data": {
      "text/html": [
       "\n",
       "            <style>\n",
       "                .geemap-dark {\n",
       "                    --jp-widgets-color: white;\n",
       "                    --jp-widgets-label-color: white;\n",
       "                    --jp-ui-font-color1: white;\n",
       "                    --jp-layout-color2: #454545;\n",
       "                    background-color: #383838;\n",
       "                }\n",
       "\n",
       "                .geemap-dark .jupyter-button {\n",
       "                    --jp-layout-color3: #383838;\n",
       "                }\n",
       "\n",
       "                .geemap-colab {\n",
       "                    background-color: var(--colab-primary-surface-color, white);\n",
       "                }\n",
       "\n",
       "                .geemap-colab .jupyter-button {\n",
       "                    --jp-layout-color3: var(--colab-primary-surface-color, white);\n",
       "                }\n",
       "            </style>\n",
       "            "
      ],
      "text/plain": [
       "<IPython.core.display.HTML object>"
      ]
     },
     "metadata": {},
     "output_type": "display_data"
    },
    {
     "data": {
      "image/png": "[encoded data removed]",
      "text/plain": [
       "<Figure size 800x600 with 1 Axes>"
      ]
     },
     "metadata": {},
     "output_type": "display_data"
    }
   ],
   "source": [
    "\n",
    "# Conversion des surfaces - ici pas besoin de convertir km² en m², tes surfaces sont déjà en m²\n",
    "df_surface_ratio['area_m2_classif'] = df_surface_ratio['area_detected_lake_m²']  # surface détectée\n",
    "df_surface_ratio['area_m2_inrae'] = df_surface_ratio['area_inrae']  # surface INRAE\n",
    "\n",
    "# Calcul de la différence en m²\n",
    "df_surface_ratio['surface_diff_m2'] = df_surface_ratio['area_m2_classif'] - df_surface_ratio['area_m2_inrae']\n",
    "\n",
    "# Taille en pixels Landsat (900 m² par pixel)\n",
    "df_surface_ratio['area_pixels_landsat'] = df_surface_ratio['area_m2_inrae'] / 900\n",
    "\n",
    "# Différence en % relative à INRAE\n",
    "df_surface_ratio['surface_diff_percent'] = (df_surface_ratio['surface_diff_m2'] / df_surface_ratio['area_m2_inrae']) * 100\n",
    "\n",
    "# Suppression des lignes avec NaN pour éviter les erreurs de plot\n",
    "df_plot = df_surface_ratio.dropna(subset=['area_pixels_landsat', 'surface_diff_percent'])\n",
    "\n",
    "# Plot\n",
    "plt.figure(figsize=(8, 6))\n",
    "plt.scatter(df_plot['area_pixels_landsat'], df_plot['surface_diff_percent'], alpha=0.6, color='darkblue', edgecolors='k')\n",
    "plt.axhline(0, color='red', linestyle='--')\n",
    "plt.title(\"Difference in Surface Area (detected - INRAE) vs. Lake Size\")\n",
    "plt.xlabel(\"Lake Size (number of Landsat pixels, 30m x 30m)\")\n",
    "plt.ylabel(\"Difference in Surface Area (%)\")\n",
    "plt.xscale('log')\n",
    "plt.grid(True)\n",
    "plt.tight_layout()\n",
    "#plt.savefig(\"C:/Users/ronir/Desktop/Stage_Carrtel_2025/Resultats/validation_lake_classif/Bilan_validation_clean/Difference_in_Surface_Area_(detected_INRAE)_vs_Lake_Size\")\n",
    "plt.show()"
   ]
  },
  {
   "cell_type": "markdown",
   "id": "99a58774-b701-4def-9a2e-251a887cc3da",
   "metadata": {},
   "source": [
    "Valeur abérante à cause de mismatch id, "
   ]
  },
  {
   "cell_type": "markdown",
   "id": "735e62f7-ac1b-4570-a5f3-8703bf4a01e5",
   "metadata": {},
   "source": [
    " ## Comparison of surface detected/not detetected"
   ]
  },
  {
   "cell_type": "code",
   "execution_count": 116,
   "id": "6def49bc-80dd-4fa7-8451-e5ad75368272",
   "metadata": {},
   "outputs": [
    {
     "data": {
      "text/html": [
       "\n",
       "            <style>\n",
       "                .geemap-dark {\n",
       "                    --jp-widgets-color: white;\n",
       "                    --jp-widgets-label-color: white;\n",
       "                    --jp-ui-font-color1: white;\n",
       "                    --jp-layout-color2: #454545;\n",
       "                    background-color: #383838;\n",
       "                }\n",
       "\n",
       "                .geemap-dark .jupyter-button {\n",
       "                    --jp-layout-color3: #383838;\n",
       "                }\n",
       "\n",
       "                .geemap-colab {\n",
       "                    background-color: var(--colab-primary-surface-color, white);\n",
       "                }\n",
       "\n",
       "                .geemap-colab .jupyter-button {\n",
       "                    --jp-layout-color3: var(--colab-primary-surface-color, white);\n",
       "                }\n",
       "            </style>\n",
       "            "
      ],
      "text/plain": [
       "<IPython.core.display.HTML object>"
      ]
     },
     "metadata": {},
     "output_type": "display_data"
    },
    {
     "data": {
      "text/html": [
       "<div>\n",
       "<style scoped>\n",
       "    .dataframe tbody tr th:only-of-type {\n",
       "        vertical-align: middle;\n",
       "    }\n",
       "\n",
       "    .dataframe tbody tr th {\n",
       "        vertical-align: top;\n",
       "    }\n",
       "\n",
       "    .dataframe thead th {\n",
       "        text-align: right;\n",
       "    }\n",
       "</style>\n",
       "<table border=\"1\" class=\"dataframe\">\n",
       "  <thead>\n",
       "    <tr style=\"text-align: right;\">\n",
       "      <th></th>\n",
       "      <th>lake_id</th>\n",
       "      <th>area_detected_lake_m²</th>\n",
       "      <th>area_inrae</th>\n",
       "      <th>surface_covered_ratio</th>\n",
       "      <th>real_surface_covered_ratio_clipped</th>\n",
       "      <th>landsat_pixels</th>\n",
       "      <th>pixel_bin</th>\n",
       "      <th>area_m2_classif</th>\n",
       "      <th>area_m2_inrae</th>\n",
       "      <th>surface_diff_m2</th>\n",
       "      <th>area_pixels_landsat</th>\n",
       "      <th>surface_diff_percent</th>\n",
       "    </tr>\n",
       "  </thead>\n",
       "  <tbody>\n",
       "    <tr>\n",
       "      <th>0</th>\n",
       "      <td>13.0</td>\n",
       "      <td>507.001860</td>\n",
       "      <td>3780.062078</td>\n",
       "      <td>13.412527</td>\n",
       "      <td>13.412527</td>\n",
       "      <td>4.200069</td>\n",
       "      <td>4–10</td>\n",
       "      <td>507.001860</td>\n",
       "      <td>3780.062078</td>\n",
       "      <td>-3273.060218</td>\n",
       "      <td>4.200069</td>\n",
       "      <td>-86.587473</td>\n",
       "    </tr>\n",
       "    <tr>\n",
       "      <th>1</th>\n",
       "      <td>14.0</td>\n",
       "      <td>1078.087849</td>\n",
       "      <td>4275.174484</td>\n",
       "      <td>25.217400</td>\n",
       "      <td>25.217400</td>\n",
       "      <td>4.750194</td>\n",
       "      <td>4–10</td>\n",
       "      <td>1078.087849</td>\n",
       "      <td>4275.174484</td>\n",
       "      <td>-3197.086636</td>\n",
       "      <td>4.750194</td>\n",
       "      <td>-74.782600</td>\n",
       "    </tr>\n",
       "    <tr>\n",
       "      <th>2</th>\n",
       "      <td>17.0</td>\n",
       "      <td>8872.841283</td>\n",
       "      <td>21113.624797</td>\n",
       "      <td>42.024244</td>\n",
       "      <td>42.024244</td>\n",
       "      <td>23.459583</td>\n",
       "      <td>10–50</td>\n",
       "      <td>8872.841283</td>\n",
       "      <td>21113.624797</td>\n",
       "      <td>-12240.783514</td>\n",
       "      <td>23.459583</td>\n",
       "      <td>-57.975756</td>\n",
       "    </tr>\n",
       "    <tr>\n",
       "      <th>3</th>\n",
       "      <td>19.0</td>\n",
       "      <td>62592.812662</td>\n",
       "      <td>77285.598031</td>\n",
       "      <td>80.988974</td>\n",
       "      <td>80.988974</td>\n",
       "      <td>85.872887</td>\n",
       "      <td>50–100</td>\n",
       "      <td>62592.812662</td>\n",
       "      <td>77285.598031</td>\n",
       "      <td>-14692.785369</td>\n",
       "      <td>85.872887</td>\n",
       "      <td>-19.011026</td>\n",
       "    </tr>\n",
       "    <tr>\n",
       "      <th>4</th>\n",
       "      <td>21.0</td>\n",
       "      <td>4136.809516</td>\n",
       "      <td>8925.679161</td>\n",
       "      <td>46.347280</td>\n",
       "      <td>46.347279</td>\n",
       "      <td>9.917421</td>\n",
       "      <td>4–10</td>\n",
       "      <td>4136.809516</td>\n",
       "      <td>8925.679161</td>\n",
       "      <td>-4788.869645</td>\n",
       "      <td>9.917421</td>\n",
       "      <td>-53.652720</td>\n",
       "    </tr>\n",
       "    <tr>\n",
       "      <th>...</th>\n",
       "      <td>...</td>\n",
       "      <td>...</td>\n",
       "      <td>...</td>\n",
       "      <td>...</td>\n",
       "      <td>...</td>\n",
       "      <td>...</td>\n",
       "      <td>...</td>\n",
       "      <td>...</td>\n",
       "      <td>...</td>\n",
       "      <td>...</td>\n",
       "      <td>...</td>\n",
       "      <td>...</td>\n",
       "    </tr>\n",
       "    <tr>\n",
       "      <th>73</th>\n",
       "      <td>1399.0</td>\n",
       "      <td>15468.462201</td>\n",
       "      <td>26693.767280</td>\n",
       "      <td>57.947842</td>\n",
       "      <td>57.947842</td>\n",
       "      <td>29.659741</td>\n",
       "      <td>10–50</td>\n",
       "      <td>15468.462201</td>\n",
       "      <td>26693.767280</td>\n",
       "      <td>-11225.305079</td>\n",
       "      <td>29.659741</td>\n",
       "      <td>-42.052158</td>\n",
       "    </tr>\n",
       "    <tr>\n",
       "      <th>74</th>\n",
       "      <td>1611.0</td>\n",
       "      <td>156.776521</td>\n",
       "      <td>1938.237046</td>\n",
       "      <td>8.088614</td>\n",
       "      <td>8.088614</td>\n",
       "      <td>2.153597</td>\n",
       "      <td>2–4</td>\n",
       "      <td>156.776521</td>\n",
       "      <td>1938.237046</td>\n",
       "      <td>-1781.460524</td>\n",
       "      <td>2.153597</td>\n",
       "      <td>-91.911386</td>\n",
       "    </tr>\n",
       "    <tr>\n",
       "      <th>75</th>\n",
       "      <td>2057.0</td>\n",
       "      <td>5549.722612</td>\n",
       "      <td>8166.674673</td>\n",
       "      <td>67.955720</td>\n",
       "      <td>67.955719</td>\n",
       "      <td>9.074083</td>\n",
       "      <td>4–10</td>\n",
       "      <td>5549.722612</td>\n",
       "      <td>8166.674673</td>\n",
       "      <td>-2616.952061</td>\n",
       "      <td>9.074083</td>\n",
       "      <td>-32.044280</td>\n",
       "    </tr>\n",
       "    <tr>\n",
       "      <th>76</th>\n",
       "      <td>2253.0</td>\n",
       "      <td>540.133464</td>\n",
       "      <td>1128.012572</td>\n",
       "      <td>47.883639</td>\n",
       "      <td>47.883639</td>\n",
       "      <td>1.253347</td>\n",
       "      <td>1–2</td>\n",
       "      <td>540.133464</td>\n",
       "      <td>1128.012572</td>\n",
       "      <td>-587.879109</td>\n",
       "      <td>1.253347</td>\n",
       "      <td>-52.116361</td>\n",
       "    </tr>\n",
       "    <tr>\n",
       "      <th>77</th>\n",
       "      <td>2254.0</td>\n",
       "      <td>8145.455496</td>\n",
       "      <td>17851.239716</td>\n",
       "      <td>45.629635</td>\n",
       "      <td>45.629635</td>\n",
       "      <td>19.834711</td>\n",
       "      <td>10–50</td>\n",
       "      <td>8145.455496</td>\n",
       "      <td>17851.239716</td>\n",
       "      <td>-9705.784221</td>\n",
       "      <td>19.834711</td>\n",
       "      <td>-54.370365</td>\n",
       "    </tr>\n",
       "  </tbody>\n",
       "</table>\n",
       "<p>78 rows × 12 columns</p>\n",
       "</div>"
      ],
      "text/plain": [
       "    lake_id  area_detected_lake_m²    area_inrae  surface_covered_ratio  \\\n",
       "0      13.0             507.001860   3780.062078              13.412527   \n",
       "1      14.0            1078.087849   4275.174484              25.217400   \n",
       "2      17.0            8872.841283  21113.624797              42.024244   \n",
       "3      19.0           62592.812662  77285.598031              80.988974   \n",
       "4      21.0            4136.809516   8925.679161              46.347280   \n",
       "..      ...                    ...           ...                    ...   \n",
       "73   1399.0           15468.462201  26693.767280              57.947842   \n",
       "74   1611.0             156.776521   1938.237046               8.088614   \n",
       "75   2057.0            5549.722612   8166.674673              67.955720   \n",
       "76   2253.0             540.133464   1128.012572              47.883639   \n",
       "77   2254.0            8145.455496  17851.239716              45.629635   \n",
       "\n",
       "    real_surface_covered_ratio_clipped  landsat_pixels pixel_bin  \\\n",
       "0                            13.412527        4.200069      4–10   \n",
       "1                            25.217400        4.750194      4–10   \n",
       "2                            42.024244       23.459583     10–50   \n",
       "3                            80.988974       85.872887    50–100   \n",
       "4                            46.347279        9.917421      4–10   \n",
       "..                                 ...             ...       ...   \n",
       "73                           57.947842       29.659741     10–50   \n",
       "74                            8.088614        2.153597       2–4   \n",
       "75                           67.955719        9.074083      4–10   \n",
       "76                           47.883639        1.253347       1–2   \n",
       "77                           45.629635       19.834711     10–50   \n",
       "\n",
       "    area_m2_classif  area_m2_inrae  surface_diff_m2  area_pixels_landsat  \\\n",
       "0        507.001860    3780.062078     -3273.060218             4.200069   \n",
       "1       1078.087849    4275.174484     -3197.086636             4.750194   \n",
       "2       8872.841283   21113.624797    -12240.783514            23.459583   \n",
       "3      62592.812662   77285.598031    -14692.785369            85.872887   \n",
       "4       4136.809516    8925.679161     -4788.869645             9.917421   \n",
       "..              ...            ...              ...                  ...   \n",
       "73     15468.462201   26693.767280    -11225.305079            29.659741   \n",
       "74       156.776521    1938.237046     -1781.460524             2.153597   \n",
       "75      5549.722612    8166.674673     -2616.952061             9.074083   \n",
       "76       540.133464    1128.012572      -587.879109             1.253347   \n",
       "77      8145.455496   17851.239716     -9705.784221            19.834711   \n",
       "\n",
       "    surface_diff_percent  \n",
       "0             -86.587473  \n",
       "1             -74.782600  \n",
       "2             -57.975756  \n",
       "3             -19.011026  \n",
       "4             -53.652720  \n",
       "..                   ...  \n",
       "73            -42.052158  \n",
       "74            -91.911386  \n",
       "75            -32.044280  \n",
       "76            -52.116361  \n",
       "77            -54.370365  \n",
       "\n",
       "[78 rows x 12 columns]"
      ]
     },
     "execution_count": 116,
     "metadata": {},
     "output_type": "execute_result"
    }
   ],
   "source": [
    "df_surface_ratio"
   ]
  },
  {
   "cell_type": "code",
   "execution_count": 117,
   "id": "aa383744-09e0-43cc-8bff-eab99eab5e1f",
   "metadata": {},
   "outputs": [
    {
     "data": {
      "text/html": [
       "\n",
       "            <style>\n",
       "                .geemap-dark {\n",
       "                    --jp-widgets-color: white;\n",
       "                    --jp-widgets-label-color: white;\n",
       "                    --jp-ui-font-color1: white;\n",
       "                    --jp-layout-color2: #454545;\n",
       "                    background-color: #383838;\n",
       "                }\n",
       "\n",
       "                .geemap-dark .jupyter-button {\n",
       "                    --jp-layout-color3: #383838;\n",
       "                }\n",
       "\n",
       "                .geemap-colab {\n",
       "                    background-color: var(--colab-primary-surface-color, white);\n",
       "                }\n",
       "\n",
       "                .geemap-colab .jupyter-button {\n",
       "                    --jp-layout-color3: var(--colab-primary-surface-color, white);\n",
       "                }\n",
       "            </style>\n",
       "            "
      ],
      "text/plain": [
       "<IPython.core.display.HTML object>"
      ]
     },
     "metadata": {},
     "output_type": "display_data"
    },
    {
     "data": {
      "text/html": [
       "<div>\n",
       "<style scoped>\n",
       "    .dataframe tbody tr th:only-of-type {\n",
       "        vertical-align: middle;\n",
       "    }\n",
       "\n",
       "    .dataframe tbody tr th {\n",
       "        vertical-align: top;\n",
       "    }\n",
       "\n",
       "    .dataframe thead th {\n",
       "        text-align: right;\n",
       "    }\n",
       "</style>\n",
       "<table border=\"1\" class=\"dataframe\">\n",
       "  <thead>\n",
       "    <tr style=\"text-align: right;\">\n",
       "      <th></th>\n",
       "      <th>lake_id</th>\n",
       "      <th>area_detected_lake_m²</th>\n",
       "      <th>area_inrae</th>\n",
       "      <th>surface_covered_ratio</th>\n",
       "      <th>real_surface_covered_ratio_clipped</th>\n",
       "      <th>landsat_pixels</th>\n",
       "      <th>pixel_bin</th>\n",
       "      <th>area_m2_classif</th>\n",
       "      <th>area_m2_inrae</th>\n",
       "      <th>surface_diff_m2</th>\n",
       "      <th>area_pixels_landsat</th>\n",
       "      <th>surface_diff_percent</th>\n",
       "    </tr>\n",
       "  </thead>\n",
       "  <tbody>\n",
       "    <tr>\n",
       "      <th>74</th>\n",
       "      <td>1611.0</td>\n",
       "      <td>156.776521</td>\n",
       "      <td>1938.237046</td>\n",
       "      <td>8.088614</td>\n",
       "      <td>8.088614</td>\n",
       "      <td>2.153597</td>\n",
       "      <td>2–4</td>\n",
       "      <td>156.776521</td>\n",
       "      <td>1938.237046</td>\n",
       "      <td>-1781.460524</td>\n",
       "      <td>2.153597</td>\n",
       "      <td>-91.911386</td>\n",
       "    </tr>\n",
       "    <tr>\n",
       "      <th>71</th>\n",
       "      <td>887.0</td>\n",
       "      <td>575.989812</td>\n",
       "      <td>6733.362031</td>\n",
       "      <td>8.554268</td>\n",
       "      <td>8.554268</td>\n",
       "      <td>7.481513</td>\n",
       "      <td>4–10</td>\n",
       "      <td>575.989812</td>\n",
       "      <td>6733.362031</td>\n",
       "      <td>-6157.372219</td>\n",
       "      <td>7.481513</td>\n",
       "      <td>-91.445732</td>\n",
       "    </tr>\n",
       "    <tr>\n",
       "      <th>57</th>\n",
       "      <td>343.0</td>\n",
       "      <td>630.203200</td>\n",
       "      <td>6729.216408</td>\n",
       "      <td>9.365180</td>\n",
       "      <td>9.365180</td>\n",
       "      <td>7.476907</td>\n",
       "      <td>4–10</td>\n",
       "      <td>630.203200</td>\n",
       "      <td>6729.216408</td>\n",
       "      <td>-6099.013208</td>\n",
       "      <td>7.476907</td>\n",
       "      <td>-90.634820</td>\n",
       "    </tr>\n",
       "    <tr>\n",
       "      <th>0</th>\n",
       "      <td>13.0</td>\n",
       "      <td>507.001860</td>\n",
       "      <td>3780.062078</td>\n",
       "      <td>13.412527</td>\n",
       "      <td>13.412527</td>\n",
       "      <td>4.200069</td>\n",
       "      <td>4–10</td>\n",
       "      <td>507.001860</td>\n",
       "      <td>3780.062078</td>\n",
       "      <td>-3273.060218</td>\n",
       "      <td>4.200069</td>\n",
       "      <td>-86.587473</td>\n",
       "    </tr>\n",
       "    <tr>\n",
       "      <th>68</th>\n",
       "      <td>378.0</td>\n",
       "      <td>633.776857</td>\n",
       "      <td>4359.523832</td>\n",
       "      <td>14.537754</td>\n",
       "      <td>14.537754</td>\n",
       "      <td>4.843915</td>\n",
       "      <td>4–10</td>\n",
       "      <td>633.776857</td>\n",
       "      <td>4359.523832</td>\n",
       "      <td>-3725.746975</td>\n",
       "      <td>4.843915</td>\n",
       "      <td>-85.462246</td>\n",
       "    </tr>\n",
       "    <tr>\n",
       "      <th>...</th>\n",
       "      <td>...</td>\n",
       "      <td>...</td>\n",
       "      <td>...</td>\n",
       "      <td>...</td>\n",
       "      <td>...</td>\n",
       "      <td>...</td>\n",
       "      <td>...</td>\n",
       "      <td>...</td>\n",
       "      <td>...</td>\n",
       "      <td>...</td>\n",
       "      <td>...</td>\n",
       "      <td>...</td>\n",
       "    </tr>\n",
       "    <tr>\n",
       "      <th>5</th>\n",
       "      <td>30.0</td>\n",
       "      <td>67698.689384</td>\n",
       "      <td>75935.942083</td>\n",
       "      <td>89.152366</td>\n",
       "      <td>89.152366</td>\n",
       "      <td>84.373269</td>\n",
       "      <td>50–100</td>\n",
       "      <td>67698.689384</td>\n",
       "      <td>75935.942083</td>\n",
       "      <td>-8237.252699</td>\n",
       "      <td>84.373269</td>\n",
       "      <td>-10.847634</td>\n",
       "    </tr>\n",
       "    <tr>\n",
       "      <th>65</th>\n",
       "      <td>367.0</td>\n",
       "      <td>84995.268306</td>\n",
       "      <td>94886.780436</td>\n",
       "      <td>89.575458</td>\n",
       "      <td>89.575457</td>\n",
       "      <td>105.429756</td>\n",
       "      <td>100–500</td>\n",
       "      <td>84995.268306</td>\n",
       "      <td>94886.780436</td>\n",
       "      <td>-9891.512130</td>\n",
       "      <td>105.429756</td>\n",
       "      <td>-10.424542</td>\n",
       "    </tr>\n",
       "    <tr>\n",
       "      <th>36</th>\n",
       "      <td>221.0</td>\n",
       "      <td>79630.957788</td>\n",
       "      <td>87077.219631</td>\n",
       "      <td>91.448668</td>\n",
       "      <td>91.448668</td>\n",
       "      <td>96.752466</td>\n",
       "      <td>50–100</td>\n",
       "      <td>79630.957788</td>\n",
       "      <td>87077.219631</td>\n",
       "      <td>-7446.261843</td>\n",
       "      <td>96.752466</td>\n",
       "      <td>-8.551332</td>\n",
       "    </tr>\n",
       "    <tr>\n",
       "      <th>18</th>\n",
       "      <td>157.0</td>\n",
       "      <td>47341.764817</td>\n",
       "      <td>50945.033729</td>\n",
       "      <td>92.927144</td>\n",
       "      <td>92.927144</td>\n",
       "      <td>56.605593</td>\n",
       "      <td>50–100</td>\n",
       "      <td>47341.764817</td>\n",
       "      <td>50945.033729</td>\n",
       "      <td>-3603.268911</td>\n",
       "      <td>56.605593</td>\n",
       "      <td>-7.072856</td>\n",
       "    </tr>\n",
       "    <tr>\n",
       "      <th>33</th>\n",
       "      <td>207.0</td>\n",
       "      <td>77015.763522</td>\n",
       "      <td>81027.918376</td>\n",
       "      <td>95.048429</td>\n",
       "      <td>95.048429</td>\n",
       "      <td>90.031020</td>\n",
       "      <td>50–100</td>\n",
       "      <td>77015.763522</td>\n",
       "      <td>81027.918376</td>\n",
       "      <td>-4012.154854</td>\n",
       "      <td>90.031020</td>\n",
       "      <td>-4.951571</td>\n",
       "    </tr>\n",
       "  </tbody>\n",
       "</table>\n",
       "<p>78 rows × 12 columns</p>\n",
       "</div>"
      ],
      "text/plain": [
       "    lake_id  area_detected_lake_m²    area_inrae  surface_covered_ratio  \\\n",
       "74   1611.0             156.776521   1938.237046               8.088614   \n",
       "71    887.0             575.989812   6733.362031               8.554268   \n",
       "57    343.0             630.203200   6729.216408               9.365180   \n",
       "0      13.0             507.001860   3780.062078              13.412527   \n",
       "68    378.0             633.776857   4359.523832              14.537754   \n",
       "..      ...                    ...           ...                    ...   \n",
       "5      30.0           67698.689384  75935.942083              89.152366   \n",
       "65    367.0           84995.268306  94886.780436              89.575458   \n",
       "36    221.0           79630.957788  87077.219631              91.448668   \n",
       "18    157.0           47341.764817  50945.033729              92.927144   \n",
       "33    207.0           77015.763522  81027.918376              95.048429   \n",
       "\n",
       "    real_surface_covered_ratio_clipped  landsat_pixels pixel_bin  \\\n",
       "74                            8.088614        2.153597       2–4   \n",
       "71                            8.554268        7.481513      4–10   \n",
       "57                            9.365180        7.476907      4–10   \n",
       "0                            13.412527        4.200069      4–10   \n",
       "68                           14.537754        4.843915      4–10   \n",
       "..                                 ...             ...       ...   \n",
       "5                            89.152366       84.373269    50–100   \n",
       "65                           89.575457      105.429756   100–500   \n",
       "36                           91.448668       96.752466    50–100   \n",
       "18                           92.927144       56.605593    50–100   \n",
       "33                           95.048429       90.031020    50–100   \n",
       "\n",
       "    area_m2_classif  area_m2_inrae  surface_diff_m2  area_pixels_landsat  \\\n",
       "74       156.776521    1938.237046     -1781.460524             2.153597   \n",
       "71       575.989812    6733.362031     -6157.372219             7.481513   \n",
       "57       630.203200    6729.216408     -6099.013208             7.476907   \n",
       "0        507.001860    3780.062078     -3273.060218             4.200069   \n",
       "68       633.776857    4359.523832     -3725.746975             4.843915   \n",
       "..              ...            ...              ...                  ...   \n",
       "5      67698.689384   75935.942083     -8237.252699            84.373269   \n",
       "65     84995.268306   94886.780436     -9891.512130           105.429756   \n",
       "36     79630.957788   87077.219631     -7446.261843            96.752466   \n",
       "18     47341.764817   50945.033729     -3603.268911            56.605593   \n",
       "33     77015.763522   81027.918376     -4012.154854            90.031020   \n",
       "\n",
       "    surface_diff_percent  \n",
       "74            -91.911386  \n",
       "71            -91.445732  \n",
       "57            -90.634820  \n",
       "0             -86.587473  \n",
       "68            -85.462246  \n",
       "..                   ...  \n",
       "5             -10.847634  \n",
       "65            -10.424542  \n",
       "36             -8.551332  \n",
       "18             -7.072856  \n",
       "33             -4.951571  \n",
       "\n",
       "[78 rows x 12 columns]"
      ]
     },
     "execution_count": 117,
     "metadata": {},
     "output_type": "execute_result"
    }
   ],
   "source": [
    "df_surface_ratio.sort_values(by='surface_diff_percent')"
   ]
  },
  {
   "cell_type": "code",
   "execution_count": 126,
   "id": "d20ddef1-8fa1-40a3-a2b2-4228acbd3336",
   "metadata": {},
   "outputs": [
    {
     "data": {
      "text/html": [
       "\n",
       "            <style>\n",
       "                .geemap-dark {\n",
       "                    --jp-widgets-color: white;\n",
       "                    --jp-widgets-label-color: white;\n",
       "                    --jp-ui-font-color1: white;\n",
       "                    --jp-layout-color2: #454545;\n",
       "                    background-color: #383838;\n",
       "                }\n",
       "\n",
       "                .geemap-dark .jupyter-button {\n",
       "                    --jp-layout-color3: #383838;\n",
       "                }\n",
       "\n",
       "                .geemap-colab {\n",
       "                    background-color: var(--colab-primary-surface-color, white);\n",
       "                }\n",
       "\n",
       "                .geemap-colab .jupyter-button {\n",
       "                    --jp-layout-color3: var(--colab-primary-surface-color, white);\n",
       "                }\n",
       "            </style>\n",
       "            "
      ],
      "text/plain": [
       "<IPython.core.display.HTML object>"
      ]
     },
     "metadata": {},
     "output_type": "display_data"
    },
    {
     "name": "stderr",
     "output_type": "stream",
     "text": [
      "C:\\Users\\ronir\\AppData\\Local\\Temp\\ipykernel_29432\\3418543513.py:25: DeprecationWarning: DataFrameGroupBy.apply operated on the grouping columns. This behavior is deprecated, and in a future version of pandas the grouping columns will be excluded from the operation. Either pass `include_groups=False` to exclude the groupings or explicitly select the grouping columns after groupby to silence this warning.\n",
      "  grouped = df_surface_ratio.groupby('pixel_bin', observed=True).apply(compute_group_stats).reset_index()\n"
     ]
    },
    {
     "data": {
      "image/png": "[encoded data removed]",
      "text/plain": [
       "<Figure size 1100x700 with 1 Axes>"
      ]
     },
     "metadata": {},
     "output_type": "display_data"
    }
   ],
   "source": [
    "import numpy as np\n",
    "import pandas as pd\n",
    "import matplotlib.pyplot as plt\n",
    "from matplotlib.patches import Patch\n",
    "from matplotlib.lines import Line2D\n",
    "\n",
    "# --- 1. Calcul du pourcentage détecté par lac ---\n",
    "df_surface_ratio['surface_covered_ratio'] = (\n",
    "    df_surface_ratio['area_detected_lake_m²'] / df_surface_ratio['area_inrae']\n",
    ") * 100\n",
    "\n",
    "# --- 2. Agrégation par classe ---\n",
    "def compute_group_stats(x):\n",
    "    sum_area_inrae = x['area_inrae'].sum()\n",
    "    weighted_ratio = (\n",
    "        (x['surface_covered_ratio'] * x['area_inrae']).sum() / sum_area_inrae\n",
    "        if sum_area_inrae > 0 else np.nan\n",
    "    )\n",
    "    return pd.Series({\n",
    "        'sum_area_inrae': sum_area_inrae,\n",
    "        'sum_area_detected': x['area_detected_lake_m²'].sum(),\n",
    "        'weighted_avg_surface_covered_ratio': weighted_ratio\n",
    "    })\n",
    "\n",
    "grouped = df_surface_ratio.groupby('pixel_bin', observed=True).apply(compute_group_stats).reset_index()\n",
    "\n",
    "# --- 3. Conversion en km² ---\n",
    "grouped['sum_area_inrae'] /= 1e6\n",
    "grouped['sum_area_detected'] /= 1e6\n",
    "\n",
    "# --- 4. Totaux globaux ---\n",
    "total_inrae = grouped['sum_area_inrae'].sum()\n",
    "total_detected = grouped['sum_area_detected'].sum()\n",
    "global_ratio = (total_detected / total_inrae) * 100\n",
    "\n",
    "# --- 5. Graphique ---\n",
    "fig, ax = plt.subplots(figsize=(11, 7))\n",
    "x = np.arange(len(grouped['pixel_bin']))\n",
    "width = 0.35\n",
    "\n",
    "# Couleurs\n",
    "color_inrae = '#e06666'\n",
    "color_detected = '#6fa8dc'\n",
    "\n",
    "# Barres\n",
    "bar_inrae = ax.bar(x - width/2, grouped['sum_area_inrae'], width=width, color='lightgray',  edgecolor='black')\n",
    "bar_detected = ax.bar(x + width/2, grouped['sum_area_detected'], width=width, color='tomato', edgecolor='black')\n",
    "\n",
    "# Axes\n",
    "ax.set_xticks(x)\n",
    "ax.set_xticklabels(grouped['pixel_bin'], rotation=45, fontsize=14)  # taille plus grande pour ticks X\n",
    "ax.set_ylabel('Lake surface (km²)', fontsize=16)  # taille plus grande label Y\n",
    "ax.set_xlabel('Size class (bins based on INRAE surface)', fontsize=16)  # taille plus grande label X\n",
    "ax.set_title('INRAE vs Detected Surface per Size Class', fontsize=18, fontweight='bold')  # taille plus grande titre\n",
    "ax.grid(axis='y', linestyle='--', alpha=0.7)\n",
    "ax.grid(axis='x', linestyle='--', alpha=0.7)\n",
    "\n",
    "# Taille des ticks Y\n",
    "ax.tick_params(axis='y', labelsize=20)\n",
    "ax.tick_params(axis='x', labelsize=20)\n",
    "\n",
    "\n",
    "# Annotations des % au-dessus des barres détectées\n",
    "for i, (x_pos, det, pct) in enumerate(zip(x, grouped['sum_area_detected'], grouped['weighted_avg_surface_covered_ratio'])):\n",
    "    if pd.notna(pct) and np.isfinite(pct):\n",
    "        y_pos = det + max(det * 0.02, 0.005)\n",
    "        ax.text(x_pos+0.03 + width/2, y_pos, f'{pct:.1f}%', ha='center', va='bottom',\n",
    "                fontsize=12, color='black', fontweight='bold')\n",
    "\n",
    "# --- Légende principale ---\n",
    "legend_elements = [\n",
    "    Patch(facecolor='lightgray', label='Lake in INRAE Inventory'),\n",
    "    Patch(facecolor='tomato', label='Lake detected'),\n",
    "    Line2D([-10], [0], linestyle='None', color='black', label=f'Detected surface ratio per class (%): {82.7:.1f}%')\n",
    "]\n",
    "\n",
    "#ax.legend(handles=legend_elements, loc='center left', fontsize=14)\n",
    "\n",
    "# --- Encadré haut gauche : Totaux globaux ---\n",
    "text_box = (\n",
    "    f\"Total INRAE surface: {total_inrae:.2f} km²\\n\"\n",
    "    f\"Total detected surface: {total_detected:.2f} km²\\n\"\n",
    "    f\"Average detected surface ratio: {global_ratio:.1f} %\"\n",
    ")\n",
    "# ax.text(0.02, 0.95, text_box, transform=ax.transAxes,\n",
    "#         fontsize=14, \n",
    "#         bbox=dict(boxstyle='round', facecolor='white', edgecolor='gray', alpha=0.95),\n",
    "#         verticalalignment='top')\n",
    "\n",
    "plt.tight_layout()\n",
    "plt.savefig('C:/Users/ronir/Desktop/Stage_Carrtel_2025/Figure_def/INRAE_vs_classif')\n",
    "plt.show()\n"
   ]
  },
  {
   "cell_type": "code",
   "execution_count": 189,
   "id": "f49a402d-3b35-494d-981c-f38e1121abc7",
   "metadata": {},
   "outputs": [
    {
     "data": {
      "text/html": [
       "\n",
       "            <style>\n",
       "                .geemap-dark {\n",
       "                    --jp-widgets-color: white;\n",
       "                    --jp-widgets-label-color: white;\n",
       "                    --jp-ui-font-color1: white;\n",
       "                    --jp-layout-color2: #454545;\n",
       "                    background-color: #383838;\n",
       "                }\n",
       "\n",
       "                .geemap-dark .jupyter-button {\n",
       "                    --jp-layout-color3: #383838;\n",
       "                }\n",
       "\n",
       "                .geemap-colab {\n",
       "                    background-color: var(--colab-primary-surface-color, white);\n",
       "                }\n",
       "\n",
       "                .geemap-colab .jupyter-button {\n",
       "                    --jp-layout-color3: var(--colab-primary-surface-color, white);\n",
       "                }\n",
       "            </style>\n",
       "            "
      ],
      "text/plain": [
       "<IPython.core.display.HTML object>"
      ]
     },
     "metadata": {},
     "output_type": "display_data"
    },
    {
     "name": "stdout",
     "output_type": "stream",
     "text": [
      "  pixel_bin  n_detected_lakes\n",
      "0        <1                 0\n",
      "1       1–2                 1\n",
      "2       2–4                 8\n",
      "3      4–10                23\n",
      "4     10–50                31\n",
      "5    50–100                12\n",
      "6   100–500                 3\n",
      "7    500–1k                 0\n",
      "8       >1k                 0\n"
     ]
    },
    {
     "name": "stderr",
     "output_type": "stream",
     "text": [
      "C:\\Users\\ronir\\AppData\\Local\\Temp\\ipykernel_29972\\3526403912.py:5: FutureWarning: The default of observed=False is deprecated and will be changed to True in a future version of pandas. Pass observed=False to retain current behavior or observed=True to adopt the future default and silence this warning.\n",
      "  detected_per_bin = detected_lakes.groupby('pixel_bin')['lake_id'].count().reset_index(name='n_detected_lakes')\n"
     ]
    }
   ],
   "source": [
    "# Filtrer les lacs détectés\n",
    "detected_lakes = df_surface_ratio[df_surface_ratio['area_detected_lake_m²'] > 0]\n",
    "\n",
    "# Compter le nombre de lacs détectés par bin\n",
    "detected_per_bin = detected_lakes.groupby('pixel_bin')['lake_id'].count().reset_index(name='n_detected_lakes')\n",
    "\n",
    "print(detected_per_bin)"
   ]
  },
  {
   "cell_type": "markdown",
   "id": "3a59efe0-524c-4eac-a021-206984baef10",
   "metadata": {},
   "source": [
    "----------------------------------------------"
   ]
  },
  {
   "cell_type": "markdown",
   "id": "82b74cca-5608-4227-9074-c823921384a3",
   "metadata": {},
   "source": [
    "----------------------------------------------"
   ]
  },
  {
   "cell_type": "markdown",
   "id": "166401dc-c32f-4fbd-8da4-7063adaeff64",
   "metadata": {},
   "source": [
    "# Test for 2000"
   ]
  },
  {
   "cell_type": "code",
   "execution_count": null,
   "id": "4d466d09-9a14-4dd4-a41d-809d09a4f57a",
   "metadata": {},
   "outputs": [],
   "source": []
  }
 ],
 "metadata": {
  "kernelspec": {
   "display_name": "Python 3 (ipykernel)",
   "language": "python",
   "name": "python3"
  },
  "language_info": {
   "codemirror_mode": {
    "name": "ipython",
    "version": 3
   },
   "file_extension": ".py",
   "mimetype": "text/x-python",
   "name": "python",
   "nbconvert_exporter": "python",
   "pygments_lexer": "ipython3",
   "version": "3.11.11"
  }
 },
 "nbformat": 4,
 "nbformat_minor": 5
}
