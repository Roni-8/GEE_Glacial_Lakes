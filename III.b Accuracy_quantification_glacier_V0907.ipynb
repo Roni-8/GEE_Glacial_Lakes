{
 "cells": [
  {
   "cell_type": "code",
   "execution_count": 1,
   "id": "b801eb31-b896-4812-8bd3-cb3a337163c2",
   "metadata": {
    "scrolled": true,
    "tags": []
   },
   "outputs": [],
   "source": [
    "import os\n",
    "import numpy as np\n",
    "import pandas as pd\n",
    "\n",
    "import geopandas as gpd\n",
    "import ee, eemont\n",
    "import geemap\n",
    "import geemap.colormaps as geecm\n",
    "\n",
    "import matplotlib.pyplot as plt\n",
    "import cmocean"
   ]
  },
  {
   "cell_type": "markdown",
   "id": "f0e20780-cb96-4022-b758-39df0997f0b1",
   "metadata": {},
   "source": [
    "# 1. Initialization GEE"
   ]
  },
  {
   "cell_type": "code",
   "execution_count": 2,
   "id": "494e7473-f45d-443a-9d23-c917c1bb6bd1",
   "metadata": {
    "tags": []
   },
   "outputs": [
    {
     "data": {
      "text/html": [
       "\n",
       "            <style>\n",
       "                .geemap-dark {\n",
       "                    --jp-widgets-color: white;\n",
       "                    --jp-widgets-label-color: white;\n",
       "                    --jp-ui-font-color1: white;\n",
       "                    --jp-layout-color2: #454545;\n",
       "                    background-color: #383838;\n",
       "                }\n",
       "\n",
       "                .geemap-dark .jupyter-button {\n",
       "                    --jp-layout-color3: #383838;\n",
       "                }\n",
       "\n",
       "                .geemap-colab {\n",
       "                    background-color: var(--colab-primary-surface-color, white);\n",
       "                }\n",
       "\n",
       "                .geemap-colab .jupyter-button {\n",
       "                    --jp-layout-color3: var(--colab-primary-surface-color, white);\n",
       "                }\n",
       "            </style>\n",
       "            "
      ],
      "text/plain": [
       "<IPython.core.display.HTML object>"
      ]
     },
     "metadata": {},
     "output_type": "display_data"
    }
   ],
   "source": [
    "ee.Authenticate()\n",
    "ee.Initialize()"
   ]
  },
  {
   "cell_type": "markdown",
   "id": "53da2c29-298f-439e-8744-1ec6301c9f9e",
   "metadata": {
    "tags": [],
    "toc-hr-collapsed": true
   },
   "source": [
    "# 2. Load GEE datasets + parameters"
   ]
  },
  {
   "cell_type": "code",
   "execution_count": 3,
   "id": "8bcf7695-25e2-4b37-abe8-98ae3a4ecff4",
   "metadata": {
    "tags": []
   },
   "outputs": [
    {
     "data": {
      "text/html": [
       "\n",
       "            <style>\n",
       "                .geemap-dark {\n",
       "                    --jp-widgets-color: white;\n",
       "                    --jp-widgets-label-color: white;\n",
       "                    --jp-ui-font-color1: white;\n",
       "                    --jp-layout-color2: #454545;\n",
       "                    background-color: #383838;\n",
       "                }\n",
       "\n",
       "                .geemap-dark .jupyter-button {\n",
       "                    --jp-layout-color3: #383838;\n",
       "                }\n",
       "\n",
       "                .geemap-colab {\n",
       "                    background-color: var(--colab-primary-surface-color, white);\n",
       "                }\n",
       "\n",
       "                .geemap-colab .jupyter-button {\n",
       "                    --jp-layout-color3: var(--colab-primary-surface-color, white);\n",
       "                }\n",
       "            </style>\n",
       "            "
      ],
      "text/plain": [
       "<IPython.core.display.HTML object>"
      ]
     },
     "metadata": {},
     "output_type": "display_data"
    }
   ],
   "source": [
    "dem_glo30 = ee.ImageCollection(\"COPERNICUS/DEM/GLO30\")"
   ]
  },
  {
   "cell_type": "code",
   "execution_count": 4,
   "id": "cf9d9a99-2a67-423e-b3c4-61caced98218",
   "metadata": {},
   "outputs": [
    {
     "data": {
      "text/html": [
       "\n",
       "            <style>\n",
       "                .geemap-dark {\n",
       "                    --jp-widgets-color: white;\n",
       "                    --jp-widgets-label-color: white;\n",
       "                    --jp-ui-font-color1: white;\n",
       "                    --jp-layout-color2: #454545;\n",
       "                    background-color: #383838;\n",
       "                }\n",
       "\n",
       "                .geemap-dark .jupyter-button {\n",
       "                    --jp-layout-color3: #383838;\n",
       "                }\n",
       "\n",
       "                .geemap-colab {\n",
       "                    background-color: var(--colab-primary-surface-color, white);\n",
       "                }\n",
       "\n",
       "                .geemap-colab .jupyter-button {\n",
       "                    --jp-layout-color3: var(--colab-primary-surface-color, white);\n",
       "                }\n",
       "            </style>\n",
       "            "
      ],
      "text/plain": [
       "<IPython.core.display.HTML object>"
      ]
     },
     "metadata": {},
     "output_type": "display_data"
    }
   ],
   "source": [
    "scale = 30\n",
    "projection = \"EPSG:4326\" "
   ]
  },
  {
   "cell_type": "code",
   "execution_count": 113,
   "id": "34718629-3a54-4928-afb3-39c595c323a9",
   "metadata": {
    "tags": []
   },
   "outputs": [
    {
     "data": {
      "text/html": [
       "\n",
       "            <style>\n",
       "                .geemap-dark {\n",
       "                    --jp-widgets-color: white;\n",
       "                    --jp-widgets-label-color: white;\n",
       "                    --jp-ui-font-color1: white;\n",
       "                    --jp-layout-color2: #454545;\n",
       "                    background-color: #383838;\n",
       "                }\n",
       "\n",
       "                .geemap-dark .jupyter-button {\n",
       "                    --jp-layout-color3: #383838;\n",
       "                }\n",
       "\n",
       "                .geemap-colab {\n",
       "                    background-color: var(--colab-primary-surface-color, white);\n",
       "                }\n",
       "\n",
       "                .geemap-colab .jupyter-button {\n",
       "                    --jp-layout-color3: var(--colab-primary-surface-color, white);\n",
       "                }\n",
       "            </style>\n",
       "            "
      ],
      "text/plain": [
       "<IPython.core.display.HTML object>"
      ]
     },
     "metadata": {},
     "output_type": "display_data"
    }
   ],
   "source": [
    "EU_lia = ee.FeatureCollection('') # Add EU\n",
    "fc_lia = ee.FeatureCollection('users/aguerou/ice_and_life/carto_h1b/lia_shp/glaciers_1850_final_mars_2025')\n",
    "geom_lia = ee.Geometry.convexHull(fc_lia.geometry())\n",
    "alpes_FR = ee.FeatureCollection('users/aguerou/ice_and_life/erable_2025/data_ancillary/alpes_francaises')\n",
    "\n",
    "# Europe RGI Boundaries\n",
    "geom_RGI_2000=ee.FeatureCollection('projects/sat-io/open-datasets/RGI/RGI_VECTOR_MERGED_V7')\n",
    "geom_RGI_2015=ee.FeatureCollection('users/aguerou/ice_and_life/carto_h1b/lia_shp/c3s_gi_rgi11_s2_2015_v2')"
   ]
  },
  {
   "cell_type": "code",
   "execution_count": 71,
   "id": "0f75100d-2f25-4644-addc-f9757196f94b",
   "metadata": {},
   "outputs": [
    {
     "data": {
      "text/html": [
       "\n",
       "            <style>\n",
       "                .geemap-dark {\n",
       "                    --jp-widgets-color: white;\n",
       "                    --jp-widgets-label-color: white;\n",
       "                    --jp-ui-font-color1: white;\n",
       "                    --jp-layout-color2: #454545;\n",
       "                    background-color: #383838;\n",
       "                }\n",
       "\n",
       "                .geemap-dark .jupyter-button {\n",
       "                    --jp-layout-color3: #383838;\n",
       "                }\n",
       "\n",
       "                .geemap-colab {\n",
       "                    background-color: var(--colab-primary-surface-color, white);\n",
       "                }\n",
       "\n",
       "                .geemap-colab .jupyter-button {\n",
       "                    --jp-layout-color3: var(--colab-primary-surface-color, white);\n",
       "                }\n",
       "            </style>\n",
       "            "
      ],
      "text/plain": [
       "<IPython.core.display.HTML object>"
      ]
     },
     "metadata": {},
     "output_type": "display_data"
    }
   ],
   "source": [
    "# RGI in the FR alps only\n",
    "alpes_geom = geom_alpes_FR.geometry()\n",
    "\n",
    "RGI_2000_FR = ee.FeatureCollection('projects/ee-roniritzganem/assets/EU_GL/RGI_FR/RGI_2000_FR')\n",
    "RGI_2015_FR = ee.FeatureCollection('projects/ee-roniritzganem/assets/EU_GL/RGI_FR/RGI_2015_FR')"
   ]
  },
  {
   "cell_type": "code",
   "execution_count": 72,
   "id": "c1984444-c997-429a-9686-50f14d8c6b2c",
   "metadata": {},
   "outputs": [
    {
     "data": {
      "text/html": [
       "\n",
       "            <style>\n",
       "                .geemap-dark {\n",
       "                    --jp-widgets-color: white;\n",
       "                    --jp-widgets-label-color: white;\n",
       "                    --jp-ui-font-color1: white;\n",
       "                    --jp-layout-color2: #454545;\n",
       "                    background-color: #383838;\n",
       "                }\n",
       "\n",
       "                .geemap-dark .jupyter-button {\n",
       "                    --jp-layout-color3: #383838;\n",
       "                }\n",
       "\n",
       "                .geemap-colab {\n",
       "                    background-color: var(--colab-primary-surface-color, white);\n",
       "                }\n",
       "\n",
       "                .geemap-colab .jupyter-button {\n",
       "                    --jp-layout-color3: var(--colab-primary-surface-color, white);\n",
       "                }\n",
       "            </style>\n",
       "            "
      ],
      "text/plain": [
       "<IPython.core.display.HTML object>"
      ]
     },
     "metadata": {},
     "output_type": "display_data"
    }
   ],
   "source": [
    "years = range(1985, 2025)"
   ]
  },
  {
   "cell_type": "markdown",
   "id": "932ac81b-6345-4903-a853-464d9e11dd7d",
   "metadata": {},
   "source": [
    "## Pre-processing data (before gap filling and smoothing)"
   ]
  },
  {
   "cell_type": "code",
   "execution_count": 73,
   "id": "c939e1ff-7849-4d65-b102-2dfabaa3536f",
   "metadata": {},
   "outputs": [
    {
     "data": {
      "text/html": [
       "\n",
       "            <style>\n",
       "                .geemap-dark {\n",
       "                    --jp-widgets-color: white;\n",
       "                    --jp-widgets-label-color: white;\n",
       "                    --jp-ui-font-color1: white;\n",
       "                    --jp-layout-color2: #454545;\n",
       "                    background-color: #383838;\n",
       "                }\n",
       "\n",
       "                .geemap-dark .jupyter-button {\n",
       "                    --jp-layout-color3: #383838;\n",
       "                }\n",
       "\n",
       "                .geemap-colab {\n",
       "                    background-color: var(--colab-primary-surface-color, white);\n",
       "                }\n",
       "\n",
       "                .geemap-colab .jupyter-button {\n",
       "                    --jp-layout-color3: var(--colab-primary-surface-color, white);\n",
       "                }\n",
       "            </style>\n",
       "            "
      ],
      "text/plain": [
       "<IPython.core.display.HTML object>"
      ]
     },
     "metadata": {},
     "output_type": "display_data"
    }
   ],
   "source": [
    "\n",
    "# Créer une liste d'images en important les fichiers du répertoire\n",
    "Landsat_annualCollection_index= ee.ImageCollection([\n",
    "    ee.Image(f\"projects/ee-roniritzganem/assets/stage_carrtel_2025/landsat_annual_median_index/Landsat_{year}\")\n",
    "    for year in years\n",
    "])"
   ]
  },
  {
   "cell_type": "markdown",
   "id": "c32f03cd-c369-440a-9197-be2505828477",
   "metadata": {},
   "source": [
    "## Post-processing data (after gap filling and smoothing)"
   ]
  },
  {
   "cell_type": "code",
   "execution_count": 74,
   "id": "f49c594f-04a5-46b7-be79-791be35f33cf",
   "metadata": {},
   "outputs": [
    {
     "data": {
      "text/html": [
       "\n",
       "            <style>\n",
       "                .geemap-dark {\n",
       "                    --jp-widgets-color: white;\n",
       "                    --jp-widgets-label-color: white;\n",
       "                    --jp-ui-font-color1: white;\n",
       "                    --jp-layout-color2: #454545;\n",
       "                    background-color: #383838;\n",
       "                }\n",
       "\n",
       "                .geemap-dark .jupyter-button {\n",
       "                    --jp-layout-color3: #383838;\n",
       "                }\n",
       "\n",
       "                .geemap-colab {\n",
       "                    background-color: var(--colab-primary-surface-color, white);\n",
       "                }\n",
       "\n",
       "                .geemap-colab .jupyter-button {\n",
       "                    --jp-layout-color3: var(--colab-primary-surface-color, white);\n",
       "                }\n",
       "            </style>\n",
       "            "
      ],
      "text/plain": [
       "<IPython.core.display.HTML object>"
      ]
     },
     "metadata": {},
     "output_type": "display_data"
    }
   ],
   "source": [
    "#Importing TS IC\n",
    "\n",
    "gbr_ts_filled_smooth=ee.ImageCollection([\n",
    "    ee.Image(f\"projects/ee-roniritzganem/assets/stage_carrtel_2025/Time_series_GBR_NDWI_TIR/GBR/GBR_TS_filled_smooth_{year}\")\n",
    "    for year in years\n",
    "])"
   ]
  },
  {
   "cell_type": "markdown",
   "id": "b1589d61-94aa-4892-a7c1-8471d35f189b",
   "metadata": {},
   "source": [
    "Seuils de référence"
   ]
  },
  {
   "cell_type": "code",
   "execution_count": 75,
   "id": "40ebe2e3-0e9f-449c-a2d9-ff2973b35799",
   "metadata": {},
   "outputs": [
    {
     "data": {
      "text/html": [
       "\n",
       "            <style>\n",
       "                .geemap-dark {\n",
       "                    --jp-widgets-color: white;\n",
       "                    --jp-widgets-label-color: white;\n",
       "                    --jp-ui-font-color1: white;\n",
       "                    --jp-layout-color2: #454545;\n",
       "                    background-color: #383838;\n",
       "                }\n",
       "\n",
       "                .geemap-dark .jupyter-button {\n",
       "                    --jp-layout-color3: #383838;\n",
       "                }\n",
       "\n",
       "                .geemap-colab {\n",
       "                    background-color: var(--colab-primary-surface-color, white);\n",
       "                }\n",
       "\n",
       "                .geemap-colab .jupyter-button {\n",
       "                    --jp-layout-color3: var(--colab-primary-surface-color, white);\n",
       "                }\n",
       "            </style>\n",
       "            "
      ],
      "text/plain": [
       "<IPython.core.display.HTML object>"
      ]
     },
     "metadata": {},
     "output_type": "display_data"
    }
   ],
   "source": [
    "SlopeThresh = 30\n",
    "AltitudeThresh = 1000\n",
    "\n",
    "#Cloud correction\n",
    "cloudThresh = 0.4\n",
    "cloudBuff = 1000\n",
    "cloudCover = 50"
   ]
  },
  {
   "cell_type": "code",
   "execution_count": 76,
   "id": "09666a5e-f862-4bdf-8e6d-4df9ee01e2a0",
   "metadata": {},
   "outputs": [
    {
     "data": {
      "text/html": [
       "\n",
       "            <style>\n",
       "                .geemap-dark {\n",
       "                    --jp-widgets-color: white;\n",
       "                    --jp-widgets-label-color: white;\n",
       "                    --jp-ui-font-color1: white;\n",
       "                    --jp-layout-color2: #454545;\n",
       "                    background-color: #383838;\n",
       "                }\n",
       "\n",
       "                .geemap-dark .jupyter-button {\n",
       "                    --jp-layout-color3: #383838;\n",
       "                }\n",
       "\n",
       "                .geemap-colab {\n",
       "                    background-color: var(--colab-primary-surface-color, white);\n",
       "                }\n",
       "\n",
       "                .geemap-colab .jupyter-button {\n",
       "                    --jp-layout-color3: var(--colab-primary-surface-color, white);\n",
       "                }\n",
       "            </style>\n",
       "            "
      ],
      "text/plain": [
       "<IPython.core.display.HTML object>"
      ]
     },
     "metadata": {},
     "output_type": "display_data"
    }
   ],
   "source": [
    "#Seuils Test\n",
    "# 1,8 https://doi.org/10.1016/j.rse.2021.112862\n",
    "GlacierThreshold_1 = 2\n",
    "GlacierThreshold_2 = 3\n",
    "GlacierThreshold_3 = 4\n",
    "GlacierThreshold_4 = 6\n"
   ]
  },
  {
   "cell_type": "code",
   "execution_count": 77,
   "id": "6213127f-09a9-4e22-a611-852ac79fc9c7",
   "metadata": {},
   "outputs": [
    {
     "data": {
      "text/html": [
       "\n",
       "            <style>\n",
       "                .geemap-dark {\n",
       "                    --jp-widgets-color: white;\n",
       "                    --jp-widgets-label-color: white;\n",
       "                    --jp-ui-font-color1: white;\n",
       "                    --jp-layout-color2: #454545;\n",
       "                    background-color: #383838;\n",
       "                }\n",
       "\n",
       "                .geemap-dark .jupyter-button {\n",
       "                    --jp-layout-color3: #383838;\n",
       "                }\n",
       "\n",
       "                .geemap-colab {\n",
       "                    background-color: var(--colab-primary-surface-color, white);\n",
       "                }\n",
       "\n",
       "                .geemap-colab .jupyter-button {\n",
       "                    --jp-layout-color3: var(--colab-primary-surface-color, white);\n",
       "                }\n",
       "            </style>\n",
       "            "
      ],
      "text/plain": [
       "<IPython.core.display.HTML object>"
      ]
     },
     "metadata": {},
     "output_type": "display_data"
    }
   ],
   "source": [
    "palette_diff = geecm.get_palette('RdBu', n_class=7)\n",
    "palette_ndwi = geecm.get_palette('viridis', n_class=7)\n",
    "palette_gbr = cmocean.cm.ice\n",
    "palette_dem = cmocean.cm.solar\n",
    "palette_slope = cmocean.cm.matter\n",
    "visParams_diff = {'min': -2, 'max': 2, 'palette': palette_diff}\n",
    "visParams_ndwi = {'min': 0.0, 'max': 0.5, 'palette': palette_ndwi}\n",
    "visParams_gbr = {'min': 0, 'max': 10, 'palette': palette_gbr}\n",
    "visParams_dem = {'min': 1000, 'max': 4000, 'palette': palette_dem}\n",
    "visParams_slope = {'min': 20, 'max': 60, 'palette': palette_slope}\n",
    "\n",
    "vis_params_landsat = {\n",
    "    'bands': ['RED', 'GREEN', 'BLUE'],  # RGB\n",
    "    'min': 0.0,\n",
    "    'max': 0.3,\n",
    "    'gamma': 1.3\n",
    "}\n",
    "\n",
    "# 3 palettes glacier avec nuances différentes (au choix ici pour exemple)\n",
    "visGLACIER_1 = {\"min\": 0, \"max\": 1, \"palette\": [\"#808080\", \"#228B22\"]}   # Vert forêt\n",
    "visGLACIER_2 = {\"min\": 0, \"max\": 1, \"palette\": [\"#808080\", \"#FF00FF\"]}   # Magenta\n",
    "visGLACIER_3 = {\"min\": 0, \"max\": 1, \"palette\": [\"#808080\", \"#00FFFF\"]}   # Cyan\n",
    "visGLACIER_4 = {\"min\": 0, \"max\": 1, \"palette\": [\"#808080\", \"#FF0000\"]}   # Rouge vif\n",
    "visWATER = {\"min\": 0, \"max\": 1, \"palette\": [\"#00FFFF\", \"#0000FF\", \"#00008B\"]}  # Cyan → Bleu → Bleu foncé\n",
    "# visWATER_2 = {\"min\": 0, \"max\": 1, \"palette\": [\"#00FFFF\", \"#0000FF\", \"#00008B\"]}\n",
    "# visWATER_3 = {\"min\": 0, \"max\": 1, \"palette\": [\"#00FFFF\", \"#0000FF\", \"#00008B\"]}\n",
    "\n",
    "visVEGET = {\"min\": 0, \"max\": 1, \"palette\": [\"#808080\", \"#33a02c\"]}"
   ]
  },
  {
   "cell_type": "markdown",
   "id": "00a452bd-64b8-4869-852c-8e0be148d2d7",
   "metadata": {},
   "source": [
    "# 3. FUNCTIONS"
   ]
  },
  {
   "cell_type": "code",
   "execution_count": 78,
   "id": "7508f292-b830-4e25-862e-fcf8b00cb611",
   "metadata": {},
   "outputs": [
    {
     "data": {
      "text/html": [
       "\n",
       "            <style>\n",
       "                .geemap-dark {\n",
       "                    --jp-widgets-color: white;\n",
       "                    --jp-widgets-label-color: white;\n",
       "                    --jp-ui-font-color1: white;\n",
       "                    --jp-layout-color2: #454545;\n",
       "                    background-color: #383838;\n",
       "                }\n",
       "\n",
       "                .geemap-dark .jupyter-button {\n",
       "                    --jp-layout-color3: #383838;\n",
       "                }\n",
       "\n",
       "                .geemap-colab {\n",
       "                    background-color: var(--colab-primary-surface-color, white);\n",
       "                }\n",
       "\n",
       "                .geemap-colab .jupyter-button {\n",
       "                    --jp-layout-color3: var(--colab-primary-surface-color, white);\n",
       "                }\n",
       "            </style>\n",
       "            "
      ],
      "text/plain": [
       "<IPython.core.display.HTML object>"
      ]
     },
     "metadata": {},
     "output_type": "display_data"
    }
   ],
   "source": [
    "def classifyGlacier(image, seuil):\n",
    "    temp = image.select('GBR').gt(seuil)\n",
    "    mask = temp.where(temp.gte(1), 1)\n",
    "    return image.addBands(mask.rename('GLACIER').toInt())"
   ]
  },
  {
   "cell_type": "code",
   "execution_count": 79,
   "id": "f0456f11-fbda-4d81-8b1f-ad6af376ebe2",
   "metadata": {},
   "outputs": [
    {
     "data": {
      "text/html": [
       "\n",
       "            <style>\n",
       "                .geemap-dark {\n",
       "                    --jp-widgets-color: white;\n",
       "                    --jp-widgets-label-color: white;\n",
       "                    --jp-ui-font-color1: white;\n",
       "                    --jp-layout-color2: #454545;\n",
       "                    background-color: #383838;\n",
       "                }\n",
       "\n",
       "                .geemap-dark .jupyter-button {\n",
       "                    --jp-layout-color3: #383838;\n",
       "                }\n",
       "\n",
       "                .geemap-colab {\n",
       "                    background-color: var(--colab-primary-surface-color, white);\n",
       "                }\n",
       "\n",
       "                .geemap-colab .jupyter-button {\n",
       "                    --jp-layout-color3: var(--colab-primary-surface-color, white);\n",
       "                }\n",
       "            </style>\n",
       "            "
      ],
      "text/plain": [
       "<IPython.core.display.HTML object>"
      ]
     },
     "metadata": {},
     "output_type": "display_data"
    }
   ],
   "source": [
    "def get_slope(image):\n",
    "    return ee.Terrain.slope(image)"
   ]
  },
  {
   "cell_type": "code",
   "execution_count": 80,
   "id": "b4827d49-aaec-41df-a4f6-0d033541ac2d",
   "metadata": {},
   "outputs": [
    {
     "data": {
      "text/html": [
       "\n",
       "            <style>\n",
       "                .geemap-dark {\n",
       "                    --jp-widgets-color: white;\n",
       "                    --jp-widgets-label-color: white;\n",
       "                    --jp-ui-font-color1: white;\n",
       "                    --jp-layout-color2: #454545;\n",
       "                    background-color: #383838;\n",
       "                }\n",
       "\n",
       "                .geemap-dark .jupyter-button {\n",
       "                    --jp-layout-color3: #383838;\n",
       "                }\n",
       "\n",
       "                .geemap-colab {\n",
       "                    background-color: var(--colab-primary-surface-color, white);\n",
       "                }\n",
       "\n",
       "                .geemap-colab .jupyter-button {\n",
       "                    --jp-layout-color3: var(--colab-primary-surface-color, white);\n",
       "                }\n",
       "            </style>\n",
       "            "
      ],
      "text/plain": [
       "<IPython.core.display.HTML object>"
      ]
     },
     "metadata": {},
     "output_type": "display_data"
    }
   ],
   "source": [
    "def removeValley(image):\n",
    "    return image.updateMask(valley_mask)"
   ]
  },
  {
   "cell_type": "code",
   "execution_count": 81,
   "id": "38928b74-b0fa-45b1-8661-4180cf33027d",
   "metadata": {},
   "outputs": [
    {
     "data": {
      "text/html": [
       "\n",
       "            <style>\n",
       "                .geemap-dark {\n",
       "                    --jp-widgets-color: white;\n",
       "                    --jp-widgets-label-color: white;\n",
       "                    --jp-ui-font-color1: white;\n",
       "                    --jp-layout-color2: #454545;\n",
       "                    background-color: #383838;\n",
       "                }\n",
       "\n",
       "                .geemap-dark .jupyter-button {\n",
       "                    --jp-layout-color3: #383838;\n",
       "                }\n",
       "\n",
       "                .geemap-colab {\n",
       "                    background-color: var(--colab-primary-surface-color, white);\n",
       "                }\n",
       "\n",
       "                .geemap-colab .jupyter-button {\n",
       "                    --jp-layout-color3: var(--colab-primary-surface-color, white);\n",
       "                }\n",
       "            </style>\n",
       "            "
      ],
      "text/plain": [
       "<IPython.core.display.HTML object>"
      ]
     },
     "metadata": {},
     "output_type": "display_data"
    }
   ],
   "source": [
    "def mask_clip_lia(image): \n",
    "    return image.updateMask(image.neq(0))\n"
   ]
  },
  {
   "cell_type": "code",
   "execution_count": 82,
   "id": "856b6697-cd1c-429c-8533-66f261a7ec16",
   "metadata": {},
   "outputs": [
    {
     "data": {
      "text/html": [
       "\n",
       "            <style>\n",
       "                .geemap-dark {\n",
       "                    --jp-widgets-color: white;\n",
       "                    --jp-widgets-label-color: white;\n",
       "                    --jp-ui-font-color1: white;\n",
       "                    --jp-layout-color2: #454545;\n",
       "                    background-color: #383838;\n",
       "                }\n",
       "\n",
       "                .geemap-dark .jupyter-button {\n",
       "                    --jp-layout-color3: #383838;\n",
       "                }\n",
       "\n",
       "                .geemap-colab {\n",
       "                    background-color: var(--colab-primary-surface-color, white);\n",
       "                }\n",
       "\n",
       "                .geemap-colab .jupyter-button {\n",
       "                    --jp-layout-color3: var(--colab-primary-surface-color, white);\n",
       "                }\n",
       "            </style>\n",
       "            "
      ],
      "text/plain": [
       "<IPython.core.display.HTML object>"
      ]
     },
     "metadata": {},
     "output_type": "display_data"
    }
   ],
   "source": [
    "def clip_to_geometry(image,geom):\n",
    "    return image.clip(geom)"
   ]
  },
  {
   "cell_type": "markdown",
   "id": "c21943b1-48dc-4f4d-8d5f-f0c9d8da30a2",
   "metadata": {},
   "source": [
    "generating map for diff tresh"
   ]
  },
  {
   "cell_type": "code",
   "execution_count": 83,
   "id": "c1e30cbe-cc98-4f0b-a9c5-ffd8c02be979",
   "metadata": {},
   "outputs": [
    {
     "data": {
      "text/html": [
       "\n",
       "            <style>\n",
       "                .geemap-dark {\n",
       "                    --jp-widgets-color: white;\n",
       "                    --jp-widgets-label-color: white;\n",
       "                    --jp-ui-font-color1: white;\n",
       "                    --jp-layout-color2: #454545;\n",
       "                    background-color: #383838;\n",
       "                }\n",
       "\n",
       "                .geemap-dark .jupyter-button {\n",
       "                    --jp-layout-color3: #383838;\n",
       "                }\n",
       "\n",
       "                .geemap-colab {\n",
       "                    background-color: var(--colab-primary-surface-color, white);\n",
       "                }\n",
       "\n",
       "                .geemap-colab .jupyter-button {\n",
       "                    --jp-layout-color3: var(--colab-primary-surface-color, white);\n",
       "                }\n",
       "            </style>\n",
       "            "
      ],
      "text/plain": [
       "<IPython.core.display.HTML object>"
      ]
     },
     "metadata": {},
     "output_type": "display_data"
    }
   ],
   "source": [
    "def generate_seuil_for_years_preprocess(year_selected, Threshold):\n",
    "    # Select the annual image corresponding to the chosen year\n",
    "    image_annee = (Landsat_annualCollection_index\n",
    "                   .filter(ee.Filter.eq('year', year_selected))\n",
    "                   .first())\n",
    "    \n",
    "    # Convert the selected image into an ImageCollection\n",
    "    image_finale = ee.ImageCollection(image_annee)\n",
    "    \n",
    "    # Process the image using the given threshold:\n",
    "    # 1. Apply glacier classification using the threshold\n",
    "    # 2. Apply selfMask to keep only classified (non-zero) pixels\n",
    "    Seuil = image_finale.map(lambda image: classifyGlacier(image, Threshold))\\\n",
    "                         .map(lambda img: img.selfMask())\n",
    "    \n",
    "    # Select only the 'GLACIER' band from the classified images\n",
    "    Seuil_selected = Seuil.select(['GLACIER'])\n",
    "\n",
    "    # Merge all images into a single mosaic image\n",
    "    aire_threshold = Seuil_selected.mosaic()\n",
    "    \n",
    "    return aire_threshold"
   ]
  },
  {
   "cell_type": "code",
   "execution_count": 84,
   "id": "eca7cc67-28a3-4b3a-a12a-6db6bbf811d8",
   "metadata": {},
   "outputs": [
    {
     "data": {
      "text/html": [
       "\n",
       "            <style>\n",
       "                .geemap-dark {\n",
       "                    --jp-widgets-color: white;\n",
       "                    --jp-widgets-label-color: white;\n",
       "                    --jp-ui-font-color1: white;\n",
       "                    --jp-layout-color2: #454545;\n",
       "                    background-color: #383838;\n",
       "                }\n",
       "\n",
       "                .geemap-dark .jupyter-button {\n",
       "                    --jp-layout-color3: #383838;\n",
       "                }\n",
       "\n",
       "                .geemap-colab {\n",
       "                    background-color: var(--colab-primary-surface-color, white);\n",
       "                }\n",
       "\n",
       "                .geemap-colab .jupyter-button {\n",
       "                    --jp-layout-color3: var(--colab-primary-surface-color, white);\n",
       "                }\n",
       "            </style>\n",
       "            "
      ],
      "text/plain": [
       "<IPython.core.display.HTML object>"
      ]
     },
     "metadata": {},
     "output_type": "display_data"
    }
   ],
   "source": [
    "def generate_seuil_for_years_postprocess(year_selected, Threshold):\n",
    "    # Select the annual image corresponding to the chosen year\n",
    "    image_annee = (gbr_ts_filled_smooth\n",
    "                   .filter(ee.Filter.eq('year', year_selected))\n",
    "                   .first())\n",
    "    \n",
    "    # Convert the selected image into an ImageCollection\n",
    "    image_finale = ee.ImageCollection(image_annee)\n",
    "    \n",
    "    # Process the image using the given threshold:\n",
    "    # 1. Apply glacier classification using the threshold\n",
    "    # 2. Apply selfMask to keep only classified (non-zero) pixels\n",
    "    Seuil = image_finale.map(lambda image: classifyGlacier(image, Threshold))\\\n",
    "                         .map(lambda img: img.selfMask())\n",
    "    \n",
    "    # Select only the 'GLACIER' band from the classified images\n",
    "    Seuil_selected = Seuil.select(['GLACIER'])\n",
    "\n",
    "    # Merge all images into a single mosaic image\n",
    "    aire_threshold = Seuil_selected.mosaic()\n",
    "    \n",
    "    return aire_threshold"
   ]
  },
  {
   "cell_type": "markdown",
   "id": "69d2a697-a97d-4b17-a0e6-d3239bb50eba",
   "metadata": {},
   "source": [
    "Comparing with RGI 2000 and 2015"
   ]
  },
  {
   "cell_type": "code",
   "execution_count": 110,
   "id": "849f44b3-7ca0-4860-b1e4-20b4a4502fb2",
   "metadata": {
    "scrolled": true
   },
   "outputs": [
    {
     "data": {
      "text/html": [
       "\n",
       "            <style>\n",
       "                .geemap-dark {\n",
       "                    --jp-widgets-color: white;\n",
       "                    --jp-widgets-label-color: white;\n",
       "                    --jp-ui-font-color1: white;\n",
       "                    --jp-layout-color2: #454545;\n",
       "                    background-color: #383838;\n",
       "                }\n",
       "\n",
       "                .geemap-dark .jupyter-button {\n",
       "                    --jp-layout-color3: #383838;\n",
       "                }\n",
       "\n",
       "                .geemap-colab {\n",
       "                    background-color: var(--colab-primary-surface-color, white);\n",
       "                }\n",
       "\n",
       "                .geemap-colab .jupyter-button {\n",
       "                    --jp-layout-color3: var(--colab-primary-surface-color, white);\n",
       "                }\n",
       "            </style>\n",
       "            "
      ],
      "text/plain": [
       "<IPython.core.display.HTML object>"
      ]
     },
     "metadata": {},
     "output_type": "display_data"
    }
   ],
   "source": [
    "def glacier_accuracy(rgi_geom, aire_threshold):\n",
    "    # Compute the area (in km²) for each feature in the RGI geometry\n",
    "    rgi_with_area = rgi_geom.map(\n",
    "        lambda feature: feature.set(\n",
    "            {'areakm²': feature.geometry().area().divide(1e6)}))  # Convert m² to km²\n",
    "\n",
    "    # Calculate the total area of all RGI polygons\n",
    "    surface_totale_rgi = rgi_with_area.aggregate_sum('areakm²')\n",
    "\n",
    "    # ---- Glacier area inside RGI ----\n",
    "    # Clip the threshold image to the RGI geometry\n",
    "    # Multiply by pixel area \n",
    "    # Use reduceRegion to sum the glacier-covered area within RGI\n",
    "    glacier_in_rgi = aire_threshold.clip(rgi_geom).select('GLACIER') \\\n",
    "        .multiply(ee.Image.pixelArea()) \\\n",
    "        .reduceRegion(\n",
    "            reducer=ee.Reducer.sum(),\n",
    "            geometry=geom_lia,   # Study area geometry\n",
    "            scale=30,\n",
    "            crs=projection,\n",
    "            maxPixels=1e9\n",
    "        ).getNumber('GLACIER').divide(1e6)  # Convert m² to km²\n",
    "\n",
    "    # ---- Total glacier area in the entire study area ----\n",
    "    glacier_total = aire_threshold.select('GLACIER') \\\n",
    "        .multiply(ee.Image.pixelArea()) \\\n",
    "        .reduceRegion(\n",
    "            reducer=ee.Reducer.sum(),\n",
    "            geometry=geom_lia,\n",
    "            scale=30,\n",
    "            crs=projection,\n",
    "            maxPixels=1e9\n",
    "        ).getNumber('GLACIER').divide(1e6)\n",
    "\n",
    "    # ---- Commission Error ----\n",
    "    # Measures over-detection (glacier area outside RGI)\n",
    "    commission_error = (1 - (glacier_in_rgi.divide(glacier_total))) * 100\n",
    "\n",
    "    # ---- Completeness ----\n",
    "    # Measures how much of the RGI area is covered by detected glacier\n",
    "    completude = glacier_in_rgi.divide(surface_totale_rgi).multiply(100)\n",
    "\n",
    "    # Return both metrics as outputs\n",
    "    return commission_error, completude"
   ]
  },
  {
   "cell_type": "markdown",
   "id": "c32eeaa7-c831-40ed-9d2a-0e421667d2b6",
   "metadata": {},
   "source": [
    "Visualisation if necessary"
   ]
  },
  {
   "cell_type": "code",
   "execution_count": 86,
   "id": "f53f238d-319c-434d-8ddc-4b06f081dd4d",
   "metadata": {},
   "outputs": [
    {
     "data": {
      "text/html": [
       "\n",
       "            <style>\n",
       "                .geemap-dark {\n",
       "                    --jp-widgets-color: white;\n",
       "                    --jp-widgets-label-color: white;\n",
       "                    --jp-ui-font-color1: white;\n",
       "                    --jp-layout-color2: #454545;\n",
       "                    background-color: #383838;\n",
       "                }\n",
       "\n",
       "                .geemap-dark .jupyter-button {\n",
       "                    --jp-layout-color3: #383838;\n",
       "                }\n",
       "\n",
       "                .geemap-colab {\n",
       "                    background-color: var(--colab-primary-surface-color, white);\n",
       "                }\n",
       "\n",
       "                .geemap-colab .jupyter-button {\n",
       "                    --jp-layout-color3: var(--colab-primary-surface-color, white);\n",
       "                }\n",
       "            </style>\n",
       "            "
      ],
      "text/plain": [
       "<IPython.core.display.HTML object>"
      ]
     },
     "metadata": {},
     "output_type": "display_data"
    }
   ],
   "source": [
    "def afficher_carte_seuils(year_selected):\n",
    "\n",
    "    Map = geemap.Map(center=[45.9, 6.8], zoom=7)\n",
    "    Map.setCenter(6.5, 45.5, 8)\n",
    "\n",
    "    Map.addLayer(fc_lia, {}, 'LIA')\n",
    "    Map.add_basemap('SATELLITE')\n",
    "    Map.layers[-1].opacity = 0.5\n",
    "\n",
    "    #Map.addLayer(Landsat_processed_2000, vis_params_landsat, f'Landsat {year_selected} - Moyenne août {year_selected}')\n",
    "\n",
    "    Map.addLayer(geom_RGI_2000.style(color='blue', width=1), {}, 'RGI 2000 ')\n",
    "    Map.addLayer(geom_RGI_2015.style(color='white', width=1),{}, 'RGI 2015 ')\n",
    "\n",
    "\n",
    "    \n",
    "    for i in range(1, 5):\n",
    "        threshold_value = globals()[f\"GlacierThreshold_{i}\"]  \n",
    "        seuil_image = generate_seuil_for_years(year_selected, threshold_value)\n",
    "        vis = globals()[f\"visGLACIER_{i}\"]\n",
    "    \n",
    "        vector = seuil_image.select('GLACIER').reduceToVectors(\n",
    "            geometryType='polygon',\n",
    "            reducer=ee.Reducer.countEvery(),\n",
    "            scale=30,\n",
    "            geometry=geom_lia,\n",
    "            labelProperty='zone',\n",
    "            maxPixels=1e13\n",
    "            ).style(**{\n",
    "            'color': vis['palette'][1],\n",
    "            'fillColor': '00000000',\n",
    "            'width': 1\n",
    "             })\n",
    "\n",
    "        #Map.addLayer(vector, {}, f'Glacier_Seuil_{i} - Contours')\n",
    "        Map.addLayer(seuil_image.select('GLACIER'), vis, f'Glacier_Seuil{i}')\n",
    "\n",
    "    Map.addLayer(geom_RGI_FR_2000.style(color='blue', width=1), {}, 'RGI 2000 FR_bis')\n",
    "    Map.addLayer(geom_RGI_FR_2015.style(color='white', width=1),{}, 'RGI 2015 FR_bis')\n",
    "    \n",
    "    return Map"
   ]
  },
  {
   "cell_type": "markdown",
   "id": "dc716cc0-102e-4a27-ad57-ff516f09b291",
   "metadata": {},
   "source": [
    "# II. Terrain data / Timeseries Landsat"
   ]
  },
  {
   "cell_type": "markdown",
   "id": "f24bc6f9-1d8b-4831-9bd9-9d42f3123a94",
   "metadata": {},
   "source": [
    "Terrain"
   ]
  },
  {
   "cell_type": "code",
   "execution_count": 87,
   "id": "805d9fb2-f19d-4010-acf0-0d3f189f44e7",
   "metadata": {},
   "outputs": [
    {
     "data": {
      "text/html": [
       "\n",
       "            <style>\n",
       "                .geemap-dark {\n",
       "                    --jp-widgets-color: white;\n",
       "                    --jp-widgets-label-color: white;\n",
       "                    --jp-ui-font-color1: white;\n",
       "                    --jp-layout-color2: #454545;\n",
       "                    background-color: #383838;\n",
       "                }\n",
       "\n",
       "                .geemap-dark .jupyter-button {\n",
       "                    --jp-layout-color3: #383838;\n",
       "                }\n",
       "\n",
       "                .geemap-colab {\n",
       "                    background-color: var(--colab-primary-surface-color, white);\n",
       "                }\n",
       "\n",
       "                .geemap-colab .jupyter-button {\n",
       "                    --jp-layout-color3: var(--colab-primary-surface-color, white);\n",
       "                }\n",
       "            </style>\n",
       "            "
      ],
      "text/plain": [
       "<IPython.core.display.HTML object>"
      ]
     },
     "metadata": {},
     "output_type": "display_data"
    }
   ],
   "source": [
    "dem = ee.ImageCollection(dem_glo30).filterBounds(fc_lia).select(\"DEM\")\n",
    "dem_mosaic = dem.mosaic().clip(fc_lia)\n",
    "slope = dem.map(get_slope).mosaic().clip(fc_lia) \\\n",
    "#need to map on single image for slope function to work fine\n",
    "\n",
    "slope_mask = slope.lt(SlopeThresh)\n",
    "valley_mask = dem_mosaic.gt(AltitudeThresh)"
   ]
  },
  {
   "cell_type": "markdown",
   "id": "bd2436b5-1a15-447b-8788-d9f571f26794",
   "metadata": {},
   "source": [
    "# 4. Tresh calculation"
   ]
  },
  {
   "cell_type": "markdown",
   "id": "a67a137f-3a8e-4da7-b1b8-c67d84c1cab8",
   "metadata": {},
   "source": [
    "preprocessing"
   ]
  },
  {
   "cell_type": "code",
   "execution_count": 114,
   "id": "e1b91e37-c56b-4de1-9d18-a20b1e5ed4d4",
   "metadata": {},
   "outputs": [
    {
     "data": {
      "text/html": [
       "\n",
       "            <style>\n",
       "                .geemap-dark {\n",
       "                    --jp-widgets-color: white;\n",
       "                    --jp-widgets-label-color: white;\n",
       "                    --jp-ui-font-color1: white;\n",
       "                    --jp-layout-color2: #454545;\n",
       "                    background-color: #383838;\n",
       "                }\n",
       "\n",
       "                .geemap-dark .jupyter-button {\n",
       "                    --jp-layout-color3: #383838;\n",
       "                }\n",
       "\n",
       "                .geemap-colab {\n",
       "                    background-color: var(--colab-primary-surface-color, white);\n",
       "                }\n",
       "\n",
       "                .geemap-colab .jupyter-button {\n",
       "                    --jp-layout-color3: var(--colab-primary-surface-color, white);\n",
       "                }\n",
       "            </style>\n",
       "            "
      ],
      "text/plain": [
       "<IPython.core.display.HTML object>"
      ]
     },
     "metadata": {},
     "output_type": "display_data"
    }
   ],
   "source": [
    "Seuil1_2000_preprocess=generate_seuil_for_years_preprocess(2000,GlacierThreshold_1)\n",
    "Seuil2_2000_preprocess=generate_seuil_for_years_preprocess(2000,GlacierThreshold_2)\n",
    "Seuil3_2000_preprocess=generate_seuil_for_years_preprocess(2000,GlacierThreshold_3)\n",
    "Seuil4_2000_preprocess=generate_seuil_for_years_preprocess(2000,GlacierThreshold_4)\n"
   ]
  },
  {
   "cell_type": "code",
   "execution_count": 115,
   "id": "3eb227d6-d13f-4621-a30a-74025e1ee358",
   "metadata": {},
   "outputs": [
    {
     "data": {
      "text/html": [
       "\n",
       "            <style>\n",
       "                .geemap-dark {\n",
       "                    --jp-widgets-color: white;\n",
       "                    --jp-widgets-label-color: white;\n",
       "                    --jp-ui-font-color1: white;\n",
       "                    --jp-layout-color2: #454545;\n",
       "                    background-color: #383838;\n",
       "                }\n",
       "\n",
       "                .geemap-dark .jupyter-button {\n",
       "                    --jp-layout-color3: #383838;\n",
       "                }\n",
       "\n",
       "                .geemap-colab {\n",
       "                    background-color: var(--colab-primary-surface-color, white);\n",
       "                }\n",
       "\n",
       "                .geemap-colab .jupyter-button {\n",
       "                    --jp-layout-color3: var(--colab-primary-surface-color, white);\n",
       "                }\n",
       "            </style>\n",
       "            "
      ],
      "text/plain": [
       "<IPython.core.display.HTML object>"
      ]
     },
     "metadata": {},
     "output_type": "display_data"
    }
   ],
   "source": [
    "Seuil1_2015_preprocess=generate_seuil_for_years_preprocess(2015,GlacierThreshold_1)\n",
    "Seuil2_2015_preprocess=generate_seuil_for_years_preprocess(2015,GlacierThreshold_2)\n",
    "Seuil3_2015_preprocess=generate_seuil_for_years_preprocess(2015,GlacierThreshold_3)\n",
    "Seuil4_2015_preprocess=generate_seuil_for_years_preprocess(2015,GlacierThreshold_4)"
   ]
  },
  {
   "cell_type": "markdown",
   "id": "ff327f18-da44-450b-b393-d98c3f2b8474",
   "metadata": {},
   "source": [
    "postprocessing"
   ]
  },
  {
   "cell_type": "code",
   "execution_count": 116,
   "id": "3530a9fc-1b48-4db3-b612-b1652c80b7c7",
   "metadata": {},
   "outputs": [
    {
     "data": {
      "text/html": [
       "\n",
       "            <style>\n",
       "                .geemap-dark {\n",
       "                    --jp-widgets-color: white;\n",
       "                    --jp-widgets-label-color: white;\n",
       "                    --jp-ui-font-color1: white;\n",
       "                    --jp-layout-color2: #454545;\n",
       "                    background-color: #383838;\n",
       "                }\n",
       "\n",
       "                .geemap-dark .jupyter-button {\n",
       "                    --jp-layout-color3: #383838;\n",
       "                }\n",
       "\n",
       "                .geemap-colab {\n",
       "                    background-color: var(--colab-primary-surface-color, white);\n",
       "                }\n",
       "\n",
       "                .geemap-colab .jupyter-button {\n",
       "                    --jp-layout-color3: var(--colab-primary-surface-color, white);\n",
       "                }\n",
       "            </style>\n",
       "            "
      ],
      "text/plain": [
       "<IPython.core.display.HTML object>"
      ]
     },
     "metadata": {},
     "output_type": "display_data"
    }
   ],
   "source": [
    "Seuil1_2000_postprocess=generate_seuil_for_years_postprocess(2000,GlacierThreshold_1)\n",
    "Seuil2_2000_postprocess=generate_seuil_for_years_postprocess(2000,GlacierThreshold_2)\n",
    "Seuil3_2000_postprocess=generate_seuil_for_years_postprocess(2000,GlacierThreshold_3)\n",
    "Seuil4_2000_postprocess=generate_seuil_for_years_postprocess(2000,GlacierThreshold_4)\n"
   ]
  },
  {
   "cell_type": "code",
   "execution_count": 117,
   "id": "90d4d4bf-fdf4-40ce-a68e-1dd76e074a36",
   "metadata": {},
   "outputs": [
    {
     "data": {
      "text/html": [
       "\n",
       "            <style>\n",
       "                .geemap-dark {\n",
       "                    --jp-widgets-color: white;\n",
       "                    --jp-widgets-label-color: white;\n",
       "                    --jp-ui-font-color1: white;\n",
       "                    --jp-layout-color2: #454545;\n",
       "                    background-color: #383838;\n",
       "                }\n",
       "\n",
       "                .geemap-dark .jupyter-button {\n",
       "                    --jp-layout-color3: #383838;\n",
       "                }\n",
       "\n",
       "                .geemap-colab {\n",
       "                    background-color: var(--colab-primary-surface-color, white);\n",
       "                }\n",
       "\n",
       "                .geemap-colab .jupyter-button {\n",
       "                    --jp-layout-color3: var(--colab-primary-surface-color, white);\n",
       "                }\n",
       "            </style>\n",
       "            "
      ],
      "text/plain": [
       "<IPython.core.display.HTML object>"
      ]
     },
     "metadata": {},
     "output_type": "display_data"
    }
   ],
   "source": [
    "Seuil1_2015_postprocess=generate_seuil_for_years_postprocess(2015,GlacierThreshold_1)\n",
    "Seuil2_2015_postprocess=generate_seuil_for_years_postprocess(2015,GlacierThreshold_2)\n",
    "Seuil3_2015_postprocess=generate_seuil_for_years_postprocess(2015,GlacierThreshold_3)\n",
    "Seuil4_2015_postprocess=generate_seuil_for_years_postprocess(2015,GlacierThreshold_4)"
   ]
  },
  {
   "cell_type": "code",
   "execution_count": null,
   "id": "cbd4f540-7f90-4695-b97a-551615fa2a67",
   "metadata": {},
   "outputs": [],
   "source": []
  },
  {
   "cell_type": "markdown",
   "id": "7938a094-a918-4f9f-8d55-6b2948cce47b",
   "metadata": {},
   "source": [
    "# Threshold Evaluation"
   ]
  },
  {
   "cell_type": "code",
   "execution_count": 122,
   "id": "b764a7c5-9727-4027-a2c3-980724d37b43",
   "metadata": {},
   "outputs": [
    {
     "data": {
      "text/html": [
       "\n",
       "            <style>\n",
       "                .geemap-dark {\n",
       "                    --jp-widgets-color: white;\n",
       "                    --jp-widgets-label-color: white;\n",
       "                    --jp-ui-font-color1: white;\n",
       "                    --jp-layout-color2: #454545;\n",
       "                    background-color: #383838;\n",
       "                }\n",
       "\n",
       "                .geemap-dark .jupyter-button {\n",
       "                    --jp-layout-color3: #383838;\n",
       "                }\n",
       "\n",
       "                .geemap-colab {\n",
       "                    background-color: var(--colab-primary-surface-color, white);\n",
       "                }\n",
       "\n",
       "                .geemap-colab .jupyter-button {\n",
       "                    --jp-layout-color3: var(--colab-primary-surface-color, white);\n",
       "                }\n",
       "            </style>\n",
       "            "
      ],
      "text/plain": [
       "<IPython.core.display.HTML object>"
      ]
     },
     "metadata": {},
     "output_type": "display_data"
    },
    {
     "name": "stdout",
     "output_type": "stream",
     "text": [
      "\n",
      "Evaluation of thresholds for years 2000 and 2015 (Preprocessing and Postprocessing)\n",
      "year                                  2000                           2015  \\\n",
      "                            Commission (%) Completness (%) Commission (%)   \n",
      "Type           Thresh value                                                 \n",
      "Postprocessing 2                 31.826812       90.939819      39.685916   \n",
      "               3                 23.888594       87.974806      29.290709   \n",
      "               4                 18.895259       85.285866      22.937536   \n",
      "               6                 12.528180       80.454114      15.171473   \n",
      "Preprocessing  2                 21.817657       87.366301      12.480947   \n",
      "               3                 15.148200       83.379353       7.754557   \n",
      "               4                 11.634671       80.334356       5.646330   \n",
      "               6                  7.692562       75.302553       3.463613   \n",
      "\n",
      "year                                                  Mean                  \n",
      "                            Completness (%) Commission (%) Completness (%)  \n",
      "Type           Thresh value                                                 \n",
      "Postprocessing 2                  92.029881      35.756364       91.484850  \n",
      "               3                  89.372200      26.589652       88.673503  \n",
      "               4                  87.042710      20.916397       86.164288  \n",
      "               6                  82.647813      13.849826       81.550963  \n",
      "Preprocessing  2                  83.537223      17.149302       85.451762  \n",
      "               3                  79.092045      11.451379       81.235699  \n",
      "               4                  75.635440       8.640500       77.984898  \n",
      "               6                  70.079234       5.578088       72.690893  \n"
     ]
    }
   ],
   "source": [
    "# List of studied years\n",
    "years_studied = [2000, 2015]\n",
    "\n",
    "# ---- Threshold sets for preprocessing ----\n",
    "seuils_preprocess_2000 = [\n",
    "    (GlacierThreshold_1, Seuil1_2000_preprocess),\n",
    "    (GlacierThreshold_2, Seuil2_2000_preprocess),\n",
    "    (GlacierThreshold_3, Seuil3_2000_preprocess),\n",
    "    (GlacierThreshold_4, Seuil4_2000_preprocess)\n",
    "]\n",
    "\n",
    "seuils_preprocess_2015 = [\n",
    "    (GlacierThreshold_1, Seuil1_2015_preprocess),\n",
    "    (GlacierThreshold_2, Seuil2_2015_preprocess),\n",
    "    (GlacierThreshold_3, Seuil3_2015_preprocess),\n",
    "    (GlacierThreshold_4, Seuil4_2015_preprocess)\n",
    "]\n",
    "\n",
    "# ---- Threshold sets for postprocessing ----\n",
    "seuils_postprocess_2000 = [\n",
    "    (GlacierThreshold_1, Seuil1_2000_postprocess),\n",
    "    (GlacierThreshold_2, Seuil2_2000_postprocess),\n",
    "    (GlacierThreshold_3, Seuil3_2000_postprocess),\n",
    "    (GlacierThreshold_4, Seuil4_2000_postprocess)\n",
    "]\n",
    "\n",
    "seuils_postprocess_2015 = [\n",
    "    (GlacierThreshold_1, Seuil1_2015_postprocess),\n",
    "    (GlacierThreshold_2, Seuil2_2015_postprocess),\n",
    "    (GlacierThreshold_3, Seuil3_2015_postprocess),\n",
    "    (GlacierThreshold_4, Seuil4_2015_postprocess)\n",
    "]\n",
    "\n",
    "# Initialize list to store results\n",
    "results = []\n",
    "\n",
    "# --- Function to evaluate and collect accuracy metrics for each threshold ---\n",
    "def evaluation(year, seuils, rgi_geom, label_type):\n",
    "    for threshold_value, threshold_image in seuils:\n",
    "        commission_error, completude = glacier_accuracy( rgi_geom, threshold_image)\n",
    "        results.append({\n",
    "            \"year\": year,\n",
    "            \"Type\": label_type,\n",
    "            \"Thresh value\": threshold_value,\n",
    "            \"Commission (%)\": commission_error.getInfo(),\n",
    "            \"Completness (%)\": completude.getInfo()\n",
    "        })\n",
    "\n",
    "# Evaluate thresholds for each case\n",
    "evaluation(2000, seuils_preprocess_2000, RGI_2000_FR, \"Preprocessing\")\n",
    "evaluation(2000, seuils_postprocess_2000, RGI_2000_FR, \"Postprocessing\")\n",
    "evaluation(2015, seuils_preprocess_2015, RGI_2015_FR, \"Preprocessing\")\n",
    "evaluation(2015, seuils_postprocess_2015, RGI_2015_FR, \"Postprocessing\")\n",
    "\n",
    "# Create a flat DataFrame from the collected results\n",
    "df_flat = pd.DataFrame(results)\n",
    "\n",
    "# Pivot the DataFrame: index = (Type, Threshold), columns = Year\n",
    "df_pivot = df_flat.pivot(index=[\"Type\", \"Thresh value\"], columns=\"year\", values=[\"Commission (%)\", \"Completness (%)\"])\n",
    "\n",
    "# Reorganize columns to make the year the top-level index\n",
    "df_pivot = df_pivot.swaplevel(axis=1).sort_index(axis=1, level=0)\n",
    "\n",
    "# Compute average Commission and Completeness across years for each threshold\n",
    "df_moyennes = df_pivot.groupby(level=1, axis=1).mean()\n",
    "\n",
    "# Add 'Mean' columns to the DataFrame\n",
    "df_pivot[(\"Mean\", \"Commission (%)\")] = df_moyennes[\"Commission (%)\"]\n",
    "df_pivot[(\"Mean\", \"Completness (%)\")] = df_moyennes[\"Completness (%)\"]\n",
    "\n",
    "# Sort columns to place 'Mean' at the end\n",
    "df_pivot = df_pivot.sort_index(axis=1, level=0)\n",
    "\n",
    "# Final display\n",
    "print(\"\\nEvaluation of thresholds for years 2000 and 2015 (Preprocessing and Postprocessing)\")\n",
    "print(df_pivot)"
   ]
  },
  {
   "cell_type": "markdown",
   "id": "10181857-1e93-41f9-8407-d02fff66755b",
   "metadata": {},
   "source": [
    "\n",
    "---------------------------------------------"
   ]
  },
  {
   "cell_type": "code",
   "execution_count": 124,
   "id": "5c21c521-1ee1-44d9-a41c-168626f00883",
   "metadata": {},
   "outputs": [
    {
     "data": {
      "text/html": [
       "\n",
       "            <style>\n",
       "                .geemap-dark {\n",
       "                    --jp-widgets-color: white;\n",
       "                    --jp-widgets-label-color: white;\n",
       "                    --jp-ui-font-color1: white;\n",
       "                    --jp-layout-color2: #454545;\n",
       "                    background-color: #383838;\n",
       "                }\n",
       "\n",
       "                .geemap-dark .jupyter-button {\n",
       "                    --jp-layout-color3: #383838;\n",
       "                }\n",
       "\n",
       "                .geemap-colab {\n",
       "                    background-color: var(--colab-primary-surface-color, white);\n",
       "                }\n",
       "\n",
       "                .geemap-colab .jupyter-button {\n",
       "                    --jp-layout-color3: var(--colab-primary-surface-color, white);\n",
       "                }\n",
       "            </style>\n",
       "            "
      ],
      "text/plain": [
       "<IPython.core.display.HTML object>"
      ]
     },
     "metadata": {},
     "output_type": "display_data"
    },
    {
     "data": {
      "image/png": "[encoded data removed]",
      "text/plain": [
       "<Figure size 1000x700 with 1 Axes>"
      ]
     },
     "metadata": {},
     "output_type": "display_data"
    }
   ],
   "source": [
    "import matplotlib.pyplot as plt\n",
    "from matplotlib.lines import Line2D\n",
    "\n",
    "threshold_colors = {\n",
    "    GlacierThreshold_1: 'blue',\n",
    "    GlacierThreshold_2: 'orange',\n",
    "    GlacierThreshold_3: 'green',\n",
    "    GlacierThreshold_4: 'red',\n",
    "}\n",
    "\n",
    "df_preprocess = df_pivot.loc['Preprocessing', ('Mean',)]\n",
    "df_postprocess = df_pivot.loc['Postprocessing', ('Mean',)]\n",
    "\n",
    "fig, ax = plt.subplots(figsize=(10, 7))\n",
    "\n",
    "# Scatter plot Postprocessing\n",
    "for threshold in df_postprocess.index:\n",
    "    x = df_postprocess.loc[threshold, 'Commission (%)']\n",
    "    y = df_postprocess.loc[threshold, 'Completness (%)']\n",
    "    color = threshold_colors.get(threshold, 'black')\n",
    "    ax.scatter(x, y, color=color, marker='s', s=100, edgecolors='black')\n",
    "    ax.annotate(f\"{threshold}\", (x + 0.3, y + 0.3), fontsize=10, color=color)\n",
    "\n",
    "# Scatter plot Preprocessing\n",
    "for threshold in df_preprocess.index:\n",
    "    x = df_preprocess.loc[threshold, 'Commission (%)']\n",
    "    y = df_preprocess.loc[threshold, 'Completness (%)']\n",
    "    color = threshold_colors.get(threshold, 'black')\n",
    "    ax.scatter(x, y, color=color, marker='o', s=100, edgecolors='black')\n",
    "    ax.annotate(f\"{threshold}\", (x + 0.3, y + 0.3), fontsize=10, color=color)\n",
    "\n",
    "# Axes and grid\n",
    "ax.set_xlabel(\"Commission (%)\")\n",
    "ax.set_ylabel(\"Completness (%)\")\n",
    "ax.grid(True)\n",
    "\n",
    "# Legends\n",
    "mean_legend = [\n",
    "    Line2D([0], [0], marker='o', color='black', label='Mean Preprocessing', linestyle='None', markersize=8),\n",
    "    Line2D([0], [0], marker='s', color='black', label='Mean Postprocessing', linestyle='None', markersize=8),\n",
    "]\n",
    "\n",
    "threshold_legend = [\n",
    "    Line2D([0], [0], marker='o', color=color, linestyle='None', markersize=10, label=str(threshold))\n",
    "    for threshold, color in threshold_colors.items()\n",
    "]\n",
    "\n",
    "legend1 = ax.legend(handles=threshold_legend, loc='upper left', title=\"GBR Threshold Values\", frameon=True)\n",
    "ax.add_artist(legend1)\n",
    "ax.legend(handles=mean_legend, loc='lower right', frameon=True, fontsize=9)\n",
    "\n",
    "plt.tight_layout()\n",
    "plt.show()"
   ]
  },
  {
   "cell_type": "markdown",
   "id": "d1c2eda6-06d0-4c10-9824-cb95b55bb28f",
   "metadata": {},
   "source": [
    "Post Process only"
   ]
  },
  {
   "cell_type": "code",
   "execution_count": 127,
   "id": "f1d54c81-4a05-4d34-8ffc-bc0ec4339178",
   "metadata": {},
   "outputs": [
    {
     "data": {
      "text/html": [
       "\n",
       "            <style>\n",
       "                .geemap-dark {\n",
       "                    --jp-widgets-color: white;\n",
       "                    --jp-widgets-label-color: white;\n",
       "                    --jp-ui-font-color1: white;\n",
       "                    --jp-layout-color2: #454545;\n",
       "                    background-color: #383838;\n",
       "                }\n",
       "\n",
       "                .geemap-dark .jupyter-button {\n",
       "                    --jp-layout-color3: #383838;\n",
       "                }\n",
       "\n",
       "                .geemap-colab {\n",
       "                    background-color: var(--colab-primary-surface-color, white);\n",
       "                }\n",
       "\n",
       "                .geemap-colab .jupyter-button {\n",
       "                    --jp-layout-color3: var(--colab-primary-surface-color, white);\n",
       "                }\n",
       "            </style>\n",
       "            "
      ],
      "text/plain": [
       "<IPython.core.display.HTML object>"
      ]
     },
     "metadata": {},
     "output_type": "display_data"
    },
    {
     "data": {
      "image/png": "[encoded data removed]",
      "text/plain": [
       "<Figure size 1000x700 with 1 Axes>"
      ]
     },
     "metadata": {},
     "output_type": "display_data"
    }
   ],
   "source": [
    "import matplotlib.pyplot as plt\n",
    "from matplotlib.lines import Line2D\n",
    "\n",
    "# Color mapping for thresholds\n",
    "threshold_colors = {\n",
    "    GlacierThreshold_1: 'blue',\n",
    "    GlacierThreshold_2: 'orange',\n",
    "    GlacierThreshold_3: 'green',\n",
    "    GlacierThreshold_4: 'red',\n",
    "}\n",
    "\n",
    "# Extract mean postprocessing data\n",
    "df_postprocess = df_pivot.loc['Postprocessing', ('Mean',)]\n",
    "\n",
    "# Create figure\n",
    "fig, ax = plt.subplots(figsize=(10, 7))\n",
    "\n",
    "# Plot postprocessing points only\n",
    "for threshold in df_postprocess.index:\n",
    "    x = df_postprocess.loc[threshold, 'Commission (%)']\n",
    "    y = df_postprocess.loc[threshold, 'Completness (%)']\n",
    "    color = threshold_colors.get(threshold, 'black')\n",
    "    ax.scatter(x, y, color=color, marker='s', s=150, edgecolors='black')\n",
    "    ax.annotate(f\"{threshold}\", (x + 0.5, y + 0.5), fontsize=10, color=color)\n",
    "\n",
    "# Axes formatting\n",
    "ax.set_xlabel(\"Commission (%)\", fontsize=14)\n",
    "ax.set_ylabel(\"Completeness (%)\", fontsize=14)\n",
    "ax.grid(True)\n",
    "\n",
    "# Legend for thresholds\n",
    "threshold_legend = [\n",
    "    Line2D([0], [0], marker='s', color=color, linestyle='None', markersize=10, label=str(threshold))\n",
    "    for threshold, color in threshold_colors.items()\n",
    "]\n",
    "\n",
    "ax.legend(handles=threshold_legend, loc='upper left', title=\"GBR Threshold Values\", frameon=True, fontsize=10)\n",
    "\n",
    "plt.tight_layout()\n",
    "plt.show()"
   ]
  }
 ],
 "metadata": {
  "kernelspec": {
   "display_name": "Python 3 (ipykernel)",
   "language": "python",
   "name": "python3"
  },
  "language_info": {
   "codemirror_mode": {
    "name": "ipython",
    "version": 3
   },
   "file_extension": ".py",
   "mimetype": "text/x-python",
   "name": "python",
   "nbconvert_exporter": "python",
   "pygments_lexer": "ipython3",
   "version": "3.11.11"
  }
 },
 "nbformat": 4,
 "nbformat_minor": 5
}
